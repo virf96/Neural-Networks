{
  "nbformat": 4,
  "nbformat_minor": 5,
  "metadata": {
    "kernelspec": {
      "display_name": "Python 3",
      "language": "python",
      "name": "python3"
    },
    "language_info": {
      "codemirror_mode": {
        "name": "ipython",
        "version": 3
      },
      "file_extension": ".py",
      "mimetype": "text/x-python",
      "name": "python",
      "nbconvert_exporter": "python",
      "pygments_lexer": "ipython3",
      "version": "3.8.2"
    },
    "colab": {
      "name": "Redes Ejercicio 2 resuelto signs.ipynb",
      "provenance": [],
      "collapsed_sections": [],
      "include_colab_link": true
    }
  },
  "cells": [
    {
      "cell_type": "markdown",
      "metadata": {
        "id": "view-in-github",
        "colab_type": "text"
      },
      "source": [
        "<a href=\"https://colab.research.google.com/github/virf96/Neural-Networks/blob/main/Redes_Ejercicio_2_resuelto_signs.ipynb\" target=\"_parent\"><img src=\"https://colab.research.google.com/assets/colab-badge.svg\" alt=\"Open In Colab\"/></a>"
      ]
    },
    {
      "cell_type": "code",
      "metadata": {
        "id": "8d1f0489"
      },
      "source": [
        "import h5py\n",
        "import numpy as np\n",
        "import plotly.graph_objects as go\n",
        "import matplotlib.pyplot as plt"
      ],
      "id": "8d1f0489",
      "execution_count": null,
      "outputs": []
    },
    {
      "cell_type": "code",
      "metadata": {
        "colab": {
          "base_uri": "https://localhost:8080/"
        },
        "id": "4ubuK8FV8q28",
        "outputId": "2b4fa4f5-c44f-4f92-8a8d-a0640b99eb93"
      },
      "source": [
        "from google.colab import drive\n",
        "drive.mount('/content/drive')"
      ],
      "id": "4ubuK8FV8q28",
      "execution_count": null,
      "outputs": [
        {
          "output_type": "stream",
          "text": [
            "Mounted at /content/drive\n"
          ],
          "name": "stdout"
        }
      ]
    },
    {
      "cell_type": "code",
      "metadata": {
        "id": "66f63206"
      },
      "source": [
        "train = h5py.File(\"/content/drive/MyDrive/datasets/train_signs.h5\",\"r\")\n",
        "test= h5py.File(\"/content/drive/MyDrive/datasets/test_signs.h5\",\"r\")"
      ],
      "id": "66f63206",
      "execution_count": null,
      "outputs": []
    },
    {
      "cell_type": "code",
      "metadata": {
        "colab": {
          "base_uri": "https://localhost:8080/"
        },
        "id": "dad0692f",
        "outputId": "89f21f21-e24f-4061-ffd3-8e87f821dc16"
      },
      "source": [
        "train.keys()"
      ],
      "id": "dad0692f",
      "execution_count": null,
      "outputs": [
        {
          "output_type": "execute_result",
          "data": {
            "text/plain": [
              "<KeysViewHDF5 ['list_classes', 'train_set_x', 'train_set_y']>"
            ]
          },
          "metadata": {
            "tags": []
          },
          "execution_count": 4
        }
      ]
    },
    {
      "cell_type": "code",
      "metadata": {
        "id": "47a6f57e"
      },
      "source": [
        "xt = np.array(train['train_set_x'])\n",
        "yt = np.array(train['train_set_y'])\n",
        "xv = np.array(test['test_set_x'])\n",
        "yv = np.array(test['test_set_y'])"
      ],
      "id": "47a6f57e",
      "execution_count": null,
      "outputs": []
    },
    {
      "cell_type": "code",
      "metadata": {
        "colab": {
          "base_uri": "https://localhost:8080/"
        },
        "id": "91b05fc6",
        "outputId": "32c4a5b1-437d-4bf2-aa41-bbdf85cb1557"
      },
      "source": [
        "np.unique(yt) ## Clases del dataset"
      ],
      "id": "91b05fc6",
      "execution_count": null,
      "outputs": [
        {
          "output_type": "execute_result",
          "data": {
            "text/plain": [
              "array([0, 1, 2, 3, 4, 5])"
            ]
          },
          "metadata": {
            "tags": []
          },
          "execution_count": 6
        }
      ]
    },
    {
      "cell_type": "code",
      "metadata": {
        "colab": {
          "base_uri": "https://localhost:8080/",
          "height": 300
        },
        "id": "6685173c",
        "outputId": "3abd9a30-1ef0-459b-94c2-3dde6b9cbc61"
      },
      "source": [
        "index = 2\n",
        "print(yt[index])\n",
        "plt.imshow(xt[index])"
      ],
      "id": "6685173c",
      "execution_count": null,
      "outputs": [
        {
          "output_type": "stream",
          "text": [
            "2\n"
          ],
          "name": "stdout"
        },
        {
          "output_type": "execute_result",
          "data": {
            "text/plain": [
              "<matplotlib.image.AxesImage at 0x7f9574fc7e90>"
            ]
          },
          "metadata": {
            "tags": []
          },
          "execution_count": 7
        },
        {
          "output_type": "display_data",
          "data": {
            "image/png": "[encoded data removed]",
            "text/plain": [
              "<Figure size 432x288 with 1 Axes>"
            ]
          },
          "metadata": {
            "tags": [],
            "needs_background": "light"
          }
        }
      ]
    },
    {
      "cell_type": "markdown",
      "metadata": {
        "id": "c1f59165"
      },
      "source": [
        "### Pre-procesamiento"
      ],
      "id": "c1f59165"
    },
    {
      "cell_type": "code",
      "metadata": {
        "scrolled": true,
        "id": "3f4a8742"
      },
      "source": [
        "xt_es = xt/255\n",
        "xv_es = xv/255"
      ],
      "id": "3f4a8742",
      "execution_count": null,
      "outputs": []
    },
    {
      "cell_type": "code",
      "metadata": {
        "colab": {
          "base_uri": "https://localhost:8080/"
        },
        "id": "08da61f5",
        "outputId": "7469b179-3555-4f88-d7fa-6f3ec64c6c64"
      },
      "source": [
        "np.unique(yt)"
      ],
      "id": "08da61f5",
      "execution_count": null,
      "outputs": [
        {
          "output_type": "execute_result",
          "data": {
            "text/plain": [
              "array([0, 1, 2, 3, 4, 5])"
            ]
          },
          "metadata": {
            "tags": []
          },
          "execution_count": 9
        }
      ]
    },
    {
      "cell_type": "markdown",
      "metadata": {
        "id": "0c9dfdaa"
      },
      "source": [
        "#### One-Hot Encoding"
      ],
      "id": "0c9dfdaa"
    },
    {
      "cell_type": "code",
      "metadata": {
        "colab": {
          "base_uri": "https://localhost:8080/"
        },
        "id": "4a3b37b7",
        "outputId": "bf4e9a80-4fbc-423b-d46b-20e8a2bdea5f"
      },
      "source": [
        "yt"
      ],
      "id": "4a3b37b7",
      "execution_count": null,
      "outputs": [
        {
          "output_type": "execute_result",
          "data": {
            "text/plain": [
              "array([5, 0, 2, ..., 2, 4, 5])"
            ]
          },
          "metadata": {
            "tags": []
          },
          "execution_count": 10
        }
      ]
    },
    {
      "cell_type": "code",
      "metadata": {
        "id": "b00969d3"
      },
      "source": [
        "yt_OH = np.eye(6)[yt]\n",
        "yv_OH = np.eye(6)[yv]"
      ],
      "id": "b00969d3",
      "execution_count": null,
      "outputs": []
    },
    {
      "cell_type": "markdown",
      "metadata": {
        "id": "f5f9ef12"
      },
      "source": [
        "### CNN"
      ],
      "id": "f5f9ef12"
    },
    {
      "cell_type": "code",
      "metadata": {
        "id": "d360d2f6"
      },
      "source": [
        "from tensorflow.keras.models import Sequential\n",
        "from tensorflow.keras.layers import Conv2D, MaxPool2D, Flatten, Dense, InputLayer, Dropout\n",
        "from tensorflow.keras.optimizers import Adam\n",
        "from tensorflow.keras.losses import CategoricalCrossentropy\n",
        "from tensorflow.keras.regularizers import l2"
      ],
      "id": "d360d2f6",
      "execution_count": null,
      "outputs": []
    },
    {
      "cell_type": "code",
      "metadata": {
        "colab": {
          "base_uri": "https://localhost:8080/"
        },
        "id": "6ac1f438",
        "outputId": "6829d870-ae2f-4395-8fe4-dc47506b9e4d"
      },
      "source": [
        "xt_es.shape"
      ],
      "id": "6ac1f438",
      "execution_count": null,
      "outputs": [
        {
          "output_type": "execute_result",
          "data": {
            "text/plain": [
              "(1080, 64, 64, 3)"
            ]
          },
          "metadata": {
            "tags": []
          },
          "execution_count": 14
        }
      ]
    },
    {
      "cell_type": "code",
      "metadata": {
        "id": "63627a85"
      },
      "source": [
        "model = Sequential()\n",
        "model.add(InputLayer(input_shape=(64,64,3))) ## las dimensiones de la imagen, o las dimensiones de cada ejemplo\n",
        "model.add(Conv2D(filters= 8 , kernel_size=(3,3), padding=\"same\", activation = \"tanh\", name = \"conv1\"))\n",
        "model.add(MaxPool2D(pool_size=(2,2))) ## reducimos la imagen a la mitad de su tamaño \n",
        "model.add(Conv2D(filters= 16 , kernel_size=(3,3), padding=\"same\", activation = \"tanh\", name=\"conv2\" ))\n",
        "model.add(MaxPool2D(pool_size=(2,2))) ## reducimos la imagen a la mitad de su tamaño \n",
        "model.add(Conv2D(filters= 32 , kernel_size=(3,3), padding=\"same\", activation = \"tanh\" ,name=\"conv3\" ))\n",
        "model.add(MaxPool2D(pool_size=(2,2))) ## reducimos la imagen a la mitad de su tamaño\n",
        "model.add(Flatten()) ## convetimos un tensor de cualesquiera dimensiones a un vector \n",
        "model.add(Dropout(.3))\n",
        "model.add(Dense(units=128, activation =\"tanh\" ))\n",
        "model.add(Dropout(.3))\n",
        "model.add(Dense(units=64, activation =\"tanh\"))\n",
        "model.add(Dropout(.25))\n",
        "\n",
        "model.add(Dense(6, activation=\"softmax\")) ## capa de salida \n",
        "\n",
        "model.compile(loss=CategoricalCrossentropy(), optimizer=Adam(.001,), metrics= [\"accuracy\"])"
      ],
      "id": "63627a85",
      "execution_count": null,
      "outputs": []
    },
    {
      "cell_type": "code",
      "metadata": {
        "colab": {
          "base_uri": "https://localhost:8080/"
        },
        "id": "OAglo3lz9Lpk",
        "outputId": "857a8017-3435-4bff-995f-a935b2f2f680"
      },
      "source": [
        "model.layers"
      ],
      "id": "OAglo3lz9Lpk",
      "execution_count": null,
      "outputs": [
        {
          "output_type": "execute_result",
          "data": {
            "text/plain": [
              "[<tensorflow.python.keras.layers.convolutional.Conv2D at 0x7f9536072cd0>,\n",
              " <tensorflow.python.keras.layers.pooling.MaxPooling2D at 0x7f95320c63d0>,\n",
              " <tensorflow.python.keras.layers.convolutional.Conv2D at 0x7f953caeb610>,\n",
              " <tensorflow.python.keras.layers.pooling.MaxPooling2D at 0x7f9532018610>,\n",
              " <tensorflow.python.keras.layers.convolutional.Conv2D at 0x7f953202a190>,\n",
              " <tensorflow.python.keras.layers.pooling.MaxPooling2D at 0x7f9532026fd0>,\n",
              " <tensorflow.python.keras.layers.core.Flatten at 0x7f9532018350>,\n",
              " <tensorflow.python.keras.layers.core.Dropout at 0x7f9532033a50>,\n",
              " <tensorflow.python.keras.layers.core.Dense at 0x7f95320207d0>,\n",
              " <tensorflow.python.keras.layers.core.Dropout at 0x7f95357ff590>,\n",
              " <tensorflow.python.keras.layers.core.Dense at 0x7f9532072290>,\n",
              " <tensorflow.python.keras.layers.core.Dropout at 0x7f953606c290>,\n",
              " <tensorflow.python.keras.layers.core.Dense at 0x7f9532031d90>]"
            ]
          },
          "metadata": {
            "tags": []
          },
          "execution_count": 17
        }
      ]
    },
    {
      "cell_type": "code",
      "metadata": {
        "colab": {
          "base_uri": "https://localhost:8080/"
        },
        "id": "e90af294",
        "outputId": "44551efe-be4a-4f1e-c00e-0ca8cd172919"
      },
      "source": [
        "model.summary()"
      ],
      "id": "e90af294",
      "execution_count": null,
      "outputs": [
        {
          "output_type": "stream",
          "text": [
            "Model: \"sequential\"\n",
            "_________________________________________________________________\n",
            "Layer (type)                 Output Shape              Param #   \n",
            "=================================================================\n",
            "conv1 (Conv2D)               (None, 64, 64, 8)         224       \n",
            "_________________________________________________________________\n",
            "max_pooling2d (MaxPooling2D) (None, 32, 32, 8)         0         \n",
            "_________________________________________________________________\n",
            "conv2 (Conv2D)               (None, 32, 32, 16)        1168      \n",
            "_________________________________________________________________\n",
            "max_pooling2d_1 (MaxPooling2 (None, 16, 16, 16)        0         \n",
            "_________________________________________________________________\n",
            "conv3 (Conv2D)               (None, 16, 16, 32)        4640      \n",
            "_________________________________________________________________\n",
            "max_pooling2d_2 (MaxPooling2 (None, 8, 8, 32)          0         \n",
            "_________________________________________________________________\n",
            "flatten (Flatten)            (None, 2048)              0         \n",
            "_________________________________________________________________\n",
            "dropout (Dropout)            (None, 2048)              0         \n",
            "_________________________________________________________________\n",
            "dense (Dense)                (None, 128)               262272    \n",
            "_________________________________________________________________\n",
            "dropout_1 (Dropout)          (None, 128)               0         \n",
            "_________________________________________________________________\n",
            "dense_1 (Dense)              (None, 64)                8256      \n",
            "_________________________________________________________________\n",
            "dropout_2 (Dropout)          (None, 64)                0         \n",
            "_________________________________________________________________\n",
            "dense_2 (Dense)              (None, 6)                 390       \n",
            "=================================================================\n",
            "Total params: 276,950\n",
            "Trainable params: 276,950\n",
            "Non-trainable params: 0\n",
            "_________________________________________________________________\n"
          ],
          "name": "stdout"
        }
      ]
    },
    {
      "cell_type": "markdown",
      "metadata": {
        "id": "8b7b4b4b"
      },
      "source": [
        "#### Numero de parametros por capa"
      ],
      "id": "8b7b4b4b"
    },
    {
      "cell_type": "markdown",
      "metadata": {
        "id": "c673d85b"
      },
      "source": [
        "1.conv1(f=8, k=(3,3)) = 3x3x3x8 + 8  = 224\\\n",
        "2. conv2(f=16, k=(3,3)) = 3x3x8x16 + 16 = 1168 \\\n",
        "3. Conv2(f=32, k=(3,3)) = 3x3x16x32 + 32 =  4640   \\\n",
        "\\\n",
        "4. Flatten((8,8,32)) = 8x8x32 = 2048 Es el tamaño del vector \\\n",
        "5. Dense(128) = 2048x128 + 128 = 262272  \\\n",
        "6. Dense(64) = 128x64 + 64 = 8256 \\\n",
        "7. Dense(6) 64x6+ 6 = 390\n"
      ],
      "id": "c673d85b"
    },
    {
      "cell_type": "code",
      "metadata": {
        "colab": {
          "base_uri": "https://localhost:8080/"
        },
        "id": "0e075569",
        "outputId": "9256be0a-80bf-412d-c0c7-5faf8bad4e02"
      },
      "source": [
        "xt.shape"
      ],
      "id": "0e075569",
      "execution_count": null,
      "outputs": [
        {
          "output_type": "execute_result",
          "data": {
            "text/plain": [
              "(1080, 64, 64, 3)"
            ]
          },
          "metadata": {
            "tags": []
          },
          "execution_count": 19
        }
      ]
    },
    {
      "cell_type": "code",
      "metadata": {
        "scrolled": true,
        "colab": {
          "base_uri": "https://localhost:8080/"
        },
        "id": "c2f18372",
        "outputId": "7b07e6ef-7239-479c-f279-f05063bdfa44"
      },
      "source": [
        "history = model.fit(xt_es,yt_OH, epochs= 300, batch_size = 256, validation_data=(xv_es,yv_OH))"
      ],
      "id": "c2f18372",
      "execution_count": null,
      "outputs": [
        {
          "output_type": "stream",
          "text": [
            "Epoch 1/300\n",
            "5/5 [==============================] - 4s 523ms/step - loss: 2.0606 - accuracy: 0.1852 - val_loss: 1.9227 - val_accuracy: 0.1667\n",
            "Epoch 2/300\n",
            "5/5 [==============================] - 2s 471ms/step - loss: 1.8743 - accuracy: 0.2074 - val_loss: 1.7448 - val_accuracy: 0.3500\n",
            "Epoch 3/300\n",
            "5/5 [==============================] - 2s 472ms/step - loss: 1.7227 - accuracy: 0.2556 - val_loss: 1.6921 - val_accuracy: 0.2000\n",
            "Epoch 4/300\n",
            "5/5 [==============================] - 3s 490ms/step - loss: 1.6176 - accuracy: 0.3343 - val_loss: 1.5599 - val_accuracy: 0.3500\n",
            "Epoch 5/300\n",
            "5/5 [==============================] - 3s 470ms/step - loss: 1.5085 - accuracy: 0.4407 - val_loss: 1.4287 - val_accuracy: 0.4917\n",
            "Epoch 6/300\n",
            "5/5 [==============================] - 2s 469ms/step - loss: 1.3706 - accuracy: 0.5231 - val_loss: 1.3003 - val_accuracy: 0.5667\n",
            "Epoch 7/300\n",
            "5/5 [==============================] - 2s 477ms/step - loss: 1.2517 - accuracy: 0.5769 - val_loss: 1.1809 - val_accuracy: 0.6417\n",
            "Epoch 8/300\n",
            "5/5 [==============================] - 2s 472ms/step - loss: 1.1497 - accuracy: 0.5833 - val_loss: 1.1012 - val_accuracy: 0.6333\n",
            "Epoch 9/300\n",
            "5/5 [==============================] - 2s 470ms/step - loss: 1.0617 - accuracy: 0.6343 - val_loss: 1.1807 - val_accuracy: 0.5750\n",
            "Epoch 10/300\n",
            "5/5 [==============================] - 2s 471ms/step - loss: 1.0752 - accuracy: 0.6019 - val_loss: 0.9828 - val_accuracy: 0.6500\n",
            "Epoch 11/300\n",
            "5/5 [==============================] - 2s 467ms/step - loss: 0.9487 - accuracy: 0.6870 - val_loss: 0.8735 - val_accuracy: 0.7333\n",
            "Epoch 12/300\n",
            "5/5 [==============================] - 2s 469ms/step - loss: 0.8807 - accuracy: 0.7093 - val_loss: 0.8183 - val_accuracy: 0.7833\n",
            "Epoch 13/300\n",
            "5/5 [==============================] - 2s 474ms/step - loss: 0.8409 - accuracy: 0.7222 - val_loss: 0.7649 - val_accuracy: 0.7750\n",
            "Epoch 14/300\n",
            "5/5 [==============================] - 2s 471ms/step - loss: 0.7617 - accuracy: 0.7509 - val_loss: 0.7124 - val_accuracy: 0.7750\n",
            "Epoch 15/300\n",
            "5/5 [==============================] - 2s 470ms/step - loss: 0.7020 - accuracy: 0.7815 - val_loss: 0.6524 - val_accuracy: 0.8250\n",
            "Epoch 16/300\n",
            "5/5 [==============================] - 2s 467ms/step - loss: 0.6651 - accuracy: 0.7991 - val_loss: 0.6314 - val_accuracy: 0.8083\n",
            "Epoch 17/300\n",
            "5/5 [==============================] - 2s 474ms/step - loss: 0.6380 - accuracy: 0.7963 - val_loss: 0.5785 - val_accuracy: 0.8083\n",
            "Epoch 18/300\n",
            "5/5 [==============================] - 2s 474ms/step - loss: 0.6007 - accuracy: 0.8102 - val_loss: 0.5756 - val_accuracy: 0.8167\n",
            "Epoch 19/300\n",
            "5/5 [==============================] - 2s 473ms/step - loss: 0.5575 - accuracy: 0.8296 - val_loss: 0.5320 - val_accuracy: 0.8333\n",
            "Epoch 20/300\n",
            "5/5 [==============================] - 2s 471ms/step - loss: 0.5380 - accuracy: 0.8343 - val_loss: 0.5224 - val_accuracy: 0.8583\n",
            "Epoch 21/300\n",
            "5/5 [==============================] - 2s 475ms/step - loss: 0.5028 - accuracy: 0.8500 - val_loss: 0.5216 - val_accuracy: 0.8083\n",
            "Epoch 22/300\n",
            "5/5 [==============================] - 2s 468ms/step - loss: 0.5134 - accuracy: 0.8306 - val_loss: 0.4769 - val_accuracy: 0.8500\n",
            "Epoch 23/300\n",
            "5/5 [==============================] - 2s 470ms/step - loss: 0.4849 - accuracy: 0.8454 - val_loss: 0.5071 - val_accuracy: 0.8500\n",
            "Epoch 24/300\n",
            "5/5 [==============================] - 2s 470ms/step - loss: 0.4386 - accuracy: 0.8657 - val_loss: 0.4843 - val_accuracy: 0.8083\n",
            "Epoch 25/300\n",
            "5/5 [==============================] - 2s 472ms/step - loss: 0.4396 - accuracy: 0.8537 - val_loss: 0.4145 - val_accuracy: 0.8750\n",
            "Epoch 26/300\n",
            "5/5 [==============================] - 2s 473ms/step - loss: 0.3986 - accuracy: 0.8787 - val_loss: 0.3983 - val_accuracy: 0.8667\n",
            "Epoch 27/300\n",
            "5/5 [==============================] - 2s 471ms/step - loss: 0.3710 - accuracy: 0.8917 - val_loss: 0.3769 - val_accuracy: 0.8917\n",
            "Epoch 28/300\n",
            "5/5 [==============================] - 2s 469ms/step - loss: 0.3536 - accuracy: 0.9028 - val_loss: 0.3801 - val_accuracy: 0.8583\n",
            "Epoch 29/300\n",
            "5/5 [==============================] - 2s 464ms/step - loss: 0.3473 - accuracy: 0.8843 - val_loss: 0.3945 - val_accuracy: 0.8667\n",
            "Epoch 30/300\n",
            "5/5 [==============================] - 2s 474ms/step - loss: 0.3699 - accuracy: 0.8806 - val_loss: 0.3715 - val_accuracy: 0.8917\n",
            "Epoch 31/300\n",
            "5/5 [==============================] - 2s 471ms/step - loss: 0.3405 - accuracy: 0.8852 - val_loss: 0.3314 - val_accuracy: 0.8917\n",
            "Epoch 32/300\n",
            "5/5 [==============================] - 2s 471ms/step - loss: 0.3146 - accuracy: 0.8981 - val_loss: 0.3396 - val_accuracy: 0.8667\n",
            "Epoch 33/300\n",
            "5/5 [==============================] - 2s 472ms/step - loss: 0.3310 - accuracy: 0.8963 - val_loss: 0.3102 - val_accuracy: 0.9167\n",
            "Epoch 34/300\n",
            "5/5 [==============================] - 2s 471ms/step - loss: 0.3166 - accuracy: 0.8972 - val_loss: 0.3153 - val_accuracy: 0.9083\n",
            "Epoch 35/300\n",
            "5/5 [==============================] - 2s 478ms/step - loss: 0.2864 - accuracy: 0.9065 - val_loss: 0.3287 - val_accuracy: 0.8833\n",
            "Epoch 36/300\n",
            "5/5 [==============================] - 2s 471ms/step - loss: 0.2659 - accuracy: 0.9204 - val_loss: 0.2952 - val_accuracy: 0.9333\n",
            "Epoch 37/300\n",
            "5/5 [==============================] - 2s 472ms/step - loss: 0.2716 - accuracy: 0.9167 - val_loss: 0.2913 - val_accuracy: 0.9167\n",
            "Epoch 38/300\n",
            "5/5 [==============================] - 2s 471ms/step - loss: 0.2524 - accuracy: 0.9241 - val_loss: 0.2788 - val_accuracy: 0.9000\n",
            "Epoch 39/300\n",
            "5/5 [==============================] - 2s 471ms/step - loss: 0.2431 - accuracy: 0.9194 - val_loss: 0.2503 - val_accuracy: 0.9250\n",
            "Epoch 40/300\n",
            "5/5 [==============================] - 2s 477ms/step - loss: 0.2351 - accuracy: 0.9259 - val_loss: 0.2597 - val_accuracy: 0.9083\n",
            "Epoch 41/300\n",
            "5/5 [==============================] - 2s 474ms/step - loss: 0.2555 - accuracy: 0.9139 - val_loss: 0.2606 - val_accuracy: 0.9167\n",
            "Epoch 42/300\n",
            "5/5 [==============================] - 2s 470ms/step - loss: 0.2308 - accuracy: 0.9241 - val_loss: 0.2553 - val_accuracy: 0.9167\n",
            "Epoch 43/300\n",
            "5/5 [==============================] - 2s 470ms/step - loss: 0.1918 - accuracy: 0.9370 - val_loss: 0.2408 - val_accuracy: 0.9250\n",
            "Epoch 44/300\n",
            "5/5 [==============================] - 2s 476ms/step - loss: 0.1960 - accuracy: 0.9444 - val_loss: 0.2496 - val_accuracy: 0.9250\n",
            "Epoch 45/300\n",
            "5/5 [==============================] - 2s 476ms/step - loss: 0.2125 - accuracy: 0.9269 - val_loss: 0.2011 - val_accuracy: 0.9333\n",
            "Epoch 46/300\n",
            "5/5 [==============================] - 2s 470ms/step - loss: 0.1848 - accuracy: 0.9426 - val_loss: 0.2206 - val_accuracy: 0.9333\n",
            "Epoch 47/300\n",
            "5/5 [==============================] - 2s 477ms/step - loss: 0.1762 - accuracy: 0.9444 - val_loss: 0.2505 - val_accuracy: 0.9167\n",
            "Epoch 48/300\n",
            "5/5 [==============================] - 2s 474ms/step - loss: 0.1801 - accuracy: 0.9509 - val_loss: 0.1990 - val_accuracy: 0.9417\n",
            "Epoch 49/300\n",
            "5/5 [==============================] - 2s 472ms/step - loss: 0.1597 - accuracy: 0.9519 - val_loss: 0.2055 - val_accuracy: 0.9500\n",
            "Epoch 50/300\n",
            "5/5 [==============================] - 2s 479ms/step - loss: 0.1567 - accuracy: 0.9583 - val_loss: 0.1889 - val_accuracy: 0.9333\n",
            "Epoch 51/300\n",
            "5/5 [==============================] - 2s 470ms/step - loss: 0.1669 - accuracy: 0.9491 - val_loss: 0.1958 - val_accuracy: 0.9500\n",
            "Epoch 52/300\n",
            "5/5 [==============================] - 2s 474ms/step - loss: 0.1445 - accuracy: 0.9583 - val_loss: 0.1837 - val_accuracy: 0.9417\n",
            "Epoch 53/300\n",
            "5/5 [==============================] - 2s 476ms/step - loss: 0.1514 - accuracy: 0.9509 - val_loss: 0.1878 - val_accuracy: 0.9583\n",
            "Epoch 54/300\n",
            "5/5 [==============================] - 2s 472ms/step - loss: 0.1323 - accuracy: 0.9583 - val_loss: 0.1669 - val_accuracy: 0.9417\n",
            "Epoch 55/300\n",
            "5/5 [==============================] - 2s 478ms/step - loss: 0.1318 - accuracy: 0.9602 - val_loss: 0.1810 - val_accuracy: 0.9583\n",
            "Epoch 56/300\n",
            "5/5 [==============================] - 2s 470ms/step - loss: 0.1259 - accuracy: 0.9602 - val_loss: 0.2106 - val_accuracy: 0.9500\n",
            "Epoch 57/300\n",
            "5/5 [==============================] - 2s 480ms/step - loss: 0.1239 - accuracy: 0.9685 - val_loss: 0.2029 - val_accuracy: 0.9167\n",
            "Epoch 58/300\n",
            "5/5 [==============================] - 2s 473ms/step - loss: 0.1212 - accuracy: 0.9639 - val_loss: 0.2136 - val_accuracy: 0.9333\n",
            "Epoch 59/300\n",
            "5/5 [==============================] - 2s 474ms/step - loss: 0.1064 - accuracy: 0.9694 - val_loss: 0.1969 - val_accuracy: 0.9333\n",
            "Epoch 60/300\n",
            "5/5 [==============================] - 2s 470ms/step - loss: 0.1288 - accuracy: 0.9657 - val_loss: 0.1643 - val_accuracy: 0.9417\n",
            "Epoch 61/300\n",
            "5/5 [==============================] - 2s 470ms/step - loss: 0.1144 - accuracy: 0.9694 - val_loss: 0.1868 - val_accuracy: 0.9500\n",
            "Epoch 62/300\n",
            "5/5 [==============================] - 2s 467ms/step - loss: 0.1069 - accuracy: 0.9685 - val_loss: 0.1598 - val_accuracy: 0.9750\n",
            "Epoch 63/300\n",
            "5/5 [==============================] - 2s 473ms/step - loss: 0.1089 - accuracy: 0.9648 - val_loss: 0.1846 - val_accuracy: 0.9500\n",
            "Epoch 64/300\n",
            "5/5 [==============================] - 2s 473ms/step - loss: 0.1212 - accuracy: 0.9593 - val_loss: 0.1578 - val_accuracy: 0.9500\n",
            "Epoch 65/300\n",
            "5/5 [==============================] - 2s 471ms/step - loss: 0.1091 - accuracy: 0.9713 - val_loss: 0.1793 - val_accuracy: 0.9500\n",
            "Epoch 66/300\n",
            "5/5 [==============================] - 2s 469ms/step - loss: 0.0912 - accuracy: 0.9741 - val_loss: 0.1900 - val_accuracy: 0.9333\n",
            "Epoch 67/300\n",
            "5/5 [==============================] - 2s 471ms/step - loss: 0.0967 - accuracy: 0.9722 - val_loss: 0.1591 - val_accuracy: 0.9583\n",
            "Epoch 68/300\n",
            "5/5 [==============================] - 2s 476ms/step - loss: 0.1022 - accuracy: 0.9722 - val_loss: 0.1562 - val_accuracy: 0.9583\n",
            "Epoch 69/300\n",
            "5/5 [==============================] - 2s 471ms/step - loss: 0.1015 - accuracy: 0.9694 - val_loss: 0.1687 - val_accuracy: 0.9667\n",
            "Epoch 70/300\n",
            "5/5 [==============================] - 2s 475ms/step - loss: 0.0906 - accuracy: 0.9722 - val_loss: 0.1384 - val_accuracy: 0.9667\n",
            "Epoch 71/300\n",
            "5/5 [==============================] - 2s 470ms/step - loss: 0.0900 - accuracy: 0.9750 - val_loss: 0.1774 - val_accuracy: 0.9500\n",
            "Epoch 72/300\n",
            "5/5 [==============================] - 2s 471ms/step - loss: 0.0873 - accuracy: 0.9759 - val_loss: 0.1388 - val_accuracy: 0.9667\n",
            "Epoch 73/300\n",
            "5/5 [==============================] - 2s 478ms/step - loss: 0.0875 - accuracy: 0.9778 - val_loss: 0.1434 - val_accuracy: 0.9583\n",
            "Epoch 74/300\n",
            "5/5 [==============================] - 2s 475ms/step - loss: 0.0705 - accuracy: 0.9815 - val_loss: 0.1758 - val_accuracy: 0.9500\n",
            "Epoch 75/300\n",
            "5/5 [==============================] - 2s 477ms/step - loss: 0.0950 - accuracy: 0.9694 - val_loss: 0.1522 - val_accuracy: 0.9583\n",
            "Epoch 76/300\n",
            "5/5 [==============================] - 2s 478ms/step - loss: 0.0815 - accuracy: 0.9824 - val_loss: 0.1691 - val_accuracy: 0.9500\n",
            "Epoch 77/300\n",
            "5/5 [==============================] - 2s 477ms/step - loss: 0.0778 - accuracy: 0.9787 - val_loss: 0.1724 - val_accuracy: 0.9583\n",
            "Epoch 78/300\n",
            "5/5 [==============================] - 2s 474ms/step - loss: 0.0721 - accuracy: 0.9778 - val_loss: 0.1537 - val_accuracy: 0.9500\n",
            "Epoch 79/300\n",
            "5/5 [==============================] - 2s 475ms/step - loss: 0.0678 - accuracy: 0.9833 - val_loss: 0.1567 - val_accuracy: 0.9500\n",
            "Epoch 80/300\n",
            "5/5 [==============================] - 2s 473ms/step - loss: 0.0683 - accuracy: 0.9852 - val_loss: 0.1425 - val_accuracy: 0.9500\n",
            "Epoch 81/300\n",
            "5/5 [==============================] - 2s 474ms/step - loss: 0.0639 - accuracy: 0.9843 - val_loss: 0.1623 - val_accuracy: 0.9583\n",
            "Epoch 82/300\n",
            "5/5 [==============================] - 2s 475ms/step - loss: 0.0629 - accuracy: 0.9833 - val_loss: 0.1448 - val_accuracy: 0.9667\n",
            "Epoch 83/300\n",
            "5/5 [==============================] - 2s 469ms/step - loss: 0.0515 - accuracy: 0.9907 - val_loss: 0.1309 - val_accuracy: 0.9583\n",
            "Epoch 84/300\n",
            "5/5 [==============================] - 2s 472ms/step - loss: 0.0635 - accuracy: 0.9815 - val_loss: 0.1252 - val_accuracy: 0.9667\n",
            "Epoch 85/300\n",
            "5/5 [==============================] - 2s 469ms/step - loss: 0.0717 - accuracy: 0.9806 - val_loss: 0.1338 - val_accuracy: 0.9583\n",
            "Epoch 86/300\n",
            "5/5 [==============================] - 2s 470ms/step - loss: 0.0729 - accuracy: 0.9806 - val_loss: 0.1645 - val_accuracy: 0.9500\n",
            "Epoch 87/300\n",
            "5/5 [==============================] - 2s 472ms/step - loss: 0.0635 - accuracy: 0.9815 - val_loss: 0.1416 - val_accuracy: 0.9583\n",
            "Epoch 88/300\n",
            "5/5 [==============================] - 2s 472ms/step - loss: 0.0548 - accuracy: 0.9870 - val_loss: 0.1228 - val_accuracy: 0.9667\n",
            "Epoch 89/300\n",
            "5/5 [==============================] - 2s 475ms/step - loss: 0.0586 - accuracy: 0.9824 - val_loss: 0.1478 - val_accuracy: 0.9667\n",
            "Epoch 90/300\n",
            "5/5 [==============================] - 2s 473ms/step - loss: 0.0577 - accuracy: 0.9889 - val_loss: 0.1413 - val_accuracy: 0.9583\n",
            "Epoch 91/300\n",
            "5/5 [==============================] - 2s 471ms/step - loss: 0.0565 - accuracy: 0.9833 - val_loss: 0.1263 - val_accuracy: 0.9667\n",
            "Epoch 92/300\n",
            "5/5 [==============================] - 2s 473ms/step - loss: 0.0451 - accuracy: 0.9907 - val_loss: 0.1402 - val_accuracy: 0.9667\n",
            "Epoch 93/300\n",
            "5/5 [==============================] - 2s 477ms/step - loss: 0.0579 - accuracy: 0.9824 - val_loss: 0.1601 - val_accuracy: 0.9667\n",
            "Epoch 94/300\n",
            "5/5 [==============================] - 2s 474ms/step - loss: 0.0640 - accuracy: 0.9833 - val_loss: 0.1554 - val_accuracy: 0.9500\n",
            "Epoch 95/300\n",
            "5/5 [==============================] - 2s 472ms/step - loss: 0.0569 - accuracy: 0.9843 - val_loss: 0.1110 - val_accuracy: 0.9583\n",
            "Epoch 96/300\n",
            "5/5 [==============================] - 2s 476ms/step - loss: 0.0588 - accuracy: 0.9815 - val_loss: 0.1155 - val_accuracy: 0.9750\n",
            "Epoch 97/300\n",
            "5/5 [==============================] - 2s 475ms/step - loss: 0.0483 - accuracy: 0.9870 - val_loss: 0.1280 - val_accuracy: 0.9667\n",
            "Epoch 98/300\n",
            "5/5 [==============================] - 2s 473ms/step - loss: 0.0528 - accuracy: 0.9852 - val_loss: 0.1460 - val_accuracy: 0.9583\n",
            "Epoch 99/300\n",
            "5/5 [==============================] - 2s 471ms/step - loss: 0.0426 - accuracy: 0.9926 - val_loss: 0.1858 - val_accuracy: 0.9417\n",
            "Epoch 100/300\n",
            "5/5 [==============================] - 2s 474ms/step - loss: 0.0564 - accuracy: 0.9824 - val_loss: 0.1727 - val_accuracy: 0.9417\n",
            "Epoch 101/300\n",
            "5/5 [==============================] - 2s 472ms/step - loss: 0.0575 - accuracy: 0.9824 - val_loss: 0.1284 - val_accuracy: 0.9500\n",
            "Epoch 102/300\n",
            "5/5 [==============================] - 2s 475ms/step - loss: 0.0518 - accuracy: 0.9843 - val_loss: 0.1688 - val_accuracy: 0.9583\n",
            "Epoch 103/300\n",
            "5/5 [==============================] - 2s 475ms/step - loss: 0.0508 - accuracy: 0.9833 - val_loss: 0.1486 - val_accuracy: 0.9583\n",
            "Epoch 104/300\n",
            "5/5 [==============================] - 2s 472ms/step - loss: 0.0476 - accuracy: 0.9852 - val_loss: 0.1803 - val_accuracy: 0.9500\n",
            "Epoch 105/300\n",
            "5/5 [==============================] - 2s 473ms/step - loss: 0.0390 - accuracy: 0.9917 - val_loss: 0.1195 - val_accuracy: 0.9667\n",
            "Epoch 106/300\n",
            "5/5 [==============================] - 2s 475ms/step - loss: 0.0356 - accuracy: 0.9944 - val_loss: 0.1509 - val_accuracy: 0.9500\n",
            "Epoch 107/300\n",
            "5/5 [==============================] - 2s 470ms/step - loss: 0.0302 - accuracy: 0.9954 - val_loss: 0.1278 - val_accuracy: 0.9500\n",
            "Epoch 108/300\n",
            "5/5 [==============================] - 2s 474ms/step - loss: 0.0351 - accuracy: 0.9935 - val_loss: 0.1089 - val_accuracy: 0.9583\n",
            "Epoch 109/300\n",
            "5/5 [==============================] - 2s 470ms/step - loss: 0.0301 - accuracy: 0.9935 - val_loss: 0.1169 - val_accuracy: 0.9583\n",
            "Epoch 110/300\n",
            "5/5 [==============================] - 2s 476ms/step - loss: 0.0337 - accuracy: 0.9917 - val_loss: 0.1684 - val_accuracy: 0.9500\n",
            "Epoch 111/300\n",
            "5/5 [==============================] - 2s 471ms/step - loss: 0.0470 - accuracy: 0.9843 - val_loss: 0.1347 - val_accuracy: 0.9667\n",
            "Epoch 112/300\n",
            "5/5 [==============================] - 2s 475ms/step - loss: 0.0333 - accuracy: 0.9935 - val_loss: 0.1382 - val_accuracy: 0.9583\n",
            "Epoch 113/300\n",
            "5/5 [==============================] - 2s 473ms/step - loss: 0.0315 - accuracy: 0.9926 - val_loss: 0.1630 - val_accuracy: 0.9417\n",
            "Epoch 114/300\n",
            "5/5 [==============================] - 2s 474ms/step - loss: 0.0325 - accuracy: 0.9944 - val_loss: 0.1717 - val_accuracy: 0.9500\n",
            "Epoch 115/300\n",
            "5/5 [==============================] - 2s 471ms/step - loss: 0.0364 - accuracy: 0.9907 - val_loss: 0.1165 - val_accuracy: 0.9583\n",
            "Epoch 116/300\n",
            "5/5 [==============================] - 2s 474ms/step - loss: 0.0427 - accuracy: 0.9843 - val_loss: 0.1276 - val_accuracy: 0.9583\n",
            "Epoch 117/300\n",
            "5/5 [==============================] - 2s 474ms/step - loss: 0.0377 - accuracy: 0.9852 - val_loss: 0.1781 - val_accuracy: 0.9417\n",
            "Epoch 118/300\n",
            "5/5 [==============================] - 2s 470ms/step - loss: 0.0386 - accuracy: 0.9907 - val_loss: 0.1252 - val_accuracy: 0.9583\n",
            "Epoch 119/300\n",
            "5/5 [==============================] - 2s 473ms/step - loss: 0.0333 - accuracy: 0.9935 - val_loss: 0.1077 - val_accuracy: 0.9750\n",
            "Epoch 120/300\n",
            "5/5 [==============================] - 2s 474ms/step - loss: 0.0262 - accuracy: 0.9963 - val_loss: 0.1515 - val_accuracy: 0.9500\n",
            "Epoch 121/300\n",
            "5/5 [==============================] - 2s 475ms/step - loss: 0.0303 - accuracy: 0.9926 - val_loss: 0.1526 - val_accuracy: 0.9500\n",
            "Epoch 122/300\n",
            "5/5 [==============================] - 2s 476ms/step - loss: 0.0296 - accuracy: 0.9889 - val_loss: 0.1555 - val_accuracy: 0.9500\n",
            "Epoch 123/300\n",
            "5/5 [==============================] - 2s 471ms/step - loss: 0.0290 - accuracy: 0.9926 - val_loss: 0.1518 - val_accuracy: 0.9583\n",
            "Epoch 124/300\n",
            "5/5 [==============================] - 2s 473ms/step - loss: 0.0228 - accuracy: 0.9963 - val_loss: 0.1536 - val_accuracy: 0.9417\n",
            "Epoch 125/300\n",
            "5/5 [==============================] - 2s 472ms/step - loss: 0.0264 - accuracy: 0.9963 - val_loss: 0.1466 - val_accuracy: 0.9417\n",
            "Epoch 126/300\n",
            "5/5 [==============================] - 2s 474ms/step - loss: 0.0273 - accuracy: 0.9926 - val_loss: 0.1024 - val_accuracy: 0.9667\n",
            "Epoch 127/300\n",
            "5/5 [==============================] - 2s 475ms/step - loss: 0.0216 - accuracy: 0.9972 - val_loss: 0.1437 - val_accuracy: 0.9583\n",
            "Epoch 128/300\n",
            "5/5 [==============================] - 2s 470ms/step - loss: 0.0248 - accuracy: 0.9991 - val_loss: 0.1388 - val_accuracy: 0.9667\n",
            "Epoch 129/300\n",
            "5/5 [==============================] - 2s 473ms/step - loss: 0.0308 - accuracy: 0.9917 - val_loss: 0.1348 - val_accuracy: 0.9583\n",
            "Epoch 130/300\n",
            "5/5 [==============================] - 2s 471ms/step - loss: 0.0338 - accuracy: 0.9935 - val_loss: 0.1141 - val_accuracy: 0.9667\n",
            "Epoch 131/300\n",
            "5/5 [==============================] - 2s 474ms/step - loss: 0.0368 - accuracy: 0.9917 - val_loss: 0.1369 - val_accuracy: 0.9667\n",
            "Epoch 132/300\n",
            "5/5 [==============================] - 2s 472ms/step - loss: 0.0256 - accuracy: 0.9944 - val_loss: 0.1402 - val_accuracy: 0.9583\n",
            "Epoch 133/300\n",
            "5/5 [==============================] - 2s 475ms/step - loss: 0.0367 - accuracy: 0.9907 - val_loss: 0.1447 - val_accuracy: 0.9583\n",
            "Epoch 134/300\n",
            "5/5 [==============================] - 2s 477ms/step - loss: 0.0239 - accuracy: 0.9944 - val_loss: 0.1511 - val_accuracy: 0.9583\n",
            "Epoch 135/300\n",
            "5/5 [==============================] - 3s 486ms/step - loss: 0.0249 - accuracy: 0.9926 - val_loss: 0.1578 - val_accuracy: 0.9500\n",
            "Epoch 136/300\n",
            "5/5 [==============================] - 2s 482ms/step - loss: 0.0279 - accuracy: 0.9907 - val_loss: 0.1544 - val_accuracy: 0.9583\n",
            "Epoch 137/300\n",
            "5/5 [==============================] - 2s 483ms/step - loss: 0.0261 - accuracy: 0.9935 - val_loss: 0.1216 - val_accuracy: 0.9667\n",
            "Epoch 138/300\n",
            "5/5 [==============================] - 2s 480ms/step - loss: 0.0198 - accuracy: 0.9954 - val_loss: 0.1060 - val_accuracy: 0.9583\n",
            "Epoch 139/300\n",
            "5/5 [==============================] - 2s 475ms/step - loss: 0.0215 - accuracy: 0.9963 - val_loss: 0.1314 - val_accuracy: 0.9667\n",
            "Epoch 140/300\n",
            "5/5 [==============================] - 2s 482ms/step - loss: 0.0171 - accuracy: 0.9991 - val_loss: 0.1515 - val_accuracy: 0.9583\n",
            "Epoch 141/300\n",
            "5/5 [==============================] - 3s 523ms/step - loss: 0.0251 - accuracy: 0.9935 - val_loss: 0.1393 - val_accuracy: 0.9667\n",
            "Epoch 142/300\n",
            "5/5 [==============================] - 3s 551ms/step - loss: 0.0225 - accuracy: 0.9944 - val_loss: 0.1402 - val_accuracy: 0.9667\n",
            "Epoch 143/300\n",
            "5/5 [==============================] - 3s 559ms/step - loss: 0.0208 - accuracy: 0.9963 - val_loss: 0.1468 - val_accuracy: 0.9667\n",
            "Epoch 144/300\n",
            "5/5 [==============================] - 3s 598ms/step - loss: 0.0226 - accuracy: 0.9944 - val_loss: 0.1483 - val_accuracy: 0.9500\n",
            "Epoch 145/300\n",
            "5/5 [==============================] - 2s 478ms/step - loss: 0.0199 - accuracy: 0.9963 - val_loss: 0.1714 - val_accuracy: 0.9417\n",
            "Epoch 146/300\n",
            "5/5 [==============================] - 2s 480ms/step - loss: 0.0230 - accuracy: 0.9954 - val_loss: 0.1445 - val_accuracy: 0.9583\n",
            "Epoch 147/300\n",
            "5/5 [==============================] - 2s 481ms/step - loss: 0.0143 - accuracy: 1.0000 - val_loss: 0.1306 - val_accuracy: 0.9667\n",
            "Epoch 148/300\n",
            "5/5 [==============================] - 3s 495ms/step - loss: 0.0187 - accuracy: 0.9954 - val_loss: 0.1509 - val_accuracy: 0.9667\n",
            "Epoch 149/300\n",
            "5/5 [==============================] - 3s 490ms/step - loss: 0.0140 - accuracy: 0.9972 - val_loss: 0.1747 - val_accuracy: 0.9583\n",
            "Epoch 150/300\n",
            "5/5 [==============================] - 3s 499ms/step - loss: 0.0168 - accuracy: 0.9963 - val_loss: 0.1658 - val_accuracy: 0.9667\n",
            "Epoch 151/300\n",
            "5/5 [==============================] - 3s 495ms/step - loss: 0.0199 - accuracy: 0.9954 - val_loss: 0.1458 - val_accuracy: 0.9583\n",
            "Epoch 152/300\n",
            "5/5 [==============================] - 3s 495ms/step - loss: 0.0181 - accuracy: 0.9972 - val_loss: 0.1937 - val_accuracy: 0.9417\n",
            "Epoch 153/300\n",
            "5/5 [==============================] - 2s 477ms/step - loss: 0.0170 - accuracy: 0.9963 - val_loss: 0.1675 - val_accuracy: 0.9583\n",
            "Epoch 154/300\n",
            "5/5 [==============================] - 3s 510ms/step - loss: 0.0210 - accuracy: 0.9954 - val_loss: 0.1471 - val_accuracy: 0.9750\n",
            "Epoch 155/300\n",
            "5/5 [==============================] - 2s 477ms/step - loss: 0.0202 - accuracy: 0.9944 - val_loss: 0.1612 - val_accuracy: 0.9583\n",
            "Epoch 156/300\n",
            "5/5 [==============================] - 2s 477ms/step - loss: 0.0287 - accuracy: 0.9926 - val_loss: 0.1845 - val_accuracy: 0.9583\n",
            "Epoch 157/300\n",
            "5/5 [==============================] - 2s 475ms/step - loss: 0.0224 - accuracy: 0.9926 - val_loss: 0.1393 - val_accuracy: 0.9500\n",
            "Epoch 158/300\n",
            "5/5 [==============================] - 2s 477ms/step - loss: 0.0289 - accuracy: 0.9889 - val_loss: 0.1288 - val_accuracy: 0.9583\n",
            "Epoch 159/300\n",
            "5/5 [==============================] - 3s 479ms/step - loss: 0.0199 - accuracy: 0.9944 - val_loss: 0.1627 - val_accuracy: 0.9583\n",
            "Epoch 160/300\n",
            "5/5 [==============================] - 2s 484ms/step - loss: 0.0198 - accuracy: 0.9944 - val_loss: 0.1396 - val_accuracy: 0.9583\n",
            "Epoch 161/300\n",
            "5/5 [==============================] - 2s 479ms/step - loss: 0.0217 - accuracy: 0.9926 - val_loss: 0.1014 - val_accuracy: 0.9750\n",
            "Epoch 162/300\n",
            "5/5 [==============================] - 2s 474ms/step - loss: 0.0237 - accuracy: 0.9917 - val_loss: 0.1296 - val_accuracy: 0.9583\n",
            "Epoch 163/300\n",
            "5/5 [==============================] - 2s 471ms/step - loss: 0.0214 - accuracy: 0.9926 - val_loss: 0.1106 - val_accuracy: 0.9667\n",
            "Epoch 164/300\n",
            "5/5 [==============================] - 2s 477ms/step - loss: 0.0239 - accuracy: 0.9954 - val_loss: 0.1403 - val_accuracy: 0.9500\n",
            "Epoch 165/300\n",
            "5/5 [==============================] - 2s 476ms/step - loss: 0.0195 - accuracy: 0.9954 - val_loss: 0.2164 - val_accuracy: 0.9250\n",
            "Epoch 166/300\n",
            "5/5 [==============================] - 2s 474ms/step - loss: 0.0326 - accuracy: 0.9917 - val_loss: 0.1618 - val_accuracy: 0.9500\n",
            "Epoch 167/300\n",
            "5/5 [==============================] - 2s 469ms/step - loss: 0.0225 - accuracy: 0.9926 - val_loss: 0.1774 - val_accuracy: 0.9583\n",
            "Epoch 168/300\n",
            "5/5 [==============================] - 2s 471ms/step - loss: 0.0144 - accuracy: 0.9972 - val_loss: 0.1810 - val_accuracy: 0.9667\n",
            "Epoch 169/300\n",
            "5/5 [==============================] - 2s 472ms/step - loss: 0.0261 - accuracy: 0.9926 - val_loss: 0.1428 - val_accuracy: 0.9667\n",
            "Epoch 170/300\n",
            "5/5 [==============================] - 2s 471ms/step - loss: 0.0152 - accuracy: 0.9981 - val_loss: 0.1148 - val_accuracy: 0.9750\n",
            "Epoch 171/300\n",
            "5/5 [==============================] - 2s 471ms/step - loss: 0.0161 - accuracy: 0.9963 - val_loss: 0.1331 - val_accuracy: 0.9583\n",
            "Epoch 172/300\n",
            "5/5 [==============================] - 2s 466ms/step - loss: 0.0115 - accuracy: 0.9963 - val_loss: 0.2027 - val_accuracy: 0.9417\n",
            "Epoch 173/300\n",
            "5/5 [==============================] - 2s 473ms/step - loss: 0.0159 - accuracy: 0.9963 - val_loss: 0.1986 - val_accuracy: 0.9417\n",
            "Epoch 174/300\n",
            "5/5 [==============================] - 2s 473ms/step - loss: 0.0107 - accuracy: 0.9972 - val_loss: 0.1397 - val_accuracy: 0.9583\n",
            "Epoch 175/300\n",
            "5/5 [==============================] - 2s 469ms/step - loss: 0.0137 - accuracy: 0.9954 - val_loss: 0.1110 - val_accuracy: 0.9750\n",
            "Epoch 176/300\n",
            "5/5 [==============================] - 2s 476ms/step - loss: 0.0133 - accuracy: 0.9963 - val_loss: 0.1273 - val_accuracy: 0.9667\n",
            "Epoch 177/300\n",
            "5/5 [==============================] - 2s 475ms/step - loss: 0.0122 - accuracy: 0.9981 - val_loss: 0.1201 - val_accuracy: 0.9750\n",
            "Epoch 178/300\n",
            "5/5 [==============================] - 2s 475ms/step - loss: 0.0121 - accuracy: 0.9981 - val_loss: 0.1205 - val_accuracy: 0.9750\n",
            "Epoch 179/300\n",
            "5/5 [==============================] - 2s 477ms/step - loss: 0.0118 - accuracy: 0.9981 - val_loss: 0.1397 - val_accuracy: 0.9667\n",
            "Epoch 180/300\n",
            "5/5 [==============================] - 2s 472ms/step - loss: 0.0183 - accuracy: 0.9935 - val_loss: 0.1010 - val_accuracy: 0.9750\n",
            "Epoch 181/300\n",
            "5/5 [==============================] - 2s 473ms/step - loss: 0.0137 - accuracy: 0.9972 - val_loss: 0.1598 - val_accuracy: 0.9667\n",
            "Epoch 182/300\n",
            "5/5 [==============================] - 2s 480ms/step - loss: 0.0150 - accuracy: 0.9963 - val_loss: 0.2031 - val_accuracy: 0.9583\n",
            "Epoch 183/300\n",
            "5/5 [==============================] - 2s 476ms/step - loss: 0.0132 - accuracy: 0.9963 - val_loss: 0.1867 - val_accuracy: 0.9583\n",
            "Epoch 184/300\n",
            "5/5 [==============================] - 2s 477ms/step - loss: 0.0150 - accuracy: 0.9954 - val_loss: 0.1413 - val_accuracy: 0.9667\n",
            "Epoch 185/300\n",
            "5/5 [==============================] - 2s 471ms/step - loss: 0.0103 - accuracy: 0.9981 - val_loss: 0.1462 - val_accuracy: 0.9667\n",
            "Epoch 186/300\n",
            "5/5 [==============================] - 2s 476ms/step - loss: 0.0110 - accuracy: 1.0000 - val_loss: 0.1452 - val_accuracy: 0.9667\n",
            "Epoch 187/300\n",
            "5/5 [==============================] - 2s 469ms/step - loss: 0.0098 - accuracy: 0.9991 - val_loss: 0.1433 - val_accuracy: 0.9667\n",
            "Epoch 188/300\n",
            "5/5 [==============================] - 2s 468ms/step - loss: 0.0147 - accuracy: 0.9954 - val_loss: 0.1596 - val_accuracy: 0.9583\n",
            "Epoch 189/300\n",
            "5/5 [==============================] - 2s 473ms/step - loss: 0.0103 - accuracy: 0.9972 - val_loss: 0.1464 - val_accuracy: 0.9583\n",
            "Epoch 190/300\n",
            "5/5 [==============================] - 2s 480ms/step - loss: 0.0086 - accuracy: 0.9991 - val_loss: 0.1386 - val_accuracy: 0.9667\n",
            "Epoch 191/300\n",
            "5/5 [==============================] - 2s 475ms/step - loss: 0.0092 - accuracy: 0.9991 - val_loss: 0.1380 - val_accuracy: 0.9750\n",
            "Epoch 192/300\n",
            "5/5 [==============================] - 2s 480ms/step - loss: 0.0106 - accuracy: 0.9981 - val_loss: 0.1355 - val_accuracy: 0.9750\n",
            "Epoch 193/300\n",
            "5/5 [==============================] - 2s 477ms/step - loss: 0.0091 - accuracy: 0.9991 - val_loss: 0.1528 - val_accuracy: 0.9667\n",
            "Epoch 194/300\n",
            "5/5 [==============================] - 2s 475ms/step - loss: 0.0061 - accuracy: 0.9991 - val_loss: 0.1619 - val_accuracy: 0.9583\n",
            "Epoch 195/300\n",
            "5/5 [==============================] - 2s 473ms/step - loss: 0.0136 - accuracy: 0.9972 - val_loss: 0.1298 - val_accuracy: 0.9667\n",
            "Epoch 196/300\n",
            "5/5 [==============================] - 2s 473ms/step - loss: 0.0125 - accuracy: 0.9981 - val_loss: 0.1158 - val_accuracy: 0.9583\n",
            "Epoch 197/300\n",
            "5/5 [==============================] - 3s 496ms/step - loss: 0.0185 - accuracy: 0.9944 - val_loss: 0.1628 - val_accuracy: 0.9667\n",
            "Epoch 198/300\n",
            "5/5 [==============================] - 2s 467ms/step - loss: 0.0099 - accuracy: 0.9991 - val_loss: 0.1918 - val_accuracy: 0.9500\n",
            "Epoch 199/300\n",
            "5/5 [==============================] - 2s 476ms/step - loss: 0.0126 - accuracy: 0.9972 - val_loss: 0.1711 - val_accuracy: 0.9583\n",
            "Epoch 200/300\n",
            "5/5 [==============================] - 2s 482ms/step - loss: 0.0116 - accuracy: 0.9963 - val_loss: 0.1651 - val_accuracy: 0.9583\n",
            "Epoch 201/300\n",
            "5/5 [==============================] - 2s 475ms/step - loss: 0.0170 - accuracy: 0.9935 - val_loss: 0.1454 - val_accuracy: 0.9583\n",
            "Epoch 202/300\n",
            "5/5 [==============================] - 2s 475ms/step - loss: 0.0128 - accuracy: 0.9963 - val_loss: 0.1679 - val_accuracy: 0.9667\n",
            "Epoch 203/300\n",
            "5/5 [==============================] - 2s 471ms/step - loss: 0.0105 - accuracy: 0.9981 - val_loss: 0.1863 - val_accuracy: 0.9583\n",
            "Epoch 204/300\n",
            "5/5 [==============================] - 2s 474ms/step - loss: 0.0107 - accuracy: 0.9972 - val_loss: 0.1431 - val_accuracy: 0.9667\n",
            "Epoch 205/300\n",
            "5/5 [==============================] - 2s 472ms/step - loss: 0.0103 - accuracy: 0.9963 - val_loss: 0.1421 - val_accuracy: 0.9667\n",
            "Epoch 206/300\n",
            "5/5 [==============================] - 2s 479ms/step - loss: 0.0149 - accuracy: 0.9935 - val_loss: 0.1731 - val_accuracy: 0.9667\n",
            "Epoch 207/300\n",
            "5/5 [==============================] - 2s 479ms/step - loss: 0.0100 - accuracy: 0.9981 - val_loss: 0.1894 - val_accuracy: 0.9500\n",
            "Epoch 208/300\n",
            "5/5 [==============================] - 3s 482ms/step - loss: 0.0110 - accuracy: 0.9972 - val_loss: 0.1785 - val_accuracy: 0.9500\n",
            "Epoch 209/300\n",
            "5/5 [==============================] - 2s 474ms/step - loss: 0.0127 - accuracy: 0.9981 - val_loss: 0.1488 - val_accuracy: 0.9583\n",
            "Epoch 210/300\n",
            "5/5 [==============================] - 2s 478ms/step - loss: 0.0248 - accuracy: 0.9935 - val_loss: 0.1645 - val_accuracy: 0.9667\n",
            "Epoch 211/300\n",
            "5/5 [==============================] - 3s 485ms/step - loss: 0.0146 - accuracy: 0.9963 - val_loss: 0.2200 - val_accuracy: 0.9500\n",
            "Epoch 212/300\n",
            "5/5 [==============================] - 2s 478ms/step - loss: 0.0115 - accuracy: 0.9981 - val_loss: 0.1779 - val_accuracy: 0.9500\n",
            "Epoch 213/300\n",
            "5/5 [==============================] - 3s 489ms/step - loss: 0.0155 - accuracy: 0.9963 - val_loss: 0.1719 - val_accuracy: 0.9750\n",
            "Epoch 214/300\n",
            "5/5 [==============================] - 2s 480ms/step - loss: 0.0098 - accuracy: 0.9981 - val_loss: 0.1838 - val_accuracy: 0.9583\n",
            "Epoch 215/300\n",
            "5/5 [==============================] - 2s 476ms/step - loss: 0.0105 - accuracy: 0.9991 - val_loss: 0.1558 - val_accuracy: 0.9667\n",
            "Epoch 216/300\n",
            "5/5 [==============================] - 2s 477ms/step - loss: 0.0159 - accuracy: 0.9954 - val_loss: 0.1586 - val_accuracy: 0.9583\n",
            "Epoch 217/300\n",
            "5/5 [==============================] - 2s 473ms/step - loss: 0.0066 - accuracy: 0.9991 - val_loss: 0.1789 - val_accuracy: 0.9583\n",
            "Epoch 218/300\n",
            "5/5 [==============================] - 2s 476ms/step - loss: 0.0106 - accuracy: 0.9972 - val_loss: 0.2028 - val_accuracy: 0.9500\n",
            "Epoch 219/300\n",
            "5/5 [==============================] - 2s 479ms/step - loss: 0.0087 - accuracy: 0.9991 - val_loss: 0.1869 - val_accuracy: 0.9500\n",
            "Epoch 220/300\n",
            "5/5 [==============================] - 2s 480ms/step - loss: 0.0055 - accuracy: 0.9991 - val_loss: 0.1911 - val_accuracy: 0.9250\n",
            "Epoch 221/300\n",
            "5/5 [==============================] - 2s 484ms/step - loss: 0.0083 - accuracy: 0.9991 - val_loss: 0.1627 - val_accuracy: 0.9500\n",
            "Epoch 222/300\n",
            "5/5 [==============================] - 2s 482ms/step - loss: 0.0099 - accuracy: 0.9972 - val_loss: 0.1532 - val_accuracy: 0.9417\n",
            "Epoch 223/300\n",
            "5/5 [==============================] - 2s 478ms/step - loss: 0.0091 - accuracy: 0.9991 - val_loss: 0.1605 - val_accuracy: 0.9583\n",
            "Epoch 224/300\n",
            "5/5 [==============================] - 2s 479ms/step - loss: 0.0048 - accuracy: 0.9991 - val_loss: 0.1528 - val_accuracy: 0.9583\n",
            "Epoch 225/300\n",
            "5/5 [==============================] - 2s 479ms/step - loss: 0.0069 - accuracy: 0.9991 - val_loss: 0.1561 - val_accuracy: 0.9667\n",
            "Epoch 226/300\n",
            "5/5 [==============================] - 2s 474ms/step - loss: 0.0068 - accuracy: 0.9991 - val_loss: 0.1674 - val_accuracy: 0.9500\n",
            "Epoch 227/300\n",
            "5/5 [==============================] - 2s 476ms/step - loss: 0.0103 - accuracy: 0.9972 - val_loss: 0.1753 - val_accuracy: 0.9500\n",
            "Epoch 228/300\n",
            "5/5 [==============================] - 2s 478ms/step - loss: 0.0065 - accuracy: 0.9991 - val_loss: 0.1983 - val_accuracy: 0.9500\n",
            "Epoch 229/300\n",
            "5/5 [==============================] - 2s 478ms/step - loss: 0.0090 - accuracy: 0.9981 - val_loss: 0.2143 - val_accuracy: 0.9333\n",
            "Epoch 230/300\n",
            "5/5 [==============================] - 3s 516ms/step - loss: 0.0088 - accuracy: 0.9972 - val_loss: 0.1418 - val_accuracy: 0.9583\n",
            "Epoch 231/300\n",
            "5/5 [==============================] - 2s 477ms/step - loss: 0.0081 - accuracy: 0.9991 - val_loss: 0.1353 - val_accuracy: 0.9583\n",
            "Epoch 232/300\n",
            "5/5 [==============================] - 2s 480ms/step - loss: 0.0081 - accuracy: 0.9991 - val_loss: 0.1623 - val_accuracy: 0.9500\n",
            "Epoch 233/300\n",
            "5/5 [==============================] - 3s 490ms/step - loss: 0.0148 - accuracy: 0.9944 - val_loss: 0.1677 - val_accuracy: 0.9500\n",
            "Epoch 234/300\n",
            "5/5 [==============================] - 2s 480ms/step - loss: 0.0121 - accuracy: 0.9963 - val_loss: 0.1842 - val_accuracy: 0.9500\n",
            "Epoch 235/300\n",
            "5/5 [==============================] - 3s 485ms/step - loss: 0.0065 - accuracy: 0.9991 - val_loss: 0.1871 - val_accuracy: 0.9583\n",
            "Epoch 236/300\n",
            "5/5 [==============================] - 2s 484ms/step - loss: 0.0103 - accuracy: 0.9972 - val_loss: 0.1683 - val_accuracy: 0.9583\n",
            "Epoch 237/300\n",
            "5/5 [==============================] - 2s 479ms/step - loss: 0.0113 - accuracy: 0.9981 - val_loss: 0.1532 - val_accuracy: 0.9583\n",
            "Epoch 238/300\n",
            "5/5 [==============================] - 2s 479ms/step - loss: 0.0170 - accuracy: 0.9963 - val_loss: 0.2229 - val_accuracy: 0.9417\n",
            "Epoch 239/300\n",
            "5/5 [==============================] - 2s 477ms/step - loss: 0.0091 - accuracy: 0.9972 - val_loss: 0.1744 - val_accuracy: 0.9500\n",
            "Epoch 240/300\n",
            "5/5 [==============================] - 2s 479ms/step - loss: 0.0085 - accuracy: 0.9981 - val_loss: 0.1627 - val_accuracy: 0.9583\n",
            "Epoch 241/300\n",
            "5/5 [==============================] - 2s 481ms/step - loss: 0.0055 - accuracy: 1.0000 - val_loss: 0.1669 - val_accuracy: 0.9583\n",
            "Epoch 242/300\n",
            "5/5 [==============================] - 2s 477ms/step - loss: 0.0118 - accuracy: 0.9981 - val_loss: 0.1460 - val_accuracy: 0.9583\n",
            "Epoch 243/300\n",
            "5/5 [==============================] - 2s 482ms/step - loss: 0.0077 - accuracy: 0.9981 - val_loss: 0.1325 - val_accuracy: 0.9667\n",
            "Epoch 244/300\n",
            "5/5 [==============================] - 2s 485ms/step - loss: 0.0090 - accuracy: 0.9972 - val_loss: 0.1458 - val_accuracy: 0.9667\n",
            "Epoch 245/300\n",
            "5/5 [==============================] - 2s 480ms/step - loss: 0.0073 - accuracy: 0.9981 - val_loss: 0.1503 - val_accuracy: 0.9667\n",
            "Epoch 246/300\n",
            "5/5 [==============================] - 2s 479ms/step - loss: 0.0108 - accuracy: 0.9963 - val_loss: 0.1698 - val_accuracy: 0.9500\n",
            "Epoch 247/300\n",
            "5/5 [==============================] - 3s 487ms/step - loss: 0.0077 - accuracy: 0.9981 - val_loss: 0.1467 - val_accuracy: 0.9667\n",
            "Epoch 248/300\n",
            "5/5 [==============================] - 2s 473ms/step - loss: 0.0163 - accuracy: 0.9954 - val_loss: 0.1669 - val_accuracy: 0.9500\n",
            "Epoch 249/300\n",
            "5/5 [==============================] - 2s 483ms/step - loss: 0.0103 - accuracy: 0.9972 - val_loss: 0.1935 - val_accuracy: 0.9417\n",
            "Epoch 250/300\n",
            "5/5 [==============================] - 2s 476ms/step - loss: 0.0110 - accuracy: 0.9972 - val_loss: 0.1736 - val_accuracy: 0.9667\n",
            "Epoch 251/300\n",
            "5/5 [==============================] - 2s 483ms/step - loss: 0.0108 - accuracy: 0.9981 - val_loss: 0.1762 - val_accuracy: 0.9667\n",
            "Epoch 252/300\n",
            "5/5 [==============================] - 2s 479ms/step - loss: 0.0151 - accuracy: 0.9963 - val_loss: 0.2093 - val_accuracy: 0.9500\n",
            "Epoch 253/300\n",
            "5/5 [==============================] - 3s 491ms/step - loss: 0.0091 - accuracy: 0.9981 - val_loss: 0.1807 - val_accuracy: 0.9583\n",
            "Epoch 254/300\n",
            "5/5 [==============================] - 3s 503ms/step - loss: 0.0160 - accuracy: 0.9954 - val_loss: 0.1246 - val_accuracy: 0.9750\n",
            "Epoch 255/300\n",
            "5/5 [==============================] - 2s 479ms/step - loss: 0.0092 - accuracy: 0.9981 - val_loss: 0.1309 - val_accuracy: 0.9750\n",
            "Epoch 256/300\n",
            "5/5 [==============================] - 2s 475ms/step - loss: 0.0064 - accuracy: 0.9991 - val_loss: 0.1614 - val_accuracy: 0.9667\n",
            "Epoch 257/300\n",
            "5/5 [==============================] - 2s 473ms/step - loss: 0.0087 - accuracy: 0.9981 - val_loss: 0.1475 - val_accuracy: 0.9667\n",
            "Epoch 258/300\n",
            "5/5 [==============================] - 2s 473ms/step - loss: 0.0085 - accuracy: 0.9972 - val_loss: 0.1492 - val_accuracy: 0.9750\n",
            "Epoch 259/300\n",
            "5/5 [==============================] - 2s 481ms/step - loss: 0.0051 - accuracy: 0.9991 - val_loss: 0.1457 - val_accuracy: 0.9750\n",
            "Epoch 260/300\n",
            "5/5 [==============================] - 2s 471ms/step - loss: 0.0056 - accuracy: 1.0000 - val_loss: 0.1450 - val_accuracy: 0.9667\n",
            "Epoch 261/300\n",
            "5/5 [==============================] - 2s 481ms/step - loss: 0.0039 - accuracy: 1.0000 - val_loss: 0.1699 - val_accuracy: 0.9583\n",
            "Epoch 262/300\n",
            "5/5 [==============================] - 2s 469ms/step - loss: 0.0079 - accuracy: 0.9981 - val_loss: 0.1556 - val_accuracy: 0.9583\n",
            "Epoch 263/300\n",
            "5/5 [==============================] - 2s 478ms/step - loss: 0.0073 - accuracy: 0.9981 - val_loss: 0.1346 - val_accuracy: 0.9667\n",
            "Epoch 264/300\n",
            "5/5 [==============================] - 2s 473ms/step - loss: 0.0040 - accuracy: 1.0000 - val_loss: 0.1317 - val_accuracy: 0.9667\n",
            "Epoch 265/300\n",
            "5/5 [==============================] - 2s 473ms/step - loss: 0.0040 - accuracy: 1.0000 - val_loss: 0.1421 - val_accuracy: 0.9667\n",
            "Epoch 266/300\n",
            "5/5 [==============================] - 2s 474ms/step - loss: 0.0059 - accuracy: 0.9991 - val_loss: 0.1511 - val_accuracy: 0.9667\n",
            "Epoch 267/300\n",
            "5/5 [==============================] - 2s 473ms/step - loss: 0.0047 - accuracy: 1.0000 - val_loss: 0.1452 - val_accuracy: 0.9667\n",
            "Epoch 268/300\n",
            "5/5 [==============================] - 2s 473ms/step - loss: 0.0057 - accuracy: 1.0000 - val_loss: 0.1739 - val_accuracy: 0.9583\n",
            "Epoch 269/300\n",
            "5/5 [==============================] - 2s 474ms/step - loss: 0.0076 - accuracy: 0.9972 - val_loss: 0.1931 - val_accuracy: 0.9583\n",
            "Epoch 270/300\n",
            "5/5 [==============================] - 2s 475ms/step - loss: 0.0056 - accuracy: 0.9981 - val_loss: 0.1177 - val_accuracy: 0.9750\n",
            "Epoch 271/300\n",
            "5/5 [==============================] - 2s 478ms/step - loss: 0.0114 - accuracy: 0.9972 - val_loss: 0.1060 - val_accuracy: 0.9833\n",
            "Epoch 272/300\n",
            "5/5 [==============================] - 2s 473ms/step - loss: 0.0049 - accuracy: 0.9991 - val_loss: 0.1222 - val_accuracy: 0.9750\n",
            "Epoch 273/300\n",
            "5/5 [==============================] - 2s 477ms/step - loss: 0.0101 - accuracy: 0.9963 - val_loss: 0.1590 - val_accuracy: 0.9667\n",
            "Epoch 274/300\n",
            "5/5 [==============================] - 2s 475ms/step - loss: 0.0070 - accuracy: 0.9963 - val_loss: 0.1899 - val_accuracy: 0.9583\n",
            "Epoch 275/300\n",
            "5/5 [==============================] - 2s 477ms/step - loss: 0.0092 - accuracy: 0.9981 - val_loss: 0.1810 - val_accuracy: 0.9583\n",
            "Epoch 276/300\n",
            "5/5 [==============================] - 2s 475ms/step - loss: 0.0080 - accuracy: 0.9981 - val_loss: 0.1798 - val_accuracy: 0.9667\n",
            "Epoch 277/300\n",
            "5/5 [==============================] - 2s 475ms/step - loss: 0.0091 - accuracy: 0.9981 - val_loss: 0.1893 - val_accuracy: 0.9667\n",
            "Epoch 278/300\n",
            "5/5 [==============================] - 3s 504ms/step - loss: 0.0091 - accuracy: 0.9963 - val_loss: 0.1929 - val_accuracy: 0.9667\n",
            "Epoch 279/300\n",
            "5/5 [==============================] - 2s 477ms/step - loss: 0.0143 - accuracy: 0.9944 - val_loss: 0.1360 - val_accuracy: 0.9833\n",
            "Epoch 280/300\n",
            "5/5 [==============================] - 2s 479ms/step - loss: 0.0145 - accuracy: 0.9981 - val_loss: 0.1848 - val_accuracy: 0.9500\n",
            "Epoch 281/300\n",
            "5/5 [==============================] - 2s 477ms/step - loss: 0.0140 - accuracy: 0.9972 - val_loss: 0.1647 - val_accuracy: 0.9667\n",
            "Epoch 282/300\n",
            "5/5 [==============================] - 3s 483ms/step - loss: 0.0217 - accuracy: 0.9944 - val_loss: 0.1511 - val_accuracy: 0.9583\n",
            "Epoch 283/300\n",
            "5/5 [==============================] - 2s 484ms/step - loss: 0.0562 - accuracy: 0.9806 - val_loss: 0.3599 - val_accuracy: 0.9250\n",
            "Epoch 284/300\n",
            "5/5 [==============================] - 2s 485ms/step - loss: 0.1006 - accuracy: 0.9657 - val_loss: 0.1015 - val_accuracy: 0.9667\n",
            "Epoch 285/300\n",
            "5/5 [==============================] - 2s 482ms/step - loss: 0.0302 - accuracy: 0.9889 - val_loss: 0.2358 - val_accuracy: 0.9417\n",
            "Epoch 286/300\n",
            "5/5 [==============================] - 2s 480ms/step - loss: 0.0638 - accuracy: 0.9778 - val_loss: 0.1922 - val_accuracy: 0.9583\n",
            "Epoch 287/300\n",
            "5/5 [==============================] - 3s 481ms/step - loss: 0.0315 - accuracy: 0.9889 - val_loss: 0.1565 - val_accuracy: 0.9667\n",
            "Epoch 288/300\n",
            "5/5 [==============================] - 3s 487ms/step - loss: 0.0195 - accuracy: 0.9944 - val_loss: 0.1667 - val_accuracy: 0.9667\n",
            "Epoch 289/300\n",
            "5/5 [==============================] - 2s 475ms/step - loss: 0.0390 - accuracy: 0.9852 - val_loss: 0.1755 - val_accuracy: 0.9583\n",
            "Epoch 290/300\n",
            "5/5 [==============================] - 2s 473ms/step - loss: 0.0367 - accuracy: 0.9889 - val_loss: 0.1539 - val_accuracy: 0.9583\n",
            "Epoch 291/300\n",
            "5/5 [==============================] - 2s 471ms/step - loss: 0.0222 - accuracy: 0.9917 - val_loss: 0.1017 - val_accuracy: 0.9750\n",
            "Epoch 292/300\n",
            "5/5 [==============================] - 2s 484ms/step - loss: 0.0240 - accuracy: 0.9917 - val_loss: 0.1534 - val_accuracy: 0.9583\n",
            "Epoch 293/300\n",
            "5/5 [==============================] - 2s 476ms/step - loss: 0.0251 - accuracy: 0.9935 - val_loss: 0.2121 - val_accuracy: 0.9500\n",
            "Epoch 294/300\n",
            "5/5 [==============================] - 2s 477ms/step - loss: 0.0160 - accuracy: 0.9944 - val_loss: 0.1500 - val_accuracy: 0.9583\n",
            "Epoch 295/300\n",
            "5/5 [==============================] - 2s 478ms/step - loss: 0.0128 - accuracy: 0.9954 - val_loss: 0.1561 - val_accuracy: 0.9583\n",
            "Epoch 296/300\n",
            "5/5 [==============================] - 2s 479ms/step - loss: 0.0112 - accuracy: 0.9972 - val_loss: 0.1709 - val_accuracy: 0.9583\n",
            "Epoch 297/300\n",
            "5/5 [==============================] - 2s 477ms/step - loss: 0.0104 - accuracy: 0.9981 - val_loss: 0.2223 - val_accuracy: 0.9583\n",
            "Epoch 298/300\n",
            "5/5 [==============================] - 2s 474ms/step - loss: 0.0115 - accuracy: 0.9972 - val_loss: 0.1939 - val_accuracy: 0.9667\n",
            "Epoch 299/300\n",
            "5/5 [==============================] - 2s 476ms/step - loss: 0.0215 - accuracy: 0.9898 - val_loss: 0.1796 - val_accuracy: 0.9667\n",
            "Epoch 300/300\n",
            "5/5 [==============================] - 2s 476ms/step - loss: 0.0095 - accuracy: 0.9972 - val_loss: 0.1628 - val_accuracy: 0.9667\n"
          ],
          "name": "stdout"
        }
      ]
    },
    {
      "cell_type": "markdown",
      "metadata": {
        "id": "dced1201"
      },
      "source": [
        "### Funcion de perdida"
      ],
      "id": "dced1201"
    },
    {
      "cell_type": "code",
      "metadata": {
        "colab": {
          "base_uri": "https://localhost:8080/",
          "height": 542
        },
        "id": "c4ba7cec",
        "outputId": "2965ccc7-72ae-4d51-9fc1-e30f50508dd0"
      },
      "source": [
        "fig = go.Figure()\n",
        "fig.add_trace( go.Scatter(x= np.arange(len(history.history[\"loss\"])), y=history.history[\"loss\"], mode=\"lines\"))\n",
        "fig.add_trace(go.Scatter(x= np.arange(len(history.history[\"val_loss\"])), y=history.history[\"val_loss\"], mode=\"lines\"))\n",
        "fig.show()"
      ],
      "id": "c4ba7cec",
      "execution_count": null,
      "outputs": [
        {
          "output_type": "display_data",
          "data": {
            "text/html": [
              "<html>\n",
              "<head><meta charset=\"utf-8\" /></head>\n",
              "<body>\n",
              "    <div>\n",
              "            <script src=\"https://cdnjs.cloudflare.com/ajax/libs/mathjax/2.7.5/MathJax.js?config=TeX-AMS-MML_SVG\"></script><script type=\"text/javascript\">if (window.MathJax) {MathJax.Hub.Config({SVG: {font: \"STIX-Web\"}});}</script>\n",
              "                <script type=\"text/javascript\">window.PlotlyConfig = {MathJaxConfig: 'local'};</script>\n",
              "        <script src=\"https://cdn.plot.ly/plotly-latest.min.js\"></script>    \n",
              "            <div id=\"4f7fbb44-5fe7-4bdd-89bf-1d607bfb8e68\" class=\"plotly-graph-div\" style=\"height:525px; width:100%;\"></div>\n",
              "            <script type=\"text/javascript\">\n",
              "                \n",
              "                    window.PLOTLYENV=window.PLOTLYENV || {};\n",
              "                    \n",
              "                if (document.getElementById(\"4f7fbb44-5fe7-4bdd-89bf-1d607bfb8e68\")) {\n",
              "                    Plotly.newPlot(\n",
              "                        '4f7fbb44-5fe7-4bdd-89bf-1d607bfb8e68',\n",
              "                        [{\"mode\": \"lines\", \"type\": \"scatter\", \"x\": [0, 1, 2, 3, 4, 5, 6, 7, 8, 9, 10, 11, 12, 13, 14, 15, 16, 17, 18, 19, 20, 21, 22, 23, 24, 25, 26, 27, 28, 29, 30, 31, 32, 33, 34, 35, 36, 37, 38, 39, 40, 41, 42, 43, 44, 45, 46, 47, 48, 49, 50, 51, 52, 53, 54, 55, 56, 57, 58, 59, 60, 61, 62, 63, 64, 65, 66, 67, 68, 69, 70, 71, 72, 73, 74, 75, 76, 77, 78, 79, 80, 81, 82, 83, 84, 85, 86, 87, 88, 89, 90, 91, 92, 93, 94, 95, 96, 97, 98, 99, 100, 101, 102, 103, 104, 105, 106, 107, 108, 109, 110, 111, 112, 113, 114, 115, 116, 117, 118, 119, 120, 121, 122, 123, 124, 125, 126, 127, 128, 129, 130, 131, 132, 133, 134, 135, 136, 137, 138, 139, 140, 141, 142, 143, 144, 145, 146, 147, 148, 149, 150, 151, 152, 153, 154, 155, 156, 157, 158, 159, 160, 161, 162, 163, 164, 165, 166, 167, 168, 169, 170, 171, 172, 173, 174, 175, 176, 177, 178, 179, 180, 181, 182, 183, 184, 185, 186, 187, 188, 189, 190, 191, 192, 193, 194, 195, 196, 197, 198, 199, 200, 201, 202, 203, 204, 205, 206, 207, 208, 209, 210, 211, 212, 213, 214, 215, 216, 217, 218, 219, 220, 221, 222, 223, 224, 225, 226, 227, 228, 229, 230, 231, 232, 233, 234, 235, 236, 237, 238, 239, 240, 241, 242, 243, 244, 245, 246, 247, 248, 249, 250, 251, 252, 253, 254, 255, 256, 257, 258, 259, 260, 261, 262, 263, 264, 265, 266, 267, 268, 269, 270, 271, 272, 273, 274, 275, 276, 277, 278, 279, 280, 281, 282, 283, 284, 285, 286, 287, 288, 289, 290, 291, 292, 293, 294, 295, 296, 297, 298, 299], \"y\": [2.060602903366089, 1.874342441558838, 1.7226945161819458, 1.6176363229751587, 1.5084961652755737, 1.3705869913101196, 1.2516752481460571, 1.149658441543579, 1.0617046356201172, 1.0751676559448242, 0.9486757516860962, 0.8807312846183777, 0.8408544063568115, 0.7617133855819702, 0.7020491361618042, 0.6650503873825073, 0.6379532217979431, 0.6006933450698853, 0.5575071573257446, 0.5380001068115234, 0.5028457641601562, 0.5133985280990601, 0.48491328954696655, 0.4385527968406677, 0.439649760723114, 0.3986348509788513, 0.37104156613349915, 0.3536292612552643, 0.3472841680049896, 0.36985740065574646, 0.34046417474746704, 0.31460437178611755, 0.33102449774742126, 0.3166221082210541, 0.2864120602607727, 0.26594212651252747, 0.2715994715690613, 0.2523663341999054, 0.24306122958660126, 0.23514631390571594, 0.25549277663230896, 0.23078468441963196, 0.19178469479084015, 0.1960277110338211, 0.2124565690755844, 0.1848205029964447, 0.17619818449020386, 0.18007409572601318, 0.15966291725635529, 0.1566622406244278, 0.16685591638088226, 0.1444738805294037, 0.15135864913463593, 0.13226592540740967, 0.13184329867362976, 0.12591950595378876, 0.12388137727975845, 0.12124228477478027, 0.10635416209697723, 0.1287594586610794, 0.11444051563739777, 0.10687998682260513, 0.10894306749105453, 0.12118062376976013, 0.1091117188334465, 0.09119490534067154, 0.09668383747339249, 0.10220879316329956, 0.10152459144592285, 0.09061888605356216, 0.09003394842147827, 0.0872749388217926, 0.08745024353265762, 0.0704621747136116, 0.09501252323389053, 0.08148845285177231, 0.07780402153730392, 0.07211031764745712, 0.06779124587774277, 0.06834352016448975, 0.06390959024429321, 0.06294502317905426, 0.05149531736969948, 0.06351076811552048, 0.07167094200849533, 0.07286367565393448, 0.06353332102298737, 0.05475153774023056, 0.058582428842782974, 0.057680487632751465, 0.05650981888175011, 0.04506037384271622, 0.05788608640432358, 0.06402552127838135, 0.056870173662900925, 0.05876370146870613, 0.04829876124858856, 0.05280914157629013, 0.04261905699968338, 0.05637650936841965, 0.05747754126787186, 0.05182609334588051, 0.050772905349731445, 0.04760622978210449, 0.03903839737176895, 0.03564007580280304, 0.030206002295017242, 0.03512933477759361, 0.030082691460847855, 0.033740781247615814, 0.04699969291687012, 0.033272698521614075, 0.03150181099772453, 0.03245427459478378, 0.036418695002794266, 0.042701467871665955, 0.037738364189863205, 0.03864152356982231, 0.033283405005931854, 0.026209082454442978, 0.03026023507118225, 0.029645707458257675, 0.02896489016711712, 0.022789277136325836, 0.02644716016948223, 0.027289465069770813, 0.02156410925090313, 0.024753984063863754, 0.030789919197559357, 0.033783987164497375, 0.03684910759329796, 0.025555413216352463, 0.03666408360004425, 0.023902766406536102, 0.02485845610499382, 0.027856623753905296, 0.026124434545636177, 0.019822271540760994, 0.021469490602612495, 0.01712881028652191, 0.025099515914916992, 0.022532489150762558, 0.02076975628733635, 0.02258230932056904, 0.01987317018210888, 0.023020951077342033, 0.014315862208604813, 0.018714945763349533, 0.01402150746434927, 0.01675749197602272, 0.019874319434165955, 0.01807297207415104, 0.017009947448968887, 0.020982462912797928, 0.020182011649012566, 0.028746426105499268, 0.02244763821363449, 0.02891005203127861, 0.019858872517943382, 0.01978273130953312, 0.021712444722652435, 0.023677702993154526, 0.021414512768387794, 0.02392229624092579, 0.019508089870214462, 0.0326288603246212, 0.02254934050142765, 0.014418012462556362, 0.026058362796902657, 0.01524234190583229, 0.016146281734108925, 0.011473885737359524, 0.015894223004579544, 0.010732761584222317, 0.013715122826397419, 0.013283760286867619, 0.012161774560809135, 0.012117629870772362, 0.011817237362265587, 0.018339309841394424, 0.013692391104996204, 0.014984960667788982, 0.013190762139856815, 0.015035590156912804, 0.010330255143344402, 0.0110325887799263, 0.009773780591785908, 0.014678467065095901, 0.01025171298533678, 0.008632896468043327, 0.00920144747942686, 0.010623539797961712, 0.00910326186567545, 0.006140527781099081, 0.013632643967866898, 0.012478100135922432, 0.018480785191059113, 0.009912734851241112, 0.012601137161254883, 0.011612576432526112, 0.017032291740179062, 0.01281876489520073, 0.010549429804086685, 0.010684396140277386, 0.010339154861867428, 0.014853297732770443, 0.01001238264143467, 0.010961384512484074, 0.01268638577312231, 0.024810312315821648, 0.014640159904956818, 0.011467029340565205, 0.015464277938008308, 0.009772379882633686, 0.010509739629924297, 0.01593724824488163, 0.006558967288583517, 0.010605636984109879, 0.008708554320037365, 0.0055081951431930065, 0.0082722632214427, 0.0099013801664114, 0.00906445737928152, 0.004825210198760033, 0.0069248550571501255, 0.006795754190534353, 0.010312753729522228, 0.006484438665211201, 0.008979735895991325, 0.008775115013122559, 0.008058973588049412, 0.008112670853734016, 0.01476606260985136, 0.012129745446145535, 0.006531544029712677, 0.010346653871238232, 0.011256489902734756, 0.017027633264660835, 0.009128162637352943, 0.00851117167621851, 0.005526411347091198, 0.011845774948596954, 0.00773297343403101, 0.009013798087835312, 0.007283724378794432, 0.010776610113680363, 0.007714523933827877, 0.016310999169945717, 0.010318919084966183, 0.011043541133403778, 0.010785600170493126, 0.015113369561731815, 0.009103338234126568, 0.016007736325263977, 0.009243638254702091, 0.0063653504475951195, 0.008677424862980843, 0.008518684655427933, 0.005115322303026915, 0.005624046083539724, 0.0038947812281548977, 0.007902835495769978, 0.007281784433871508, 0.00403008796274662, 0.004009928088635206, 0.005854914430528879, 0.004680502228438854, 0.0057040066458284855, 0.007570851128548384, 0.005585785955190659, 0.011397079564630985, 0.004923887550830841, 0.010069656185805798, 0.0070163351483643055, 0.009249886497855186, 0.007984300144016743, 0.009059145115315914, 0.009116636589169502, 0.014341847971081734, 0.01447261217981577, 0.014002799987792969, 0.021691497415304184, 0.056200381368398666, 0.1006326749920845, 0.03022214025259018, 0.06375778466463089, 0.03151671215891838, 0.01946011744439602, 0.0390223003923893, 0.03671359270811081, 0.022184686735272408, 0.02399367280304432, 0.02508820779621601, 0.016026262193918228, 0.012808003462851048, 0.011220177635550499, 0.010403473861515522, 0.011490192264318466, 0.021506845951080322, 0.00945824570953846]}, {\"mode\": \"lines\", \"type\": \"scatter\", \"x\": [0, 1, 2, 3, 4, 5, 6, 7, 8, 9, 10, 11, 12, 13, 14, 15, 16, 17, 18, 19, 20, 21, 22, 23, 24, 25, 26, 27, 28, 29, 30, 31, 32, 33, 34, 35, 36, 37, 38, 39, 40, 41, 42, 43, 44, 45, 46, 47, 48, 49, 50, 51, 52, 53, 54, 55, 56, 57, 58, 59, 60, 61, 62, 63, 64, 65, 66, 67, 68, 69, 70, 71, 72, 73, 74, 75, 76, 77, 78, 79, 80, 81, 82, 83, 84, 85, 86, 87, 88, 89, 90, 91, 92, 93, 94, 95, 96, 97, 98, 99, 100, 101, 102, 103, 104, 105, 106, 107, 108, 109, 110, 111, 112, 113, 114, 115, 116, 117, 118, 119, 120, 121, 122, 123, 124, 125, 126, 127, 128, 129, 130, 131, 132, 133, 134, 135, 136, 137, 138, 139, 140, 141, 142, 143, 144, 145, 146, 147, 148, 149, 150, 151, 152, 153, 154, 155, 156, 157, 158, 159, 160, 161, 162, 163, 164, 165, 166, 167, 168, 169, 170, 171, 172, 173, 174, 175, 176, 177, 178, 179, 180, 181, 182, 183, 184, 185, 186, 187, 188, 189, 190, 191, 192, 193, 194, 195, 196, 197, 198, 199, 200, 201, 202, 203, 204, 205, 206, 207, 208, 209, 210, 211, 212, 213, 214, 215, 216, 217, 218, 219, 220, 221, 222, 223, 224, 225, 226, 227, 228, 229, 230, 231, 232, 233, 234, 235, 236, 237, 238, 239, 240, 241, 242, 243, 244, 245, 246, 247, 248, 249, 250, 251, 252, 253, 254, 255, 256, 257, 258, 259, 260, 261, 262, 263, 264, 265, 266, 267, 268, 269, 270, 271, 272, 273, 274, 275, 276, 277, 278, 279, 280, 281, 282, 283, 284, 285, 286, 287, 288, 289, 290, 291, 292, 293, 294, 295, 296, 297, 298, 299], \"y\": [1.9227420091629028, 1.7448391914367676, 1.6921285390853882, 1.5599079132080078, 1.4286952018737793, 1.3002866506576538, 1.1809427738189697, 1.101191759109497, 1.180708646774292, 0.9827688932418823, 0.8735477924346924, 0.8182518482208252, 0.7648943662643433, 0.712388277053833, 0.6523675322532654, 0.6313838362693787, 0.5785205960273743, 0.5756393671035767, 0.5319693088531494, 0.522401750087738, 0.5215993523597717, 0.4768620431423187, 0.5070695877075195, 0.4842912554740906, 0.41452401876449585, 0.3983026444911957, 0.376897931098938, 0.38014304637908936, 0.39445653557777405, 0.371518075466156, 0.3313790559768677, 0.33958542346954346, 0.310171514749527, 0.3153146207332611, 0.3286897838115692, 0.2952156662940979, 0.2912999391555786, 0.27883821725845337, 0.2503046989440918, 0.259721577167511, 0.26061421632766724, 0.25528767704963684, 0.24080044031143188, 0.24956826865673065, 0.20114077627658844, 0.22059425711631775, 0.2504613697528839, 0.1989656388759613, 0.20549988746643066, 0.18887771666049957, 0.19579662382602692, 0.18373021483421326, 0.1877949982881546, 0.1669171303510666, 0.18098163604736328, 0.2106274664402008, 0.2029261291027069, 0.21362097561359406, 0.1968943327665329, 0.16430971026420593, 0.1868349015712738, 0.1598231941461563, 0.18463754653930664, 0.15782451629638672, 0.17928163707256317, 0.19004543125629425, 0.15908628702163696, 0.1561684012413025, 0.16869157552719116, 0.1384403258562088, 0.1774062067270279, 0.13880673050880432, 0.1434171348810196, 0.1758013814687729, 0.1521596908569336, 0.16913364827632904, 0.1724155694246292, 0.15368835628032684, 0.15674854815006256, 0.1424829661846161, 0.1622786521911621, 0.1447763293981552, 0.1308625191450119, 0.12523891031742096, 0.13382475078105927, 0.1645181030035019, 0.1416056901216507, 0.12284310907125473, 0.1477648913860321, 0.14127852022647858, 0.12634380161762238, 0.14021536707878113, 0.16008485853672028, 0.15541918575763702, 0.11103126406669617, 0.11548212170600891, 0.12804467976093292, 0.14598481357097626, 0.18575938045978546, 0.17271290719509125, 0.1284049153327942, 0.16884613037109375, 0.1486131250858307, 0.18027906119823456, 0.1195266991853714, 0.1508762687444687, 0.12776806950569153, 0.1089043989777565, 0.11693686991930008, 0.16841807961463928, 0.1346888244152069, 0.13818664848804474, 0.16296464204788208, 0.17171825468540192, 0.11651342362165451, 0.1275818794965744, 0.1781320571899414, 0.12518323957920074, 0.10772797465324402, 0.15148711204528809, 0.1525563895702362, 0.15551342070102692, 0.15176363289356232, 0.1536225974559784, 0.14660301804542542, 0.1023794636130333, 0.14368565380573273, 0.1388411819934845, 0.13484834134578705, 0.11414503306150436, 0.1368824988603592, 0.14017550647258759, 0.1447235643863678, 0.15109269320964813, 0.15779942274093628, 0.15438777208328247, 0.12158752977848053, 0.10597636550664902, 0.13137222826480865, 0.15153831243515015, 0.13932067155838013, 0.14020903408527374, 0.14679895341396332, 0.14832334220409393, 0.17135164141654968, 0.14450114965438843, 0.13056953251361847, 0.15088002383708954, 0.174729585647583, 0.16583095490932465, 0.14583131670951843, 0.19374476373195648, 0.16747315227985382, 0.1470780372619629, 0.1611832231283188, 0.18450485169887543, 0.13925263285636902, 0.1287710964679718, 0.16267116367816925, 0.13957823812961578, 0.1014271229505539, 0.12958098948001862, 0.1106221154332161, 0.14029783010482788, 0.21636424958705902, 0.16184239089488983, 0.1774188131093979, 0.18099617958068848, 0.1428368240594864, 0.11477625370025635, 0.13311178982257843, 0.20268256962299347, 0.19855765998363495, 0.13965769112110138, 0.11103013157844543, 0.1273440420627594, 0.1200653538107872, 0.12047597765922546, 0.13967017829418182, 0.1010119765996933, 0.15984509885311127, 0.2030630111694336, 0.18670029938220978, 0.1413077414035797, 0.14615891873836517, 0.14519719779491425, 0.14330440759658813, 0.15956681966781616, 0.14642949402332306, 0.13855873048305511, 0.13801759481430054, 0.13550704717636108, 0.15278120338916779, 0.1618560254573822, 0.12982182204723358, 0.1158352717757225, 0.16277988255023956, 0.19180156290531158, 0.17114420235157013, 0.1650753915309906, 0.1454261988401413, 0.1679498851299286, 0.186279296875, 0.1430591493844986, 0.1420586258172989, 0.1730646789073944, 0.189358651638031, 0.17849527299404144, 0.1488177329301834, 0.16450849175453186, 0.22002196311950684, 0.1779259890317917, 0.17193982005119324, 0.18384762108325958, 0.15576519072055817, 0.15860940515995026, 0.17885208129882812, 0.20279087126255035, 0.1869419664144516, 0.1910717636346817, 0.16271981596946716, 0.15321245789527893, 0.16052863001823425, 0.15282900631427765, 0.1560782641172409, 0.16735941171646118, 0.17530234158039093, 0.19832581281661987, 0.21430175006389618, 0.14182165265083313, 0.135342538356781, 0.16233506798744202, 0.16774210333824158, 0.18418318033218384, 0.18711034953594208, 0.16830994188785553, 0.15321746468544006, 0.22290566563606262, 0.17440694570541382, 0.16270296275615692, 0.16692356765270233, 0.14604130387306213, 0.13249944150447845, 0.14581473171710968, 0.1503160446882248, 0.16978612542152405, 0.14665848016738892, 0.16686691343784332, 0.1935138702392578, 0.1736014038324356, 0.17618338763713837, 0.20925241708755493, 0.18072949349880219, 0.12456485629081726, 0.13088475167751312, 0.161438450217247, 0.1474769562482834, 0.14918145537376404, 0.14573350548744202, 0.1450270563364029, 0.1698884218931198, 0.15562818944454193, 0.13459905982017517, 0.1316983550786972, 0.14214734733104706, 0.15105533599853516, 0.14515528082847595, 0.17390595376491547, 0.19313845038414001, 0.11774823814630508, 0.10597872734069824, 0.12221336364746094, 0.15902692079544067, 0.18989352881908417, 0.18103207647800446, 0.17977969348430634, 0.18930616974830627, 0.19292472302913666, 0.13597330451011658, 0.18477509915828705, 0.16469526290893555, 0.15113963186740875, 0.35986328125, 0.10149137675762177, 0.23582769930362701, 0.19221986830234528, 0.15651698410511017, 0.16667060554027557, 0.17554405331611633, 0.15394385159015656, 0.10170980542898178, 0.1534469872713089, 0.2120973914861679, 0.15001992881298065, 0.1560734063386917, 0.1708824187517166, 0.22233761847019196, 0.1938757747411728, 0.17958752810955048, 0.16276313364505768]}],\n",
              "                        {\"template\": {\"data\": {\"bar\": [{\"error_x\": {\"color\": \"#2a3f5f\"}, \"error_y\": {\"color\": \"#2a3f5f\"}, \"marker\": {\"line\": {\"color\": \"#E5ECF6\", \"width\": 0.5}}, \"type\": \"bar\"}], \"barpolar\": [{\"marker\": {\"line\": {\"color\": \"#E5ECF6\", \"width\": 0.5}}, \"type\": \"barpolar\"}], \"carpet\": [{\"aaxis\": {\"endlinecolor\": \"#2a3f5f\", \"gridcolor\": \"white\", \"linecolor\": \"white\", \"minorgridcolor\": \"white\", \"startlinecolor\": \"#2a3f5f\"}, \"baxis\": {\"endlinecolor\": \"#2a3f5f\", \"gridcolor\": \"white\", \"linecolor\": \"white\", \"minorgridcolor\": \"white\", \"startlinecolor\": \"#2a3f5f\"}, \"type\": \"carpet\"}], \"choropleth\": [{\"colorbar\": {\"outlinewidth\": 0, \"ticks\": \"\"}, \"type\": \"choropleth\"}], \"contour\": [{\"colorbar\": {\"outlinewidth\": 0, \"ticks\": \"\"}, \"colorscale\": [[0.0, \"#0d0887\"], [0.1111111111111111, \"#46039f\"], [0.2222222222222222, \"#7201a8\"], [0.3333333333333333, \"#9c179e\"], [0.4444444444444444, \"#bd3786\"], [0.5555555555555556, \"#d8576b\"], [0.6666666666666666, \"#ed7953\"], [0.7777777777777778, \"#fb9f3a\"], [0.8888888888888888, \"#fdca26\"], [1.0, \"#f0f921\"]], \"type\": \"contour\"}], \"contourcarpet\": [{\"colorbar\": {\"outlinewidth\": 0, \"ticks\": \"\"}, \"type\": \"contourcarpet\"}], \"heatmap\": [{\"colorbar\": {\"outlinewidth\": 0, \"ticks\": \"\"}, \"colorscale\": [[0.0, \"#0d0887\"], [0.1111111111111111, \"#46039f\"], [0.2222222222222222, \"#7201a8\"], [0.3333333333333333, \"#9c179e\"], [0.4444444444444444, \"#bd3786\"], [0.5555555555555556, \"#d8576b\"], [0.6666666666666666, \"#ed7953\"], [0.7777777777777778, \"#fb9f3a\"], [0.8888888888888888, \"#fdca26\"], [1.0, \"#f0f921\"]], \"type\": \"heatmap\"}], \"heatmapgl\": [{\"colorbar\": {\"outlinewidth\": 0, \"ticks\": \"\"}, \"colorscale\": [[0.0, \"#0d0887\"], [0.1111111111111111, \"#46039f\"], [0.2222222222222222, \"#7201a8\"], [0.3333333333333333, \"#9c179e\"], [0.4444444444444444, \"#bd3786\"], [0.5555555555555556, \"#d8576b\"], [0.6666666666666666, \"#ed7953\"], [0.7777777777777778, \"#fb9f3a\"], [0.8888888888888888, \"#fdca26\"], [1.0, \"#f0f921\"]], \"type\": \"heatmapgl\"}], \"histogram\": [{\"marker\": {\"colorbar\": {\"outlinewidth\": 0, \"ticks\": \"\"}}, \"type\": \"histogram\"}], \"histogram2d\": [{\"colorbar\": {\"outlinewidth\": 0, \"ticks\": \"\"}, \"colorscale\": [[0.0, \"#0d0887\"], [0.1111111111111111, \"#46039f\"], [0.2222222222222222, \"#7201a8\"], [0.3333333333333333, \"#9c179e\"], [0.4444444444444444, \"#bd3786\"], [0.5555555555555556, \"#d8576b\"], [0.6666666666666666, \"#ed7953\"], [0.7777777777777778, \"#fb9f3a\"], [0.8888888888888888, \"#fdca26\"], [1.0, \"#f0f921\"]], \"type\": \"histogram2d\"}], \"histogram2dcontour\": [{\"colorbar\": {\"outlinewidth\": 0, \"ticks\": \"\"}, \"colorscale\": [[0.0, \"#0d0887\"], [0.1111111111111111, \"#46039f\"], [0.2222222222222222, \"#7201a8\"], [0.3333333333333333, \"#9c179e\"], [0.4444444444444444, \"#bd3786\"], [0.5555555555555556, \"#d8576b\"], [0.6666666666666666, \"#ed7953\"], [0.7777777777777778, \"#fb9f3a\"], [0.8888888888888888, \"#fdca26\"], [1.0, \"#f0f921\"]], \"type\": \"histogram2dcontour\"}], \"mesh3d\": [{\"colorbar\": {\"outlinewidth\": 0, \"ticks\": \"\"}, \"type\": \"mesh3d\"}], \"parcoords\": [{\"line\": {\"colorbar\": {\"outlinewidth\": 0, \"ticks\": \"\"}}, \"type\": \"parcoords\"}], \"pie\": [{\"automargin\": true, \"type\": \"pie\"}], \"scatter\": [{\"marker\": {\"colorbar\": {\"outlinewidth\": 0, \"ticks\": \"\"}}, \"type\": \"scatter\"}], \"scatter3d\": [{\"line\": {\"colorbar\": {\"outlinewidth\": 0, \"ticks\": \"\"}}, \"marker\": {\"colorbar\": {\"outlinewidth\": 0, \"ticks\": \"\"}}, \"type\": \"scatter3d\"}], \"scattercarpet\": [{\"marker\": {\"colorbar\": {\"outlinewidth\": 0, \"ticks\": \"\"}}, \"type\": \"scattercarpet\"}], \"scattergeo\": [{\"marker\": {\"colorbar\": {\"outlinewidth\": 0, \"ticks\": \"\"}}, \"type\": \"scattergeo\"}], \"scattergl\": [{\"marker\": {\"colorbar\": {\"outlinewidth\": 0, \"ticks\": \"\"}}, \"type\": \"scattergl\"}], \"scattermapbox\": [{\"marker\": {\"colorbar\": {\"outlinewidth\": 0, \"ticks\": \"\"}}, \"type\": \"scattermapbox\"}], \"scatterpolar\": [{\"marker\": {\"colorbar\": {\"outlinewidth\": 0, \"ticks\": \"\"}}, \"type\": \"scatterpolar\"}], \"scatterpolargl\": [{\"marker\": {\"colorbar\": {\"outlinewidth\": 0, \"ticks\": \"\"}}, \"type\": \"scatterpolargl\"}], \"scatterternary\": [{\"marker\": {\"colorbar\": {\"outlinewidth\": 0, \"ticks\": \"\"}}, \"type\": \"scatterternary\"}], \"surface\": [{\"colorbar\": {\"outlinewidth\": 0, \"ticks\": \"\"}, \"colorscale\": [[0.0, \"#0d0887\"], [0.1111111111111111, \"#46039f\"], [0.2222222222222222, \"#7201a8\"], [0.3333333333333333, \"#9c179e\"], [0.4444444444444444, \"#bd3786\"], [0.5555555555555556, \"#d8576b\"], [0.6666666666666666, \"#ed7953\"], [0.7777777777777778, \"#fb9f3a\"], [0.8888888888888888, \"#fdca26\"], [1.0, \"#f0f921\"]], \"type\": \"surface\"}], \"table\": [{\"cells\": {\"fill\": {\"color\": \"#EBF0F8\"}, \"line\": {\"color\": \"white\"}}, \"header\": {\"fill\": {\"color\": \"#C8D4E3\"}, \"line\": {\"color\": \"white\"}}, \"type\": \"table\"}]}, \"layout\": {\"annotationdefaults\": {\"arrowcolor\": \"#2a3f5f\", \"arrowhead\": 0, \"arrowwidth\": 1}, \"coloraxis\": {\"colorbar\": {\"outlinewidth\": 0, \"ticks\": \"\"}}, \"colorscale\": {\"diverging\": [[0, \"#8e0152\"], [0.1, \"#c51b7d\"], [0.2, \"#de77ae\"], [0.3, \"#f1b6da\"], [0.4, \"#fde0ef\"], [0.5, \"#f7f7f7\"], [0.6, \"#e6f5d0\"], [0.7, \"#b8e186\"], [0.8, \"#7fbc41\"], [0.9, \"#4d9221\"], [1, \"#276419\"]], \"sequential\": [[0.0, \"#0d0887\"], [0.1111111111111111, \"#46039f\"], [0.2222222222222222, \"#7201a8\"], [0.3333333333333333, \"#9c179e\"], [0.4444444444444444, \"#bd3786\"], [0.5555555555555556, \"#d8576b\"], [0.6666666666666666, \"#ed7953\"], [0.7777777777777778, \"#fb9f3a\"], [0.8888888888888888, \"#fdca26\"], [1.0, \"#f0f921\"]], \"sequentialminus\": [[0.0, \"#0d0887\"], [0.1111111111111111, \"#46039f\"], [0.2222222222222222, \"#7201a8\"], [0.3333333333333333, \"#9c179e\"], [0.4444444444444444, \"#bd3786\"], [0.5555555555555556, \"#d8576b\"], [0.6666666666666666, \"#ed7953\"], [0.7777777777777778, \"#fb9f3a\"], [0.8888888888888888, \"#fdca26\"], [1.0, \"#f0f921\"]]}, \"colorway\": [\"#636efa\", \"#EF553B\", \"#00cc96\", \"#ab63fa\", \"#FFA15A\", \"#19d3f3\", \"#FF6692\", \"#B6E880\", \"#FF97FF\", \"#FECB52\"], \"font\": {\"color\": \"#2a3f5f\"}, \"geo\": {\"bgcolor\": \"white\", \"lakecolor\": \"white\", \"landcolor\": \"#E5ECF6\", \"showlakes\": true, \"showland\": true, \"subunitcolor\": \"white\"}, \"hoverlabel\": {\"align\": \"left\"}, \"hovermode\": \"closest\", \"mapbox\": {\"style\": \"light\"}, \"paper_bgcolor\": \"white\", \"plot_bgcolor\": \"#E5ECF6\", \"polar\": {\"angularaxis\": {\"gridcolor\": \"white\", \"linecolor\": \"white\", \"ticks\": \"\"}, \"bgcolor\": \"#E5ECF6\", \"radialaxis\": {\"gridcolor\": \"white\", \"linecolor\": \"white\", \"ticks\": \"\"}}, \"scene\": {\"xaxis\": {\"backgroundcolor\": \"#E5ECF6\", \"gridcolor\": \"white\", \"gridwidth\": 2, \"linecolor\": \"white\", \"showbackground\": true, \"ticks\": \"\", \"zerolinecolor\": \"white\"}, \"yaxis\": {\"backgroundcolor\": \"#E5ECF6\", \"gridcolor\": \"white\", \"gridwidth\": 2, \"linecolor\": \"white\", \"showbackground\": true, \"ticks\": \"\", \"zerolinecolor\": \"white\"}, \"zaxis\": {\"backgroundcolor\": \"#E5ECF6\", \"gridcolor\": \"white\", \"gridwidth\": 2, \"linecolor\": \"white\", \"showbackground\": true, \"ticks\": \"\", \"zerolinecolor\": \"white\"}}, \"shapedefaults\": {\"line\": {\"color\": \"#2a3f5f\"}}, \"ternary\": {\"aaxis\": {\"gridcolor\": \"white\", \"linecolor\": \"white\", \"ticks\": \"\"}, \"baxis\": {\"gridcolor\": \"white\", \"linecolor\": \"white\", \"ticks\": \"\"}, \"bgcolor\": \"#E5ECF6\", \"caxis\": {\"gridcolor\": \"white\", \"linecolor\": \"white\", \"ticks\": \"\"}}, \"title\": {\"x\": 0.05}, \"xaxis\": {\"automargin\": true, \"gridcolor\": \"white\", \"linecolor\": \"white\", \"ticks\": \"\", \"title\": {\"standoff\": 15}, \"zerolinecolor\": \"white\", \"zerolinewidth\": 2}, \"yaxis\": {\"automargin\": true, \"gridcolor\": \"white\", \"linecolor\": \"white\", \"ticks\": \"\", \"title\": {\"standoff\": 15}, \"zerolinecolor\": \"white\", \"zerolinewidth\": 2}}}},\n",
              "                        {\"responsive\": true}\n",
              "                    ).then(function(){\n",
              "                            \n",
              "var gd = document.getElementById('4f7fbb44-5fe7-4bdd-89bf-1d607bfb8e68');\n",
              "var x = new MutationObserver(function (mutations, observer) {{\n",
              "        var display = window.getComputedStyle(gd).display;\n",
              "        if (!display || display === 'none') {{\n",
              "            console.log([gd, 'removed!']);\n",
              "            Plotly.purge(gd);\n",
              "            observer.disconnect();\n",
              "        }}\n",
              "}});\n",
              "\n",
              "// Listen for the removal of the full notebook cells\n",
              "var notebookContainer = gd.closest('#notebook-container');\n",
              "if (notebookContainer) {{\n",
              "    x.observe(notebookContainer, {childList: true});\n",
              "}}\n",
              "\n",
              "// Listen for the clearing of the current output cell\n",
              "var outputEl = gd.closest('.output');\n",
              "if (outputEl) {{\n",
              "    x.observe(outputEl, {childList: true});\n",
              "}}\n",
              "\n",
              "                        })\n",
              "                };\n",
              "                \n",
              "            </script>\n",
              "        </div>\n",
              "</body>\n",
              "</html>"
            ]
          },
          "metadata": {
            "tags": []
          }
        }
      ]
    },
    {
      "cell_type": "code",
      "metadata": {
        "colab": {
          "base_uri": "https://localhost:8080/",
          "height": 542
        },
        "id": "1cd7cf7e",
        "outputId": "806cf405-b289-46a3-f1fb-687081926334"
      },
      "source": [
        "fig = go.Figure()\n",
        "fig.add_trace( go.Scatter(x= np.arange(len(history.history[\"accuracy\"])), y=history.history[\"accuracy\"], mode=\"lines\"))\n",
        "fig.add_trace(go.Scatter(x= np.arange(len(history.history[\"val_accuracy\"])), y=history.history[\"val_accuracy\"], mode=\"lines\"))\n",
        "fig.update_layout(dict(title=\"Accuracy\"))\n",
        "fig.show()"
      ],
      "id": "1cd7cf7e",
      "execution_count": null,
      "outputs": [
        {
          "output_type": "display_data",
          "data": {
            "text/html": [
              "<html>\n",
              "<head><meta charset=\"utf-8\" /></head>\n",
              "<body>\n",
              "    <div>\n",
              "            <script src=\"https://cdnjs.cloudflare.com/ajax/libs/mathjax/2.7.5/MathJax.js?config=TeX-AMS-MML_SVG\"></script><script type=\"text/javascript\">if (window.MathJax) {MathJax.Hub.Config({SVG: {font: \"STIX-Web\"}});}</script>\n",
              "                <script type=\"text/javascript\">window.PlotlyConfig = {MathJaxConfig: 'local'};</script>\n",
              "        <script src=\"https://cdn.plot.ly/plotly-latest.min.js\"></script>    \n",
              "            <div id=\"128c2466-c735-41ed-8df3-c8e71372ba5e\" class=\"plotly-graph-div\" style=\"height:525px; width:100%;\"></div>\n",
              "            <script type=\"text/javascript\">\n",
              "                \n",
              "                    window.PLOTLYENV=window.PLOTLYENV || {};\n",
              "                    \n",
              "                if (document.getElementById(\"128c2466-c735-41ed-8df3-c8e71372ba5e\")) {\n",
              "                    Plotly.newPlot(\n",
              "                        '128c2466-c735-41ed-8df3-c8e71372ba5e',\n",
              "                        [{\"mode\": \"lines\", \"type\": \"scatter\", \"x\": [0, 1, 2, 3, 4, 5, 6, 7, 8, 9, 10, 11, 12, 13, 14, 15, 16, 17, 18, 19, 20, 21, 22, 23, 24, 25, 26, 27, 28, 29, 30, 31, 32, 33, 34, 35, 36, 37, 38, 39, 40, 41, 42, 43, 44, 45, 46, 47, 48, 49, 50, 51, 52, 53, 54, 55, 56, 57, 58, 59, 60, 61, 62, 63, 64, 65, 66, 67, 68, 69, 70, 71, 72, 73, 74, 75, 76, 77, 78, 79, 80, 81, 82, 83, 84, 85, 86, 87, 88, 89, 90, 91, 92, 93, 94, 95, 96, 97, 98, 99, 100, 101, 102, 103, 104, 105, 106, 107, 108, 109, 110, 111, 112, 113, 114, 115, 116, 117, 118, 119, 120, 121, 122, 123, 124, 125, 126, 127, 128, 129, 130, 131, 132, 133, 134, 135, 136, 137, 138, 139, 140, 141, 142, 143, 144, 145, 146, 147, 148, 149, 150, 151, 152, 153, 154, 155, 156, 157, 158, 159, 160, 161, 162, 163, 164, 165, 166, 167, 168, 169, 170, 171, 172, 173, 174, 175, 176, 177, 178, 179, 180, 181, 182, 183, 184, 185, 186, 187, 188, 189, 190, 191, 192, 193, 194, 195, 196, 197, 198, 199, 200, 201, 202, 203, 204, 205, 206, 207, 208, 209, 210, 211, 212, 213, 214, 215, 216, 217, 218, 219, 220, 221, 222, 223, 224, 225, 226, 227, 228, 229, 230, 231, 232, 233, 234, 235, 236, 237, 238, 239, 240, 241, 242, 243, 244, 245, 246, 247, 248, 249, 250, 251, 252, 253, 254, 255, 256, 257, 258, 259, 260, 261, 262, 263, 264, 265, 266, 267, 268, 269, 270, 271, 272, 273, 274, 275, 276, 277, 278, 279, 280, 281, 282, 283, 284, 285, 286, 287, 288, 289, 290, 291, 292, 293, 294, 295, 296, 297, 298, 299], \"y\": [0.18518517911434174, 0.2074074000120163, 0.25555557012557983, 0.3342592716217041, 0.4407407343387604, 0.5231481194496155, 0.5768518447875977, 0.5833333134651184, 0.6342592835426331, 0.6018518805503845, 0.6870370507240295, 0.7092592716217041, 0.7222222089767456, 0.7509258985519409, 0.7814815044403076, 0.7990740537643433, 0.7962962985038757, 0.8101851940155029, 0.8296296000480652, 0.8342592716217041, 0.8500000238418579, 0.8305555582046509, 0.845370352268219, 0.8657407164573669, 0.8537036776542664, 0.8787037134170532, 0.8916666507720947, 0.9027777910232544, 0.8842592835426331, 0.8805555701255798, 0.885185182094574, 0.8981481194496155, 0.8962963223457336, 0.8972222208976746, 0.9064815044403076, 0.9203703999519348, 0.9166666865348816, 0.9240740537643433, 0.9194444417953491, 0.9259259104728699, 0.9138888716697693, 0.9240740537643433, 0.9370370507240295, 0.9444444179534912, 0.9268518686294556, 0.9425926208496094, 0.9444444179534912, 0.9509259462356567, 0.9518518447875977, 0.9583333134651184, 0.9490740895271301, 0.9583333134651184, 0.9509259462356567, 0.9583333134651184, 0.960185170173645, 0.960185170173645, 0.9685184955596924, 0.9638888835906982, 0.9694444537162781, 0.9657407402992249, 0.9694444537162781, 0.9685184955596924, 0.9648148417472839, 0.9592592716217041, 0.9712963104248047, 0.9740740656852722, 0.9722222089767456, 0.9722222089767456, 0.9694444537162781, 0.9722222089767456, 0.9750000238418579, 0.9759259223937988, 0.9777777791023254, 0.9814814925193787, 0.9694444537162781, 0.9824073910713196, 0.9787036776542664, 0.9777777791023254, 0.9833333492279053, 0.9851852059364319, 0.9842592477798462, 0.9833333492279053, 0.9907407164573669, 0.9814814925193787, 0.980555534362793, 0.980555534362793, 0.9814814925193787, 0.9870370626449585, 0.9824073910713196, 0.9888888597488403, 0.9833333492279053, 0.9907407164573669, 0.9824073910713196, 0.9833333492279053, 0.9842592477798462, 0.9814814925193787, 0.9870370626449585, 0.9851852059364319, 0.9925925731658936, 0.9824073910713196, 0.9824073910713196, 0.9842592477798462, 0.9833333492279053, 0.9851852059364319, 0.9916666746139526, 0.9944444298744202, 0.9953703880310059, 0.9935185313224792, 0.9935185313224792, 0.9916666746139526, 0.9842592477798462, 0.9935185313224792, 0.9925925731658936, 0.9944444298744202, 0.9907407164573669, 0.9842592477798462, 0.9851852059364319, 0.9907407164573669, 0.9935185313224792, 0.9962962865829468, 0.9925925731658936, 0.9888888597488403, 0.9925925731658936, 0.9962962865829468, 0.9962962865829468, 0.9925925731658936, 0.9972222447395325, 0.9990741014480591, 0.9916666746139526, 0.9935185313224792, 0.9916666746139526, 0.9944444298744202, 0.9907407164573669, 0.9944444298744202, 0.9925925731658936, 0.9907407164573669, 0.9935185313224792, 0.9953703880310059, 0.9962962865829468, 0.9990741014480591, 0.9935185313224792, 0.9944444298744202, 0.9962962865829468, 0.9944444298744202, 0.9962962865829468, 0.9953703880310059, 1.0, 0.9953703880310059, 0.9972222447395325, 0.9962962865829468, 0.9953703880310059, 0.9972222447395325, 0.9962962865829468, 0.9953703880310059, 0.9944444298744202, 0.9925925731658936, 0.9925925731658936, 0.9888888597488403, 0.9944444298744202, 0.9944444298744202, 0.9925925731658936, 0.9916666746139526, 0.9925925731658936, 0.9953703880310059, 0.9953703880310059, 0.9916666746139526, 0.9925925731658936, 0.9972222447395325, 0.9925925731658936, 0.9981481432914734, 0.9962962865829468, 0.9962962865829468, 0.9962962865829468, 0.9972222447395325, 0.9953703880310059, 0.9962962865829468, 0.9981481432914734, 0.9981481432914734, 0.9981481432914734, 0.9935185313224792, 0.9972222447395325, 0.9962962865829468, 0.9962962865829468, 0.9953703880310059, 0.9981481432914734, 1.0, 0.9990741014480591, 0.9953703880310059, 0.9972222447395325, 0.9990741014480591, 0.9990741014480591, 0.9981481432914734, 0.9990741014480591, 0.9990741014480591, 0.9972222447395325, 0.9981481432914734, 0.9944444298744202, 0.9990741014480591, 0.9972222447395325, 0.9962962865829468, 0.9935185313224792, 0.9962962865829468, 0.9981481432914734, 0.9972222447395325, 0.9962962865829468, 0.9935185313224792, 0.9981481432914734, 0.9972222447395325, 0.9981481432914734, 0.9935185313224792, 0.9962962865829468, 0.9981481432914734, 0.9962962865829468, 0.9981481432914734, 0.9990741014480591, 0.9953703880310059, 0.9990741014480591, 0.9972222447395325, 0.9990741014480591, 0.9990741014480591, 0.9990741014480591, 0.9972222447395325, 0.9990741014480591, 0.9990741014480591, 0.9990741014480591, 0.9990741014480591, 0.9972222447395325, 0.9990741014480591, 0.9981481432914734, 0.9972222447395325, 0.9990741014480591, 0.9990741014480591, 0.9944444298744202, 0.9962962865829468, 0.9990741014480591, 0.9972222447395325, 0.9981481432914734, 0.9962962865829468, 0.9972222447395325, 0.9981481432914734, 1.0, 0.9981481432914734, 0.9981481432914734, 0.9972222447395325, 0.9981481432914734, 0.9962962865829468, 0.9981481432914734, 0.9953703880310059, 0.9972222447395325, 0.9972222447395325, 0.9981481432914734, 0.9962962865829468, 0.9981481432914734, 0.9953703880310059, 0.9981481432914734, 0.9990741014480591, 0.9981481432914734, 0.9972222447395325, 0.9990741014480591, 1.0, 1.0, 0.9981481432914734, 0.9981481432914734, 1.0, 1.0, 0.9990741014480591, 1.0, 1.0, 0.9972222447395325, 0.9981481432914734, 0.9972222447395325, 0.9990741014480591, 0.9962962865829468, 0.9962962865829468, 0.9981481432914734, 0.9981481432914734, 0.9981481432914734, 0.9962962865829468, 0.9944444298744202, 0.9981481432914734, 0.9972222447395325, 0.9944444298744202, 0.980555534362793, 0.9657407402992249, 0.9888888597488403, 0.9777777791023254, 0.9888888597488403, 0.9944444298744202, 0.9851852059364319, 0.9888888597488403, 0.9916666746139526, 0.9916666746139526, 0.9935185313224792, 0.9944444298744202, 0.9953703880310059, 0.9972222447395325, 0.9981481432914734, 0.9972222447395325, 0.989814817905426, 0.9972222447395325]}, {\"mode\": \"lines\", \"type\": \"scatter\", \"x\": [0, 1, 2, 3, 4, 5, 6, 7, 8, 9, 10, 11, 12, 13, 14, 15, 16, 17, 18, 19, 20, 21, 22, 23, 24, 25, 26, 27, 28, 29, 30, 31, 32, 33, 34, 35, 36, 37, 38, 39, 40, 41, 42, 43, 44, 45, 46, 47, 48, 49, 50, 51, 52, 53, 54, 55, 56, 57, 58, 59, 60, 61, 62, 63, 64, 65, 66, 67, 68, 69, 70, 71, 72, 73, 74, 75, 76, 77, 78, 79, 80, 81, 82, 83, 84, 85, 86, 87, 88, 89, 90, 91, 92, 93, 94, 95, 96, 97, 98, 99, 100, 101, 102, 103, 104, 105, 106, 107, 108, 109, 110, 111, 112, 113, 114, 115, 116, 117, 118, 119, 120, 121, 122, 123, 124, 125, 126, 127, 128, 129, 130, 131, 132, 133, 134, 135, 136, 137, 138, 139, 140, 141, 142, 143, 144, 145, 146, 147, 148, 149, 150, 151, 152, 153, 154, 155, 156, 157, 158, 159, 160, 161, 162, 163, 164, 165, 166, 167, 168, 169, 170, 171, 172, 173, 174, 175, 176, 177, 178, 179, 180, 181, 182, 183, 184, 185, 186, 187, 188, 189, 190, 191, 192, 193, 194, 195, 196, 197, 198, 199, 200, 201, 202, 203, 204, 205, 206, 207, 208, 209, 210, 211, 212, 213, 214, 215, 216, 217, 218, 219, 220, 221, 222, 223, 224, 225, 226, 227, 228, 229, 230, 231, 232, 233, 234, 235, 236, 237, 238, 239, 240, 241, 242, 243, 244, 245, 246, 247, 248, 249, 250, 251, 252, 253, 254, 255, 256, 257, 258, 259, 260, 261, 262, 263, 264, 265, 266, 267, 268, 269, 270, 271, 272, 273, 274, 275, 276, 277, 278, 279, 280, 281, 282, 283, 284, 285, 286, 287, 288, 289, 290, 291, 292, 293, 294, 295, 296, 297, 298, 299], \"y\": [0.1666666716337204, 0.3499999940395355, 0.20000000298023224, 0.3499999940395355, 0.49166667461395264, 0.5666666626930237, 0.6416666507720947, 0.6333333253860474, 0.574999988079071, 0.6499999761581421, 0.7333333492279053, 0.7833333611488342, 0.7749999761581421, 0.7749999761581421, 0.824999988079071, 0.8083333373069763, 0.8083333373069763, 0.8166666626930237, 0.8333333134651184, 0.8583333492279053, 0.8083333373069763, 0.8500000238418579, 0.8500000238418579, 0.8083333373069763, 0.875, 0.8666666746139526, 0.8916666507720947, 0.8583333492279053, 0.8666666746139526, 0.8916666507720947, 0.8916666507720947, 0.8666666746139526, 0.9166666865348816, 0.9083333611488342, 0.8833333253860474, 0.9333333373069763, 0.9166666865348816, 0.8999999761581421, 0.925000011920929, 0.9083333611488342, 0.9166666865348816, 0.9166666865348816, 0.925000011920929, 0.925000011920929, 0.9333333373069763, 0.9333333373069763, 0.9166666865348816, 0.9416666626930237, 0.949999988079071, 0.9333333373069763, 0.949999988079071, 0.9416666626930237, 0.9583333134651184, 0.9416666626930237, 0.9583333134651184, 0.949999988079071, 0.9166666865348816, 0.9333333373069763, 0.9333333373069763, 0.9416666626930237, 0.949999988079071, 0.9750000238418579, 0.949999988079071, 0.949999988079071, 0.949999988079071, 0.9333333373069763, 0.9583333134651184, 0.9583333134651184, 0.9666666388511658, 0.9666666388511658, 0.949999988079071, 0.9666666388511658, 0.9583333134651184, 0.949999988079071, 0.9583333134651184, 0.949999988079071, 0.9583333134651184, 0.949999988079071, 0.949999988079071, 0.949999988079071, 0.9583333134651184, 0.9666666388511658, 0.9583333134651184, 0.9666666388511658, 0.9583333134651184, 0.949999988079071, 0.9583333134651184, 0.9666666388511658, 0.9666666388511658, 0.9583333134651184, 0.9666666388511658, 0.9666666388511658, 0.9666666388511658, 0.949999988079071, 0.9583333134651184, 0.9750000238418579, 0.9666666388511658, 0.9583333134651184, 0.9416666626930237, 0.9416666626930237, 0.949999988079071, 0.9583333134651184, 0.9583333134651184, 0.949999988079071, 0.9666666388511658, 0.949999988079071, 0.949999988079071, 0.9583333134651184, 0.9583333134651184, 0.949999988079071, 0.9666666388511658, 0.9583333134651184, 0.9416666626930237, 0.949999988079071, 0.9583333134651184, 0.9583333134651184, 0.9416666626930237, 0.9583333134651184, 0.9750000238418579, 0.949999988079071, 0.949999988079071, 0.949999988079071, 0.9583333134651184, 0.9416666626930237, 0.9416666626930237, 0.9666666388511658, 0.9583333134651184, 0.9666666388511658, 0.9583333134651184, 0.9666666388511658, 0.9666666388511658, 0.9583333134651184, 0.9583333134651184, 0.9583333134651184, 0.949999988079071, 0.9583333134651184, 0.9666666388511658, 0.9583333134651184, 0.9666666388511658, 0.9583333134651184, 0.9666666388511658, 0.9666666388511658, 0.9666666388511658, 0.949999988079071, 0.9416666626930237, 0.9583333134651184, 0.9666666388511658, 0.9666666388511658, 0.9583333134651184, 0.9666666388511658, 0.9583333134651184, 0.9416666626930237, 0.9583333134651184, 0.9750000238418579, 0.9583333134651184, 0.9583333134651184, 0.949999988079071, 0.9583333134651184, 0.9583333134651184, 0.9583333134651184, 0.9750000238418579, 0.9583333134651184, 0.9666666388511658, 0.949999988079071, 0.925000011920929, 0.949999988079071, 0.9583333134651184, 0.9666666388511658, 0.9666666388511658, 0.9750000238418579, 0.9583333134651184, 0.9416666626930237, 0.9416666626930237, 0.9583333134651184, 0.9750000238418579, 0.9666666388511658, 0.9750000238418579, 0.9750000238418579, 0.9666666388511658, 0.9750000238418579, 0.9666666388511658, 0.9583333134651184, 0.9583333134651184, 0.9666666388511658, 0.9666666388511658, 0.9666666388511658, 0.9666666388511658, 0.9583333134651184, 0.9583333134651184, 0.9666666388511658, 0.9750000238418579, 0.9750000238418579, 0.9666666388511658, 0.9583333134651184, 0.9666666388511658, 0.9583333134651184, 0.9666666388511658, 0.949999988079071, 0.9583333134651184, 0.9583333134651184, 0.9583333134651184, 0.9666666388511658, 0.9583333134651184, 0.9666666388511658, 0.9666666388511658, 0.9666666388511658, 0.949999988079071, 0.949999988079071, 0.9583333134651184, 0.9666666388511658, 0.949999988079071, 0.949999988079071, 0.9750000238418579, 0.9583333134651184, 0.9666666388511658, 0.9583333134651184, 0.9583333134651184, 0.949999988079071, 0.949999988079071, 0.925000011920929, 0.949999988079071, 0.9416666626930237, 0.9583333134651184, 0.9583333134651184, 0.9666666388511658, 0.949999988079071, 0.949999988079071, 0.949999988079071, 0.9333333373069763, 0.9583333134651184, 0.9583333134651184, 0.949999988079071, 0.949999988079071, 0.949999988079071, 0.9583333134651184, 0.9583333134651184, 0.9583333134651184, 0.9416666626930237, 0.949999988079071, 0.9583333134651184, 0.9583333134651184, 0.9583333134651184, 0.9666666388511658, 0.9666666388511658, 0.9666666388511658, 0.949999988079071, 0.9666666388511658, 0.949999988079071, 0.9416666626930237, 0.9666666388511658, 0.9666666388511658, 0.949999988079071, 0.9583333134651184, 0.9750000238418579, 0.9750000238418579, 0.9666666388511658, 0.9666666388511658, 0.9750000238418579, 0.9750000238418579, 0.9666666388511658, 0.9583333134651184, 0.9583333134651184, 0.9666666388511658, 0.9666666388511658, 0.9666666388511658, 0.9666666388511658, 0.9666666388511658, 0.9583333134651184, 0.9583333134651184, 0.9750000238418579, 0.9833333492279053, 0.9750000238418579, 0.9666666388511658, 0.9583333134651184, 0.9583333134651184, 0.9666666388511658, 0.9666666388511658, 0.9666666388511658, 0.9833333492279053, 0.949999988079071, 0.9666666388511658, 0.9583333134651184, 0.925000011920929, 0.9666666388511658, 0.9416666626930237, 0.9583333134651184, 0.9666666388511658, 0.9666666388511658, 0.9583333134651184, 0.9583333134651184, 0.9750000238418579, 0.9583333134651184, 0.949999988079071, 0.9583333134651184, 0.9583333134651184, 0.9583333134651184, 0.9583333134651184, 0.9666666388511658, 0.9666666388511658, 0.9666666388511658]}],\n",
              "                        {\"template\": {\"data\": {\"bar\": [{\"error_x\": {\"color\": \"#2a3f5f\"}, \"error_y\": {\"color\": \"#2a3f5f\"}, \"marker\": {\"line\": {\"color\": \"#E5ECF6\", \"width\": 0.5}}, \"type\": \"bar\"}], \"barpolar\": [{\"marker\": {\"line\": {\"color\": \"#E5ECF6\", \"width\": 0.5}}, \"type\": \"barpolar\"}], \"carpet\": [{\"aaxis\": {\"endlinecolor\": \"#2a3f5f\", \"gridcolor\": \"white\", \"linecolor\": \"white\", \"minorgridcolor\": \"white\", \"startlinecolor\": \"#2a3f5f\"}, \"baxis\": {\"endlinecolor\": \"#2a3f5f\", \"gridcolor\": \"white\", \"linecolor\": \"white\", \"minorgridcolor\": \"white\", \"startlinecolor\": \"#2a3f5f\"}, \"type\": \"carpet\"}], \"choropleth\": [{\"colorbar\": {\"outlinewidth\": 0, \"ticks\": \"\"}, \"type\": \"choropleth\"}], \"contour\": [{\"colorbar\": {\"outlinewidth\": 0, \"ticks\": \"\"}, \"colorscale\": [[0.0, \"#0d0887\"], [0.1111111111111111, \"#46039f\"], [0.2222222222222222, \"#7201a8\"], [0.3333333333333333, \"#9c179e\"], [0.4444444444444444, \"#bd3786\"], [0.5555555555555556, \"#d8576b\"], [0.6666666666666666, \"#ed7953\"], [0.7777777777777778, \"#fb9f3a\"], [0.8888888888888888, \"#fdca26\"], [1.0, \"#f0f921\"]], \"type\": \"contour\"}], \"contourcarpet\": [{\"colorbar\": {\"outlinewidth\": 0, \"ticks\": \"\"}, \"type\": \"contourcarpet\"}], \"heatmap\": [{\"colorbar\": {\"outlinewidth\": 0, \"ticks\": \"\"}, \"colorscale\": [[0.0, \"#0d0887\"], [0.1111111111111111, \"#46039f\"], [0.2222222222222222, \"#7201a8\"], [0.3333333333333333, \"#9c179e\"], [0.4444444444444444, \"#bd3786\"], [0.5555555555555556, \"#d8576b\"], [0.6666666666666666, \"#ed7953\"], [0.7777777777777778, \"#fb9f3a\"], [0.8888888888888888, \"#fdca26\"], [1.0, \"#f0f921\"]], \"type\": \"heatmap\"}], \"heatmapgl\": [{\"colorbar\": {\"outlinewidth\": 0, \"ticks\": \"\"}, \"colorscale\": [[0.0, \"#0d0887\"], [0.1111111111111111, \"#46039f\"], [0.2222222222222222, \"#7201a8\"], [0.3333333333333333, \"#9c179e\"], [0.4444444444444444, \"#bd3786\"], [0.5555555555555556, \"#d8576b\"], [0.6666666666666666, \"#ed7953\"], [0.7777777777777778, \"#fb9f3a\"], [0.8888888888888888, \"#fdca26\"], [1.0, \"#f0f921\"]], \"type\": \"heatmapgl\"}], \"histogram\": [{\"marker\": {\"colorbar\": {\"outlinewidth\": 0, \"ticks\": \"\"}}, \"type\": \"histogram\"}], \"histogram2d\": [{\"colorbar\": {\"outlinewidth\": 0, \"ticks\": \"\"}, \"colorscale\": [[0.0, \"#0d0887\"], [0.1111111111111111, \"#46039f\"], [0.2222222222222222, \"#7201a8\"], [0.3333333333333333, \"#9c179e\"], [0.4444444444444444, \"#bd3786\"], [0.5555555555555556, \"#d8576b\"], [0.6666666666666666, \"#ed7953\"], [0.7777777777777778, \"#fb9f3a\"], [0.8888888888888888, \"#fdca26\"], [1.0, \"#f0f921\"]], \"type\": \"histogram2d\"}], \"histogram2dcontour\": [{\"colorbar\": {\"outlinewidth\": 0, \"ticks\": \"\"}, \"colorscale\": [[0.0, \"#0d0887\"], [0.1111111111111111, \"#46039f\"], [0.2222222222222222, \"#7201a8\"], [0.3333333333333333, \"#9c179e\"], [0.4444444444444444, \"#bd3786\"], [0.5555555555555556, \"#d8576b\"], [0.6666666666666666, \"#ed7953\"], [0.7777777777777778, \"#fb9f3a\"], [0.8888888888888888, \"#fdca26\"], [1.0, \"#f0f921\"]], \"type\": \"histogram2dcontour\"}], \"mesh3d\": [{\"colorbar\": {\"outlinewidth\": 0, \"ticks\": \"\"}, \"type\": \"mesh3d\"}], \"parcoords\": [{\"line\": {\"colorbar\": {\"outlinewidth\": 0, \"ticks\": \"\"}}, \"type\": \"parcoords\"}], \"pie\": [{\"automargin\": true, \"type\": \"pie\"}], \"scatter\": [{\"marker\": {\"colorbar\": {\"outlinewidth\": 0, \"ticks\": \"\"}}, \"type\": \"scatter\"}], \"scatter3d\": [{\"line\": {\"colorbar\": {\"outlinewidth\": 0, \"ticks\": \"\"}}, \"marker\": {\"colorbar\": {\"outlinewidth\": 0, \"ticks\": \"\"}}, \"type\": \"scatter3d\"}], \"scattercarpet\": [{\"marker\": {\"colorbar\": {\"outlinewidth\": 0, \"ticks\": \"\"}}, \"type\": \"scattercarpet\"}], \"scattergeo\": [{\"marker\": {\"colorbar\": {\"outlinewidth\": 0, \"ticks\": \"\"}}, \"type\": \"scattergeo\"}], \"scattergl\": [{\"marker\": {\"colorbar\": {\"outlinewidth\": 0, \"ticks\": \"\"}}, \"type\": \"scattergl\"}], \"scattermapbox\": [{\"marker\": {\"colorbar\": {\"outlinewidth\": 0, \"ticks\": \"\"}}, \"type\": \"scattermapbox\"}], \"scatterpolar\": [{\"marker\": {\"colorbar\": {\"outlinewidth\": 0, \"ticks\": \"\"}}, \"type\": \"scatterpolar\"}], \"scatterpolargl\": [{\"marker\": {\"colorbar\": {\"outlinewidth\": 0, \"ticks\": \"\"}}, \"type\": \"scatterpolargl\"}], \"scatterternary\": [{\"marker\": {\"colorbar\": {\"outlinewidth\": 0, \"ticks\": \"\"}}, \"type\": \"scatterternary\"}], \"surface\": [{\"colorbar\": {\"outlinewidth\": 0, \"ticks\": \"\"}, \"colorscale\": [[0.0, \"#0d0887\"], [0.1111111111111111, \"#46039f\"], [0.2222222222222222, \"#7201a8\"], [0.3333333333333333, \"#9c179e\"], [0.4444444444444444, \"#bd3786\"], [0.5555555555555556, \"#d8576b\"], [0.6666666666666666, \"#ed7953\"], [0.7777777777777778, \"#fb9f3a\"], [0.8888888888888888, \"#fdca26\"], [1.0, \"#f0f921\"]], \"type\": \"surface\"}], \"table\": [{\"cells\": {\"fill\": {\"color\": \"#EBF0F8\"}, \"line\": {\"color\": \"white\"}}, \"header\": {\"fill\": {\"color\": \"#C8D4E3\"}, \"line\": {\"color\": \"white\"}}, \"type\": \"table\"}]}, \"layout\": {\"annotationdefaults\": {\"arrowcolor\": \"#2a3f5f\", \"arrowhead\": 0, \"arrowwidth\": 1}, \"coloraxis\": {\"colorbar\": {\"outlinewidth\": 0, \"ticks\": \"\"}}, \"colorscale\": {\"diverging\": [[0, \"#8e0152\"], [0.1, \"#c51b7d\"], [0.2, \"#de77ae\"], [0.3, \"#f1b6da\"], [0.4, \"#fde0ef\"], [0.5, \"#f7f7f7\"], [0.6, \"#e6f5d0\"], [0.7, \"#b8e186\"], [0.8, \"#7fbc41\"], [0.9, \"#4d9221\"], [1, \"#276419\"]], \"sequential\": [[0.0, \"#0d0887\"], [0.1111111111111111, \"#46039f\"], [0.2222222222222222, \"#7201a8\"], [0.3333333333333333, \"#9c179e\"], [0.4444444444444444, \"#bd3786\"], [0.5555555555555556, \"#d8576b\"], [0.6666666666666666, \"#ed7953\"], [0.7777777777777778, \"#fb9f3a\"], [0.8888888888888888, \"#fdca26\"], [1.0, \"#f0f921\"]], \"sequentialminus\": [[0.0, \"#0d0887\"], [0.1111111111111111, \"#46039f\"], [0.2222222222222222, \"#7201a8\"], [0.3333333333333333, \"#9c179e\"], [0.4444444444444444, \"#bd3786\"], [0.5555555555555556, \"#d8576b\"], [0.6666666666666666, \"#ed7953\"], [0.7777777777777778, \"#fb9f3a\"], [0.8888888888888888, \"#fdca26\"], [1.0, \"#f0f921\"]]}, \"colorway\": [\"#636efa\", \"#EF553B\", \"#00cc96\", \"#ab63fa\", \"#FFA15A\", \"#19d3f3\", \"#FF6692\", \"#B6E880\", \"#FF97FF\", \"#FECB52\"], \"font\": {\"color\": \"#2a3f5f\"}, \"geo\": {\"bgcolor\": \"white\", \"lakecolor\": \"white\", \"landcolor\": \"#E5ECF6\", \"showlakes\": true, \"showland\": true, \"subunitcolor\": \"white\"}, \"hoverlabel\": {\"align\": \"left\"}, \"hovermode\": \"closest\", \"mapbox\": {\"style\": \"light\"}, \"paper_bgcolor\": \"white\", \"plot_bgcolor\": \"#E5ECF6\", \"polar\": {\"angularaxis\": {\"gridcolor\": \"white\", \"linecolor\": \"white\", \"ticks\": \"\"}, \"bgcolor\": \"#E5ECF6\", \"radialaxis\": {\"gridcolor\": \"white\", \"linecolor\": \"white\", \"ticks\": \"\"}}, \"scene\": {\"xaxis\": {\"backgroundcolor\": \"#E5ECF6\", \"gridcolor\": \"white\", \"gridwidth\": 2, \"linecolor\": \"white\", \"showbackground\": true, \"ticks\": \"\", \"zerolinecolor\": \"white\"}, \"yaxis\": {\"backgroundcolor\": \"#E5ECF6\", \"gridcolor\": \"white\", \"gridwidth\": 2, \"linecolor\": \"white\", \"showbackground\": true, \"ticks\": \"\", \"zerolinecolor\": \"white\"}, \"zaxis\": {\"backgroundcolor\": \"#E5ECF6\", \"gridcolor\": \"white\", \"gridwidth\": 2, \"linecolor\": \"white\", \"showbackground\": true, \"ticks\": \"\", \"zerolinecolor\": \"white\"}}, \"shapedefaults\": {\"line\": {\"color\": \"#2a3f5f\"}}, \"ternary\": {\"aaxis\": {\"gridcolor\": \"white\", \"linecolor\": \"white\", \"ticks\": \"\"}, \"baxis\": {\"gridcolor\": \"white\", \"linecolor\": \"white\", \"ticks\": \"\"}, \"bgcolor\": \"#E5ECF6\", \"caxis\": {\"gridcolor\": \"white\", \"linecolor\": \"white\", \"ticks\": \"\"}}, \"title\": {\"x\": 0.05}, \"xaxis\": {\"automargin\": true, \"gridcolor\": \"white\", \"linecolor\": \"white\", \"ticks\": \"\", \"title\": {\"standoff\": 15}, \"zerolinecolor\": \"white\", \"zerolinewidth\": 2}, \"yaxis\": {\"automargin\": true, \"gridcolor\": \"white\", \"linecolor\": \"white\", \"ticks\": \"\", \"title\": {\"standoff\": 15}, \"zerolinecolor\": \"white\", \"zerolinewidth\": 2}}}, \"title\": {\"text\": \"Accuracy\"}},\n",
              "                        {\"responsive\": true}\n",
              "                    ).then(function(){\n",
              "                            \n",
              "var gd = document.getElementById('128c2466-c735-41ed-8df3-c8e71372ba5e');\n",
              "var x = new MutationObserver(function (mutations, observer) {{\n",
              "        var display = window.getComputedStyle(gd).display;\n",
              "        if (!display || display === 'none') {{\n",
              "            console.log([gd, 'removed!']);\n",
              "            Plotly.purge(gd);\n",
              "            observer.disconnect();\n",
              "        }}\n",
              "}});\n",
              "\n",
              "// Listen for the removal of the full notebook cells\n",
              "var notebookContainer = gd.closest('#notebook-container');\n",
              "if (notebookContainer) {{\n",
              "    x.observe(notebookContainer, {childList: true});\n",
              "}}\n",
              "\n",
              "// Listen for the clearing of the current output cell\n",
              "var outputEl = gd.closest('.output');\n",
              "if (outputEl) {{\n",
              "    x.observe(outputEl, {childList: true});\n",
              "}}\n",
              "\n",
              "                        })\n",
              "                };\n",
              "                \n",
              "            </script>\n",
              "        </div>\n",
              "</body>\n",
              "</html>"
            ]
          },
          "metadata": {
            "tags": []
          }
        }
      ]
    },
    {
      "cell_type": "code",
      "metadata": {
        "colab": {
          "base_uri": "https://localhost:8080/"
        },
        "id": "e537b5cf",
        "outputId": "0b022be4-2c67-4905-e5f3-b47915bebce4"
      },
      "source": [
        "xv.shape"
      ],
      "id": "e537b5cf",
      "execution_count": null,
      "outputs": [
        {
          "output_type": "execute_result",
          "data": {
            "text/plain": [
              "(120, 64, 64, 3)"
            ]
          },
          "metadata": {
            "tags": []
          },
          "execution_count": 23
        }
      ]
    },
    {
      "cell_type": "code",
      "metadata": {
        "colab": {
          "base_uri": "https://localhost:8080/",
          "height": 300
        },
        "id": "52cd4267",
        "outputId": "f6f21e0d-e4a9-48a9-e158-e01593f9ba55"
      },
      "source": [
        "index = 56\n",
        "print(np.squeeze(np.argmax(model.predict(xv_es[index:index+1]),axis=1)))\n",
        "plt.imshow(xv[index])"
      ],
      "id": "52cd4267",
      "execution_count": null,
      "outputs": [
        {
          "output_type": "stream",
          "text": [
            "4\n"
          ],
          "name": "stdout"
        },
        {
          "output_type": "execute_result",
          "data": {
            "text/plain": [
              "<matplotlib.image.AxesImage at 0x7f952cf73e90>"
            ]
          },
          "metadata": {
            "tags": []
          },
          "execution_count": 24
        },
        {
          "output_type": "display_data",
          "data": {
            "image/png": "[encoded data removed]",
            "text/plain": [
              "<Figure size 432x288 with 1 Axes>"
            ]
          },
          "metadata": {
            "tags": [],
            "needs_background": "light"
          }
        }
      ]
    },
    {
      "cell_type": "markdown",
      "metadata": {
        "id": "025e7511"
      },
      "source": [
        "#### Que esta aprendieno la red"
      ],
      "id": "025e7511"
    },
    {
      "cell_type": "code",
      "metadata": {
        "id": "0c800438"
      },
      "source": [
        "x = model.layers[0](xv_es[index:index+1])"
      ],
      "id": "0c800438",
      "execution_count": null,
      "outputs": []
    },
    {
      "cell_type": "code",
      "metadata": {
        "colab": {
          "base_uri": "https://localhost:8080/"
        },
        "id": "068a473f",
        "outputId": "d4edb888-26b4-4b3f-e28c-891bc76ef075"
      },
      "source": [
        "x.shape"
      ],
      "id": "068a473f",
      "execution_count": null,
      "outputs": [
        {
          "output_type": "execute_result",
          "data": {
            "text/plain": [
              "TensorShape([1, 64, 64, 8])"
            ]
          },
          "metadata": {
            "tags": []
          },
          "execution_count": 26
        }
      ]
    },
    {
      "cell_type": "code",
      "metadata": {
        "colab": {
          "base_uri": "https://localhost:8080/"
        },
        "id": "JzGYzVBvCgSI",
        "outputId": "7a4b07b7-eadc-4838-ab30-4664c8a7599e"
      },
      "source": [
        "x[0,:,:,5:9]"
      ],
      "id": "JzGYzVBvCgSI",
      "execution_count": 54,
      "outputs": [
        {
          "output_type": "execute_result",
          "data": {
            "text/plain": [
              "<tf.Tensor: shape=(32, 32, 4), dtype=float32, numpy=\n",
              "array([[[ 4.45087850e-01, -2.76099294e-01, -4.51472700e-01,\n",
              "          2.98639131e-03],\n",
              "        [ 4.09437567e-01, -3.26402605e-01, -6.12972617e-01,\n",
              "         -1.13017112e-01],\n",
              "        [ 4.76822078e-01, -3.04149687e-01, -6.06035590e-01,\n",
              "         -6.63687289e-02],\n",
              "        ...,\n",
              "        [ 4.93166089e-01, -3.17170769e-01, -6.28868997e-01,\n",
              "         -7.26510510e-02],\n",
              "        [ 4.43218440e-01, -3.09013426e-01, -6.26361191e-01,\n",
              "         -2.29592137e-02],\n",
              "        [ 3.59654933e-01, -1.96264833e-01, -4.13564384e-01,\n",
              "         -8.01454261e-02]],\n",
              "\n",
              "       [[ 6.24881327e-01, -5.74820817e-01,  1.83627695e-01,\n",
              "         -5.99959418e-02],\n",
              "        [ 4.59118426e-01, -6.01376474e-01,  2.39340633e-01,\n",
              "         -2.07766667e-01],\n",
              "        [ 4.75064993e-01, -5.48686147e-01,  3.20823789e-01,\n",
              "         -1.20376378e-01],\n",
              "        ...,\n",
              "        [ 4.94594783e-01, -5.70776582e-01,  3.16778630e-01,\n",
              "         -1.34529382e-01],\n",
              "        [ 3.98465633e-01, -5.24858177e-01,  3.55814427e-01,\n",
              "         -1.50053978e-01],\n",
              "        [ 1.96921021e-01, -3.01444083e-01,  2.74524629e-01,\n",
              "         -1.21257484e-01]],\n",
              "\n",
              "       [[ 2.63167381e-01, -3.03683937e-01,  1.23928068e-02,\n",
              "         -9.06152651e-02],\n",
              "        [ 5.47944233e-02, -2.04493076e-01, -1.30059019e-01,\n",
              "         -1.83187544e-01],\n",
              "        [ 1.40429875e-02, -1.01622671e-01, -3.28314342e-02,\n",
              "         -9.04525295e-02],\n",
              "        ...,\n",
              "        [ 3.25419903e-02, -1.28757998e-01, -3.93129177e-02,\n",
              "         -1.06284089e-01],\n",
              "        [-7.07428083e-02, -5.39623685e-02,  1.27143611e-03,\n",
              "         -1.17368810e-01],\n",
              "        [ 2.43973229e-02,  4.15303484e-02, -2.46230271e-02,\n",
              "         -7.12850988e-02]],\n",
              "\n",
              "       ...,\n",
              "\n",
              "       [[ 1.22707814e-01, -2.27951944e-01,  7.40021989e-02,\n",
              "         -8.94240215e-02],\n",
              "        [-5.48517331e-03, -1.42681599e-01, -9.50885005e-03,\n",
              "         -1.51949540e-01],\n",
              "        [-5.47781885e-02, -4.89069335e-02,  5.24660312e-02,\n",
              "         -6.13303557e-02],\n",
              "        ...,\n",
              "        [ 5.20890243e-02, -1.58715978e-01,  5.71033917e-03,\n",
              "         -1.12149626e-01],\n",
              "        [-4.25846912e-02, -8.72522742e-02,  4.07919474e-02,\n",
              "         -1.22863881e-01],\n",
              "        [ 2.86263674e-02,  1.90960802e-02, -9.75294970e-05,\n",
              "         -7.61746913e-02]],\n",
              "\n",
              "       [[ 5.02985939e-02, -2.27105305e-01,  1.10517822e-01,\n",
              "         -1.22177921e-01],\n",
              "        [-3.27085704e-02, -9.92627069e-02,  6.21490590e-02,\n",
              "         -1.86186641e-01],\n",
              "        [-6.65869415e-02, -4.90417937e-03,  1.30693153e-01,\n",
              "         -1.16837852e-01],\n",
              "        ...,\n",
              "        [ 3.21091823e-02, -1.01319507e-01,  1.21490858e-01,\n",
              "         -1.86902881e-01],\n",
              "        [-6.62633702e-02, -2.15297565e-02,  1.36274099e-01,\n",
              "         -2.07936302e-01],\n",
              "        [ 1.07095791e-02,  5.47981746e-02,  6.44827187e-02,\n",
              "         -1.32405818e-01]],\n",
              "\n",
              "       [[ 4.31552008e-02, -2.42930189e-01,  1.26221031e-01,\n",
              "         -1.41852617e-01],\n",
              "        [-6.43938556e-02, -1.07179262e-01,  1.45255476e-01,\n",
              "         -1.73098728e-01],\n",
              "        [-1.34630069e-01, -2.15236526e-02,  1.66323155e-01,\n",
              "         -1.39322087e-01],\n",
              "        ...,\n",
              "        [-1.05916232e-01, -1.08290084e-01,  2.31429324e-01,\n",
              "         -2.06598759e-01],\n",
              "        [-1.29427359e-01,  1.83477774e-02,  2.46133238e-01,\n",
              "         -2.36441284e-01],\n",
              "        [-9.31942612e-02,  1.67033330e-01,  1.14044234e-01,\n",
              "         -1.83413345e-02]]], dtype=float32)>"
            ]
          },
          "metadata": {
            "tags": []
          },
          "execution_count": 54
        }
      ]
    },
    {
      "cell_type": "code",
      "metadata": {
        "id": "14a725b6"
      },
      "source": [
        "plt.imshow(x[0,:,:,0:34])"
      ],
      "id": "14a725b6",
      "execution_count": null,
      "outputs": []
    },
    {
      "cell_type": "code",
      "metadata": {
        "id": "460dc193",
        "colab": {
          "base_uri": "https://localhost:8080/"
        },
        "outputId": "fd12697a-2d5e-472c-f3dd-9ef0dd604392"
      },
      "source": [
        "model.layers"
      ],
      "id": "460dc193",
      "execution_count": 51,
      "outputs": [
        {
          "output_type": "execute_result",
          "data": {
            "text/plain": [
              "[<tensorflow.python.keras.layers.convolutional.Conv2D at 0x7f9536072cd0>,\n",
              " <tensorflow.python.keras.layers.pooling.MaxPooling2D at 0x7f95320c63d0>,\n",
              " <tensorflow.python.keras.layers.convolutional.Conv2D at 0x7f953caeb610>,\n",
              " <tensorflow.python.keras.layers.pooling.MaxPooling2D at 0x7f9532018610>,\n",
              " <tensorflow.python.keras.layers.convolutional.Conv2D at 0x7f953202a190>,\n",
              " <tensorflow.python.keras.layers.pooling.MaxPooling2D at 0x7f9532026fd0>,\n",
              " <tensorflow.python.keras.layers.core.Flatten at 0x7f9532018350>,\n",
              " <tensorflow.python.keras.layers.core.Dropout at 0x7f9532033a50>,\n",
              " <tensorflow.python.keras.layers.core.Dense at 0x7f95320207d0>,\n",
              " <tensorflow.python.keras.layers.core.Dropout at 0x7f95357ff590>,\n",
              " <tensorflow.python.keras.layers.core.Dense at 0x7f9532072290>,\n",
              " <tensorflow.python.keras.layers.core.Dropout at 0x7f953606c290>,\n",
              " <tensorflow.python.keras.layers.core.Dense at 0x7f9532031d90>]"
            ]
          },
          "metadata": {
            "tags": []
          },
          "execution_count": 51
        }
      ]
    },
    {
      "cell_type": "code",
      "metadata": {
        "id": "e240aa06"
      },
      "source": [
        "x = model.layers[1](x)\n",
        "x = model.layers[2](x)"
      ],
      "id": "e240aa06",
      "execution_count": 52,
      "outputs": []
    },
    {
      "cell_type": "code",
      "metadata": {
        "id": "cd0963bd",
        "colab": {
          "base_uri": "https://localhost:8080/",
          "height": 298
        },
        "outputId": "d9de01e4-e1e5-4f46-b180-399546119de5"
      },
      "source": [
        "plt.imshow(x[0,:,:,6:9])"
      ],
      "id": "cd0963bd",
      "execution_count": 65,
      "outputs": [
        {
          "output_type": "stream",
          "text": [
            "Clipping input data to the valid range for imshow with RGB data ([0..1] for floats or [0..255] for integers).\n"
          ],
          "name": "stderr"
        },
        {
          "output_type": "execute_result",
          "data": {
            "text/plain": [
              "<matplotlib.image.AxesImage at 0x7f952c644210>"
            ]
          },
          "metadata": {
            "tags": []
          },
          "execution_count": 65
        },
        {
          "output_type": "display_data",
          "data": {
            "image/png": "[encoded data removed]",
            "text/plain": [
              "<Figure size 432x288 with 1 Axes>"
            ]
          },
          "metadata": {
            "tags": [],
            "needs_background": "light"
          }
        }
      ]
    },
    {
      "cell_type": "code",
      "metadata": {
        "id": "921e3462"
      },
      "source": [
        "x = model.layers[3](x)\n",
        "x = model.layers[4](x)"
      ],
      "id": "921e3462",
      "execution_count": 66,
      "outputs": []
    },
    {
      "cell_type": "code",
      "metadata": {
        "colab": {
          "base_uri": "https://localhost:8080/"
        },
        "id": "SeJWl4zdE3Kk",
        "outputId": "2e23179e-4195-4ada-f80d-20f783c415c4"
      },
      "source": [
        "x[0,:,:,5:9]"
      ],
      "id": "SeJWl4zdE3Kk",
      "execution_count": 70,
      "outputs": [
        {
          "output_type": "execute_result",
          "data": {
            "text/plain": [
              "<tf.Tensor: shape=(16, 16, 4), dtype=float32, numpy=\n",
              "array([[[-0.00786096, -0.05719412,  0.34935582,  0.21025422],\n",
              "        [-0.23356798,  0.00243189,  0.13840275,  0.079464  ],\n",
              "        [-0.2261704 , -0.0332532 ,  0.14355433,  0.02054595],\n",
              "        ...,\n",
              "        [-0.23791221, -0.01801031,  0.17032334,  0.05218027],\n",
              "        [-0.25458238, -0.18678112,  0.02785623, -0.17071089],\n",
              "        [-0.34162417, -0.13301261, -0.20126848, -0.31739143]],\n",
              "\n",
              "       [[ 0.07725932,  0.08589829,  0.16790134,  0.10420328],\n",
              "        [-0.1193891 , -0.03869412, -0.05235752, -0.04977622],\n",
              "        [-0.01898445, -0.05150182, -0.11454973, -0.1493229 ],\n",
              "        ...,\n",
              "        [-0.01255499,  0.03647687, -0.07181948, -0.03011087],\n",
              "        [-0.0798143 , -0.13450556, -0.15901111, -0.23022915],\n",
              "        [-0.10483187, -0.27239558, -0.35473073, -0.00219685]],\n",
              "\n",
              "       [[ 0.02335301,  0.11027377,  0.09353234, -0.03971014],\n",
              "        [-0.12360296, -0.19178644, -0.10707227, -0.12475962],\n",
              "        [ 0.03059057, -0.35910544, -0.32907137, -0.44996953],\n",
              "        ...,\n",
              "        [-0.00649911,  0.04297439, -0.01106868, -0.0118214 ],\n",
              "        [-0.13659555, -0.1118734 , -0.08438368, -0.17986937],\n",
              "        [-0.05825621, -0.27826098, -0.21096659, -0.01214168]],\n",
              "\n",
              "       ...,\n",
              "\n",
              "       [[-0.04141868,  0.06222182,  0.01201312, -0.05763965],\n",
              "        [-0.15491433, -0.11456534, -0.04975703, -0.04464319],\n",
              "        [-0.05683481, -0.06186963, -0.0976916 , -0.10907517],\n",
              "        ...,\n",
              "        [ 0.02353414, -0.04611701,  0.06775408,  0.12072303],\n",
              "        [-0.10771381, -0.12472484, -0.05100429, -0.12004811],\n",
              "        [-0.06732658, -0.26588088, -0.18062437,  0.01861722]],\n",
              "\n",
              "       [[-0.04455207, -0.01493563, -0.01880892, -0.12036265],\n",
              "        [-0.09150632, -0.18885899, -0.05192675, -0.11697255],\n",
              "        [ 0.03530959, -0.10951645, -0.1360914 , -0.18574488],\n",
              "        ...,\n",
              "        [ 0.02779529, -0.08884356,  0.1320437 ,  0.02956762],\n",
              "        [-0.04225155, -0.20431602, -0.01534153, -0.20682761],\n",
              "        [-0.04035868, -0.29878807, -0.16303311, -0.04896589]],\n",
              "\n",
              "       [[-0.01219899, -0.11714135, -0.15306656, -0.13383533],\n",
              "        [-0.03145877, -0.3020297 , -0.03901327, -0.0415798 ],\n",
              "        [ 0.03411081, -0.20170058, -0.13290167, -0.08852873],\n",
              "        ...,\n",
              "        [ 0.17739256, -0.3779366 ,  0.00468437, -0.08864049],\n",
              "        [ 0.08330645, -0.3590566 , -0.02367433, -0.18971859],\n",
              "        [ 0.01857283, -0.31280938, -0.1459494 ,  0.0415778 ]]],\n",
              "      dtype=float32)>"
            ]
          },
          "metadata": {
            "tags": []
          },
          "execution_count": 70
        }
      ]
    },
    {
      "cell_type": "code",
      "metadata": {
        "id": "422b7a16",
        "colab": {
          "base_uri": "https://localhost:8080/",
          "height": 297
        },
        "outputId": "cd046adc-d764-4e06-e4f0-2faf618972b2"
      },
      "source": [
        "plt.imshow(x[0,:,:,6:9])"
      ],
      "id": "422b7a16",
      "execution_count": 82,
      "outputs": [
        {
          "output_type": "stream",
          "text": [
            "Clipping input data to the valid range for imshow with RGB data ([0..1] for floats or [0..255] for integers).\n"
          ],
          "name": "stderr"
        },
        {
          "output_type": "execute_result",
          "data": {
            "text/plain": [
              "<matplotlib.image.AxesImage at 0x7f952c8f0850>"
            ]
          },
          "metadata": {
            "tags": []
          },
          "execution_count": 82
        },
        {
          "output_type": "display_data",
          "data": {
            "image/png": "[encoded data removed]",
            "text/plain": [
              "<Figure size 432x288 with 1 Axes>"
            ]
          },
          "metadata": {
            "tags": [],
            "needs_background": "light"
          }
        }
      ]
    },
    {
      "cell_type": "code",
      "metadata": {
        "id": "01fa7610"
      },
      "source": [
        ""
      ],
      "id": "01fa7610",
      "execution_count": null,
      "outputs": []
    }
  ]
}