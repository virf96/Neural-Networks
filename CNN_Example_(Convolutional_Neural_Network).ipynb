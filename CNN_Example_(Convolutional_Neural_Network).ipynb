{
  "nbformat": 4,
  "nbformat_minor": 5,
  "metadata": {
    "kernelspec": {
      "display_name": "Python 3",
      "language": "python",
      "name": "python3"
    },
    "language_info": {
      "codemirror_mode": {
        "name": "ipython",
        "version": 3
      },
      "file_extension": ".py",
      "mimetype": "text/x-python",
      "name": "python",
      "nbconvert_exporter": "python",
      "pygments_lexer": "ipython3",
      "version": "3.8.2"
    },
    "colab": {
      "name": "CNN Example (Convolutional Neural Network).ipynb",
      "provenance": [],
      "include_colab_link": true
    }
  },
  "cells": [
    {
      "cell_type": "markdown",
      "metadata": {
        "id": "view-in-github",
        "colab_type": "text"
      },
      "source": [
        "<a href=\"https://colab.research.google.com/github/virf96/Neural-Networks/blob/main/CNN_Example_(Convolutional_Neural_Network).ipynb\" target=\"_parent\"><img src=\"https://colab.research.google.com/assets/colab-badge.svg\" alt=\"Open In Colab\"/></a>"
      ]
    },
    {
      "cell_type": "code",
      "metadata": {
        "id": "da78aecf"
      },
      "source": [
        "from tensorflow.keras.datasets import mnist\n",
        "from matplotlib.pyplot import imshow\n",
        "import numpy as np"
      ],
      "id": "da78aecf",
      "execution_count": null,
      "outputs": []
    },
    {
      "cell_type": "code",
      "metadata": {
        "id": "c3941cba"
      },
      "source": [
        "train, test = mnist.load_data()"
      ],
      "id": "c3941cba",
      "execution_count": null,
      "outputs": []
    },
    {
      "cell_type": "code",
      "metadata": {
        "id": "cfb5f771"
      },
      "source": [
        "xt, yt = train[0], train[1]\n",
        "xv, yv = test[0], test[1]"
      ],
      "id": "cfb5f771",
      "execution_count": null,
      "outputs": []
    },
    {
      "cell_type": "code",
      "metadata": {
        "colab": {
          "base_uri": "https://localhost:8080/"
        },
        "id": "6873c73e",
        "outputId": "7e72ed2c-5b3f-4c25-b67c-5d9c08be7507"
      },
      "source": [
        "xt.shape, yt.shape"
      ],
      "id": "6873c73e",
      "execution_count": null,
      "outputs": [
        {
          "output_type": "execute_result",
          "data": {
            "text/plain": [
              "((60000, 28, 28), (60000,))"
            ]
          },
          "metadata": {
            "tags": []
          },
          "execution_count": 16
        }
      ]
    },
    {
      "cell_type": "code",
      "metadata": {
        "colab": {
          "base_uri": "https://localhost:8080/"
        },
        "id": "56c24999",
        "outputId": "1469858e-e82e-4995-fddb-e38f7c2635e3"
      },
      "source": [
        "xv.shape, yv.shape"
      ],
      "id": "56c24999",
      "execution_count": null,
      "outputs": [
        {
          "output_type": "execute_result",
          "data": {
            "text/plain": [
              "((10000, 28, 28), (10000,))"
            ]
          },
          "metadata": {
            "tags": []
          },
          "execution_count": 17
        }
      ]
    },
    {
      "cell_type": "markdown",
      "metadata": {
        "id": "b466b63d"
      },
      "source": [
        "El MNIST dataset, contiene imagenes de los digtos del 0 al 9 escritos a mano"
      ],
      "id": "b466b63d"
    },
    {
      "cell_type": "code",
      "metadata": {
        "colab": {
          "base_uri": "https://localhost:8080/",
          "height": 281
        },
        "id": "1f11a8c5",
        "outputId": "8d8c9954-f032-40a5-db25-6d20df7a4d93"
      },
      "source": [
        "imshow(xt[44])"
      ],
      "id": "1f11a8c5",
      "execution_count": null,
      "outputs": [
        {
          "output_type": "execute_result",
          "data": {
            "text/plain": [
              "<matplotlib.image.AxesImage at 0x7f39bca67950>"
            ]
          },
          "metadata": {
            "tags": []
          },
          "execution_count": 18
        },
        {
          "output_type": "display_data",
          "data": {
            "image/png": "[encoded data removed]",
            "text/plain": [
              "<Figure size 432x288 with 1 Axes>"
            ]
          },
          "metadata": {
            "tags": [],
            "needs_background": "light"
          }
        }
      ]
    },
    {
      "cell_type": "code",
      "metadata": {
        "colab": {
          "base_uri": "https://localhost:8080/"
        },
        "id": "79acb1f2",
        "outputId": "ec926479-07cb-44ff-c735-39a5ed9bede1"
      },
      "source": [
        "np.unique(yt) ## clases de la target"
      ],
      "id": "79acb1f2",
      "execution_count": null,
      "outputs": [
        {
          "output_type": "execute_result",
          "data": {
            "text/plain": [
              "array([0, 1, 2, 3, 4, 5, 6, 7, 8, 9], dtype=uint8)"
            ]
          },
          "metadata": {
            "tags": []
          },
          "execution_count": 19
        }
      ]
    },
    {
      "cell_type": "markdown",
      "metadata": {
        "id": "2d4b3d7d"
      },
      "source": [
        "### Preprocesing"
      ],
      "id": "2d4b3d7d"
    },
    {
      "cell_type": "code",
      "metadata": {
        "colab": {
          "base_uri": "https://localhost:8080/"
        },
        "id": "wsytt4QNQzWE",
        "outputId": "ef195383-ecf1-4ff6-fcd0-42a2a9529a56"
      },
      "source": [
        "xt[0]"
      ],
      "id": "wsytt4QNQzWE",
      "execution_count": null,
      "outputs": [
        {
          "output_type": "execute_result",
          "data": {
            "text/plain": [
              "array([[  0,   0,   0,   0,   0,   0,   0,   0,   0,   0,   0,   0,   0,\n",
              "          0,   0,   0,   0,   0,   0,   0,   0,   0,   0,   0,   0,   0,\n",
              "          0,   0],\n",
              "       [  0,   0,   0,   0,   0,   0,   0,   0,   0,   0,   0,   0,   0,\n",
              "          0,   0,   0,   0,   0,   0,   0,   0,   0,   0,   0,   0,   0,\n",
              "          0,   0],\n",
              "       [  0,   0,   0,   0,   0,   0,   0,   0,   0,   0,   0,   0,   0,\n",
              "          0,   0,   0,   0,   0,   0,   0,   0,   0,   0,   0,   0,   0,\n",
              "          0,   0],\n",
              "       [  0,   0,   0,   0,   0,   0,   0,   0,   0,   0,   0,   0,   0,\n",
              "          0,   0,   0,   0,   0,   0,   0,   0,   0,   0,   0,   0,   0,\n",
              "          0,   0],\n",
              "       [  0,   0,   0,   0,   0,   0,   0,   0,   0,   0,   0,   0,   0,\n",
              "          0,   0,   0,   0,   0,   0,   0,   0,   0,   0,   0,   0,   0,\n",
              "          0,   0],\n",
              "       [  0,   0,   0,   0,   0,   0,   0,   0,   0,   0,   0,   0,   3,\n",
              "         18,  18,  18, 126, 136, 175,  26, 166, 255, 247, 127,   0,   0,\n",
              "          0,   0],\n",
              "       [  0,   0,   0,   0,   0,   0,   0,   0,  30,  36,  94, 154, 170,\n",
              "        253, 253, 253, 253, 253, 225, 172, 253, 242, 195,  64,   0,   0,\n",
              "          0,   0],\n",
              "       [  0,   0,   0,   0,   0,   0,   0,  49, 238, 253, 253, 253, 253,\n",
              "        253, 253, 253, 253, 251,  93,  82,  82,  56,  39,   0,   0,   0,\n",
              "          0,   0],\n",
              "       [  0,   0,   0,   0,   0,   0,   0,  18, 219, 253, 253, 253, 253,\n",
              "        253, 198, 182, 247, 241,   0,   0,   0,   0,   0,   0,   0,   0,\n",
              "          0,   0],\n",
              "       [  0,   0,   0,   0,   0,   0,   0,   0,  80, 156, 107, 253, 253,\n",
              "        205,  11,   0,  43, 154,   0,   0,   0,   0,   0,   0,   0,   0,\n",
              "          0,   0],\n",
              "       [  0,   0,   0,   0,   0,   0,   0,   0,   0,  14,   1, 154, 253,\n",
              "         90,   0,   0,   0,   0,   0,   0,   0,   0,   0,   0,   0,   0,\n",
              "          0,   0],\n",
              "       [  0,   0,   0,   0,   0,   0,   0,   0,   0,   0,   0, 139, 253,\n",
              "        190,   2,   0,   0,   0,   0,   0,   0,   0,   0,   0,   0,   0,\n",
              "          0,   0],\n",
              "       [  0,   0,   0,   0,   0,   0,   0,   0,   0,   0,   0,  11, 190,\n",
              "        253,  70,   0,   0,   0,   0,   0,   0,   0,   0,   0,   0,   0,\n",
              "          0,   0],\n",
              "       [  0,   0,   0,   0,   0,   0,   0,   0,   0,   0,   0,   0,  35,\n",
              "        241, 225, 160, 108,   1,   0,   0,   0,   0,   0,   0,   0,   0,\n",
              "          0,   0],\n",
              "       [  0,   0,   0,   0,   0,   0,   0,   0,   0,   0,   0,   0,   0,\n",
              "         81, 240, 253, 253, 119,  25,   0,   0,   0,   0,   0,   0,   0,\n",
              "          0,   0],\n",
              "       [  0,   0,   0,   0,   0,   0,   0,   0,   0,   0,   0,   0,   0,\n",
              "          0,  45, 186, 253, 253, 150,  27,   0,   0,   0,   0,   0,   0,\n",
              "          0,   0],\n",
              "       [  0,   0,   0,   0,   0,   0,   0,   0,   0,   0,   0,   0,   0,\n",
              "          0,   0,  16,  93, 252, 253, 187,   0,   0,   0,   0,   0,   0,\n",
              "          0,   0],\n",
              "       [  0,   0,   0,   0,   0,   0,   0,   0,   0,   0,   0,   0,   0,\n",
              "          0,   0,   0,   0, 249, 253, 249,  64,   0,   0,   0,   0,   0,\n",
              "          0,   0],\n",
              "       [  0,   0,   0,   0,   0,   0,   0,   0,   0,   0,   0,   0,   0,\n",
              "          0,  46, 130, 183, 253, 253, 207,   2,   0,   0,   0,   0,   0,\n",
              "          0,   0],\n",
              "       [  0,   0,   0,   0,   0,   0,   0,   0,   0,   0,   0,   0,  39,\n",
              "        148, 229, 253, 253, 253, 250, 182,   0,   0,   0,   0,   0,   0,\n",
              "          0,   0],\n",
              "       [  0,   0,   0,   0,   0,   0,   0,   0,   0,   0,  24, 114, 221,\n",
              "        253, 253, 253, 253, 201,  78,   0,   0,   0,   0,   0,   0,   0,\n",
              "          0,   0],\n",
              "       [  0,   0,   0,   0,   0,   0,   0,   0,  23,  66, 213, 253, 253,\n",
              "        253, 253, 198,  81,   2,   0,   0,   0,   0,   0,   0,   0,   0,\n",
              "          0,   0],\n",
              "       [  0,   0,   0,   0,   0,   0,  18, 171, 219, 253, 253, 253, 253,\n",
              "        195,  80,   9,   0,   0,   0,   0,   0,   0,   0,   0,   0,   0,\n",
              "          0,   0],\n",
              "       [  0,   0,   0,   0,  55, 172, 226, 253, 253, 253, 253, 244, 133,\n",
              "         11,   0,   0,   0,   0,   0,   0,   0,   0,   0,   0,   0,   0,\n",
              "          0,   0],\n",
              "       [  0,   0,   0,   0, 136, 253, 253, 253, 212, 135, 132,  16,   0,\n",
              "          0,   0,   0,   0,   0,   0,   0,   0,   0,   0,   0,   0,   0,\n",
              "          0,   0],\n",
              "       [  0,   0,   0,   0,   0,   0,   0,   0,   0,   0,   0,   0,   0,\n",
              "          0,   0,   0,   0,   0,   0,   0,   0,   0,   0,   0,   0,   0,\n",
              "          0,   0],\n",
              "       [  0,   0,   0,   0,   0,   0,   0,   0,   0,   0,   0,   0,   0,\n",
              "          0,   0,   0,   0,   0,   0,   0,   0,   0,   0,   0,   0,   0,\n",
              "          0,   0],\n",
              "       [  0,   0,   0,   0,   0,   0,   0,   0,   0,   0,   0,   0,   0,\n",
              "          0,   0,   0,   0,   0,   0,   0,   0,   0,   0,   0,   0,   0,\n",
              "          0,   0]], dtype=uint8)"
            ]
          },
          "metadata": {
            "tags": []
          },
          "execution_count": 21
        }
      ]
    },
    {
      "cell_type": "code",
      "metadata": {
        "id": "7fbe3bc7"
      },
      "source": [
        "xt = xt/255 ## el maximo valor para colores de 8 bits\n",
        "xv = xv/255"
      ],
      "id": "7fbe3bc7",
      "execution_count": null,
      "outputs": []
    },
    {
      "cell_type": "code",
      "metadata": {
        "colab": {
          "base_uri": "https://localhost:8080/"
        },
        "id": "-L23e0oNQ8WE",
        "outputId": "a39588ba-9377-4d92-f04e-d3d67a2ceefd"
      },
      "source": [
        "xt[0]"
      ],
      "id": "-L23e0oNQ8WE",
      "execution_count": null,
      "outputs": [
        {
          "output_type": "execute_result",
          "data": {
            "text/plain": [
              "array([[0.        , 0.        , 0.        , 0.        , 0.        ,\n",
              "        0.        , 0.        , 0.        , 0.        , 0.        ,\n",
              "        0.        , 0.        , 0.        , 0.        , 0.        ,\n",
              "        0.        , 0.        , 0.        , 0.        , 0.        ,\n",
              "        0.        , 0.        , 0.        , 0.        , 0.        ,\n",
              "        0.        , 0.        , 0.        ],\n",
              "       [0.        , 0.        , 0.        , 0.        , 0.        ,\n",
              "        0.        , 0.        , 0.        , 0.        , 0.        ,\n",
              "        0.        , 0.        , 0.        , 0.        , 0.        ,\n",
              "        0.        , 0.        , 0.        , 0.        , 0.        ,\n",
              "        0.        , 0.        , 0.        , 0.        , 0.        ,\n",
              "        0.        , 0.        , 0.        ],\n",
              "       [0.        , 0.        , 0.        , 0.        , 0.        ,\n",
              "        0.        , 0.        , 0.        , 0.        , 0.        ,\n",
              "        0.        , 0.        , 0.        , 0.        , 0.        ,\n",
              "        0.        , 0.        , 0.        , 0.        , 0.        ,\n",
              "        0.        , 0.        , 0.        , 0.        , 0.        ,\n",
              "        0.        , 0.        , 0.        ],\n",
              "       [0.        , 0.        , 0.        , 0.        , 0.        ,\n",
              "        0.        , 0.        , 0.        , 0.        , 0.        ,\n",
              "        0.        , 0.        , 0.        , 0.        , 0.        ,\n",
              "        0.        , 0.        , 0.        , 0.        , 0.        ,\n",
              "        0.        , 0.        , 0.        , 0.        , 0.        ,\n",
              "        0.        , 0.        , 0.        ],\n",
              "       [0.        , 0.        , 0.        , 0.        , 0.        ,\n",
              "        0.        , 0.        , 0.        , 0.        , 0.        ,\n",
              "        0.        , 0.        , 0.        , 0.        , 0.        ,\n",
              "        0.        , 0.        , 0.        , 0.        , 0.        ,\n",
              "        0.        , 0.        , 0.        , 0.        , 0.        ,\n",
              "        0.        , 0.        , 0.        ],\n",
              "       [0.        , 0.        , 0.        , 0.        , 0.        ,\n",
              "        0.        , 0.        , 0.        , 0.        , 0.        ,\n",
              "        0.        , 0.        , 0.01176471, 0.07058824, 0.07058824,\n",
              "        0.07058824, 0.49411765, 0.53333333, 0.68627451, 0.10196078,\n",
              "        0.65098039, 1.        , 0.96862745, 0.49803922, 0.        ,\n",
              "        0.        , 0.        , 0.        ],\n",
              "       [0.        , 0.        , 0.        , 0.        , 0.        ,\n",
              "        0.        , 0.        , 0.        , 0.11764706, 0.14117647,\n",
              "        0.36862745, 0.60392157, 0.66666667, 0.99215686, 0.99215686,\n",
              "        0.99215686, 0.99215686, 0.99215686, 0.88235294, 0.6745098 ,\n",
              "        0.99215686, 0.94901961, 0.76470588, 0.25098039, 0.        ,\n",
              "        0.        , 0.        , 0.        ],\n",
              "       [0.        , 0.        , 0.        , 0.        , 0.        ,\n",
              "        0.        , 0.        , 0.19215686, 0.93333333, 0.99215686,\n",
              "        0.99215686, 0.99215686, 0.99215686, 0.99215686, 0.99215686,\n",
              "        0.99215686, 0.99215686, 0.98431373, 0.36470588, 0.32156863,\n",
              "        0.32156863, 0.21960784, 0.15294118, 0.        , 0.        ,\n",
              "        0.        , 0.        , 0.        ],\n",
              "       [0.        , 0.        , 0.        , 0.        , 0.        ,\n",
              "        0.        , 0.        , 0.07058824, 0.85882353, 0.99215686,\n",
              "        0.99215686, 0.99215686, 0.99215686, 0.99215686, 0.77647059,\n",
              "        0.71372549, 0.96862745, 0.94509804, 0.        , 0.        ,\n",
              "        0.        , 0.        , 0.        , 0.        , 0.        ,\n",
              "        0.        , 0.        , 0.        ],\n",
              "       [0.        , 0.        , 0.        , 0.        , 0.        ,\n",
              "        0.        , 0.        , 0.        , 0.31372549, 0.61176471,\n",
              "        0.41960784, 0.99215686, 0.99215686, 0.80392157, 0.04313725,\n",
              "        0.        , 0.16862745, 0.60392157, 0.        , 0.        ,\n",
              "        0.        , 0.        , 0.        , 0.        , 0.        ,\n",
              "        0.        , 0.        , 0.        ],\n",
              "       [0.        , 0.        , 0.        , 0.        , 0.        ,\n",
              "        0.        , 0.        , 0.        , 0.        , 0.05490196,\n",
              "        0.00392157, 0.60392157, 0.99215686, 0.35294118, 0.        ,\n",
              "        0.        , 0.        , 0.        , 0.        , 0.        ,\n",
              "        0.        , 0.        , 0.        , 0.        , 0.        ,\n",
              "        0.        , 0.        , 0.        ],\n",
              "       [0.        , 0.        , 0.        , 0.        , 0.        ,\n",
              "        0.        , 0.        , 0.        , 0.        , 0.        ,\n",
              "        0.        , 0.54509804, 0.99215686, 0.74509804, 0.00784314,\n",
              "        0.        , 0.        , 0.        , 0.        , 0.        ,\n",
              "        0.        , 0.        , 0.        , 0.        , 0.        ,\n",
              "        0.        , 0.        , 0.        ],\n",
              "       [0.        , 0.        , 0.        , 0.        , 0.        ,\n",
              "        0.        , 0.        , 0.        , 0.        , 0.        ,\n",
              "        0.        , 0.04313725, 0.74509804, 0.99215686, 0.2745098 ,\n",
              "        0.        , 0.        , 0.        , 0.        , 0.        ,\n",
              "        0.        , 0.        , 0.        , 0.        , 0.        ,\n",
              "        0.        , 0.        , 0.        ],\n",
              "       [0.        , 0.        , 0.        , 0.        , 0.        ,\n",
              "        0.        , 0.        , 0.        , 0.        , 0.        ,\n",
              "        0.        , 0.        , 0.1372549 , 0.94509804, 0.88235294,\n",
              "        0.62745098, 0.42352941, 0.00392157, 0.        , 0.        ,\n",
              "        0.        , 0.        , 0.        , 0.        , 0.        ,\n",
              "        0.        , 0.        , 0.        ],\n",
              "       [0.        , 0.        , 0.        , 0.        , 0.        ,\n",
              "        0.        , 0.        , 0.        , 0.        , 0.        ,\n",
              "        0.        , 0.        , 0.        , 0.31764706, 0.94117647,\n",
              "        0.99215686, 0.99215686, 0.46666667, 0.09803922, 0.        ,\n",
              "        0.        , 0.        , 0.        , 0.        , 0.        ,\n",
              "        0.        , 0.        , 0.        ],\n",
              "       [0.        , 0.        , 0.        , 0.        , 0.        ,\n",
              "        0.        , 0.        , 0.        , 0.        , 0.        ,\n",
              "        0.        , 0.        , 0.        , 0.        , 0.17647059,\n",
              "        0.72941176, 0.99215686, 0.99215686, 0.58823529, 0.10588235,\n",
              "        0.        , 0.        , 0.        , 0.        , 0.        ,\n",
              "        0.        , 0.        , 0.        ],\n",
              "       [0.        , 0.        , 0.        , 0.        , 0.        ,\n",
              "        0.        , 0.        , 0.        , 0.        , 0.        ,\n",
              "        0.        , 0.        , 0.        , 0.        , 0.        ,\n",
              "        0.0627451 , 0.36470588, 0.98823529, 0.99215686, 0.73333333,\n",
              "        0.        , 0.        , 0.        , 0.        , 0.        ,\n",
              "        0.        , 0.        , 0.        ],\n",
              "       [0.        , 0.        , 0.        , 0.        , 0.        ,\n",
              "        0.        , 0.        , 0.        , 0.        , 0.        ,\n",
              "        0.        , 0.        , 0.        , 0.        , 0.        ,\n",
              "        0.        , 0.        , 0.97647059, 0.99215686, 0.97647059,\n",
              "        0.25098039, 0.        , 0.        , 0.        , 0.        ,\n",
              "        0.        , 0.        , 0.        ],\n",
              "       [0.        , 0.        , 0.        , 0.        , 0.        ,\n",
              "        0.        , 0.        , 0.        , 0.        , 0.        ,\n",
              "        0.        , 0.        , 0.        , 0.        , 0.18039216,\n",
              "        0.50980392, 0.71764706, 0.99215686, 0.99215686, 0.81176471,\n",
              "        0.00784314, 0.        , 0.        , 0.        , 0.        ,\n",
              "        0.        , 0.        , 0.        ],\n",
              "       [0.        , 0.        , 0.        , 0.        , 0.        ,\n",
              "        0.        , 0.        , 0.        , 0.        , 0.        ,\n",
              "        0.        , 0.        , 0.15294118, 0.58039216, 0.89803922,\n",
              "        0.99215686, 0.99215686, 0.99215686, 0.98039216, 0.71372549,\n",
              "        0.        , 0.        , 0.        , 0.        , 0.        ,\n",
              "        0.        , 0.        , 0.        ],\n",
              "       [0.        , 0.        , 0.        , 0.        , 0.        ,\n",
              "        0.        , 0.        , 0.        , 0.        , 0.        ,\n",
              "        0.09411765, 0.44705882, 0.86666667, 0.99215686, 0.99215686,\n",
              "        0.99215686, 0.99215686, 0.78823529, 0.30588235, 0.        ,\n",
              "        0.        , 0.        , 0.        , 0.        , 0.        ,\n",
              "        0.        , 0.        , 0.        ],\n",
              "       [0.        , 0.        , 0.        , 0.        , 0.        ,\n",
              "        0.        , 0.        , 0.        , 0.09019608, 0.25882353,\n",
              "        0.83529412, 0.99215686, 0.99215686, 0.99215686, 0.99215686,\n",
              "        0.77647059, 0.31764706, 0.00784314, 0.        , 0.        ,\n",
              "        0.        , 0.        , 0.        , 0.        , 0.        ,\n",
              "        0.        , 0.        , 0.        ],\n",
              "       [0.        , 0.        , 0.        , 0.        , 0.        ,\n",
              "        0.        , 0.07058824, 0.67058824, 0.85882353, 0.99215686,\n",
              "        0.99215686, 0.99215686, 0.99215686, 0.76470588, 0.31372549,\n",
              "        0.03529412, 0.        , 0.        , 0.        , 0.        ,\n",
              "        0.        , 0.        , 0.        , 0.        , 0.        ,\n",
              "        0.        , 0.        , 0.        ],\n",
              "       [0.        , 0.        , 0.        , 0.        , 0.21568627,\n",
              "        0.6745098 , 0.88627451, 0.99215686, 0.99215686, 0.99215686,\n",
              "        0.99215686, 0.95686275, 0.52156863, 0.04313725, 0.        ,\n",
              "        0.        , 0.        , 0.        , 0.        , 0.        ,\n",
              "        0.        , 0.        , 0.        , 0.        , 0.        ,\n",
              "        0.        , 0.        , 0.        ],\n",
              "       [0.        , 0.        , 0.        , 0.        , 0.53333333,\n",
              "        0.99215686, 0.99215686, 0.99215686, 0.83137255, 0.52941176,\n",
              "        0.51764706, 0.0627451 , 0.        , 0.        , 0.        ,\n",
              "        0.        , 0.        , 0.        , 0.        , 0.        ,\n",
              "        0.        , 0.        , 0.        , 0.        , 0.        ,\n",
              "        0.        , 0.        , 0.        ],\n",
              "       [0.        , 0.        , 0.        , 0.        , 0.        ,\n",
              "        0.        , 0.        , 0.        , 0.        , 0.        ,\n",
              "        0.        , 0.        , 0.        , 0.        , 0.        ,\n",
              "        0.        , 0.        , 0.        , 0.        , 0.        ,\n",
              "        0.        , 0.        , 0.        , 0.        , 0.        ,\n",
              "        0.        , 0.        , 0.        ],\n",
              "       [0.        , 0.        , 0.        , 0.        , 0.        ,\n",
              "        0.        , 0.        , 0.        , 0.        , 0.        ,\n",
              "        0.        , 0.        , 0.        , 0.        , 0.        ,\n",
              "        0.        , 0.        , 0.        , 0.        , 0.        ,\n",
              "        0.        , 0.        , 0.        , 0.        , 0.        ,\n",
              "        0.        , 0.        , 0.        ],\n",
              "       [0.        , 0.        , 0.        , 0.        , 0.        ,\n",
              "        0.        , 0.        , 0.        , 0.        , 0.        ,\n",
              "        0.        , 0.        , 0.        , 0.        , 0.        ,\n",
              "        0.        , 0.        , 0.        , 0.        , 0.        ,\n",
              "        0.        , 0.        , 0.        , 0.        , 0.        ,\n",
              "        0.        , 0.        , 0.        ]])"
            ]
          },
          "metadata": {
            "tags": []
          },
          "execution_count": 23
        }
      ]
    },
    {
      "cell_type": "markdown",
      "metadata": {
        "id": "c10d0303"
      },
      "source": [
        "#### One hot encoding"
      ],
      "id": "c10d0303"
    },
    {
      "cell_type": "code",
      "metadata": {
        "id": "0583132e"
      },
      "source": [
        "yt_oneHot = np.eye(10)[yt]\n",
        "yv_oneHot = np.eye(10)[yv]"
      ],
      "id": "0583132e",
      "execution_count": null,
      "outputs": []
    },
    {
      "cell_type": "code",
      "metadata": {
        "colab": {
          "base_uri": "https://localhost:8080/"
        },
        "id": "b6uyVr6jRLL1",
        "outputId": "2898d0e0-1a52-4a13-d574-0ca3706f8c7a"
      },
      "source": [
        "yt_oneHot[0]"
      ],
      "id": "b6uyVr6jRLL1",
      "execution_count": null,
      "outputs": [
        {
          "output_type": "execute_result",
          "data": {
            "text/plain": [
              "array([0., 0., 0., 0., 0., 1., 0., 0., 0., 0.])"
            ]
          },
          "metadata": {
            "tags": []
          },
          "execution_count": 30
        }
      ]
    },
    {
      "cell_type": "code",
      "metadata": {
        "colab": {
          "base_uri": "https://localhost:8080/"
        },
        "id": "314d767c",
        "outputId": "8e988e07-a047-4aae-a716-e898e53d47c4"
      },
      "source": [
        "yt_oneHot.shape"
      ],
      "id": "314d767c",
      "execution_count": null,
      "outputs": [
        {
          "output_type": "execute_result",
          "data": {
            "text/plain": [
              "(60000, 10)"
            ]
          },
          "metadata": {
            "tags": []
          },
          "execution_count": 27
        }
      ]
    },
    {
      "cell_type": "code",
      "metadata": {
        "colab": {
          "base_uri": "https://localhost:8080/"
        },
        "id": "f8f52ad6",
        "outputId": "b92bbc95-d9bf-45c3-c1fe-07df3ac544f7"
      },
      "source": [
        "yt_oneHot[:5,:]"
      ],
      "id": "f8f52ad6",
      "execution_count": null,
      "outputs": [
        {
          "output_type": "execute_result",
          "data": {
            "text/plain": [
              "array([[0., 0., 0., 0., 0., 1., 0., 0., 0., 0.],\n",
              "       [1., 0., 0., 0., 0., 0., 0., 0., 0., 0.],\n",
              "       [0., 0., 0., 0., 1., 0., 0., 0., 0., 0.],\n",
              "       [0., 1., 0., 0., 0., 0., 0., 0., 0., 0.],\n",
              "       [0., 0., 0., 0., 0., 0., 0., 0., 0., 1.]])"
            ]
          },
          "metadata": {
            "tags": []
          },
          "execution_count": 31
        }
      ]
    },
    {
      "cell_type": "code",
      "metadata": {
        "colab": {
          "base_uri": "https://localhost:8080/"
        },
        "id": "b8274b35",
        "outputId": "24e3b553-8534-41a6-9c45-8f6ca9592623"
      },
      "source": [
        "yt[:5]"
      ],
      "id": "b8274b35",
      "execution_count": null,
      "outputs": [
        {
          "output_type": "execute_result",
          "data": {
            "text/plain": [
              "array([5, 0, 4, 1, 9], dtype=uint8)"
            ]
          },
          "metadata": {
            "tags": []
          },
          "execution_count": 32
        }
      ]
    },
    {
      "cell_type": "markdown",
      "metadata": {
        "id": "24812a76"
      },
      "source": [
        "### CNN"
      ],
      "id": "24812a76"
    },
    {
      "cell_type": "code",
      "metadata": {
        "id": "431bc0e5"
      },
      "source": [
        "from tensorflow.keras.models import Sequential\n",
        "from tensorflow.keras.layers import Conv2D ## La convolucion 2d trata volumenes, la conv3d trata volomunes con canales\n",
        "from tensorflow.keras.layers import MaxPool2D, Flatten, Dense, InputLayer\n",
        "from tensorflow.keras.losses import CategoricalCrossentropy\n",
        "from tensorflow.keras.optimizers import Adam"
      ],
      "id": "431bc0e5",
      "execution_count": null,
      "outputs": []
    },
    {
      "cell_type": "code",
      "metadata": {
        "colab": {
          "base_uri": "https://localhost:8080/"
        },
        "id": "4c00fc2c",
        "outputId": "2a912833-8037-4140-f8f4-65df1fb30065"
      },
      "source": [
        "xt.shape"
      ],
      "id": "4c00fc2c",
      "execution_count": null,
      "outputs": [
        {
          "output_type": "execute_result",
          "data": {
            "text/plain": [
              "(60000, 28, 28)"
            ]
          },
          "metadata": {
            "tags": []
          },
          "execution_count": 34
        }
      ]
    },
    {
      "cell_type": "code",
      "metadata": {
        "id": "a9cb4928"
      },
      "source": [
        "### convertimos las imagenes a volumen"
      ],
      "id": "a9cb4928",
      "execution_count": null,
      "outputs": []
    },
    {
      "cell_type": "code",
      "metadata": {
        "id": "499af860"
      },
      "source": [
        "xt =xt.reshape(60000,28,28,1)\n",
        "xv = xv.reshape(10000,28,28,1)"
      ],
      "id": "499af860",
      "execution_count": null,
      "outputs": []
    },
    {
      "cell_type": "code",
      "metadata": {
        "id": "8e823784"
      },
      "source": [
        "model = Sequential()\n",
        "model.add(InputLayer(input_shape=(28,28,1))) ## las dimensiones de la imagen\n",
        "model.add(Conv2D(filters =10 , kernel_size = (4,4), strides=1, padding=\"same\", activation=\"relu\"))\n",
        "model.add(MaxPool2D(pool_size= (2,2), strides=(2,2)))\n",
        "model.add(Conv2D(filters = 30 , kernel_size = (10,10), strides=1, padding=\"same\", activation=\"relu\"))\n",
        "model.add(MaxPool2D(pool_size= (2,2), strides=(2,2)))\n",
        "\n",
        "model.add(Flatten())\n",
        "model.add(Dense(128, activation=\"relu\"))\n",
        "model.add(Dense(10, activation=\"softmax\"))\n",
        "          \n",
        "model.compile(loss=CategoricalCrossentropy(), optimizer = Adam(0.001))"
      ],
      "id": "8e823784",
      "execution_count": null,
      "outputs": []
    },
    {
      "cell_type": "code",
      "metadata": {
        "colab": {
          "base_uri": "https://localhost:8080/"
        },
        "id": "87a752aa",
        "outputId": "f23173cf-fad8-4cc5-dd1c-caac8e6fef0f"
      },
      "source": [
        "model.summary()"
      ],
      "id": "87a752aa",
      "execution_count": null,
      "outputs": [
        {
          "output_type": "stream",
          "text": [
            "Model: \"sequential\"\n",
            "_________________________________________________________________\n",
            "Layer (type)                 Output Shape              Param #   \n",
            "=================================================================\n",
            "conv2d (Conv2D)              (None, 28, 28, 10)        170       \n",
            "_________________________________________________________________\n",
            "max_pooling2d (MaxPooling2D) (None, 14, 14, 10)        0         \n",
            "_________________________________________________________________\n",
            "conv2d_1 (Conv2D)            (None, 14, 14, 30)        30030     \n",
            "_________________________________________________________________\n",
            "max_pooling2d_1 (MaxPooling2 (None, 7, 7, 30)          0         \n",
            "_________________________________________________________________\n",
            "flatten (Flatten)            (None, 1470)              0         \n",
            "_________________________________________________________________\n",
            "dense (Dense)                (None, 128)               188288    \n",
            "_________________________________________________________________\n",
            "dense_1 (Dense)              (None, 10)                1290      \n",
            "=================================================================\n",
            "Total params: 219,778\n",
            "Trainable params: 219,778\n",
            "Non-trainable params: 0\n",
            "_________________________________________________________________\n"
          ],
          "name": "stdout"
        }
      ]
    },
    {
      "cell_type": "code",
      "metadata": {
        "colab": {
          "base_uri": "https://localhost:8080/"
        },
        "id": "c6ee7bbe",
        "outputId": "4b4fb1a3-8c13-4581-fe81-330d84c5ec7a"
      },
      "source": [
        "yt_oneHot.shape"
      ],
      "id": "c6ee7bbe",
      "execution_count": null,
      "outputs": [
        {
          "output_type": "execute_result",
          "data": {
            "text/plain": [
              "(60000, 10)"
            ]
          },
          "metadata": {
            "tags": []
          },
          "execution_count": 39
        }
      ]
    },
    {
      "cell_type": "code",
      "metadata": {
        "colab": {
          "base_uri": "https://localhost:8080/"
        },
        "id": "cb6ce585",
        "outputId": "e1bbae1f-064d-47c6-fdc5-12b4a9c376b6"
      },
      "source": [
        "yv_oneHot.shape"
      ],
      "id": "cb6ce585",
      "execution_count": null,
      "outputs": [
        {
          "output_type": "execute_result",
          "data": {
            "text/plain": [
              "(10000, 10)"
            ]
          },
          "metadata": {
            "tags": []
          },
          "execution_count": 40
        }
      ]
    },
    {
      "cell_type": "code",
      "metadata": {
        "scrolled": true,
        "colab": {
          "base_uri": "https://localhost:8080/"
        },
        "id": "5aba02ab",
        "outputId": "ca732312-19a2-4202-ebc7-b7446da661e2"
      },
      "source": [
        "history = model.fit(xt,yt_oneHot, epochs=200, batch_size=1024, validation_data=(xv,yv_oneHot))"
      ],
      "id": "5aba02ab",
      "execution_count": null,
      "outputs": [
        {
          "output_type": "stream",
          "text": [
            "Epoch 1/200\n",
            "59/59 [==============================] - 94s 2s/step - loss: 0.6446 - val_loss: 0.1955\n",
            "Epoch 2/200\n",
            "59/59 [==============================] - 93s 2s/step - loss: 0.1601 - val_loss: 0.1072\n",
            "Epoch 3/200\n",
            "59/59 [==============================] - 93s 2s/step - loss: 0.1004 - val_loss: 0.0741\n",
            "Epoch 4/200\n",
            "59/59 [==============================] - 93s 2s/step - loss: 0.0752 - val_loss: 0.0576\n",
            "Epoch 5/200\n",
            "59/59 [==============================] - 93s 2s/step - loss: 0.0612 - val_loss: 0.0486\n",
            "Epoch 6/200\n",
            "59/59 [==============================] - 93s 2s/step - loss: 0.0523 - val_loss: 0.0467\n",
            "Epoch 7/200\n",
            "59/59 [==============================] - 92s 2s/step - loss: 0.0454 - val_loss: 0.0402\n",
            "Epoch 8/200\n",
            "59/59 [==============================] - 93s 2s/step - loss: 0.0382 - val_loss: 0.0363\n",
            "Epoch 9/200\n",
            "59/59 [==============================] - 92s 2s/step - loss: 0.0345 - val_loss: 0.0348\n",
            "Epoch 10/200\n",
            "59/59 [==============================] - 93s 2s/step - loss: 0.0316 - val_loss: 0.0409\n",
            "Epoch 11/200\n",
            "59/59 [==============================] - 93s 2s/step - loss: 0.0300 - val_loss: 0.0347\n",
            "Epoch 12/200\n",
            "59/59 [==============================] - 93s 2s/step - loss: 0.0242 - val_loss: 0.0368\n",
            "Epoch 13/200\n",
            "59/59 [==============================] - 93s 2s/step - loss: 0.0230 - val_loss: 0.0303\n",
            "Epoch 14/200\n",
            "59/59 [==============================] - 93s 2s/step - loss: 0.0203 - val_loss: 0.0283\n",
            "Epoch 15/200\n",
            "59/59 [==============================] - 92s 2s/step - loss: 0.0174 - val_loss: 0.0319\n",
            "Epoch 16/200\n",
            "59/59 [==============================] - 93s 2s/step - loss: 0.0169 - val_loss: 0.0277\n",
            "Epoch 17/200\n",
            "59/59 [==============================] - 93s 2s/step - loss: 0.0167 - val_loss: 0.0292\n",
            "Epoch 18/200\n",
            "59/59 [==============================] - 92s 2s/step - loss: 0.0134 - val_loss: 0.0322\n",
            "Epoch 19/200\n",
            "59/59 [==============================] - 93s 2s/step - loss: 0.0122 - val_loss: 0.0283\n",
            "Epoch 20/200\n",
            "59/59 [==============================] - 93s 2s/step - loss: 0.0118 - val_loss: 0.0286\n",
            "Epoch 21/200\n",
            "59/59 [==============================] - 93s 2s/step - loss: 0.0091 - val_loss: 0.0290\n",
            "Epoch 22/200\n",
            "59/59 [==============================] - 93s 2s/step - loss: 0.0079 - val_loss: 0.0304\n",
            "Epoch 23/200\n",
            "59/59 [==============================] - 93s 2s/step - loss: 0.0082 - val_loss: 0.0311\n",
            "Epoch 24/200\n",
            "59/59 [==============================] - 93s 2s/step - loss: 0.0066 - val_loss: 0.0299\n",
            "Epoch 25/200\n",
            "59/59 [==============================] - 93s 2s/step - loss: 0.0061 - val_loss: 0.0303\n",
            "Epoch 26/200\n",
            "59/59 [==============================] - 93s 2s/step - loss: 0.0061 - val_loss: 0.0311\n",
            "Epoch 27/200\n",
            "59/59 [==============================] - 93s 2s/step - loss: 0.0053 - val_loss: 0.0333\n",
            "Epoch 28/200\n",
            "59/59 [==============================] - 93s 2s/step - loss: 0.0042 - val_loss: 0.0310\n",
            "Epoch 29/200\n",
            "59/59 [==============================] - 93s 2s/step - loss: 0.0033 - val_loss: 0.0309\n",
            "Epoch 30/200\n",
            "59/59 [==============================] - 93s 2s/step - loss: 0.0029 - val_loss: 0.0359\n",
            "Epoch 31/200\n",
            "59/59 [==============================] - 92s 2s/step - loss: 0.0041 - val_loss: 0.0329\n",
            "Epoch 32/200\n",
            "59/59 [==============================] - 92s 2s/step - loss: 0.0032 - val_loss: 0.0344\n",
            "Epoch 33/200\n",
            "59/59 [==============================] - 92s 2s/step - loss: 0.0056 - val_loss: 0.0357\n",
            "Epoch 34/200\n",
            "59/59 [==============================] - 92s 2s/step - loss: 0.0044 - val_loss: 0.0360\n",
            "Epoch 35/200\n",
            "59/59 [==============================] - 92s 2s/step - loss: 0.0031 - val_loss: 0.0337\n",
            "Epoch 36/200\n",
            "59/59 [==============================] - 93s 2s/step - loss: 0.0023 - val_loss: 0.0336\n",
            "Epoch 37/200\n",
            "59/59 [==============================] - 95s 2s/step - loss: 0.0018 - val_loss: 0.0361\n",
            "Epoch 38/200\n",
            "59/59 [==============================] - 94s 2s/step - loss: 0.0017 - val_loss: 0.0419\n",
            "Epoch 39/200\n",
            "59/59 [==============================] - 93s 2s/step - loss: 0.0020 - val_loss: 0.0365\n",
            "Epoch 40/200\n",
            "59/59 [==============================] - 93s 2s/step - loss: 0.0036 - val_loss: 0.0463\n",
            "Epoch 41/200\n",
            "59/59 [==============================] - 92s 2s/step - loss: 0.0025 - val_loss: 0.0404\n",
            "Epoch 42/200\n",
            "59/59 [==============================] - 93s 2s/step - loss: 0.0026 - val_loss: 0.0405\n",
            "Epoch 43/200\n",
            "59/59 [==============================] - 93s 2s/step - loss: 0.0015 - val_loss: 0.0357\n",
            "Epoch 44/200\n",
            "59/59 [==============================] - 93s 2s/step - loss: 6.4111e-04 - val_loss: 0.0349\n",
            "Epoch 45/200\n",
            "59/59 [==============================] - 95s 2s/step - loss: 4.7948e-04 - val_loss: 0.0373\n",
            "Epoch 46/200\n",
            "59/59 [==============================] - 95s 2s/step - loss: 9.9750e-04 - val_loss: 0.0355\n",
            "Epoch 47/200\n",
            "59/59 [==============================] - 94s 2s/step - loss: 7.8494e-04 - val_loss: 0.0415\n",
            "Epoch 48/200\n",
            "59/59 [==============================] - 93s 2s/step - loss: 0.0062 - val_loss: 0.0391\n",
            "Epoch 49/200\n",
            "59/59 [==============================] - 93s 2s/step - loss: 0.0033 - val_loss: 0.0417\n",
            "Epoch 50/200\n",
            "59/59 [==============================] - 94s 2s/step - loss: 0.0026 - val_loss: 0.0343\n",
            "Epoch 51/200\n",
            "59/59 [==============================] - 95s 2s/step - loss: 0.0019 - val_loss: 0.0388\n",
            "Epoch 52/200\n",
            "59/59 [==============================] - 95s 2s/step - loss: 0.0013 - val_loss: 0.0436\n",
            "Epoch 53/200\n",
            "59/59 [==============================] - 94s 2s/step - loss: 6.3419e-04 - val_loss: 0.0390\n",
            "Epoch 54/200\n",
            "59/59 [==============================] - 95s 2s/step - loss: 4.6785e-04 - val_loss: 0.0377\n",
            "Epoch 55/200\n",
            "59/59 [==============================] - 95s 2s/step - loss: 4.9678e-04 - val_loss: 0.0394\n",
            "Epoch 56/200\n",
            "59/59 [==============================] - 95s 2s/step - loss: 2.1519e-04 - val_loss: 0.0385\n",
            "Epoch 57/200\n",
            "59/59 [==============================] - 93s 2s/step - loss: 1.1292e-04 - val_loss: 0.0387\n",
            "Epoch 58/200\n",
            "59/59 [==============================] - 95s 2s/step - loss: 8.8480e-05 - val_loss: 0.0392\n",
            "Epoch 59/200\n",
            "59/59 [==============================] - 95s 2s/step - loss: 8.2009e-05 - val_loss: 0.0390\n",
            "Epoch 60/200\n",
            "59/59 [==============================] - 95s 2s/step - loss: 7.6000e-05 - val_loss: 0.0396\n",
            "Epoch 61/200\n",
            "59/59 [==============================] - 94s 2s/step - loss: 7.0439e-05 - val_loss: 0.0401\n",
            "Epoch 62/200\n",
            "59/59 [==============================] - 95s 2s/step - loss: 6.8707e-05 - val_loss: 0.0403\n",
            "Epoch 63/200\n",
            "59/59 [==============================] - 95s 2s/step - loss: 6.2357e-05 - val_loss: 0.0400\n",
            "Epoch 64/200\n",
            "59/59 [==============================] - 94s 2s/step - loss: 5.9372e-05 - val_loss: 0.0403\n",
            "Epoch 65/200\n",
            "59/59 [==============================] - 94s 2s/step - loss: 5.6812e-05 - val_loss: 0.0407\n",
            "Epoch 66/200\n",
            "59/59 [==============================] - 95s 2s/step - loss: 5.3470e-05 - val_loss: 0.0405\n",
            "Epoch 67/200\n",
            "59/59 [==============================] - 95s 2s/step - loss: 5.1913e-05 - val_loss: 0.0408\n",
            "Epoch 68/200\n",
            "59/59 [==============================] - 94s 2s/step - loss: 4.8974e-05 - val_loss: 0.0411\n",
            "Epoch 69/200\n",
            "59/59 [==============================] - 95s 2s/step - loss: 4.7330e-05 - val_loss: 0.0411\n",
            "Epoch 70/200\n",
            "59/59 [==============================] - 95s 2s/step - loss: 4.5010e-05 - val_loss: 0.0419\n",
            "Epoch 71/200\n",
            "59/59 [==============================] - 95s 2s/step - loss: 4.3426e-05 - val_loss: 0.0417\n",
            "Epoch 72/200\n",
            "59/59 [==============================] - 94s 2s/step - loss: 4.1372e-05 - val_loss: 0.0418\n",
            "Epoch 73/200\n",
            "59/59 [==============================] - 95s 2s/step - loss: 3.9723e-05 - val_loss: 0.0415\n",
            "Epoch 74/200\n",
            "59/59 [==============================] - 95s 2s/step - loss: 3.8548e-05 - val_loss: 0.0420\n",
            "Epoch 75/200\n",
            "59/59 [==============================] - 95s 2s/step - loss: 3.6785e-05 - val_loss: 0.0415\n",
            "Epoch 76/200\n",
            "59/59 [==============================] - 95s 2s/step - loss: 3.6004e-05 - val_loss: 0.0421\n",
            "Epoch 77/200\n",
            "59/59 [==============================] - 95s 2s/step - loss: 3.4466e-05 - val_loss: 0.0423\n",
            "Epoch 78/200\n",
            "59/59 [==============================] - 95s 2s/step - loss: 3.3001e-05 - val_loss: 0.0426\n",
            "Epoch 79/200\n",
            "59/59 [==============================] - 94s 2s/step - loss: 3.1839e-05 - val_loss: 0.0427\n",
            "Epoch 80/200\n",
            "59/59 [==============================] - 94s 2s/step - loss: 3.0987e-05 - val_loss: 0.0429\n",
            "Epoch 81/200\n",
            "59/59 [==============================] - 95s 2s/step - loss: 2.9280e-05 - val_loss: 0.0430\n",
            "Epoch 82/200\n",
            "59/59 [==============================] - 95s 2s/step - loss: 2.8661e-05 - val_loss: 0.0428\n",
            "Epoch 83/200\n",
            "59/59 [==============================] - 94s 2s/step - loss: 2.7606e-05 - val_loss: 0.0433\n",
            "Epoch 84/200\n",
            "59/59 [==============================] - 93s 2s/step - loss: 2.6897e-05 - val_loss: 0.0433\n",
            "Epoch 85/200\n",
            "59/59 [==============================] - 93s 2s/step - loss: 2.6218e-05 - val_loss: 0.0437\n",
            "Epoch 86/200\n",
            "59/59 [==============================] - 93s 2s/step - loss: 2.4728e-05 - val_loss: 0.0437\n",
            "Epoch 87/200\n",
            "59/59 [==============================] - 93s 2s/step - loss: 2.4293e-05 - val_loss: 0.0438\n",
            "Epoch 88/200\n",
            "59/59 [==============================] - 93s 2s/step - loss: 2.3091e-05 - val_loss: 0.0443\n",
            "Epoch 89/200\n",
            "59/59 [==============================] - 92s 2s/step - loss: 2.2384e-05 - val_loss: 0.0439\n",
            "Epoch 90/200\n",
            "59/59 [==============================] - 93s 2s/step - loss: 2.1892e-05 - val_loss: 0.0442\n",
            "Epoch 91/200\n",
            "59/59 [==============================] - 93s 2s/step - loss: 2.1332e-05 - val_loss: 0.0442\n",
            "Epoch 92/200\n",
            "59/59 [==============================] - 93s 2s/step - loss: 2.0311e-05 - val_loss: 0.0444\n",
            "Epoch 93/200\n",
            "59/59 [==============================] - 93s 2s/step - loss: 1.9510e-05 - val_loss: 0.0448\n",
            "Epoch 94/200\n",
            "59/59 [==============================] - 93s 2s/step - loss: 1.9099e-05 - val_loss: 0.0447\n",
            "Epoch 95/200\n",
            "59/59 [==============================] - 93s 2s/step - loss: 1.8269e-05 - val_loss: 0.0446\n",
            "Epoch 96/200\n",
            "59/59 [==============================] - 93s 2s/step - loss: 1.7698e-05 - val_loss: 0.0450\n",
            "Epoch 97/200\n",
            "59/59 [==============================] - 93s 2s/step - loss: 1.7017e-05 - val_loss: 0.0453\n",
            "Epoch 98/200\n",
            "59/59 [==============================] - 93s 2s/step - loss: 1.6802e-05 - val_loss: 0.0452\n",
            "Epoch 99/200\n",
            "59/59 [==============================] - 93s 2s/step - loss: 1.6035e-05 - val_loss: 0.0457\n",
            "Epoch 100/200\n",
            "59/59 [==============================] - 93s 2s/step - loss: 1.5732e-05 - val_loss: 0.0457\n",
            "Epoch 101/200\n",
            "59/59 [==============================] - 93s 2s/step - loss: 1.4876e-05 - val_loss: 0.0457\n",
            "Epoch 102/200\n",
            "59/59 [==============================] - 93s 2s/step - loss: 1.4605e-05 - val_loss: 0.0460\n",
            "Epoch 103/200\n",
            "59/59 [==============================] - 93s 2s/step - loss: 1.4165e-05 - val_loss: 0.0462\n",
            "Epoch 104/200\n",
            "59/59 [==============================] - 93s 2s/step - loss: 1.3662e-05 - val_loss: 0.0461\n",
            "Epoch 105/200\n",
            "59/59 [==============================] - 93s 2s/step - loss: 1.3104e-05 - val_loss: 0.0466\n",
            "Epoch 106/200\n",
            "59/59 [==============================] - 93s 2s/step - loss: 1.2960e-05 - val_loss: 0.0465\n",
            "Epoch 107/200\n",
            "59/59 [==============================] - 93s 2s/step - loss: 1.2494e-05 - val_loss: 0.0469\n",
            "Epoch 108/200\n",
            "59/59 [==============================] - 93s 2s/step - loss: 1.2037e-05 - val_loss: 0.0465\n",
            "Epoch 109/200\n",
            "59/59 [==============================] - 93s 2s/step - loss: 1.1521e-05 - val_loss: 0.0470\n",
            "Epoch 110/200\n",
            "59/59 [==============================] - 93s 2s/step - loss: 1.1426e-05 - val_loss: 0.0469\n",
            "Epoch 111/200\n",
            "59/59 [==============================] - 93s 2s/step - loss: 1.0990e-05 - val_loss: 0.0476\n",
            "Epoch 112/200\n",
            "59/59 [==============================] - 93s 2s/step - loss: 1.0572e-05 - val_loss: 0.0478\n",
            "Epoch 113/200\n",
            "59/59 [==============================] - 93s 2s/step - loss: 1.0616e-05 - val_loss: 0.0477\n",
            "Epoch 114/200\n",
            "59/59 [==============================] - 93s 2s/step - loss: 9.9196e-06 - val_loss: 0.0481\n",
            "Epoch 115/200\n",
            "59/59 [==============================] - 93s 2s/step - loss: 9.6050e-06 - val_loss: 0.0475\n",
            "Epoch 116/200\n",
            "59/59 [==============================] - 93s 2s/step - loss: 9.2613e-06 - val_loss: 0.0480\n",
            "Epoch 117/200\n",
            "59/59 [==============================] - 93s 2s/step - loss: 8.9638e-06 - val_loss: 0.0481\n",
            "Epoch 118/200\n",
            "59/59 [==============================] - 92s 2s/step - loss: 8.8055e-06 - val_loss: 0.0482\n",
            "Epoch 119/200\n",
            "59/59 [==============================] - 92s 2s/step - loss: 8.3482e-06 - val_loss: 0.0482\n",
            "Epoch 120/200\n",
            "59/59 [==============================] - 92s 2s/step - loss: 8.3005e-06 - val_loss: 0.0487\n",
            "Epoch 121/200\n",
            "59/59 [==============================] - 92s 2s/step - loss: 8.1199e-06 - val_loss: 0.0489\n",
            "Epoch 122/200\n",
            "59/59 [==============================] - 93s 2s/step - loss: 7.8583e-06 - val_loss: 0.0489\n",
            "Epoch 123/200\n",
            "59/59 [==============================] - 93s 2s/step - loss: 7.4051e-06 - val_loss: 0.0487\n",
            "Epoch 124/200\n",
            "59/59 [==============================] - 93s 2s/step - loss: 7.1692e-06 - val_loss: 0.0492\n",
            "Epoch 125/200\n",
            "59/59 [==============================] - 92s 2s/step - loss: 6.9161e-06 - val_loss: 0.0490\n",
            "Epoch 126/200\n",
            "59/59 [==============================] - 92s 2s/step - loss: 6.6724e-06 - val_loss: 0.0501\n",
            "Epoch 127/200\n",
            "59/59 [==============================] - 92s 2s/step - loss: 6.4342e-06 - val_loss: 0.0499\n",
            "Epoch 128/200\n",
            "59/59 [==============================] - 92s 2s/step - loss: 6.3432e-06 - val_loss: 0.0503\n",
            "Epoch 129/200\n",
            "59/59 [==============================] - 92s 2s/step - loss: 6.1805e-06 - val_loss: 0.0501\n",
            "Epoch 130/200\n",
            "59/59 [==============================] - 92s 2s/step - loss: 6.0214e-06 - val_loss: 0.0503\n",
            "Epoch 131/200\n",
            "59/59 [==============================] - 93s 2s/step - loss: 5.8183e-06 - val_loss: 0.0503\n",
            "Epoch 132/200\n",
            "59/59 [==============================] - 93s 2s/step - loss: 5.6777e-06 - val_loss: 0.0503\n",
            "Epoch 133/200\n",
            "59/59 [==============================] - 93s 2s/step - loss: 5.3609e-06 - val_loss: 0.0505\n",
            "Epoch 134/200\n",
            "59/59 [==============================] - 92s 2s/step - loss: 5.2024e-06 - val_loss: 0.0508\n",
            "Epoch 135/200\n",
            "59/59 [==============================] - 92s 2s/step - loss: 5.0061e-06 - val_loss: 0.0511\n",
            "Epoch 136/200\n",
            "59/59 [==============================] - 92s 2s/step - loss: 4.8849e-06 - val_loss: 0.0510\n",
            "Epoch 137/200\n",
            "59/59 [==============================] - 93s 2s/step - loss: 4.7031e-06 - val_loss: 0.0515\n",
            "Epoch 138/200\n",
            "59/59 [==============================] - 93s 2s/step - loss: 4.5085e-06 - val_loss: 0.0512\n",
            "Epoch 139/200\n",
            "59/59 [==============================] - 93s 2s/step - loss: 4.3566e-06 - val_loss: 0.0515\n",
            "Epoch 140/200\n",
            "59/59 [==============================] - 93s 2s/step - loss: 4.2416e-06 - val_loss: 0.0515\n",
            "Epoch 141/200\n",
            "59/59 [==============================] - 93s 2s/step - loss: 4.0937e-06 - val_loss: 0.0516\n",
            "Epoch 142/200\n",
            "59/59 [==============================] - 94s 2s/step - loss: 3.9669e-06 - val_loss: 0.0515\n",
            "Epoch 143/200\n",
            "59/59 [==============================] - 93s 2s/step - loss: 3.8344e-06 - val_loss: 0.0519\n",
            "Epoch 144/200\n",
            "59/59 [==============================] - 93s 2s/step - loss: 3.6815e-06 - val_loss: 0.0522\n",
            "Epoch 145/200\n",
            "59/59 [==============================] - 93s 2s/step - loss: 3.6455e-06 - val_loss: 0.0529\n",
            "Epoch 146/200\n",
            "59/59 [==============================] - 93s 2s/step - loss: 3.4682e-06 - val_loss: 0.0522\n",
            "Epoch 147/200\n",
            "59/59 [==============================] - 94s 2s/step - loss: 3.3621e-06 - val_loss: 0.0531\n",
            "Epoch 148/200\n",
            "59/59 [==============================] - 93s 2s/step - loss: 3.2583e-06 - val_loss: 0.0531\n",
            "Epoch 149/200\n",
            "59/59 [==============================] - 93s 2s/step - loss: 3.1066e-06 - val_loss: 0.0533\n",
            "Epoch 150/200\n",
            "59/59 [==============================] - 93s 2s/step - loss: 3.0564e-06 - val_loss: 0.0535\n",
            "Epoch 151/200\n",
            "59/59 [==============================] - 93s 2s/step - loss: 2.9984e-06 - val_loss: 0.0534\n",
            "Epoch 152/200\n",
            "59/59 [==============================] - 93s 2s/step - loss: 2.8424e-06 - val_loss: 0.0535\n",
            "Epoch 153/200\n",
            "59/59 [==============================] - 94s 2s/step - loss: 2.7750e-06 - val_loss: 0.0539\n",
            "Epoch 154/200\n",
            "59/59 [==============================] - 93s 2s/step - loss: 2.6990e-06 - val_loss: 0.0536\n",
            "Epoch 155/200\n",
            "59/59 [==============================] - 93s 2s/step - loss: 2.5813e-06 - val_loss: 0.0541\n",
            "Epoch 156/200\n",
            "59/59 [==============================] - 94s 2s/step - loss: 2.4942e-06 - val_loss: 0.0540\n",
            "Epoch 157/200\n",
            "59/59 [==============================] - 93s 2s/step - loss: 2.4435e-06 - val_loss: 0.0541\n",
            "Epoch 158/200\n",
            "59/59 [==============================] - 93s 2s/step - loss: 2.3309e-06 - val_loss: 0.0546\n",
            "Epoch 159/200\n",
            "59/59 [==============================] - 93s 2s/step - loss: 2.2803e-06 - val_loss: 0.0542\n",
            "Epoch 160/200\n",
            "59/59 [==============================] - 93s 2s/step - loss: 2.1882e-06 - val_loss: 0.0544\n",
            "Epoch 161/200\n",
            "59/59 [==============================] - 93s 2s/step - loss: 2.0954e-06 - val_loss: 0.0553\n",
            "Epoch 162/200\n",
            "59/59 [==============================] - 92s 2s/step - loss: 2.0952e-06 - val_loss: 0.0551\n",
            "Epoch 163/200\n",
            "59/59 [==============================] - 93s 2s/step - loss: 1.9808e-06 - val_loss: 0.0551\n",
            "Epoch 164/200\n",
            "59/59 [==============================] - 93s 2s/step - loss: 1.9109e-06 - val_loss: 0.0552\n",
            "Epoch 165/200\n",
            "59/59 [==============================] - 92s 2s/step - loss: 1.8257e-06 - val_loss: 0.0560\n",
            "Epoch 166/200\n",
            "59/59 [==============================] - 93s 2s/step - loss: 1.7859e-06 - val_loss: 0.0557\n",
            "Epoch 167/200\n",
            "59/59 [==============================] - 93s 2s/step - loss: 1.6997e-06 - val_loss: 0.0557\n",
            "Epoch 168/200\n",
            "59/59 [==============================] - 93s 2s/step - loss: 1.6792e-06 - val_loss: 0.0565\n",
            "Epoch 169/200\n",
            "59/59 [==============================] - 93s 2s/step - loss: 1.6298e-06 - val_loss: 0.0562\n",
            "Epoch 170/200\n",
            "59/59 [==============================] - 93s 2s/step - loss: 1.5782e-06 - val_loss: 0.0567\n",
            "Epoch 171/200\n",
            "59/59 [==============================] - 93s 2s/step - loss: 1.5233e-06 - val_loss: 0.0564\n",
            "Epoch 172/200\n",
            "59/59 [==============================] - 93s 2s/step - loss: 1.4840e-06 - val_loss: 0.0566\n",
            "Epoch 173/200\n",
            "59/59 [==============================] - 93s 2s/step - loss: 1.4281e-06 - val_loss: 0.0568\n",
            "Epoch 174/200\n",
            "59/59 [==============================] - 93s 2s/step - loss: 1.3704e-06 - val_loss: 0.0570\n",
            "Epoch 175/200\n",
            "59/59 [==============================] - 93s 2s/step - loss: 1.3479e-06 - val_loss: 0.0572\n",
            "Epoch 176/200\n",
            "59/59 [==============================] - 93s 2s/step - loss: 1.3028e-06 - val_loss: 0.0571\n",
            "Epoch 177/200\n",
            "59/59 [==============================] - 93s 2s/step - loss: 1.2505e-06 - val_loss: 0.0578\n",
            "Epoch 178/200\n",
            "59/59 [==============================] - 93s 2s/step - loss: 1.2008e-06 - val_loss: 0.0580\n",
            "Epoch 179/200\n",
            "59/59 [==============================] - 93s 2s/step - loss: 1.1838e-06 - val_loss: 0.0580\n",
            "Epoch 180/200\n",
            "59/59 [==============================] - 93s 2s/step - loss: 1.1394e-06 - val_loss: 0.0578\n",
            "Epoch 181/200\n",
            "59/59 [==============================] - 93s 2s/step - loss: 1.0857e-06 - val_loss: 0.0577\n",
            "Epoch 182/200\n",
            "59/59 [==============================] - 93s 2s/step - loss: 1.0820e-06 - val_loss: 0.0581\n",
            "Epoch 183/200\n",
            "59/59 [==============================] - 93s 2s/step - loss: 1.0352e-06 - val_loss: 0.0585\n",
            "Epoch 184/200\n",
            "59/59 [==============================] - 93s 2s/step - loss: 9.8111e-07 - val_loss: 0.0588\n",
            "Epoch 185/200\n",
            "59/59 [==============================] - 94s 2s/step - loss: 9.6821e-07 - val_loss: 0.0592\n",
            "Epoch 186/200\n",
            "59/59 [==============================] - 93s 2s/step - loss: 9.0937e-07 - val_loss: 0.0592\n",
            "Epoch 187/200\n",
            "59/59 [==============================] - 93s 2s/step - loss: 8.9231e-07 - val_loss: 0.0594\n",
            "Epoch 188/200\n",
            "59/59 [==============================] - 93s 2s/step - loss: 8.5406e-07 - val_loss: 0.0593\n",
            "Epoch 189/200\n",
            "59/59 [==============================] - 93s 2s/step - loss: 8.4187e-07 - val_loss: 0.0598\n",
            "Epoch 190/200\n",
            "59/59 [==============================] - 94s 2s/step - loss: 8.0816e-07 - val_loss: 0.0596\n",
            "Epoch 191/200\n",
            "59/59 [==============================] - 93s 2s/step - loss: 7.8330e-07 - val_loss: 0.0603\n",
            "Epoch 192/200\n",
            "59/59 [==============================] - 93s 2s/step - loss: 7.5878e-07 - val_loss: 0.0596\n",
            "Epoch 193/200\n",
            "59/59 [==============================] - 93s 2s/step - loss: 7.5163e-07 - val_loss: 0.0602\n",
            "Epoch 194/200\n",
            "59/59 [==============================] - 93s 2s/step - loss: 7.0909e-07 - val_loss: 0.0602\n",
            "Epoch 195/200\n",
            "59/59 [==============================] - 93s 2s/step - loss: 6.8152e-07 - val_loss: 0.0604\n",
            "Epoch 196/200\n",
            "59/59 [==============================] - 93s 2s/step - loss: 6.6413e-07 - val_loss: 0.0612\n",
            "Epoch 197/200\n",
            "59/59 [==============================] - 93s 2s/step - loss: 6.3371e-07 - val_loss: 0.0615\n",
            "Epoch 198/200\n",
            "59/59 [==============================] - 93s 2s/step - loss: 6.1308e-07 - val_loss: 0.0606\n",
            "Epoch 199/200\n",
            "59/59 [==============================] - 93s 2s/step - loss: 5.8039e-07 - val_loss: 0.0615\n",
            "Epoch 200/200\n",
            "59/59 [==============================] - 94s 2s/step - loss: 5.8012e-07 - val_loss: 0.0614\n"
          ],
          "name": "stdout"
        }
      ]
    },
    {
      "cell_type": "markdown",
      "metadata": {
        "id": "c5e9e38a"
      },
      "source": [
        "### Función de perdida"
      ],
      "id": "c5e9e38a"
    },
    {
      "cell_type": "code",
      "metadata": {
        "id": "a1880f0a"
      },
      "source": [
        "from plotly import graph_objects as go"
      ],
      "id": "a1880f0a",
      "execution_count": null,
      "outputs": []
    },
    {
      "cell_type": "code",
      "metadata": {
        "id": "e365286d",
        "colab": {
          "base_uri": "https://localhost:8080/",
          "height": 542
        },
        "outputId": "04fa207e-4e5e-4fb8-a678-d9a84ed0404d"
      },
      "source": [
        "fig = go.Figure(layout = dict(title=\"Loss\"))\n",
        "fig.add_trace(go.Scatter(x=list(range(len(history.history[\"loss\"]))),y=history.history[\"loss\"], name=\"loss\"))\n",
        "fig.add_trace(go.Scatter(x=list(range(len(history.history[\"loss\"]))),y=history.history[\"val_loss\"], name=\"val_loss\"))\n",
        "fig.show()"
      ],
      "id": "e365286d",
      "execution_count": null,
      "outputs": [
        {
          "output_type": "display_data",
          "data": {
            "text/html": [
              "<html>\n",
              "<head><meta charset=\"utf-8\" /></head>\n",
              "<body>\n",
              "    <div>\n",
              "            <script src=\"https://cdnjs.cloudflare.com/ajax/libs/mathjax/2.7.5/MathJax.js?config=TeX-AMS-MML_SVG\"></script><script type=\"text/javascript\">if (window.MathJax) {MathJax.Hub.Config({SVG: {font: \"STIX-Web\"}});}</script>\n",
              "                <script type=\"text/javascript\">window.PlotlyConfig = {MathJaxConfig: 'local'};</script>\n",
              "        <script src=\"https://cdn.plot.ly/plotly-latest.min.js\"></script>    \n",
              "            <div id=\"c12a7ded-5c2c-4557-bbe7-44c843dd2104\" class=\"plotly-graph-div\" style=\"height:525px; width:100%;\"></div>\n",
              "            <script type=\"text/javascript\">\n",
              "                \n",
              "                    window.PLOTLYENV=window.PLOTLYENV || {};\n",
              "                    \n",
              "                if (document.getElementById(\"c12a7ded-5c2c-4557-bbe7-44c843dd2104\")) {\n",
              "                    Plotly.newPlot(\n",
              "                        'c12a7ded-5c2c-4557-bbe7-44c843dd2104',\n",
              "                        [{\"name\": \"loss\", \"type\": \"scatter\", \"x\": [0, 1, 2, 3, 4, 5, 6, 7, 8, 9, 10, 11, 12, 13, 14, 15, 16, 17, 18, 19, 20, 21, 22, 23, 24, 25, 26, 27, 28, 29, 30, 31, 32, 33, 34, 35, 36, 37, 38, 39, 40, 41, 42, 43, 44, 45, 46, 47, 48, 49, 50, 51, 52, 53, 54, 55, 56, 57, 58, 59, 60, 61, 62, 63, 64, 65, 66, 67, 68, 69, 70, 71, 72, 73, 74, 75, 76, 77, 78, 79, 80, 81, 82, 83, 84, 85, 86, 87, 88, 89, 90, 91, 92, 93, 94, 95, 96, 97, 98, 99, 100, 101, 102, 103, 104, 105, 106, 107, 108, 109, 110, 111, 112, 113, 114, 115, 116, 117, 118, 119, 120, 121, 122, 123, 124, 125, 126, 127, 128, 129, 130, 131, 132, 133, 134, 135, 136, 137, 138, 139, 140, 141, 142, 143, 144, 145, 146, 147, 148, 149, 150, 151, 152, 153, 154, 155, 156, 157, 158, 159, 160, 161, 162, 163, 164, 165, 166, 167, 168, 169, 170, 171, 172, 173, 174, 175, 176, 177, 178, 179, 180, 181, 182, 183, 184, 185, 186, 187, 188, 189, 190, 191, 192, 193, 194, 195, 196, 197, 198, 199], \"y\": [0.6445536017417908, 0.1600671261548996, 0.1003682017326355, 0.07516609877347946, 0.06121449917554855, 0.05234707146883011, 0.04535755142569542, 0.03818957880139351, 0.03447497636079788, 0.03162643685936928, 0.0299531277269125, 0.024157747626304626, 0.022968610748648643, 0.020323997363448143, 0.017420334741473198, 0.01690077967941761, 0.01665121503174305, 0.01338920183479786, 0.01224460918456316, 0.011791987344622612, 0.009116020053625107, 0.007933075539767742, 0.00816661212593317, 0.006649233866482973, 0.006114073563367128, 0.0060859075747430325, 0.005285433027893305, 0.004180933348834515, 0.0032533137127757072, 0.002851541619747877, 0.00405766349285841, 0.003204358508810401, 0.0055667199194431305, 0.0043976749293506145, 0.0030623606871813536, 0.0022997285705059767, 0.0017577535472810268, 0.0017281940672546625, 0.001994811464101076, 0.0036024022847414017, 0.0024629735853523016, 0.002579101826995611, 0.001451991032809019, 0.000641112623270601, 0.0004794758278876543, 0.0009974977001547813, 0.0007849435205571353, 0.006202853284776211, 0.0032808210235089064, 0.002595256082713604, 0.0018501864979043603, 0.0012645791284739971, 0.000634192256256938, 0.0004678451514337212, 0.0004967763088643551, 0.00021519357687793672, 0.00011291792179690674, 8.847988647175953e-05, 8.2009268226102e-05, 7.599991658935323e-05, 7.043874938972294e-05, 6.870696233818308e-05, 6.235740875126794e-05, 5.93722979829181e-05, 5.681157563230954e-05, 5.3470241255126894e-05, 5.191296440898441e-05, 4.897365943179466e-05, 4.733048990601674e-05, 4.500985232880339e-05, 4.342555985203944e-05, 4.137245923629962e-05, 3.972336708102375e-05, 3.854797250824049e-05, 3.678547000163235e-05, 3.600383206503466e-05, 3.446581104071811e-05, 3.300093158031814e-05, 3.1839135772315785e-05, 3.098708111792803e-05, 2.928036883531604e-05, 2.8660662792390212e-05, 2.7605683499132283e-05, 2.6897017960436642e-05, 2.6218112907372415e-05, 2.472825872246176e-05, 2.4293036403832957e-05, 2.3090971808414906e-05, 2.2384003386832774e-05, 2.1892215954721905e-05, 2.1331721654860303e-05, 2.0311288608354516e-05, 1.9510089259711094e-05, 1.9098542907158844e-05, 1.8269160136696883e-05, 1.7698235751595348e-05, 1.7016882338793948e-05, 1.6802456229925156e-05, 1.6034853615565225e-05, 1.5731928215245716e-05, 1.487581630499335e-05, 1.4604775060433894e-05, 1.4165000720822718e-05, 1.366228661936475e-05, 1.3104103345540352e-05, 1.295984384341864e-05, 1.2493846043071244e-05, 1.2036961379635613e-05, 1.1521000487846322e-05, 1.1426371202105656e-05, 1.0989958354912233e-05, 1.0572399332886562e-05, 1.0616052350087557e-05, 9.919640433508903e-06, 9.604963452147786e-06, 9.261339982913341e-06, 8.963806976680644e-06, 8.805521247268189e-06, 8.348199116881005e-06, 8.300487024825998e-06, 8.119899575831369e-06, 7.85826523497235e-06, 7.4050949478987604e-06, 7.1691652010485996e-06, 6.91614332026802e-06, 6.67244239593856e-06, 6.4341652432631236e-06, 6.3432289607590064e-06, 6.180495347507531e-06, 6.021430635883007e-06, 5.818250429001637e-06, 5.677717581420438e-06, 5.3608605412591714e-06, 5.202427473705029e-06, 5.006118954042904e-06, 4.88486148242373e-06, 4.703084414359182e-06, 4.508477104536723e-06, 4.35655829278403e-06, 4.241640908730915e-06, 4.093728875886882e-06, 3.966923031839542e-06, 3.83435508410912e-06, 3.681491079987609e-06, 3.6455462577578146e-06, 3.468188879196532e-06, 3.36211428475508e-06, 3.2583395750407362e-06, 3.1065987968759146e-06, 3.056412651858409e-06, 2.99843259199406e-06, 2.842436742866994e-06, 2.7749636046792148e-06, 2.699000560824061e-06, 2.5812712465267396e-06, 2.4942496565927286e-06, 2.4434825718344655e-06, 2.3308755316975294e-06, 2.2803112642577616e-06, 2.188248117818148e-06, 2.0954255433025537e-06, 2.0952470549673308e-06, 1.980820570679498e-06, 1.9109274944639765e-06, 1.825666231525247e-06, 1.7858528735814616e-06, 1.6997200873447582e-06, 1.6792274664112483e-06, 1.6297793763442314e-06, 1.5782345599291148e-06, 1.5232698160616565e-06, 1.4839876030237065e-06, 1.4281058611231856e-06, 1.370372388009855e-06, 1.347860347777896e-06, 1.302788973589486e-06, 1.2505133781814948e-06, 1.200829615299881e-06, 1.1838234286187799e-06, 1.1394350849514012e-06, 1.0857193046831526e-06, 1.0820234592756606e-06, 1.0351675427955342e-06, 9.811075187826646e-07, 9.682136123956298e-07, 9.093736821341736e-07, 8.923133236748981e-07, 8.540562816961028e-07, 8.41872974888247e-07, 8.081573810159171e-07, 7.833037898308248e-07, 7.587823915855552e-07, 7.516339906032954e-07, 7.090872600201692e-07, 6.815187134634471e-07, 6.641300842602504e-07, 6.337084528240666e-07, 6.130753149591328e-07, 5.80389212245791e-07, 5.801197175969719e-07]}, {\"name\": \"val_loss\", \"type\": \"scatter\", \"x\": [0, 1, 2, 3, 4, 5, 6, 7, 8, 9, 10, 11, 12, 13, 14, 15, 16, 17, 18, 19, 20, 21, 22, 23, 24, 25, 26, 27, 28, 29, 30, 31, 32, 33, 34, 35, 36, 37, 38, 39, 40, 41, 42, 43, 44, 45, 46, 47, 48, 49, 50, 51, 52, 53, 54, 55, 56, 57, 58, 59, 60, 61, 62, 63, 64, 65, 66, 67, 68, 69, 70, 71, 72, 73, 74, 75, 76, 77, 78, 79, 80, 81, 82, 83, 84, 85, 86, 87, 88, 89, 90, 91, 92, 93, 94, 95, 96, 97, 98, 99, 100, 101, 102, 103, 104, 105, 106, 107, 108, 109, 110, 111, 112, 113, 114, 115, 116, 117, 118, 119, 120, 121, 122, 123, 124, 125, 126, 127, 128, 129, 130, 131, 132, 133, 134, 135, 136, 137, 138, 139, 140, 141, 142, 143, 144, 145, 146, 147, 148, 149, 150, 151, 152, 153, 154, 155, 156, 157, 158, 159, 160, 161, 162, 163, 164, 165, 166, 167, 168, 169, 170, 171, 172, 173, 174, 175, 176, 177, 178, 179, 180, 181, 182, 183, 184, 185, 186, 187, 188, 189, 190, 191, 192, 193, 194, 195, 196, 197, 198, 199], \"y\": [0.19550083577632904, 0.10723230242729187, 0.07413754612207413, 0.05760861933231354, 0.04858315736055374, 0.0467059463262558, 0.040171150118112564, 0.036316972225904465, 0.034756384789943695, 0.040856193751096725, 0.03468742221593857, 0.03680390864610672, 0.030307916924357414, 0.02831609733402729, 0.03192634508013725, 0.027698339894413948, 0.02922802045941353, 0.03223973140120506, 0.028310062363743782, 0.028582165017724037, 0.029019774869084358, 0.030414648354053497, 0.031075015664100647, 0.029898082837462425, 0.030253048986196518, 0.031076503917574883, 0.03328482434153557, 0.030998283997178078, 0.03087819553911686, 0.035860784351825714, 0.03287133201956749, 0.03442014008760452, 0.03566838800907135, 0.03600165247917175, 0.0337422713637352, 0.0335523746907711, 0.03613022342324257, 0.041857946664094925, 0.03649444505572319, 0.04625469818711281, 0.04038207232952118, 0.04048632085323334, 0.035739872604608536, 0.03492961451411247, 0.037286169826984406, 0.0355398990213871, 0.041533101350069046, 0.03914184868335724, 0.04170581325888634, 0.03428405895829201, 0.03883961960673332, 0.043634433299303055, 0.03898230940103531, 0.03766018524765968, 0.03943478316068649, 0.03847010061144829, 0.0386601984500885, 0.039158377796411514, 0.03896518051624298, 0.039564985781908035, 0.04012644290924072, 0.040278203785419464, 0.04001873359084129, 0.04026782885193825, 0.04067642614245415, 0.04053086042404175, 0.040847375988960266, 0.041131239384412766, 0.041075002402067184, 0.04186532273888588, 0.04169262573122978, 0.041777223348617554, 0.04151879996061325, 0.04199959337711334, 0.04151022434234619, 0.04209655523300171, 0.04230945557355881, 0.04258164390921593, 0.04273153841495514, 0.042938023805618286, 0.04300016537308693, 0.04284979775547981, 0.043287668377161026, 0.04325029253959656, 0.04369427636265755, 0.04371463507413864, 0.043782055377960205, 0.04428611695766449, 0.04393874853849411, 0.04417954385280609, 0.04423082619905472, 0.044423460960388184, 0.044838421046733856, 0.04473530128598213, 0.04462902992963791, 0.04503511264920235, 0.04525850713253021, 0.04521992802619934, 0.045747917145490646, 0.0457414872944355, 0.04568297415971756, 0.0460062250494957, 0.04615473002195358, 0.04606376960873604, 0.046576786786317825, 0.046481382101774216, 0.046914100646972656, 0.04652169346809387, 0.04702025651931763, 0.04686500504612923, 0.047610070556402206, 0.04781267046928406, 0.047661129385232925, 0.04813726618885994, 0.047517143189907074, 0.04803403839468956, 0.04805397987365723, 0.048168908804655075, 0.04818279668688774, 0.048696305602788925, 0.04894928261637688, 0.04888894036412239, 0.04868964105844498, 0.049246788024902344, 0.04898914322257042, 0.05010730028152466, 0.049904800951480865, 0.050273314118385315, 0.05011647567152977, 0.05033976212143898, 0.05033291503787041, 0.05027378723025322, 0.0505375899374485, 0.0508364737033844, 0.05113568902015686, 0.051004558801651, 0.05152241885662079, 0.051215946674346924, 0.051475804299116135, 0.051512543112039566, 0.05162009969353676, 0.05151960626244545, 0.0519111268222332, 0.0521567277610302, 0.052868474274873734, 0.05218825116753578, 0.053141240030527115, 0.05312841758131981, 0.05329853668808937, 0.05349796265363693, 0.053363244980573654, 0.05354173108935356, 0.05388358235359192, 0.05355750024318695, 0.0541180782020092, 0.053987324237823486, 0.054140605032444, 0.05461079254746437, 0.05419464036822319, 0.05440697446465492, 0.055267173796892166, 0.055086951702833176, 0.05512288957834244, 0.05516080930829048, 0.05604355037212372, 0.055650774389505386, 0.05568559467792511, 0.056454066187143326, 0.05615650489926338, 0.05670212581753731, 0.05641381815075874, 0.05659274384379387, 0.0568326897919178, 0.0570375919342041, 0.05720114707946777, 0.05708327516913414, 0.0577629990875721, 0.058032359927892685, 0.05804290622472763, 0.05777901038527489, 0.05767296254634857, 0.05811729282140732, 0.058467816561460495, 0.05875839665532112, 0.059219133108854294, 0.05916857346892357, 0.05937933921813965, 0.059320952743291855, 0.05978803709149361, 0.05956129729747772, 0.06028435006737709, 0.05964389070868492, 0.06016463041305542, 0.06016845256090164, 0.06044209003448486, 0.06115185469388962, 0.061543263494968414, 0.060590192675590515, 0.06146170571446419, 0.0614231638610363]}],\n",
              "                        {\"template\": {\"data\": {\"bar\": [{\"error_x\": {\"color\": \"#2a3f5f\"}, \"error_y\": {\"color\": \"#2a3f5f\"}, \"marker\": {\"line\": {\"color\": \"#E5ECF6\", \"width\": 0.5}}, \"type\": \"bar\"}], \"barpolar\": [{\"marker\": {\"line\": {\"color\": \"#E5ECF6\", \"width\": 0.5}}, \"type\": \"barpolar\"}], \"carpet\": [{\"aaxis\": {\"endlinecolor\": \"#2a3f5f\", \"gridcolor\": \"white\", \"linecolor\": \"white\", \"minorgridcolor\": \"white\", \"startlinecolor\": \"#2a3f5f\"}, \"baxis\": {\"endlinecolor\": \"#2a3f5f\", \"gridcolor\": \"white\", \"linecolor\": \"white\", \"minorgridcolor\": \"white\", \"startlinecolor\": \"#2a3f5f\"}, \"type\": \"carpet\"}], \"choropleth\": [{\"colorbar\": {\"outlinewidth\": 0, \"ticks\": \"\"}, \"type\": \"choropleth\"}], \"contour\": [{\"colorbar\": {\"outlinewidth\": 0, \"ticks\": \"\"}, \"colorscale\": [[0.0, \"#0d0887\"], [0.1111111111111111, \"#46039f\"], [0.2222222222222222, \"#7201a8\"], [0.3333333333333333, \"#9c179e\"], [0.4444444444444444, \"#bd3786\"], [0.5555555555555556, \"#d8576b\"], [0.6666666666666666, \"#ed7953\"], [0.7777777777777778, \"#fb9f3a\"], [0.8888888888888888, \"#fdca26\"], [1.0, \"#f0f921\"]], \"type\": \"contour\"}], \"contourcarpet\": [{\"colorbar\": {\"outlinewidth\": 0, \"ticks\": \"\"}, \"type\": \"contourcarpet\"}], \"heatmap\": [{\"colorbar\": {\"outlinewidth\": 0, \"ticks\": \"\"}, \"colorscale\": [[0.0, \"#0d0887\"], [0.1111111111111111, \"#46039f\"], [0.2222222222222222, \"#7201a8\"], [0.3333333333333333, \"#9c179e\"], [0.4444444444444444, \"#bd3786\"], [0.5555555555555556, \"#d8576b\"], [0.6666666666666666, \"#ed7953\"], [0.7777777777777778, \"#fb9f3a\"], [0.8888888888888888, \"#fdca26\"], [1.0, \"#f0f921\"]], \"type\": \"heatmap\"}], \"heatmapgl\": [{\"colorbar\": {\"outlinewidth\": 0, \"ticks\": \"\"}, \"colorscale\": [[0.0, \"#0d0887\"], [0.1111111111111111, \"#46039f\"], [0.2222222222222222, \"#7201a8\"], [0.3333333333333333, \"#9c179e\"], [0.4444444444444444, \"#bd3786\"], [0.5555555555555556, \"#d8576b\"], [0.6666666666666666, \"#ed7953\"], [0.7777777777777778, \"#fb9f3a\"], [0.8888888888888888, \"#fdca26\"], [1.0, \"#f0f921\"]], \"type\": \"heatmapgl\"}], \"histogram\": [{\"marker\": {\"colorbar\": {\"outlinewidth\": 0, \"ticks\": \"\"}}, \"type\": \"histogram\"}], \"histogram2d\": [{\"colorbar\": {\"outlinewidth\": 0, \"ticks\": \"\"}, \"colorscale\": [[0.0, \"#0d0887\"], [0.1111111111111111, \"#46039f\"], [0.2222222222222222, \"#7201a8\"], [0.3333333333333333, \"#9c179e\"], [0.4444444444444444, \"#bd3786\"], [0.5555555555555556, \"#d8576b\"], [0.6666666666666666, \"#ed7953\"], [0.7777777777777778, \"#fb9f3a\"], [0.8888888888888888, \"#fdca26\"], [1.0, \"#f0f921\"]], \"type\": \"histogram2d\"}], \"histogram2dcontour\": [{\"colorbar\": {\"outlinewidth\": 0, \"ticks\": \"\"}, \"colorscale\": [[0.0, \"#0d0887\"], [0.1111111111111111, \"#46039f\"], [0.2222222222222222, \"#7201a8\"], [0.3333333333333333, \"#9c179e\"], [0.4444444444444444, \"#bd3786\"], [0.5555555555555556, \"#d8576b\"], [0.6666666666666666, \"#ed7953\"], [0.7777777777777778, \"#fb9f3a\"], [0.8888888888888888, \"#fdca26\"], [1.0, \"#f0f921\"]], \"type\": \"histogram2dcontour\"}], \"mesh3d\": [{\"colorbar\": {\"outlinewidth\": 0, \"ticks\": \"\"}, \"type\": \"mesh3d\"}], \"parcoords\": [{\"line\": {\"colorbar\": {\"outlinewidth\": 0, \"ticks\": \"\"}}, \"type\": \"parcoords\"}], \"pie\": [{\"automargin\": true, \"type\": \"pie\"}], \"scatter\": [{\"marker\": {\"colorbar\": {\"outlinewidth\": 0, \"ticks\": \"\"}}, \"type\": \"scatter\"}], \"scatter3d\": [{\"line\": {\"colorbar\": {\"outlinewidth\": 0, \"ticks\": \"\"}}, \"marker\": {\"colorbar\": {\"outlinewidth\": 0, \"ticks\": \"\"}}, \"type\": \"scatter3d\"}], \"scattercarpet\": [{\"marker\": {\"colorbar\": {\"outlinewidth\": 0, \"ticks\": \"\"}}, \"type\": \"scattercarpet\"}], \"scattergeo\": [{\"marker\": {\"colorbar\": {\"outlinewidth\": 0, \"ticks\": \"\"}}, \"type\": \"scattergeo\"}], \"scattergl\": [{\"marker\": {\"colorbar\": {\"outlinewidth\": 0, \"ticks\": \"\"}}, \"type\": \"scattergl\"}], \"scattermapbox\": [{\"marker\": {\"colorbar\": {\"outlinewidth\": 0, \"ticks\": \"\"}}, \"type\": \"scattermapbox\"}], \"scatterpolar\": [{\"marker\": {\"colorbar\": {\"outlinewidth\": 0, \"ticks\": \"\"}}, \"type\": \"scatterpolar\"}], \"scatterpolargl\": [{\"marker\": {\"colorbar\": {\"outlinewidth\": 0, \"ticks\": \"\"}}, \"type\": \"scatterpolargl\"}], \"scatterternary\": [{\"marker\": {\"colorbar\": {\"outlinewidth\": 0, \"ticks\": \"\"}}, \"type\": \"scatterternary\"}], \"surface\": [{\"colorbar\": {\"outlinewidth\": 0, \"ticks\": \"\"}, \"colorscale\": [[0.0, \"#0d0887\"], [0.1111111111111111, \"#46039f\"], [0.2222222222222222, \"#7201a8\"], [0.3333333333333333, \"#9c179e\"], [0.4444444444444444, \"#bd3786\"], [0.5555555555555556, \"#d8576b\"], [0.6666666666666666, \"#ed7953\"], [0.7777777777777778, \"#fb9f3a\"], [0.8888888888888888, \"#fdca26\"], [1.0, \"#f0f921\"]], \"type\": \"surface\"}], \"table\": [{\"cells\": {\"fill\": {\"color\": \"#EBF0F8\"}, \"line\": {\"color\": \"white\"}}, \"header\": {\"fill\": {\"color\": \"#C8D4E3\"}, \"line\": {\"color\": \"white\"}}, \"type\": \"table\"}]}, \"layout\": {\"annotationdefaults\": {\"arrowcolor\": \"#2a3f5f\", \"arrowhead\": 0, \"arrowwidth\": 1}, \"coloraxis\": {\"colorbar\": {\"outlinewidth\": 0, \"ticks\": \"\"}}, \"colorscale\": {\"diverging\": [[0, \"#8e0152\"], [0.1, \"#c51b7d\"], [0.2, \"#de77ae\"], [0.3, \"#f1b6da\"], [0.4, \"#fde0ef\"], [0.5, \"#f7f7f7\"], [0.6, \"#e6f5d0\"], [0.7, \"#b8e186\"], [0.8, \"#7fbc41\"], [0.9, \"#4d9221\"], [1, \"#276419\"]], \"sequential\": [[0.0, \"#0d0887\"], [0.1111111111111111, \"#46039f\"], [0.2222222222222222, \"#7201a8\"], [0.3333333333333333, \"#9c179e\"], [0.4444444444444444, \"#bd3786\"], [0.5555555555555556, \"#d8576b\"], [0.6666666666666666, \"#ed7953\"], [0.7777777777777778, \"#fb9f3a\"], [0.8888888888888888, \"#fdca26\"], [1.0, \"#f0f921\"]], \"sequentialminus\": [[0.0, \"#0d0887\"], [0.1111111111111111, \"#46039f\"], [0.2222222222222222, \"#7201a8\"], [0.3333333333333333, \"#9c179e\"], [0.4444444444444444, \"#bd3786\"], [0.5555555555555556, \"#d8576b\"], [0.6666666666666666, \"#ed7953\"], [0.7777777777777778, \"#fb9f3a\"], [0.8888888888888888, \"#fdca26\"], [1.0, \"#f0f921\"]]}, \"colorway\": [\"#636efa\", \"#EF553B\", \"#00cc96\", \"#ab63fa\", \"#FFA15A\", \"#19d3f3\", \"#FF6692\", \"#B6E880\", \"#FF97FF\", \"#FECB52\"], \"font\": {\"color\": \"#2a3f5f\"}, \"geo\": {\"bgcolor\": \"white\", \"lakecolor\": \"white\", \"landcolor\": \"#E5ECF6\", \"showlakes\": true, \"showland\": true, \"subunitcolor\": \"white\"}, \"hoverlabel\": {\"align\": \"left\"}, \"hovermode\": \"closest\", \"mapbox\": {\"style\": \"light\"}, \"paper_bgcolor\": \"white\", \"plot_bgcolor\": \"#E5ECF6\", \"polar\": {\"angularaxis\": {\"gridcolor\": \"white\", \"linecolor\": \"white\", \"ticks\": \"\"}, \"bgcolor\": \"#E5ECF6\", \"radialaxis\": {\"gridcolor\": \"white\", \"linecolor\": \"white\", \"ticks\": \"\"}}, \"scene\": {\"xaxis\": {\"backgroundcolor\": \"#E5ECF6\", \"gridcolor\": \"white\", \"gridwidth\": 2, \"linecolor\": \"white\", \"showbackground\": true, \"ticks\": \"\", \"zerolinecolor\": \"white\"}, \"yaxis\": {\"backgroundcolor\": \"#E5ECF6\", \"gridcolor\": \"white\", \"gridwidth\": 2, \"linecolor\": \"white\", \"showbackground\": true, \"ticks\": \"\", \"zerolinecolor\": \"white\"}, \"zaxis\": {\"backgroundcolor\": \"#E5ECF6\", \"gridcolor\": \"white\", \"gridwidth\": 2, \"linecolor\": \"white\", \"showbackground\": true, \"ticks\": \"\", \"zerolinecolor\": \"white\"}}, \"shapedefaults\": {\"line\": {\"color\": \"#2a3f5f\"}}, \"ternary\": {\"aaxis\": {\"gridcolor\": \"white\", \"linecolor\": \"white\", \"ticks\": \"\"}, \"baxis\": {\"gridcolor\": \"white\", \"linecolor\": \"white\", \"ticks\": \"\"}, \"bgcolor\": \"#E5ECF6\", \"caxis\": {\"gridcolor\": \"white\", \"linecolor\": \"white\", \"ticks\": \"\"}}, \"title\": {\"x\": 0.05}, \"xaxis\": {\"automargin\": true, \"gridcolor\": \"white\", \"linecolor\": \"white\", \"ticks\": \"\", \"title\": {\"standoff\": 15}, \"zerolinecolor\": \"white\", \"zerolinewidth\": 2}, \"yaxis\": {\"automargin\": true, \"gridcolor\": \"white\", \"linecolor\": \"white\", \"ticks\": \"\", \"title\": {\"standoff\": 15}, \"zerolinecolor\": \"white\", \"zerolinewidth\": 2}}}, \"title\": {\"text\": \"Loss\"}},\n",
              "                        {\"responsive\": true}\n",
              "                    ).then(function(){\n",
              "                            \n",
              "var gd = document.getElementById('c12a7ded-5c2c-4557-bbe7-44c843dd2104');\n",
              "var x = new MutationObserver(function (mutations, observer) {{\n",
              "        var display = window.getComputedStyle(gd).display;\n",
              "        if (!display || display === 'none') {{\n",
              "            console.log([gd, 'removed!']);\n",
              "            Plotly.purge(gd);\n",
              "            observer.disconnect();\n",
              "        }}\n",
              "}});\n",
              "\n",
              "// Listen for the removal of the full notebook cells\n",
              "var notebookContainer = gd.closest('#notebook-container');\n",
              "if (notebookContainer) {{\n",
              "    x.observe(notebookContainer, {childList: true});\n",
              "}}\n",
              "\n",
              "// Listen for the clearing of the current output cell\n",
              "var outputEl = gd.closest('.output');\n",
              "if (outputEl) {{\n",
              "    x.observe(outputEl, {childList: true});\n",
              "}}\n",
              "\n",
              "                        })\n",
              "                };\n",
              "                \n",
              "            </script>\n",
              "        </div>\n",
              "</body>\n",
              "</html>"
            ]
          },
          "metadata": {
            "tags": []
          }
        }
      ]
    },
    {
      "cell_type": "code",
      "metadata": {
        "id": "3b842bd6",
        "outputId": "fd9c9162-d367-4f22-e29e-7cea7c8794dd"
      },
      "source": [
        "index = 1001\n",
        "print(\"el modelo dice que es \",np.squeeze(np.argmax(model.predict(xv[index:index+1,:,:,:]),axis=1)))\n",
        "imshow(xv[index])"
      ],
      "id": "3b842bd6",
      "execution_count": null,
      "outputs": [
        {
          "output_type": "stream",
          "text": [
            "el modelo dice que es  0\n"
          ],
          "name": "stdout"
        },
        {
          "output_type": "execute_result",
          "data": {
            "text/plain": [
              "<matplotlib.image.AxesImage at 0x28ed24bf3d0>"
            ]
          },
          "metadata": {
            "tags": []
          },
          "execution_count": 64
        },
        {
          "output_type": "display_data",
          "data": {
            "image/png": "[encoded data removed]",
            "text/plain": [
              "<Figure size 432x288 with 1 Axes>"
            ]
          },
          "metadata": {
            "tags": [],
            "needs_background": "light"
          }
        }
      ]
    },
    {
      "cell_type": "code",
      "metadata": {
        "id": "7daff908"
      },
      "source": [
        "from sklearn.metrics import accuracy_score"
      ],
      "id": "7daff908",
      "execution_count": null,
      "outputs": []
    },
    {
      "cell_type": "code",
      "metadata": {
        "id": "155ba95d",
        "outputId": "542c511b-5e8b-4e02-97ee-e75deb9bb9db"
      },
      "source": [
        "y_pred = np.argmax(model.predict(xv),axis=1)\n",
        "accuracy_score(yv,y_pred)"
      ],
      "id": "155ba95d",
      "execution_count": null,
      "outputs": [
        {
          "output_type": "execute_result",
          "data": {
            "text/plain": [
              "0.9913"
            ]
          },
          "metadata": {
            "tags": []
          },
          "execution_count": 61
        }
      ]
    },
    {
      "cell_type": "code",
      "metadata": {
        "id": "702f6318",
        "outputId": "75091a10-6cc2-4f2e-abbf-65918234b513"
      },
      "source": [
        "y_pred = np.argmax(model.predict(xt),axis=1)\n",
        "accuracy_score(yt,y_pred)"
      ],
      "id": "702f6318",
      "execution_count": null,
      "outputs": [
        {
          "output_type": "execute_result",
          "data": {
            "text/plain": [
              "1.0"
            ]
          },
          "metadata": {
            "tags": []
          },
          "execution_count": 65
        }
      ]
    }
  ]
}