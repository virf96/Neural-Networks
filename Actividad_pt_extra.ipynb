{
  "nbformat": 4,
  "nbformat_minor": 0,
  "metadata": {
    "colab": {
      "name": "Actividad_pt_extra.ipynb",
      "provenance": [],
      "collapsed_sections": [],
      "authorship_tag": "ABX9TyMQYiRQSQM59pLtMV9ma0Gu",
      "include_colab_link": true
    },
    "kernelspec": {
      "name": "python3",
      "display_name": "Python 3"
    },
    "language_info": {
      "name": "python"
    }
  },
  "cells": [
    {
      "cell_type": "markdown",
      "metadata": {
        "id": "view-in-github",
        "colab_type": "text"
      },
      "source": [
        "<a href=\"https://colab.research.google.com/github/virf96/Neural-Networks/blob/main/Actividad_pt_extra.ipynb\" target=\"_parent\"><img src=\"https://colab.research.google.com/assets/colab-badge.svg\" alt=\"Open In Colab\"/></a>"
      ]
    },
    {
      "cell_type": "code",
      "metadata": {
        "id": "lll3my6hK1MW"
      },
      "source": [
        "import h5py\n",
        "import numpy as np\n",
        "import plotly.graph_objects as go \n",
        "import matplotlib.pyplot as plt\n",
        "from collections import Counter\n",
        "from sklearn.metrics import accuracy_score"
      ],
      "execution_count": 98,
      "outputs": []
    },
    {
      "cell_type": "markdown",
      "metadata": {
        "id": "0xkKDazKMrHk"
      },
      "source": [
        "# Carga de dataset"
      ]
    },
    {
      "cell_type": "code",
      "metadata": {
        "colab": {
          "base_uri": "https://localhost:8080/"
        },
        "id": "nqbwWY9tMwmg",
        "outputId": "f2259e92-5135-42fe-f0ba-68e2189e3d32"
      },
      "source": [
        "from google.colab import drive\n",
        "drive.mount('/content/drive')"
      ],
      "execution_count": 99,
      "outputs": [
        {
          "output_type": "stream",
          "text": [
            "Drive already mounted at /content/drive; to attempt to forcibly remount, call drive.mount(\"/content/drive\", force_remount=True).\n"
          ],
          "name": "stdout"
        }
      ]
    },
    {
      "cell_type": "code",
      "metadata": {
        "id": "-c_OCLveMxKa"
      },
      "source": [
        "train = h5py.File(\"/content/drive/MyDrive/datasets/train_catvnoncat.h5\", \"r\")\n",
        "test = h5py.File(\"/content/drive/MyDrive/datasets/test_catvnoncat.h5\", \"r\")"
      ],
      "execution_count": 100,
      "outputs": []
    },
    {
      "cell_type": "code",
      "metadata": {
        "id": "wWsv1oVxM7t3"
      },
      "source": [
        "trainX, trainY = np.array(train[\"train_set_x\"]),np.array(train[\"train_set_y\"])\n",
        "testX, testY = np.array(test[\"test_set_x\"]),np.array(test[\"test_set_y\"])"
      ],
      "execution_count": 101,
      "outputs": []
    },
    {
      "cell_type": "markdown",
      "metadata": {
        "id": "de0BgJQBNZUU"
      },
      "source": [
        "# Dimesiones"
      ]
    },
    {
      "cell_type": "code",
      "metadata": {
        "colab": {
          "base_uri": "https://localhost:8080/"
        },
        "id": "0DxvF67TNT_1",
        "outputId": "966f52e1-f1ab-4db6-dbe8-e266f153a23c"
      },
      "source": [
        "trainX.shape, trainY.shape"
      ],
      "execution_count": 102,
      "outputs": [
        {
          "output_type": "execute_result",
          "data": {
            "text/plain": [
              "((209, 64, 64, 3), (209,))"
            ]
          },
          "metadata": {
            "tags": []
          },
          "execution_count": 102
        }
      ]
    },
    {
      "cell_type": "code",
      "metadata": {
        "colab": {
          "base_uri": "https://localhost:8080/"
        },
        "id": "yowkFqvoNdIz",
        "outputId": "272109df-eb47-4008-d390-15c44ec90868"
      },
      "source": [
        "testX.shape, testY.shape"
      ],
      "execution_count": 103,
      "outputs": [
        {
          "output_type": "execute_result",
          "data": {
            "text/plain": [
              "((50, 64, 64, 3), (50,))"
            ]
          },
          "metadata": {
            "tags": []
          },
          "execution_count": 103
        }
      ]
    },
    {
      "cell_type": "code",
      "metadata": {
        "colab": {
          "base_uri": "https://localhost:8080/"
        },
        "id": "Ddiu9qqKNfLu",
        "outputId": "4bf88fc6-c9c2-4664-a026-be0fd8a787d9"
      },
      "source": [
        "Counter(trainY)"
      ],
      "execution_count": 104,
      "outputs": [
        {
          "output_type": "execute_result",
          "data": {
            "text/plain": [
              "Counter({0: 137, 1: 72})"
            ]
          },
          "metadata": {
            "tags": []
          },
          "execution_count": 104
        }
      ]
    },
    {
      "cell_type": "code",
      "metadata": {
        "colab": {
          "base_uri": "https://localhost:8080/",
          "height": 300
        },
        "id": "YqDwmi9sNi1W",
        "outputId": "3881d3c3-72d6-404c-8ebb-26879f34dde8"
      },
      "source": [
        "index = 58\n",
        "print(\"es un gato\") if trainY[index]==1 else print(\"no es un gato\")\n",
        "plt.imshow(trainX[index,:,:,:])"
      ],
      "execution_count": 105,
      "outputs": [
        {
          "output_type": "stream",
          "text": [
            "no es un gato\n"
          ],
          "name": "stdout"
        },
        {
          "output_type": "execute_result",
          "data": {
            "text/plain": [
              "<matplotlib.image.AxesImage at 0x7f59e2880750>"
            ]
          },
          "metadata": {
            "tags": []
          },
          "execution_count": 105
        },
        {
          "output_type": "display_data",
          "data": {
            "image/png": "[encoded data removed]",
            "text/plain": [
              "<Figure size 432x288 with 1 Axes>"
            ]
          },
          "metadata": {
            "tags": [],
            "needs_background": "light"
          }
        }
      ]
    },
    {
      "cell_type": "markdown",
      "metadata": {
        "id": "4MvdvgHvNo1F"
      },
      "source": [
        "# Transformar imagenes a vector"
      ]
    },
    {
      "cell_type": "code",
      "metadata": {
        "colab": {
          "base_uri": "https://localhost:8080/"
        },
        "id": "-O7boGzkNk1r",
        "outputId": "9c674a53-1d18-46ce-bc49-08e3982554d7"
      },
      "source": [
        "trainX.shape"
      ],
      "execution_count": 106,
      "outputs": [
        {
          "output_type": "execute_result",
          "data": {
            "text/plain": [
              "(209, 64, 64, 3)"
            ]
          },
          "metadata": {
            "tags": []
          },
          "execution_count": 106
        }
      ]
    },
    {
      "cell_type": "markdown",
      "metadata": {
        "id": "nFkEUMZmN2X-"
      },
      "source": [
        "Las dimensiones del vector resultante serian (numero de observaciones, ancho* alto* canales)"
      ]
    },
    {
      "cell_type": "code",
      "metadata": {
        "colab": {
          "base_uri": "https://localhost:8080/"
        },
        "id": "_aMSSygRNxbz",
        "outputId": "f78c8d67-425e-46f9-a8a7-6201305c6170"
      },
      "source": [
        "64*64*3"
      ],
      "execution_count": 107,
      "outputs": [
        {
          "output_type": "execute_result",
          "data": {
            "text/plain": [
              "12288"
            ]
          },
          "metadata": {
            "tags": []
          },
          "execution_count": 107
        }
      ]
    },
    {
      "cell_type": "code",
      "metadata": {
        "colab": {
          "base_uri": "https://localhost:8080/"
        },
        "id": "jdI6c6jeN6Ry",
        "outputId": "aa67db77-6d91-4fa9-f8b1-9474b12c2bb1"
      },
      "source": [
        "trainX.reshape((209,12288)).shape"
      ],
      "execution_count": 108,
      "outputs": [
        {
          "output_type": "execute_result",
          "data": {
            "text/plain": [
              "(209, 12288)"
            ]
          },
          "metadata": {
            "tags": []
          },
          "execution_count": 108
        }
      ]
    },
    {
      "cell_type": "code",
      "metadata": {
        "colab": {
          "base_uri": "https://localhost:8080/"
        },
        "id": "ezg6AgGPN93u",
        "outputId": "f9246755-99ed-4792-8141-6aa152270035"
      },
      "source": [
        "trainX.reshape((209,-1)).shape"
      ],
      "execution_count": 109,
      "outputs": [
        {
          "output_type": "execute_result",
          "data": {
            "text/plain": [
              "(209, 12288)"
            ]
          },
          "metadata": {
            "tags": []
          },
          "execution_count": 109
        }
      ]
    },
    {
      "cell_type": "markdown",
      "metadata": {
        "id": "qtqHSG1zOFDy"
      },
      "source": [
        "#  Escalamos y acomodamos como tablas"
      ]
    },
    {
      "cell_type": "code",
      "metadata": {
        "id": "Oyyl7KkrOAWG"
      },
      "source": [
        "trainX_resh = trainX.reshape((209,-1))/255\n",
        "testX_resh = testX.reshape((50,-1))/255"
      ],
      "execution_count": 110,
      "outputs": []
    },
    {
      "cell_type": "code",
      "metadata": {
        "colab": {
          "base_uri": "https://localhost:8080/"
        },
        "id": "2JoeVjjLOLVN",
        "outputId": "3374099e-801c-4db8-8dbd-079155f7e6f0"
      },
      "source": [
        "trainX_resh.shape"
      ],
      "execution_count": 111,
      "outputs": [
        {
          "output_type": "execute_result",
          "data": {
            "text/plain": [
              "(209, 12288)"
            ]
          },
          "metadata": {
            "tags": []
          },
          "execution_count": 111
        }
      ]
    },
    {
      "cell_type": "code",
      "metadata": {
        "id": "PisryxsKOUT7"
      },
      "source": [
        "import tensorflow as tf"
      ],
      "execution_count": 112,
      "outputs": []
    },
    {
      "cell_type": "code",
      "metadata": {
        "id": "44n6P_sdaiR_"
      },
      "source": [
        "from tensorflow.keras.models import Sequential ## Esqueleto del model\n",
        "from tensorflow.keras.layers import InputLayer ## PlaceHolder de la capa de entrada\n",
        "from tensorflow.keras.losses import BinaryCrossentropy\n",
        "from tensorflow.keras.initializers import random_normal\n",
        "from tensorflow.keras.optimizers import SGD #Stochastic gradient descent\n",
        "from tensorflow.keras.layers import Dense, LeakyReLU\n",
        "from tensorflow.keras.optimizers import Adam   ## Capa de neuronas normales \"Fully conected layer\"\n",
        "from tensorflow.keras.regularizers import l1_l2"
      ],
      "execution_count": 113,
      "outputs": []
    },
    {
      "cell_type": "code",
      "metadata": {
        "colab": {
          "base_uri": "https://localhost:8080/"
        },
        "id": "sLi6Vn5ZalqU",
        "outputId": "a43cb134-cea1-4114-f96f-d3f5877514c8"
      },
      "source": [
        "print(trainX_resh.shape)\n",
        "print(testX_resh.shape)"
      ],
      "execution_count": 114,
      "outputs": [
        {
          "output_type": "stream",
          "text": [
            "(209, 12288)\n",
            "(50, 12288)\n"
          ],
          "name": "stdout"
        }
      ]
    },
    {
      "cell_type": "markdown",
      "metadata": {
        "id": "oMZC1dXWoPcA"
      },
      "source": [
        "**Descenso de gradiente por lotes **. El tamaño del lote se establece en el número total de ejemplos en el conjunto de datos de entrenamiento.\n",
        "\n",
        "**Descenso de gradiente estocástico** . El tamaño del lote se establece en uno.\n",
        "\n",
        "**Descenso de gradiente de minibatch** . El tamaño del lote se establece en más de uno y menos que el número total de ejemplos en el conjunto de datos de entrenamiento."
      ]
    },
    {
      "cell_type": "code",
      "metadata": {
        "id": "_KpbssWl7kng"
      },
      "source": [
        "from tensorflow.keras.layers import Dropout"
      ],
      "execution_count": 185,
      "outputs": []
    },
    {
      "cell_type": "code",
      "metadata": {
        "id": "OWFjacpBasYC"
      },
      "source": [
        "model = Sequential()\n",
        "model.add(InputLayer(input_shape=(12288))) \n",
        "model.add(Dense(7, activation=\"relu\",  kernel_regularizer = l1_l2(0.001, 0.01)))\n",
        "model.add(Dense(10, activation=\"relu\", kernel_regularizer = l1_l2(0.001, 0.01)))\n",
        "model.add(Dense(15, activation=\"relu\", kernel_regularizer = l1_l2(0.001, 0.01)))\n",
        "model.add(Dropout(.1))\n",
        "model.add(Dense(units= 1, activation=\"sigmoid\" , kernel_regularizer = l1_l2(0.001, 0.01)))\n",
        "\n",
        "model.compile(loss=BinaryCrossentropy(), optimizer = Adam(learning_rate=0.00001),  metrics=[\"accuracy\"])"
      ],
      "execution_count": 207,
      "outputs": []
    },
    {
      "cell_type": "markdown",
      "metadata": {
        "id": "Fj6TQoX3w0zC"
      },
      "source": [
        "Descenso de gradiente por lotes : use una tasa de aprendizaje relativamente mayor y más épocas de entrenamiento.\n",
        "\n",
        "Descenso de gradiente estocástico : use una tasa de aprendizaje relativamente menor y menos épocas de entrenamiento."
      ]
    },
    {
      "cell_type": "code",
      "metadata": {
        "colab": {
          "base_uri": "https://localhost:8080/"
        },
        "id": "6OEReGbiauZV",
        "outputId": "61bb6d13-2df1-4f3e-f3a2-0798ad3cd16d"
      },
      "source": [
        "history= model.fit( x=trainX_resh,y=trainY, epochs=60, batch_size= 32, validation_data=(testX_resh,testY), use_multiprocessing=True, workers = 12)"
      ],
      "execution_count": 228,
      "outputs": [
        {
          "output_type": "stream",
          "text": [
            "Epoch 1/60\n",
            "7/7 [==============================] - 0s 13ms/step - loss: 0.6488 - accuracy: 0.9378 - val_loss: 0.7293 - val_accuracy: 0.8000\n",
            "Epoch 2/60\n",
            "7/7 [==============================] - 0s 8ms/step - loss: 0.6515 - accuracy: 0.9378 - val_loss: 0.7309 - val_accuracy: 0.7800\n",
            "Epoch 3/60\n",
            "7/7 [==============================] - 0s 9ms/step - loss: 0.6506 - accuracy: 0.9426 - val_loss: 0.7312 - val_accuracy: 0.7800\n",
            "Epoch 4/60\n",
            "7/7 [==============================] - 0s 9ms/step - loss: 0.6481 - accuracy: 0.9378 - val_loss: 0.7295 - val_accuracy: 0.8000\n",
            "Epoch 5/60\n",
            "7/7 [==============================] - 0s 8ms/step - loss: 0.6450 - accuracy: 0.9474 - val_loss: 0.7291 - val_accuracy: 0.8000\n",
            "Epoch 6/60\n",
            "7/7 [==============================] - 0s 9ms/step - loss: 0.6500 - accuracy: 0.9426 - val_loss: 0.7297 - val_accuracy: 0.8000\n",
            "Epoch 7/60\n",
            "7/7 [==============================] - 0s 8ms/step - loss: 0.6487 - accuracy: 0.9330 - val_loss: 0.7302 - val_accuracy: 0.7800\n",
            "Epoch 8/60\n",
            "7/7 [==============================] - 0s 11ms/step - loss: 0.6464 - accuracy: 0.9474 - val_loss: 0.7287 - val_accuracy: 0.8000\n",
            "Epoch 9/60\n",
            "7/7 [==============================] - 0s 8ms/step - loss: 0.6499 - accuracy: 0.9474 - val_loss: 0.7291 - val_accuracy: 0.8000\n",
            "Epoch 10/60\n",
            "7/7 [==============================] - 0s 10ms/step - loss: 0.6489 - accuracy: 0.9426 - val_loss: 0.7293 - val_accuracy: 0.8000\n",
            "Epoch 11/60\n",
            "7/7 [==============================] - 0s 10ms/step - loss: 0.6463 - accuracy: 0.9330 - val_loss: 0.7285 - val_accuracy: 0.8000\n",
            "Epoch 12/60\n",
            "7/7 [==============================] - 0s 9ms/step - loss: 0.6468 - accuracy: 0.9426 - val_loss: 0.7302 - val_accuracy: 0.7800\n",
            "Epoch 13/60\n",
            "7/7 [==============================] - 0s 8ms/step - loss: 0.6475 - accuracy: 0.9426 - val_loss: 0.7299 - val_accuracy: 0.8000\n",
            "Epoch 14/60\n",
            "7/7 [==============================] - 0s 8ms/step - loss: 0.6513 - accuracy: 0.9426 - val_loss: 0.7292 - val_accuracy: 0.8000\n",
            "Epoch 15/60\n",
            "7/7 [==============================] - 0s 8ms/step - loss: 0.6492 - accuracy: 0.9522 - val_loss: 0.7284 - val_accuracy: 0.8000\n",
            "Epoch 16/60\n",
            "7/7 [==============================] - 0s 8ms/step - loss: 0.6516 - accuracy: 0.9282 - val_loss: 0.7293 - val_accuracy: 0.7800\n",
            "Epoch 17/60\n",
            "7/7 [==============================] - 0s 11ms/step - loss: 0.6459 - accuracy: 0.9378 - val_loss: 0.7297 - val_accuracy: 0.7800\n",
            "Epoch 18/60\n",
            "7/7 [==============================] - 0s 8ms/step - loss: 0.6482 - accuracy: 0.9378 - val_loss: 0.7294 - val_accuracy: 0.8000\n",
            "Epoch 19/60\n",
            "7/7 [==============================] - 0s 8ms/step - loss: 0.6507 - accuracy: 0.9378 - val_loss: 0.7285 - val_accuracy: 0.8000\n",
            "Epoch 20/60\n",
            "7/7 [==============================] - 0s 9ms/step - loss: 0.6507 - accuracy: 0.9378 - val_loss: 0.7288 - val_accuracy: 0.8000\n",
            "Epoch 21/60\n",
            "7/7 [==============================] - 0s 8ms/step - loss: 0.6519 - accuracy: 0.9378 - val_loss: 0.7287 - val_accuracy: 0.8000\n",
            "Epoch 22/60\n",
            "7/7 [==============================] - 0s 8ms/step - loss: 0.6532 - accuracy: 0.9282 - val_loss: 0.7283 - val_accuracy: 0.8000\n",
            "Epoch 23/60\n",
            "7/7 [==============================] - 0s 8ms/step - loss: 0.6472 - accuracy: 0.9426 - val_loss: 0.7300 - val_accuracy: 0.7800\n",
            "Epoch 24/60\n",
            "7/7 [==============================] - 0s 10ms/step - loss: 0.6492 - accuracy: 0.9522 - val_loss: 0.7272 - val_accuracy: 0.8000\n",
            "Epoch 25/60\n",
            "7/7 [==============================] - 0s 9ms/step - loss: 0.6475 - accuracy: 0.9378 - val_loss: 0.7285 - val_accuracy: 0.7800\n",
            "Epoch 26/60\n",
            "7/7 [==============================] - 0s 8ms/step - loss: 0.6511 - accuracy: 0.9378 - val_loss: 0.7297 - val_accuracy: 0.7800\n",
            "Epoch 27/60\n",
            "7/7 [==============================] - 0s 11ms/step - loss: 0.6489 - accuracy: 0.9282 - val_loss: 0.7284 - val_accuracy: 0.8000\n",
            "Epoch 28/60\n",
            "7/7 [==============================] - 0s 8ms/step - loss: 0.6445 - accuracy: 0.9474 - val_loss: 0.7277 - val_accuracy: 0.8000\n",
            "Epoch 29/60\n",
            "7/7 [==============================] - 0s 9ms/step - loss: 0.6474 - accuracy: 0.9474 - val_loss: 0.7280 - val_accuracy: 0.8000\n",
            "Epoch 30/60\n",
            "7/7 [==============================] - 0s 8ms/step - loss: 0.6481 - accuracy: 0.9330 - val_loss: 0.7308 - val_accuracy: 0.7800\n",
            "Epoch 31/60\n",
            "7/7 [==============================] - 0s 8ms/step - loss: 0.6447 - accuracy: 0.9522 - val_loss: 0.7272 - val_accuracy: 0.8000\n",
            "Epoch 32/60\n",
            "7/7 [==============================] - 0s 9ms/step - loss: 0.6440 - accuracy: 0.9474 - val_loss: 0.7269 - val_accuracy: 0.8000\n",
            "Epoch 33/60\n",
            "7/7 [==============================] - 0s 9ms/step - loss: 0.6469 - accuracy: 0.9522 - val_loss: 0.7278 - val_accuracy: 0.8000\n",
            "Epoch 34/60\n",
            "7/7 [==============================] - 0s 8ms/step - loss: 0.6422 - accuracy: 0.9522 - val_loss: 0.7287 - val_accuracy: 0.8000\n",
            "Epoch 35/60\n",
            "7/7 [==============================] - 0s 8ms/step - loss: 0.6471 - accuracy: 0.9378 - val_loss: 0.7278 - val_accuracy: 0.8000\n",
            "Epoch 36/60\n",
            "7/7 [==============================] - 0s 9ms/step - loss: 0.6456 - accuracy: 0.9426 - val_loss: 0.7273 - val_accuracy: 0.8000\n",
            "Epoch 37/60\n",
            "7/7 [==============================] - 0s 9ms/step - loss: 0.6403 - accuracy: 0.9522 - val_loss: 0.7294 - val_accuracy: 0.7800\n",
            "Epoch 38/60\n",
            "7/7 [==============================] - 0s 8ms/step - loss: 0.6448 - accuracy: 0.9330 - val_loss: 0.7271 - val_accuracy: 0.8000\n",
            "Epoch 39/60\n",
            "7/7 [==============================] - 0s 10ms/step - loss: 0.6481 - accuracy: 0.9474 - val_loss: 0.7282 - val_accuracy: 0.7800\n",
            "Epoch 40/60\n",
            "7/7 [==============================] - 0s 9ms/step - loss: 0.6448 - accuracy: 0.9474 - val_loss: 0.7279 - val_accuracy: 0.8000\n",
            "Epoch 41/60\n",
            "7/7 [==============================] - 0s 8ms/step - loss: 0.6467 - accuracy: 0.9522 - val_loss: 0.7285 - val_accuracy: 0.7800\n",
            "Epoch 42/60\n",
            "7/7 [==============================] - 0s 8ms/step - loss: 0.6444 - accuracy: 0.9378 - val_loss: 0.7270 - val_accuracy: 0.8000\n",
            "Epoch 43/60\n",
            "7/7 [==============================] - 0s 8ms/step - loss: 0.6467 - accuracy: 0.9378 - val_loss: 0.7269 - val_accuracy: 0.8000\n",
            "Epoch 44/60\n",
            "7/7 [==============================] - 0s 9ms/step - loss: 0.6413 - accuracy: 0.9426 - val_loss: 0.7282 - val_accuracy: 0.8000\n",
            "Epoch 45/60\n",
            "7/7 [==============================] - 0s 8ms/step - loss: 0.6436 - accuracy: 0.9378 - val_loss: 0.7274 - val_accuracy: 0.8000\n",
            "Epoch 46/60\n",
            "7/7 [==============================] - 0s 8ms/step - loss: 0.6480 - accuracy: 0.9426 - val_loss: 0.7285 - val_accuracy: 0.8000\n",
            "Epoch 47/60\n",
            "7/7 [==============================] - 0s 8ms/step - loss: 0.6425 - accuracy: 0.9426 - val_loss: 0.7274 - val_accuracy: 0.8000\n",
            "Epoch 48/60\n",
            "7/7 [==============================] - 0s 8ms/step - loss: 0.6457 - accuracy: 0.9426 - val_loss: 0.7270 - val_accuracy: 0.7800\n",
            "Epoch 49/60\n",
            "7/7 [==============================] - 0s 8ms/step - loss: 0.6388 - accuracy: 0.9378 - val_loss: 0.7273 - val_accuracy: 0.8000\n",
            "Epoch 50/60\n",
            "7/7 [==============================] - 0s 8ms/step - loss: 0.6417 - accuracy: 0.9474 - val_loss: 0.7274 - val_accuracy: 0.8000\n",
            "Epoch 51/60\n",
            "7/7 [==============================] - 0s 9ms/step - loss: 0.6440 - accuracy: 0.9330 - val_loss: 0.7289 - val_accuracy: 0.7800\n",
            "Epoch 52/60\n",
            "7/7 [==============================] - 0s 9ms/step - loss: 0.6467 - accuracy: 0.9378 - val_loss: 0.7259 - val_accuracy: 0.8000\n",
            "Epoch 53/60\n",
            "7/7 [==============================] - 0s 11ms/step - loss: 0.6422 - accuracy: 0.9426 - val_loss: 0.7275 - val_accuracy: 0.8000\n",
            "Epoch 54/60\n",
            "7/7 [==============================] - 0s 9ms/step - loss: 0.6452 - accuracy: 0.9426 - val_loss: 0.7275 - val_accuracy: 0.8000\n",
            "Epoch 55/60\n",
            "7/7 [==============================] - 0s 8ms/step - loss: 0.6494 - accuracy: 0.9139 - val_loss: 0.7271 - val_accuracy: 0.7800\n",
            "Epoch 56/60\n",
            "7/7 [==============================] - 0s 8ms/step - loss: 0.6438 - accuracy: 0.9378 - val_loss: 0.7262 - val_accuracy: 0.8000\n",
            "Epoch 57/60\n",
            "7/7 [==============================] - 0s 8ms/step - loss: 0.6424 - accuracy: 0.9426 - val_loss: 0.7265 - val_accuracy: 0.8000\n",
            "Epoch 58/60\n",
            "7/7 [==============================] - 0s 8ms/step - loss: 0.6490 - accuracy: 0.9474 - val_loss: 0.7264 - val_accuracy: 0.8000\n",
            "Epoch 59/60\n",
            "7/7 [==============================] - 0s 8ms/step - loss: 0.6432 - accuracy: 0.9378 - val_loss: 0.7264 - val_accuracy: 0.8000\n",
            "Epoch 60/60\n",
            "7/7 [==============================] - 0s 8ms/step - loss: 0.6432 - accuracy: 0.9426 - val_loss: 0.7253 - val_accuracy: 0.8000\n"
          ],
          "name": "stdout"
        }
      ]
    },
    {
      "cell_type": "code",
      "metadata": {
        "colab": {
          "base_uri": "https://localhost:8080/",
          "height": 542
        },
        "id": "1RoJ4Ls9ax4-",
        "outputId": "7e208e1d-6d2a-4935-a52f-629b8f5538ea"
      },
      "source": [
        "trace = go.Scatter(x = np.arange(len(history.history[\"loss\"])), y= history.history[\"loss\"], mode=\"lines\", name=\"train_loss\")\n",
        "trace2 = go.Scatter(x = np.arange(len(history.history[\"val_loss\"])), y= history.history[\"val_loss\"], mode=\"lines\", name=\"val_loss\")\n",
        "fig = go.Figure()\n",
        "fig.add_traces([trace, trace2])\n",
        "fig.update_layout(dict(title= \"Loss\"))\n",
        "fig.show()\n"
      ],
      "execution_count": 229,
      "outputs": [
        {
          "output_type": "display_data",
          "data": {
            "text/html": [
              "<html>\n",
              "<head><meta charset=\"utf-8\" /></head>\n",
              "<body>\n",
              "    <div>\n",
              "            <script src=\"https://cdnjs.cloudflare.com/ajax/libs/mathjax/2.7.5/MathJax.js?config=TeX-AMS-MML_SVG\"></script><script type=\"text/javascript\">if (window.MathJax) {MathJax.Hub.Config({SVG: {font: \"STIX-Web\"}});}</script>\n",
              "                <script type=\"text/javascript\">window.PlotlyConfig = {MathJaxConfig: 'local'};</script>\n",
              "        <script src=\"https://cdn.plot.ly/plotly-latest.min.js\"></script>    \n",
              "            <div id=\"c78d6fe6-dee2-4bb2-a5ee-79ec4399d3a6\" class=\"plotly-graph-div\" style=\"height:525px; width:100%;\"></div>\n",
              "            <script type=\"text/javascript\">\n",
              "                \n",
              "                    window.PLOTLYENV=window.PLOTLYENV || {};\n",
              "                    \n",
              "                if (document.getElementById(\"c78d6fe6-dee2-4bb2-a5ee-79ec4399d3a6\")) {\n",
              "                    Plotly.newPlot(\n",
              "                        'c78d6fe6-dee2-4bb2-a5ee-79ec4399d3a6',\n",
              "                        [{\"mode\": \"lines\", \"name\": \"train_loss\", \"type\": \"scatter\", \"x\": [0, 1, 2, 3, 4, 5, 6, 7, 8, 9, 10, 11, 12, 13, 14, 15, 16, 17, 18, 19, 20, 21, 22, 23, 24, 25, 26, 27, 28, 29, 30, 31, 32, 33, 34, 35, 36, 37, 38, 39, 40, 41, 42, 43, 44, 45, 46, 47, 48, 49, 50, 51, 52, 53, 54, 55, 56, 57, 58, 59], \"y\": [0.648783266544342, 0.6515188813209534, 0.6506065130233765, 0.6480969786643982, 0.6450455188751221, 0.6499729156494141, 0.6487399935722351, 0.64644455909729, 0.6498515009880066, 0.6488914489746094, 0.6463184952735901, 0.6467766761779785, 0.6475469470024109, 0.6512807607650757, 0.6491540670394897, 0.651630699634552, 0.6458937525749207, 0.6481710076332092, 0.6507278680801392, 0.6507314443588257, 0.6519380211830139, 0.6531890630722046, 0.6471980214118958, 0.6492348909378052, 0.6475104093551636, 0.6511431336402893, 0.6489357948303223, 0.6444909572601318, 0.6474276185035706, 0.6481427550315857, 0.6447101831436157, 0.6440482139587402, 0.6468833684921265, 0.6422282457351685, 0.6470540165901184, 0.6455835103988647, 0.6402772068977356, 0.6447539329528809, 0.6481353044509888, 0.6448413133621216, 0.6467211246490479, 0.644447386264801, 0.6466837525367737, 0.6413239240646362, 0.6435758471488953, 0.6480206251144409, 0.6425485014915466, 0.6457075476646423, 0.6388046741485596, 0.6416997313499451, 0.6439805626869202, 0.6467159390449524, 0.6421829462051392, 0.645161509513855, 0.649412989616394, 0.6438398361206055, 0.6424158811569214, 0.6490262150764465, 0.6431965231895447, 0.6431588530540466]}, {\"mode\": \"lines\", \"name\": \"val_loss\", \"type\": \"scatter\", \"x\": [0, 1, 2, 3, 4, 5, 6, 7, 8, 9, 10, 11, 12, 13, 14, 15, 16, 17, 18, 19, 20, 21, 22, 23, 24, 25, 26, 27, 28, 29, 30, 31, 32, 33, 34, 35, 36, 37, 38, 39, 40, 41, 42, 43, 44, 45, 46, 47, 48, 49, 50, 51, 52, 53, 54, 55, 56, 57, 58, 59], \"y\": [0.7292924523353577, 0.730908989906311, 0.731171727180481, 0.7295098304748535, 0.7290663719177246, 0.7297239899635315, 0.7302482724189758, 0.7287156581878662, 0.729149341583252, 0.729290783405304, 0.7284738421440125, 0.7302319407463074, 0.7298886775970459, 0.7292142510414124, 0.7284034490585327, 0.7293012738227844, 0.7297146320343018, 0.7293946743011475, 0.7285162210464478, 0.7287955284118652, 0.7286643981933594, 0.7283103466033936, 0.7300420999526978, 0.7272235155105591, 0.7284818291664124, 0.7297149896621704, 0.7283620238304138, 0.7276568412780762, 0.7280102372169495, 0.7307584285736084, 0.7272002696990967, 0.726853609085083, 0.7278436422348022, 0.7287161350250244, 0.7278485298156738, 0.7272995114326477, 0.7294068336486816, 0.7271345257759094, 0.7281652092933655, 0.7279046773910522, 0.7285436987876892, 0.7269980907440186, 0.7268820405006409, 0.7281681299209595, 0.727447509765625, 0.7285452485084534, 0.7274081707000732, 0.7270135283470154, 0.7272905111312866, 0.7273823618888855, 0.7288902997970581, 0.7258764505386353, 0.7275131344795227, 0.7274772524833679, 0.7270687818527222, 0.7261645793914795, 0.7265322804450989, 0.7263720035552979, 0.7264347076416016, 0.7253051996231079]}],\n",
              "                        {\"template\": {\"data\": {\"bar\": [{\"error_x\": {\"color\": \"#2a3f5f\"}, \"error_y\": {\"color\": \"#2a3f5f\"}, \"marker\": {\"line\": {\"color\": \"#E5ECF6\", \"width\": 0.5}}, \"type\": \"bar\"}], \"barpolar\": [{\"marker\": {\"line\": {\"color\": \"#E5ECF6\", \"width\": 0.5}}, \"type\": \"barpolar\"}], \"carpet\": [{\"aaxis\": {\"endlinecolor\": \"#2a3f5f\", \"gridcolor\": \"white\", \"linecolor\": \"white\", \"minorgridcolor\": \"white\", \"startlinecolor\": \"#2a3f5f\"}, \"baxis\": {\"endlinecolor\": \"#2a3f5f\", \"gridcolor\": \"white\", \"linecolor\": \"white\", \"minorgridcolor\": \"white\", \"startlinecolor\": \"#2a3f5f\"}, \"type\": \"carpet\"}], \"choropleth\": [{\"colorbar\": {\"outlinewidth\": 0, \"ticks\": \"\"}, \"type\": \"choropleth\"}], \"contour\": [{\"colorbar\": {\"outlinewidth\": 0, \"ticks\": \"\"}, \"colorscale\": [[0.0, \"#0d0887\"], [0.1111111111111111, \"#46039f\"], [0.2222222222222222, \"#7201a8\"], [0.3333333333333333, \"#9c179e\"], [0.4444444444444444, \"#bd3786\"], [0.5555555555555556, \"#d8576b\"], [0.6666666666666666, \"#ed7953\"], [0.7777777777777778, \"#fb9f3a\"], [0.8888888888888888, \"#fdca26\"], [1.0, \"#f0f921\"]], \"type\": \"contour\"}], \"contourcarpet\": [{\"colorbar\": {\"outlinewidth\": 0, \"ticks\": \"\"}, \"type\": \"contourcarpet\"}], \"heatmap\": [{\"colorbar\": {\"outlinewidth\": 0, \"ticks\": \"\"}, \"colorscale\": [[0.0, \"#0d0887\"], [0.1111111111111111, \"#46039f\"], [0.2222222222222222, \"#7201a8\"], [0.3333333333333333, \"#9c179e\"], [0.4444444444444444, \"#bd3786\"], [0.5555555555555556, \"#d8576b\"], [0.6666666666666666, \"#ed7953\"], [0.7777777777777778, \"#fb9f3a\"], [0.8888888888888888, \"#fdca26\"], [1.0, \"#f0f921\"]], \"type\": \"heatmap\"}], \"heatmapgl\": [{\"colorbar\": {\"outlinewidth\": 0, \"ticks\": \"\"}, \"colorscale\": [[0.0, \"#0d0887\"], [0.1111111111111111, \"#46039f\"], [0.2222222222222222, \"#7201a8\"], [0.3333333333333333, \"#9c179e\"], [0.4444444444444444, \"#bd3786\"], [0.5555555555555556, \"#d8576b\"], [0.6666666666666666, \"#ed7953\"], [0.7777777777777778, \"#fb9f3a\"], [0.8888888888888888, \"#fdca26\"], [1.0, \"#f0f921\"]], \"type\": \"heatmapgl\"}], \"histogram\": [{\"marker\": {\"colorbar\": {\"outlinewidth\": 0, \"ticks\": \"\"}}, \"type\": \"histogram\"}], \"histogram2d\": [{\"colorbar\": {\"outlinewidth\": 0, \"ticks\": \"\"}, \"colorscale\": [[0.0, \"#0d0887\"], [0.1111111111111111, \"#46039f\"], [0.2222222222222222, \"#7201a8\"], [0.3333333333333333, \"#9c179e\"], [0.4444444444444444, \"#bd3786\"], [0.5555555555555556, \"#d8576b\"], [0.6666666666666666, \"#ed7953\"], [0.7777777777777778, \"#fb9f3a\"], [0.8888888888888888, \"#fdca26\"], [1.0, \"#f0f921\"]], \"type\": \"histogram2d\"}], \"histogram2dcontour\": [{\"colorbar\": {\"outlinewidth\": 0, \"ticks\": \"\"}, \"colorscale\": [[0.0, \"#0d0887\"], [0.1111111111111111, \"#46039f\"], [0.2222222222222222, \"#7201a8\"], [0.3333333333333333, \"#9c179e\"], [0.4444444444444444, \"#bd3786\"], [0.5555555555555556, \"#d8576b\"], [0.6666666666666666, \"#ed7953\"], [0.7777777777777778, \"#fb9f3a\"], [0.8888888888888888, \"#fdca26\"], [1.0, \"#f0f921\"]], \"type\": \"histogram2dcontour\"}], \"mesh3d\": [{\"colorbar\": {\"outlinewidth\": 0, \"ticks\": \"\"}, \"type\": \"mesh3d\"}], \"parcoords\": [{\"line\": {\"colorbar\": {\"outlinewidth\": 0, \"ticks\": \"\"}}, \"type\": \"parcoords\"}], \"pie\": [{\"automargin\": true, \"type\": \"pie\"}], \"scatter\": [{\"marker\": {\"colorbar\": {\"outlinewidth\": 0, \"ticks\": \"\"}}, \"type\": \"scatter\"}], \"scatter3d\": [{\"line\": {\"colorbar\": {\"outlinewidth\": 0, \"ticks\": \"\"}}, \"marker\": {\"colorbar\": {\"outlinewidth\": 0, \"ticks\": \"\"}}, \"type\": \"scatter3d\"}], \"scattercarpet\": [{\"marker\": {\"colorbar\": {\"outlinewidth\": 0, \"ticks\": \"\"}}, \"type\": \"scattercarpet\"}], \"scattergeo\": [{\"marker\": {\"colorbar\": {\"outlinewidth\": 0, \"ticks\": \"\"}}, \"type\": \"scattergeo\"}], \"scattergl\": [{\"marker\": {\"colorbar\": {\"outlinewidth\": 0, \"ticks\": \"\"}}, \"type\": \"scattergl\"}], \"scattermapbox\": [{\"marker\": {\"colorbar\": {\"outlinewidth\": 0, \"ticks\": \"\"}}, \"type\": \"scattermapbox\"}], \"scatterpolar\": [{\"marker\": {\"colorbar\": {\"outlinewidth\": 0, \"ticks\": \"\"}}, \"type\": \"scatterpolar\"}], \"scatterpolargl\": [{\"marker\": {\"colorbar\": {\"outlinewidth\": 0, \"ticks\": \"\"}}, \"type\": \"scatterpolargl\"}], \"scatterternary\": [{\"marker\": {\"colorbar\": {\"outlinewidth\": 0, \"ticks\": \"\"}}, \"type\": \"scatterternary\"}], \"surface\": [{\"colorbar\": {\"outlinewidth\": 0, \"ticks\": \"\"}, \"colorscale\": [[0.0, \"#0d0887\"], [0.1111111111111111, \"#46039f\"], [0.2222222222222222, \"#7201a8\"], [0.3333333333333333, \"#9c179e\"], [0.4444444444444444, \"#bd3786\"], [0.5555555555555556, \"#d8576b\"], [0.6666666666666666, \"#ed7953\"], [0.7777777777777778, \"#fb9f3a\"], [0.8888888888888888, \"#fdca26\"], [1.0, \"#f0f921\"]], \"type\": \"surface\"}], \"table\": [{\"cells\": {\"fill\": {\"color\": \"#EBF0F8\"}, \"line\": {\"color\": \"white\"}}, \"header\": {\"fill\": {\"color\": \"#C8D4E3\"}, \"line\": {\"color\": \"white\"}}, \"type\": \"table\"}]}, \"layout\": {\"annotationdefaults\": {\"arrowcolor\": \"#2a3f5f\", \"arrowhead\": 0, \"arrowwidth\": 1}, \"coloraxis\": {\"colorbar\": {\"outlinewidth\": 0, \"ticks\": \"\"}}, \"colorscale\": {\"diverging\": [[0, \"#8e0152\"], [0.1, \"#c51b7d\"], [0.2, \"#de77ae\"], [0.3, \"#f1b6da\"], [0.4, \"#fde0ef\"], [0.5, \"#f7f7f7\"], [0.6, \"#e6f5d0\"], [0.7, \"#b8e186\"], [0.8, \"#7fbc41\"], [0.9, \"#4d9221\"], [1, \"#276419\"]], \"sequential\": [[0.0, \"#0d0887\"], [0.1111111111111111, \"#46039f\"], [0.2222222222222222, \"#7201a8\"], [0.3333333333333333, \"#9c179e\"], [0.4444444444444444, \"#bd3786\"], [0.5555555555555556, \"#d8576b\"], [0.6666666666666666, \"#ed7953\"], [0.7777777777777778, \"#fb9f3a\"], [0.8888888888888888, \"#fdca26\"], [1.0, \"#f0f921\"]], \"sequentialminus\": [[0.0, \"#0d0887\"], [0.1111111111111111, \"#46039f\"], [0.2222222222222222, \"#7201a8\"], [0.3333333333333333, \"#9c179e\"], [0.4444444444444444, \"#bd3786\"], [0.5555555555555556, \"#d8576b\"], [0.6666666666666666, \"#ed7953\"], [0.7777777777777778, \"#fb9f3a\"], [0.8888888888888888, \"#fdca26\"], [1.0, \"#f0f921\"]]}, \"colorway\": [\"#636efa\", \"#EF553B\", \"#00cc96\", \"#ab63fa\", \"#FFA15A\", \"#19d3f3\", \"#FF6692\", \"#B6E880\", \"#FF97FF\", \"#FECB52\"], \"font\": {\"color\": \"#2a3f5f\"}, \"geo\": {\"bgcolor\": \"white\", \"lakecolor\": \"white\", \"landcolor\": \"#E5ECF6\", \"showlakes\": true, \"showland\": true, \"subunitcolor\": \"white\"}, \"hoverlabel\": {\"align\": \"left\"}, \"hovermode\": \"closest\", \"mapbox\": {\"style\": \"light\"}, \"paper_bgcolor\": \"white\", \"plot_bgcolor\": \"#E5ECF6\", \"polar\": {\"angularaxis\": {\"gridcolor\": \"white\", \"linecolor\": \"white\", \"ticks\": \"\"}, \"bgcolor\": \"#E5ECF6\", \"radialaxis\": {\"gridcolor\": \"white\", \"linecolor\": \"white\", \"ticks\": \"\"}}, \"scene\": {\"xaxis\": {\"backgroundcolor\": \"#E5ECF6\", \"gridcolor\": \"white\", \"gridwidth\": 2, \"linecolor\": \"white\", \"showbackground\": true, \"ticks\": \"\", \"zerolinecolor\": \"white\"}, \"yaxis\": {\"backgroundcolor\": \"#E5ECF6\", \"gridcolor\": \"white\", \"gridwidth\": 2, \"linecolor\": \"white\", \"showbackground\": true, \"ticks\": \"\", \"zerolinecolor\": \"white\"}, \"zaxis\": {\"backgroundcolor\": \"#E5ECF6\", \"gridcolor\": \"white\", \"gridwidth\": 2, \"linecolor\": \"white\", \"showbackground\": true, \"ticks\": \"\", \"zerolinecolor\": \"white\"}}, \"shapedefaults\": {\"line\": {\"color\": \"#2a3f5f\"}}, \"ternary\": {\"aaxis\": {\"gridcolor\": \"white\", \"linecolor\": \"white\", \"ticks\": \"\"}, \"baxis\": {\"gridcolor\": \"white\", \"linecolor\": \"white\", \"ticks\": \"\"}, \"bgcolor\": \"#E5ECF6\", \"caxis\": {\"gridcolor\": \"white\", \"linecolor\": \"white\", \"ticks\": \"\"}}, \"title\": {\"x\": 0.05}, \"xaxis\": {\"automargin\": true, \"gridcolor\": \"white\", \"linecolor\": \"white\", \"ticks\": \"\", \"title\": {\"standoff\": 15}, \"zerolinecolor\": \"white\", \"zerolinewidth\": 2}, \"yaxis\": {\"automargin\": true, \"gridcolor\": \"white\", \"linecolor\": \"white\", \"ticks\": \"\", \"title\": {\"standoff\": 15}, \"zerolinecolor\": \"white\", \"zerolinewidth\": 2}}}, \"title\": {\"text\": \"Loss\"}},\n",
              "                        {\"responsive\": true}\n",
              "                    ).then(function(){\n",
              "                            \n",
              "var gd = document.getElementById('c78d6fe6-dee2-4bb2-a5ee-79ec4399d3a6');\n",
              "var x = new MutationObserver(function (mutations, observer) {{\n",
              "        var display = window.getComputedStyle(gd).display;\n",
              "        if (!display || display === 'none') {{\n",
              "            console.log([gd, 'removed!']);\n",
              "            Plotly.purge(gd);\n",
              "            observer.disconnect();\n",
              "        }}\n",
              "}});\n",
              "\n",
              "// Listen for the removal of the full notebook cells\n",
              "var notebookContainer = gd.closest('#notebook-container');\n",
              "if (notebookContainer) {{\n",
              "    x.observe(notebookContainer, {childList: true});\n",
              "}}\n",
              "\n",
              "// Listen for the clearing of the current output cell\n",
              "var outputEl = gd.closest('.output');\n",
              "if (outputEl) {{\n",
              "    x.observe(outputEl, {childList: true});\n",
              "}}\n",
              "\n",
              "                        })\n",
              "                };\n",
              "                \n",
              "            </script>\n",
              "        </div>\n",
              "</body>\n",
              "</html>"
            ]
          },
          "metadata": {
            "tags": []
          }
        }
      ]
    },
    {
      "cell_type": "code",
      "metadata": {
        "colab": {
          "base_uri": "https://localhost:8080/",
          "height": 542
        },
        "id": "GBKPXbi1bA9o",
        "outputId": "ee4f0eba-cdaf-472b-faad-6f8f9b5c643c"
      },
      "source": [
        "trace = go.Scatter(x = np.arange(len(history.history[\"accuracy\"])), y= history.history[\"accuracy\"], mode=\"lines\", name=\"train_accuracy\")\n",
        "trace2 = go.Scatter(x = np.arange(len(history.history[\"val_accuracy\"])), y= history.history[\"val_accuracy\"], mode=\"lines\", name=\"val_accuracy\")\n",
        "fig = go.Figure()\n",
        "fig.add_traces([trace, trace2])\n",
        "fig.update_layout(dict(title= \"Accuracy\"))\n",
        "fig.show()"
      ],
      "execution_count": 230,
      "outputs": [
        {
          "output_type": "display_data",
          "data": {
            "text/html": [
              "<html>\n",
              "<head><meta charset=\"utf-8\" /></head>\n",
              "<body>\n",
              "    <div>\n",
              "            <script src=\"https://cdnjs.cloudflare.com/ajax/libs/mathjax/2.7.5/MathJax.js?config=TeX-AMS-MML_SVG\"></script><script type=\"text/javascript\">if (window.MathJax) {MathJax.Hub.Config({SVG: {font: \"STIX-Web\"}});}</script>\n",
              "                <script type=\"text/javascript\">window.PlotlyConfig = {MathJaxConfig: 'local'};</script>\n",
              "        <script src=\"https://cdn.plot.ly/plotly-latest.min.js\"></script>    \n",
              "            <div id=\"3c8c00e1-d625-4d1b-a74c-b66e8b6e0acb\" class=\"plotly-graph-div\" style=\"height:525px; width:100%;\"></div>\n",
              "            <script type=\"text/javascript\">\n",
              "                \n",
              "                    window.PLOTLYENV=window.PLOTLYENV || {};\n",
              "                    \n",
              "                if (document.getElementById(\"3c8c00e1-d625-4d1b-a74c-b66e8b6e0acb\")) {\n",
              "                    Plotly.newPlot(\n",
              "                        '3c8c00e1-d625-4d1b-a74c-b66e8b6e0acb',\n",
              "                        [{\"mode\": \"lines\", \"name\": \"train_accuracy\", \"type\": \"scatter\", \"x\": [0, 1, 2, 3, 4, 5, 6, 7, 8, 9, 10, 11, 12, 13, 14, 15, 16, 17, 18, 19, 20, 21, 22, 23, 24, 25, 26, 27, 28, 29, 30, 31, 32, 33, 34, 35, 36, 37, 38, 39, 40, 41, 42, 43, 44, 45, 46, 47, 48, 49, 50, 51, 52, 53, 54, 55, 56, 57, 58, 59], \"y\": [0.9377990365028381, 0.9377990365028381, 0.9425837397575378, 0.9377990365028381, 0.9473684430122375, 0.9425837397575378, 0.9330143332481384, 0.9473684430122375, 0.9473684430122375, 0.9425837397575378, 0.9330143332481384, 0.9425837397575378, 0.9425837397575378, 0.9425837397575378, 0.9521530866622925, 0.9282296895980835, 0.9377990365028381, 0.9377990365028381, 0.9377990365028381, 0.9377990365028381, 0.9377990365028381, 0.9282296895980835, 0.9425837397575378, 0.9521530866622925, 0.9377990365028381, 0.9377990365028381, 0.9282296895980835, 0.9473684430122375, 0.9473684430122375, 0.9330143332481384, 0.9521530866622925, 0.9473684430122375, 0.9521530866622925, 0.9521530866622925, 0.9377990365028381, 0.9425837397575378, 0.9521530866622925, 0.9330143332481384, 0.9473684430122375, 0.9473684430122375, 0.9521530866622925, 0.9377990365028381, 0.9377990365028381, 0.9425837397575378, 0.9377990365028381, 0.9425837397575378, 0.9425837397575378, 0.9425837397575378, 0.9377990365028381, 0.9473684430122375, 0.9330143332481384, 0.9377990365028381, 0.9425837397575378, 0.9425837397575378, 0.9138755798339844, 0.9377990365028381, 0.9425837397575378, 0.9473684430122375, 0.9377990365028381, 0.9425837397575378]}, {\"mode\": \"lines\", \"name\": \"val_accuracy\", \"type\": \"scatter\", \"x\": [0, 1, 2, 3, 4, 5, 6, 7, 8, 9, 10, 11, 12, 13, 14, 15, 16, 17, 18, 19, 20, 21, 22, 23, 24, 25, 26, 27, 28, 29, 30, 31, 32, 33, 34, 35, 36, 37, 38, 39, 40, 41, 42, 43, 44, 45, 46, 47, 48, 49, 50, 51, 52, 53, 54, 55, 56, 57, 58, 59], \"y\": [0.800000011920929, 0.7799999713897705, 0.7799999713897705, 0.800000011920929, 0.800000011920929, 0.800000011920929, 0.7799999713897705, 0.800000011920929, 0.800000011920929, 0.800000011920929, 0.800000011920929, 0.7799999713897705, 0.800000011920929, 0.800000011920929, 0.800000011920929, 0.7799999713897705, 0.7799999713897705, 0.800000011920929, 0.800000011920929, 0.800000011920929, 0.800000011920929, 0.800000011920929, 0.7799999713897705, 0.800000011920929, 0.7799999713897705, 0.7799999713897705, 0.800000011920929, 0.800000011920929, 0.800000011920929, 0.7799999713897705, 0.800000011920929, 0.800000011920929, 0.800000011920929, 0.800000011920929, 0.800000011920929, 0.800000011920929, 0.7799999713897705, 0.800000011920929, 0.7799999713897705, 0.800000011920929, 0.7799999713897705, 0.800000011920929, 0.800000011920929, 0.800000011920929, 0.800000011920929, 0.800000011920929, 0.800000011920929, 0.7799999713897705, 0.800000011920929, 0.800000011920929, 0.7799999713897705, 0.800000011920929, 0.800000011920929, 0.800000011920929, 0.7799999713897705, 0.800000011920929, 0.800000011920929, 0.800000011920929, 0.800000011920929, 0.800000011920929]}],\n",
              "                        {\"template\": {\"data\": {\"bar\": [{\"error_x\": {\"color\": \"#2a3f5f\"}, \"error_y\": {\"color\": \"#2a3f5f\"}, \"marker\": {\"line\": {\"color\": \"#E5ECF6\", \"width\": 0.5}}, \"type\": \"bar\"}], \"barpolar\": [{\"marker\": {\"line\": {\"color\": \"#E5ECF6\", \"width\": 0.5}}, \"type\": \"barpolar\"}], \"carpet\": [{\"aaxis\": {\"endlinecolor\": \"#2a3f5f\", \"gridcolor\": \"white\", \"linecolor\": \"white\", \"minorgridcolor\": \"white\", \"startlinecolor\": \"#2a3f5f\"}, \"baxis\": {\"endlinecolor\": \"#2a3f5f\", \"gridcolor\": \"white\", \"linecolor\": \"white\", \"minorgridcolor\": \"white\", \"startlinecolor\": \"#2a3f5f\"}, \"type\": \"carpet\"}], \"choropleth\": [{\"colorbar\": {\"outlinewidth\": 0, \"ticks\": \"\"}, \"type\": \"choropleth\"}], \"contour\": [{\"colorbar\": {\"outlinewidth\": 0, \"ticks\": \"\"}, \"colorscale\": [[0.0, \"#0d0887\"], [0.1111111111111111, \"#46039f\"], [0.2222222222222222, \"#7201a8\"], [0.3333333333333333, \"#9c179e\"], [0.4444444444444444, \"#bd3786\"], [0.5555555555555556, \"#d8576b\"], [0.6666666666666666, \"#ed7953\"], [0.7777777777777778, \"#fb9f3a\"], [0.8888888888888888, \"#fdca26\"], [1.0, \"#f0f921\"]], \"type\": \"contour\"}], \"contourcarpet\": [{\"colorbar\": {\"outlinewidth\": 0, \"ticks\": \"\"}, \"type\": \"contourcarpet\"}], \"heatmap\": [{\"colorbar\": {\"outlinewidth\": 0, \"ticks\": \"\"}, \"colorscale\": [[0.0, \"#0d0887\"], [0.1111111111111111, \"#46039f\"], [0.2222222222222222, \"#7201a8\"], [0.3333333333333333, \"#9c179e\"], [0.4444444444444444, \"#bd3786\"], [0.5555555555555556, \"#d8576b\"], [0.6666666666666666, \"#ed7953\"], [0.7777777777777778, \"#fb9f3a\"], [0.8888888888888888, \"#fdca26\"], [1.0, \"#f0f921\"]], \"type\": \"heatmap\"}], \"heatmapgl\": [{\"colorbar\": {\"outlinewidth\": 0, \"ticks\": \"\"}, \"colorscale\": [[0.0, \"#0d0887\"], [0.1111111111111111, \"#46039f\"], [0.2222222222222222, \"#7201a8\"], [0.3333333333333333, \"#9c179e\"], [0.4444444444444444, \"#bd3786\"], [0.5555555555555556, \"#d8576b\"], [0.6666666666666666, \"#ed7953\"], [0.7777777777777778, \"#fb9f3a\"], [0.8888888888888888, \"#fdca26\"], [1.0, \"#f0f921\"]], \"type\": \"heatmapgl\"}], \"histogram\": [{\"marker\": {\"colorbar\": {\"outlinewidth\": 0, \"ticks\": \"\"}}, \"type\": \"histogram\"}], \"histogram2d\": [{\"colorbar\": {\"outlinewidth\": 0, \"ticks\": \"\"}, \"colorscale\": [[0.0, \"#0d0887\"], [0.1111111111111111, \"#46039f\"], [0.2222222222222222, \"#7201a8\"], [0.3333333333333333, \"#9c179e\"], [0.4444444444444444, \"#bd3786\"], [0.5555555555555556, \"#d8576b\"], [0.6666666666666666, \"#ed7953\"], [0.7777777777777778, \"#fb9f3a\"], [0.8888888888888888, \"#fdca26\"], [1.0, \"#f0f921\"]], \"type\": \"histogram2d\"}], \"histogram2dcontour\": [{\"colorbar\": {\"outlinewidth\": 0, \"ticks\": \"\"}, \"colorscale\": [[0.0, \"#0d0887\"], [0.1111111111111111, \"#46039f\"], [0.2222222222222222, \"#7201a8\"], [0.3333333333333333, \"#9c179e\"], [0.4444444444444444, \"#bd3786\"], [0.5555555555555556, \"#d8576b\"], [0.6666666666666666, \"#ed7953\"], [0.7777777777777778, \"#fb9f3a\"], [0.8888888888888888, \"#fdca26\"], [1.0, \"#f0f921\"]], \"type\": \"histogram2dcontour\"}], \"mesh3d\": [{\"colorbar\": {\"outlinewidth\": 0, \"ticks\": \"\"}, \"type\": \"mesh3d\"}], \"parcoords\": [{\"line\": {\"colorbar\": {\"outlinewidth\": 0, \"ticks\": \"\"}}, \"type\": \"parcoords\"}], \"pie\": [{\"automargin\": true, \"type\": \"pie\"}], \"scatter\": [{\"marker\": {\"colorbar\": {\"outlinewidth\": 0, \"ticks\": \"\"}}, \"type\": \"scatter\"}], \"scatter3d\": [{\"line\": {\"colorbar\": {\"outlinewidth\": 0, \"ticks\": \"\"}}, \"marker\": {\"colorbar\": {\"outlinewidth\": 0, \"ticks\": \"\"}}, \"type\": \"scatter3d\"}], \"scattercarpet\": [{\"marker\": {\"colorbar\": {\"outlinewidth\": 0, \"ticks\": \"\"}}, \"type\": \"scattercarpet\"}], \"scattergeo\": [{\"marker\": {\"colorbar\": {\"outlinewidth\": 0, \"ticks\": \"\"}}, \"type\": \"scattergeo\"}], \"scattergl\": [{\"marker\": {\"colorbar\": {\"outlinewidth\": 0, \"ticks\": \"\"}}, \"type\": \"scattergl\"}], \"scattermapbox\": [{\"marker\": {\"colorbar\": {\"outlinewidth\": 0, \"ticks\": \"\"}}, \"type\": \"scattermapbox\"}], \"scatterpolar\": [{\"marker\": {\"colorbar\": {\"outlinewidth\": 0, \"ticks\": \"\"}}, \"type\": \"scatterpolar\"}], \"scatterpolargl\": [{\"marker\": {\"colorbar\": {\"outlinewidth\": 0, \"ticks\": \"\"}}, \"type\": \"scatterpolargl\"}], \"scatterternary\": [{\"marker\": {\"colorbar\": {\"outlinewidth\": 0, \"ticks\": \"\"}}, \"type\": \"scatterternary\"}], \"surface\": [{\"colorbar\": {\"outlinewidth\": 0, \"ticks\": \"\"}, \"colorscale\": [[0.0, \"#0d0887\"], [0.1111111111111111, \"#46039f\"], [0.2222222222222222, \"#7201a8\"], [0.3333333333333333, \"#9c179e\"], [0.4444444444444444, \"#bd3786\"], [0.5555555555555556, \"#d8576b\"], [0.6666666666666666, \"#ed7953\"], [0.7777777777777778, \"#fb9f3a\"], [0.8888888888888888, \"#fdca26\"], [1.0, \"#f0f921\"]], \"type\": \"surface\"}], \"table\": [{\"cells\": {\"fill\": {\"color\": \"#EBF0F8\"}, \"line\": {\"color\": \"white\"}}, \"header\": {\"fill\": {\"color\": \"#C8D4E3\"}, \"line\": {\"color\": \"white\"}}, \"type\": \"table\"}]}, \"layout\": {\"annotationdefaults\": {\"arrowcolor\": \"#2a3f5f\", \"arrowhead\": 0, \"arrowwidth\": 1}, \"coloraxis\": {\"colorbar\": {\"outlinewidth\": 0, \"ticks\": \"\"}}, \"colorscale\": {\"diverging\": [[0, \"#8e0152\"], [0.1, \"#c51b7d\"], [0.2, \"#de77ae\"], [0.3, \"#f1b6da\"], [0.4, \"#fde0ef\"], [0.5, \"#f7f7f7\"], [0.6, \"#e6f5d0\"], [0.7, \"#b8e186\"], [0.8, \"#7fbc41\"], [0.9, \"#4d9221\"], [1, \"#276419\"]], \"sequential\": [[0.0, \"#0d0887\"], [0.1111111111111111, \"#46039f\"], [0.2222222222222222, \"#7201a8\"], [0.3333333333333333, \"#9c179e\"], [0.4444444444444444, \"#bd3786\"], [0.5555555555555556, \"#d8576b\"], [0.6666666666666666, \"#ed7953\"], [0.7777777777777778, \"#fb9f3a\"], [0.8888888888888888, \"#fdca26\"], [1.0, \"#f0f921\"]], \"sequentialminus\": [[0.0, \"#0d0887\"], [0.1111111111111111, \"#46039f\"], [0.2222222222222222, \"#7201a8\"], [0.3333333333333333, \"#9c179e\"], [0.4444444444444444, \"#bd3786\"], [0.5555555555555556, \"#d8576b\"], [0.6666666666666666, \"#ed7953\"], [0.7777777777777778, \"#fb9f3a\"], [0.8888888888888888, \"#fdca26\"], [1.0, \"#f0f921\"]]}, \"colorway\": [\"#636efa\", \"#EF553B\", \"#00cc96\", \"#ab63fa\", \"#FFA15A\", \"#19d3f3\", \"#FF6692\", \"#B6E880\", \"#FF97FF\", \"#FECB52\"], \"font\": {\"color\": \"#2a3f5f\"}, \"geo\": {\"bgcolor\": \"white\", \"lakecolor\": \"white\", \"landcolor\": \"#E5ECF6\", \"showlakes\": true, \"showland\": true, \"subunitcolor\": \"white\"}, \"hoverlabel\": {\"align\": \"left\"}, \"hovermode\": \"closest\", \"mapbox\": {\"style\": \"light\"}, \"paper_bgcolor\": \"white\", \"plot_bgcolor\": \"#E5ECF6\", \"polar\": {\"angularaxis\": {\"gridcolor\": \"white\", \"linecolor\": \"white\", \"ticks\": \"\"}, \"bgcolor\": \"#E5ECF6\", \"radialaxis\": {\"gridcolor\": \"white\", \"linecolor\": \"white\", \"ticks\": \"\"}}, \"scene\": {\"xaxis\": {\"backgroundcolor\": \"#E5ECF6\", \"gridcolor\": \"white\", \"gridwidth\": 2, \"linecolor\": \"white\", \"showbackground\": true, \"ticks\": \"\", \"zerolinecolor\": \"white\"}, \"yaxis\": {\"backgroundcolor\": \"#E5ECF6\", \"gridcolor\": \"white\", \"gridwidth\": 2, \"linecolor\": \"white\", \"showbackground\": true, \"ticks\": \"\", \"zerolinecolor\": \"white\"}, \"zaxis\": {\"backgroundcolor\": \"#E5ECF6\", \"gridcolor\": \"white\", \"gridwidth\": 2, \"linecolor\": \"white\", \"showbackground\": true, \"ticks\": \"\", \"zerolinecolor\": \"white\"}}, \"shapedefaults\": {\"line\": {\"color\": \"#2a3f5f\"}}, \"ternary\": {\"aaxis\": {\"gridcolor\": \"white\", \"linecolor\": \"white\", \"ticks\": \"\"}, \"baxis\": {\"gridcolor\": \"white\", \"linecolor\": \"white\", \"ticks\": \"\"}, \"bgcolor\": \"#E5ECF6\", \"caxis\": {\"gridcolor\": \"white\", \"linecolor\": \"white\", \"ticks\": \"\"}}, \"title\": {\"x\": 0.05}, \"xaxis\": {\"automargin\": true, \"gridcolor\": \"white\", \"linecolor\": \"white\", \"ticks\": \"\", \"title\": {\"standoff\": 15}, \"zerolinecolor\": \"white\", \"zerolinewidth\": 2}, \"yaxis\": {\"automargin\": true, \"gridcolor\": \"white\", \"linecolor\": \"white\", \"ticks\": \"\", \"title\": {\"standoff\": 15}, \"zerolinecolor\": \"white\", \"zerolinewidth\": 2}}}, \"title\": {\"text\": \"Accuracy\"}},\n",
              "                        {\"responsive\": true}\n",
              "                    ).then(function(){\n",
              "                            \n",
              "var gd = document.getElementById('3c8c00e1-d625-4d1b-a74c-b66e8b6e0acb');\n",
              "var x = new MutationObserver(function (mutations, observer) {{\n",
              "        var display = window.getComputedStyle(gd).display;\n",
              "        if (!display || display === 'none') {{\n",
              "            console.log([gd, 'removed!']);\n",
              "            Plotly.purge(gd);\n",
              "            observer.disconnect();\n",
              "        }}\n",
              "}});\n",
              "\n",
              "// Listen for the removal of the full notebook cells\n",
              "var notebookContainer = gd.closest('#notebook-container');\n",
              "if (notebookContainer) {{\n",
              "    x.observe(notebookContainer, {childList: true});\n",
              "}}\n",
              "\n",
              "// Listen for the clearing of the current output cell\n",
              "var outputEl = gd.closest('.output');\n",
              "if (outputEl) {{\n",
              "    x.observe(outputEl, {childList: true});\n",
              "}}\n",
              "\n",
              "                        })\n",
              "                };\n",
              "                \n",
              "            </script>\n",
              "        </div>\n",
              "</body>\n",
              "</html>"
            ]
          },
          "metadata": {
            "tags": []
          }
        }
      ]
    },
    {
      "cell_type": "code",
      "metadata": {
        "colab": {
          "base_uri": "https://localhost:8080/"
        },
        "id": "3RYWBC9xcAuz",
        "outputId": "a7de6330-c270-4443-ff7b-bbef6e3cc2e6"
      },
      "source": [
        "accuracy_score(testY, model.predict_classes(testX_resh))"
      ],
      "execution_count": 231,
      "outputs": [
        {
          "output_type": "stream",
          "text": [
            "/usr/local/lib/python3.7/dist-packages/tensorflow/python/keras/engine/sequential.py:455: UserWarning:\n",
            "\n",
            "`model.predict_classes()` is deprecated and will be removed after 2021-01-01. Please use instead:* `np.argmax(model.predict(x), axis=-1)`,   if your model does multi-class classification   (e.g. if it uses a `softmax` last-layer activation).* `(model.predict(x) > 0.5).astype(\"int32\")`,   if your model does binary classification   (e.g. if it uses a `sigmoid` last-layer activation).\n",
            "\n"
          ],
          "name": "stderr"
        },
        {
          "output_type": "execute_result",
          "data": {
            "text/plain": [
              "0.8"
            ]
          },
          "metadata": {
            "tags": []
          },
          "execution_count": 231
        }
      ]
    }
  ]
}