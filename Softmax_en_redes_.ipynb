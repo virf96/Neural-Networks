{
  "nbformat": 4,
  "nbformat_minor": 5,
  "metadata": {
    "kernelspec": {
      "display_name": "Python 3",
      "language": "python",
      "name": "python3"
    },
    "language_info": {
      "codemirror_mode": {
        "name": "ipython",
        "version": 3
      },
      "file_extension": ".py",
      "mimetype": "text/x-python",
      "name": "python",
      "nbconvert_exporter": "python",
      "pygments_lexer": "ipython3",
      "version": "3.8.2"
    },
    "colab": {
      "name": "Softmax en redes .ipynb",
      "provenance": [],
      "include_colab_link": true
    }
  },
  "cells": [
    {
      "cell_type": "markdown",
      "metadata": {
        "id": "view-in-github",
        "colab_type": "text"
      },
      "source": [
        "<a href=\"https://colab.research.google.com/github/virf96/Neural-Networks/blob/main/Softmax_en_redes_.ipynb\" target=\"_parent\"><img src=\"https://colab.research.google.com/assets/colab-badge.svg\" alt=\"Open In Colab\"/></a>"
      ]
    },
    {
      "cell_type": "code",
      "metadata": {
        "id": "42009453"
      },
      "source": [
        "from sklearn.datasets import make_classification\n",
        "from sklearn.preprocessing import OneHotEncoder\n",
        "\n",
        "import plotly.graph_objects as go \n",
        "import numpy as np"
      ],
      "id": "42009453",
      "execution_count": null,
      "outputs": []
    },
    {
      "cell_type": "code",
      "metadata": {
        "id": "45056836"
      },
      "source": [
        "X, Y = make_classification(10000, n_classes=3, n_informative=8)"
      ],
      "id": "45056836",
      "execution_count": null,
      "outputs": []
    },
    {
      "cell_type": "code",
      "metadata": {
        "id": "4086bcb9",
        "outputId": "0b2fea90-cc21-415a-9c8c-3d3b770fb88c"
      },
      "source": [
        "np.unique(Y)"
      ],
      "id": "4086bcb9",
      "execution_count": null,
      "outputs": [
        {
          "output_type": "execute_result",
          "data": {
            "text/plain": [
              "array([0, 1, 2])"
            ]
          },
          "metadata": {
            "tags": []
          },
          "execution_count": 4
        }
      ]
    },
    {
      "cell_type": "code",
      "metadata": {
        "id": "94d7df40",
        "outputId": "0dca28b4-f526-41db-8653-78724e19e1a2"
      },
      "source": [
        "Y[:5]"
      ],
      "id": "94d7df40",
      "execution_count": null,
      "outputs": [
        {
          "output_type": "execute_result",
          "data": {
            "text/plain": [
              "array([2, 0, 0, 2, 0])"
            ]
          },
          "metadata": {
            "tags": []
          },
          "execution_count": 5
        }
      ]
    },
    {
      "cell_type": "markdown",
      "metadata": {
        "id": "0c04e84b"
      },
      "source": [
        "### OneHot Encoding"
      ],
      "id": "0c04e84b"
    },
    {
      "cell_type": "markdown",
      "metadata": {
        "id": "1985b07f"
      },
      "source": [
        "#### Sklearn"
      ],
      "id": "1985b07f"
    },
    {
      "cell_type": "code",
      "metadata": {
        "id": "ddb11bb4"
      },
      "source": [
        "one = OneHotEncoder()\n",
        "Y_oneHot=one.fit_transform(Y.reshape(-1,1))"
      ],
      "id": "ddb11bb4",
      "execution_count": null,
      "outputs": []
    },
    {
      "cell_type": "code",
      "metadata": {
        "id": "209d3558",
        "outputId": "07442ed2-c700-4c71-9c10-fb34e75ab8ec"
      },
      "source": [
        "Y_oneHot.toarray()"
      ],
      "id": "209d3558",
      "execution_count": null,
      "outputs": [
        {
          "output_type": "execute_result",
          "data": {
            "text/plain": [
              "array([[0., 0., 1.],\n",
              "       [1., 0., 0.],\n",
              "       [1., 0., 0.],\n",
              "       ...,\n",
              "       [1., 0., 0.],\n",
              "       [0., 0., 1.],\n",
              "       [0., 1., 0.]])"
            ]
          },
          "metadata": {
            "tags": []
          },
          "execution_count": 26
        }
      ]
    },
    {
      "cell_type": "code",
      "metadata": {
        "id": "a2bd490f",
        "outputId": "73dce179-72a8-403f-df80-3c3977d50b86"
      },
      "source": [
        "Y"
      ],
      "id": "a2bd490f",
      "execution_count": null,
      "outputs": [
        {
          "output_type": "execute_result",
          "data": {
            "text/plain": [
              "array([2, 0, 0, ..., 0, 2, 1])"
            ]
          },
          "metadata": {
            "tags": []
          },
          "execution_count": 27
        }
      ]
    },
    {
      "cell_type": "markdown",
      "metadata": {
        "id": "dc204c1e"
      },
      "source": [
        "#### Numpy"
      ],
      "id": "dc204c1e"
    },
    {
      "cell_type": "code",
      "metadata": {
        "id": "e0ce6661"
      },
      "source": [
        "Y_oneHot = np.eye(3)[Y]"
      ],
      "id": "e0ce6661",
      "execution_count": null,
      "outputs": []
    },
    {
      "cell_type": "code",
      "metadata": {
        "id": "c1fbb75f",
        "outputId": "90f2f961-c4e8-41f8-a5c4-f4cc58f1ed7b"
      },
      "source": [
        "Y_oneHot"
      ],
      "id": "c1fbb75f",
      "execution_count": null,
      "outputs": [
        {
          "output_type": "execute_result",
          "data": {
            "text/plain": [
              "array([[0., 0., 1.],\n",
              "       [1., 0., 0.],\n",
              "       [1., 0., 0.],\n",
              "       ...,\n",
              "       [1., 0., 0.],\n",
              "       [0., 0., 1.],\n",
              "       [0., 1., 0.]])"
            ]
          },
          "metadata": {
            "tags": []
          },
          "execution_count": 30
        }
      ]
    },
    {
      "cell_type": "code",
      "metadata": {
        "id": "8cc145b6",
        "outputId": "affff66e-49ab-4121-9109-d2605b5344c2"
      },
      "source": [
        "Y_oneHot.shape"
      ],
      "id": "8cc145b6",
      "execution_count": null,
      "outputs": [
        {
          "output_type": "execute_result",
          "data": {
            "text/plain": [
              "(10000, 3)"
            ]
          },
          "metadata": {
            "tags": []
          },
          "execution_count": 39
        }
      ]
    },
    {
      "cell_type": "markdown",
      "metadata": {
        "id": "902484a4"
      },
      "source": [
        "### train test"
      ],
      "id": "902484a4"
    },
    {
      "cell_type": "code",
      "metadata": {
        "id": "c1f75873"
      },
      "source": [
        "from sklearn.model_selection import train_test_split"
      ],
      "id": "c1f75873",
      "execution_count": null,
      "outputs": []
    },
    {
      "cell_type": "code",
      "metadata": {
        "id": "373a409a"
      },
      "source": [
        "xt,xv,yt,yv = train_test_split(X,Y_oneHot)"
      ],
      "id": "373a409a",
      "execution_count": null,
      "outputs": []
    },
    {
      "cell_type": "code",
      "metadata": {
        "id": "dfdb5410",
        "outputId": "568c708e-e43c-4b3e-8895-4bf2f367a452"
      },
      "source": [
        "xt.shape, yt.shape"
      ],
      "id": "dfdb5410",
      "execution_count": null,
      "outputs": [
        {
          "output_type": "execute_result",
          "data": {
            "text/plain": [
              "((7500, 20), (7500, 3))"
            ]
          },
          "metadata": {
            "tags": []
          },
          "execution_count": 54
        }
      ]
    },
    {
      "cell_type": "markdown",
      "metadata": {
        "id": "17db24c2"
      },
      "source": [
        "### Red neuronal"
      ],
      "id": "17db24c2"
    },
    {
      "cell_type": "code",
      "metadata": {
        "id": "4c464aeb"
      },
      "source": [
        "from tensorflow.keras.models import Sequential\n",
        "from tensorflow.keras.layers import Dense, InputLayer\n",
        "from tensorflow.keras.losses import CategoricalCrossentropy ## loss para multiclasificacion \n",
        "from tensorflow.keras.optimizers import Adam"
      ],
      "id": "4c464aeb",
      "execution_count": null,
      "outputs": []
    },
    {
      "cell_type": "code",
      "metadata": {
        "id": "b77c2306",
        "outputId": "1a4c6c6b-17f2-46f9-ebe6-aef483af688e"
      },
      "source": [
        "X.shape"
      ],
      "id": "b77c2306",
      "execution_count": null,
      "outputs": [
        {
          "output_type": "execute_result",
          "data": {
            "text/plain": [
              "(10000, 20)"
            ]
          },
          "metadata": {
            "tags": []
          },
          "execution_count": 33
        }
      ]
    },
    {
      "cell_type": "code",
      "metadata": {
        "id": "fd6d2143"
      },
      "source": [
        "model = Sequential()\n",
        "model.add(InputLayer(input_shape=(20)))\n",
        "model.add(Dense(15, activation=\"relu\"))\n",
        "model.add(Dense(8, activation=\"relu\"))\n",
        "model.add(Dense(3, activation=\"softmax\"))## Capa de salida, el numero de neuronas debe ser igual al numero de clases del dataset\n",
        "model.compile(loss= CategoricalCrossentropy(), optimizer = Adam())"
      ],
      "id": "fd6d2143",
      "execution_count": null,
      "outputs": []
    },
    {
      "cell_type": "code",
      "metadata": {
        "scrolled": true,
        "id": "6b1f5e91",
        "outputId": "8a9dcab4-6b19-4d4e-9cce-2780f5c930bb"
      },
      "source": [
        "history = model.fit(x=xt,y=yt, epochs=100, batch_size = 128, validation_data=(xv,yv))"
      ],
      "id": "6b1f5e91",
      "execution_count": null,
      "outputs": [
        {
          "output_type": "stream",
          "text": [
            "Epoch 1/100\n",
            "59/59 [==============================] - 0s 3ms/step - loss: 1.7152 - val_loss: 1.2356\n",
            "Epoch 2/100\n",
            "59/59 [==============================] - 0s 2ms/step - loss: 1.1533 - val_loss: 1.0204\n",
            "Epoch 3/100\n",
            "59/59 [==============================] - 0s 2ms/step - loss: 0.9731 - val_loss: 0.8873\n",
            "Epoch 4/100\n",
            "59/59 [==============================] - 0s 2ms/step - loss: 0.8424 - val_loss: 0.7610\n",
            "Epoch 5/100\n",
            "59/59 [==============================] - 0s 2ms/step - loss: 0.7296 - val_loss: 0.6645\n",
            "Epoch 6/100\n",
            "59/59 [==============================] - 0s 2ms/step - loss: 0.6354 - val_loss: 0.5932\n",
            "Epoch 7/100\n",
            "59/59 [==============================] - 0s 2ms/step - loss: 0.5704 - val_loss: 0.5406\n",
            "Epoch 8/100\n",
            "59/59 [==============================] - 0s 2ms/step - loss: 0.5171 - val_loss: 0.5018\n",
            "Epoch 9/100\n",
            "59/59 [==============================] - 0s 2ms/step - loss: 0.4748 - val_loss: 0.4694\n",
            "Epoch 10/100\n",
            "59/59 [==============================] - 0s 2ms/step - loss: 0.4600 - val_loss: 0.4465\n",
            "Epoch 11/100\n",
            "59/59 [==============================] - 0s 2ms/step - loss: 0.4243 - val_loss: 0.4272\n",
            "Epoch 12/100\n",
            "59/59 [==============================] - 0s 2ms/step - loss: 0.4130 - val_loss: 0.4100\n",
            "Epoch 13/100\n",
            "59/59 [==============================] - 0s 2ms/step - loss: 0.3997 - val_loss: 0.3965\n",
            "Epoch 14/100\n",
            "59/59 [==============================] - 0s 2ms/step - loss: 0.3638 - val_loss: 0.3844\n",
            "Epoch 15/100\n",
            "59/59 [==============================] - 0s 2ms/step - loss: 0.3675 - val_loss: 0.3734\n",
            "Epoch 16/100\n",
            "59/59 [==============================] - 0s 2ms/step - loss: 0.3460 - val_loss: 0.3645\n",
            "Epoch 17/100\n",
            "59/59 [==============================] - 0s 2ms/step - loss: 0.3466 - val_loss: 0.3584\n",
            "Epoch 18/100\n",
            "59/59 [==============================] - 0s 2ms/step - loss: 0.3278 - val_loss: 0.3519\n",
            "Epoch 19/100\n",
            "59/59 [==============================] - 0s 2ms/step - loss: 0.3391 - val_loss: 0.3491\n",
            "Epoch 20/100\n",
            "59/59 [==============================] - 0s 2ms/step - loss: 0.3236 - val_loss: 0.3391\n",
            "Epoch 21/100\n",
            "59/59 [==============================] - 0s 2ms/step - loss: 0.3160 - val_loss: 0.3341\n",
            "Epoch 22/100\n",
            "59/59 [==============================] - 0s 2ms/step - loss: 0.3118 - val_loss: 0.3277\n",
            "Epoch 23/100\n",
            "59/59 [==============================] - 0s 2ms/step - loss: 0.3061 - val_loss: 0.3260\n",
            "Epoch 24/100\n",
            "59/59 [==============================] - 0s 2ms/step - loss: 0.3036 - val_loss: 0.3206\n",
            "Epoch 25/100\n",
            "59/59 [==============================] - 0s 2ms/step - loss: 0.2927 - val_loss: 0.3173\n",
            "Epoch 26/100\n",
            "59/59 [==============================] - 0s 2ms/step - loss: 0.2992 - val_loss: 0.3113\n",
            "Epoch 27/100\n",
            "59/59 [==============================] - 0s 2ms/step - loss: 0.2894 - val_loss: 0.3090\n",
            "Epoch 28/100\n",
            "59/59 [==============================] - 0s 2ms/step - loss: 0.2857 - val_loss: 0.3051\n",
            "Epoch 29/100\n",
            "59/59 [==============================] - 0s 2ms/step - loss: 0.2808 - val_loss: 0.3027\n",
            "Epoch 30/100\n",
            "59/59 [==============================] - 0s 2ms/step - loss: 0.2782 - val_loss: 0.2988\n",
            "Epoch 31/100\n",
            "59/59 [==============================] - 0s 2ms/step - loss: 0.2657 - val_loss: 0.2990\n",
            "Epoch 32/100\n",
            "59/59 [==============================] - 0s 2ms/step - loss: 0.2771 - val_loss: 0.2945\n",
            "Epoch 33/100\n",
            "59/59 [==============================] - 0s 2ms/step - loss: 0.2687 - val_loss: 0.2935\n",
            "Epoch 34/100\n",
            "59/59 [==============================] - 0s 2ms/step - loss: 0.2615 - val_loss: 0.2929\n",
            "Epoch 35/100\n",
            "59/59 [==============================] - 0s 2ms/step - loss: 0.2605 - val_loss: 0.2909\n",
            "Epoch 36/100\n",
            "59/59 [==============================] - 0s 2ms/step - loss: 0.2507 - val_loss: 0.2909\n",
            "Epoch 37/100\n",
            "59/59 [==============================] - 0s 2ms/step - loss: 0.2616 - val_loss: 0.2889\n",
            "Epoch 38/100\n",
            "59/59 [==============================] - 0s 2ms/step - loss: 0.2446 - val_loss: 0.2869\n",
            "Epoch 39/100\n",
            "59/59 [==============================] - 0s 2ms/step - loss: 0.2505 - val_loss: 0.2860\n",
            "Epoch 40/100\n",
            "59/59 [==============================] - 0s 2ms/step - loss: 0.2444 - val_loss: 0.2868\n",
            "Epoch 41/100\n",
            "59/59 [==============================] - 0s 2ms/step - loss: 0.2396 - val_loss: 0.2837\n",
            "Epoch 42/100\n",
            "59/59 [==============================] - 0s 2ms/step - loss: 0.2368 - val_loss: 0.2867\n",
            "Epoch 43/100\n",
            "59/59 [==============================] - 0s 2ms/step - loss: 0.2595 - val_loss: 0.2833\n",
            "Epoch 44/100\n",
            "59/59 [==============================] - 0s 2ms/step - loss: 0.2311 - val_loss: 0.2834\n",
            "Epoch 45/100\n",
            "59/59 [==============================] - 0s 2ms/step - loss: 0.2454 - val_loss: 0.2833\n",
            "Epoch 46/100\n",
            "59/59 [==============================] - 0s 2ms/step - loss: 0.2542 - val_loss: 0.2815\n",
            "Epoch 47/100\n",
            "59/59 [==============================] - 0s 2ms/step - loss: 0.2335 - val_loss: 0.2808\n",
            "Epoch 48/100\n",
            "59/59 [==============================] - 0s 2ms/step - loss: 0.2336 - val_loss: 0.2781\n",
            "Epoch 49/100\n",
            "59/59 [==============================] - 0s 2ms/step - loss: 0.2503 - val_loss: 0.2768\n",
            "Epoch 50/100\n",
            "59/59 [==============================] - 0s 2ms/step - loss: 0.2328 - val_loss: 0.2778\n",
            "Epoch 51/100\n",
            "59/59 [==============================] - 0s 2ms/step - loss: 0.2335 - val_loss: 0.2800\n",
            "Epoch 52/100\n",
            "59/59 [==============================] - 0s 2ms/step - loss: 0.2236 - val_loss: 0.2792\n",
            "Epoch 53/100\n",
            "59/59 [==============================] - 0s 2ms/step - loss: 0.2396 - val_loss: 0.2779\n",
            "Epoch 54/100\n",
            "59/59 [==============================] - 0s 2ms/step - loss: 0.2325 - val_loss: 0.2733\n",
            "Epoch 55/100\n",
            "59/59 [==============================] - 0s 2ms/step - loss: 0.2407 - val_loss: 0.2743\n",
            "Epoch 56/100\n",
            "59/59 [==============================] - 0s 2ms/step - loss: 0.2345 - val_loss: 0.2726\n",
            "Epoch 57/100\n",
            "59/59 [==============================] - 0s 2ms/step - loss: 0.2222 - val_loss: 0.2725\n",
            "Epoch 58/100\n",
            "59/59 [==============================] - 0s 2ms/step - loss: 0.2381 - val_loss: 0.2723\n",
            "Epoch 59/100\n",
            "59/59 [==============================] - 0s 2ms/step - loss: 0.2261 - val_loss: 0.2722\n",
            "Epoch 60/100\n",
            "59/59 [==============================] - 0s 2ms/step - loss: 0.2242 - val_loss: 0.2695\n",
            "Epoch 61/100\n",
            "59/59 [==============================] - 0s 2ms/step - loss: 0.2372 - val_loss: 0.2707\n",
            "Epoch 62/100\n",
            "59/59 [==============================] - 0s 2ms/step - loss: 0.2203 - val_loss: 0.2703\n",
            "Epoch 63/100\n",
            "59/59 [==============================] - 0s 2ms/step - loss: 0.2235 - val_loss: 0.2691\n",
            "Epoch 64/100\n",
            "59/59 [==============================] - 0s 2ms/step - loss: 0.2214 - val_loss: 0.2708\n",
            "Epoch 65/100\n",
            "59/59 [==============================] - 0s 2ms/step - loss: 0.2200 - val_loss: 0.2713\n",
            "Epoch 66/100\n",
            "59/59 [==============================] - 0s 2ms/step - loss: 0.2251 - val_loss: 0.2688\n",
            "Epoch 67/100\n",
            "59/59 [==============================] - 0s 2ms/step - loss: 0.2187 - val_loss: 0.2671\n",
            "Epoch 68/100\n",
            "59/59 [==============================] - 0s 2ms/step - loss: 0.2046 - val_loss: 0.2656\n",
            "Epoch 69/100\n",
            "59/59 [==============================] - 0s 2ms/step - loss: 0.2195 - val_loss: 0.2629\n",
            "Epoch 70/100\n",
            "59/59 [==============================] - 0s 2ms/step - loss: 0.2154 - val_loss: 0.2677\n",
            "Epoch 71/100\n",
            "59/59 [==============================] - 0s 2ms/step - loss: 0.2241 - val_loss: 0.2650\n",
            "Epoch 72/100\n",
            "59/59 [==============================] - 0s 2ms/step - loss: 0.2135 - val_loss: 0.2609\n",
            "Epoch 73/100\n",
            "59/59 [==============================] - 0s 2ms/step - loss: 0.2056 - val_loss: 0.2638\n",
            "Epoch 74/100\n",
            "59/59 [==============================] - 0s 2ms/step - loss: 0.2067 - val_loss: 0.2608\n",
            "Epoch 75/100\n",
            "59/59 [==============================] - 0s 2ms/step - loss: 0.2151 - val_loss: 0.2649\n",
            "Epoch 76/100\n",
            "59/59 [==============================] - 0s 2ms/step - loss: 0.2072 - val_loss: 0.2608\n",
            "Epoch 77/100\n",
            "59/59 [==============================] - 0s 2ms/step - loss: 0.2158 - val_loss: 0.2606\n",
            "Epoch 78/100\n",
            "59/59 [==============================] - 0s 2ms/step - loss: 0.2036 - val_loss: 0.2591\n",
            "Epoch 79/100\n",
            "59/59 [==============================] - 0s 2ms/step - loss: 0.2080 - val_loss: 0.2589\n",
            "Epoch 80/100\n",
            "59/59 [==============================] - 0s 2ms/step - loss: 0.2103 - val_loss: 0.2568\n",
            "Epoch 81/100\n",
            "59/59 [==============================] - 0s 2ms/step - loss: 0.2042 - val_loss: 0.2551\n",
            "Epoch 82/100\n",
            "59/59 [==============================] - 0s 2ms/step - loss: 0.2028 - val_loss: 0.2573\n",
            "Epoch 83/100\n"
          ],
          "name": "stdout"
        },
        {
          "output_type": "stream",
          "text": [
            "59/59 [==============================] - 0s 2ms/step - loss: 0.2095 - val_loss: 0.2554\n",
            "Epoch 84/100\n",
            "59/59 [==============================] - 0s 2ms/step - loss: 0.2075 - val_loss: 0.2542\n",
            "Epoch 85/100\n",
            "59/59 [==============================] - 0s 2ms/step - loss: 0.1978 - val_loss: 0.2548\n",
            "Epoch 86/100\n",
            "59/59 [==============================] - 0s 2ms/step - loss: 0.1934 - val_loss: 0.2527\n",
            "Epoch 87/100\n",
            "59/59 [==============================] - 0s 2ms/step - loss: 0.2040 - val_loss: 0.2508\n",
            "Epoch 88/100\n",
            "59/59 [==============================] - 0s 2ms/step - loss: 0.1904 - val_loss: 0.2518\n",
            "Epoch 89/100\n",
            "59/59 [==============================] - 0s 2ms/step - loss: 0.2018 - val_loss: 0.2526\n",
            "Epoch 90/100\n",
            "59/59 [==============================] - 0s 2ms/step - loss: 0.1933 - val_loss: 0.2552\n",
            "Epoch 91/100\n",
            "59/59 [==============================] - 0s 2ms/step - loss: 0.1883 - val_loss: 0.2538\n",
            "Epoch 92/100\n",
            "59/59 [==============================] - 0s 2ms/step - loss: 0.1957 - val_loss: 0.2519\n",
            "Epoch 93/100\n",
            "59/59 [==============================] - 0s 2ms/step - loss: 0.1935 - val_loss: 0.2497\n",
            "Epoch 94/100\n",
            "59/59 [==============================] - 0s 2ms/step - loss: 0.1824 - val_loss: 0.2540\n",
            "Epoch 95/100\n",
            "59/59 [==============================] - 0s 2ms/step - loss: 0.1954 - val_loss: 0.2525\n",
            "Epoch 96/100\n",
            "59/59 [==============================] - 0s 2ms/step - loss: 0.1927 - val_loss: 0.2482\n",
            "Epoch 97/100\n",
            "59/59 [==============================] - 0s 2ms/step - loss: 0.1898 - val_loss: 0.2493\n",
            "Epoch 98/100\n",
            "59/59 [==============================] - 0s 2ms/step - loss: 0.1790 - val_loss: 0.2489\n",
            "Epoch 99/100\n",
            "59/59 [==============================] - 0s 2ms/step - loss: 0.1949 - val_loss: 0.2532\n",
            "Epoch 100/100\n",
            "59/59 [==============================] - 0s 2ms/step - loss: 0.1846 - val_loss: 0.2531\n"
          ],
          "name": "stdout"
        }
      ]
    },
    {
      "cell_type": "markdown",
      "metadata": {
        "id": "8100f46d"
      },
      "source": [
        "### Funcion de perdida"
      ],
      "id": "8100f46d"
    },
    {
      "cell_type": "code",
      "metadata": {
        "id": "04a752c1",
        "outputId": "bf49eb7f-8b25-4af2-f127-e7205e5a1305"
      },
      "source": [
        "fig = go.Figure(layout = dict(title=\"Loss\"))\n",
        "fig.add_trace(go.Scatter(x=list(range(len(history.history[\"loss\"]))),y=history.history[\"loss\"], name=\"loss\"))\n",
        "fig.add_trace(go.Scatter(x=list(range(len(history.history[\"loss\"]))),y=history.history[\"val_loss\"], name=\"val_loss\"))\n",
        "fig.show()"
      ],
      "id": "04a752c1",
      "execution_count": null,
      "outputs": [
        {
          "output_type": "display_data",
          "data": {
            "application/vnd.plotly.v1+json": {
              "config": {
                "plotlyServerURL": "https://plot.ly"
              },
              "data": [
                {
                  "name": "loss",
                  "type": "scatter",
                  "x": [
                    0,
                    1,
                    2,
                    3,
                    4,
                    5,
                    6,
                    7,
                    8,
                    9,
                    10,
                    11,
                    12,
                    13,
                    14,
                    15,
                    16,
                    17,
                    18,
                    19,
                    20,
                    21,
                    22,
                    23,
                    24,
                    25,
                    26,
                    27,
                    28,
                    29,
                    30,
                    31,
                    32,
                    33,
                    34,
                    35,
                    36,
                    37,
                    38,
                    39,
                    40,
                    41,
                    42,
                    43,
                    44,
                    45,
                    46,
                    47,
                    48,
                    49,
                    50,
                    51,
                    52,
                    53,
                    54,
                    55,
                    56,
                    57,
                    58,
                    59,
                    60,
                    61,
                    62,
                    63,
                    64,
                    65,
                    66,
                    67,
                    68,
                    69,
                    70,
                    71,
                    72,
                    73,
                    74,
                    75,
                    76,
                    77,
                    78,
                    79,
                    80,
                    81,
                    82,
                    83,
                    84,
                    85,
                    86,
                    87,
                    88,
                    89,
                    90,
                    91,
                    92,
                    93,
                    94,
                    95,
                    96,
                    97,
                    98,
                    99
                  ],
                  "y": [
                    1.5201233625411987,
                    1.1050283908843994,
                    0.9425038695335388,
                    0.8175269961357117,
                    0.7065658569335938,
                    0.621437668800354,
                    0.5574366450309753,
                    0.5083231329917908,
                    0.47040465474128723,
                    0.4412539303302765,
                    0.4193919897079468,
                    0.4007098376750946,
                    0.38509827852249146,
                    0.3724730908870697,
                    0.3612678349018097,
                    0.35150787234306335,
                    0.3434201180934906,
                    0.33605432510375977,
                    0.3289421796798706,
                    0.32322776317596436,
                    0.31736791133880615,
                    0.31140244007110596,
                    0.3062557876110077,
                    0.3022535443305969,
                    0.2968527376651764,
                    0.29225990176200867,
                    0.2886621356010437,
                    0.284566730260849,
                    0.2808891534805298,
                    0.2779287099838257,
                    0.2734765410423279,
                    0.2705562710762024,
                    0.26776444911956787,
                    0.2650740146636963,
                    0.26228857040405273,
                    0.2598370313644409,
                    0.257581889629364,
                    0.25586509704589844,
                    0.25385671854019165,
                    0.2518211305141449,
                    0.24965791404247284,
                    0.24846848845481873,
                    0.2471025437116623,
                    0.24518293142318726,
                    0.24338993430137634,
                    0.2422560453414917,
                    0.2407001256942749,
                    0.23925569653511047,
                    0.23790623247623444,
                    0.23646466434001923,
                    0.2360072135925293,
                    0.2342166155576706,
                    0.23369762301445007,
                    0.23272773623466492,
                    0.23168376088142395,
                    0.23064038157463074,
                    0.22872300446033478,
                    0.22751548886299133,
                    0.22725243866443634,
                    0.2263229787349701,
                    0.22502003610134125,
                    0.2234550267457962,
                    0.22264079749584198,
                    0.2212306410074234,
                    0.2216733694076538,
                    0.2201421558856964,
                    0.21917743980884552,
                    0.21849027276039124,
                    0.21678636968135834,
                    0.21501393616199493,
                    0.21481990814208984,
                    0.2141590714454651,
                    0.21342866122722626,
                    0.2123374491930008,
                    0.21173448860645294,
                    0.2098129242658615,
                    0.20948995649814606,
                    0.20854243636131287,
                    0.207514226436615,
                    0.20660601556301117,
                    0.20558151602745056,
                    0.2052500993013382,
                    0.20346708595752716,
                    0.2031993418931961,
                    0.20211733877658844,
                    0.2014421969652176,
                    0.20088720321655273,
                    0.19929605722427368,
                    0.19852901995182037,
                    0.19933679699897766,
                    0.1980501115322113,
                    0.19660238921642303,
                    0.1960100680589676,
                    0.19530907273292542,
                    0.1953936219215393,
                    0.19385948777198792,
                    0.19326874613761902,
                    0.19226597249507904,
                    0.19280824065208435,
                    0.19184836745262146
                  ]
                },
                {
                  "name": "val_loss",
                  "type": "scatter",
                  "x": [
                    0,
                    1,
                    2,
                    3,
                    4,
                    5,
                    6,
                    7,
                    8,
                    9,
                    10,
                    11,
                    12,
                    13,
                    14,
                    15,
                    16,
                    17,
                    18,
                    19,
                    20,
                    21,
                    22,
                    23,
                    24,
                    25,
                    26,
                    27,
                    28,
                    29,
                    30,
                    31,
                    32,
                    33,
                    34,
                    35,
                    36,
                    37,
                    38,
                    39,
                    40,
                    41,
                    42,
                    43,
                    44,
                    45,
                    46,
                    47,
                    48,
                    49,
                    50,
                    51,
                    52,
                    53,
                    54,
                    55,
                    56,
                    57,
                    58,
                    59,
                    60,
                    61,
                    62,
                    63,
                    64,
                    65,
                    66,
                    67,
                    68,
                    69,
                    70,
                    71,
                    72,
                    73,
                    74,
                    75,
                    76,
                    77,
                    78,
                    79,
                    80,
                    81,
                    82,
                    83,
                    84,
                    85,
                    86,
                    87,
                    88,
                    89,
                    90,
                    91,
                    92,
                    93,
                    94,
                    95,
                    96,
                    97,
                    98,
                    99
                  ],
                  "y": [
                    1.235641598701477,
                    1.0204094648361206,
                    0.8872536420822144,
                    0.761045515537262,
                    0.66445392370224,
                    0.5932356715202332,
                    0.5406218767166138,
                    0.5017887353897095,
                    0.46944522857666016,
                    0.4464607536792755,
                    0.42716309428215027,
                    0.4100117087364197,
                    0.39648962020874023,
                    0.3844110071659088,
                    0.3734058737754822,
                    0.3645406663417816,
                    0.35835960507392883,
                    0.3518834710121155,
                    0.3491493761539459,
                    0.3391210734844208,
                    0.3341439962387085,
                    0.3276688754558563,
                    0.32599225640296936,
                    0.3205740749835968,
                    0.31729376316070557,
                    0.31128552556037903,
                    0.3089925944805145,
                    0.3050689399242401,
                    0.3026610314846039,
                    0.29876768589019775,
                    0.29895785450935364,
                    0.29451993107795715,
                    0.29350709915161133,
                    0.2929411232471466,
                    0.29090097546577454,
                    0.2909218370914459,
                    0.288864403963089,
                    0.286895215511322,
                    0.286015123128891,
                    0.28680434823036194,
                    0.28368160128593445,
                    0.28671663999557495,
                    0.283307820558548,
                    0.283368855714798,
                    0.2833348512649536,
                    0.2814776301383972,
                    0.2808404266834259,
                    0.2780805230140686,
                    0.27676984667778015,
                    0.27778032422065735,
                    0.2799883186817169,
                    0.2791595160961151,
                    0.27789950370788574,
                    0.27326175570487976,
                    0.27431660890579224,
                    0.27255913615226746,
                    0.2724769413471222,
                    0.2723385691642761,
                    0.27222248911857605,
                    0.26949670910835266,
                    0.2707054018974304,
                    0.2703157961368561,
                    0.2691052258014679,
                    0.27077820897102356,
                    0.27127179503440857,
                    0.2687588334083557,
                    0.2670707404613495,
                    0.26555368304252625,
                    0.26288697123527527,
                    0.2677208185195923,
                    0.26496830582618713,
                    0.260896235704422,
                    0.2637925148010254,
                    0.26082104444503784,
                    0.2648874521255493,
                    0.26080557703971863,
                    0.2606270909309387,
                    0.2591036260128021,
                    0.2589329779148102,
                    0.2567664682865143,
                    0.25510311126708984,
                    0.25725749135017395,
                    0.2553548216819763,
                    0.2541551887989044,
                    0.2548283636569977,
                    0.25272488594055176,
                    0.2507597506046295,
                    0.25183460116386414,
                    0.2525635361671448,
                    0.25521084666252136,
                    0.25382477045059204,
                    0.2519218325614929,
                    0.2497020810842514,
                    0.2540242075920105,
                    0.2524808347225189,
                    0.24818332493305206,
                    0.24933508038520813,
                    0.24886316061019897,
                    0.2531876266002655,
                    0.2530819773674011
                  ]
                }
              ],
              "layout": {
                "template": {
                  "data": {
                    "bar": [
                      {
                        "error_x": {
                          "color": "#2a3f5f"
                        },
                        "error_y": {
                          "color": "#2a3f5f"
                        },
                        "marker": {
                          "line": {
                            "color": "#E5ECF6",
                            "width": 0.5
                          }
                        },
                        "type": "bar"
                      }
                    ],
                    "barpolar": [
                      {
                        "marker": {
                          "line": {
                            "color": "#E5ECF6",
                            "width": 0.5
                          }
                        },
                        "type": "barpolar"
                      }
                    ],
                    "carpet": [
                      {
                        "aaxis": {
                          "endlinecolor": "#2a3f5f",
                          "gridcolor": "white",
                          "linecolor": "white",
                          "minorgridcolor": "white",
                          "startlinecolor": "#2a3f5f"
                        },
                        "baxis": {
                          "endlinecolor": "#2a3f5f",
                          "gridcolor": "white",
                          "linecolor": "white",
                          "minorgridcolor": "white",
                          "startlinecolor": "#2a3f5f"
                        },
                        "type": "carpet"
                      }
                    ],
                    "choropleth": [
                      {
                        "colorbar": {
                          "outlinewidth": 0,
                          "ticks": ""
                        },
                        "type": "choropleth"
                      }
                    ],
                    "contour": [
                      {
                        "colorbar": {
                          "outlinewidth": 0,
                          "ticks": ""
                        },
                        "colorscale": [
                          [
                            0,
                            "#0d0887"
                          ],
                          [
                            0.1111111111111111,
                            "#46039f"
                          ],
                          [
                            0.2222222222222222,
                            "#7201a8"
                          ],
                          [
                            0.3333333333333333,
                            "#9c179e"
                          ],
                          [
                            0.4444444444444444,
                            "#bd3786"
                          ],
                          [
                            0.5555555555555556,
                            "#d8576b"
                          ],
                          [
                            0.6666666666666666,
                            "#ed7953"
                          ],
                          [
                            0.7777777777777778,
                            "#fb9f3a"
                          ],
                          [
                            0.8888888888888888,
                            "#fdca26"
                          ],
                          [
                            1,
                            "#f0f921"
                          ]
                        ],
                        "type": "contour"
                      }
                    ],
                    "contourcarpet": [
                      {
                        "colorbar": {
                          "outlinewidth": 0,
                          "ticks": ""
                        },
                        "type": "contourcarpet"
                      }
                    ],
                    "heatmap": [
                      {
                        "colorbar": {
                          "outlinewidth": 0,
                          "ticks": ""
                        },
                        "colorscale": [
                          [
                            0,
                            "#0d0887"
                          ],
                          [
                            0.1111111111111111,
                            "#46039f"
                          ],
                          [
                            0.2222222222222222,
                            "#7201a8"
                          ],
                          [
                            0.3333333333333333,
                            "#9c179e"
                          ],
                          [
                            0.4444444444444444,
                            "#bd3786"
                          ],
                          [
                            0.5555555555555556,
                            "#d8576b"
                          ],
                          [
                            0.6666666666666666,
                            "#ed7953"
                          ],
                          [
                            0.7777777777777778,
                            "#fb9f3a"
                          ],
                          [
                            0.8888888888888888,
                            "#fdca26"
                          ],
                          [
                            1,
                            "#f0f921"
                          ]
                        ],
                        "type": "heatmap"
                      }
                    ],
                    "heatmapgl": [
                      {
                        "colorbar": {
                          "outlinewidth": 0,
                          "ticks": ""
                        },
                        "colorscale": [
                          [
                            0,
                            "#0d0887"
                          ],
                          [
                            0.1111111111111111,
                            "#46039f"
                          ],
                          [
                            0.2222222222222222,
                            "#7201a8"
                          ],
                          [
                            0.3333333333333333,
                            "#9c179e"
                          ],
                          [
                            0.4444444444444444,
                            "#bd3786"
                          ],
                          [
                            0.5555555555555556,
                            "#d8576b"
                          ],
                          [
                            0.6666666666666666,
                            "#ed7953"
                          ],
                          [
                            0.7777777777777778,
                            "#fb9f3a"
                          ],
                          [
                            0.8888888888888888,
                            "#fdca26"
                          ],
                          [
                            1,
                            "#f0f921"
                          ]
                        ],
                        "type": "heatmapgl"
                      }
                    ],
                    "histogram": [
                      {
                        "marker": {
                          "colorbar": {
                            "outlinewidth": 0,
                            "ticks": ""
                          }
                        },
                        "type": "histogram"
                      }
                    ],
                    "histogram2d": [
                      {
                        "colorbar": {
                          "outlinewidth": 0,
                          "ticks": ""
                        },
                        "colorscale": [
                          [
                            0,
                            "#0d0887"
                          ],
                          [
                            0.1111111111111111,
                            "#46039f"
                          ],
                          [
                            0.2222222222222222,
                            "#7201a8"
                          ],
                          [
                            0.3333333333333333,
                            "#9c179e"
                          ],
                          [
                            0.4444444444444444,
                            "#bd3786"
                          ],
                          [
                            0.5555555555555556,
                            "#d8576b"
                          ],
                          [
                            0.6666666666666666,
                            "#ed7953"
                          ],
                          [
                            0.7777777777777778,
                            "#fb9f3a"
                          ],
                          [
                            0.8888888888888888,
                            "#fdca26"
                          ],
                          [
                            1,
                            "#f0f921"
                          ]
                        ],
                        "type": "histogram2d"
                      }
                    ],
                    "histogram2dcontour": [
                      {
                        "colorbar": {
                          "outlinewidth": 0,
                          "ticks": ""
                        },
                        "colorscale": [
                          [
                            0,
                            "#0d0887"
                          ],
                          [
                            0.1111111111111111,
                            "#46039f"
                          ],
                          [
                            0.2222222222222222,
                            "#7201a8"
                          ],
                          [
                            0.3333333333333333,
                            "#9c179e"
                          ],
                          [
                            0.4444444444444444,
                            "#bd3786"
                          ],
                          [
                            0.5555555555555556,
                            "#d8576b"
                          ],
                          [
                            0.6666666666666666,
                            "#ed7953"
                          ],
                          [
                            0.7777777777777778,
                            "#fb9f3a"
                          ],
                          [
                            0.8888888888888888,
                            "#fdca26"
                          ],
                          [
                            1,
                            "#f0f921"
                          ]
                        ],
                        "type": "histogram2dcontour"
                      }
                    ],
                    "mesh3d": [
                      {
                        "colorbar": {
                          "outlinewidth": 0,
                          "ticks": ""
                        },
                        "type": "mesh3d"
                      }
                    ],
                    "parcoords": [
                      {
                        "line": {
                          "colorbar": {
                            "outlinewidth": 0,
                            "ticks": ""
                          }
                        },
                        "type": "parcoords"
                      }
                    ],
                    "pie": [
                      {
                        "automargin": true,
                        "type": "pie"
                      }
                    ],
                    "scatter": [
                      {
                        "marker": {
                          "colorbar": {
                            "outlinewidth": 0,
                            "ticks": ""
                          }
                        },
                        "type": "scatter"
                      }
                    ],
                    "scatter3d": [
                      {
                        "line": {
                          "colorbar": {
                            "outlinewidth": 0,
                            "ticks": ""
                          }
                        },
                        "marker": {
                          "colorbar": {
                            "outlinewidth": 0,
                            "ticks": ""
                          }
                        },
                        "type": "scatter3d"
                      }
                    ],
                    "scattercarpet": [
                      {
                        "marker": {
                          "colorbar": {
                            "outlinewidth": 0,
                            "ticks": ""
                          }
                        },
                        "type": "scattercarpet"
                      }
                    ],
                    "scattergeo": [
                      {
                        "marker": {
                          "colorbar": {
                            "outlinewidth": 0,
                            "ticks": ""
                          }
                        },
                        "type": "scattergeo"
                      }
                    ],
                    "scattergl": [
                      {
                        "marker": {
                          "colorbar": {
                            "outlinewidth": 0,
                            "ticks": ""
                          }
                        },
                        "type": "scattergl"
                      }
                    ],
                    "scattermapbox": [
                      {
                        "marker": {
                          "colorbar": {
                            "outlinewidth": 0,
                            "ticks": ""
                          }
                        },
                        "type": "scattermapbox"
                      }
                    ],
                    "scatterpolar": [
                      {
                        "marker": {
                          "colorbar": {
                            "outlinewidth": 0,
                            "ticks": ""
                          }
                        },
                        "type": "scatterpolar"
                      }
                    ],
                    "scatterpolargl": [
                      {
                        "marker": {
                          "colorbar": {
                            "outlinewidth": 0,
                            "ticks": ""
                          }
                        },
                        "type": "scatterpolargl"
                      }
                    ],
                    "scatterternary": [
                      {
                        "marker": {
                          "colorbar": {
                            "outlinewidth": 0,
                            "ticks": ""
                          }
                        },
                        "type": "scatterternary"
                      }
                    ],
                    "surface": [
                      {
                        "colorbar": {
                          "outlinewidth": 0,
                          "ticks": ""
                        },
                        "colorscale": [
                          [
                            0,
                            "#0d0887"
                          ],
                          [
                            0.1111111111111111,
                            "#46039f"
                          ],
                          [
                            0.2222222222222222,
                            "#7201a8"
                          ],
                          [
                            0.3333333333333333,
                            "#9c179e"
                          ],
                          [
                            0.4444444444444444,
                            "#bd3786"
                          ],
                          [
                            0.5555555555555556,
                            "#d8576b"
                          ],
                          [
                            0.6666666666666666,
                            "#ed7953"
                          ],
                          [
                            0.7777777777777778,
                            "#fb9f3a"
                          ],
                          [
                            0.8888888888888888,
                            "#fdca26"
                          ],
                          [
                            1,
                            "#f0f921"
                          ]
                        ],
                        "type": "surface"
                      }
                    ],
                    "table": [
                      {
                        "cells": {
                          "fill": {
                            "color": "#EBF0F8"
                          },
                          "line": {
                            "color": "white"
                          }
                        },
                        "header": {
                          "fill": {
                            "color": "#C8D4E3"
                          },
                          "line": {
                            "color": "white"
                          }
                        },
                        "type": "table"
                      }
                    ]
                  },
                  "layout": {
                    "annotationdefaults": {
                      "arrowcolor": "#2a3f5f",
                      "arrowhead": 0,
                      "arrowwidth": 1
                    },
                    "autotypenumbers": "strict",
                    "coloraxis": {
                      "colorbar": {
                        "outlinewidth": 0,
                        "ticks": ""
                      }
                    },
                    "colorscale": {
                      "diverging": [
                        [
                          0,
                          "#8e0152"
                        ],
                        [
                          0.1,
                          "#c51b7d"
                        ],
                        [
                          0.2,
                          "#de77ae"
                        ],
                        [
                          0.3,
                          "#f1b6da"
                        ],
                        [
                          0.4,
                          "#fde0ef"
                        ],
                        [
                          0.5,
                          "#f7f7f7"
                        ],
                        [
                          0.6,
                          "#e6f5d0"
                        ],
                        [
                          0.7,
                          "#b8e186"
                        ],
                        [
                          0.8,
                          "#7fbc41"
                        ],
                        [
                          0.9,
                          "#4d9221"
                        ],
                        [
                          1,
                          "#276419"
                        ]
                      ],
                      "sequential": [
                        [
                          0,
                          "#0d0887"
                        ],
                        [
                          0.1111111111111111,
                          "#46039f"
                        ],
                        [
                          0.2222222222222222,
                          "#7201a8"
                        ],
                        [
                          0.3333333333333333,
                          "#9c179e"
                        ],
                        [
                          0.4444444444444444,
                          "#bd3786"
                        ],
                        [
                          0.5555555555555556,
                          "#d8576b"
                        ],
                        [
                          0.6666666666666666,
                          "#ed7953"
                        ],
                        [
                          0.7777777777777778,
                          "#fb9f3a"
                        ],
                        [
                          0.8888888888888888,
                          "#fdca26"
                        ],
                        [
                          1,
                          "#f0f921"
                        ]
                      ],
                      "sequentialminus": [
                        [
                          0,
                          "#0d0887"
                        ],
                        [
                          0.1111111111111111,
                          "#46039f"
                        ],
                        [
                          0.2222222222222222,
                          "#7201a8"
                        ],
                        [
                          0.3333333333333333,
                          "#9c179e"
                        ],
                        [
                          0.4444444444444444,
                          "#bd3786"
                        ],
                        [
                          0.5555555555555556,
                          "#d8576b"
                        ],
                        [
                          0.6666666666666666,
                          "#ed7953"
                        ],
                        [
                          0.7777777777777778,
                          "#fb9f3a"
                        ],
                        [
                          0.8888888888888888,
                          "#fdca26"
                        ],
                        [
                          1,
                          "#f0f921"
                        ]
                      ]
                    },
                    "colorway": [
                      "#636efa",
                      "#EF553B",
                      "#00cc96",
                      "#ab63fa",
                      "#FFA15A",
                      "#19d3f3",
                      "#FF6692",
                      "#B6E880",
                      "#FF97FF",
                      "#FECB52"
                    ],
                    "font": {
                      "color": "#2a3f5f"
                    },
                    "geo": {
                      "bgcolor": "white",
                      "lakecolor": "white",
                      "landcolor": "#E5ECF6",
                      "showlakes": true,
                      "showland": true,
                      "subunitcolor": "white"
                    },
                    "hoverlabel": {
                      "align": "left"
                    },
                    "hovermode": "closest",
                    "mapbox": {
                      "style": "light"
                    },
                    "paper_bgcolor": "white",
                    "plot_bgcolor": "#E5ECF6",
                    "polar": {
                      "angularaxis": {
                        "gridcolor": "white",
                        "linecolor": "white",
                        "ticks": ""
                      },
                      "bgcolor": "#E5ECF6",
                      "radialaxis": {
                        "gridcolor": "white",
                        "linecolor": "white",
                        "ticks": ""
                      }
                    },
                    "scene": {
                      "xaxis": {
                        "backgroundcolor": "#E5ECF6",
                        "gridcolor": "white",
                        "gridwidth": 2,
                        "linecolor": "white",
                        "showbackground": true,
                        "ticks": "",
                        "zerolinecolor": "white"
                      },
                      "yaxis": {
                        "backgroundcolor": "#E5ECF6",
                        "gridcolor": "white",
                        "gridwidth": 2,
                        "linecolor": "white",
                        "showbackground": true,
                        "ticks": "",
                        "zerolinecolor": "white"
                      },
                      "zaxis": {
                        "backgroundcolor": "#E5ECF6",
                        "gridcolor": "white",
                        "gridwidth": 2,
                        "linecolor": "white",
                        "showbackground": true,
                        "ticks": "",
                        "zerolinecolor": "white"
                      }
                    },
                    "shapedefaults": {
                      "line": {
                        "color": "#2a3f5f"
                      }
                    },
                    "ternary": {
                      "aaxis": {
                        "gridcolor": "white",
                        "linecolor": "white",
                        "ticks": ""
                      },
                      "baxis": {
                        "gridcolor": "white",
                        "linecolor": "white",
                        "ticks": ""
                      },
                      "bgcolor": "#E5ECF6",
                      "caxis": {
                        "gridcolor": "white",
                        "linecolor": "white",
                        "ticks": ""
                      }
                    },
                    "title": {
                      "x": 0.05
                    },
                    "xaxis": {
                      "automargin": true,
                      "gridcolor": "white",
                      "linecolor": "white",
                      "ticks": "",
                      "title": {
                        "standoff": 15
                      },
                      "zerolinecolor": "white",
                      "zerolinewidth": 2
                    },
                    "yaxis": {
                      "automargin": true,
                      "gridcolor": "white",
                      "linecolor": "white",
                      "ticks": "",
                      "title": {
                        "standoff": 15
                      },
                      "zerolinecolor": "white",
                      "zerolinewidth": 2
                    }
                  }
                },
                "title": {
                  "text": "Loss"
                }
              }
            },
            "text/html": [
              "<div>                            <div id=\"3a05f894-d389-4c4f-baef-767d92bb99bb\" class=\"plotly-graph-div\" style=\"height:525px; width:100%;\"></div>            <script type=\"text/javascript\">                require([\"plotly\"], function(Plotly) {                    window.PLOTLYENV=window.PLOTLYENV || {};                                    if (document.getElementById(\"3a05f894-d389-4c4f-baef-767d92bb99bb\")) {                    Plotly.newPlot(                        \"3a05f894-d389-4c4f-baef-767d92bb99bb\",                        [{\"name\": \"loss\", \"type\": \"scatter\", \"x\": [0, 1, 2, 3, 4, 5, 6, 7, 8, 9, 10, 11, 12, 13, 14, 15, 16, 17, 18, 19, 20, 21, 22, 23, 24, 25, 26, 27, 28, 29, 30, 31, 32, 33, 34, 35, 36, 37, 38, 39, 40, 41, 42, 43, 44, 45, 46, 47, 48, 49, 50, 51, 52, 53, 54, 55, 56, 57, 58, 59, 60, 61, 62, 63, 64, 65, 66, 67, 68, 69, 70, 71, 72, 73, 74, 75, 76, 77, 78, 79, 80, 81, 82, 83, 84, 85, 86, 87, 88, 89, 90, 91, 92, 93, 94, 95, 96, 97, 98, 99], \"y\": [1.5201233625411987, 1.1050283908843994, 0.9425038695335388, 0.8175269961357117, 0.7065658569335938, 0.621437668800354, 0.5574366450309753, 0.5083231329917908, 0.47040465474128723, 0.4412539303302765, 0.4193919897079468, 0.4007098376750946, 0.38509827852249146, 0.3724730908870697, 0.3612678349018097, 0.35150787234306335, 0.3434201180934906, 0.33605432510375977, 0.3289421796798706, 0.32322776317596436, 0.31736791133880615, 0.31140244007110596, 0.3062557876110077, 0.3022535443305969, 0.2968527376651764, 0.29225990176200867, 0.2886621356010437, 0.284566730260849, 0.2808891534805298, 0.2779287099838257, 0.2734765410423279, 0.2705562710762024, 0.26776444911956787, 0.2650740146636963, 0.26228857040405273, 0.2598370313644409, 0.257581889629364, 0.25586509704589844, 0.25385671854019165, 0.2518211305141449, 0.24965791404247284, 0.24846848845481873, 0.2471025437116623, 0.24518293142318726, 0.24338993430137634, 0.2422560453414917, 0.2407001256942749, 0.23925569653511047, 0.23790623247623444, 0.23646466434001923, 0.2360072135925293, 0.2342166155576706, 0.23369762301445007, 0.23272773623466492, 0.23168376088142395, 0.23064038157463074, 0.22872300446033478, 0.22751548886299133, 0.22725243866443634, 0.2263229787349701, 0.22502003610134125, 0.2234550267457962, 0.22264079749584198, 0.2212306410074234, 0.2216733694076538, 0.2201421558856964, 0.21917743980884552, 0.21849027276039124, 0.21678636968135834, 0.21501393616199493, 0.21481990814208984, 0.2141590714454651, 0.21342866122722626, 0.2123374491930008, 0.21173448860645294, 0.2098129242658615, 0.20948995649814606, 0.20854243636131287, 0.207514226436615, 0.20660601556301117, 0.20558151602745056, 0.2052500993013382, 0.20346708595752716, 0.2031993418931961, 0.20211733877658844, 0.2014421969652176, 0.20088720321655273, 0.19929605722427368, 0.19852901995182037, 0.19933679699897766, 0.1980501115322113, 0.19660238921642303, 0.1960100680589676, 0.19530907273292542, 0.1953936219215393, 0.19385948777198792, 0.19326874613761902, 0.19226597249507904, 0.19280824065208435, 0.19184836745262146]}, {\"name\": \"val_loss\", \"type\": \"scatter\", \"x\": [0, 1, 2, 3, 4, 5, 6, 7, 8, 9, 10, 11, 12, 13, 14, 15, 16, 17, 18, 19, 20, 21, 22, 23, 24, 25, 26, 27, 28, 29, 30, 31, 32, 33, 34, 35, 36, 37, 38, 39, 40, 41, 42, 43, 44, 45, 46, 47, 48, 49, 50, 51, 52, 53, 54, 55, 56, 57, 58, 59, 60, 61, 62, 63, 64, 65, 66, 67, 68, 69, 70, 71, 72, 73, 74, 75, 76, 77, 78, 79, 80, 81, 82, 83, 84, 85, 86, 87, 88, 89, 90, 91, 92, 93, 94, 95, 96, 97, 98, 99], \"y\": [1.235641598701477, 1.0204094648361206, 0.8872536420822144, 0.761045515537262, 0.66445392370224, 0.5932356715202332, 0.5406218767166138, 0.5017887353897095, 0.46944522857666016, 0.4464607536792755, 0.42716309428215027, 0.4100117087364197, 0.39648962020874023, 0.3844110071659088, 0.3734058737754822, 0.3645406663417816, 0.35835960507392883, 0.3518834710121155, 0.3491493761539459, 0.3391210734844208, 0.3341439962387085, 0.3276688754558563, 0.32599225640296936, 0.3205740749835968, 0.31729376316070557, 0.31128552556037903, 0.3089925944805145, 0.3050689399242401, 0.3026610314846039, 0.29876768589019775, 0.29895785450935364, 0.29451993107795715, 0.29350709915161133, 0.2929411232471466, 0.29090097546577454, 0.2909218370914459, 0.288864403963089, 0.286895215511322, 0.286015123128891, 0.28680434823036194, 0.28368160128593445, 0.28671663999557495, 0.283307820558548, 0.283368855714798, 0.2833348512649536, 0.2814776301383972, 0.2808404266834259, 0.2780805230140686, 0.27676984667778015, 0.27778032422065735, 0.2799883186817169, 0.2791595160961151, 0.27789950370788574, 0.27326175570487976, 0.27431660890579224, 0.27255913615226746, 0.2724769413471222, 0.2723385691642761, 0.27222248911857605, 0.26949670910835266, 0.2707054018974304, 0.2703157961368561, 0.2691052258014679, 0.27077820897102356, 0.27127179503440857, 0.2687588334083557, 0.2670707404613495, 0.26555368304252625, 0.26288697123527527, 0.2677208185195923, 0.26496830582618713, 0.260896235704422, 0.2637925148010254, 0.26082104444503784, 0.2648874521255493, 0.26080557703971863, 0.2606270909309387, 0.2591036260128021, 0.2589329779148102, 0.2567664682865143, 0.25510311126708984, 0.25725749135017395, 0.2553548216819763, 0.2541551887989044, 0.2548283636569977, 0.25272488594055176, 0.2507597506046295, 0.25183460116386414, 0.2525635361671448, 0.25521084666252136, 0.25382477045059204, 0.2519218325614929, 0.2497020810842514, 0.2540242075920105, 0.2524808347225189, 0.24818332493305206, 0.24933508038520813, 0.24886316061019897, 0.2531876266002655, 0.2530819773674011]}],                        {\"template\": {\"data\": {\"bar\": [{\"error_x\": {\"color\": \"#2a3f5f\"}, \"error_y\": {\"color\": \"#2a3f5f\"}, \"marker\": {\"line\": {\"color\": \"#E5ECF6\", \"width\": 0.5}}, \"type\": \"bar\"}], \"barpolar\": [{\"marker\": {\"line\": {\"color\": \"#E5ECF6\", \"width\": 0.5}}, \"type\": \"barpolar\"}], \"carpet\": [{\"aaxis\": {\"endlinecolor\": \"#2a3f5f\", \"gridcolor\": \"white\", \"linecolor\": \"white\", \"minorgridcolor\": \"white\", \"startlinecolor\": \"#2a3f5f\"}, \"baxis\": {\"endlinecolor\": \"#2a3f5f\", \"gridcolor\": \"white\", \"linecolor\": \"white\", \"minorgridcolor\": \"white\", \"startlinecolor\": \"#2a3f5f\"}, \"type\": \"carpet\"}], \"choropleth\": [{\"colorbar\": {\"outlinewidth\": 0, \"ticks\": \"\"}, \"type\": \"choropleth\"}], \"contour\": [{\"colorbar\": {\"outlinewidth\": 0, \"ticks\": \"\"}, \"colorscale\": [[0.0, \"#0d0887\"], [0.1111111111111111, \"#46039f\"], [0.2222222222222222, \"#7201a8\"], [0.3333333333333333, \"#9c179e\"], [0.4444444444444444, \"#bd3786\"], [0.5555555555555556, \"#d8576b\"], [0.6666666666666666, \"#ed7953\"], [0.7777777777777778, \"#fb9f3a\"], [0.8888888888888888, \"#fdca26\"], [1.0, \"#f0f921\"]], \"type\": \"contour\"}], \"contourcarpet\": [{\"colorbar\": {\"outlinewidth\": 0, \"ticks\": \"\"}, \"type\": \"contourcarpet\"}], \"heatmap\": [{\"colorbar\": {\"outlinewidth\": 0, \"ticks\": \"\"}, \"colorscale\": [[0.0, \"#0d0887\"], [0.1111111111111111, \"#46039f\"], [0.2222222222222222, \"#7201a8\"], [0.3333333333333333, \"#9c179e\"], [0.4444444444444444, \"#bd3786\"], [0.5555555555555556, \"#d8576b\"], [0.6666666666666666, \"#ed7953\"], [0.7777777777777778, \"#fb9f3a\"], [0.8888888888888888, \"#fdca26\"], [1.0, \"#f0f921\"]], \"type\": \"heatmap\"}], \"heatmapgl\": [{\"colorbar\": {\"outlinewidth\": 0, \"ticks\": \"\"}, \"colorscale\": [[0.0, \"#0d0887\"], [0.1111111111111111, \"#46039f\"], [0.2222222222222222, \"#7201a8\"], [0.3333333333333333, \"#9c179e\"], [0.4444444444444444, \"#bd3786\"], [0.5555555555555556, \"#d8576b\"], [0.6666666666666666, \"#ed7953\"], [0.7777777777777778, \"#fb9f3a\"], [0.8888888888888888, \"#fdca26\"], [1.0, \"#f0f921\"]], \"type\": \"heatmapgl\"}], \"histogram\": [{\"marker\": {\"colorbar\": {\"outlinewidth\": 0, \"ticks\": \"\"}}, \"type\": \"histogram\"}], \"histogram2d\": [{\"colorbar\": {\"outlinewidth\": 0, \"ticks\": \"\"}, \"colorscale\": [[0.0, \"#0d0887\"], [0.1111111111111111, \"#46039f\"], [0.2222222222222222, \"#7201a8\"], [0.3333333333333333, \"#9c179e\"], [0.4444444444444444, \"#bd3786\"], [0.5555555555555556, \"#d8576b\"], [0.6666666666666666, \"#ed7953\"], [0.7777777777777778, \"#fb9f3a\"], [0.8888888888888888, \"#fdca26\"], [1.0, \"#f0f921\"]], \"type\": \"histogram2d\"}], \"histogram2dcontour\": [{\"colorbar\": {\"outlinewidth\": 0, \"ticks\": \"\"}, \"colorscale\": [[0.0, \"#0d0887\"], [0.1111111111111111, \"#46039f\"], [0.2222222222222222, \"#7201a8\"], [0.3333333333333333, \"#9c179e\"], [0.4444444444444444, \"#bd3786\"], [0.5555555555555556, \"#d8576b\"], [0.6666666666666666, \"#ed7953\"], [0.7777777777777778, \"#fb9f3a\"], [0.8888888888888888, \"#fdca26\"], [1.0, \"#f0f921\"]], \"type\": \"histogram2dcontour\"}], \"mesh3d\": [{\"colorbar\": {\"outlinewidth\": 0, \"ticks\": \"\"}, \"type\": \"mesh3d\"}], \"parcoords\": [{\"line\": {\"colorbar\": {\"outlinewidth\": 0, \"ticks\": \"\"}}, \"type\": \"parcoords\"}], \"pie\": [{\"automargin\": true, \"type\": \"pie\"}], \"scatter\": [{\"marker\": {\"colorbar\": {\"outlinewidth\": 0, \"ticks\": \"\"}}, \"type\": \"scatter\"}], \"scatter3d\": [{\"line\": {\"colorbar\": {\"outlinewidth\": 0, \"ticks\": \"\"}}, \"marker\": {\"colorbar\": {\"outlinewidth\": 0, \"ticks\": \"\"}}, \"type\": \"scatter3d\"}], \"scattercarpet\": [{\"marker\": {\"colorbar\": {\"outlinewidth\": 0, \"ticks\": \"\"}}, \"type\": \"scattercarpet\"}], \"scattergeo\": [{\"marker\": {\"colorbar\": {\"outlinewidth\": 0, \"ticks\": \"\"}}, \"type\": \"scattergeo\"}], \"scattergl\": [{\"marker\": {\"colorbar\": {\"outlinewidth\": 0, \"ticks\": \"\"}}, \"type\": \"scattergl\"}], \"scattermapbox\": [{\"marker\": {\"colorbar\": {\"outlinewidth\": 0, \"ticks\": \"\"}}, \"type\": \"scattermapbox\"}], \"scatterpolar\": [{\"marker\": {\"colorbar\": {\"outlinewidth\": 0, \"ticks\": \"\"}}, \"type\": \"scatterpolar\"}], \"scatterpolargl\": [{\"marker\": {\"colorbar\": {\"outlinewidth\": 0, \"ticks\": \"\"}}, \"type\": \"scatterpolargl\"}], \"scatterternary\": [{\"marker\": {\"colorbar\": {\"outlinewidth\": 0, \"ticks\": \"\"}}, \"type\": \"scatterternary\"}], \"surface\": [{\"colorbar\": {\"outlinewidth\": 0, \"ticks\": \"\"}, \"colorscale\": [[0.0, \"#0d0887\"], [0.1111111111111111, \"#46039f\"], [0.2222222222222222, \"#7201a8\"], [0.3333333333333333, \"#9c179e\"], [0.4444444444444444, \"#bd3786\"], [0.5555555555555556, \"#d8576b\"], [0.6666666666666666, \"#ed7953\"], [0.7777777777777778, \"#fb9f3a\"], [0.8888888888888888, \"#fdca26\"], [1.0, \"#f0f921\"]], \"type\": \"surface\"}], \"table\": [{\"cells\": {\"fill\": {\"color\": \"#EBF0F8\"}, \"line\": {\"color\": \"white\"}}, \"header\": {\"fill\": {\"color\": \"#C8D4E3\"}, \"line\": {\"color\": \"white\"}}, \"type\": \"table\"}]}, \"layout\": {\"annotationdefaults\": {\"arrowcolor\": \"#2a3f5f\", \"arrowhead\": 0, \"arrowwidth\": 1}, \"autotypenumbers\": \"strict\", \"coloraxis\": {\"colorbar\": {\"outlinewidth\": 0, \"ticks\": \"\"}}, \"colorscale\": {\"diverging\": [[0, \"#8e0152\"], [0.1, \"#c51b7d\"], [0.2, \"#de77ae\"], [0.3, \"#f1b6da\"], [0.4, \"#fde0ef\"], [0.5, \"#f7f7f7\"], [0.6, \"#e6f5d0\"], [0.7, \"#b8e186\"], [0.8, \"#7fbc41\"], [0.9, \"#4d9221\"], [1, \"#276419\"]], \"sequential\": [[0.0, \"#0d0887\"], [0.1111111111111111, \"#46039f\"], [0.2222222222222222, \"#7201a8\"], [0.3333333333333333, \"#9c179e\"], [0.4444444444444444, \"#bd3786\"], [0.5555555555555556, \"#d8576b\"], [0.6666666666666666, \"#ed7953\"], [0.7777777777777778, \"#fb9f3a\"], [0.8888888888888888, \"#fdca26\"], [1.0, \"#f0f921\"]], \"sequentialminus\": [[0.0, \"#0d0887\"], [0.1111111111111111, \"#46039f\"], [0.2222222222222222, \"#7201a8\"], [0.3333333333333333, \"#9c179e\"], [0.4444444444444444, \"#bd3786\"], [0.5555555555555556, \"#d8576b\"], [0.6666666666666666, \"#ed7953\"], [0.7777777777777778, \"#fb9f3a\"], [0.8888888888888888, \"#fdca26\"], [1.0, \"#f0f921\"]]}, \"colorway\": [\"#636efa\", \"#EF553B\", \"#00cc96\", \"#ab63fa\", \"#FFA15A\", \"#19d3f3\", \"#FF6692\", \"#B6E880\", \"#FF97FF\", \"#FECB52\"], \"font\": {\"color\": \"#2a3f5f\"}, \"geo\": {\"bgcolor\": \"white\", \"lakecolor\": \"white\", \"landcolor\": \"#E5ECF6\", \"showlakes\": true, \"showland\": true, \"subunitcolor\": \"white\"}, \"hoverlabel\": {\"align\": \"left\"}, \"hovermode\": \"closest\", \"mapbox\": {\"style\": \"light\"}, \"paper_bgcolor\": \"white\", \"plot_bgcolor\": \"#E5ECF6\", \"polar\": {\"angularaxis\": {\"gridcolor\": \"white\", \"linecolor\": \"white\", \"ticks\": \"\"}, \"bgcolor\": \"#E5ECF6\", \"radialaxis\": {\"gridcolor\": \"white\", \"linecolor\": \"white\", \"ticks\": \"\"}}, \"scene\": {\"xaxis\": {\"backgroundcolor\": \"#E5ECF6\", \"gridcolor\": \"white\", \"gridwidth\": 2, \"linecolor\": \"white\", \"showbackground\": true, \"ticks\": \"\", \"zerolinecolor\": \"white\"}, \"yaxis\": {\"backgroundcolor\": \"#E5ECF6\", \"gridcolor\": \"white\", \"gridwidth\": 2, \"linecolor\": \"white\", \"showbackground\": true, \"ticks\": \"\", \"zerolinecolor\": \"white\"}, \"zaxis\": {\"backgroundcolor\": \"#E5ECF6\", \"gridcolor\": \"white\", \"gridwidth\": 2, \"linecolor\": \"white\", \"showbackground\": true, \"ticks\": \"\", \"zerolinecolor\": \"white\"}}, \"shapedefaults\": {\"line\": {\"color\": \"#2a3f5f\"}}, \"ternary\": {\"aaxis\": {\"gridcolor\": \"white\", \"linecolor\": \"white\", \"ticks\": \"\"}, \"baxis\": {\"gridcolor\": \"white\", \"linecolor\": \"white\", \"ticks\": \"\"}, \"bgcolor\": \"#E5ECF6\", \"caxis\": {\"gridcolor\": \"white\", \"linecolor\": \"white\", \"ticks\": \"\"}}, \"title\": {\"x\": 0.05}, \"xaxis\": {\"automargin\": true, \"gridcolor\": \"white\", \"linecolor\": \"white\", \"ticks\": \"\", \"title\": {\"standoff\": 15}, \"zerolinecolor\": \"white\", \"zerolinewidth\": 2}, \"yaxis\": {\"automargin\": true, \"gridcolor\": \"white\", \"linecolor\": \"white\", \"ticks\": \"\", \"title\": {\"standoff\": 15}, \"zerolinecolor\": \"white\", \"zerolinewidth\": 2}}}, \"title\": {\"text\": \"Loss\"}},                        {\"responsive\": true}                    ).then(function(){\n",
              "                            \n",
              "var gd = document.getElementById('3a05f894-d389-4c4f-baef-767d92bb99bb');\n",
              "var x = new MutationObserver(function (mutations, observer) {{\n",
              "        var display = window.getComputedStyle(gd).display;\n",
              "        if (!display || display === 'none') {{\n",
              "            console.log([gd, 'removed!']);\n",
              "            Plotly.purge(gd);\n",
              "            observer.disconnect();\n",
              "        }}\n",
              "}});\n",
              "\n",
              "// Listen for the removal of the full notebook cells\n",
              "var notebookContainer = gd.closest('#notebook-container');\n",
              "if (notebookContainer) {{\n",
              "    x.observe(notebookContainer, {childList: true});\n",
              "}}\n",
              "\n",
              "// Listen for the clearing of the current output cell\n",
              "var outputEl = gd.closest('.output');\n",
              "if (outputEl) {{\n",
              "    x.observe(outputEl, {childList: true});\n",
              "}}\n",
              "\n",
              "                        })                };                });            </script>        </div>"
            ]
          },
          "metadata": {
            "tags": []
          }
        }
      ]
    },
    {
      "cell_type": "markdown",
      "metadata": {
        "id": "99b430db"
      },
      "source": [
        "### Accuracy "
      ],
      "id": "99b430db"
    },
    {
      "cell_type": "code",
      "metadata": {
        "id": "c8cdc944",
        "outputId": "96f67e55-6eff-428f-f42e-442e9ef55605"
      },
      "source": [
        "np.sum(model.predict(X),axis=1) ### el predict regresa las probabilidades"
      ],
      "id": "c8cdc944",
      "execution_count": null,
      "outputs": [
        {
          "output_type": "execute_result",
          "data": {
            "text/plain": [
              "array([1.        , 1.0000001 , 1.        , ..., 1.        , 1.        ,\n",
              "       0.99999994], dtype=float32)"
            ]
          },
          "metadata": {
            "tags": []
          },
          "execution_count": 46
        }
      ]
    },
    {
      "cell_type": "code",
      "metadata": {
        "id": "9a3ac9a1",
        "outputId": "5a16a058-7843-46f8-8b34-44a35428c059"
      },
      "source": [
        "model.predict_classes(X)"
      ],
      "id": "9a3ac9a1",
      "execution_count": null,
      "outputs": [
        {
          "output_type": "stream",
          "text": [
            "c:\\program files\\python38\\lib\\site-packages\\tensorflow\\python\\keras\\engine\\sequential.py:455: UserWarning:\n",
            "\n",
            "`model.predict_classes()` is deprecated and will be removed after 2021-01-01. Please use instead:* `np.argmax(model.predict(x), axis=-1)`,   if your model does multi-class classification   (e.g. if it uses a `softmax` last-layer activation).* `(model.predict(x) > 0.5).astype(\"int32\")`,   if your model does binary classification   (e.g. if it uses a `sigmoid` last-layer activation).\n",
            "\n"
          ],
          "name": "stderr"
        },
        {
          "output_type": "execute_result",
          "data": {
            "text/plain": [
              "array([2, 0, 0, ..., 0, 2, 1], dtype=int64)"
            ]
          },
          "metadata": {
            "tags": []
          },
          "execution_count": 47
        }
      ]
    },
    {
      "cell_type": "code",
      "metadata": {
        "id": "a2a7ea99",
        "outputId": "8588c813-b86e-43c4-bf03-464e59afffe0"
      },
      "source": [
        "np.argmax(model.predict(X),axis=1) ### para devolver las clases predichas"
      ],
      "id": "a2a7ea99",
      "execution_count": null,
      "outputs": [
        {
          "output_type": "execute_result",
          "data": {
            "text/plain": [
              "array([2, 0, 0, ..., 0, 2, 1], dtype=int64)"
            ]
          },
          "metadata": {
            "tags": []
          },
          "execution_count": 49
        }
      ]
    },
    {
      "cell_type": "code",
      "metadata": {
        "id": "869be13e"
      },
      "source": [
        "from sklearn.metrics import accuracy_score"
      ],
      "id": "869be13e",
      "execution_count": null,
      "outputs": []
    },
    {
      "cell_type": "code",
      "metadata": {
        "id": "a72b00ec",
        "outputId": "32c19d32-d3fb-4c41-ccac-9a65f1f53753"
      },
      "source": [
        "y_pred = np.argmax(model.predict(X),axis=1)\n",
        "accuracy_score(Y,y_pred)"
      ],
      "id": "a72b00ec",
      "execution_count": null,
      "outputs": [
        {
          "output_type": "execute_result",
          "data": {
            "text/plain": [
              "0.9544"
            ]
          },
          "metadata": {
            "tags": []
          },
          "execution_count": 51
        }
      ]
    },
    {
      "cell_type": "markdown",
      "metadata": {
        "id": "9a7a2421"
      },
      "source": [
        "### metricas de train  y test"
      ],
      "id": "9a7a2421"
    },
    {
      "cell_type": "code",
      "metadata": {
        "id": "4b265d56",
        "outputId": "d67f14a2-2f25-4821-db3b-df27f82ee667"
      },
      "source": [
        "yt"
      ],
      "id": "4b265d56",
      "execution_count": null,
      "outputs": [
        {
          "output_type": "execute_result",
          "data": {
            "text/plain": [
              "array([[0., 1., 0.],\n",
              "       [1., 0., 0.],\n",
              "       [1., 0., 0.],\n",
              "       ...,\n",
              "       [0., 1., 0.],\n",
              "       [1., 0., 0.],\n",
              "       [0., 0., 1.]])"
            ]
          },
          "metadata": {
            "tags": []
          },
          "execution_count": 60
        }
      ]
    },
    {
      "cell_type": "code",
      "metadata": {
        "id": "4c4fa4f9",
        "outputId": "c531402a-acce-4b5c-fba8-da7307101c4d"
      },
      "source": [
        "np.argmax(yt,axis=1)"
      ],
      "id": "4c4fa4f9",
      "execution_count": null,
      "outputs": [
        {
          "output_type": "execute_result",
          "data": {
            "text/plain": [
              "array([1, 0, 0, ..., 1, 0, 2], dtype=int64)"
            ]
          },
          "metadata": {
            "tags": []
          },
          "execution_count": 62
        }
      ]
    },
    {
      "cell_type": "code",
      "metadata": {
        "id": "f6c2c089",
        "outputId": "bef99120-09f2-4517-ed9b-559cedde90b7"
      },
      "source": [
        "y_pred = np.argmax(model.predict(xt),axis=1)\n",
        "accuracy_score(np.argmax(yt,axis=1),y_pred)"
      ],
      "id": "f6c2c089",
      "execution_count": null,
      "outputs": [
        {
          "output_type": "execute_result",
          "data": {
            "text/plain": [
              "0.9368"
            ]
          },
          "metadata": {
            "tags": []
          },
          "execution_count": 63
        }
      ]
    },
    {
      "cell_type": "code",
      "metadata": {
        "id": "8ae78fc6",
        "outputId": "f4d5efad-ab31-470a-b6a4-5467f369b13c"
      },
      "source": [
        "y_pred = np.argmax(model.predict(xv),axis=1)\n",
        "accuracy_score(np.argmax(yv,axis=1),y_pred)"
      ],
      "id": "8ae78fc6",
      "execution_count": null,
      "outputs": [
        {
          "output_type": "execute_result",
          "data": {
            "text/plain": [
              "0.9176"
            ]
          },
          "metadata": {
            "tags": []
          },
          "execution_count": 64
        }
      ]
    },
    {
      "cell_type": "markdown",
      "metadata": {
        "id": "cd16a73d"
      },
      "source": [
        "### Logits en clasificacion "
      ],
      "id": "cd16a73d"
    },
    {
      "cell_type": "markdown",
      "metadata": {
        "id": "6e2f57f1"
      },
      "source": [
        "Los logits son las salidas de la capa antes de la activacion, es decir $$z^{[l]}$$"
      ],
      "id": "6e2f57f1"
    },
    {
      "cell_type": "code",
      "metadata": {
        "id": "20c97c1f"
      },
      "source": [
        "model = Sequential()\n",
        "model.add(InputLayer(input_shape=(20)))\n",
        "model.add(Dense(15, activation=\"relu\"))\n",
        "model.add(Dense(8, activation=\"relu\"))\n",
        "model.add(Dense(3)) ### Capa sin activacion o identidad, linear\n",
        "model.compile(loss= CategoricalCrossentropy(from_logits=True), optimizer = Adam())"
      ],
      "id": "20c97c1f",
      "execution_count": null,
      "outputs": []
    },
    {
      "cell_type": "code",
      "metadata": {
        "id": "1f1800a6",
        "outputId": "918d528e-5c34-49f6-b56c-23e173a1b329"
      },
      "source": [
        "history = model.fit(x=xt,y=yt, epochs=100, batch_size = 128, validation_data=(xv,yv))"
      ],
      "id": "1f1800a6",
      "execution_count": null,
      "outputs": [
        {
          "output_type": "stream",
          "text": [
            "Epoch 1/100\n",
            "59/59 [==============================] - 0s 4ms/step - loss: 1.1052 - val_loss: 0.9665\n",
            "Epoch 2/100\n",
            "59/59 [==============================] - 0s 3ms/step - loss: 0.9359 - val_loss: 0.8608\n",
            "Epoch 3/100\n",
            "59/59 [==============================] - 0s 2ms/step - loss: 0.8414 - val_loss: 0.7747\n",
            "Epoch 4/100\n",
            "59/59 [==============================] - 0s 2ms/step - loss: 0.7559 - val_loss: 0.6996\n",
            "Epoch 5/100\n",
            "59/59 [==============================] - 0s 2ms/step - loss: 0.6820 - val_loss: 0.6357\n",
            "Epoch 6/100\n",
            "59/59 [==============================] - 0s 2ms/step - loss: 0.6122 - val_loss: 0.5798\n",
            "Epoch 7/100\n",
            "59/59 [==============================] - 0s 2ms/step - loss: 0.5747 - val_loss: 0.5327\n",
            "Epoch 8/100\n",
            "59/59 [==============================] - 0s 2ms/step - loss: 0.5146 - val_loss: 0.4942\n",
            "Epoch 9/100\n",
            "59/59 [==============================] - 0s 2ms/step - loss: 0.4702 - val_loss: 0.4620\n",
            "Epoch 10/100\n",
            "59/59 [==============================] - 0s 2ms/step - loss: 0.4401 - val_loss: 0.4341\n",
            "Epoch 11/100\n",
            "59/59 [==============================] - 0s 2ms/step - loss: 0.4148 - val_loss: 0.4147\n",
            "Epoch 12/100\n",
            "59/59 [==============================] - 0s 2ms/step - loss: 0.3912 - val_loss: 0.3967\n",
            "Epoch 13/100\n",
            "59/59 [==============================] - 0s 2ms/step - loss: 0.3862 - val_loss: 0.3829\n",
            "Epoch 14/100\n",
            "59/59 [==============================] - 0s 2ms/step - loss: 0.3586 - val_loss: 0.3706\n",
            "Epoch 15/100\n",
            "59/59 [==============================] - 0s 2ms/step - loss: 0.3385 - val_loss: 0.3579\n",
            "Epoch 16/100\n",
            "59/59 [==============================] - 0s 2ms/step - loss: 0.3371 - val_loss: 0.3508\n",
            "Epoch 17/100\n",
            "59/59 [==============================] - 0s 2ms/step - loss: 0.3352 - val_loss: 0.3410\n",
            "Epoch 18/100\n",
            "59/59 [==============================] - 0s 2ms/step - loss: 0.3141 - val_loss: 0.3349\n",
            "Epoch 19/100\n",
            "59/59 [==============================] - 0s 2ms/step - loss: 0.3117 - val_loss: 0.3297\n",
            "Epoch 20/100\n",
            "59/59 [==============================] - 0s 2ms/step - loss: 0.2966 - val_loss: 0.3207\n",
            "Epoch 21/100\n",
            "59/59 [==============================] - 0s 2ms/step - loss: 0.2926 - val_loss: 0.3151\n",
            "Epoch 22/100\n",
            "59/59 [==============================] - 0s 2ms/step - loss: 0.2941 - val_loss: 0.3087\n",
            "Epoch 23/100\n",
            "59/59 [==============================] - 0s 2ms/step - loss: 0.2824 - val_loss: 0.3065\n",
            "Epoch 24/100\n",
            "59/59 [==============================] - 0s 2ms/step - loss: 0.2747 - val_loss: 0.3028\n",
            "Epoch 25/100\n",
            "59/59 [==============================] - 0s 2ms/step - loss: 0.2793 - val_loss: 0.2964\n",
            "Epoch 26/100\n",
            "59/59 [==============================] - 0s 2ms/step - loss: 0.2703 - val_loss: 0.2917\n",
            "Epoch 27/100\n",
            "59/59 [==============================] - 0s 2ms/step - loss: 0.2622 - val_loss: 0.2882\n",
            "Epoch 28/100\n",
            "59/59 [==============================] - 0s 2ms/step - loss: 0.2738 - val_loss: 0.2858\n",
            "Epoch 29/100\n",
            "59/59 [==============================] - 0s 2ms/step - loss: 0.2570 - val_loss: 0.2830\n",
            "Epoch 30/100\n",
            "59/59 [==============================] - 0s 2ms/step - loss: 0.2318 - val_loss: 0.2781\n",
            "Epoch 31/100\n",
            "59/59 [==============================] - 0s 2ms/step - loss: 0.2654 - val_loss: 0.2752\n",
            "Epoch 32/100\n",
            "59/59 [==============================] - 0s 2ms/step - loss: 0.2475 - val_loss: 0.2711\n",
            "Epoch 33/100\n",
            "59/59 [==============================] - 0s 2ms/step - loss: 0.2391 - val_loss: 0.2688\n",
            "Epoch 34/100\n",
            "59/59 [==============================] - 0s 2ms/step - loss: 0.2433 - val_loss: 0.2674\n",
            "Epoch 35/100\n",
            "59/59 [==============================] - 0s 2ms/step - loss: 0.2291 - val_loss: 0.2647\n",
            "Epoch 36/100\n",
            "59/59 [==============================] - 0s 2ms/step - loss: 0.2297 - val_loss: 0.2626\n",
            "Epoch 37/100\n",
            "59/59 [==============================] - 0s 2ms/step - loss: 0.2323 - val_loss: 0.2650\n",
            "Epoch 38/100\n",
            "59/59 [==============================] - 0s 2ms/step - loss: 0.2367 - val_loss: 0.2592\n",
            "Epoch 39/100\n",
            "59/59 [==============================] - 0s 2ms/step - loss: 0.2193 - val_loss: 0.2580\n",
            "Epoch 40/100\n",
            "59/59 [==============================] - 0s 2ms/step - loss: 0.2231 - val_loss: 0.2572\n",
            "Epoch 41/100\n",
            "59/59 [==============================] - 0s 2ms/step - loss: 0.2329 - val_loss: 0.2556\n",
            "Epoch 42/100\n",
            "59/59 [==============================] - 0s 2ms/step - loss: 0.2128 - val_loss: 0.2570\n",
            "Epoch 43/100\n",
            "59/59 [==============================] - 0s 2ms/step - loss: 0.2057 - val_loss: 0.2526\n",
            "Epoch 44/100\n",
            "59/59 [==============================] - 0s 2ms/step - loss: 0.2173 - val_loss: 0.2513\n",
            "Epoch 45/100\n",
            "59/59 [==============================] - 0s 2ms/step - loss: 0.2091 - val_loss: 0.2536\n",
            "Epoch 46/100\n",
            "59/59 [==============================] - 0s 2ms/step - loss: 0.2158 - val_loss: 0.2515\n",
            "Epoch 47/100\n",
            "59/59 [==============================] - 0s 2ms/step - loss: 0.2066 - val_loss: 0.2497\n",
            "Epoch 48/100\n",
            "59/59 [==============================] - 0s 2ms/step - loss: 0.2102 - val_loss: 0.2502\n",
            "Epoch 49/100\n",
            "59/59 [==============================] - 0s 2ms/step - loss: 0.2129 - val_loss: 0.2479\n",
            "Epoch 50/100\n",
            "59/59 [==============================] - 0s 2ms/step - loss: 0.2098 - val_loss: 0.2476\n",
            "Epoch 51/100\n",
            "59/59 [==============================] - 0s 2ms/step - loss: 0.1983 - val_loss: 0.2508\n",
            "Epoch 52/100\n",
            "59/59 [==============================] - 0s 2ms/step - loss: 0.1967 - val_loss: 0.2441\n",
            "Epoch 53/100\n",
            "59/59 [==============================] - 0s 2ms/step - loss: 0.2089 - val_loss: 0.2456\n",
            "Epoch 54/100\n",
            "59/59 [==============================] - 0s 2ms/step - loss: 0.2169 - val_loss: 0.2440\n",
            "Epoch 55/100\n",
            "59/59 [==============================] - 0s 2ms/step - loss: 0.2000 - val_loss: 0.2456\n",
            "Epoch 56/100\n",
            "59/59 [==============================] - 0s 2ms/step - loss: 0.2002 - val_loss: 0.2430\n",
            "Epoch 57/100\n",
            "59/59 [==============================] - 0s 2ms/step - loss: 0.2106 - val_loss: 0.2424\n",
            "Epoch 58/100\n",
            "59/59 [==============================] - 0s 2ms/step - loss: 0.1952 - val_loss: 0.2409\n",
            "Epoch 59/100\n",
            "59/59 [==============================] - 0s 2ms/step - loss: 0.2170 - val_loss: 0.2419\n",
            "Epoch 60/100\n",
            "59/59 [==============================] - 0s 2ms/step - loss: 0.2035 - val_loss: 0.2420\n",
            "Epoch 61/100\n",
            "59/59 [==============================] - 0s 2ms/step - loss: 0.2032 - val_loss: 0.2388\n",
            "Epoch 62/100\n",
            "59/59 [==============================] - 0s 2ms/step - loss: 0.1965 - val_loss: 0.2416\n",
            "Epoch 63/100\n",
            "59/59 [==============================] - 0s 2ms/step - loss: 0.1987 - val_loss: 0.2391\n",
            "Epoch 64/100\n",
            "59/59 [==============================] - 0s 2ms/step - loss: 0.1901 - val_loss: 0.2383\n",
            "Epoch 65/100\n",
            "59/59 [==============================] - 0s 2ms/step - loss: 0.1937 - val_loss: 0.2404\n",
            "Epoch 66/100\n",
            "59/59 [==============================] - 0s 2ms/step - loss: 0.1913 - val_loss: 0.2381\n",
            "Epoch 67/100\n",
            "59/59 [==============================] - 0s 2ms/step - loss: 0.1777 - val_loss: 0.2392\n",
            "Epoch 68/100\n",
            "59/59 [==============================] - 0s 2ms/step - loss: 0.1911 - val_loss: 0.2364\n",
            "Epoch 69/100\n",
            "59/59 [==============================] - 0s 2ms/step - loss: 0.1784 - val_loss: 0.2380\n",
            "Epoch 70/100\n",
            "59/59 [==============================] - 0s 2ms/step - loss: 0.2078 - val_loss: 0.2369\n",
            "Epoch 71/100\n",
            "59/59 [==============================] - 0s 2ms/step - loss: 0.1950 - val_loss: 0.2385\n",
            "Epoch 72/100\n",
            "59/59 [==============================] - 0s 2ms/step - loss: 0.1903 - val_loss: 0.2381\n",
            "Epoch 73/100\n",
            "59/59 [==============================] - 0s 2ms/step - loss: 0.1888 - val_loss: 0.2386\n",
            "Epoch 74/100\n",
            "59/59 [==============================] - 0s 2ms/step - loss: 0.1859 - val_loss: 0.2368\n",
            "Epoch 75/100\n",
            "59/59 [==============================] - 0s 2ms/step - loss: 0.1855 - val_loss: 0.2396\n",
            "Epoch 76/100\n",
            "59/59 [==============================] - 0s 2ms/step - loss: 0.1911 - val_loss: 0.2343\n",
            "Epoch 77/100\n",
            "59/59 [==============================] - 0s 2ms/step - loss: 0.1919 - val_loss: 0.2389\n",
            "Epoch 78/100\n",
            "59/59 [==============================] - 0s 2ms/step - loss: 0.1725 - val_loss: 0.2354\n",
            "Epoch 79/100\n",
            "59/59 [==============================] - 0s 2ms/step - loss: 0.1695 - val_loss: 0.2332\n",
            "Epoch 80/100\n",
            "59/59 [==============================] - 0s 2ms/step - loss: 0.1797 - val_loss: 0.2343\n",
            "Epoch 81/100\n",
            "59/59 [==============================] - 0s 2ms/step - loss: 0.1877 - val_loss: 0.2340\n",
            "Epoch 82/100\n",
            "59/59 [==============================] - 0s 2ms/step - loss: 0.1820 - val_loss: 0.2328\n",
            "Epoch 83/100\n"
          ],
          "name": "stdout"
        },
        {
          "output_type": "stream",
          "text": [
            "59/59 [==============================] - 0s 2ms/step - loss: 0.1856 - val_loss: 0.2370\n",
            "Epoch 84/100\n",
            "59/59 [==============================] - 0s 2ms/step - loss: 0.1812 - val_loss: 0.2325\n",
            "Epoch 85/100\n",
            "59/59 [==============================] - 0s 2ms/step - loss: 0.1832 - val_loss: 0.2334\n",
            "Epoch 86/100\n",
            "59/59 [==============================] - 0s 2ms/step - loss: 0.1694 - val_loss: 0.2328\n",
            "Epoch 87/100\n",
            "59/59 [==============================] - 0s 2ms/step - loss: 0.1583 - val_loss: 0.2338\n",
            "Epoch 88/100\n",
            "59/59 [==============================] - 0s 2ms/step - loss: 0.1782 - val_loss: 0.2313\n",
            "Epoch 89/100\n",
            "59/59 [==============================] - 0s 2ms/step - loss: 0.1716 - val_loss: 0.2322\n",
            "Epoch 90/100\n",
            "59/59 [==============================] - 0s 2ms/step - loss: 0.1739 - val_loss: 0.2309\n",
            "Epoch 91/100\n",
            "59/59 [==============================] - 0s 2ms/step - loss: 0.1715 - val_loss: 0.2340\n",
            "Epoch 92/100\n",
            "59/59 [==============================] - 0s 2ms/step - loss: 0.1653 - val_loss: 0.2308\n",
            "Epoch 93/100\n",
            "59/59 [==============================] - 0s 2ms/step - loss: 0.1862 - val_loss: 0.2306\n",
            "Epoch 94/100\n",
            "59/59 [==============================] - 0s 2ms/step - loss: 0.1644 - val_loss: 0.2294\n",
            "Epoch 95/100\n",
            "59/59 [==============================] - 0s 2ms/step - loss: 0.1755 - val_loss: 0.2312\n",
            "Epoch 96/100\n",
            "59/59 [==============================] - 0s 2ms/step - loss: 0.1681 - val_loss: 0.2294\n",
            "Epoch 97/100\n",
            "59/59 [==============================] - 0s 2ms/step - loss: 0.1754 - val_loss: 0.2296\n",
            "Epoch 98/100\n",
            "59/59 [==============================] - 0s 2ms/step - loss: 0.1719 - val_loss: 0.2289\n",
            "Epoch 99/100\n",
            "59/59 [==============================] - 0s 2ms/step - loss: 0.1753 - val_loss: 0.2328\n",
            "Epoch 100/100\n",
            "59/59 [==============================] - 0s 2ms/step - loss: 0.1712 - val_loss: 0.2292\n"
          ],
          "name": "stdout"
        }
      ]
    },
    {
      "cell_type": "code",
      "metadata": {
        "id": "42a00945",
        "outputId": "34eabeb0-1ef4-423a-bc92-d775f8edb3e2"
      },
      "source": [
        "fig = go.Figure(layout = dict(title=\"Loss\"))\n",
        "fig.add_trace(go.Scatter(x=list(range(len(history.history[\"loss\"]))),y=history.history[\"loss\"], name=\"loss\"))\n",
        "fig.add_trace(go.Scatter(x=list(range(len(history.history[\"loss\"]))),y=history.history[\"val_loss\"], name=\"val_loss\"))\n",
        "fig.show()"
      ],
      "id": "42a00945",
      "execution_count": null,
      "outputs": [
        {
          "output_type": "display_data",
          "data": {
            "application/vnd.plotly.v1+json": {
              "config": {
                "plotlyServerURL": "https://plot.ly"
              },
              "data": [
                {
                  "name": "loss",
                  "type": "scatter",
                  "x": [
                    0,
                    1,
                    2,
                    3,
                    4,
                    5,
                    6,
                    7,
                    8,
                    9,
                    10,
                    11,
                    12,
                    13,
                    14,
                    15,
                    16,
                    17,
                    18,
                    19,
                    20,
                    21,
                    22,
                    23,
                    24,
                    25,
                    26,
                    27,
                    28,
                    29,
                    30,
                    31,
                    32,
                    33,
                    34,
                    35,
                    36,
                    37,
                    38,
                    39,
                    40,
                    41,
                    42,
                    43,
                    44,
                    45,
                    46,
                    47,
                    48,
                    49,
                    50,
                    51,
                    52,
                    53,
                    54,
                    55,
                    56,
                    57,
                    58,
                    59,
                    60,
                    61,
                    62,
                    63,
                    64,
                    65,
                    66,
                    67,
                    68,
                    69,
                    70,
                    71,
                    72,
                    73,
                    74,
                    75,
                    76,
                    77,
                    78,
                    79,
                    80,
                    81,
                    82,
                    83,
                    84,
                    85,
                    86,
                    87,
                    88,
                    89,
                    90,
                    91,
                    92,
                    93,
                    94,
                    95,
                    96,
                    97,
                    98,
                    99
                  ],
                  "y": [
                    1.0523426532745361,
                    0.9123361110687256,
                    0.8182591795921326,
                    0.7355549335479736,
                    0.6650605201721191,
                    0.6040102243423462,
                    0.5500843524932861,
                    0.5053281188011169,
                    0.4675794839859009,
                    0.43582338094711304,
                    0.4102840721607208,
                    0.38876399397850037,
                    0.3710828125476837,
                    0.35671454668045044,
                    0.3449794054031372,
                    0.33345115184783936,
                    0.325586199760437,
                    0.31688469648361206,
                    0.30925461649894714,
                    0.3028525114059448,
                    0.2969367802143097,
                    0.2906031906604767,
                    0.2856498062610626,
                    0.2796042263507843,
                    0.2757527530193329,
                    0.27078238129615784,
                    0.2661679983139038,
                    0.2617828845977783,
                    0.257891982793808,
                    0.25484660267829895,
                    0.2507670223712921,
                    0.2473054975271225,
                    0.2443583607673645,
                    0.24076783657073975,
                    0.23751920461654663,
                    0.23545297980308533,
                    0.23252619802951813,
                    0.23052926361560822,
                    0.22720296680927277,
                    0.22552156448364258,
                    0.22399908304214478,
                    0.22302547097206116,
                    0.22052493691444397,
                    0.21937958896160126,
                    0.2175518423318863,
                    0.21654129028320312,
                    0.21513259410858154,
                    0.2145761400461197,
                    0.21171191334724426,
                    0.21153169870376587,
                    0.21015526354312897,
                    0.20907458662986755,
                    0.20859621465206146,
                    0.20668570697307587,
                    0.2065320760011673,
                    0.20504672825336456,
                    0.20361988246440887,
                    0.20201733708381653,
                    0.20163601636886597,
                    0.20049965381622314,
                    0.2003234326839447,
                    0.19823084771633148,
                    0.19783030450344086,
                    0.19597384333610535,
                    0.19613607227802277,
                    0.19521977007389069,
                    0.19451239705085754,
                    0.19360768795013428,
                    0.19285255670547485,
                    0.19191762804985046,
                    0.19122987985610962,
                    0.18943960964679718,
                    0.18939843773841858,
                    0.18844465911388397,
                    0.18761277198791504,
                    0.18653318285942078,
                    0.18625593185424805,
                    0.18561749160289764,
                    0.18448103964328766,
                    0.1843196004629135,
                    0.1840633898973465,
                    0.1836348921060562,
                    0.18271368741989136,
                    0.18137405812740326,
                    0.1815922111272812,
                    0.17983326315879822,
                    0.17937318980693817,
                    0.17879396677017212,
                    0.17791728675365448,
                    0.17740541696548462,
                    0.17726266384124756,
                    0.17639493942260742,
                    0.1764259785413742,
                    0.1752736121416092,
                    0.17617180943489075,
                    0.1744205355644226,
                    0.17416436970233917,
                    0.17280568182468414,
                    0.17229053378105164,
                    0.17231322824954987
                  ]
                },
                {
                  "name": "val_loss",
                  "type": "scatter",
                  "x": [
                    0,
                    1,
                    2,
                    3,
                    4,
                    5,
                    6,
                    7,
                    8,
                    9,
                    10,
                    11,
                    12,
                    13,
                    14,
                    15,
                    16,
                    17,
                    18,
                    19,
                    20,
                    21,
                    22,
                    23,
                    24,
                    25,
                    26,
                    27,
                    28,
                    29,
                    30,
                    31,
                    32,
                    33,
                    34,
                    35,
                    36,
                    37,
                    38,
                    39,
                    40,
                    41,
                    42,
                    43,
                    44,
                    45,
                    46,
                    47,
                    48,
                    49,
                    50,
                    51,
                    52,
                    53,
                    54,
                    55,
                    56,
                    57,
                    58,
                    59,
                    60,
                    61,
                    62,
                    63,
                    64,
                    65,
                    66,
                    67,
                    68,
                    69,
                    70,
                    71,
                    72,
                    73,
                    74,
                    75,
                    76,
                    77,
                    78,
                    79,
                    80,
                    81,
                    82,
                    83,
                    84,
                    85,
                    86,
                    87,
                    88,
                    89,
                    90,
                    91,
                    92,
                    93,
                    94,
                    95,
                    96,
                    97,
                    98,
                    99
                  ],
                  "y": [
                    0.9664623141288757,
                    0.8608242869377136,
                    0.7746526598930359,
                    0.699634313583374,
                    0.6357058882713318,
                    0.5797595977783203,
                    0.5326631665229797,
                    0.494216650724411,
                    0.46196532249450684,
                    0.4341162145137787,
                    0.4146563410758972,
                    0.39669010043144226,
                    0.38285160064697266,
                    0.3705962300300598,
                    0.3579041361808777,
                    0.35082581639289856,
                    0.34098467230796814,
                    0.33489885926246643,
                    0.3296889066696167,
                    0.3207208812236786,
                    0.31506362557411194,
                    0.3087090849876404,
                    0.3065264821052551,
                    0.3028411567211151,
                    0.29638680815696716,
                    0.29174143075942993,
                    0.28822845220565796,
                    0.2858290672302246,
                    0.28300079703330994,
                    0.27809232473373413,
                    0.27523428201675415,
                    0.2710755467414856,
                    0.26884180307388306,
                    0.26739370822906494,
                    0.2647120952606201,
                    0.2626173198223114,
                    0.26495686173439026,
                    0.259197473526001,
                    0.2579670250415802,
                    0.25722041726112366,
                    0.25561732053756714,
                    0.25696200132369995,
                    0.25260239839553833,
                    0.2513324022293091,
                    0.2535662055015564,
                    0.2514647841453552,
                    0.24969957768917084,
                    0.25023356080055237,
                    0.24789275228977203,
                    0.24758119881153107,
                    0.25080299377441406,
                    0.24412168562412262,
                    0.24558071792125702,
                    0.2439957559108734,
                    0.24555934965610504,
                    0.24299085140228271,
                    0.24243856966495514,
                    0.24091015756130219,
                    0.2419309765100479,
                    0.24204838275909424,
                    0.23875261843204498,
                    0.24155732989311218,
                    0.23913505673408508,
                    0.2383216768503189,
                    0.24038685858249664,
                    0.23814985156059265,
                    0.23915718495845795,
                    0.23644745349884033,
                    0.23795859515666962,
                    0.23686997592449188,
                    0.238501638174057,
                    0.23811618983745575,
                    0.2385593056678772,
                    0.23679326474666595,
                    0.23958894610404968,
                    0.23433808982372284,
                    0.2388617992401123,
                    0.2354087084531784,
                    0.2332230508327484,
                    0.23433862626552582,
                    0.23404282331466675,
                    0.23281416296958923,
                    0.23703454434871674,
                    0.23248915374279022,
                    0.23339472711086273,
                    0.23282741010189056,
                    0.23384667932987213,
                    0.23132166266441345,
                    0.23224259912967682,
                    0.2309231162071228,
                    0.2339625507593155,
                    0.2307845503091812,
                    0.230589359998703,
                    0.22939462959766388,
                    0.23123762011528015,
                    0.22935080528259277,
                    0.2295677661895752,
                    0.22894252836704254,
                    0.23278900980949402,
                    0.2291988730430603
                  ]
                }
              ],
              "layout": {
                "template": {
                  "data": {
                    "bar": [
                      {
                        "error_x": {
                          "color": "#2a3f5f"
                        },
                        "error_y": {
                          "color": "#2a3f5f"
                        },
                        "marker": {
                          "line": {
                            "color": "#E5ECF6",
                            "width": 0.5
                          }
                        },
                        "type": "bar"
                      }
                    ],
                    "barpolar": [
                      {
                        "marker": {
                          "line": {
                            "color": "#E5ECF6",
                            "width": 0.5
                          }
                        },
                        "type": "barpolar"
                      }
                    ],
                    "carpet": [
                      {
                        "aaxis": {
                          "endlinecolor": "#2a3f5f",
                          "gridcolor": "white",
                          "linecolor": "white",
                          "minorgridcolor": "white",
                          "startlinecolor": "#2a3f5f"
                        },
                        "baxis": {
                          "endlinecolor": "#2a3f5f",
                          "gridcolor": "white",
                          "linecolor": "white",
                          "minorgridcolor": "white",
                          "startlinecolor": "#2a3f5f"
                        },
                        "type": "carpet"
                      }
                    ],
                    "choropleth": [
                      {
                        "colorbar": {
                          "outlinewidth": 0,
                          "ticks": ""
                        },
                        "type": "choropleth"
                      }
                    ],
                    "contour": [
                      {
                        "colorbar": {
                          "outlinewidth": 0,
                          "ticks": ""
                        },
                        "colorscale": [
                          [
                            0,
                            "#0d0887"
                          ],
                          [
                            0.1111111111111111,
                            "#46039f"
                          ],
                          [
                            0.2222222222222222,
                            "#7201a8"
                          ],
                          [
                            0.3333333333333333,
                            "#9c179e"
                          ],
                          [
                            0.4444444444444444,
                            "#bd3786"
                          ],
                          [
                            0.5555555555555556,
                            "#d8576b"
                          ],
                          [
                            0.6666666666666666,
                            "#ed7953"
                          ],
                          [
                            0.7777777777777778,
                            "#fb9f3a"
                          ],
                          [
                            0.8888888888888888,
                            "#fdca26"
                          ],
                          [
                            1,
                            "#f0f921"
                          ]
                        ],
                        "type": "contour"
                      }
                    ],
                    "contourcarpet": [
                      {
                        "colorbar": {
                          "outlinewidth": 0,
                          "ticks": ""
                        },
                        "type": "contourcarpet"
                      }
                    ],
                    "heatmap": [
                      {
                        "colorbar": {
                          "outlinewidth": 0,
                          "ticks": ""
                        },
                        "colorscale": [
                          [
                            0,
                            "#0d0887"
                          ],
                          [
                            0.1111111111111111,
                            "#46039f"
                          ],
                          [
                            0.2222222222222222,
                            "#7201a8"
                          ],
                          [
                            0.3333333333333333,
                            "#9c179e"
                          ],
                          [
                            0.4444444444444444,
                            "#bd3786"
                          ],
                          [
                            0.5555555555555556,
                            "#d8576b"
                          ],
                          [
                            0.6666666666666666,
                            "#ed7953"
                          ],
                          [
                            0.7777777777777778,
                            "#fb9f3a"
                          ],
                          [
                            0.8888888888888888,
                            "#fdca26"
                          ],
                          [
                            1,
                            "#f0f921"
                          ]
                        ],
                        "type": "heatmap"
                      }
                    ],
                    "heatmapgl": [
                      {
                        "colorbar": {
                          "outlinewidth": 0,
                          "ticks": ""
                        },
                        "colorscale": [
                          [
                            0,
                            "#0d0887"
                          ],
                          [
                            0.1111111111111111,
                            "#46039f"
                          ],
                          [
                            0.2222222222222222,
                            "#7201a8"
                          ],
                          [
                            0.3333333333333333,
                            "#9c179e"
                          ],
                          [
                            0.4444444444444444,
                            "#bd3786"
                          ],
                          [
                            0.5555555555555556,
                            "#d8576b"
                          ],
                          [
                            0.6666666666666666,
                            "#ed7953"
                          ],
                          [
                            0.7777777777777778,
                            "#fb9f3a"
                          ],
                          [
                            0.8888888888888888,
                            "#fdca26"
                          ],
                          [
                            1,
                            "#f0f921"
                          ]
                        ],
                        "type": "heatmapgl"
                      }
                    ],
                    "histogram": [
                      {
                        "marker": {
                          "colorbar": {
                            "outlinewidth": 0,
                            "ticks": ""
                          }
                        },
                        "type": "histogram"
                      }
                    ],
                    "histogram2d": [
                      {
                        "colorbar": {
                          "outlinewidth": 0,
                          "ticks": ""
                        },
                        "colorscale": [
                          [
                            0,
                            "#0d0887"
                          ],
                          [
                            0.1111111111111111,
                            "#46039f"
                          ],
                          [
                            0.2222222222222222,
                            "#7201a8"
                          ],
                          [
                            0.3333333333333333,
                            "#9c179e"
                          ],
                          [
                            0.4444444444444444,
                            "#bd3786"
                          ],
                          [
                            0.5555555555555556,
                            "#d8576b"
                          ],
                          [
                            0.6666666666666666,
                            "#ed7953"
                          ],
                          [
                            0.7777777777777778,
                            "#fb9f3a"
                          ],
                          [
                            0.8888888888888888,
                            "#fdca26"
                          ],
                          [
                            1,
                            "#f0f921"
                          ]
                        ],
                        "type": "histogram2d"
                      }
                    ],
                    "histogram2dcontour": [
                      {
                        "colorbar": {
                          "outlinewidth": 0,
                          "ticks": ""
                        },
                        "colorscale": [
                          [
                            0,
                            "#0d0887"
                          ],
                          [
                            0.1111111111111111,
                            "#46039f"
                          ],
                          [
                            0.2222222222222222,
                            "#7201a8"
                          ],
                          [
                            0.3333333333333333,
                            "#9c179e"
                          ],
                          [
                            0.4444444444444444,
                            "#bd3786"
                          ],
                          [
                            0.5555555555555556,
                            "#d8576b"
                          ],
                          [
                            0.6666666666666666,
                            "#ed7953"
                          ],
                          [
                            0.7777777777777778,
                            "#fb9f3a"
                          ],
                          [
                            0.8888888888888888,
                            "#fdca26"
                          ],
                          [
                            1,
                            "#f0f921"
                          ]
                        ],
                        "type": "histogram2dcontour"
                      }
                    ],
                    "mesh3d": [
                      {
                        "colorbar": {
                          "outlinewidth": 0,
                          "ticks": ""
                        },
                        "type": "mesh3d"
                      }
                    ],
                    "parcoords": [
                      {
                        "line": {
                          "colorbar": {
                            "outlinewidth": 0,
                            "ticks": ""
                          }
                        },
                        "type": "parcoords"
                      }
                    ],
                    "pie": [
                      {
                        "automargin": true,
                        "type": "pie"
                      }
                    ],
                    "scatter": [
                      {
                        "marker": {
                          "colorbar": {
                            "outlinewidth": 0,
                            "ticks": ""
                          }
                        },
                        "type": "scatter"
                      }
                    ],
                    "scatter3d": [
                      {
                        "line": {
                          "colorbar": {
                            "outlinewidth": 0,
                            "ticks": ""
                          }
                        },
                        "marker": {
                          "colorbar": {
                            "outlinewidth": 0,
                            "ticks": ""
                          }
                        },
                        "type": "scatter3d"
                      }
                    ],
                    "scattercarpet": [
                      {
                        "marker": {
                          "colorbar": {
                            "outlinewidth": 0,
                            "ticks": ""
                          }
                        },
                        "type": "scattercarpet"
                      }
                    ],
                    "scattergeo": [
                      {
                        "marker": {
                          "colorbar": {
                            "outlinewidth": 0,
                            "ticks": ""
                          }
                        },
                        "type": "scattergeo"
                      }
                    ],
                    "scattergl": [
                      {
                        "marker": {
                          "colorbar": {
                            "outlinewidth": 0,
                            "ticks": ""
                          }
                        },
                        "type": "scattergl"
                      }
                    ],
                    "scattermapbox": [
                      {
                        "marker": {
                          "colorbar": {
                            "outlinewidth": 0,
                            "ticks": ""
                          }
                        },
                        "type": "scattermapbox"
                      }
                    ],
                    "scatterpolar": [
                      {
                        "marker": {
                          "colorbar": {
                            "outlinewidth": 0,
                            "ticks": ""
                          }
                        },
                        "type": "scatterpolar"
                      }
                    ],
                    "scatterpolargl": [
                      {
                        "marker": {
                          "colorbar": {
                            "outlinewidth": 0,
                            "ticks": ""
                          }
                        },
                        "type": "scatterpolargl"
                      }
                    ],
                    "scatterternary": [
                      {
                        "marker": {
                          "colorbar": {
                            "outlinewidth": 0,
                            "ticks": ""
                          }
                        },
                        "type": "scatterternary"
                      }
                    ],
                    "surface": [
                      {
                        "colorbar": {
                          "outlinewidth": 0,
                          "ticks": ""
                        },
                        "colorscale": [
                          [
                            0,
                            "#0d0887"
                          ],
                          [
                            0.1111111111111111,
                            "#46039f"
                          ],
                          [
                            0.2222222222222222,
                            "#7201a8"
                          ],
                          [
                            0.3333333333333333,
                            "#9c179e"
                          ],
                          [
                            0.4444444444444444,
                            "#bd3786"
                          ],
                          [
                            0.5555555555555556,
                            "#d8576b"
                          ],
                          [
                            0.6666666666666666,
                            "#ed7953"
                          ],
                          [
                            0.7777777777777778,
                            "#fb9f3a"
                          ],
                          [
                            0.8888888888888888,
                            "#fdca26"
                          ],
                          [
                            1,
                            "#f0f921"
                          ]
                        ],
                        "type": "surface"
                      }
                    ],
                    "table": [
                      {
                        "cells": {
                          "fill": {
                            "color": "#EBF0F8"
                          },
                          "line": {
                            "color": "white"
                          }
                        },
                        "header": {
                          "fill": {
                            "color": "#C8D4E3"
                          },
                          "line": {
                            "color": "white"
                          }
                        },
                        "type": "table"
                      }
                    ]
                  },
                  "layout": {
                    "annotationdefaults": {
                      "arrowcolor": "#2a3f5f",
                      "arrowhead": 0,
                      "arrowwidth": 1
                    },
                    "autotypenumbers": "strict",
                    "coloraxis": {
                      "colorbar": {
                        "outlinewidth": 0,
                        "ticks": ""
                      }
                    },
                    "colorscale": {
                      "diverging": [
                        [
                          0,
                          "#8e0152"
                        ],
                        [
                          0.1,
                          "#c51b7d"
                        ],
                        [
                          0.2,
                          "#de77ae"
                        ],
                        [
                          0.3,
                          "#f1b6da"
                        ],
                        [
                          0.4,
                          "#fde0ef"
                        ],
                        [
                          0.5,
                          "#f7f7f7"
                        ],
                        [
                          0.6,
                          "#e6f5d0"
                        ],
                        [
                          0.7,
                          "#b8e186"
                        ],
                        [
                          0.8,
                          "#7fbc41"
                        ],
                        [
                          0.9,
                          "#4d9221"
                        ],
                        [
                          1,
                          "#276419"
                        ]
                      ],
                      "sequential": [
                        [
                          0,
                          "#0d0887"
                        ],
                        [
                          0.1111111111111111,
                          "#46039f"
                        ],
                        [
                          0.2222222222222222,
                          "#7201a8"
                        ],
                        [
                          0.3333333333333333,
                          "#9c179e"
                        ],
                        [
                          0.4444444444444444,
                          "#bd3786"
                        ],
                        [
                          0.5555555555555556,
                          "#d8576b"
                        ],
                        [
                          0.6666666666666666,
                          "#ed7953"
                        ],
                        [
                          0.7777777777777778,
                          "#fb9f3a"
                        ],
                        [
                          0.8888888888888888,
                          "#fdca26"
                        ],
                        [
                          1,
                          "#f0f921"
                        ]
                      ],
                      "sequentialminus": [
                        [
                          0,
                          "#0d0887"
                        ],
                        [
                          0.1111111111111111,
                          "#46039f"
                        ],
                        [
                          0.2222222222222222,
                          "#7201a8"
                        ],
                        [
                          0.3333333333333333,
                          "#9c179e"
                        ],
                        [
                          0.4444444444444444,
                          "#bd3786"
                        ],
                        [
                          0.5555555555555556,
                          "#d8576b"
                        ],
                        [
                          0.6666666666666666,
                          "#ed7953"
                        ],
                        [
                          0.7777777777777778,
                          "#fb9f3a"
                        ],
                        [
                          0.8888888888888888,
                          "#fdca26"
                        ],
                        [
                          1,
                          "#f0f921"
                        ]
                      ]
                    },
                    "colorway": [
                      "#636efa",
                      "#EF553B",
                      "#00cc96",
                      "#ab63fa",
                      "#FFA15A",
                      "#19d3f3",
                      "#FF6692",
                      "#B6E880",
                      "#FF97FF",
                      "#FECB52"
                    ],
                    "font": {
                      "color": "#2a3f5f"
                    },
                    "geo": {
                      "bgcolor": "white",
                      "lakecolor": "white",
                      "landcolor": "#E5ECF6",
                      "showlakes": true,
                      "showland": true,
                      "subunitcolor": "white"
                    },
                    "hoverlabel": {
                      "align": "left"
                    },
                    "hovermode": "closest",
                    "mapbox": {
                      "style": "light"
                    },
                    "paper_bgcolor": "white",
                    "plot_bgcolor": "#E5ECF6",
                    "polar": {
                      "angularaxis": {
                        "gridcolor": "white",
                        "linecolor": "white",
                        "ticks": ""
                      },
                      "bgcolor": "#E5ECF6",
                      "radialaxis": {
                        "gridcolor": "white",
                        "linecolor": "white",
                        "ticks": ""
                      }
                    },
                    "scene": {
                      "xaxis": {
                        "backgroundcolor": "#E5ECF6",
                        "gridcolor": "white",
                        "gridwidth": 2,
                        "linecolor": "white",
                        "showbackground": true,
                        "ticks": "",
                        "zerolinecolor": "white"
                      },
                      "yaxis": {
                        "backgroundcolor": "#E5ECF6",
                        "gridcolor": "white",
                        "gridwidth": 2,
                        "linecolor": "white",
                        "showbackground": true,
                        "ticks": "",
                        "zerolinecolor": "white"
                      },
                      "zaxis": {
                        "backgroundcolor": "#E5ECF6",
                        "gridcolor": "white",
                        "gridwidth": 2,
                        "linecolor": "white",
                        "showbackground": true,
                        "ticks": "",
                        "zerolinecolor": "white"
                      }
                    },
                    "shapedefaults": {
                      "line": {
                        "color": "#2a3f5f"
                      }
                    },
                    "ternary": {
                      "aaxis": {
                        "gridcolor": "white",
                        "linecolor": "white",
                        "ticks": ""
                      },
                      "baxis": {
                        "gridcolor": "white",
                        "linecolor": "white",
                        "ticks": ""
                      },
                      "bgcolor": "#E5ECF6",
                      "caxis": {
                        "gridcolor": "white",
                        "linecolor": "white",
                        "ticks": ""
                      }
                    },
                    "title": {
                      "x": 0.05
                    },
                    "xaxis": {
                      "automargin": true,
                      "gridcolor": "white",
                      "linecolor": "white",
                      "ticks": "",
                      "title": {
                        "standoff": 15
                      },
                      "zerolinecolor": "white",
                      "zerolinewidth": 2
                    },
                    "yaxis": {
                      "automargin": true,
                      "gridcolor": "white",
                      "linecolor": "white",
                      "ticks": "",
                      "title": {
                        "standoff": 15
                      },
                      "zerolinecolor": "white",
                      "zerolinewidth": 2
                    }
                  }
                },
                "title": {
                  "text": "Loss"
                }
              }
            },
            "text/html": [
              "<div>                            <div id=\"7442c57f-3247-4486-b860-ac045fc8af8d\" class=\"plotly-graph-div\" style=\"height:525px; width:100%;\"></div>            <script type=\"text/javascript\">                require([\"plotly\"], function(Plotly) {                    window.PLOTLYENV=window.PLOTLYENV || {};                                    if (document.getElementById(\"7442c57f-3247-4486-b860-ac045fc8af8d\")) {                    Plotly.newPlot(                        \"7442c57f-3247-4486-b860-ac045fc8af8d\",                        [{\"name\": \"loss\", \"type\": \"scatter\", \"x\": [0, 1, 2, 3, 4, 5, 6, 7, 8, 9, 10, 11, 12, 13, 14, 15, 16, 17, 18, 19, 20, 21, 22, 23, 24, 25, 26, 27, 28, 29, 30, 31, 32, 33, 34, 35, 36, 37, 38, 39, 40, 41, 42, 43, 44, 45, 46, 47, 48, 49, 50, 51, 52, 53, 54, 55, 56, 57, 58, 59, 60, 61, 62, 63, 64, 65, 66, 67, 68, 69, 70, 71, 72, 73, 74, 75, 76, 77, 78, 79, 80, 81, 82, 83, 84, 85, 86, 87, 88, 89, 90, 91, 92, 93, 94, 95, 96, 97, 98, 99], \"y\": [1.0523426532745361, 0.9123361110687256, 0.8182591795921326, 0.7355549335479736, 0.6650605201721191, 0.6040102243423462, 0.5500843524932861, 0.5053281188011169, 0.4675794839859009, 0.43582338094711304, 0.4102840721607208, 0.38876399397850037, 0.3710828125476837, 0.35671454668045044, 0.3449794054031372, 0.33345115184783936, 0.325586199760437, 0.31688469648361206, 0.30925461649894714, 0.3028525114059448, 0.2969367802143097, 0.2906031906604767, 0.2856498062610626, 0.2796042263507843, 0.2757527530193329, 0.27078238129615784, 0.2661679983139038, 0.2617828845977783, 0.257891982793808, 0.25484660267829895, 0.2507670223712921, 0.2473054975271225, 0.2443583607673645, 0.24076783657073975, 0.23751920461654663, 0.23545297980308533, 0.23252619802951813, 0.23052926361560822, 0.22720296680927277, 0.22552156448364258, 0.22399908304214478, 0.22302547097206116, 0.22052493691444397, 0.21937958896160126, 0.2175518423318863, 0.21654129028320312, 0.21513259410858154, 0.2145761400461197, 0.21171191334724426, 0.21153169870376587, 0.21015526354312897, 0.20907458662986755, 0.20859621465206146, 0.20668570697307587, 0.2065320760011673, 0.20504672825336456, 0.20361988246440887, 0.20201733708381653, 0.20163601636886597, 0.20049965381622314, 0.2003234326839447, 0.19823084771633148, 0.19783030450344086, 0.19597384333610535, 0.19613607227802277, 0.19521977007389069, 0.19451239705085754, 0.19360768795013428, 0.19285255670547485, 0.19191762804985046, 0.19122987985610962, 0.18943960964679718, 0.18939843773841858, 0.18844465911388397, 0.18761277198791504, 0.18653318285942078, 0.18625593185424805, 0.18561749160289764, 0.18448103964328766, 0.1843196004629135, 0.1840633898973465, 0.1836348921060562, 0.18271368741989136, 0.18137405812740326, 0.1815922111272812, 0.17983326315879822, 0.17937318980693817, 0.17879396677017212, 0.17791728675365448, 0.17740541696548462, 0.17726266384124756, 0.17639493942260742, 0.1764259785413742, 0.1752736121416092, 0.17617180943489075, 0.1744205355644226, 0.17416436970233917, 0.17280568182468414, 0.17229053378105164, 0.17231322824954987]}, {\"name\": \"val_loss\", \"type\": \"scatter\", \"x\": [0, 1, 2, 3, 4, 5, 6, 7, 8, 9, 10, 11, 12, 13, 14, 15, 16, 17, 18, 19, 20, 21, 22, 23, 24, 25, 26, 27, 28, 29, 30, 31, 32, 33, 34, 35, 36, 37, 38, 39, 40, 41, 42, 43, 44, 45, 46, 47, 48, 49, 50, 51, 52, 53, 54, 55, 56, 57, 58, 59, 60, 61, 62, 63, 64, 65, 66, 67, 68, 69, 70, 71, 72, 73, 74, 75, 76, 77, 78, 79, 80, 81, 82, 83, 84, 85, 86, 87, 88, 89, 90, 91, 92, 93, 94, 95, 96, 97, 98, 99], \"y\": [0.9664623141288757, 0.8608242869377136, 0.7746526598930359, 0.699634313583374, 0.6357058882713318, 0.5797595977783203, 0.5326631665229797, 0.494216650724411, 0.46196532249450684, 0.4341162145137787, 0.4146563410758972, 0.39669010043144226, 0.38285160064697266, 0.3705962300300598, 0.3579041361808777, 0.35082581639289856, 0.34098467230796814, 0.33489885926246643, 0.3296889066696167, 0.3207208812236786, 0.31506362557411194, 0.3087090849876404, 0.3065264821052551, 0.3028411567211151, 0.29638680815696716, 0.29174143075942993, 0.28822845220565796, 0.2858290672302246, 0.28300079703330994, 0.27809232473373413, 0.27523428201675415, 0.2710755467414856, 0.26884180307388306, 0.26739370822906494, 0.2647120952606201, 0.2626173198223114, 0.26495686173439026, 0.259197473526001, 0.2579670250415802, 0.25722041726112366, 0.25561732053756714, 0.25696200132369995, 0.25260239839553833, 0.2513324022293091, 0.2535662055015564, 0.2514647841453552, 0.24969957768917084, 0.25023356080055237, 0.24789275228977203, 0.24758119881153107, 0.25080299377441406, 0.24412168562412262, 0.24558071792125702, 0.2439957559108734, 0.24555934965610504, 0.24299085140228271, 0.24243856966495514, 0.24091015756130219, 0.2419309765100479, 0.24204838275909424, 0.23875261843204498, 0.24155732989311218, 0.23913505673408508, 0.2383216768503189, 0.24038685858249664, 0.23814985156059265, 0.23915718495845795, 0.23644745349884033, 0.23795859515666962, 0.23686997592449188, 0.238501638174057, 0.23811618983745575, 0.2385593056678772, 0.23679326474666595, 0.23958894610404968, 0.23433808982372284, 0.2388617992401123, 0.2354087084531784, 0.2332230508327484, 0.23433862626552582, 0.23404282331466675, 0.23281416296958923, 0.23703454434871674, 0.23248915374279022, 0.23339472711086273, 0.23282741010189056, 0.23384667932987213, 0.23132166266441345, 0.23224259912967682, 0.2309231162071228, 0.2339625507593155, 0.2307845503091812, 0.230589359998703, 0.22939462959766388, 0.23123762011528015, 0.22935080528259277, 0.2295677661895752, 0.22894252836704254, 0.23278900980949402, 0.2291988730430603]}],                        {\"template\": {\"data\": {\"bar\": [{\"error_x\": {\"color\": \"#2a3f5f\"}, \"error_y\": {\"color\": \"#2a3f5f\"}, \"marker\": {\"line\": {\"color\": \"#E5ECF6\", \"width\": 0.5}}, \"type\": \"bar\"}], \"barpolar\": [{\"marker\": {\"line\": {\"color\": \"#E5ECF6\", \"width\": 0.5}}, \"type\": \"barpolar\"}], \"carpet\": [{\"aaxis\": {\"endlinecolor\": \"#2a3f5f\", \"gridcolor\": \"white\", \"linecolor\": \"white\", \"minorgridcolor\": \"white\", \"startlinecolor\": \"#2a3f5f\"}, \"baxis\": {\"endlinecolor\": \"#2a3f5f\", \"gridcolor\": \"white\", \"linecolor\": \"white\", \"minorgridcolor\": \"white\", \"startlinecolor\": \"#2a3f5f\"}, \"type\": \"carpet\"}], \"choropleth\": [{\"colorbar\": {\"outlinewidth\": 0, \"ticks\": \"\"}, \"type\": \"choropleth\"}], \"contour\": [{\"colorbar\": {\"outlinewidth\": 0, \"ticks\": \"\"}, \"colorscale\": [[0.0, \"#0d0887\"], [0.1111111111111111, \"#46039f\"], [0.2222222222222222, \"#7201a8\"], [0.3333333333333333, \"#9c179e\"], [0.4444444444444444, \"#bd3786\"], [0.5555555555555556, \"#d8576b\"], [0.6666666666666666, \"#ed7953\"], [0.7777777777777778, \"#fb9f3a\"], [0.8888888888888888, \"#fdca26\"], [1.0, \"#f0f921\"]], \"type\": \"contour\"}], \"contourcarpet\": [{\"colorbar\": {\"outlinewidth\": 0, \"ticks\": \"\"}, \"type\": \"contourcarpet\"}], \"heatmap\": [{\"colorbar\": {\"outlinewidth\": 0, \"ticks\": \"\"}, \"colorscale\": [[0.0, \"#0d0887\"], [0.1111111111111111, \"#46039f\"], [0.2222222222222222, \"#7201a8\"], [0.3333333333333333, \"#9c179e\"], [0.4444444444444444, \"#bd3786\"], [0.5555555555555556, \"#d8576b\"], [0.6666666666666666, \"#ed7953\"], [0.7777777777777778, \"#fb9f3a\"], [0.8888888888888888, \"#fdca26\"], [1.0, \"#f0f921\"]], \"type\": \"heatmap\"}], \"heatmapgl\": [{\"colorbar\": {\"outlinewidth\": 0, \"ticks\": \"\"}, \"colorscale\": [[0.0, \"#0d0887\"], [0.1111111111111111, \"#46039f\"], [0.2222222222222222, \"#7201a8\"], [0.3333333333333333, \"#9c179e\"], [0.4444444444444444, \"#bd3786\"], [0.5555555555555556, \"#d8576b\"], [0.6666666666666666, \"#ed7953\"], [0.7777777777777778, \"#fb9f3a\"], [0.8888888888888888, \"#fdca26\"], [1.0, \"#f0f921\"]], \"type\": \"heatmapgl\"}], \"histogram\": [{\"marker\": {\"colorbar\": {\"outlinewidth\": 0, \"ticks\": \"\"}}, \"type\": \"histogram\"}], \"histogram2d\": [{\"colorbar\": {\"outlinewidth\": 0, \"ticks\": \"\"}, \"colorscale\": [[0.0, \"#0d0887\"], [0.1111111111111111, \"#46039f\"], [0.2222222222222222, \"#7201a8\"], [0.3333333333333333, \"#9c179e\"], [0.4444444444444444, \"#bd3786\"], [0.5555555555555556, \"#d8576b\"], [0.6666666666666666, \"#ed7953\"], [0.7777777777777778, \"#fb9f3a\"], [0.8888888888888888, \"#fdca26\"], [1.0, \"#f0f921\"]], \"type\": \"histogram2d\"}], \"histogram2dcontour\": [{\"colorbar\": {\"outlinewidth\": 0, \"ticks\": \"\"}, \"colorscale\": [[0.0, \"#0d0887\"], [0.1111111111111111, \"#46039f\"], [0.2222222222222222, \"#7201a8\"], [0.3333333333333333, \"#9c179e\"], [0.4444444444444444, \"#bd3786\"], [0.5555555555555556, \"#d8576b\"], [0.6666666666666666, \"#ed7953\"], [0.7777777777777778, \"#fb9f3a\"], [0.8888888888888888, \"#fdca26\"], [1.0, \"#f0f921\"]], \"type\": \"histogram2dcontour\"}], \"mesh3d\": [{\"colorbar\": {\"outlinewidth\": 0, \"ticks\": \"\"}, \"type\": \"mesh3d\"}], \"parcoords\": [{\"line\": {\"colorbar\": {\"outlinewidth\": 0, \"ticks\": \"\"}}, \"type\": \"parcoords\"}], \"pie\": [{\"automargin\": true, \"type\": \"pie\"}], \"scatter\": [{\"marker\": {\"colorbar\": {\"outlinewidth\": 0, \"ticks\": \"\"}}, \"type\": \"scatter\"}], \"scatter3d\": [{\"line\": {\"colorbar\": {\"outlinewidth\": 0, \"ticks\": \"\"}}, \"marker\": {\"colorbar\": {\"outlinewidth\": 0, \"ticks\": \"\"}}, \"type\": \"scatter3d\"}], \"scattercarpet\": [{\"marker\": {\"colorbar\": {\"outlinewidth\": 0, \"ticks\": \"\"}}, \"type\": \"scattercarpet\"}], \"scattergeo\": [{\"marker\": {\"colorbar\": {\"outlinewidth\": 0, \"ticks\": \"\"}}, \"type\": \"scattergeo\"}], \"scattergl\": [{\"marker\": {\"colorbar\": {\"outlinewidth\": 0, \"ticks\": \"\"}}, \"type\": \"scattergl\"}], \"scattermapbox\": [{\"marker\": {\"colorbar\": {\"outlinewidth\": 0, \"ticks\": \"\"}}, \"type\": \"scattermapbox\"}], \"scatterpolar\": [{\"marker\": {\"colorbar\": {\"outlinewidth\": 0, \"ticks\": \"\"}}, \"type\": \"scatterpolar\"}], \"scatterpolargl\": [{\"marker\": {\"colorbar\": {\"outlinewidth\": 0, \"ticks\": \"\"}}, \"type\": \"scatterpolargl\"}], \"scatterternary\": [{\"marker\": {\"colorbar\": {\"outlinewidth\": 0, \"ticks\": \"\"}}, \"type\": \"scatterternary\"}], \"surface\": [{\"colorbar\": {\"outlinewidth\": 0, \"ticks\": \"\"}, \"colorscale\": [[0.0, \"#0d0887\"], [0.1111111111111111, \"#46039f\"], [0.2222222222222222, \"#7201a8\"], [0.3333333333333333, \"#9c179e\"], [0.4444444444444444, \"#bd3786\"], [0.5555555555555556, \"#d8576b\"], [0.6666666666666666, \"#ed7953\"], [0.7777777777777778, \"#fb9f3a\"], [0.8888888888888888, \"#fdca26\"], [1.0, \"#f0f921\"]], \"type\": \"surface\"}], \"table\": [{\"cells\": {\"fill\": {\"color\": \"#EBF0F8\"}, \"line\": {\"color\": \"white\"}}, \"header\": {\"fill\": {\"color\": \"#C8D4E3\"}, \"line\": {\"color\": \"white\"}}, \"type\": \"table\"}]}, \"layout\": {\"annotationdefaults\": {\"arrowcolor\": \"#2a3f5f\", \"arrowhead\": 0, \"arrowwidth\": 1}, \"autotypenumbers\": \"strict\", \"coloraxis\": {\"colorbar\": {\"outlinewidth\": 0, \"ticks\": \"\"}}, \"colorscale\": {\"diverging\": [[0, \"#8e0152\"], [0.1, \"#c51b7d\"], [0.2, \"#de77ae\"], [0.3, \"#f1b6da\"], [0.4, \"#fde0ef\"], [0.5, \"#f7f7f7\"], [0.6, \"#e6f5d0\"], [0.7, \"#b8e186\"], [0.8, \"#7fbc41\"], [0.9, \"#4d9221\"], [1, \"#276419\"]], \"sequential\": [[0.0, \"#0d0887\"], [0.1111111111111111, \"#46039f\"], [0.2222222222222222, \"#7201a8\"], [0.3333333333333333, \"#9c179e\"], [0.4444444444444444, \"#bd3786\"], [0.5555555555555556, \"#d8576b\"], [0.6666666666666666, \"#ed7953\"], [0.7777777777777778, \"#fb9f3a\"], [0.8888888888888888, \"#fdca26\"], [1.0, \"#f0f921\"]], \"sequentialminus\": [[0.0, \"#0d0887\"], [0.1111111111111111, \"#46039f\"], [0.2222222222222222, \"#7201a8\"], [0.3333333333333333, \"#9c179e\"], [0.4444444444444444, \"#bd3786\"], [0.5555555555555556, \"#d8576b\"], [0.6666666666666666, \"#ed7953\"], [0.7777777777777778, \"#fb9f3a\"], [0.8888888888888888, \"#fdca26\"], [1.0, \"#f0f921\"]]}, \"colorway\": [\"#636efa\", \"#EF553B\", \"#00cc96\", \"#ab63fa\", \"#FFA15A\", \"#19d3f3\", \"#FF6692\", \"#B6E880\", \"#FF97FF\", \"#FECB52\"], \"font\": {\"color\": \"#2a3f5f\"}, \"geo\": {\"bgcolor\": \"white\", \"lakecolor\": \"white\", \"landcolor\": \"#E5ECF6\", \"showlakes\": true, \"showland\": true, \"subunitcolor\": \"white\"}, \"hoverlabel\": {\"align\": \"left\"}, \"hovermode\": \"closest\", \"mapbox\": {\"style\": \"light\"}, \"paper_bgcolor\": \"white\", \"plot_bgcolor\": \"#E5ECF6\", \"polar\": {\"angularaxis\": {\"gridcolor\": \"white\", \"linecolor\": \"white\", \"ticks\": \"\"}, \"bgcolor\": \"#E5ECF6\", \"radialaxis\": {\"gridcolor\": \"white\", \"linecolor\": \"white\", \"ticks\": \"\"}}, \"scene\": {\"xaxis\": {\"backgroundcolor\": \"#E5ECF6\", \"gridcolor\": \"white\", \"gridwidth\": 2, \"linecolor\": \"white\", \"showbackground\": true, \"ticks\": \"\", \"zerolinecolor\": \"white\"}, \"yaxis\": {\"backgroundcolor\": \"#E5ECF6\", \"gridcolor\": \"white\", \"gridwidth\": 2, \"linecolor\": \"white\", \"showbackground\": true, \"ticks\": \"\", \"zerolinecolor\": \"white\"}, \"zaxis\": {\"backgroundcolor\": \"#E5ECF6\", \"gridcolor\": \"white\", \"gridwidth\": 2, \"linecolor\": \"white\", \"showbackground\": true, \"ticks\": \"\", \"zerolinecolor\": \"white\"}}, \"shapedefaults\": {\"line\": {\"color\": \"#2a3f5f\"}}, \"ternary\": {\"aaxis\": {\"gridcolor\": \"white\", \"linecolor\": \"white\", \"ticks\": \"\"}, \"baxis\": {\"gridcolor\": \"white\", \"linecolor\": \"white\", \"ticks\": \"\"}, \"bgcolor\": \"#E5ECF6\", \"caxis\": {\"gridcolor\": \"white\", \"linecolor\": \"white\", \"ticks\": \"\"}}, \"title\": {\"x\": 0.05}, \"xaxis\": {\"automargin\": true, \"gridcolor\": \"white\", \"linecolor\": \"white\", \"ticks\": \"\", \"title\": {\"standoff\": 15}, \"zerolinecolor\": \"white\", \"zerolinewidth\": 2}, \"yaxis\": {\"automargin\": true, \"gridcolor\": \"white\", \"linecolor\": \"white\", \"ticks\": \"\", \"title\": {\"standoff\": 15}, \"zerolinecolor\": \"white\", \"zerolinewidth\": 2}}}, \"title\": {\"text\": \"Loss\"}},                        {\"responsive\": true}                    ).then(function(){\n",
              "                            \n",
              "var gd = document.getElementById('7442c57f-3247-4486-b860-ac045fc8af8d');\n",
              "var x = new MutationObserver(function (mutations, observer) {{\n",
              "        var display = window.getComputedStyle(gd).display;\n",
              "        if (!display || display === 'none') {{\n",
              "            console.log([gd, 'removed!']);\n",
              "            Plotly.purge(gd);\n",
              "            observer.disconnect();\n",
              "        }}\n",
              "}});\n",
              "\n",
              "// Listen for the removal of the full notebook cells\n",
              "var notebookContainer = gd.closest('#notebook-container');\n",
              "if (notebookContainer) {{\n",
              "    x.observe(notebookContainer, {childList: true});\n",
              "}}\n",
              "\n",
              "// Listen for the clearing of the current output cell\n",
              "var outputEl = gd.closest('.output');\n",
              "if (outputEl) {{\n",
              "    x.observe(outputEl, {childList: true});\n",
              "}}\n",
              "\n",
              "                        })                };                });            </script>        </div>"
            ]
          },
          "metadata": {
            "tags": []
          }
        }
      ]
    },
    {
      "cell_type": "markdown",
      "metadata": {
        "id": "121fed93"
      },
      "source": [
        "#### prediccion con logits "
      ],
      "id": "121fed93"
    },
    {
      "cell_type": "code",
      "metadata": {
        "id": "3a0846d9",
        "outputId": "2fa9a992-c441-49e1-9d9b-54f6750ba366"
      },
      "source": [
        "np.argmax(model.predict(xt),axis = 1)"
      ],
      "id": "3a0846d9",
      "execution_count": null,
      "outputs": [
        {
          "output_type": "execute_result",
          "data": {
            "text/plain": [
              "array([1, 0, 0, ..., 1, 0, 2], dtype=int64)"
            ]
          },
          "metadata": {
            "tags": []
          },
          "execution_count": 70
        }
      ]
    },
    {
      "cell_type": "code",
      "metadata": {
        "id": "dc64475f",
        "outputId": "5ab41373-5381-46ec-fcf4-ac3fd6ed2c3b"
      },
      "source": [
        "y_pred = np.argmax(model.predict(xt),axis=1)\n",
        "accuracy_score(np.argmax(yt,axis=1),y_pred)"
      ],
      "id": "dc64475f",
      "execution_count": null,
      "outputs": [
        {
          "output_type": "execute_result",
          "data": {
            "text/plain": [
              "0.946"
            ]
          },
          "metadata": {
            "tags": []
          },
          "execution_count": 71
        }
      ]
    },
    {
      "cell_type": "markdown",
      "metadata": {
        "id": "29502d60"
      },
      "source": [
        "### Callbacks"
      ],
      "id": "29502d60"
    },
    {
      "cell_type": "markdown",
      "metadata": {
        "id": "563cdb05"
      },
      "source": [
        "Un callback es una funcion que se ejecuta en un evento determinado\n"
      ],
      "id": "563cdb05"
    },
    {
      "cell_type": "markdown",
      "metadata": {
        "id": "d2d7bccc"
      },
      "source": [
        "En nuestro caso de redes neuronales, los callback son funciones que se ejecutaran en momentos especificos del entrenamiento de la red."
      ],
      "id": "d2d7bccc"
    },
    {
      "cell_type": "markdown",
      "metadata": {
        "id": "4c457e92"
      },
      "source": [
        "#### Checkpoints"
      ],
      "id": "4c457e92"
    },
    {
      "cell_type": "markdown",
      "metadata": {
        "id": "996b34ce"
      },
      "source": [
        "Un checpoint es un estado del modelo que guardamos"
      ],
      "id": "996b34ce"
    },
    {
      "cell_type": "code",
      "metadata": {
        "id": "fb40f0a4"
      },
      "source": [
        "from tensorflow.keras.callbacks import ModelCheckpoint\n",
        "from tensorflow.keras.models import load_model"
      ],
      "id": "fb40f0a4",
      "execution_count": null,
      "outputs": []
    },
    {
      "cell_type": "code",
      "metadata": {
        "id": "50063fb6"
      },
      "source": [
        "model = Sequential()\n",
        "model.add(InputLayer(input_shape=(20)))\n",
        "model.add(Dense(15, activation=\"relu\"))\n",
        "model.add(Dense(8, activation=\"relu\"))\n",
        "model.add(Dense(3)) ### Capa sin activacion o identidad, linear\n",
        "model.compile(loss= CategoricalCrossentropy(from_logits=True), optimizer = Adam())"
      ],
      "id": "50063fb6",
      "execution_count": null,
      "outputs": []
    },
    {
      "cell_type": "code",
      "metadata": {
        "id": "fb07e0f5"
      },
      "source": [
        "!mkdir checkpoints"
      ],
      "id": "fb07e0f5",
      "execution_count": null,
      "outputs": []
    },
    {
      "cell_type": "code",
      "metadata": {
        "id": "eccd3a5c"
      },
      "source": [
        "checkpoints = ModelCheckpoint(\n",
        "                            \"./checkpoints/checpoint.h5\",\n",
        "                            monitor='val_loss', ## que funcion monitorea para crear el checkpoint\n",
        "                            verbose=10, ## imprima que guardo un checpoint\n",
        "                            save_best_only=True, ## solo guarde el mejor model\n",
        "                            save_weights_only=False, ## Nos guarda la arquitectura y los pesos\n",
        "                            mode=\"min\", ### Cuando guardar el checkpoint, en este caso, cada nuevo minimo en la funcion de val_loss\n",
        "                            save_freq='epoch',) ### Cada cuando guarda el checkpoint"
      ],
      "id": "eccd3a5c",
      "execution_count": null,
      "outputs": []
    },
    {
      "cell_type": "code",
      "metadata": {
        "id": "4b87725e",
        "outputId": "540d0d94-46ff-4c8b-ac8e-31ba4d40fedb"
      },
      "source": [
        "history = model.fit(x=xt,y=yt, epochs=100, batch_size = 128, validation_data=(xv,yv), callbacks=[checkpoints])"
      ],
      "id": "4b87725e",
      "execution_count": null,
      "outputs": [
        {
          "output_type": "stream",
          "text": [
            "Epoch 1/100\n",
            "59/59 [==============================] - 0s 4ms/step - loss: 0.1490 - val_loss: 0.2021\n",
            "\n",
            "Epoch 00001: val_loss did not improve from 0.19987\n",
            "Epoch 2/100\n",
            "59/59 [==============================] - 0s 3ms/step - loss: 0.1498 - val_loss: 0.2048\n",
            "\n",
            "Epoch 00002: val_loss did not improve from 0.19987\n",
            "Epoch 3/100\n",
            "59/59 [==============================] - 0s 3ms/step - loss: 0.1489 - val_loss: 0.2008\n",
            "\n",
            "Epoch 00003: val_loss did not improve from 0.19987\n",
            "Epoch 4/100\n",
            "59/59 [==============================] - 0s 2ms/step - loss: 0.1491 - val_loss: 0.2030\n",
            "\n",
            "Epoch 00004: val_loss did not improve from 0.19987\n",
            "Epoch 5/100\n",
            "59/59 [==============================] - 0s 2ms/step - loss: 0.1496 - val_loss: 0.2032\n",
            "\n",
            "Epoch 00005: val_loss did not improve from 0.19987\n",
            "Epoch 6/100\n",
            "59/59 [==============================] - 0s 2ms/step - loss: 0.1492 - val_loss: 0.2056\n",
            "\n",
            "Epoch 00006: val_loss did not improve from 0.19987\n",
            "Epoch 7/100\n",
            "59/59 [==============================] - 0s 2ms/step - loss: 0.1494 - val_loss: 0.2029\n",
            "\n",
            "Epoch 00007: val_loss did not improve from 0.19987\n",
            "Epoch 8/100\n",
            "59/59 [==============================] - 0s 2ms/step - loss: 0.1494 - val_loss: 0.2043\n",
            "\n",
            "Epoch 00008: val_loss did not improve from 0.19987\n",
            "Epoch 9/100\n",
            "59/59 [==============================] - 0s 2ms/step - loss: 0.1487 - val_loss: 0.2017\n",
            "\n",
            "Epoch 00009: val_loss did not improve from 0.19987\n",
            "Epoch 10/100\n",
            "59/59 [==============================] - 0s 2ms/step - loss: 0.1489 - val_loss: 0.2058\n",
            "\n",
            "Epoch 00010: val_loss did not improve from 0.19987\n",
            "Epoch 11/100\n",
            "59/59 [==============================] - 0s 2ms/step - loss: 0.1479 - val_loss: 0.2009\n",
            "\n",
            "Epoch 00011: val_loss did not improve from 0.19987\n",
            "Epoch 12/100\n",
            "59/59 [==============================] - 0s 2ms/step - loss: 0.1475 - val_loss: 0.2030\n",
            "\n",
            "Epoch 00012: val_loss did not improve from 0.19987\n",
            "Epoch 13/100\n",
            "59/59 [==============================] - 0s 2ms/step - loss: 0.1478 - val_loss: 0.2041\n",
            "\n",
            "Epoch 00013: val_loss did not improve from 0.19987\n",
            "Epoch 14/100\n",
            "59/59 [==============================] - 0s 2ms/step - loss: 0.1481 - val_loss: 0.2023\n",
            "\n",
            "Epoch 00014: val_loss did not improve from 0.19987\n",
            "Epoch 15/100\n",
            "59/59 [==============================] - 0s 2ms/step - loss: 0.1483 - val_loss: 0.2067\n",
            "\n",
            "Epoch 00015: val_loss did not improve from 0.19987\n",
            "Epoch 16/100\n",
            "59/59 [==============================] - 0s 2ms/step - loss: 0.1487 - val_loss: 0.2008\n",
            "\n",
            "Epoch 00016: val_loss did not improve from 0.19987\n",
            "Epoch 17/100\n",
            "59/59 [==============================] - 0s 2ms/step - loss: 0.1480 - val_loss: 0.2038\n",
            "\n",
            "Epoch 00017: val_loss did not improve from 0.19987\n",
            "Epoch 18/100\n",
            "59/59 [==============================] - 0s 2ms/step - loss: 0.1483 - val_loss: 0.2042\n",
            "\n",
            "Epoch 00018: val_loss did not improve from 0.19987\n",
            "Epoch 19/100\n",
            "59/59 [==============================] - 0s 2ms/step - loss: 0.1480 - val_loss: 0.2039\n",
            "\n",
            "Epoch 00019: val_loss did not improve from 0.19987\n",
            "Epoch 20/100\n",
            "59/59 [==============================] - 0s 2ms/step - loss: 0.1475 - val_loss: 0.2006\n",
            "\n",
            "Epoch 00020: val_loss did not improve from 0.19987\n",
            "Epoch 21/100\n",
            "59/59 [==============================] - 0s 2ms/step - loss: 0.1469 - val_loss: 0.2070\n",
            "\n",
            "Epoch 00021: val_loss did not improve from 0.19987\n",
            "Epoch 22/100\n",
            "59/59 [==============================] - 0s 2ms/step - loss: 0.1473 - val_loss: 0.2041\n",
            "\n",
            "Epoch 00022: val_loss did not improve from 0.19987\n",
            "Epoch 23/100\n",
            "59/59 [==============================] - 0s 2ms/step - loss: 0.1473 - val_loss: 0.2021\n",
            "\n",
            "Epoch 00023: val_loss did not improve from 0.19987\n",
            "Epoch 24/100\n",
            "59/59 [==============================] - 0s 2ms/step - loss: 0.1471 - val_loss: 0.2029\n",
            "\n",
            "Epoch 00024: val_loss did not improve from 0.19987\n",
            "Epoch 25/100\n",
            "59/59 [==============================] - 0s 2ms/step - loss: 0.1475 - val_loss: 0.2036\n",
            "\n",
            "Epoch 00025: val_loss did not improve from 0.19987\n",
            "Epoch 26/100\n",
            "59/59 [==============================] - 0s 2ms/step - loss: 0.1472 - val_loss: 0.2018\n",
            "\n",
            "Epoch 00026: val_loss did not improve from 0.19987\n",
            "Epoch 27/100\n",
            "59/59 [==============================] - 0s 2ms/step - loss: 0.1467 - val_loss: 0.2073\n",
            "\n",
            "Epoch 00027: val_loss did not improve from 0.19987\n",
            "Epoch 28/100\n",
            "59/59 [==============================] - 0s 2ms/step - loss: 0.1467 - val_loss: 0.2047\n",
            "\n",
            "Epoch 00028: val_loss did not improve from 0.19987\n",
            "Epoch 29/100\n",
            "59/59 [==============================] - 0s 2ms/step - loss: 0.1469 - val_loss: 0.2023\n",
            "\n",
            "Epoch 00029: val_loss did not improve from 0.19987\n",
            "Epoch 30/100\n",
            "59/59 [==============================] - 0s 2ms/step - loss: 0.1469 - val_loss: 0.2030\n",
            "\n",
            "Epoch 00030: val_loss did not improve from 0.19987\n",
            "Epoch 31/100\n",
            "59/59 [==============================] - 0s 2ms/step - loss: 0.1474 - val_loss: 0.2019\n",
            "\n",
            "Epoch 00031: val_loss did not improve from 0.19987\n",
            "Epoch 32/100\n",
            "59/59 [==============================] - 0s 2ms/step - loss: 0.1472 - val_loss: 0.2040\n",
            "\n",
            "Epoch 00032: val_loss did not improve from 0.19987\n",
            "Epoch 33/100\n",
            "59/59 [==============================] - 0s 2ms/step - loss: 0.1468 - val_loss: 0.2034\n",
            "\n",
            "Epoch 00033: val_loss did not improve from 0.19987\n",
            "Epoch 34/100\n",
            "59/59 [==============================] - 0s 2ms/step - loss: 0.1469 - val_loss: 0.2027\n",
            "\n",
            "Epoch 00034: val_loss did not improve from 0.19987\n",
            "Epoch 35/100\n",
            "59/59 [==============================] - 0s 2ms/step - loss: 0.1466 - val_loss: 0.2025\n",
            "\n",
            "Epoch 00035: val_loss did not improve from 0.19987\n",
            "Epoch 36/100\n",
            "59/59 [==============================] - 0s 2ms/step - loss: 0.1464 - val_loss: 0.2038\n",
            "\n",
            "Epoch 00036: val_loss did not improve from 0.19987\n",
            "Epoch 37/100\n",
            "59/59 [==============================] - 0s 2ms/step - loss: 0.1458 - val_loss: 0.2053\n",
            "\n",
            "Epoch 00037: val_loss did not improve from 0.19987\n",
            "Epoch 38/100\n",
            "59/59 [==============================] - 0s 2ms/step - loss: 0.1459 - val_loss: 0.2023\n",
            "\n",
            "Epoch 00038: val_loss did not improve from 0.19987\n",
            "Epoch 39/100\n",
            "59/59 [==============================] - 0s 2ms/step - loss: 0.1450 - val_loss: 0.2025\n",
            "\n",
            "Epoch 00039: val_loss did not improve from 0.19987\n",
            "Epoch 40/100\n",
            "59/59 [==============================] - 0s 2ms/step - loss: 0.1458 - val_loss: 0.2051\n",
            "\n",
            "Epoch 00040: val_loss did not improve from 0.19987\n",
            "Epoch 41/100\n",
            "59/59 [==============================] - 0s 2ms/step - loss: 0.1456 - val_loss: 0.2019\n",
            "\n",
            "Epoch 00041: val_loss did not improve from 0.19987\n",
            "Epoch 42/100\n",
            "59/59 [==============================] - 0s 2ms/step - loss: 0.1455 - val_loss: 0.2030\n",
            "\n",
            "Epoch 00042: val_loss did not improve from 0.19987\n",
            "Epoch 43/100\n",
            "59/59 [==============================] - 0s 2ms/step - loss: 0.1457 - val_loss: 0.2053\n",
            "\n",
            "Epoch 00043: val_loss did not improve from 0.19987\n",
            "Epoch 44/100\n",
            "59/59 [==============================] - 0s 2ms/step - loss: 0.1457 - val_loss: 0.2008\n",
            "\n",
            "Epoch 00044: val_loss did not improve from 0.19987\n",
            "Epoch 45/100\n",
            "59/59 [==============================] - 0s 2ms/step - loss: 0.1458 - val_loss: 0.2052\n",
            "\n",
            "Epoch 00045: val_loss did not improve from 0.19987\n",
            "Epoch 46/100\n",
            "59/59 [==============================] - 0s 2ms/step - loss: 0.1451 - val_loss: 0.2043\n",
            "\n",
            "Epoch 00046: val_loss did not improve from 0.19987\n",
            "Epoch 47/100\n",
            "59/59 [==============================] - 0s 2ms/step - loss: 0.1451 - val_loss: 0.2020\n",
            "\n",
            "Epoch 00047: val_loss did not improve from 0.19987\n",
            "Epoch 48/100\n",
            "59/59 [==============================] - 0s 2ms/step - loss: 0.1452 - val_loss: 0.2038\n",
            "\n",
            "Epoch 00048: val_loss did not improve from 0.19987\n",
            "Epoch 49/100\n",
            "59/59 [==============================] - 0s 2ms/step - loss: 0.1453 - val_loss: 0.2039\n",
            "\n",
            "Epoch 00049: val_loss did not improve from 0.19987\n",
            "Epoch 50/100\n",
            "59/59 [==============================] - 0s 2ms/step - loss: 0.1449 - val_loss: 0.2033\n",
            "\n",
            "Epoch 00050: val_loss did not improve from 0.19987\n",
            "Epoch 51/100\n",
            "59/59 [==============================] - 0s 2ms/step - loss: 0.1446 - val_loss: 0.2040\n",
            "\n",
            "Epoch 00051: val_loss did not improve from 0.19987\n",
            "Epoch 52/100\n",
            "59/59 [==============================] - 0s 2ms/step - loss: 0.1451 - val_loss: 0.2063\n",
            "\n",
            "Epoch 00052: val_loss did not improve from 0.19987\n",
            "Epoch 53/100\n",
            "59/59 [==============================] - 0s 2ms/step - loss: 0.1449 - val_loss: 0.2031\n",
            "\n",
            "Epoch 00053: val_loss did not improve from 0.19987\n",
            "Epoch 54/100\n",
            "59/59 [==============================] - 0s 2ms/step - loss: 0.1447 - val_loss: 0.2051\n",
            "\n",
            "Epoch 00054: val_loss did not improve from 0.19987\n",
            "Epoch 55/100\n"
          ],
          "name": "stdout"
        },
        {
          "output_type": "stream",
          "text": [
            "59/59 [==============================] - 0s 2ms/step - loss: 0.1449 - val_loss: 0.2038\n",
            "\n",
            "Epoch 00055: val_loss did not improve from 0.19987\n",
            "Epoch 56/100\n",
            "59/59 [==============================] - 0s 2ms/step - loss: 0.1439 - val_loss: 0.2068\n",
            "\n",
            "Epoch 00056: val_loss did not improve from 0.19987\n",
            "Epoch 57/100\n",
            "59/59 [==============================] - 0s 2ms/step - loss: 0.1449 - val_loss: 0.2034\n",
            "\n",
            "Epoch 00057: val_loss did not improve from 0.19987\n",
            "Epoch 58/100\n",
            "59/59 [==============================] - 0s 2ms/step - loss: 0.1441 - val_loss: 0.2067\n",
            "\n",
            "Epoch 00058: val_loss did not improve from 0.19987\n",
            "Epoch 59/100\n",
            "59/59 [==============================] - 0s 2ms/step - loss: 0.1456 - val_loss: 0.2037\n",
            "\n",
            "Epoch 00059: val_loss did not improve from 0.19987\n",
            "Epoch 60/100\n",
            "59/59 [==============================] - 0s 2ms/step - loss: 0.1445 - val_loss: 0.2051\n",
            "\n",
            "Epoch 00060: val_loss did not improve from 0.19987\n",
            "Epoch 61/100\n",
            "59/59 [==============================] - 0s 2ms/step - loss: 0.1440 - val_loss: 0.2022\n",
            "\n",
            "Epoch 00061: val_loss did not improve from 0.19987\n",
            "Epoch 62/100\n",
            "59/59 [==============================] - 0s 2ms/step - loss: 0.1446 - val_loss: 0.2041\n",
            "\n",
            "Epoch 00062: val_loss did not improve from 0.19987\n",
            "Epoch 63/100\n",
            "59/59 [==============================] - 0s 2ms/step - loss: 0.1443 - val_loss: 0.2036\n",
            "\n",
            "Epoch 00063: val_loss did not improve from 0.19987\n",
            "Epoch 64/100\n",
            "59/59 [==============================] - 0s 2ms/step - loss: 0.1445 - val_loss: 0.2029\n",
            "\n",
            "Epoch 00064: val_loss did not improve from 0.19987\n",
            "Epoch 65/100\n",
            "59/59 [==============================] - 0s 2ms/step - loss: 0.1442 - val_loss: 0.2029\n",
            "\n",
            "Epoch 00065: val_loss did not improve from 0.19987\n",
            "Epoch 66/100\n",
            "59/59 [==============================] - 0s 2ms/step - loss: 0.1445 - val_loss: 0.2072\n",
            "\n",
            "Epoch 00066: val_loss did not improve from 0.19987\n",
            "Epoch 67/100\n",
            "59/59 [==============================] - 0s 2ms/step - loss: 0.1439 - val_loss: 0.2014\n",
            "\n",
            "Epoch 00067: val_loss did not improve from 0.19987\n",
            "Epoch 68/100\n",
            "59/59 [==============================] - 0s 2ms/step - loss: 0.1453 - val_loss: 0.2037\n",
            "\n",
            "Epoch 00068: val_loss did not improve from 0.19987\n",
            "Epoch 69/100\n",
            "59/59 [==============================] - 0s 2ms/step - loss: 0.1444 - val_loss: 0.2042\n",
            "\n",
            "Epoch 00069: val_loss did not improve from 0.19987\n",
            "Epoch 70/100\n",
            "59/59 [==============================] - 0s 2ms/step - loss: 0.1433 - val_loss: 0.2025\n",
            "\n",
            "Epoch 00070: val_loss did not improve from 0.19987\n",
            "Epoch 71/100\n",
            "59/59 [==============================] - 0s 2ms/step - loss: 0.1436 - val_loss: 0.2046\n",
            "\n",
            "Epoch 00071: val_loss did not improve from 0.19987\n",
            "Epoch 72/100\n",
            "59/59 [==============================] - 0s 2ms/step - loss: 0.1440 - val_loss: 0.2062\n",
            "\n",
            "Epoch 00072: val_loss did not improve from 0.19987\n",
            "Epoch 73/100\n",
            "59/59 [==============================] - 0s 2ms/step - loss: 0.1446 - val_loss: 0.2071\n",
            "\n",
            "Epoch 00073: val_loss did not improve from 0.19987\n",
            "Epoch 74/100\n",
            "59/59 [==============================] - 0s 2ms/step - loss: 0.1435 - val_loss: 0.2039\n",
            "\n",
            "Epoch 00074: val_loss did not improve from 0.19987\n",
            "Epoch 75/100\n",
            "59/59 [==============================] - 0s 2ms/step - loss: 0.1439 - val_loss: 0.2050\n",
            "\n",
            "Epoch 00075: val_loss did not improve from 0.19987\n",
            "Epoch 76/100\n",
            "59/59 [==============================] - 0s 2ms/step - loss: 0.1438 - val_loss: 0.2045\n",
            "\n",
            "Epoch 00076: val_loss did not improve from 0.19987\n",
            "Epoch 77/100\n",
            "59/59 [==============================] - 0s 2ms/step - loss: 0.1442 - val_loss: 0.2056\n",
            "\n",
            "Epoch 00077: val_loss did not improve from 0.19987\n",
            "Epoch 78/100\n",
            "59/59 [==============================] - 0s 2ms/step - loss: 0.1434 - val_loss: 0.2040\n",
            "\n",
            "Epoch 00078: val_loss did not improve from 0.19987\n",
            "Epoch 79/100\n",
            "59/59 [==============================] - 0s 2ms/step - loss: 0.1437 - val_loss: 0.2038\n",
            "\n",
            "Epoch 00079: val_loss did not improve from 0.19987\n",
            "Epoch 80/100\n",
            "59/59 [==============================] - 0s 2ms/step - loss: 0.1435 - val_loss: 0.2057\n",
            "\n",
            "Epoch 00080: val_loss did not improve from 0.19987\n",
            "Epoch 81/100\n",
            "59/59 [==============================] - 0s 2ms/step - loss: 0.1433 - val_loss: 0.2066\n",
            "\n",
            "Epoch 00081: val_loss did not improve from 0.19987\n",
            "Epoch 82/100\n",
            "59/59 [==============================] - 0s 2ms/step - loss: 0.1432 - val_loss: 0.2061\n",
            "\n",
            "Epoch 00082: val_loss did not improve from 0.19987\n",
            "Epoch 83/100\n",
            "59/59 [==============================] - 0s 2ms/step - loss: 0.1438 - val_loss: 0.2036\n",
            "\n",
            "Epoch 00083: val_loss did not improve from 0.19987\n",
            "Epoch 84/100\n",
            "59/59 [==============================] - 0s 2ms/step - loss: 0.1435 - val_loss: 0.2033\n",
            "\n",
            "Epoch 00084: val_loss did not improve from 0.19987\n",
            "Epoch 85/100\n",
            "59/59 [==============================] - 0s 2ms/step - loss: 0.1433 - val_loss: 0.2033\n",
            "\n",
            "Epoch 00085: val_loss did not improve from 0.19987\n",
            "Epoch 86/100\n",
            "59/59 [==============================] - 0s 2ms/step - loss: 0.1436 - val_loss: 0.2025\n",
            "\n",
            "Epoch 00086: val_loss did not improve from 0.19987\n",
            "Epoch 87/100\n",
            "59/59 [==============================] - 0s 2ms/step - loss: 0.1430 - val_loss: 0.2052\n",
            "\n",
            "Epoch 00087: val_loss did not improve from 0.19987\n",
            "Epoch 88/100\n",
            "59/59 [==============================] - 0s 2ms/step - loss: 0.1433 - val_loss: 0.2076\n",
            "\n",
            "Epoch 00088: val_loss did not improve from 0.19987\n",
            "Epoch 89/100\n",
            "59/59 [==============================] - 0s 2ms/step - loss: 0.1437 - val_loss: 0.2073\n",
            "\n",
            "Epoch 00089: val_loss did not improve from 0.19987\n",
            "Epoch 90/100\n",
            "59/59 [==============================] - 0s 2ms/step - loss: 0.1433 - val_loss: 0.2020\n",
            "\n",
            "Epoch 00090: val_loss did not improve from 0.19987\n",
            "Epoch 91/100\n",
            "59/59 [==============================] - 0s 2ms/step - loss: 0.1430 - val_loss: 0.2070\n",
            "\n",
            "Epoch 00091: val_loss did not improve from 0.19987\n",
            "Epoch 92/100\n",
            "59/59 [==============================] - 0s 2ms/step - loss: 0.1434 - val_loss: 0.2014\n",
            "\n",
            "Epoch 00092: val_loss did not improve from 0.19987\n",
            "Epoch 93/100\n",
            "59/59 [==============================] - 0s 2ms/step - loss: 0.1432 - val_loss: 0.2071\n",
            "\n",
            "Epoch 00093: val_loss did not improve from 0.19987\n",
            "Epoch 94/100\n",
            "59/59 [==============================] - 0s 2ms/step - loss: 0.1436 - val_loss: 0.2067\n",
            "\n",
            "Epoch 00094: val_loss did not improve from 0.19987\n",
            "Epoch 95/100\n",
            "59/59 [==============================] - 0s 2ms/step - loss: 0.1427 - val_loss: 0.2036\n",
            "\n",
            "Epoch 00095: val_loss did not improve from 0.19987\n",
            "Epoch 96/100\n",
            "59/59 [==============================] - 0s 2ms/step - loss: 0.1437 - val_loss: 0.2036\n",
            "\n",
            "Epoch 00096: val_loss did not improve from 0.19987\n",
            "Epoch 97/100\n",
            "59/59 [==============================] - 0s 2ms/step - loss: 0.1426 - val_loss: 0.2029\n",
            "\n",
            "Epoch 00097: val_loss did not improve from 0.19987\n",
            "Epoch 98/100\n",
            "59/59 [==============================] - 0s 2ms/step - loss: 0.1422 - val_loss: 0.2044\n",
            "\n",
            "Epoch 00098: val_loss did not improve from 0.19987\n",
            "Epoch 99/100\n",
            "59/59 [==============================] - 0s 2ms/step - loss: 0.1429 - val_loss: 0.2032\n",
            "\n",
            "Epoch 00099: val_loss did not improve from 0.19987\n",
            "Epoch 100/100\n",
            "59/59 [==============================] - 0s 2ms/step - loss: 0.1435 - val_loss: 0.2039\n",
            "\n",
            "Epoch 00100: val_loss did not improve from 0.19987\n"
          ],
          "name": "stdout"
        }
      ]
    },
    {
      "cell_type": "code",
      "metadata": {
        "id": "430d2f5b"
      },
      "source": [
        "model = load_model(\"./checkpoints/checpoint.h5\")"
      ],
      "id": "430d2f5b",
      "execution_count": null,
      "outputs": []
    },
    {
      "cell_type": "code",
      "metadata": {
        "id": "a7f46e0a",
        "outputId": "1ff025b3-e289-4154-8f2e-bbdd2b0bcee2"
      },
      "source": [
        "model.summary()"
      ],
      "id": "a7f46e0a",
      "execution_count": null,
      "outputs": [
        {
          "output_type": "stream",
          "text": [
            "Model: \"sequential_6\"\n",
            "_________________________________________________________________\n",
            "Layer (type)                 Output Shape              Param #   \n",
            "=================================================================\n",
            "dense_15 (Dense)             (None, 15)                315       \n",
            "_________________________________________________________________\n",
            "dense_16 (Dense)             (None, 8)                 128       \n",
            "_________________________________________________________________\n",
            "dense_17 (Dense)             (None, 3)                 27        \n",
            "=================================================================\n",
            "Total params: 470\n",
            "Trainable params: 470\n",
            "Non-trainable params: 0\n",
            "_________________________________________________________________\n"
          ],
          "name": "stdout"
        }
      ]
    },
    {
      "cell_type": "code",
      "metadata": {
        "id": "8a0e3e37",
        "outputId": "259da25d-4866-487f-eaa0-62fc660e559f"
      },
      "source": [
        "y_pred = np.argmax(model.predict(xt),axis=1)\n",
        "accuracy_score(np.argmax(yt,axis=1),y_pred)"
      ],
      "id": "8a0e3e37",
      "execution_count": null,
      "outputs": [
        {
          "output_type": "execute_result",
          "data": {
            "text/plain": [
              "0.9556"
            ]
          },
          "metadata": {
            "tags": []
          },
          "execution_count": 97
        }
      ]
    },
    {
      "cell_type": "markdown",
      "metadata": {
        "id": "d721a740"
      },
      "source": [
        "#### EarlyStopping"
      ],
      "id": "d721a740"
    },
    {
      "cell_type": "code",
      "metadata": {
        "id": "1f435ec2"
      },
      "source": [
        "from scipy.io import loadmat"
      ],
      "id": "1f435ec2",
      "execution_count": null,
      "outputs": []
    },
    {
      "cell_type": "code",
      "metadata": {
        "id": "e4ebee1b"
      },
      "source": [
        "data = loadmat(\"data.mat\")"
      ],
      "id": "e4ebee1b",
      "execution_count": null,
      "outputs": []
    },
    {
      "cell_type": "code",
      "metadata": {
        "id": "1f9e0f70"
      },
      "source": [
        "xt = data[\"X\"]\n",
        "yt = data[\"y\"]\n",
        "xv= data[\"Xval\"]\n",
        "yv = data[\"yval\"]"
      ],
      "id": "1f9e0f70",
      "execution_count": null,
      "outputs": []
    },
    {
      "cell_type": "code",
      "metadata": {
        "id": "0e6f250c",
        "outputId": "eddf0b32-f3ab-452f-e521-9abee57f5cb8"
      },
      "source": [
        "np.unique(yt)"
      ],
      "id": "0e6f250c",
      "execution_count": null,
      "outputs": [
        {
          "output_type": "execute_result",
          "data": {
            "text/plain": [
              "array([0, 1], dtype=uint8)"
            ]
          },
          "metadata": {
            "tags": []
          },
          "execution_count": 105
        }
      ]
    },
    {
      "cell_type": "code",
      "metadata": {
        "id": "a4b61bb7"
      },
      "source": [
        "from tensorflow.keras.losses import BinaryCrossentropy\n",
        "from tensorflow.keras.callbacks import EarlyStopping"
      ],
      "id": "a4b61bb7",
      "execution_count": null,
      "outputs": []
    },
    {
      "cell_type": "code",
      "metadata": {
        "id": "b41bf2fe",
        "outputId": "e8919dc2-7ac2-4b6f-a61f-4df7e1a986f3"
      },
      "source": [
        "xt.shape"
      ],
      "id": "b41bf2fe",
      "execution_count": null,
      "outputs": [
        {
          "output_type": "execute_result",
          "data": {
            "text/plain": [
              "(211, 2)"
            ]
          },
          "metadata": {
            "tags": []
          },
          "execution_count": 108
        }
      ]
    },
    {
      "cell_type": "code",
      "metadata": {
        "id": "5ec6de09"
      },
      "source": [
        "model = Sequential()\n",
        "model.add(InputLayer(input_shape=(2)))\n",
        "model.add(Dense(15, activation=\"relu\"))\n",
        "model.add(Dense(8, activation=\"relu\"))\n",
        "model.add(Dense(15, activation=\"relu\"))\n",
        "model.add(Dense(8, activation=\"relu\"))\n",
        "model.add(Dense(1)) ### Capa sin activacion o identidad, linear\n",
        "model.compile(loss= BinaryCrossentropy(from_logits=True), optimizer = Adam())"
      ],
      "id": "5ec6de09",
      "execution_count": null,
      "outputs": []
    },
    {
      "cell_type": "code",
      "metadata": {
        "id": "0a98514a",
        "outputId": "b5b95cdd-58e0-473b-db1c-63c1c1937774"
      },
      "source": [
        "history = model.fit(x=xt,y=yt, epochs=300, batch_size = 128, validation_data=(xv,yv),)"
      ],
      "id": "0a98514a",
      "execution_count": null,
      "outputs": [
        {
          "output_type": "stream",
          "text": [
            "Epoch 1/300\n",
            "2/2 [==============================] - 0s 83ms/step - loss: 0.6927 - val_loss: 0.6882\n",
            "Epoch 2/300\n",
            "2/2 [==============================] - 0s 14ms/step - loss: 0.6891 - val_loss: 0.6843\n",
            "Epoch 3/300\n",
            "2/2 [==============================] - 0s 14ms/step - loss: 0.6855 - val_loss: 0.6806\n",
            "Epoch 4/300\n",
            "2/2 [==============================] - 0s 14ms/step - loss: 0.6826 - val_loss: 0.6770\n",
            "Epoch 5/300\n",
            "2/2 [==============================] - 0s 14ms/step - loss: 0.6802 - val_loss: 0.6737\n",
            "Epoch 6/300\n",
            "2/2 [==============================] - 0s 15ms/step - loss: 0.6779 - val_loss: 0.6705\n",
            "Epoch 7/300\n",
            "2/2 [==============================] - 0s 18ms/step - loss: 0.6750 - val_loss: 0.6673\n",
            "Epoch 8/300\n",
            "2/2 [==============================] - 0s 15ms/step - loss: 0.6714 - val_loss: 0.6639\n",
            "Epoch 9/300\n",
            "2/2 [==============================] - 0s 16ms/step - loss: 0.6687 - val_loss: 0.6604\n",
            "Epoch 10/300\n",
            "2/2 [==============================] - 0s 27ms/step - loss: 0.6651 - val_loss: 0.6567\n",
            "Epoch 11/300\n",
            "2/2 [==============================] - 0s 16ms/step - loss: 0.6627 - val_loss: 0.6527\n",
            "Epoch 12/300\n",
            "2/2 [==============================] - 0s 15ms/step - loss: 0.6584 - val_loss: 0.6483\n",
            "Epoch 13/300\n",
            "2/2 [==============================] - 0s 15ms/step - loss: 0.6553 - val_loss: 0.6436\n",
            "Epoch 14/300\n",
            "2/2 [==============================] - 0s 14ms/step - loss: 0.6499 - val_loss: 0.6383\n",
            "Epoch 15/300\n",
            "2/2 [==============================] - 0s 14ms/step - loss: 0.6472 - val_loss: 0.6323\n",
            "Epoch 16/300\n",
            "2/2 [==============================] - 0s 15ms/step - loss: 0.6410 - val_loss: 0.6252\n",
            "Epoch 17/300\n",
            "2/2 [==============================] - 0s 25ms/step - loss: 0.6330 - val_loss: 0.6176\n",
            "Epoch 18/300\n",
            "2/2 [==============================] - 0s 27ms/step - loss: 0.6294 - val_loss: 0.6099\n",
            "Epoch 19/300\n",
            "2/2 [==============================] - 0s 28ms/step - loss: 0.6207 - val_loss: 0.6021\n",
            "Epoch 20/300\n",
            "2/2 [==============================] - 0s 16ms/step - loss: 0.6152 - val_loss: 0.5944\n",
            "Epoch 21/300\n",
            "2/2 [==============================] - 0s 15ms/step - loss: 0.6078 - val_loss: 0.5866\n",
            "Epoch 22/300\n",
            "2/2 [==============================] - 0s 16ms/step - loss: 0.6026 - val_loss: 0.5788\n",
            "Epoch 23/300\n",
            "2/2 [==============================] - 0s 16ms/step - loss: 0.5946 - val_loss: 0.5710\n",
            "Epoch 24/300\n",
            "2/2 [==============================] - 0s 14ms/step - loss: 0.5879 - val_loss: 0.5631\n",
            "Epoch 25/300\n",
            "2/2 [==============================] - 0s 15ms/step - loss: 0.5805 - val_loss: 0.5550\n",
            "Epoch 26/300\n",
            "2/2 [==============================] - 0s 16ms/step - loss: 0.5719 - val_loss: 0.5469\n",
            "Epoch 27/300\n",
            "2/2 [==============================] - 0s 14ms/step - loss: 0.5655 - val_loss: 0.5387\n",
            "Epoch 28/300\n",
            "2/2 [==============================] - 0s 16ms/step - loss: 0.5610 - val_loss: 0.5305\n",
            "Epoch 29/300\n",
            "2/2 [==============================] - 0s 15ms/step - loss: 0.5509 - val_loss: 0.5222\n",
            "Epoch 30/300\n",
            "2/2 [==============================] - 0s 16ms/step - loss: 0.5427 - val_loss: 0.5138\n",
            "Epoch 31/300\n",
            "2/2 [==============================] - 0s 14ms/step - loss: 0.5349 - val_loss: 0.5053\n",
            "Epoch 32/300\n",
            "2/2 [==============================] - 0s 15ms/step - loss: 0.5272 - val_loss: 0.4967\n",
            "Epoch 33/300\n",
            "2/2 [==============================] - 0s 14ms/step - loss: 0.5184 - val_loss: 0.4881\n",
            "Epoch 34/300\n",
            "2/2 [==============================] - 0s 16ms/step - loss: 0.5146 - val_loss: 0.4794\n",
            "Epoch 35/300\n",
            "2/2 [==============================] - 0s 15ms/step - loss: 0.5059 - val_loss: 0.4707\n",
            "Epoch 36/300\n",
            "2/2 [==============================] - 0s 14ms/step - loss: 0.5001 - val_loss: 0.4620\n",
            "Epoch 37/300\n",
            "2/2 [==============================] - 0s 15ms/step - loss: 0.4892 - val_loss: 0.4533\n",
            "Epoch 38/300\n",
            "2/2 [==============================] - 0s 14ms/step - loss: 0.4770 - val_loss: 0.4445\n",
            "Epoch 39/300\n",
            "2/2 [==============================] - 0s 16ms/step - loss: 0.4684 - val_loss: 0.4358\n",
            "Epoch 40/300\n",
            "2/2 [==============================] - 0s 16ms/step - loss: 0.4591 - val_loss: 0.4272\n",
            "Epoch 41/300\n",
            "2/2 [==============================] - 0s 14ms/step - loss: 0.4533 - val_loss: 0.4187\n",
            "Epoch 42/300\n",
            "2/2 [==============================] - 0s 15ms/step - loss: 0.4434 - val_loss: 0.4103\n",
            "Epoch 43/300\n",
            "2/2 [==============================] - 0s 15ms/step - loss: 0.4358 - val_loss: 0.4019\n",
            "Epoch 44/300\n",
            "2/2 [==============================] - 0s 14ms/step - loss: 0.4278 - val_loss: 0.3936\n",
            "Epoch 45/300\n",
            "2/2 [==============================] - 0s 14ms/step - loss: 0.4265 - val_loss: 0.3856\n",
            "Epoch 46/300\n",
            "2/2 [==============================] - 0s 14ms/step - loss: 0.4102 - val_loss: 0.3777\n",
            "Epoch 47/300\n",
            "2/2 [==============================] - 0s 14ms/step - loss: 0.4005 - val_loss: 0.3700\n",
            "Epoch 48/300\n",
            "2/2 [==============================] - 0s 14ms/step - loss: 0.3861 - val_loss: 0.3624\n",
            "Epoch 49/300\n",
            "2/2 [==============================] - 0s 17ms/step - loss: 0.3864 - val_loss: 0.3548\n",
            "Epoch 50/300\n",
            "2/2 [==============================] - 0s 14ms/step - loss: 0.3706 - val_loss: 0.3473\n",
            "Epoch 51/300\n",
            "2/2 [==============================] - 0s 13ms/step - loss: 0.3659 - val_loss: 0.3400\n",
            "Epoch 52/300\n",
            "2/2 [==============================] - 0s 16ms/step - loss: 0.3627 - val_loss: 0.3327\n",
            "Epoch 53/300\n",
            "2/2 [==============================] - 0s 15ms/step - loss: 0.3574 - val_loss: 0.3258\n",
            "Epoch 54/300\n",
            "2/2 [==============================] - 0s 14ms/step - loss: 0.3497 - val_loss: 0.3190\n",
            "Epoch 55/300\n",
            "2/2 [==============================] - 0s 15ms/step - loss: 0.3285 - val_loss: 0.3124\n",
            "Epoch 56/300\n",
            "2/2 [==============================] - 0s 14ms/step - loss: 0.3241 - val_loss: 0.3063\n",
            "Epoch 57/300\n",
            "2/2 [==============================] - 0s 14ms/step - loss: 0.3279 - val_loss: 0.3004\n",
            "Epoch 58/300\n",
            "2/2 [==============================] - 0s 14ms/step - loss: 0.3145 - val_loss: 0.2946\n",
            "Epoch 59/300\n",
            "2/2 [==============================] - 0s 18ms/step - loss: 0.3107 - val_loss: 0.2893\n",
            "Epoch 60/300\n",
            "2/2 [==============================] - 0s 18ms/step - loss: 0.2973 - val_loss: 0.2844\n",
            "Epoch 61/300\n",
            "2/2 [==============================] - 0s 14ms/step - loss: 0.3029 - val_loss: 0.2798\n",
            "Epoch 62/300\n",
            "2/2 [==============================] - 0s 15ms/step - loss: 0.2995 - val_loss: 0.2754\n",
            "Epoch 63/300\n",
            "2/2 [==============================] - 0s 15ms/step - loss: 0.2932 - val_loss: 0.2711\n",
            "Epoch 64/300\n",
            "2/2 [==============================] - 0s 14ms/step - loss: 0.2834 - val_loss: 0.2674\n",
            "Epoch 65/300\n",
            "2/2 [==============================] - 0s 14ms/step - loss: 0.2836 - val_loss: 0.2639\n",
            "Epoch 66/300\n",
            "2/2 [==============================] - 0s 15ms/step - loss: 0.2754 - val_loss: 0.2606\n",
            "Epoch 67/300\n",
            "2/2 [==============================] - 0s 14ms/step - loss: 0.2675 - val_loss: 0.2579\n",
            "Epoch 68/300\n",
            "2/2 [==============================] - 0s 13ms/step - loss: 0.2664 - val_loss: 0.2554\n",
            "Epoch 69/300\n",
            "2/2 [==============================] - 0s 15ms/step - loss: 0.2601 - val_loss: 0.2526\n",
            "Epoch 70/300\n",
            "2/2 [==============================] - 0s 16ms/step - loss: 0.2584 - val_loss: 0.2501\n",
            "Epoch 71/300\n",
            "2/2 [==============================] - 0s 15ms/step - loss: 0.2697 - val_loss: 0.2481\n",
            "Epoch 72/300\n",
            "2/2 [==============================] - 0s 15ms/step - loss: 0.2554 - val_loss: 0.2464\n",
            "Epoch 73/300\n",
            "2/2 [==============================] - 0s 13ms/step - loss: 0.2375 - val_loss: 0.2446\n",
            "Epoch 74/300\n",
            "2/2 [==============================] - 0s 14ms/step - loss: 0.2391 - val_loss: 0.2429\n",
            "Epoch 75/300\n",
            "2/2 [==============================] - 0s 14ms/step - loss: 0.2508 - val_loss: 0.2417\n",
            "Epoch 76/300\n",
            "2/2 [==============================] - 0s 16ms/step - loss: 0.2559 - val_loss: 0.2407\n",
            "Epoch 77/300\n",
            "2/2 [==============================] - 0s 16ms/step - loss: 0.2364 - val_loss: 0.2399\n",
            "Epoch 78/300\n",
            "2/2 [==============================] - 0s 16ms/step - loss: 0.2377 - val_loss: 0.2399\n",
            "Epoch 79/300\n",
            "2/2 [==============================] - 0s 14ms/step - loss: 0.2331 - val_loss: 0.2397\n",
            "Epoch 80/300\n",
            "2/2 [==============================] - 0s 15ms/step - loss: 0.2304 - val_loss: 0.2400\n",
            "Epoch 81/300\n",
            "2/2 [==============================] - 0s 16ms/step - loss: 0.2327 - val_loss: 0.2400\n",
            "Epoch 82/300\n",
            "2/2 [==============================] - 0s 15ms/step - loss: 0.2366 - val_loss: 0.2396\n",
            "Epoch 83/300\n",
            "2/2 [==============================] - 0s 15ms/step - loss: 0.2255 - val_loss: 0.2389\n"
          ],
          "name": "stdout"
        },
        {
          "output_type": "stream",
          "text": [
            "Epoch 84/300\n",
            "2/2 [==============================] - 0s 15ms/step - loss: 0.2333 - val_loss: 0.2382\n",
            "Epoch 85/300\n",
            "2/2 [==============================] - 0s 15ms/step - loss: 0.2220 - val_loss: 0.2370\n",
            "Epoch 86/300\n",
            "2/2 [==============================] - 0s 15ms/step - loss: 0.2207 - val_loss: 0.2365\n",
            "Epoch 87/300\n",
            "2/2 [==============================] - 0s 14ms/step - loss: 0.2322 - val_loss: 0.2367\n",
            "Epoch 88/300\n",
            "2/2 [==============================] - 0s 16ms/step - loss: 0.2488 - val_loss: 0.2373\n",
            "Epoch 89/300\n",
            "2/2 [==============================] - 0s 15ms/step - loss: 0.2313 - val_loss: 0.2379\n",
            "Epoch 90/300\n",
            "2/2 [==============================] - 0s 15ms/step - loss: 0.2409 - val_loss: 0.2388\n",
            "Epoch 91/300\n",
            "2/2 [==============================] - 0s 14ms/step - loss: 0.2233 - val_loss: 0.2388\n",
            "Epoch 92/300\n",
            "2/2 [==============================] - ETA: 0s - loss: 0.223 - 0s 15ms/step - loss: 0.2267 - val_loss: 0.2380\n",
            "Epoch 93/300\n",
            "2/2 [==============================] - 0s 16ms/step - loss: 0.2346 - val_loss: 0.2370\n",
            "Epoch 94/300\n",
            "2/2 [==============================] - 0s 16ms/step - loss: 0.2406 - val_loss: 0.2370\n",
            "Epoch 95/300\n",
            "2/2 [==============================] - 0s 15ms/step - loss: 0.2319 - val_loss: 0.2362\n",
            "Epoch 96/300\n",
            "2/2 [==============================] - 0s 16ms/step - loss: 0.2321 - val_loss: 0.2358\n",
            "Epoch 97/300\n",
            "2/2 [==============================] - 0s 15ms/step - loss: 0.2483 - val_loss: 0.2361\n",
            "Epoch 98/300\n",
            "2/2 [==============================] - 0s 15ms/step - loss: 0.2373 - val_loss: 0.2360\n",
            "Epoch 99/300\n",
            "2/2 [==============================] - 0s 15ms/step - loss: 0.2461 - val_loss: 0.2362\n",
            "Epoch 100/300\n",
            "2/2 [==============================] - 0s 14ms/step - loss: 0.2125 - val_loss: 0.2356\n",
            "Epoch 101/300\n",
            "2/2 [==============================] - 0s 14ms/step - loss: 0.2196 - val_loss: 0.2357\n",
            "Epoch 102/300\n",
            "2/2 [==============================] - 0s 16ms/step - loss: 0.2099 - val_loss: 0.2360\n",
            "Epoch 103/300\n",
            "2/2 [==============================] - 0s 16ms/step - loss: 0.2140 - val_loss: 0.2372\n",
            "Epoch 104/300\n",
            "2/2 [==============================] - 0s 16ms/step - loss: 0.2215 - val_loss: 0.2383\n",
            "Epoch 105/300\n",
            "2/2 [==============================] - 0s 15ms/step - loss: 0.2195 - val_loss: 0.2389\n",
            "Epoch 106/300\n",
            "2/2 [==============================] - 0s 14ms/step - loss: 0.2174 - val_loss: 0.2382\n",
            "Epoch 107/300\n",
            "2/2 [==============================] - 0s 14ms/step - loss: 0.2383 - val_loss: 0.2367\n",
            "Epoch 108/300\n",
            "2/2 [==============================] - 0s 15ms/step - loss: 0.2094 - val_loss: 0.2362\n",
            "Epoch 109/300\n",
            "2/2 [==============================] - 0s 14ms/step - loss: 0.2069 - val_loss: 0.2362\n",
            "Epoch 110/300\n",
            "2/2 [==============================] - 0s 15ms/step - loss: 0.2430 - val_loss: 0.2365\n",
            "Epoch 111/300\n",
            "2/2 [==============================] - 0s 15ms/step - loss: 0.2318 - val_loss: 0.2363\n",
            "Epoch 112/300\n",
            "2/2 [==============================] - 0s 15ms/step - loss: 0.2166 - val_loss: 0.2361\n",
            "Epoch 113/300\n",
            "2/2 [==============================] - 0s 16ms/step - loss: 0.2144 - val_loss: 0.2359\n",
            "Epoch 114/300\n",
            "2/2 [==============================] - 0s 14ms/step - loss: 0.2174 - val_loss: 0.2368\n",
            "Epoch 115/300\n",
            "2/2 [==============================] - 0s 15ms/step - loss: 0.2331 - val_loss: 0.2365\n",
            "Epoch 116/300\n",
            "2/2 [==============================] - 0s 14ms/step - loss: 0.2039 - val_loss: 0.2358\n",
            "Epoch 117/300\n",
            "2/2 [==============================] - 0s 14ms/step - loss: 0.2197 - val_loss: 0.2349\n",
            "Epoch 118/300\n",
            "2/2 [==============================] - 0s 15ms/step - loss: 0.2215 - val_loss: 0.2346\n",
            "Epoch 119/300\n",
            "2/2 [==============================] - 0s 16ms/step - loss: 0.2291 - val_loss: 0.2340\n",
            "Epoch 120/300\n",
            "2/2 [==============================] - 0s 15ms/step - loss: 0.2223 - val_loss: 0.2328\n",
            "Epoch 121/300\n",
            "2/2 [==============================] - 0s 14ms/step - loss: 0.2382 - val_loss: 0.2320\n",
            "Epoch 122/300\n",
            "2/2 [==============================] - 0s 14ms/step - loss: 0.2121 - val_loss: 0.2319\n",
            "Epoch 123/300\n",
            "2/2 [==============================] - 0s 16ms/step - loss: 0.2315 - val_loss: 0.2325\n",
            "Epoch 124/300\n",
            "2/2 [==============================] - 0s 14ms/step - loss: 0.2266 - val_loss: 0.2329\n",
            "Epoch 125/300\n",
            "2/2 [==============================] - 0s 14ms/step - loss: 0.2142 - val_loss: 0.2337\n",
            "Epoch 126/300\n",
            "2/2 [==============================] - 0s 16ms/step - loss: 0.2202 - val_loss: 0.2347\n",
            "Epoch 127/300\n",
            "2/2 [==============================] - 0s 15ms/step - loss: 0.2353 - val_loss: 0.2348\n",
            "Epoch 128/300\n",
            "2/2 [==============================] - 0s 15ms/step - loss: 0.2186 - val_loss: 0.2348\n",
            "Epoch 129/300\n",
            "2/2 [==============================] - 0s 15ms/step - loss: 0.2268 - val_loss: 0.2343\n",
            "Epoch 130/300\n",
            "2/2 [==============================] - 0s 16ms/step - loss: 0.2307 - val_loss: 0.2336\n",
            "Epoch 131/300\n",
            "2/2 [==============================] - 0s 15ms/step - loss: 0.2382 - val_loss: 0.2340\n",
            "Epoch 132/300\n",
            "2/2 [==============================] - 0s 15ms/step - loss: 0.2248 - val_loss: 0.2338\n",
            "Epoch 133/300\n",
            "2/2 [==============================] - 0s 16ms/step - loss: 0.2116 - val_loss: 0.2332\n",
            "Epoch 134/300\n",
            "2/2 [==============================] - 0s 15ms/step - loss: 0.2210 - val_loss: 0.2326\n",
            "Epoch 135/300\n",
            "2/2 [==============================] - 0s 14ms/step - loss: 0.2221 - val_loss: 0.2323\n",
            "Epoch 136/300\n",
            "2/2 [==============================] - 0s 14ms/step - loss: 0.2187 - val_loss: 0.2322\n",
            "Epoch 137/300\n",
            "2/2 [==============================] - 0s 17ms/step - loss: 0.2365 - val_loss: 0.2328\n",
            "Epoch 138/300\n",
            "2/2 [==============================] - 0s 14ms/step - loss: 0.2193 - val_loss: 0.2331\n",
            "Epoch 139/300\n",
            "2/2 [==============================] - 0s 15ms/step - loss: 0.2187 - val_loss: 0.2332\n",
            "Epoch 140/300\n",
            "2/2 [==============================] - 0s 16ms/step - loss: 0.2149 - val_loss: 0.2332\n",
            "Epoch 141/300\n",
            "2/2 [==============================] - 0s 15ms/step - loss: 0.2385 - val_loss: 0.2326\n",
            "Epoch 142/300\n",
            "2/2 [==============================] - 0s 15ms/step - loss: 0.2320 - val_loss: 0.2320\n",
            "Epoch 143/300\n",
            "2/2 [==============================] - 0s 16ms/step - loss: 0.2314 - val_loss: 0.2313\n",
            "Epoch 144/300\n",
            "2/2 [==============================] - 0s 14ms/step - loss: 0.2005 - val_loss: 0.2305\n",
            "Epoch 145/300\n",
            "2/2 [==============================] - 0s 14ms/step - loss: 0.2039 - val_loss: 0.2308\n",
            "Epoch 146/300\n",
            "2/2 [==============================] - 0s 14ms/step - loss: 0.2211 - val_loss: 0.2309\n",
            "Epoch 147/300\n",
            "2/2 [==============================] - 0s 14ms/step - loss: 0.2086 - val_loss: 0.2312\n",
            "Epoch 148/300\n",
            "2/2 [==============================] - 0s 15ms/step - loss: 0.2041 - val_loss: 0.2316\n",
            "Epoch 149/300\n",
            "2/2 [==============================] - 0s 14ms/step - loss: 0.2148 - val_loss: 0.2320\n",
            "Epoch 150/300\n",
            "2/2 [==============================] - 0s 13ms/step - loss: 0.2159 - val_loss: 0.2313\n",
            "Epoch 151/300\n",
            "2/2 [==============================] - 0s 14ms/step - loss: 0.2194 - val_loss: 0.2304\n",
            "Epoch 152/300\n",
            "2/2 [==============================] - 0s 15ms/step - loss: 0.2285 - val_loss: 0.2297\n",
            "Epoch 153/300\n",
            "2/2 [==============================] - 0s 15ms/step - loss: 0.2275 - val_loss: 0.2292\n",
            "Epoch 154/300\n",
            "2/2 [==============================] - 0s 14ms/step - loss: 0.2041 - val_loss: 0.2296\n",
            "Epoch 155/300\n",
            "2/2 [==============================] - 0s 15ms/step - loss: 0.2282 - val_loss: 0.2297\n",
            "Epoch 156/300\n",
            "2/2 [==============================] - 0s 16ms/step - loss: 0.1948 - val_loss: 0.2300\n",
            "Epoch 157/300\n",
            "2/2 [==============================] - 0s 16ms/step - loss: 0.2174 - val_loss: 0.2305\n",
            "Epoch 158/300\n",
            "2/2 [==============================] - 0s 16ms/step - loss: 0.2019 - val_loss: 0.2305\n",
            "Epoch 159/300\n",
            "2/2 [==============================] - 0s 17ms/step - loss: 0.2294 - val_loss: 0.2302\n",
            "Epoch 160/300\n",
            "2/2 [==============================] - 0s 17ms/step - loss: 0.2314 - val_loss: 0.2298\n",
            "Epoch 161/300\n",
            "2/2 [==============================] - 0s 16ms/step - loss: 0.2130 - val_loss: 0.2296\n",
            "Epoch 162/300\n",
            "2/2 [==============================] - 0s 16ms/step - loss: 0.2087 - val_loss: 0.2295\n",
            "Epoch 163/300\n",
            "2/2 [==============================] - 0s 16ms/step - loss: 0.2266 - val_loss: 0.2296\n",
            "Epoch 164/300\n",
            "2/2 [==============================] - 0s 14ms/step - loss: 0.2065 - val_loss: 0.2294\n",
            "Epoch 165/300\n",
            "2/2 [==============================] - 0s 17ms/step - loss: 0.2098 - val_loss: 0.2295\n"
          ],
          "name": "stdout"
        },
        {
          "output_type": "stream",
          "text": [
            "Epoch 166/300\n",
            "2/2 [==============================] - 0s 15ms/step - loss: 0.2068 - val_loss: 0.2286\n",
            "Epoch 167/300\n",
            "2/2 [==============================] - 0s 14ms/step - loss: 0.2076 - val_loss: 0.2287\n",
            "Epoch 168/300\n",
            "2/2 [==============================] - 0s 14ms/step - loss: 0.2121 - val_loss: 0.2287\n",
            "Epoch 169/300\n",
            "2/2 [==============================] - 0s 14ms/step - loss: 0.2228 - val_loss: 0.2286\n",
            "Epoch 170/300\n",
            "2/2 [==============================] - 0s 18ms/step - loss: 0.2015 - val_loss: 0.2292\n",
            "Epoch 171/300\n",
            "2/2 [==============================] - 0s 16ms/step - loss: 0.2301 - val_loss: 0.2302\n",
            "Epoch 172/300\n",
            "2/2 [==============================] - 0s 15ms/step - loss: 0.2124 - val_loss: 0.2311\n",
            "Epoch 173/300\n",
            "2/2 [==============================] - 0s 14ms/step - loss: 0.2143 - val_loss: 0.2310\n",
            "Epoch 174/300\n",
            "2/2 [==============================] - 0s 15ms/step - loss: 0.2102 - val_loss: 0.2308\n",
            "Epoch 175/300\n",
            "2/2 [==============================] - 0s 16ms/step - loss: 0.2129 - val_loss: 0.2299\n",
            "Epoch 176/300\n",
            "2/2 [==============================] - 0s 15ms/step - loss: 0.2125 - val_loss: 0.2288\n",
            "Epoch 177/300\n",
            "2/2 [==============================] - 0s 16ms/step - loss: 0.2177 - val_loss: 0.2283\n",
            "Epoch 178/300\n",
            "2/2 [==============================] - 0s 13ms/step - loss: 0.2333 - val_loss: 0.2279\n",
            "Epoch 179/300\n",
            "2/2 [==============================] - 0s 14ms/step - loss: 0.2160 - val_loss: 0.2278\n",
            "Epoch 180/300\n",
            "2/2 [==============================] - 0s 13ms/step - loss: 0.1981 - val_loss: 0.2287\n",
            "Epoch 181/300\n",
            "2/2 [==============================] - 0s 14ms/step - loss: 0.2268 - val_loss: 0.2296\n",
            "Epoch 182/300\n",
            "2/2 [==============================] - 0s 16ms/step - loss: 0.2137 - val_loss: 0.2313\n",
            "Epoch 183/300\n",
            "2/2 [==============================] - 0s 15ms/step - loss: 0.2168 - val_loss: 0.2322\n",
            "Epoch 184/300\n",
            "2/2 [==============================] - 0s 15ms/step - loss: 0.2137 - val_loss: 0.2322\n",
            "Epoch 185/300\n",
            "2/2 [==============================] - 0s 15ms/step - loss: 0.2189 - val_loss: 0.2311\n",
            "Epoch 186/300\n",
            "2/2 [==============================] - 0s 15ms/step - loss: 0.2228 - val_loss: 0.2291\n",
            "Epoch 187/300\n",
            "2/2 [==============================] - 0s 14ms/step - loss: 0.2234 - val_loss: 0.2269\n",
            "Epoch 188/300\n",
            "2/2 [==============================] - 0s 14ms/step - loss: 0.2006 - val_loss: 0.2257\n",
            "Epoch 189/300\n",
            "2/2 [==============================] - 0s 15ms/step - loss: 0.2112 - val_loss: 0.2253\n",
            "Epoch 190/300\n",
            "2/2 [==============================] - 0s 14ms/step - loss: 0.2250 - val_loss: 0.2253\n",
            "Epoch 191/300\n",
            "2/2 [==============================] - 0s 15ms/step - loss: 0.2254 - val_loss: 0.2264\n",
            "Epoch 192/300\n",
            "2/2 [==============================] - 0s 14ms/step - loss: 0.2220 - val_loss: 0.2285\n",
            "Epoch 193/300\n",
            "2/2 [==============================] - 0s 14ms/step - loss: 0.2068 - val_loss: 0.2304\n",
            "Epoch 194/300\n",
            "2/2 [==============================] - 0s 15ms/step - loss: 0.2178 - val_loss: 0.2311\n",
            "Epoch 195/300\n",
            "2/2 [==============================] - 0s 14ms/step - loss: 0.2094 - val_loss: 0.2307\n",
            "Epoch 196/300\n",
            "2/2 [==============================] - 0s 15ms/step - loss: 0.1928 - val_loss: 0.2293\n",
            "Epoch 197/300\n",
            "2/2 [==============================] - 0s 14ms/step - loss: 0.2039 - val_loss: 0.2281\n",
            "Epoch 198/300\n",
            "2/2 [==============================] - 0s 14ms/step - loss: 0.2194 - val_loss: 0.2278\n",
            "Epoch 199/300\n",
            "2/2 [==============================] - 0s 14ms/step - loss: 0.2147 - val_loss: 0.2276\n",
            "Epoch 200/300\n",
            "2/2 [==============================] - 0s 16ms/step - loss: 0.2145 - val_loss: 0.2280\n",
            "Epoch 201/300\n",
            "2/2 [==============================] - 0s 16ms/step - loss: 0.2132 - val_loss: 0.2277\n",
            "Epoch 202/300\n",
            "2/2 [==============================] - 0s 14ms/step - loss: 0.2049 - val_loss: 0.2280\n",
            "Epoch 203/300\n",
            "2/2 [==============================] - 0s 15ms/step - loss: 0.2053 - val_loss: 0.2288\n",
            "Epoch 204/300\n",
            "2/2 [==============================] - 0s 15ms/step - loss: 0.2073 - val_loss: 0.2288\n",
            "Epoch 205/300\n",
            "2/2 [==============================] - 0s 15ms/step - loss: 0.2137 - val_loss: 0.2286\n",
            "Epoch 206/300\n",
            "2/2 [==============================] - 0s 15ms/step - loss: 0.2179 - val_loss: 0.2282\n",
            "Epoch 207/300\n",
            "2/2 [==============================] - 0s 17ms/step - loss: 0.2158 - val_loss: 0.2285\n",
            "Epoch 208/300\n",
            "2/2 [==============================] - 0s 13ms/step - loss: 0.2011 - val_loss: 0.2280\n",
            "Epoch 209/300\n",
            "2/2 [==============================] - 0s 14ms/step - loss: 0.2262 - val_loss: 0.2284\n",
            "Epoch 210/300\n",
            "2/2 [==============================] - 0s 14ms/step - loss: 0.2256 - val_loss: 0.2286\n",
            "Epoch 211/300\n",
            "2/2 [==============================] - 0s 15ms/step - loss: 0.2316 - val_loss: 0.2278\n",
            "Epoch 212/300\n",
            "2/2 [==============================] - 0s 15ms/step - loss: 0.2122 - val_loss: 0.2271\n",
            "Epoch 213/300\n",
            "2/2 [==============================] - 0s 13ms/step - loss: 0.2145 - val_loss: 0.2264\n",
            "Epoch 214/300\n",
            "2/2 [==============================] - 0s 14ms/step - loss: 0.2149 - val_loss: 0.2262\n",
            "Epoch 215/300\n",
            "2/2 [==============================] - 0s 16ms/step - loss: 0.2173 - val_loss: 0.2263\n",
            "Epoch 216/300\n",
            "2/2 [==============================] - 0s 15ms/step - loss: 0.2012 - val_loss: 0.2268\n",
            "Epoch 217/300\n",
            "2/2 [==============================] - 0s 15ms/step - loss: 0.1901 - val_loss: 0.2276\n",
            "Epoch 218/300\n",
            "2/2 [==============================] - 0s 14ms/step - loss: 0.2150 - val_loss: 0.2283\n",
            "Epoch 219/300\n",
            "2/2 [==============================] - 0s 16ms/step - loss: 0.2197 - val_loss: 0.2285\n",
            "Epoch 220/300\n",
            "2/2 [==============================] - 0s 14ms/step - loss: 0.2005 - val_loss: 0.2289\n",
            "Epoch 221/300\n",
            "2/2 [==============================] - 0s 14ms/step - loss: 0.1852 - val_loss: 0.2288\n",
            "Epoch 222/300\n",
            "2/2 [==============================] - 0s 15ms/step - loss: 0.2037 - val_loss: 0.2286\n",
            "Epoch 223/300\n",
            "2/2 [==============================] - 0s 15ms/step - loss: 0.1986 - val_loss: 0.2275\n",
            "Epoch 224/300\n",
            "2/2 [==============================] - 0s 14ms/step - loss: 0.2263 - val_loss: 0.2267\n",
            "Epoch 225/300\n",
            "2/2 [==============================] - 0s 15ms/step - loss: 0.2085 - val_loss: 0.2265\n",
            "Epoch 226/300\n",
            "2/2 [==============================] - 0s 15ms/step - loss: 0.2224 - val_loss: 0.2266\n",
            "Epoch 227/300\n",
            "2/2 [==============================] - 0s 14ms/step - loss: 0.2248 - val_loss: 0.2274\n",
            "Epoch 228/300\n",
            "2/2 [==============================] - 0s 14ms/step - loss: 0.2067 - val_loss: 0.2280\n",
            "Epoch 229/300\n",
            "2/2 [==============================] - 0s 15ms/step - loss: 0.2037 - val_loss: 0.2287\n",
            "Epoch 230/300\n",
            "2/2 [==============================] - 0s 14ms/step - loss: 0.2062 - val_loss: 0.2288\n",
            "Epoch 231/300\n",
            "2/2 [==============================] - 0s 15ms/step - loss: 0.2174 - val_loss: 0.2284\n",
            "Epoch 232/300\n",
            "2/2 [==============================] - 0s 15ms/step - loss: 0.2164 - val_loss: 0.2278\n",
            "Epoch 233/300\n",
            "2/2 [==============================] - 0s 14ms/step - loss: 0.2088 - val_loss: 0.2271\n",
            "Epoch 234/300\n",
            "2/2 [==============================] - 0s 14ms/step - loss: 0.2146 - val_loss: 0.2270\n",
            "Epoch 235/300\n",
            "2/2 [==============================] - 0s 14ms/step - loss: 0.2086 - val_loss: 0.2271\n",
            "Epoch 236/300\n",
            "2/2 [==============================] - 0s 15ms/step - loss: 0.1934 - val_loss: 0.2283\n",
            "Epoch 237/300\n",
            "2/2 [==============================] - 0s 17ms/step - loss: 0.2214 - val_loss: 0.2290\n",
            "Epoch 238/300\n",
            "2/2 [==============================] - 0s 15ms/step - loss: 0.2204 - val_loss: 0.2290\n",
            "Epoch 239/300\n",
            "2/2 [==============================] - 0s 14ms/step - loss: 0.1982 - val_loss: 0.2288\n",
            "Epoch 240/300\n",
            "2/2 [==============================] - 0s 15ms/step - loss: 0.2250 - val_loss: 0.2280\n",
            "Epoch 241/300\n",
            "2/2 [==============================] - 0s 16ms/step - loss: 0.1879 - val_loss: 0.2275\n",
            "Epoch 242/300\n",
            "2/2 [==============================] - 0s 14ms/step - loss: 0.2217 - val_loss: 0.2276\n",
            "Epoch 243/300\n",
            "2/2 [==============================] - 0s 14ms/step - loss: 0.2117 - val_loss: 0.2276\n",
            "Epoch 244/300\n",
            "2/2 [==============================] - 0s 14ms/step - loss: 0.1951 - val_loss: 0.2270\n",
            "Epoch 245/300\n",
            "2/2 [==============================] - 0s 15ms/step - loss: 0.2105 - val_loss: 0.2270\n",
            "Epoch 246/300\n",
            "2/2 [==============================] - 0s 14ms/step - loss: 0.2125 - val_loss: 0.2274\n",
            "Epoch 247/300\n",
            "2/2 [==============================] - 0s 14ms/step - loss: 0.2230 - val_loss: 0.2274\n"
          ],
          "name": "stdout"
        },
        {
          "output_type": "stream",
          "text": [
            "Epoch 248/300\n",
            "2/2 [==============================] - 0s 17ms/step - loss: 0.2166 - val_loss: 0.2269\n",
            "Epoch 249/300\n",
            "2/2 [==============================] - 0s 19ms/step - loss: 0.2068 - val_loss: 0.2268\n",
            "Epoch 250/300\n",
            "2/2 [==============================] - 0s 15ms/step - loss: 0.1909 - val_loss: 0.2273\n",
            "Epoch 251/300\n",
            "2/2 [==============================] - 0s 14ms/step - loss: 0.2006 - val_loss: 0.2269\n",
            "Epoch 252/300\n",
            "2/2 [==============================] - 0s 16ms/step - loss: 0.2032 - val_loss: 0.2271\n",
            "Epoch 253/300\n",
            "2/2 [==============================] - 0s 14ms/step - loss: 0.2067 - val_loss: 0.2271\n",
            "Epoch 254/300\n",
            "2/2 [==============================] - 0s 14ms/step - loss: 0.2111 - val_loss: 0.2275\n",
            "Epoch 255/300\n",
            "2/2 [==============================] - 0s 14ms/step - loss: 0.2169 - val_loss: 0.2283\n",
            "Epoch 256/300\n",
            "2/2 [==============================] - 0s 14ms/step - loss: 0.2026 - val_loss: 0.2284\n",
            "Epoch 257/300\n",
            "2/2 [==============================] - 0s 16ms/step - loss: 0.1976 - val_loss: 0.2276\n",
            "Epoch 258/300\n",
            "2/2 [==============================] - 0s 14ms/step - loss: 0.1900 - val_loss: 0.2265\n",
            "Epoch 259/300\n",
            "2/2 [==============================] - 0s 16ms/step - loss: 0.2100 - val_loss: 0.2261\n",
            "Epoch 260/300\n",
            "2/2 [==============================] - 0s 14ms/step - loss: 0.1801 - val_loss: 0.2247\n",
            "Epoch 261/300\n",
            "2/2 [==============================] - 0s 14ms/step - loss: 0.2090 - val_loss: 0.2247\n",
            "Epoch 262/300\n",
            "2/2 [==============================] - 0s 14ms/step - loss: 0.2248 - val_loss: 0.2250\n",
            "Epoch 263/300\n",
            "2/2 [==============================] - 0s 14ms/step - loss: 0.2190 - val_loss: 0.2253\n",
            "Epoch 264/300\n",
            "2/2 [==============================] - 0s 14ms/step - loss: 0.2000 - val_loss: 0.2262\n",
            "Epoch 265/300\n",
            "2/2 [==============================] - 0s 14ms/step - loss: 0.2105 - val_loss: 0.2258\n",
            "Epoch 266/300\n",
            "2/2 [==============================] - 0s 15ms/step - loss: 0.2101 - val_loss: 0.2252\n",
            "Epoch 267/300\n",
            "2/2 [==============================] - 0s 14ms/step - loss: 0.2161 - val_loss: 0.2253\n",
            "Epoch 268/300\n",
            "2/2 [==============================] - 0s 16ms/step - loss: 0.2013 - val_loss: 0.2256\n",
            "Epoch 269/300\n",
            "2/2 [==============================] - 0s 16ms/step - loss: 0.2093 - val_loss: 0.2255\n",
            "Epoch 270/300\n",
            "2/2 [==============================] - 0s 19ms/step - loss: 0.2117 - val_loss: 0.2263\n",
            "Epoch 271/300\n",
            "2/2 [==============================] - 0s 14ms/step - loss: 0.2211 - val_loss: 0.2267\n",
            "Epoch 272/300\n",
            "2/2 [==============================] - 0s 15ms/step - loss: 0.2012 - val_loss: 0.2262\n",
            "Epoch 273/300\n",
            "2/2 [==============================] - 0s 15ms/step - loss: 0.1846 - val_loss: 0.2262\n",
            "Epoch 274/300\n",
            "2/2 [==============================] - 0s 15ms/step - loss: 0.2056 - val_loss: 0.2260\n",
            "Epoch 275/300\n",
            "2/2 [==============================] - 0s 17ms/step - loss: 0.2091 - val_loss: 0.2261\n",
            "Epoch 276/300\n",
            "2/2 [==============================] - 0s 15ms/step - loss: 0.1987 - val_loss: 0.2256\n",
            "Epoch 277/300\n",
            "2/2 [==============================] - 0s 15ms/step - loss: 0.1895 - val_loss: 0.2258\n",
            "Epoch 278/300\n",
            "2/2 [==============================] - 0s 15ms/step - loss: 0.2041 - val_loss: 0.2255\n",
            "Epoch 279/300\n",
            "2/2 [==============================] - 0s 14ms/step - loss: 0.2177 - val_loss: 0.2257\n",
            "Epoch 280/300\n",
            "2/2 [==============================] - 0s 16ms/step - loss: 0.1987 - val_loss: 0.2260\n",
            "Epoch 281/300\n",
            "2/2 [==============================] - 0s 15ms/step - loss: 0.2065 - val_loss: 0.2260\n",
            "Epoch 282/300\n",
            "2/2 [==============================] - 0s 15ms/step - loss: 0.2027 - val_loss: 0.2255\n",
            "Epoch 283/300\n",
            "2/2 [==============================] - 0s 16ms/step - loss: 0.2040 - val_loss: 0.2253\n",
            "Epoch 284/300\n",
            "2/2 [==============================] - 0s 14ms/step - loss: 0.1831 - val_loss: 0.2245\n",
            "Epoch 285/300\n",
            "2/2 [==============================] - 0s 14ms/step - loss: 0.1894 - val_loss: 0.2245\n",
            "Epoch 286/300\n",
            "2/2 [==============================] - 0s 14ms/step - loss: 0.2271 - val_loss: 0.2241\n",
            "Epoch 287/300\n",
            "2/2 [==============================] - 0s 14ms/step - loss: 0.1937 - val_loss: 0.2244\n",
            "Epoch 288/300\n",
            "2/2 [==============================] - 0s 14ms/step - loss: 0.2102 - val_loss: 0.2245\n",
            "Epoch 289/300\n",
            "2/2 [==============================] - 0s 15ms/step - loss: 0.2146 - val_loss: 0.2246\n",
            "Epoch 290/300\n",
            "2/2 [==============================] - 0s 15ms/step - loss: 0.2143 - val_loss: 0.2248\n",
            "Epoch 291/300\n",
            "2/2 [==============================] - 0s 14ms/step - loss: 0.2173 - val_loss: 0.2254\n",
            "Epoch 292/300\n",
            "2/2 [==============================] - 0s 17ms/step - loss: 0.1992 - val_loss: 0.2258\n",
            "Epoch 293/300\n",
            "2/2 [==============================] - 0s 15ms/step - loss: 0.2039 - val_loss: 0.2256\n",
            "Epoch 294/300\n",
            "2/2 [==============================] - 0s 14ms/step - loss: 0.2046 - val_loss: 0.2250\n",
            "Epoch 295/300\n",
            "2/2 [==============================] - 0s 16ms/step - loss: 0.1922 - val_loss: 0.2246\n",
            "Epoch 296/300\n",
            "2/2 [==============================] - 0s 15ms/step - loss: 0.2005 - val_loss: 0.2238\n",
            "Epoch 297/300\n",
            "2/2 [==============================] - 0s 15ms/step - loss: 0.2003 - val_loss: 0.2233\n",
            "Epoch 298/300\n",
            "2/2 [==============================] - 0s 15ms/step - loss: 0.1926 - val_loss: 0.2240\n",
            "Epoch 299/300\n",
            "2/2 [==============================] - 0s 15ms/step - loss: 0.1955 - val_loss: 0.2243\n",
            "Epoch 300/300\n",
            "2/2 [==============================] - 0s 15ms/step - loss: 0.2077 - val_loss: 0.2246\n"
          ],
          "name": "stdout"
        }
      ]
    },
    {
      "cell_type": "code",
      "metadata": {
        "id": "d125e76a",
        "outputId": "ddf88a83-fdc1-449b-f71c-43868468695d"
      },
      "source": [
        "fig = go.Figure(layout = dict(title=\"Loss\"))\n",
        "fig.add_trace(go.Scatter(x=list(range(len(history.history[\"loss\"]))),y=history.history[\"loss\"], name=\"loss\"))\n",
        "fig.add_trace(go.Scatter(x=list(range(len(history.history[\"loss\"]))),y=history.history[\"val_loss\"], name=\"val_loss\"))\n",
        "fig.show()"
      ],
      "id": "d125e76a",
      "execution_count": null,
      "outputs": [
        {
          "output_type": "display_data",
          "data": {
            "application/vnd.plotly.v1+json": {
              "config": {
                "plotlyServerURL": "https://plot.ly"
              },
              "data": [
                {
                  "name": "loss",
                  "type": "scatter",
                  "x": [
                    0,
                    1,
                    2,
                    3,
                    4,
                    5,
                    6,
                    7,
                    8,
                    9,
                    10,
                    11,
                    12,
                    13,
                    14,
                    15,
                    16,
                    17,
                    18,
                    19,
                    20,
                    21,
                    22,
                    23,
                    24,
                    25,
                    26,
                    27,
                    28,
                    29,
                    30,
                    31,
                    32,
                    33,
                    34,
                    35,
                    36,
                    37,
                    38,
                    39,
                    40,
                    41,
                    42,
                    43,
                    44,
                    45,
                    46,
                    47,
                    48,
                    49,
                    50,
                    51,
                    52,
                    53,
                    54,
                    55,
                    56,
                    57,
                    58,
                    59,
                    60,
                    61,
                    62,
                    63,
                    64,
                    65,
                    66,
                    67,
                    68,
                    69,
                    70,
                    71,
                    72,
                    73,
                    74,
                    75,
                    76,
                    77,
                    78,
                    79,
                    80,
                    81,
                    82,
                    83,
                    84,
                    85,
                    86,
                    87,
                    88,
                    89,
                    90,
                    91,
                    92,
                    93,
                    94,
                    95,
                    96,
                    97,
                    98,
                    99,
                    100,
                    101,
                    102,
                    103,
                    104,
                    105,
                    106,
                    107,
                    108,
                    109,
                    110,
                    111,
                    112,
                    113,
                    114,
                    115,
                    116,
                    117,
                    118,
                    119,
                    120,
                    121,
                    122,
                    123,
                    124,
                    125,
                    126,
                    127,
                    128,
                    129,
                    130,
                    131,
                    132,
                    133,
                    134,
                    135,
                    136,
                    137,
                    138,
                    139,
                    140,
                    141,
                    142,
                    143,
                    144,
                    145,
                    146,
                    147,
                    148,
                    149,
                    150,
                    151,
                    152,
                    153,
                    154,
                    155,
                    156,
                    157,
                    158,
                    159,
                    160,
                    161,
                    162,
                    163,
                    164,
                    165,
                    166,
                    167,
                    168,
                    169,
                    170,
                    171,
                    172,
                    173,
                    174,
                    175,
                    176,
                    177,
                    178,
                    179,
                    180,
                    181,
                    182,
                    183,
                    184,
                    185,
                    186,
                    187,
                    188,
                    189,
                    190,
                    191,
                    192,
                    193,
                    194,
                    195,
                    196,
                    197,
                    198,
                    199,
                    200,
                    201,
                    202,
                    203,
                    204,
                    205,
                    206,
                    207,
                    208,
                    209,
                    210,
                    211,
                    212,
                    213,
                    214,
                    215,
                    216,
                    217,
                    218,
                    219,
                    220,
                    221,
                    222,
                    223,
                    224,
                    225,
                    226,
                    227,
                    228,
                    229,
                    230,
                    231,
                    232,
                    233,
                    234,
                    235,
                    236,
                    237,
                    238,
                    239,
                    240,
                    241,
                    242,
                    243,
                    244,
                    245,
                    246,
                    247,
                    248,
                    249,
                    250,
                    251,
                    252,
                    253,
                    254,
                    255,
                    256,
                    257,
                    258,
                    259,
                    260,
                    261,
                    262,
                    263,
                    264,
                    265,
                    266,
                    267,
                    268,
                    269,
                    270,
                    271,
                    272,
                    273,
                    274,
                    275,
                    276,
                    277,
                    278,
                    279,
                    280,
                    281,
                    282,
                    283,
                    284,
                    285,
                    286,
                    287,
                    288,
                    289,
                    290,
                    291,
                    292,
                    293,
                    294,
                    295,
                    296,
                    297,
                    298,
                    299
                  ],
                  "y": [
                    0.6922391057014465,
                    0.6888179183006287,
                    0.685653567314148,
                    0.682567298412323,
                    0.6797245144844055,
                    0.6769574880599976,
                    0.6742427349090576,
                    0.6716333627700806,
                    0.6686627268791199,
                    0.6655771732330322,
                    0.6621554493904114,
                    0.6587122082710266,
                    0.6546468734741211,
                    0.650391697883606,
                    0.6454599499702454,
                    0.639806866645813,
                    0.6337786316871643,
                    0.6269130110740662,
                    0.6206045150756836,
                    0.614193856716156,
                    0.6077232956886292,
                    0.6010236144065857,
                    0.5942134857177734,
                    0.5872395038604736,
                    0.5800867080688477,
                    0.5728809833526611,
                    0.5655551552772522,
                    0.5579326748847961,
                    0.550704836845398,
                    0.5429080128669739,
                    0.5352268815040588,
                    0.527243971824646,
                    0.5192908048629761,
                    0.5110004544258118,
                    0.5028209686279297,
                    0.49437224864959717,
                    0.4859926104545593,
                    0.4777033030986786,
                    0.46908655762672424,
                    0.4606061577796936,
                    0.45176729559898376,
                    0.44326239824295044,
                    0.43450024724006653,
                    0.42623481154441833,
                    0.4173751473426819,
                    0.40915629267692566,
                    0.40082553029060364,
                    0.3927289843559265,
                    0.38428208231925964,
                    0.3762917220592499,
                    0.36810800433158875,
                    0.3600967228412628,
                    0.35229137539863586,
                    0.34439051151275635,
                    0.33738237619400024,
                    0.32970473170280457,
                    0.32250118255615234,
                    0.3160768747329712,
                    0.30933231115341187,
                    0.30323436856269836,
                    0.2967430651187897,
                    0.2910618484020233,
                    0.2860209047794342,
                    0.2808631360530853,
                    0.27595603466033936,
                    0.2716223895549774,
                    0.2674623429775238,
                    0.2638240158557892,
                    0.25990211963653564,
                    0.2568380832672119,
                    0.2534228563308716,
                    0.25096026062965393,
                    0.24852126836776733,
                    0.24633286893367767,
                    0.24414002895355225,
                    0.24227149784564972,
                    0.24094253778457642,
                    0.23937349021434784,
                    0.23766550421714783,
                    0.23664602637290955,
                    0.23562943935394287,
                    0.23445256054401398,
                    0.23363076150417328,
                    0.23269569873809814,
                    0.2321476936340332,
                    0.23170414566993713,
                    0.23076000809669495,
                    0.23004622757434845,
                    0.22956906259059906,
                    0.22926917672157288,
                    0.2291058897972107,
                    0.22845007479190826,
                    0.22849559783935547,
                    0.22781896591186523,
                    0.22747544944286346,
                    0.22714319825172424,
                    0.22692541778087616,
                    0.22651177644729614,
                    0.2265329658985138,
                    0.22634448111057281,
                    0.22589164972305298,
                    0.2258882224559784,
                    0.2253093123435974,
                    0.225309818983078,
                    0.22545386850833893,
                    0.22509433329105377,
                    0.2255086600780487,
                    0.22482849657535553,
                    0.22452251613140106,
                    0.22431837022304535,
                    0.22414341568946838,
                    0.22398072481155396,
                    0.22422613203525543,
                    0.22400614619255066,
                    0.22354668378829956,
                    0.22338390350341797,
                    0.22343723475933075,
                    0.22307246923446655,
                    0.22300837934017181,
                    0.22266551852226257,
                    0.22276385128498077,
                    0.22265981137752533,
                    0.22261285781860352,
                    0.22220072150230408,
                    0.22197434306144714,
                    0.2219168096780777,
                    0.22189901769161224,
                    0.22168156504631042,
                    0.2215362787246704,
                    0.22197534143924713,
                    0.22130319476127625,
                    0.2211092710494995,
                    0.22092275321483612,
                    0.22076237201690674,
                    0.22063879668712616,
                    0.22058682143688202,
                    0.2203611433506012,
                    0.22020214796066284,
                    0.22008393704891205,
                    0.22010257840156555,
                    0.21989043056964874,
                    0.21972191333770752,
                    0.21965789794921875,
                    0.2199723720550537,
                    0.21953806281089783,
                    0.21935224533081055,
                    0.21918299794197083,
                    0.2190399467945099,
                    0.21932457387447357,
                    0.21876269578933716,
                    0.21855054795742035,
                    0.21847917139530182,
                    0.2184593379497528,
                    0.2183421403169632,
                    0.2180481255054474,
                    0.21787583827972412,
                    0.21774257719516754,
                    0.21757182478904724,
                    0.2174479067325592,
                    0.21735024452209473,
                    0.21710552275180817,
                    0.21700605750083923,
                    0.21690765023231506,
                    0.21671058237552643,
                    0.2169163078069687,
                    0.21700984239578247,
                    0.2165105938911438,
                    0.21631206572055817,
                    0.21640610694885254,
                    0.21604019403457642,
                    0.2158764898777008,
                    0.21603284776210785,
                    0.21585752069950104,
                    0.21589180827140808,
                    0.21553678810596466,
                    0.21554015576839447,
                    0.21526749432086945,
                    0.21530525386333466,
                    0.2155495434999466,
                    0.21507234871387482,
                    0.2149437665939331,
                    0.2147640883922577,
                    0.21485687792301178,
                    0.21504870057106018,
                    0.21493172645568848,
                    0.21423621475696564,
                    0.2141740769147873,
                    0.2142699956893921,
                    0.2146880030632019,
                    0.21502475440502167,
                    0.21452483534812927,
                    0.21421168744564056,
                    0.2142656147480011,
                    0.213902086019516,
                    0.21365465223789215,
                    0.21353279054164886,
                    0.21352313458919525,
                    0.21314063668251038,
                    0.21307994425296783,
                    0.21328876912593842,
                    0.21299676597118378,
                    0.21277204155921936,
                    0.2128218561410904,
                    0.2125367820262909,
                    0.21244026720523834,
                    0.21252399682998657,
                    0.21234993636608124,
                    0.2123374342918396,
                    0.21200400590896606,
                    0.21230965852737427,
                    0.2117885947227478,
                    0.2116546481847763,
                    0.21164031326770782,
                    0.21170121431350708,
                    0.21162348985671997,
                    0.21151292324066162,
                    0.21137171983718872,
                    0.2112523317337036,
                    0.21107196807861328,
                    0.2110854536294937,
                    0.21099191904067993,
                    0.21099106967449188,
                    0.2107091248035431,
                    0.2107744961977005,
                    0.21057313680648804,
                    0.2106306403875351,
                    0.21047388017177582,
                    0.21029239892959595,
                    0.21028347313404083,
                    0.21013228595256805,
                    0.2100442498922348,
                    0.2098589688539505,
                    0.2099347561597824,
                    0.20976576209068298,
                    0.2099909633398056,
                    0.20967808365821838,
                    0.20952877402305603,
                    0.20939761400222778,
                    0.2093466818332672,
                    0.2092493176460266,
                    0.2093021720647812,
                    0.20901566743850708,
                    0.20895487070083618,
                    0.2090420424938202,
                    0.20875704288482666,
                    0.20864564180374146,
                    0.20865294337272644,
                    0.20845599472522736,
                    0.20836053788661957,
                    0.20847736299037933,
                    0.20820584893226624,
                    0.2080296277999878,
                    0.20805078744888306,
                    0.20780955255031586,
                    0.20781433582305908,
                    0.20776741206645966,
                    0.2075715959072113,
                    0.20743291079998016,
                    0.20753160119056702,
                    0.207540363073349,
                    0.20738014578819275,
                    0.20723727345466614,
                    0.20706389844417572,
                    0.20770329236984253,
                    0.20670293271541595,
                    0.20674994587898254,
                    0.20658209919929504,
                    0.20651671290397644,
                    0.20664826035499573,
                    0.20638875663280487,
                    0.20643699169158936,
                    0.20626743137836456,
                    0.20603996515274048,
                    0.20598196983337402,
                    0.20603123307228088,
                    0.20590455830097198,
                    0.2059122920036316,
                    0.20565365254878998,
                    0.2056562453508377,
                    0.20549076795578003,
                    0.20537078380584717,
                    0.2053012251853943,
                    0.20527735352516174,
                    0.20521000027656555,
                    0.20510481297969818,
                    0.20500046014785767,
                    0.20496632158756256,
                    0.2047090232372284,
                    0.2046196013689041,
                    0.2046002596616745,
                    0.20444124937057495,
                    0.20448967814445496,
                    0.20429639518260956,
                    0.20416703820228577,
                    0.20414461195468903,
                    0.20396491885185242,
                    0.204218789935112,
                    0.20403647422790527,
                    0.2036694586277008,
                    0.20356091856956482
                  ]
                },
                {
                  "name": "val_loss",
                  "type": "scatter",
                  "x": [
                    0,
                    1,
                    2,
                    3,
                    4,
                    5,
                    6,
                    7,
                    8,
                    9,
                    10,
                    11,
                    12,
                    13,
                    14,
                    15,
                    16,
                    17,
                    18,
                    19,
                    20,
                    21,
                    22,
                    23,
                    24,
                    25,
                    26,
                    27,
                    28,
                    29,
                    30,
                    31,
                    32,
                    33,
                    34,
                    35,
                    36,
                    37,
                    38,
                    39,
                    40,
                    41,
                    42,
                    43,
                    44,
                    45,
                    46,
                    47,
                    48,
                    49,
                    50,
                    51,
                    52,
                    53,
                    54,
                    55,
                    56,
                    57,
                    58,
                    59,
                    60,
                    61,
                    62,
                    63,
                    64,
                    65,
                    66,
                    67,
                    68,
                    69,
                    70,
                    71,
                    72,
                    73,
                    74,
                    75,
                    76,
                    77,
                    78,
                    79,
                    80,
                    81,
                    82,
                    83,
                    84,
                    85,
                    86,
                    87,
                    88,
                    89,
                    90,
                    91,
                    92,
                    93,
                    94,
                    95,
                    96,
                    97,
                    98,
                    99,
                    100,
                    101,
                    102,
                    103,
                    104,
                    105,
                    106,
                    107,
                    108,
                    109,
                    110,
                    111,
                    112,
                    113,
                    114,
                    115,
                    116,
                    117,
                    118,
                    119,
                    120,
                    121,
                    122,
                    123,
                    124,
                    125,
                    126,
                    127,
                    128,
                    129,
                    130,
                    131,
                    132,
                    133,
                    134,
                    135,
                    136,
                    137,
                    138,
                    139,
                    140,
                    141,
                    142,
                    143,
                    144,
                    145,
                    146,
                    147,
                    148,
                    149,
                    150,
                    151,
                    152,
                    153,
                    154,
                    155,
                    156,
                    157,
                    158,
                    159,
                    160,
                    161,
                    162,
                    163,
                    164,
                    165,
                    166,
                    167,
                    168,
                    169,
                    170,
                    171,
                    172,
                    173,
                    174,
                    175,
                    176,
                    177,
                    178,
                    179,
                    180,
                    181,
                    182,
                    183,
                    184,
                    185,
                    186,
                    187,
                    188,
                    189,
                    190,
                    191,
                    192,
                    193,
                    194,
                    195,
                    196,
                    197,
                    198,
                    199,
                    200,
                    201,
                    202,
                    203,
                    204,
                    205,
                    206,
                    207,
                    208,
                    209,
                    210,
                    211,
                    212,
                    213,
                    214,
                    215,
                    216,
                    217,
                    218,
                    219,
                    220,
                    221,
                    222,
                    223,
                    224,
                    225,
                    226,
                    227,
                    228,
                    229,
                    230,
                    231,
                    232,
                    233,
                    234,
                    235,
                    236,
                    237,
                    238,
                    239,
                    240,
                    241,
                    242,
                    243,
                    244,
                    245,
                    246,
                    247,
                    248,
                    249,
                    250,
                    251,
                    252,
                    253,
                    254,
                    255,
                    256,
                    257,
                    258,
                    259,
                    260,
                    261,
                    262,
                    263,
                    264,
                    265,
                    266,
                    267,
                    268,
                    269,
                    270,
                    271,
                    272,
                    273,
                    274,
                    275,
                    276,
                    277,
                    278,
                    279,
                    280,
                    281,
                    282,
                    283,
                    284,
                    285,
                    286,
                    287,
                    288,
                    289,
                    290,
                    291,
                    292,
                    293,
                    294,
                    295,
                    296,
                    297,
                    298,
                    299
                  ],
                  "y": [
                    0.6882136464118958,
                    0.6843124628067017,
                    0.6806244850158691,
                    0.6770381927490234,
                    0.6736668944358826,
                    0.6704829335212708,
                    0.6672526597976685,
                    0.6638922095298767,
                    0.6604350209236145,
                    0.6566613912582397,
                    0.652656078338623,
                    0.6482875347137451,
                    0.6435543894767761,
                    0.6382824182510376,
                    0.6322547793388367,
                    0.6252037286758423,
                    0.617583155632019,
                    0.6098760366439819,
                    0.6021149158477783,
                    0.5943704843521118,
                    0.5866343975067139,
                    0.5788258910179138,
                    0.5709765553474426,
                    0.5630513429641724,
                    0.5550109148025513,
                    0.546901285648346,
                    0.5387248992919922,
                    0.5304815769195557,
                    0.5221689343452454,
                    0.5138031244277954,
                    0.5052903890609741,
                    0.49673041701316833,
                    0.48809683322906494,
                    0.47942379117012024,
                    0.4707033634185791,
                    0.46199414134025574,
                    0.4532705545425415,
                    0.44450128078460693,
                    0.4358459711074829,
                    0.4272388815879822,
                    0.41871246695518494,
                    0.4102676510810852,
                    0.4018947184085846,
                    0.3936311602592468,
                    0.38558411598205566,
                    0.3777097463607788,
                    0.37003493309020996,
                    0.3623776137828827,
                    0.3548009395599365,
                    0.34731316566467285,
                    0.34000900387763977,
                    0.3327411413192749,
                    0.3257727324962616,
                    0.3189549148082733,
                    0.31240159273147583,
                    0.30626165866851807,
                    0.3003891110420227,
                    0.2945680022239685,
                    0.2892908751964569,
                    0.2844332456588745,
                    0.2797611951828003,
                    0.27544766664505005,
                    0.2710709273815155,
                    0.26737239956855774,
                    0.26388025283813477,
                    0.26064491271972656,
                    0.2579312324523926,
                    0.2554198205471039,
                    0.2526405453681946,
                    0.2500784993171692,
                    0.24812595546245575,
                    0.24639233946800232,
                    0.2446347177028656,
                    0.2428671270608902,
                    0.24166657030582428,
                    0.24067844450473785,
                    0.23994120955467224,
                    0.23985250294208527,
                    0.23973296582698822,
                    0.23995022475719452,
                    0.24000664055347443,
                    0.23962053656578064,
                    0.23893193900585175,
                    0.2381737381219864,
                    0.23700618743896484,
                    0.23649659752845764,
                    0.23674806952476501,
                    0.23726558685302734,
                    0.23792600631713867,
                    0.2387581318616867,
                    0.23882193863391876,
                    0.23801955580711365,
                    0.2369881421327591,
                    0.2369879186153412,
                    0.23620565235614777,
                    0.23582841455936432,
                    0.23605014383792877,
                    0.23603427410125732,
                    0.23619262874126434,
                    0.23560529947280884,
                    0.23568664491176605,
                    0.23599977791309357,
                    0.23719163239002228,
                    0.23829972743988037,
                    0.23885807394981384,
                    0.23820072412490845,
                    0.23673458397388458,
                    0.23622731864452362,
                    0.23623652756214142,
                    0.236491397023201,
                    0.23632703721523285,
                    0.23610664904117584,
                    0.23594123125076294,
                    0.2368161827325821,
                    0.23654289543628693,
                    0.23584908246994019,
                    0.23485887050628662,
                    0.23463910818099976,
                    0.23403319716453552,
                    0.23276126384735107,
                    0.23196323215961456,
                    0.23188258707523346,
                    0.23247982561588287,
                    0.23285819590091705,
                    0.23374134302139282,
                    0.2346772402524948,
                    0.23476845026016235,
                    0.23480159044265747,
                    0.2343282252550125,
                    0.2336200773715973,
                    0.2339802235364914,
                    0.23381833732128143,
                    0.23315571248531342,
                    0.23259593546390533,
                    0.23231559991836548,
                    0.2322496771812439,
                    0.23279178142547607,
                    0.2331312745809555,
                    0.2332497239112854,
                    0.23323142528533936,
                    0.23263370990753174,
                    0.23199428617954254,
                    0.2313157320022583,
                    0.23052860796451569,
                    0.23080044984817505,
                    0.23085246980190277,
                    0.23120403289794922,
                    0.2316063642501831,
                    0.23195026814937592,
                    0.23129434883594513,
                    0.2304045557975769,
                    0.2297060638666153,
                    0.22922278940677643,
                    0.22958099842071533,
                    0.22967776656150818,
                    0.23001506924629211,
                    0.2304837554693222,
                    0.23047733306884766,
                    0.23022326827049255,
                    0.22975043952465057,
                    0.22955204546451569,
                    0.2294602245092392,
                    0.2296154797077179,
                    0.22944040596485138,
                    0.22949177026748657,
                    0.22855372726917267,
                    0.22872531414031982,
                    0.22865988314151764,
                    0.2285601794719696,
                    0.22921234369277954,
                    0.23021501302719116,
                    0.23109577596187592,
                    0.23097707331180573,
                    0.23077432811260223,
                    0.22990287840366364,
                    0.22882872819900513,
                    0.22834648191928864,
                    0.22789500653743744,
                    0.2278163731098175,
                    0.2287386655807495,
                    0.22964540123939514,
                    0.2312535047531128,
                    0.2321934849023819,
                    0.23223677277565002,
                    0.23112986981868744,
                    0.229114830493927,
                    0.22686199843883514,
                    0.22570942342281342,
                    0.2252531200647354,
                    0.22530855238437653,
                    0.22643938660621643,
                    0.22852599620819092,
                    0.23042994737625122,
                    0.23111198842525482,
                    0.23066093027591705,
                    0.22932040691375732,
                    0.22814355790615082,
                    0.22780194878578186,
                    0.22761330008506775,
                    0.2280050665140152,
                    0.22766399383544922,
                    0.22804862260818481,
                    0.2287728488445282,
                    0.22882087528705597,
                    0.22856590151786804,
                    0.228166401386261,
                    0.22846581041812897,
                    0.22803573310375214,
                    0.22835947573184967,
                    0.22864845395088196,
                    0.22782470285892487,
                    0.22713489830493927,
                    0.22641748189926147,
                    0.22621582448482513,
                    0.2263198047876358,
                    0.2267584353685379,
                    0.2275981456041336,
                    0.22834640741348267,
                    0.2285168468952179,
                    0.22888489067554474,
                    0.22880515456199646,
                    0.2285570502281189,
                    0.22749881446361542,
                    0.22666074335575104,
                    0.2265186309814453,
                    0.2265879511833191,
                    0.2273869514465332,
                    0.22797918319702148,
                    0.22874458134174347,
                    0.228776752948761,
                    0.22840023040771484,
                    0.22779445350170135,
                    0.22706221044063568,
                    0.22702930867671967,
                    0.22705985605716705,
                    0.22828322649002075,
                    0.22895130515098572,
                    0.22901815176010132,
                    0.22880443930625916,
                    0.22802495956420898,
                    0.22748036682605743,
                    0.22761690616607666,
                    0.22762760519981384,
                    0.22697089612483978,
                    0.22702038288116455,
                    0.22737616300582886,
                    0.22736747562885284,
                    0.22687457501888275,
                    0.22680148482322693,
                    0.2272930145263672,
                    0.22692202031612396,
                    0.2271174192428589,
                    0.22708210349082947,
                    0.22749559581279755,
                    0.22834526002407074,
                    0.22842201590538025,
                    0.22760383784770966,
                    0.22650165855884552,
                    0.22606422007083893,
                    0.22467491030693054,
                    0.22470371425151825,
                    0.224991574883461,
                    0.22525420784950256,
                    0.22623568773269653,
                    0.2257709950208664,
                    0.22515496611595154,
                    0.2253425419330597,
                    0.22562667727470398,
                    0.22548285126686096,
                    0.2263471782207489,
                    0.2267470508813858,
                    0.2262382060289383,
                    0.22622442245483398,
                    0.22599957883358002,
                    0.22607490420341492,
                    0.22559195756912231,
                    0.22581687569618225,
                    0.22553901374340057,
                    0.22565387189388275,
                    0.22601619362831116,
                    0.22595512866973877,
                    0.22554446756839752,
                    0.22533592581748962,
                    0.22450901567935944,
                    0.22448480129241943,
                    0.22410251200199127,
                    0.22437381744384766,
                    0.2245256006717682,
                    0.22464679181575775,
                    0.22478942573070526,
                    0.22539706528186798,
                    0.22584086656570435,
                    0.2256091684103012,
                    0.22502702474594116,
                    0.22457042336463928,
                    0.22380371391773224,
                    0.22328083217144012,
                    0.2239675521850586,
                    0.22429634630680084,
                    0.22459594905376434
                  ]
                }
              ],
              "layout": {
                "template": {
                  "data": {
                    "bar": [
                      {
                        "error_x": {
                          "color": "#2a3f5f"
                        },
                        "error_y": {
                          "color": "#2a3f5f"
                        },
                        "marker": {
                          "line": {
                            "color": "#E5ECF6",
                            "width": 0.5
                          }
                        },
                        "type": "bar"
                      }
                    ],
                    "barpolar": [
                      {
                        "marker": {
                          "line": {
                            "color": "#E5ECF6",
                            "width": 0.5
                          }
                        },
                        "type": "barpolar"
                      }
                    ],
                    "carpet": [
                      {
                        "aaxis": {
                          "endlinecolor": "#2a3f5f",
                          "gridcolor": "white",
                          "linecolor": "white",
                          "minorgridcolor": "white",
                          "startlinecolor": "#2a3f5f"
                        },
                        "baxis": {
                          "endlinecolor": "#2a3f5f",
                          "gridcolor": "white",
                          "linecolor": "white",
                          "minorgridcolor": "white",
                          "startlinecolor": "#2a3f5f"
                        },
                        "type": "carpet"
                      }
                    ],
                    "choropleth": [
                      {
                        "colorbar": {
                          "outlinewidth": 0,
                          "ticks": ""
                        },
                        "type": "choropleth"
                      }
                    ],
                    "contour": [
                      {
                        "colorbar": {
                          "outlinewidth": 0,
                          "ticks": ""
                        },
                        "colorscale": [
                          [
                            0,
                            "#0d0887"
                          ],
                          [
                            0.1111111111111111,
                            "#46039f"
                          ],
                          [
                            0.2222222222222222,
                            "#7201a8"
                          ],
                          [
                            0.3333333333333333,
                            "#9c179e"
                          ],
                          [
                            0.4444444444444444,
                            "#bd3786"
                          ],
                          [
                            0.5555555555555556,
                            "#d8576b"
                          ],
                          [
                            0.6666666666666666,
                            "#ed7953"
                          ],
                          [
                            0.7777777777777778,
                            "#fb9f3a"
                          ],
                          [
                            0.8888888888888888,
                            "#fdca26"
                          ],
                          [
                            1,
                            "#f0f921"
                          ]
                        ],
                        "type": "contour"
                      }
                    ],
                    "contourcarpet": [
                      {
                        "colorbar": {
                          "outlinewidth": 0,
                          "ticks": ""
                        },
                        "type": "contourcarpet"
                      }
                    ],
                    "heatmap": [
                      {
                        "colorbar": {
                          "outlinewidth": 0,
                          "ticks": ""
                        },
                        "colorscale": [
                          [
                            0,
                            "#0d0887"
                          ],
                          [
                            0.1111111111111111,
                            "#46039f"
                          ],
                          [
                            0.2222222222222222,
                            "#7201a8"
                          ],
                          [
                            0.3333333333333333,
                            "#9c179e"
                          ],
                          [
                            0.4444444444444444,
                            "#bd3786"
                          ],
                          [
                            0.5555555555555556,
                            "#d8576b"
                          ],
                          [
                            0.6666666666666666,
                            "#ed7953"
                          ],
                          [
                            0.7777777777777778,
                            "#fb9f3a"
                          ],
                          [
                            0.8888888888888888,
                            "#fdca26"
                          ],
                          [
                            1,
                            "#f0f921"
                          ]
                        ],
                        "type": "heatmap"
                      }
                    ],
                    "heatmapgl": [
                      {
                        "colorbar": {
                          "outlinewidth": 0,
                          "ticks": ""
                        },
                        "colorscale": [
                          [
                            0,
                            "#0d0887"
                          ],
                          [
                            0.1111111111111111,
                            "#46039f"
                          ],
                          [
                            0.2222222222222222,
                            "#7201a8"
                          ],
                          [
                            0.3333333333333333,
                            "#9c179e"
                          ],
                          [
                            0.4444444444444444,
                            "#bd3786"
                          ],
                          [
                            0.5555555555555556,
                            "#d8576b"
                          ],
                          [
                            0.6666666666666666,
                            "#ed7953"
                          ],
                          [
                            0.7777777777777778,
                            "#fb9f3a"
                          ],
                          [
                            0.8888888888888888,
                            "#fdca26"
                          ],
                          [
                            1,
                            "#f0f921"
                          ]
                        ],
                        "type": "heatmapgl"
                      }
                    ],
                    "histogram": [
                      {
                        "marker": {
                          "colorbar": {
                            "outlinewidth": 0,
                            "ticks": ""
                          }
                        },
                        "type": "histogram"
                      }
                    ],
                    "histogram2d": [
                      {
                        "colorbar": {
                          "outlinewidth": 0,
                          "ticks": ""
                        },
                        "colorscale": [
                          [
                            0,
                            "#0d0887"
                          ],
                          [
                            0.1111111111111111,
                            "#46039f"
                          ],
                          [
                            0.2222222222222222,
                            "#7201a8"
                          ],
                          [
                            0.3333333333333333,
                            "#9c179e"
                          ],
                          [
                            0.4444444444444444,
                            "#bd3786"
                          ],
                          [
                            0.5555555555555556,
                            "#d8576b"
                          ],
                          [
                            0.6666666666666666,
                            "#ed7953"
                          ],
                          [
                            0.7777777777777778,
                            "#fb9f3a"
                          ],
                          [
                            0.8888888888888888,
                            "#fdca26"
                          ],
                          [
                            1,
                            "#f0f921"
                          ]
                        ],
                        "type": "histogram2d"
                      }
                    ],
                    "histogram2dcontour": [
                      {
                        "colorbar": {
                          "outlinewidth": 0,
                          "ticks": ""
                        },
                        "colorscale": [
                          [
                            0,
                            "#0d0887"
                          ],
                          [
                            0.1111111111111111,
                            "#46039f"
                          ],
                          [
                            0.2222222222222222,
                            "#7201a8"
                          ],
                          [
                            0.3333333333333333,
                            "#9c179e"
                          ],
                          [
                            0.4444444444444444,
                            "#bd3786"
                          ],
                          [
                            0.5555555555555556,
                            "#d8576b"
                          ],
                          [
                            0.6666666666666666,
                            "#ed7953"
                          ],
                          [
                            0.7777777777777778,
                            "#fb9f3a"
                          ],
                          [
                            0.8888888888888888,
                            "#fdca26"
                          ],
                          [
                            1,
                            "#f0f921"
                          ]
                        ],
                        "type": "histogram2dcontour"
                      }
                    ],
                    "mesh3d": [
                      {
                        "colorbar": {
                          "outlinewidth": 0,
                          "ticks": ""
                        },
                        "type": "mesh3d"
                      }
                    ],
                    "parcoords": [
                      {
                        "line": {
                          "colorbar": {
                            "outlinewidth": 0,
                            "ticks": ""
                          }
                        },
                        "type": "parcoords"
                      }
                    ],
                    "pie": [
                      {
                        "automargin": true,
                        "type": "pie"
                      }
                    ],
                    "scatter": [
                      {
                        "marker": {
                          "colorbar": {
                            "outlinewidth": 0,
                            "ticks": ""
                          }
                        },
                        "type": "scatter"
                      }
                    ],
                    "scatter3d": [
                      {
                        "line": {
                          "colorbar": {
                            "outlinewidth": 0,
                            "ticks": ""
                          }
                        },
                        "marker": {
                          "colorbar": {
                            "outlinewidth": 0,
                            "ticks": ""
                          }
                        },
                        "type": "scatter3d"
                      }
                    ],
                    "scattercarpet": [
                      {
                        "marker": {
                          "colorbar": {
                            "outlinewidth": 0,
                            "ticks": ""
                          }
                        },
                        "type": "scattercarpet"
                      }
                    ],
                    "scattergeo": [
                      {
                        "marker": {
                          "colorbar": {
                            "outlinewidth": 0,
                            "ticks": ""
                          }
                        },
                        "type": "scattergeo"
                      }
                    ],
                    "scattergl": [
                      {
                        "marker": {
                          "colorbar": {
                            "outlinewidth": 0,
                            "ticks": ""
                          }
                        },
                        "type": "scattergl"
                      }
                    ],
                    "scattermapbox": [
                      {
                        "marker": {
                          "colorbar": {
                            "outlinewidth": 0,
                            "ticks": ""
                          }
                        },
                        "type": "scattermapbox"
                      }
                    ],
                    "scatterpolar": [
                      {
                        "marker": {
                          "colorbar": {
                            "outlinewidth": 0,
                            "ticks": ""
                          }
                        },
                        "type": "scatterpolar"
                      }
                    ],
                    "scatterpolargl": [
                      {
                        "marker": {
                          "colorbar": {
                            "outlinewidth": 0,
                            "ticks": ""
                          }
                        },
                        "type": "scatterpolargl"
                      }
                    ],
                    "scatterternary": [
                      {
                        "marker": {
                          "colorbar": {
                            "outlinewidth": 0,
                            "ticks": ""
                          }
                        },
                        "type": "scatterternary"
                      }
                    ],
                    "surface": [
                      {
                        "colorbar": {
                          "outlinewidth": 0,
                          "ticks": ""
                        },
                        "colorscale": [
                          [
                            0,
                            "#0d0887"
                          ],
                          [
                            0.1111111111111111,
                            "#46039f"
                          ],
                          [
                            0.2222222222222222,
                            "#7201a8"
                          ],
                          [
                            0.3333333333333333,
                            "#9c179e"
                          ],
                          [
                            0.4444444444444444,
                            "#bd3786"
                          ],
                          [
                            0.5555555555555556,
                            "#d8576b"
                          ],
                          [
                            0.6666666666666666,
                            "#ed7953"
                          ],
                          [
                            0.7777777777777778,
                            "#fb9f3a"
                          ],
                          [
                            0.8888888888888888,
                            "#fdca26"
                          ],
                          [
                            1,
                            "#f0f921"
                          ]
                        ],
                        "type": "surface"
                      }
                    ],
                    "table": [
                      {
                        "cells": {
                          "fill": {
                            "color": "#EBF0F8"
                          },
                          "line": {
                            "color": "white"
                          }
                        },
                        "header": {
                          "fill": {
                            "color": "#C8D4E3"
                          },
                          "line": {
                            "color": "white"
                          }
                        },
                        "type": "table"
                      }
                    ]
                  },
                  "layout": {
                    "annotationdefaults": {
                      "arrowcolor": "#2a3f5f",
                      "arrowhead": 0,
                      "arrowwidth": 1
                    },
                    "autotypenumbers": "strict",
                    "coloraxis": {
                      "colorbar": {
                        "outlinewidth": 0,
                        "ticks": ""
                      }
                    },
                    "colorscale": {
                      "diverging": [
                        [
                          0,
                          "#8e0152"
                        ],
                        [
                          0.1,
                          "#c51b7d"
                        ],
                        [
                          0.2,
                          "#de77ae"
                        ],
                        [
                          0.3,
                          "#f1b6da"
                        ],
                        [
                          0.4,
                          "#fde0ef"
                        ],
                        [
                          0.5,
                          "#f7f7f7"
                        ],
                        [
                          0.6,
                          "#e6f5d0"
                        ],
                        [
                          0.7,
                          "#b8e186"
                        ],
                        [
                          0.8,
                          "#7fbc41"
                        ],
                        [
                          0.9,
                          "#4d9221"
                        ],
                        [
                          1,
                          "#276419"
                        ]
                      ],
                      "sequential": [
                        [
                          0,
                          "#0d0887"
                        ],
                        [
                          0.1111111111111111,
                          "#46039f"
                        ],
                        [
                          0.2222222222222222,
                          "#7201a8"
                        ],
                        [
                          0.3333333333333333,
                          "#9c179e"
                        ],
                        [
                          0.4444444444444444,
                          "#bd3786"
                        ],
                        [
                          0.5555555555555556,
                          "#d8576b"
                        ],
                        [
                          0.6666666666666666,
                          "#ed7953"
                        ],
                        [
                          0.7777777777777778,
                          "#fb9f3a"
                        ],
                        [
                          0.8888888888888888,
                          "#fdca26"
                        ],
                        [
                          1,
                          "#f0f921"
                        ]
                      ],
                      "sequentialminus": [
                        [
                          0,
                          "#0d0887"
                        ],
                        [
                          0.1111111111111111,
                          "#46039f"
                        ],
                        [
                          0.2222222222222222,
                          "#7201a8"
                        ],
                        [
                          0.3333333333333333,
                          "#9c179e"
                        ],
                        [
                          0.4444444444444444,
                          "#bd3786"
                        ],
                        [
                          0.5555555555555556,
                          "#d8576b"
                        ],
                        [
                          0.6666666666666666,
                          "#ed7953"
                        ],
                        [
                          0.7777777777777778,
                          "#fb9f3a"
                        ],
                        [
                          0.8888888888888888,
                          "#fdca26"
                        ],
                        [
                          1,
                          "#f0f921"
                        ]
                      ]
                    },
                    "colorway": [
                      "#636efa",
                      "#EF553B",
                      "#00cc96",
                      "#ab63fa",
                      "#FFA15A",
                      "#19d3f3",
                      "#FF6692",
                      "#B6E880",
                      "#FF97FF",
                      "#FECB52"
                    ],
                    "font": {
                      "color": "#2a3f5f"
                    },
                    "geo": {
                      "bgcolor": "white",
                      "lakecolor": "white",
                      "landcolor": "#E5ECF6",
                      "showlakes": true,
                      "showland": true,
                      "subunitcolor": "white"
                    },
                    "hoverlabel": {
                      "align": "left"
                    },
                    "hovermode": "closest",
                    "mapbox": {
                      "style": "light"
                    },
                    "paper_bgcolor": "white",
                    "plot_bgcolor": "#E5ECF6",
                    "polar": {
                      "angularaxis": {
                        "gridcolor": "white",
                        "linecolor": "white",
                        "ticks": ""
                      },
                      "bgcolor": "#E5ECF6",
                      "radialaxis": {
                        "gridcolor": "white",
                        "linecolor": "white",
                        "ticks": ""
                      }
                    },
                    "scene": {
                      "xaxis": {
                        "backgroundcolor": "#E5ECF6",
                        "gridcolor": "white",
                        "gridwidth": 2,
                        "linecolor": "white",
                        "showbackground": true,
                        "ticks": "",
                        "zerolinecolor": "white"
                      },
                      "yaxis": {
                        "backgroundcolor": "#E5ECF6",
                        "gridcolor": "white",
                        "gridwidth": 2,
                        "linecolor": "white",
                        "showbackground": true,
                        "ticks": "",
                        "zerolinecolor": "white"
                      },
                      "zaxis": {
                        "backgroundcolor": "#E5ECF6",
                        "gridcolor": "white",
                        "gridwidth": 2,
                        "linecolor": "white",
                        "showbackground": true,
                        "ticks": "",
                        "zerolinecolor": "white"
                      }
                    },
                    "shapedefaults": {
                      "line": {
                        "color": "#2a3f5f"
                      }
                    },
                    "ternary": {
                      "aaxis": {
                        "gridcolor": "white",
                        "linecolor": "white",
                        "ticks": ""
                      },
                      "baxis": {
                        "gridcolor": "white",
                        "linecolor": "white",
                        "ticks": ""
                      },
                      "bgcolor": "#E5ECF6",
                      "caxis": {
                        "gridcolor": "white",
                        "linecolor": "white",
                        "ticks": ""
                      }
                    },
                    "title": {
                      "x": 0.05
                    },
                    "xaxis": {
                      "automargin": true,
                      "gridcolor": "white",
                      "linecolor": "white",
                      "ticks": "",
                      "title": {
                        "standoff": 15
                      },
                      "zerolinecolor": "white",
                      "zerolinewidth": 2
                    },
                    "yaxis": {
                      "automargin": true,
                      "gridcolor": "white",
                      "linecolor": "white",
                      "ticks": "",
                      "title": {
                        "standoff": 15
                      },
                      "zerolinecolor": "white",
                      "zerolinewidth": 2
                    }
                  }
                },
                "title": {
                  "text": "Loss"
                }
              }
            },
            "text/html": [
              "<div>                            <div id=\"34053dcb-68e8-4280-b2cd-92a7df1b3bb9\" class=\"plotly-graph-div\" style=\"height:525px; width:100%;\"></div>            <script type=\"text/javascript\">                require([\"plotly\"], function(Plotly) {                    window.PLOTLYENV=window.PLOTLYENV || {};                                    if (document.getElementById(\"34053dcb-68e8-4280-b2cd-92a7df1b3bb9\")) {                    Plotly.newPlot(                        \"34053dcb-68e8-4280-b2cd-92a7df1b3bb9\",                        [{\"name\": \"loss\", \"type\": \"scatter\", \"x\": [0, 1, 2, 3, 4, 5, 6, 7, 8, 9, 10, 11, 12, 13, 14, 15, 16, 17, 18, 19, 20, 21, 22, 23, 24, 25, 26, 27, 28, 29, 30, 31, 32, 33, 34, 35, 36, 37, 38, 39, 40, 41, 42, 43, 44, 45, 46, 47, 48, 49, 50, 51, 52, 53, 54, 55, 56, 57, 58, 59, 60, 61, 62, 63, 64, 65, 66, 67, 68, 69, 70, 71, 72, 73, 74, 75, 76, 77, 78, 79, 80, 81, 82, 83, 84, 85, 86, 87, 88, 89, 90, 91, 92, 93, 94, 95, 96, 97, 98, 99, 100, 101, 102, 103, 104, 105, 106, 107, 108, 109, 110, 111, 112, 113, 114, 115, 116, 117, 118, 119, 120, 121, 122, 123, 124, 125, 126, 127, 128, 129, 130, 131, 132, 133, 134, 135, 136, 137, 138, 139, 140, 141, 142, 143, 144, 145, 146, 147, 148, 149, 150, 151, 152, 153, 154, 155, 156, 157, 158, 159, 160, 161, 162, 163, 164, 165, 166, 167, 168, 169, 170, 171, 172, 173, 174, 175, 176, 177, 178, 179, 180, 181, 182, 183, 184, 185, 186, 187, 188, 189, 190, 191, 192, 193, 194, 195, 196, 197, 198, 199, 200, 201, 202, 203, 204, 205, 206, 207, 208, 209, 210, 211, 212, 213, 214, 215, 216, 217, 218, 219, 220, 221, 222, 223, 224, 225, 226, 227, 228, 229, 230, 231, 232, 233, 234, 235, 236, 237, 238, 239, 240, 241, 242, 243, 244, 245, 246, 247, 248, 249, 250, 251, 252, 253, 254, 255, 256, 257, 258, 259, 260, 261, 262, 263, 264, 265, 266, 267, 268, 269, 270, 271, 272, 273, 274, 275, 276, 277, 278, 279, 280, 281, 282, 283, 284, 285, 286, 287, 288, 289, 290, 291, 292, 293, 294, 295, 296, 297, 298, 299], \"y\": [0.6922391057014465, 0.6888179183006287, 0.685653567314148, 0.682567298412323, 0.6797245144844055, 0.6769574880599976, 0.6742427349090576, 0.6716333627700806, 0.6686627268791199, 0.6655771732330322, 0.6621554493904114, 0.6587122082710266, 0.6546468734741211, 0.650391697883606, 0.6454599499702454, 0.639806866645813, 0.6337786316871643, 0.6269130110740662, 0.6206045150756836, 0.614193856716156, 0.6077232956886292, 0.6010236144065857, 0.5942134857177734, 0.5872395038604736, 0.5800867080688477, 0.5728809833526611, 0.5655551552772522, 0.5579326748847961, 0.550704836845398, 0.5429080128669739, 0.5352268815040588, 0.527243971824646, 0.5192908048629761, 0.5110004544258118, 0.5028209686279297, 0.49437224864959717, 0.4859926104545593, 0.4777033030986786, 0.46908655762672424, 0.4606061577796936, 0.45176729559898376, 0.44326239824295044, 0.43450024724006653, 0.42623481154441833, 0.4173751473426819, 0.40915629267692566, 0.40082553029060364, 0.3927289843559265, 0.38428208231925964, 0.3762917220592499, 0.36810800433158875, 0.3600967228412628, 0.35229137539863586, 0.34439051151275635, 0.33738237619400024, 0.32970473170280457, 0.32250118255615234, 0.3160768747329712, 0.30933231115341187, 0.30323436856269836, 0.2967430651187897, 0.2910618484020233, 0.2860209047794342, 0.2808631360530853, 0.27595603466033936, 0.2716223895549774, 0.2674623429775238, 0.2638240158557892, 0.25990211963653564, 0.2568380832672119, 0.2534228563308716, 0.25096026062965393, 0.24852126836776733, 0.24633286893367767, 0.24414002895355225, 0.24227149784564972, 0.24094253778457642, 0.23937349021434784, 0.23766550421714783, 0.23664602637290955, 0.23562943935394287, 0.23445256054401398, 0.23363076150417328, 0.23269569873809814, 0.2321476936340332, 0.23170414566993713, 0.23076000809669495, 0.23004622757434845, 0.22956906259059906, 0.22926917672157288, 0.2291058897972107, 0.22845007479190826, 0.22849559783935547, 0.22781896591186523, 0.22747544944286346, 0.22714319825172424, 0.22692541778087616, 0.22651177644729614, 0.2265329658985138, 0.22634448111057281, 0.22589164972305298, 0.2258882224559784, 0.2253093123435974, 0.225309818983078, 0.22545386850833893, 0.22509433329105377, 0.2255086600780487, 0.22482849657535553, 0.22452251613140106, 0.22431837022304535, 0.22414341568946838, 0.22398072481155396, 0.22422613203525543, 0.22400614619255066, 0.22354668378829956, 0.22338390350341797, 0.22343723475933075, 0.22307246923446655, 0.22300837934017181, 0.22266551852226257, 0.22276385128498077, 0.22265981137752533, 0.22261285781860352, 0.22220072150230408, 0.22197434306144714, 0.2219168096780777, 0.22189901769161224, 0.22168156504631042, 0.2215362787246704, 0.22197534143924713, 0.22130319476127625, 0.2211092710494995, 0.22092275321483612, 0.22076237201690674, 0.22063879668712616, 0.22058682143688202, 0.2203611433506012, 0.22020214796066284, 0.22008393704891205, 0.22010257840156555, 0.21989043056964874, 0.21972191333770752, 0.21965789794921875, 0.2199723720550537, 0.21953806281089783, 0.21935224533081055, 0.21918299794197083, 0.2190399467945099, 0.21932457387447357, 0.21876269578933716, 0.21855054795742035, 0.21847917139530182, 0.2184593379497528, 0.2183421403169632, 0.2180481255054474, 0.21787583827972412, 0.21774257719516754, 0.21757182478904724, 0.2174479067325592, 0.21735024452209473, 0.21710552275180817, 0.21700605750083923, 0.21690765023231506, 0.21671058237552643, 0.2169163078069687, 0.21700984239578247, 0.2165105938911438, 0.21631206572055817, 0.21640610694885254, 0.21604019403457642, 0.2158764898777008, 0.21603284776210785, 0.21585752069950104, 0.21589180827140808, 0.21553678810596466, 0.21554015576839447, 0.21526749432086945, 0.21530525386333466, 0.2155495434999466, 0.21507234871387482, 0.2149437665939331, 0.2147640883922577, 0.21485687792301178, 0.21504870057106018, 0.21493172645568848, 0.21423621475696564, 0.2141740769147873, 0.2142699956893921, 0.2146880030632019, 0.21502475440502167, 0.21452483534812927, 0.21421168744564056, 0.2142656147480011, 0.213902086019516, 0.21365465223789215, 0.21353279054164886, 0.21352313458919525, 0.21314063668251038, 0.21307994425296783, 0.21328876912593842, 0.21299676597118378, 0.21277204155921936, 0.2128218561410904, 0.2125367820262909, 0.21244026720523834, 0.21252399682998657, 0.21234993636608124, 0.2123374342918396, 0.21200400590896606, 0.21230965852737427, 0.2117885947227478, 0.2116546481847763, 0.21164031326770782, 0.21170121431350708, 0.21162348985671997, 0.21151292324066162, 0.21137171983718872, 0.2112523317337036, 0.21107196807861328, 0.2110854536294937, 0.21099191904067993, 0.21099106967449188, 0.2107091248035431, 0.2107744961977005, 0.21057313680648804, 0.2106306403875351, 0.21047388017177582, 0.21029239892959595, 0.21028347313404083, 0.21013228595256805, 0.2100442498922348, 0.2098589688539505, 0.2099347561597824, 0.20976576209068298, 0.2099909633398056, 0.20967808365821838, 0.20952877402305603, 0.20939761400222778, 0.2093466818332672, 0.2092493176460266, 0.2093021720647812, 0.20901566743850708, 0.20895487070083618, 0.2090420424938202, 0.20875704288482666, 0.20864564180374146, 0.20865294337272644, 0.20845599472522736, 0.20836053788661957, 0.20847736299037933, 0.20820584893226624, 0.2080296277999878, 0.20805078744888306, 0.20780955255031586, 0.20781433582305908, 0.20776741206645966, 0.2075715959072113, 0.20743291079998016, 0.20753160119056702, 0.207540363073349, 0.20738014578819275, 0.20723727345466614, 0.20706389844417572, 0.20770329236984253, 0.20670293271541595, 0.20674994587898254, 0.20658209919929504, 0.20651671290397644, 0.20664826035499573, 0.20638875663280487, 0.20643699169158936, 0.20626743137836456, 0.20603996515274048, 0.20598196983337402, 0.20603123307228088, 0.20590455830097198, 0.2059122920036316, 0.20565365254878998, 0.2056562453508377, 0.20549076795578003, 0.20537078380584717, 0.2053012251853943, 0.20527735352516174, 0.20521000027656555, 0.20510481297969818, 0.20500046014785767, 0.20496632158756256, 0.2047090232372284, 0.2046196013689041, 0.2046002596616745, 0.20444124937057495, 0.20448967814445496, 0.20429639518260956, 0.20416703820228577, 0.20414461195468903, 0.20396491885185242, 0.204218789935112, 0.20403647422790527, 0.2036694586277008, 0.20356091856956482]}, {\"name\": \"val_loss\", \"type\": \"scatter\", \"x\": [0, 1, 2, 3, 4, 5, 6, 7, 8, 9, 10, 11, 12, 13, 14, 15, 16, 17, 18, 19, 20, 21, 22, 23, 24, 25, 26, 27, 28, 29, 30, 31, 32, 33, 34, 35, 36, 37, 38, 39, 40, 41, 42, 43, 44, 45, 46, 47, 48, 49, 50, 51, 52, 53, 54, 55, 56, 57, 58, 59, 60, 61, 62, 63, 64, 65, 66, 67, 68, 69, 70, 71, 72, 73, 74, 75, 76, 77, 78, 79, 80, 81, 82, 83, 84, 85, 86, 87, 88, 89, 90, 91, 92, 93, 94, 95, 96, 97, 98, 99, 100, 101, 102, 103, 104, 105, 106, 107, 108, 109, 110, 111, 112, 113, 114, 115, 116, 117, 118, 119, 120, 121, 122, 123, 124, 125, 126, 127, 128, 129, 130, 131, 132, 133, 134, 135, 136, 137, 138, 139, 140, 141, 142, 143, 144, 145, 146, 147, 148, 149, 150, 151, 152, 153, 154, 155, 156, 157, 158, 159, 160, 161, 162, 163, 164, 165, 166, 167, 168, 169, 170, 171, 172, 173, 174, 175, 176, 177, 178, 179, 180, 181, 182, 183, 184, 185, 186, 187, 188, 189, 190, 191, 192, 193, 194, 195, 196, 197, 198, 199, 200, 201, 202, 203, 204, 205, 206, 207, 208, 209, 210, 211, 212, 213, 214, 215, 216, 217, 218, 219, 220, 221, 222, 223, 224, 225, 226, 227, 228, 229, 230, 231, 232, 233, 234, 235, 236, 237, 238, 239, 240, 241, 242, 243, 244, 245, 246, 247, 248, 249, 250, 251, 252, 253, 254, 255, 256, 257, 258, 259, 260, 261, 262, 263, 264, 265, 266, 267, 268, 269, 270, 271, 272, 273, 274, 275, 276, 277, 278, 279, 280, 281, 282, 283, 284, 285, 286, 287, 288, 289, 290, 291, 292, 293, 294, 295, 296, 297, 298, 299], \"y\": [0.6882136464118958, 0.6843124628067017, 0.6806244850158691, 0.6770381927490234, 0.6736668944358826, 0.6704829335212708, 0.6672526597976685, 0.6638922095298767, 0.6604350209236145, 0.6566613912582397, 0.652656078338623, 0.6482875347137451, 0.6435543894767761, 0.6382824182510376, 0.6322547793388367, 0.6252037286758423, 0.617583155632019, 0.6098760366439819, 0.6021149158477783, 0.5943704843521118, 0.5866343975067139, 0.5788258910179138, 0.5709765553474426, 0.5630513429641724, 0.5550109148025513, 0.546901285648346, 0.5387248992919922, 0.5304815769195557, 0.5221689343452454, 0.5138031244277954, 0.5052903890609741, 0.49673041701316833, 0.48809683322906494, 0.47942379117012024, 0.4707033634185791, 0.46199414134025574, 0.4532705545425415, 0.44450128078460693, 0.4358459711074829, 0.4272388815879822, 0.41871246695518494, 0.4102676510810852, 0.4018947184085846, 0.3936311602592468, 0.38558411598205566, 0.3777097463607788, 0.37003493309020996, 0.3623776137828827, 0.3548009395599365, 0.34731316566467285, 0.34000900387763977, 0.3327411413192749, 0.3257727324962616, 0.3189549148082733, 0.31240159273147583, 0.30626165866851807, 0.3003891110420227, 0.2945680022239685, 0.2892908751964569, 0.2844332456588745, 0.2797611951828003, 0.27544766664505005, 0.2710709273815155, 0.26737239956855774, 0.26388025283813477, 0.26064491271972656, 0.2579312324523926, 0.2554198205471039, 0.2526405453681946, 0.2500784993171692, 0.24812595546245575, 0.24639233946800232, 0.2446347177028656, 0.2428671270608902, 0.24166657030582428, 0.24067844450473785, 0.23994120955467224, 0.23985250294208527, 0.23973296582698822, 0.23995022475719452, 0.24000664055347443, 0.23962053656578064, 0.23893193900585175, 0.2381737381219864, 0.23700618743896484, 0.23649659752845764, 0.23674806952476501, 0.23726558685302734, 0.23792600631713867, 0.2387581318616867, 0.23882193863391876, 0.23801955580711365, 0.2369881421327591, 0.2369879186153412, 0.23620565235614777, 0.23582841455936432, 0.23605014383792877, 0.23603427410125732, 0.23619262874126434, 0.23560529947280884, 0.23568664491176605, 0.23599977791309357, 0.23719163239002228, 0.23829972743988037, 0.23885807394981384, 0.23820072412490845, 0.23673458397388458, 0.23622731864452362, 0.23623652756214142, 0.236491397023201, 0.23632703721523285, 0.23610664904117584, 0.23594123125076294, 0.2368161827325821, 0.23654289543628693, 0.23584908246994019, 0.23485887050628662, 0.23463910818099976, 0.23403319716453552, 0.23276126384735107, 0.23196323215961456, 0.23188258707523346, 0.23247982561588287, 0.23285819590091705, 0.23374134302139282, 0.2346772402524948, 0.23476845026016235, 0.23480159044265747, 0.2343282252550125, 0.2336200773715973, 0.2339802235364914, 0.23381833732128143, 0.23315571248531342, 0.23259593546390533, 0.23231559991836548, 0.2322496771812439, 0.23279178142547607, 0.2331312745809555, 0.2332497239112854, 0.23323142528533936, 0.23263370990753174, 0.23199428617954254, 0.2313157320022583, 0.23052860796451569, 0.23080044984817505, 0.23085246980190277, 0.23120403289794922, 0.2316063642501831, 0.23195026814937592, 0.23129434883594513, 0.2304045557975769, 0.2297060638666153, 0.22922278940677643, 0.22958099842071533, 0.22967776656150818, 0.23001506924629211, 0.2304837554693222, 0.23047733306884766, 0.23022326827049255, 0.22975043952465057, 0.22955204546451569, 0.2294602245092392, 0.2296154797077179, 0.22944040596485138, 0.22949177026748657, 0.22855372726917267, 0.22872531414031982, 0.22865988314151764, 0.2285601794719696, 0.22921234369277954, 0.23021501302719116, 0.23109577596187592, 0.23097707331180573, 0.23077432811260223, 0.22990287840366364, 0.22882872819900513, 0.22834648191928864, 0.22789500653743744, 0.2278163731098175, 0.2287386655807495, 0.22964540123939514, 0.2312535047531128, 0.2321934849023819, 0.23223677277565002, 0.23112986981868744, 0.229114830493927, 0.22686199843883514, 0.22570942342281342, 0.2252531200647354, 0.22530855238437653, 0.22643938660621643, 0.22852599620819092, 0.23042994737625122, 0.23111198842525482, 0.23066093027591705, 0.22932040691375732, 0.22814355790615082, 0.22780194878578186, 0.22761330008506775, 0.2280050665140152, 0.22766399383544922, 0.22804862260818481, 0.2287728488445282, 0.22882087528705597, 0.22856590151786804, 0.228166401386261, 0.22846581041812897, 0.22803573310375214, 0.22835947573184967, 0.22864845395088196, 0.22782470285892487, 0.22713489830493927, 0.22641748189926147, 0.22621582448482513, 0.2263198047876358, 0.2267584353685379, 0.2275981456041336, 0.22834640741348267, 0.2285168468952179, 0.22888489067554474, 0.22880515456199646, 0.2285570502281189, 0.22749881446361542, 0.22666074335575104, 0.2265186309814453, 0.2265879511833191, 0.2273869514465332, 0.22797918319702148, 0.22874458134174347, 0.228776752948761, 0.22840023040771484, 0.22779445350170135, 0.22706221044063568, 0.22702930867671967, 0.22705985605716705, 0.22828322649002075, 0.22895130515098572, 0.22901815176010132, 0.22880443930625916, 0.22802495956420898, 0.22748036682605743, 0.22761690616607666, 0.22762760519981384, 0.22697089612483978, 0.22702038288116455, 0.22737616300582886, 0.22736747562885284, 0.22687457501888275, 0.22680148482322693, 0.2272930145263672, 0.22692202031612396, 0.2271174192428589, 0.22708210349082947, 0.22749559581279755, 0.22834526002407074, 0.22842201590538025, 0.22760383784770966, 0.22650165855884552, 0.22606422007083893, 0.22467491030693054, 0.22470371425151825, 0.224991574883461, 0.22525420784950256, 0.22623568773269653, 0.2257709950208664, 0.22515496611595154, 0.2253425419330597, 0.22562667727470398, 0.22548285126686096, 0.2263471782207489, 0.2267470508813858, 0.2262382060289383, 0.22622442245483398, 0.22599957883358002, 0.22607490420341492, 0.22559195756912231, 0.22581687569618225, 0.22553901374340057, 0.22565387189388275, 0.22601619362831116, 0.22595512866973877, 0.22554446756839752, 0.22533592581748962, 0.22450901567935944, 0.22448480129241943, 0.22410251200199127, 0.22437381744384766, 0.2245256006717682, 0.22464679181575775, 0.22478942573070526, 0.22539706528186798, 0.22584086656570435, 0.2256091684103012, 0.22502702474594116, 0.22457042336463928, 0.22380371391773224, 0.22328083217144012, 0.2239675521850586, 0.22429634630680084, 0.22459594905376434]}],                        {\"template\": {\"data\": {\"bar\": [{\"error_x\": {\"color\": \"#2a3f5f\"}, \"error_y\": {\"color\": \"#2a3f5f\"}, \"marker\": {\"line\": {\"color\": \"#E5ECF6\", \"width\": 0.5}}, \"type\": \"bar\"}], \"barpolar\": [{\"marker\": {\"line\": {\"color\": \"#E5ECF6\", \"width\": 0.5}}, \"type\": \"barpolar\"}], \"carpet\": [{\"aaxis\": {\"endlinecolor\": \"#2a3f5f\", \"gridcolor\": \"white\", \"linecolor\": \"white\", \"minorgridcolor\": \"white\", \"startlinecolor\": \"#2a3f5f\"}, \"baxis\": {\"endlinecolor\": \"#2a3f5f\", \"gridcolor\": \"white\", \"linecolor\": \"white\", \"minorgridcolor\": \"white\", \"startlinecolor\": \"#2a3f5f\"}, \"type\": \"carpet\"}], \"choropleth\": [{\"colorbar\": {\"outlinewidth\": 0, \"ticks\": \"\"}, \"type\": \"choropleth\"}], \"contour\": [{\"colorbar\": {\"outlinewidth\": 0, \"ticks\": \"\"}, \"colorscale\": [[0.0, \"#0d0887\"], [0.1111111111111111, \"#46039f\"], [0.2222222222222222, \"#7201a8\"], [0.3333333333333333, \"#9c179e\"], [0.4444444444444444, \"#bd3786\"], [0.5555555555555556, \"#d8576b\"], [0.6666666666666666, \"#ed7953\"], [0.7777777777777778, \"#fb9f3a\"], [0.8888888888888888, \"#fdca26\"], [1.0, \"#f0f921\"]], \"type\": \"contour\"}], \"contourcarpet\": [{\"colorbar\": {\"outlinewidth\": 0, \"ticks\": \"\"}, \"type\": \"contourcarpet\"}], \"heatmap\": [{\"colorbar\": {\"outlinewidth\": 0, \"ticks\": \"\"}, \"colorscale\": [[0.0, \"#0d0887\"], [0.1111111111111111, \"#46039f\"], [0.2222222222222222, \"#7201a8\"], [0.3333333333333333, \"#9c179e\"], [0.4444444444444444, \"#bd3786\"], [0.5555555555555556, \"#d8576b\"], [0.6666666666666666, \"#ed7953\"], [0.7777777777777778, \"#fb9f3a\"], [0.8888888888888888, \"#fdca26\"], [1.0, \"#f0f921\"]], \"type\": \"heatmap\"}], \"heatmapgl\": [{\"colorbar\": {\"outlinewidth\": 0, \"ticks\": \"\"}, \"colorscale\": [[0.0, \"#0d0887\"], [0.1111111111111111, \"#46039f\"], [0.2222222222222222, \"#7201a8\"], [0.3333333333333333, \"#9c179e\"], [0.4444444444444444, \"#bd3786\"], [0.5555555555555556, \"#d8576b\"], [0.6666666666666666, \"#ed7953\"], [0.7777777777777778, \"#fb9f3a\"], [0.8888888888888888, \"#fdca26\"], [1.0, \"#f0f921\"]], \"type\": \"heatmapgl\"}], \"histogram\": [{\"marker\": {\"colorbar\": {\"outlinewidth\": 0, \"ticks\": \"\"}}, \"type\": \"histogram\"}], \"histogram2d\": [{\"colorbar\": {\"outlinewidth\": 0, \"ticks\": \"\"}, \"colorscale\": [[0.0, \"#0d0887\"], [0.1111111111111111, \"#46039f\"], [0.2222222222222222, \"#7201a8\"], [0.3333333333333333, \"#9c179e\"], [0.4444444444444444, \"#bd3786\"], [0.5555555555555556, \"#d8576b\"], [0.6666666666666666, \"#ed7953\"], [0.7777777777777778, \"#fb9f3a\"], [0.8888888888888888, \"#fdca26\"], [1.0, \"#f0f921\"]], \"type\": \"histogram2d\"}], \"histogram2dcontour\": [{\"colorbar\": {\"outlinewidth\": 0, \"ticks\": \"\"}, \"colorscale\": [[0.0, \"#0d0887\"], [0.1111111111111111, \"#46039f\"], [0.2222222222222222, \"#7201a8\"], [0.3333333333333333, \"#9c179e\"], [0.4444444444444444, \"#bd3786\"], [0.5555555555555556, \"#d8576b\"], [0.6666666666666666, \"#ed7953\"], [0.7777777777777778, \"#fb9f3a\"], [0.8888888888888888, \"#fdca26\"], [1.0, \"#f0f921\"]], \"type\": \"histogram2dcontour\"}], \"mesh3d\": [{\"colorbar\": {\"outlinewidth\": 0, \"ticks\": \"\"}, \"type\": \"mesh3d\"}], \"parcoords\": [{\"line\": {\"colorbar\": {\"outlinewidth\": 0, \"ticks\": \"\"}}, \"type\": \"parcoords\"}], \"pie\": [{\"automargin\": true, \"type\": \"pie\"}], \"scatter\": [{\"marker\": {\"colorbar\": {\"outlinewidth\": 0, \"ticks\": \"\"}}, \"type\": \"scatter\"}], \"scatter3d\": [{\"line\": {\"colorbar\": {\"outlinewidth\": 0, \"ticks\": \"\"}}, \"marker\": {\"colorbar\": {\"outlinewidth\": 0, \"ticks\": \"\"}}, \"type\": \"scatter3d\"}], \"scattercarpet\": [{\"marker\": {\"colorbar\": {\"outlinewidth\": 0, \"ticks\": \"\"}}, \"type\": \"scattercarpet\"}], \"scattergeo\": [{\"marker\": {\"colorbar\": {\"outlinewidth\": 0, \"ticks\": \"\"}}, \"type\": \"scattergeo\"}], \"scattergl\": [{\"marker\": {\"colorbar\": {\"outlinewidth\": 0, \"ticks\": \"\"}}, \"type\": \"scattergl\"}], \"scattermapbox\": [{\"marker\": {\"colorbar\": {\"outlinewidth\": 0, \"ticks\": \"\"}}, \"type\": \"scattermapbox\"}], \"scatterpolar\": [{\"marker\": {\"colorbar\": {\"outlinewidth\": 0, \"ticks\": \"\"}}, \"type\": \"scatterpolar\"}], \"scatterpolargl\": [{\"marker\": {\"colorbar\": {\"outlinewidth\": 0, \"ticks\": \"\"}}, \"type\": \"scatterpolargl\"}], \"scatterternary\": [{\"marker\": {\"colorbar\": {\"outlinewidth\": 0, \"ticks\": \"\"}}, \"type\": \"scatterternary\"}], \"surface\": [{\"colorbar\": {\"outlinewidth\": 0, \"ticks\": \"\"}, \"colorscale\": [[0.0, \"#0d0887\"], [0.1111111111111111, \"#46039f\"], [0.2222222222222222, \"#7201a8\"], [0.3333333333333333, \"#9c179e\"], [0.4444444444444444, \"#bd3786\"], [0.5555555555555556, \"#d8576b\"], [0.6666666666666666, \"#ed7953\"], [0.7777777777777778, \"#fb9f3a\"], [0.8888888888888888, \"#fdca26\"], [1.0, \"#f0f921\"]], \"type\": \"surface\"}], \"table\": [{\"cells\": {\"fill\": {\"color\": \"#EBF0F8\"}, \"line\": {\"color\": \"white\"}}, \"header\": {\"fill\": {\"color\": \"#C8D4E3\"}, \"line\": {\"color\": \"white\"}}, \"type\": \"table\"}]}, \"layout\": {\"annotationdefaults\": {\"arrowcolor\": \"#2a3f5f\", \"arrowhead\": 0, \"arrowwidth\": 1}, \"autotypenumbers\": \"strict\", \"coloraxis\": {\"colorbar\": {\"outlinewidth\": 0, \"ticks\": \"\"}}, \"colorscale\": {\"diverging\": [[0, \"#8e0152\"], [0.1, \"#c51b7d\"], [0.2, \"#de77ae\"], [0.3, \"#f1b6da\"], [0.4, \"#fde0ef\"], [0.5, \"#f7f7f7\"], [0.6, \"#e6f5d0\"], [0.7, \"#b8e186\"], [0.8, \"#7fbc41\"], [0.9, \"#4d9221\"], [1, \"#276419\"]], \"sequential\": [[0.0, \"#0d0887\"], [0.1111111111111111, \"#46039f\"], [0.2222222222222222, \"#7201a8\"], [0.3333333333333333, \"#9c179e\"], [0.4444444444444444, \"#bd3786\"], [0.5555555555555556, \"#d8576b\"], [0.6666666666666666, \"#ed7953\"], [0.7777777777777778, \"#fb9f3a\"], [0.8888888888888888, \"#fdca26\"], [1.0, \"#f0f921\"]], \"sequentialminus\": [[0.0, \"#0d0887\"], [0.1111111111111111, \"#46039f\"], [0.2222222222222222, \"#7201a8\"], [0.3333333333333333, \"#9c179e\"], [0.4444444444444444, \"#bd3786\"], [0.5555555555555556, \"#d8576b\"], [0.6666666666666666, \"#ed7953\"], [0.7777777777777778, \"#fb9f3a\"], [0.8888888888888888, \"#fdca26\"], [1.0, \"#f0f921\"]]}, \"colorway\": [\"#636efa\", \"#EF553B\", \"#00cc96\", \"#ab63fa\", \"#FFA15A\", \"#19d3f3\", \"#FF6692\", \"#B6E880\", \"#FF97FF\", \"#FECB52\"], \"font\": {\"color\": \"#2a3f5f\"}, \"geo\": {\"bgcolor\": \"white\", \"lakecolor\": \"white\", \"landcolor\": \"#E5ECF6\", \"showlakes\": true, \"showland\": true, \"subunitcolor\": \"white\"}, \"hoverlabel\": {\"align\": \"left\"}, \"hovermode\": \"closest\", \"mapbox\": {\"style\": \"light\"}, \"paper_bgcolor\": \"white\", \"plot_bgcolor\": \"#E5ECF6\", \"polar\": {\"angularaxis\": {\"gridcolor\": \"white\", \"linecolor\": \"white\", \"ticks\": \"\"}, \"bgcolor\": \"#E5ECF6\", \"radialaxis\": {\"gridcolor\": \"white\", \"linecolor\": \"white\", \"ticks\": \"\"}}, \"scene\": {\"xaxis\": {\"backgroundcolor\": \"#E5ECF6\", \"gridcolor\": \"white\", \"gridwidth\": 2, \"linecolor\": \"white\", \"showbackground\": true, \"ticks\": \"\", \"zerolinecolor\": \"white\"}, \"yaxis\": {\"backgroundcolor\": \"#E5ECF6\", \"gridcolor\": \"white\", \"gridwidth\": 2, \"linecolor\": \"white\", \"showbackground\": true, \"ticks\": \"\", \"zerolinecolor\": \"white\"}, \"zaxis\": {\"backgroundcolor\": \"#E5ECF6\", \"gridcolor\": \"white\", \"gridwidth\": 2, \"linecolor\": \"white\", \"showbackground\": true, \"ticks\": \"\", \"zerolinecolor\": \"white\"}}, \"shapedefaults\": {\"line\": {\"color\": \"#2a3f5f\"}}, \"ternary\": {\"aaxis\": {\"gridcolor\": \"white\", \"linecolor\": \"white\", \"ticks\": \"\"}, \"baxis\": {\"gridcolor\": \"white\", \"linecolor\": \"white\", \"ticks\": \"\"}, \"bgcolor\": \"#E5ECF6\", \"caxis\": {\"gridcolor\": \"white\", \"linecolor\": \"white\", \"ticks\": \"\"}}, \"title\": {\"x\": 0.05}, \"xaxis\": {\"automargin\": true, \"gridcolor\": \"white\", \"linecolor\": \"white\", \"ticks\": \"\", \"title\": {\"standoff\": 15}, \"zerolinecolor\": \"white\", \"zerolinewidth\": 2}, \"yaxis\": {\"automargin\": true, \"gridcolor\": \"white\", \"linecolor\": \"white\", \"ticks\": \"\", \"title\": {\"standoff\": 15}, \"zerolinecolor\": \"white\", \"zerolinewidth\": 2}}}, \"title\": {\"text\": \"Loss\"}},                        {\"responsive\": true}                    ).then(function(){\n",
              "                            \n",
              "var gd = document.getElementById('34053dcb-68e8-4280-b2cd-92a7df1b3bb9');\n",
              "var x = new MutationObserver(function (mutations, observer) {{\n",
              "        var display = window.getComputedStyle(gd).display;\n",
              "        if (!display || display === 'none') {{\n",
              "            console.log([gd, 'removed!']);\n",
              "            Plotly.purge(gd);\n",
              "            observer.disconnect();\n",
              "        }}\n",
              "}});\n",
              "\n",
              "// Listen for the removal of the full notebook cells\n",
              "var notebookContainer = gd.closest('#notebook-container');\n",
              "if (notebookContainer) {{\n",
              "    x.observe(notebookContainer, {childList: true});\n",
              "}}\n",
              "\n",
              "// Listen for the clearing of the current output cell\n",
              "var outputEl = gd.closest('.output');\n",
              "if (outputEl) {{\n",
              "    x.observe(outputEl, {childList: true});\n",
              "}}\n",
              "\n",
              "                        })                };                });            </script>        </div>"
            ]
          },
          "metadata": {
            "tags": []
          }
        }
      ]
    },
    {
      "cell_type": "code",
      "metadata": {
        "id": "c4ccf60c",
        "outputId": "4167ea9a-abd8-446e-e10e-0b82674d0f9c"
      },
      "source": [
        "1e-5 - .00001"
      ],
      "id": "c4ccf60c",
      "execution_count": null,
      "outputs": [
        {
          "output_type": "execute_result",
          "data": {
            "text/plain": [
              "0.0"
            ]
          },
          "metadata": {
            "tags": []
          },
          "execution_count": 117
        }
      ]
    },
    {
      "cell_type": "code",
      "metadata": {
        "id": "6f2d943a"
      },
      "source": [
        "early = EarlyStopping( ## detiene el entrenamiento cuando la funcion que monitorea no sigue decreciendo \n",
        "                    monitor='val_loss', ## monitore la funcion de perdida\n",
        "                    min_delta=1e-5, ## cuanto debe cambiar para conciderar que no esta mejorando\n",
        "                    patience=1, ## cuantas iteraciones espera a el cambio antes de detener el entrenamiento\n",
        "                    verbose=10,\n",
        "                    mode='min',)"
      ],
      "id": "6f2d943a",
      "execution_count": null,
      "outputs": []
    },
    {
      "cell_type": "code",
      "metadata": {
        "id": "5906c95d"
      },
      "source": [
        "model = Sequential()\n",
        "model.add(InputLayer(input_shape=(2)))\n",
        "model.add(Dense(15, activation=\"relu\"))\n",
        "model.add(Dense(8, activation=\"relu\"))\n",
        "model.add(Dense(15, activation=\"relu\"))\n",
        "model.add(Dense(8, activation=\"relu\"))\n",
        "model.add(Dense(1)) ### Capa sin activacion o identidad, linear\n",
        "model.compile(loss= BinaryCrossentropy(from_logits=True), optimizer = Adam())"
      ],
      "id": "5906c95d",
      "execution_count": null,
      "outputs": []
    },
    {
      "cell_type": "code",
      "metadata": {
        "id": "8d36f84e",
        "outputId": "4a7c0388-f969-41d0-9599-544b71456759"
      },
      "source": [
        "history = model.fit(x=xt,y=yt, epochs=10000, batch_size = 128, validation_data=(xv,yv), callbacks=[early, checkpoints])"
      ],
      "id": "8d36f84e",
      "execution_count": null,
      "outputs": [
        {
          "output_type": "stream",
          "text": [
            "Epoch 1/10000\n",
            "2/2 [==============================] - 0s 84ms/step - loss: 0.6794 - val_loss: 0.6792\n",
            "\n",
            "Epoch 00001: val_loss did not improve from 0.19987\n",
            "Epoch 2/10000\n",
            "2/2 [==============================] - 0s 13ms/step - loss: 0.6774 - val_loss: 0.6767\n",
            "\n",
            "Epoch 00002: val_loss did not improve from 0.19987\n",
            "Epoch 3/10000\n",
            "2/2 [==============================] - 0s 14ms/step - loss: 0.6729 - val_loss: 0.6743\n",
            "\n",
            "Epoch 00003: val_loss did not improve from 0.19987\n",
            "Epoch 4/10000\n",
            "2/2 [==============================] - 0s 15ms/step - loss: 0.6717 - val_loss: 0.6719\n",
            "\n",
            "Epoch 00004: val_loss did not improve from 0.19987\n",
            "Epoch 5/10000\n",
            "2/2 [==============================] - 0s 27ms/step - loss: 0.6671 - val_loss: 0.6695\n",
            "\n",
            "Epoch 00005: val_loss did not improve from 0.19987\n",
            "Epoch 6/10000\n",
            "2/2 [==============================] - 0s 17ms/step - loss: 0.6668 - val_loss: 0.6671\n",
            "\n",
            "Epoch 00006: val_loss did not improve from 0.19987\n",
            "Epoch 7/10000\n",
            "2/2 [==============================] - 0s 15ms/step - loss: 0.6646 - val_loss: 0.6646\n",
            "\n",
            "Epoch 00007: val_loss did not improve from 0.19987\n",
            "Epoch 8/10000\n",
            "2/2 [==============================] - 0s 18ms/step - loss: 0.6608 - val_loss: 0.6620\n",
            "\n",
            "Epoch 00008: val_loss did not improve from 0.19987\n",
            "Epoch 9/10000\n",
            "2/2 [==============================] - 0s 14ms/step - loss: 0.6586 - val_loss: 0.6593\n",
            "\n",
            "Epoch 00009: val_loss did not improve from 0.19987\n",
            "Epoch 10/10000\n",
            "2/2 [==============================] - 0s 14ms/step - loss: 0.6538 - val_loss: 0.6566\n",
            "\n",
            "Epoch 00010: val_loss did not improve from 0.19987\n",
            "Epoch 11/10000\n",
            "2/2 [==============================] - 0s 24ms/step - loss: 0.6502 - val_loss: 0.6539\n",
            "\n",
            "Epoch 00011: val_loss did not improve from 0.19987\n",
            "Epoch 12/10000\n",
            "2/2 [==============================] - 0s 15ms/step - loss: 0.6500 - val_loss: 0.6510\n",
            "\n",
            "Epoch 00012: val_loss did not improve from 0.19987\n",
            "Epoch 13/10000\n",
            "2/2 [==============================] - 0s 16ms/step - loss: 0.6466 - val_loss: 0.6481\n",
            "\n",
            "Epoch 00013: val_loss did not improve from 0.19987\n",
            "Epoch 14/10000\n",
            "2/2 [==============================] - 0s 52ms/step - loss: 0.6423 - val_loss: 0.6452\n",
            "\n",
            "Epoch 00014: val_loss did not improve from 0.19987\n",
            "Epoch 15/10000\n",
            "2/2 [==============================] - 0s 16ms/step - loss: 0.6420 - val_loss: 0.6421\n",
            "\n",
            "Epoch 00015: val_loss did not improve from 0.19987\n",
            "Epoch 16/10000\n",
            "2/2 [==============================] - 0s 17ms/step - loss: 0.6395 - val_loss: 0.6390\n",
            "\n",
            "Epoch 00016: val_loss did not improve from 0.19987\n",
            "Epoch 17/10000\n",
            "2/2 [==============================] - 0s 16ms/step - loss: 0.6310 - val_loss: 0.6357\n",
            "\n",
            "Epoch 00017: val_loss did not improve from 0.19987\n",
            "Epoch 18/10000\n",
            "2/2 [==============================] - 0s 14ms/step - loss: 0.6285 - val_loss: 0.6324\n",
            "\n",
            "Epoch 00018: val_loss did not improve from 0.19987\n",
            "Epoch 19/10000\n",
            "2/2 [==============================] - 0s 15ms/step - loss: 0.6273 - val_loss: 0.6290\n",
            "\n",
            "Epoch 00019: val_loss did not improve from 0.19987\n",
            "Epoch 20/10000\n",
            "2/2 [==============================] - 0s 14ms/step - loss: 0.6211 - val_loss: 0.6255\n",
            "\n",
            "Epoch 00020: val_loss did not improve from 0.19987\n",
            "Epoch 21/10000\n",
            "2/2 [==============================] - 0s 15ms/step - loss: 0.6195 - val_loss: 0.6219\n",
            "\n",
            "Epoch 00021: val_loss did not improve from 0.19987\n",
            "Epoch 22/10000\n",
            "2/2 [==============================] - 0s 14ms/step - loss: 0.6134 - val_loss: 0.6182\n",
            "\n",
            "Epoch 00022: val_loss did not improve from 0.19987\n",
            "Epoch 23/10000\n",
            "2/2 [==============================] - 0s 13ms/step - loss: 0.6091 - val_loss: 0.6144\n",
            "\n",
            "Epoch 00023: val_loss did not improve from 0.19987\n",
            "Epoch 24/10000\n",
            "2/2 [==============================] - 0s 14ms/step - loss: 0.6081 - val_loss: 0.6105\n",
            "\n",
            "Epoch 00024: val_loss did not improve from 0.19987\n",
            "Epoch 25/10000\n",
            "2/2 [==============================] - 0s 16ms/step - loss: 0.6016 - val_loss: 0.6066\n",
            "\n",
            "Epoch 00025: val_loss did not improve from 0.19987\n",
            "Epoch 26/10000\n",
            "2/2 [==============================] - 0s 17ms/step - loss: 0.6028 - val_loss: 0.6026\n",
            "\n",
            "Epoch 00026: val_loss did not improve from 0.19987\n",
            "Epoch 27/10000\n",
            "2/2 [==============================] - 0s 17ms/step - loss: 0.5915 - val_loss: 0.5985\n",
            "\n",
            "Epoch 00027: val_loss did not improve from 0.19987\n",
            "Epoch 28/10000\n",
            "2/2 [==============================] - 0s 16ms/step - loss: 0.5889 - val_loss: 0.5944\n",
            "\n",
            "Epoch 00028: val_loss did not improve from 0.19987\n",
            "Epoch 29/10000\n",
            "2/2 [==============================] - 0s 15ms/step - loss: 0.5829 - val_loss: 0.5902\n",
            "\n",
            "Epoch 00029: val_loss did not improve from 0.19987\n",
            "Epoch 30/10000\n",
            "2/2 [==============================] - 0s 14ms/step - loss: 0.5790 - val_loss: 0.5859\n",
            "\n",
            "Epoch 00030: val_loss did not improve from 0.19987\n",
            "Epoch 31/10000\n",
            "2/2 [==============================] - 0s 15ms/step - loss: 0.5720 - val_loss: 0.5815\n",
            "\n",
            "Epoch 00031: val_loss did not improve from 0.19987\n",
            "Epoch 32/10000\n",
            "2/2 [==============================] - 0s 16ms/step - loss: 0.5641 - val_loss: 0.5770\n",
            "\n",
            "Epoch 00032: val_loss did not improve from 0.19987\n",
            "Epoch 33/10000\n",
            "2/2 [==============================] - 0s 16ms/step - loss: 0.5639 - val_loss: 0.5723\n",
            "\n",
            "Epoch 00033: val_loss did not improve from 0.19987\n",
            "Epoch 34/10000\n",
            "2/2 [==============================] - 0s 16ms/step - loss: 0.5551 - val_loss: 0.5676\n",
            "\n",
            "Epoch 00034: val_loss did not improve from 0.19987\n",
            "Epoch 35/10000\n",
            "2/2 [==============================] - 0s 13ms/step - loss: 0.5534 - val_loss: 0.5627\n",
            "\n",
            "Epoch 00035: val_loss did not improve from 0.19987\n",
            "Epoch 36/10000\n",
            "2/2 [==============================] - 0s 14ms/step - loss: 0.5519 - val_loss: 0.5578\n",
            "\n",
            "Epoch 00036: val_loss did not improve from 0.19987\n",
            "Epoch 37/10000\n",
            "2/2 [==============================] - 0s 16ms/step - loss: 0.5453 - val_loss: 0.5527\n",
            "\n",
            "Epoch 00037: val_loss did not improve from 0.19987\n",
            "Epoch 38/10000\n",
            "2/2 [==============================] - 0s 15ms/step - loss: 0.5441 - val_loss: 0.5477\n",
            "\n",
            "Epoch 00038: val_loss did not improve from 0.19987\n",
            "Epoch 39/10000\n",
            "2/2 [==============================] - 0s 14ms/step - loss: 0.5395 - val_loss: 0.5427\n",
            "\n",
            "Epoch 00039: val_loss did not improve from 0.19987\n",
            "Epoch 40/10000\n",
            "2/2 [==============================] - 0s 16ms/step - loss: 0.5285 - val_loss: 0.5374\n",
            "\n",
            "Epoch 00040: val_loss did not improve from 0.19987\n",
            "Epoch 41/10000\n",
            "2/2 [==============================] - 0s 19ms/step - loss: 0.5164 - val_loss: 0.5322\n",
            "\n",
            "Epoch 00041: val_loss did not improve from 0.19987\n",
            "Epoch 42/10000\n",
            "2/2 [==============================] - 0s 18ms/step - loss: 0.5128 - val_loss: 0.5267\n",
            "\n",
            "Epoch 00042: val_loss did not improve from 0.19987\n",
            "Epoch 43/10000\n",
            "2/2 [==============================] - 0s 16ms/step - loss: 0.5138 - val_loss: 0.5210\n",
            "\n",
            "Epoch 00043: val_loss did not improve from 0.19987\n",
            "Epoch 44/10000\n",
            "2/2 [==============================] - 0s 15ms/step - loss: 0.5040 - val_loss: 0.5153\n",
            "\n",
            "Epoch 00044: val_loss did not improve from 0.19987\n",
            "Epoch 45/10000\n",
            "2/2 [==============================] - 0s 15ms/step - loss: 0.4982 - val_loss: 0.5094\n",
            "\n",
            "Epoch 00045: val_loss did not improve from 0.19987\n",
            "Epoch 46/10000\n",
            "2/2 [==============================] - 0s 16ms/step - loss: 0.4912 - val_loss: 0.5034\n",
            "\n",
            "Epoch 00046: val_loss did not improve from 0.19987\n",
            "Epoch 47/10000\n",
            "2/2 [==============================] - 0s 15ms/step - loss: 0.4962 - val_loss: 0.4972\n",
            "\n",
            "Epoch 00047: val_loss did not improve from 0.19987\n",
            "Epoch 48/10000\n",
            "2/2 [==============================] - 0s 16ms/step - loss: 0.4963 - val_loss: 0.4911\n",
            "\n",
            "Epoch 00048: val_loss did not improve from 0.19987\n",
            "Epoch 49/10000\n",
            "2/2 [==============================] - 0s 15ms/step - loss: 0.4899 - val_loss: 0.4850\n",
            "\n",
            "Epoch 00049: val_loss did not improve from 0.19987\n",
            "Epoch 50/10000\n",
            "2/2 [==============================] - 0s 14ms/step - loss: 0.4821 - val_loss: 0.4789\n",
            "\n",
            "Epoch 00050: val_loss did not improve from 0.19987\n",
            "Epoch 51/10000\n",
            "2/2 [==============================] - 0s 15ms/step - loss: 0.4668 - val_loss: 0.4727\n",
            "\n",
            "Epoch 00051: val_loss did not improve from 0.19987\n",
            "Epoch 52/10000\n",
            "2/2 [==============================] - 0s 15ms/step - loss: 0.4636 - val_loss: 0.4664\n",
            "\n",
            "Epoch 00052: val_loss did not improve from 0.19987\n",
            "Epoch 53/10000\n",
            "2/2 [==============================] - 0s 14ms/step - loss: 0.4480 - val_loss: 0.4600\n",
            "\n",
            "Epoch 00053: val_loss did not improve from 0.19987\n",
            "Epoch 54/10000\n",
            "2/2 [==============================] - 0s 14ms/step - loss: 0.4557 - val_loss: 0.4534\n"
          ],
          "name": "stdout"
        },
        {
          "output_type": "stream",
          "text": [
            "\n",
            "Epoch 00054: val_loss did not improve from 0.19987\n",
            "Epoch 55/10000\n",
            "2/2 [==============================] - 0s 15ms/step - loss: 0.4442 - val_loss: 0.4467\n",
            "\n",
            "Epoch 00055: val_loss did not improve from 0.19987\n",
            "Epoch 56/10000\n",
            "2/2 [==============================] - 0s 14ms/step - loss: 0.4359 - val_loss: 0.4400\n",
            "\n",
            "Epoch 00056: val_loss did not improve from 0.19987\n",
            "Epoch 57/10000\n",
            "2/2 [==============================] - 0s 16ms/step - loss: 0.4251 - val_loss: 0.4331\n",
            "\n",
            "Epoch 00057: val_loss did not improve from 0.19987\n",
            "Epoch 58/10000\n",
            "2/2 [==============================] - 0s 16ms/step - loss: 0.4231 - val_loss: 0.4261\n",
            "\n",
            "Epoch 00058: val_loss did not improve from 0.19987\n",
            "Epoch 59/10000\n",
            "2/2 [==============================] - 0s 16ms/step - loss: 0.4212 - val_loss: 0.4189\n",
            "\n",
            "Epoch 00059: val_loss did not improve from 0.19987\n",
            "Epoch 60/10000\n",
            "2/2 [==============================] - 0s 14ms/step - loss: 0.4150 - val_loss: 0.4116\n",
            "\n",
            "Epoch 00060: val_loss did not improve from 0.19987\n",
            "Epoch 61/10000\n",
            "2/2 [==============================] - 0s 14ms/step - loss: 0.3989 - val_loss: 0.4041\n",
            "\n",
            "Epoch 00061: val_loss did not improve from 0.19987\n",
            "Epoch 62/10000\n",
            "2/2 [==============================] - 0s 15ms/step - loss: 0.3954 - val_loss: 0.3966\n",
            "\n",
            "Epoch 00062: val_loss did not improve from 0.19987\n",
            "Epoch 63/10000\n",
            "2/2 [==============================] - 0s 17ms/step - loss: 0.3824 - val_loss: 0.3889\n",
            "\n",
            "Epoch 00063: val_loss did not improve from 0.19987\n",
            "Epoch 64/10000\n",
            "2/2 [==============================] - 0s 15ms/step - loss: 0.3883 - val_loss: 0.3811\n",
            "\n",
            "Epoch 00064: val_loss did not improve from 0.19987\n",
            "Epoch 65/10000\n",
            "2/2 [==============================] - 0s 15ms/step - loss: 0.3701 - val_loss: 0.3731\n",
            "\n",
            "Epoch 00065: val_loss did not improve from 0.19987\n",
            "Epoch 66/10000\n",
            "2/2 [==============================] - 0s 15ms/step - loss: 0.3718 - val_loss: 0.3650\n",
            "\n",
            "Epoch 00066: val_loss did not improve from 0.19987\n",
            "Epoch 67/10000\n",
            "2/2 [==============================] - 0s 16ms/step - loss: 0.3694 - val_loss: 0.3568\n",
            "\n",
            "Epoch 00067: val_loss did not improve from 0.19987\n",
            "Epoch 68/10000\n",
            "2/2 [==============================] - 0s 16ms/step - loss: 0.3507 - val_loss: 0.3484\n",
            "\n",
            "Epoch 00068: val_loss did not improve from 0.19987\n",
            "Epoch 69/10000\n",
            "2/2 [==============================] - 0s 16ms/step - loss: 0.3558 - val_loss: 0.3400\n",
            "\n",
            "Epoch 00069: val_loss did not improve from 0.19987\n",
            "Epoch 70/10000\n",
            "2/2 [==============================] - 0s 16ms/step - loss: 0.3331 - val_loss: 0.3317\n",
            "\n",
            "Epoch 00070: val_loss did not improve from 0.19987\n",
            "Epoch 71/10000\n",
            "2/2 [==============================] - 0s 16ms/step - loss: 0.3372 - val_loss: 0.3236\n",
            "\n",
            "Epoch 00071: val_loss did not improve from 0.19987\n",
            "Epoch 72/10000\n",
            "2/2 [==============================] - 0s 16ms/step - loss: 0.3243 - val_loss: 0.3156\n",
            "\n",
            "Epoch 00072: val_loss did not improve from 0.19987\n",
            "Epoch 73/10000\n",
            "2/2 [==============================] - 0s 15ms/step - loss: 0.3244 - val_loss: 0.3082\n",
            "\n",
            "Epoch 00073: val_loss did not improve from 0.19987\n",
            "Epoch 74/10000\n",
            "2/2 [==============================] - 0s 14ms/step - loss: 0.3212 - val_loss: 0.3010\n",
            "\n",
            "Epoch 00074: val_loss did not improve from 0.19987\n",
            "Epoch 75/10000\n",
            "2/2 [==============================] - 0s 14ms/step - loss: 0.3135 - val_loss: 0.2942\n",
            "\n",
            "Epoch 00075: val_loss did not improve from 0.19987\n",
            "Epoch 76/10000\n",
            "2/2 [==============================] - 0s 16ms/step - loss: 0.3105 - val_loss: 0.2876\n",
            "\n",
            "Epoch 00076: val_loss did not improve from 0.19987\n",
            "Epoch 77/10000\n",
            "2/2 [==============================] - 0s 16ms/step - loss: 0.2853 - val_loss: 0.2810\n",
            "\n",
            "Epoch 00077: val_loss did not improve from 0.19987\n",
            "Epoch 78/10000\n",
            "2/2 [==============================] - 0s 15ms/step - loss: 0.2851 - val_loss: 0.2750\n",
            "\n",
            "Epoch 00078: val_loss did not improve from 0.19987\n",
            "Epoch 79/10000\n",
            "2/2 [==============================] - 0s 16ms/step - loss: 0.2702 - val_loss: 0.2693\n",
            "\n",
            "Epoch 00079: val_loss did not improve from 0.19987\n",
            "Epoch 80/10000\n",
            "2/2 [==============================] - 0s 15ms/step - loss: 0.2792 - val_loss: 0.2642\n",
            "\n",
            "Epoch 00080: val_loss did not improve from 0.19987\n",
            "Epoch 81/10000\n",
            "2/2 [==============================] - 0s 16ms/step - loss: 0.2692 - val_loss: 0.2594\n",
            "\n",
            "Epoch 00081: val_loss did not improve from 0.19987\n",
            "Epoch 82/10000\n",
            "2/2 [==============================] - 0s 15ms/step - loss: 0.2658 - val_loss: 0.2551\n",
            "\n",
            "Epoch 00082: val_loss did not improve from 0.19987\n",
            "Epoch 83/10000\n",
            "2/2 [==============================] - 0s 15ms/step - loss: 0.2579 - val_loss: 0.2516\n",
            "\n",
            "Epoch 00083: val_loss did not improve from 0.19987\n",
            "Epoch 84/10000\n",
            "2/2 [==============================] - 0s 15ms/step - loss: 0.2581 - val_loss: 0.2485\n",
            "\n",
            "Epoch 00084: val_loss did not improve from 0.19987\n",
            "Epoch 85/10000\n",
            "2/2 [==============================] - 0s 14ms/step - loss: 0.2600 - val_loss: 0.2463\n",
            "\n",
            "Epoch 00085: val_loss did not improve from 0.19987\n",
            "Epoch 86/10000\n",
            "2/2 [==============================] - 0s 16ms/step - loss: 0.2498 - val_loss: 0.2442\n",
            "\n",
            "Epoch 00086: val_loss did not improve from 0.19987\n",
            "Epoch 87/10000\n",
            "2/2 [==============================] - 0s 16ms/step - loss: 0.2322 - val_loss: 0.2422\n",
            "\n",
            "Epoch 00087: val_loss did not improve from 0.19987\n",
            "Epoch 88/10000\n",
            "2/2 [==============================] - 0s 16ms/step - loss: 0.2497 - val_loss: 0.2398\n",
            "\n",
            "Epoch 00088: val_loss did not improve from 0.19987\n",
            "Epoch 89/10000\n",
            "2/2 [==============================] - 0s 15ms/step - loss: 0.2443 - val_loss: 0.2374\n",
            "\n",
            "Epoch 00089: val_loss did not improve from 0.19987\n",
            "Epoch 90/10000\n",
            "2/2 [==============================] - 0s 17ms/step - loss: 0.2470 - val_loss: 0.2349\n",
            "\n",
            "Epoch 00090: val_loss did not improve from 0.19987\n",
            "Epoch 91/10000\n",
            "2/2 [==============================] - 0s 16ms/step - loss: 0.2373 - val_loss: 0.2326\n",
            "\n",
            "Epoch 00091: val_loss did not improve from 0.19987\n",
            "Epoch 92/10000\n",
            "2/2 [==============================] - 0s 15ms/step - loss: 0.2315 - val_loss: 0.2312\n",
            "\n",
            "Epoch 00092: val_loss did not improve from 0.19987\n",
            "Epoch 93/10000\n",
            "2/2 [==============================] - 0s 15ms/step - loss: 0.2235 - val_loss: 0.2303\n",
            "\n",
            "Epoch 00093: val_loss did not improve from 0.19987\n",
            "Epoch 94/10000\n",
            "2/2 [==============================] - 0s 15ms/step - loss: 0.2327 - val_loss: 0.2299\n",
            "\n",
            "Epoch 00094: val_loss did not improve from 0.19987\n",
            "Epoch 95/10000\n",
            "2/2 [==============================] - 0s 15ms/step - loss: 0.2339 - val_loss: 0.2303\n",
            "\n",
            "Epoch 00095: val_loss did not improve from 0.19987\n",
            "Epoch 00095: early stopping\n"
          ],
          "name": "stdout"
        }
      ]
    },
    {
      "cell_type": "code",
      "metadata": {
        "id": "e1c1fd65",
        "outputId": "92229f1b-3bd0-48e5-f94d-ed4638cccb6d"
      },
      "source": [
        "fig = go.Figure(layout = dict(title=\"Loss\"))\n",
        "fig.add_trace(go.Scatter(x=list(range(len(history.history[\"loss\"]))),y=history.history[\"loss\"], name=\"loss\"))\n",
        "fig.add_trace(go.Scatter(x=list(range(len(history.history[\"loss\"]))),y=history.history[\"val_loss\"], name=\"val_loss\"))\n",
        "fig.show()"
      ],
      "id": "e1c1fd65",
      "execution_count": null,
      "outputs": [
        {
          "output_type": "display_data",
          "data": {
            "application/vnd.plotly.v1+json": {
              "config": {
                "plotlyServerURL": "https://plot.ly"
              },
              "data": [
                {
                  "name": "loss",
                  "type": "scatter",
                  "x": [
                    0,
                    1,
                    2,
                    3,
                    4,
                    5,
                    6,
                    7,
                    8,
                    9,
                    10,
                    11,
                    12,
                    13,
                    14,
                    15,
                    16,
                    17,
                    18,
                    19,
                    20,
                    21,
                    22,
                    23,
                    24,
                    25,
                    26,
                    27,
                    28,
                    29,
                    30,
                    31,
                    32,
                    33,
                    34,
                    35,
                    36,
                    37,
                    38,
                    39,
                    40,
                    41,
                    42,
                    43,
                    44,
                    45,
                    46,
                    47,
                    48,
                    49,
                    50,
                    51,
                    52,
                    53,
                    54,
                    55,
                    56,
                    57,
                    58,
                    59,
                    60,
                    61,
                    62,
                    63,
                    64,
                    65,
                    66,
                    67,
                    68,
                    69,
                    70,
                    71,
                    72,
                    73,
                    74,
                    75,
                    76,
                    77,
                    78,
                    79,
                    80,
                    81,
                    82,
                    83,
                    84,
                    85,
                    86,
                    87,
                    88,
                    89,
                    90,
                    91,
                    92,
                    93,
                    94
                  ],
                  "y": [
                    0.6792965531349182,
                    0.6762595772743225,
                    0.673836350440979,
                    0.6709812879562378,
                    0.6686446070671082,
                    0.6658443808555603,
                    0.6632195711135864,
                    0.6606261730194092,
                    0.6578062772750854,
                    0.6550878882408142,
                    0.6522051692008972,
                    0.6490550637245178,
                    0.6459729671478271,
                    0.6428062319755554,
                    0.63932865858078,
                    0.6358785033226013,
                    0.6326019763946533,
                    0.6288699507713318,
                    0.6249431371688843,
                    0.6212324500083923,
                    0.6170772314071655,
                    0.6130702495574951,
                    0.6088334918022156,
                    0.6044332981109619,
                    0.6000593900680542,
                    0.5954484343528748,
                    0.591309666633606,
                    0.5866281390190125,
                    0.5821078419685364,
                    0.5774688124656677,
                    0.5729110240936279,
                    0.5681544542312622,
                    0.5631411671638489,
                    0.5582893490791321,
                    0.5531934499740601,
                    0.548154890537262,
                    0.5429866909980774,
                    0.5377905368804932,
                    0.5325965881347656,
                    0.5276513695716858,
                    0.5224002599716187,
                    0.5171784162521362,
                    0.5119315385818481,
                    0.5065547227859497,
                    0.5011134147644043,
                    0.4957088828086853,
                    0.4901154935359955,
                    0.4846416413784027,
                    0.47876617312431335,
                    0.47303837537765503,
                    0.46748945116996765,
                    0.46147310733795166,
                    0.45575588941574097,
                    0.4496368169784546,
                    0.44374141097068787,
                    0.43776658177375793,
                    0.43131667375564575,
                    0.42521968483924866,
                    0.4187084138393402,
                    0.41240087151527405,
                    0.40571001172065735,
                    0.3991616666316986,
                    0.392437607049942,
                    0.3855791985988617,
                    0.37871843576431274,
                    0.37140148878097534,
                    0.36401185393333435,
                    0.3566676080226898,
                    0.34901654720306396,
                    0.3417223393917084,
                    0.3339642584323883,
                    0.3267853260040283,
                    0.3196223974227905,
                    0.3121187686920166,
                    0.3057488203048706,
                    0.299334317445755,
                    0.29293709993362427,
                    0.2865366041660309,
                    0.28113988041877747,
                    0.2753518521785736,
                    0.27027690410614014,
                    0.2656192481517792,
                    0.26103076338768005,
                    0.2567196786403656,
                    0.25302448868751526,
                    0.2498050034046173,
                    0.24736261367797852,
                    0.24413493275642395,
                    0.2416411191225052,
                    0.2391362339258194,
                    0.23755088448524475,
                    0.2362494021654129,
                    0.2351026087999344,
                    0.23360790312290192,
                    0.2318653017282486
                  ]
                },
                {
                  "name": "val_loss",
                  "type": "scatter",
                  "x": [
                    0,
                    1,
                    2,
                    3,
                    4,
                    5,
                    6,
                    7,
                    8,
                    9,
                    10,
                    11,
                    12,
                    13,
                    14,
                    15,
                    16,
                    17,
                    18,
                    19,
                    20,
                    21,
                    22,
                    23,
                    24,
                    25,
                    26,
                    27,
                    28,
                    29,
                    30,
                    31,
                    32,
                    33,
                    34,
                    35,
                    36,
                    37,
                    38,
                    39,
                    40,
                    41,
                    42,
                    43,
                    44,
                    45,
                    46,
                    47,
                    48,
                    49,
                    50,
                    51,
                    52,
                    53,
                    54,
                    55,
                    56,
                    57,
                    58,
                    59,
                    60,
                    61,
                    62,
                    63,
                    64,
                    65,
                    66,
                    67,
                    68,
                    69,
                    70,
                    71,
                    72,
                    73,
                    74,
                    75,
                    76,
                    77,
                    78,
                    79,
                    80,
                    81,
                    82,
                    83,
                    84,
                    85,
                    86,
                    87,
                    88,
                    89,
                    90,
                    91,
                    92,
                    93,
                    94
                  ],
                  "y": [
                    0.6791535019874573,
                    0.6766843199729919,
                    0.6743469834327698,
                    0.671887993812561,
                    0.6695048809051514,
                    0.6670767068862915,
                    0.6645627021789551,
                    0.6619646549224854,
                    0.6592950224876404,
                    0.6565826535224915,
                    0.6538538932800293,
                    0.6510345339775085,
                    0.6481424570083618,
                    0.6451789736747742,
                    0.642122745513916,
                    0.6389775276184082,
                    0.6357383131980896,
                    0.6323964595794678,
                    0.6289984583854675,
                    0.625496506690979,
                    0.6218907833099365,
                    0.6182233691215515,
                    0.6144213676452637,
                    0.610546886920929,
                    0.6065993309020996,
                    0.6026076674461365,
                    0.5985237956047058,
                    0.5944037437438965,
                    0.5902180075645447,
                    0.5858946442604065,
                    0.5814982056617737,
                    0.5769983530044556,
                    0.5723464488983154,
                    0.5675652027130127,
                    0.5626992583274841,
                    0.557766318321228,
                    0.5527439117431641,
                    0.5477405786514282,
                    0.5426526069641113,
                    0.537438154220581,
                    0.5321812033653259,
                    0.5267438292503357,
                    0.521013617515564,
                    0.5152794122695923,
                    0.5093900561332703,
                    0.5033762454986572,
                    0.49718326330184937,
                    0.4910648465156555,
                    0.48501887917518616,
                    0.47891294956207275,
                    0.4727213680744171,
                    0.4664478003978729,
                    0.459952175617218,
                    0.4533817172050476,
                    0.4467471241950989,
                    0.4399905502796173,
                    0.433113694190979,
                    0.42606016993522644,
                    0.4188663065433502,
                    0.41156426072120667,
                    0.40414246916770935,
                    0.3965536952018738,
                    0.3888859450817108,
                    0.38112154603004456,
                    0.37311840057373047,
                    0.3649696409702301,
                    0.35675522685050964,
                    0.34838414192199707,
                    0.340038537979126,
                    0.3316687047481537,
                    0.3235677480697632,
                    0.31564080715179443,
                    0.30824610590934753,
                    0.3010402321815491,
                    0.29415953159332275,
                    0.2875749170780182,
                    0.2810436487197876,
                    0.27502626180648804,
                    0.2693363428115845,
                    0.2641950845718384,
                    0.2593987286090851,
                    0.25510895252227783,
                    0.2516161799430847,
                    0.2485394924879074,
                    0.24625444412231445,
                    0.2442040890455246,
                    0.24223607778549194,
                    0.23978082835674286,
                    0.23743398487567902,
                    0.23491954803466797,
                    0.23261108994483948,
                    0.23118236660957336,
                    0.2303159534931183,
                    0.2298814058303833,
                    0.2303019016981125
                  ]
                }
              ],
              "layout": {
                "template": {
                  "data": {
                    "bar": [
                      {
                        "error_x": {
                          "color": "#2a3f5f"
                        },
                        "error_y": {
                          "color": "#2a3f5f"
                        },
                        "marker": {
                          "line": {
                            "color": "#E5ECF6",
                            "width": 0.5
                          }
                        },
                        "type": "bar"
                      }
                    ],
                    "barpolar": [
                      {
                        "marker": {
                          "line": {
                            "color": "#E5ECF6",
                            "width": 0.5
                          }
                        },
                        "type": "barpolar"
                      }
                    ],
                    "carpet": [
                      {
                        "aaxis": {
                          "endlinecolor": "#2a3f5f",
                          "gridcolor": "white",
                          "linecolor": "white",
                          "minorgridcolor": "white",
                          "startlinecolor": "#2a3f5f"
                        },
                        "baxis": {
                          "endlinecolor": "#2a3f5f",
                          "gridcolor": "white",
                          "linecolor": "white",
                          "minorgridcolor": "white",
                          "startlinecolor": "#2a3f5f"
                        },
                        "type": "carpet"
                      }
                    ],
                    "choropleth": [
                      {
                        "colorbar": {
                          "outlinewidth": 0,
                          "ticks": ""
                        },
                        "type": "choropleth"
                      }
                    ],
                    "contour": [
                      {
                        "colorbar": {
                          "outlinewidth": 0,
                          "ticks": ""
                        },
                        "colorscale": [
                          [
                            0,
                            "#0d0887"
                          ],
                          [
                            0.1111111111111111,
                            "#46039f"
                          ],
                          [
                            0.2222222222222222,
                            "#7201a8"
                          ],
                          [
                            0.3333333333333333,
                            "#9c179e"
                          ],
                          [
                            0.4444444444444444,
                            "#bd3786"
                          ],
                          [
                            0.5555555555555556,
                            "#d8576b"
                          ],
                          [
                            0.6666666666666666,
                            "#ed7953"
                          ],
                          [
                            0.7777777777777778,
                            "#fb9f3a"
                          ],
                          [
                            0.8888888888888888,
                            "#fdca26"
                          ],
                          [
                            1,
                            "#f0f921"
                          ]
                        ],
                        "type": "contour"
                      }
                    ],
                    "contourcarpet": [
                      {
                        "colorbar": {
                          "outlinewidth": 0,
                          "ticks": ""
                        },
                        "type": "contourcarpet"
                      }
                    ],
                    "heatmap": [
                      {
                        "colorbar": {
                          "outlinewidth": 0,
                          "ticks": ""
                        },
                        "colorscale": [
                          [
                            0,
                            "#0d0887"
                          ],
                          [
                            0.1111111111111111,
                            "#46039f"
                          ],
                          [
                            0.2222222222222222,
                            "#7201a8"
                          ],
                          [
                            0.3333333333333333,
                            "#9c179e"
                          ],
                          [
                            0.4444444444444444,
                            "#bd3786"
                          ],
                          [
                            0.5555555555555556,
                            "#d8576b"
                          ],
                          [
                            0.6666666666666666,
                            "#ed7953"
                          ],
                          [
                            0.7777777777777778,
                            "#fb9f3a"
                          ],
                          [
                            0.8888888888888888,
                            "#fdca26"
                          ],
                          [
                            1,
                            "#f0f921"
                          ]
                        ],
                        "type": "heatmap"
                      }
                    ],
                    "heatmapgl": [
                      {
                        "colorbar": {
                          "outlinewidth": 0,
                          "ticks": ""
                        },
                        "colorscale": [
                          [
                            0,
                            "#0d0887"
                          ],
                          [
                            0.1111111111111111,
                            "#46039f"
                          ],
                          [
                            0.2222222222222222,
                            "#7201a8"
                          ],
                          [
                            0.3333333333333333,
                            "#9c179e"
                          ],
                          [
                            0.4444444444444444,
                            "#bd3786"
                          ],
                          [
                            0.5555555555555556,
                            "#d8576b"
                          ],
                          [
                            0.6666666666666666,
                            "#ed7953"
                          ],
                          [
                            0.7777777777777778,
                            "#fb9f3a"
                          ],
                          [
                            0.8888888888888888,
                            "#fdca26"
                          ],
                          [
                            1,
                            "#f0f921"
                          ]
                        ],
                        "type": "heatmapgl"
                      }
                    ],
                    "histogram": [
                      {
                        "marker": {
                          "colorbar": {
                            "outlinewidth": 0,
                            "ticks": ""
                          }
                        },
                        "type": "histogram"
                      }
                    ],
                    "histogram2d": [
                      {
                        "colorbar": {
                          "outlinewidth": 0,
                          "ticks": ""
                        },
                        "colorscale": [
                          [
                            0,
                            "#0d0887"
                          ],
                          [
                            0.1111111111111111,
                            "#46039f"
                          ],
                          [
                            0.2222222222222222,
                            "#7201a8"
                          ],
                          [
                            0.3333333333333333,
                            "#9c179e"
                          ],
                          [
                            0.4444444444444444,
                            "#bd3786"
                          ],
                          [
                            0.5555555555555556,
                            "#d8576b"
                          ],
                          [
                            0.6666666666666666,
                            "#ed7953"
                          ],
                          [
                            0.7777777777777778,
                            "#fb9f3a"
                          ],
                          [
                            0.8888888888888888,
                            "#fdca26"
                          ],
                          [
                            1,
                            "#f0f921"
                          ]
                        ],
                        "type": "histogram2d"
                      }
                    ],
                    "histogram2dcontour": [
                      {
                        "colorbar": {
                          "outlinewidth": 0,
                          "ticks": ""
                        },
                        "colorscale": [
                          [
                            0,
                            "#0d0887"
                          ],
                          [
                            0.1111111111111111,
                            "#46039f"
                          ],
                          [
                            0.2222222222222222,
                            "#7201a8"
                          ],
                          [
                            0.3333333333333333,
                            "#9c179e"
                          ],
                          [
                            0.4444444444444444,
                            "#bd3786"
                          ],
                          [
                            0.5555555555555556,
                            "#d8576b"
                          ],
                          [
                            0.6666666666666666,
                            "#ed7953"
                          ],
                          [
                            0.7777777777777778,
                            "#fb9f3a"
                          ],
                          [
                            0.8888888888888888,
                            "#fdca26"
                          ],
                          [
                            1,
                            "#f0f921"
                          ]
                        ],
                        "type": "histogram2dcontour"
                      }
                    ],
                    "mesh3d": [
                      {
                        "colorbar": {
                          "outlinewidth": 0,
                          "ticks": ""
                        },
                        "type": "mesh3d"
                      }
                    ],
                    "parcoords": [
                      {
                        "line": {
                          "colorbar": {
                            "outlinewidth": 0,
                            "ticks": ""
                          }
                        },
                        "type": "parcoords"
                      }
                    ],
                    "pie": [
                      {
                        "automargin": true,
                        "type": "pie"
                      }
                    ],
                    "scatter": [
                      {
                        "marker": {
                          "colorbar": {
                            "outlinewidth": 0,
                            "ticks": ""
                          }
                        },
                        "type": "scatter"
                      }
                    ],
                    "scatter3d": [
                      {
                        "line": {
                          "colorbar": {
                            "outlinewidth": 0,
                            "ticks": ""
                          }
                        },
                        "marker": {
                          "colorbar": {
                            "outlinewidth": 0,
                            "ticks": ""
                          }
                        },
                        "type": "scatter3d"
                      }
                    ],
                    "scattercarpet": [
                      {
                        "marker": {
                          "colorbar": {
                            "outlinewidth": 0,
                            "ticks": ""
                          }
                        },
                        "type": "scattercarpet"
                      }
                    ],
                    "scattergeo": [
                      {
                        "marker": {
                          "colorbar": {
                            "outlinewidth": 0,
                            "ticks": ""
                          }
                        },
                        "type": "scattergeo"
                      }
                    ],
                    "scattergl": [
                      {
                        "marker": {
                          "colorbar": {
                            "outlinewidth": 0,
                            "ticks": ""
                          }
                        },
                        "type": "scattergl"
                      }
                    ],
                    "scattermapbox": [
                      {
                        "marker": {
                          "colorbar": {
                            "outlinewidth": 0,
                            "ticks": ""
                          }
                        },
                        "type": "scattermapbox"
                      }
                    ],
                    "scatterpolar": [
                      {
                        "marker": {
                          "colorbar": {
                            "outlinewidth": 0,
                            "ticks": ""
                          }
                        },
                        "type": "scatterpolar"
                      }
                    ],
                    "scatterpolargl": [
                      {
                        "marker": {
                          "colorbar": {
                            "outlinewidth": 0,
                            "ticks": ""
                          }
                        },
                        "type": "scatterpolargl"
                      }
                    ],
                    "scatterternary": [
                      {
                        "marker": {
                          "colorbar": {
                            "outlinewidth": 0,
                            "ticks": ""
                          }
                        },
                        "type": "scatterternary"
                      }
                    ],
                    "surface": [
                      {
                        "colorbar": {
                          "outlinewidth": 0,
                          "ticks": ""
                        },
                        "colorscale": [
                          [
                            0,
                            "#0d0887"
                          ],
                          [
                            0.1111111111111111,
                            "#46039f"
                          ],
                          [
                            0.2222222222222222,
                            "#7201a8"
                          ],
                          [
                            0.3333333333333333,
                            "#9c179e"
                          ],
                          [
                            0.4444444444444444,
                            "#bd3786"
                          ],
                          [
                            0.5555555555555556,
                            "#d8576b"
                          ],
                          [
                            0.6666666666666666,
                            "#ed7953"
                          ],
                          [
                            0.7777777777777778,
                            "#fb9f3a"
                          ],
                          [
                            0.8888888888888888,
                            "#fdca26"
                          ],
                          [
                            1,
                            "#f0f921"
                          ]
                        ],
                        "type": "surface"
                      }
                    ],
                    "table": [
                      {
                        "cells": {
                          "fill": {
                            "color": "#EBF0F8"
                          },
                          "line": {
                            "color": "white"
                          }
                        },
                        "header": {
                          "fill": {
                            "color": "#C8D4E3"
                          },
                          "line": {
                            "color": "white"
                          }
                        },
                        "type": "table"
                      }
                    ]
                  },
                  "layout": {
                    "annotationdefaults": {
                      "arrowcolor": "#2a3f5f",
                      "arrowhead": 0,
                      "arrowwidth": 1
                    },
                    "autotypenumbers": "strict",
                    "coloraxis": {
                      "colorbar": {
                        "outlinewidth": 0,
                        "ticks": ""
                      }
                    },
                    "colorscale": {
                      "diverging": [
                        [
                          0,
                          "#8e0152"
                        ],
                        [
                          0.1,
                          "#c51b7d"
                        ],
                        [
                          0.2,
                          "#de77ae"
                        ],
                        [
                          0.3,
                          "#f1b6da"
                        ],
                        [
                          0.4,
                          "#fde0ef"
                        ],
                        [
                          0.5,
                          "#f7f7f7"
                        ],
                        [
                          0.6,
                          "#e6f5d0"
                        ],
                        [
                          0.7,
                          "#b8e186"
                        ],
                        [
                          0.8,
                          "#7fbc41"
                        ],
                        [
                          0.9,
                          "#4d9221"
                        ],
                        [
                          1,
                          "#276419"
                        ]
                      ],
                      "sequential": [
                        [
                          0,
                          "#0d0887"
                        ],
                        [
                          0.1111111111111111,
                          "#46039f"
                        ],
                        [
                          0.2222222222222222,
                          "#7201a8"
                        ],
                        [
                          0.3333333333333333,
                          "#9c179e"
                        ],
                        [
                          0.4444444444444444,
                          "#bd3786"
                        ],
                        [
                          0.5555555555555556,
                          "#d8576b"
                        ],
                        [
                          0.6666666666666666,
                          "#ed7953"
                        ],
                        [
                          0.7777777777777778,
                          "#fb9f3a"
                        ],
                        [
                          0.8888888888888888,
                          "#fdca26"
                        ],
                        [
                          1,
                          "#f0f921"
                        ]
                      ],
                      "sequentialminus": [
                        [
                          0,
                          "#0d0887"
                        ],
                        [
                          0.1111111111111111,
                          "#46039f"
                        ],
                        [
                          0.2222222222222222,
                          "#7201a8"
                        ],
                        [
                          0.3333333333333333,
                          "#9c179e"
                        ],
                        [
                          0.4444444444444444,
                          "#bd3786"
                        ],
                        [
                          0.5555555555555556,
                          "#d8576b"
                        ],
                        [
                          0.6666666666666666,
                          "#ed7953"
                        ],
                        [
                          0.7777777777777778,
                          "#fb9f3a"
                        ],
                        [
                          0.8888888888888888,
                          "#fdca26"
                        ],
                        [
                          1,
                          "#f0f921"
                        ]
                      ]
                    },
                    "colorway": [
                      "#636efa",
                      "#EF553B",
                      "#00cc96",
                      "#ab63fa",
                      "#FFA15A",
                      "#19d3f3",
                      "#FF6692",
                      "#B6E880",
                      "#FF97FF",
                      "#FECB52"
                    ],
                    "font": {
                      "color": "#2a3f5f"
                    },
                    "geo": {
                      "bgcolor": "white",
                      "lakecolor": "white",
                      "landcolor": "#E5ECF6",
                      "showlakes": true,
                      "showland": true,
                      "subunitcolor": "white"
                    },
                    "hoverlabel": {
                      "align": "left"
                    },
                    "hovermode": "closest",
                    "mapbox": {
                      "style": "light"
                    },
                    "paper_bgcolor": "white",
                    "plot_bgcolor": "#E5ECF6",
                    "polar": {
                      "angularaxis": {
                        "gridcolor": "white",
                        "linecolor": "white",
                        "ticks": ""
                      },
                      "bgcolor": "#E5ECF6",
                      "radialaxis": {
                        "gridcolor": "white",
                        "linecolor": "white",
                        "ticks": ""
                      }
                    },
                    "scene": {
                      "xaxis": {
                        "backgroundcolor": "#E5ECF6",
                        "gridcolor": "white",
                        "gridwidth": 2,
                        "linecolor": "white",
                        "showbackground": true,
                        "ticks": "",
                        "zerolinecolor": "white"
                      },
                      "yaxis": {
                        "backgroundcolor": "#E5ECF6",
                        "gridcolor": "white",
                        "gridwidth": 2,
                        "linecolor": "white",
                        "showbackground": true,
                        "ticks": "",
                        "zerolinecolor": "white"
                      },
                      "zaxis": {
                        "backgroundcolor": "#E5ECF6",
                        "gridcolor": "white",
                        "gridwidth": 2,
                        "linecolor": "white",
                        "showbackground": true,
                        "ticks": "",
                        "zerolinecolor": "white"
                      }
                    },
                    "shapedefaults": {
                      "line": {
                        "color": "#2a3f5f"
                      }
                    },
                    "ternary": {
                      "aaxis": {
                        "gridcolor": "white",
                        "linecolor": "white",
                        "ticks": ""
                      },
                      "baxis": {
                        "gridcolor": "white",
                        "linecolor": "white",
                        "ticks": ""
                      },
                      "bgcolor": "#E5ECF6",
                      "caxis": {
                        "gridcolor": "white",
                        "linecolor": "white",
                        "ticks": ""
                      }
                    },
                    "title": {
                      "x": 0.05
                    },
                    "xaxis": {
                      "automargin": true,
                      "gridcolor": "white",
                      "linecolor": "white",
                      "ticks": "",
                      "title": {
                        "standoff": 15
                      },
                      "zerolinecolor": "white",
                      "zerolinewidth": 2
                    },
                    "yaxis": {
                      "automargin": true,
                      "gridcolor": "white",
                      "linecolor": "white",
                      "ticks": "",
                      "title": {
                        "standoff": 15
                      },
                      "zerolinecolor": "white",
                      "zerolinewidth": 2
                    }
                  }
                },
                "title": {
                  "text": "Loss"
                }
              }
            },
            "text/html": [
              "<div>                            <div id=\"3c1fa6e4-4135-4eae-a137-882d3f627c6b\" class=\"plotly-graph-div\" style=\"height:525px; width:100%;\"></div>            <script type=\"text/javascript\">                require([\"plotly\"], function(Plotly) {                    window.PLOTLYENV=window.PLOTLYENV || {};                                    if (document.getElementById(\"3c1fa6e4-4135-4eae-a137-882d3f627c6b\")) {                    Plotly.newPlot(                        \"3c1fa6e4-4135-4eae-a137-882d3f627c6b\",                        [{\"name\": \"loss\", \"type\": \"scatter\", \"x\": [0, 1, 2, 3, 4, 5, 6, 7, 8, 9, 10, 11, 12, 13, 14, 15, 16, 17, 18, 19, 20, 21, 22, 23, 24, 25, 26, 27, 28, 29, 30, 31, 32, 33, 34, 35, 36, 37, 38, 39, 40, 41, 42, 43, 44, 45, 46, 47, 48, 49, 50, 51, 52, 53, 54, 55, 56, 57, 58, 59, 60, 61, 62, 63, 64, 65, 66, 67, 68, 69, 70, 71, 72, 73, 74, 75, 76, 77, 78, 79, 80, 81, 82, 83, 84, 85, 86, 87, 88, 89, 90, 91, 92, 93, 94], \"y\": [0.6792965531349182, 0.6762595772743225, 0.673836350440979, 0.6709812879562378, 0.6686446070671082, 0.6658443808555603, 0.6632195711135864, 0.6606261730194092, 0.6578062772750854, 0.6550878882408142, 0.6522051692008972, 0.6490550637245178, 0.6459729671478271, 0.6428062319755554, 0.63932865858078, 0.6358785033226013, 0.6326019763946533, 0.6288699507713318, 0.6249431371688843, 0.6212324500083923, 0.6170772314071655, 0.6130702495574951, 0.6088334918022156, 0.6044332981109619, 0.6000593900680542, 0.5954484343528748, 0.591309666633606, 0.5866281390190125, 0.5821078419685364, 0.5774688124656677, 0.5729110240936279, 0.5681544542312622, 0.5631411671638489, 0.5582893490791321, 0.5531934499740601, 0.548154890537262, 0.5429866909980774, 0.5377905368804932, 0.5325965881347656, 0.5276513695716858, 0.5224002599716187, 0.5171784162521362, 0.5119315385818481, 0.5065547227859497, 0.5011134147644043, 0.4957088828086853, 0.4901154935359955, 0.4846416413784027, 0.47876617312431335, 0.47303837537765503, 0.46748945116996765, 0.46147310733795166, 0.45575588941574097, 0.4496368169784546, 0.44374141097068787, 0.43776658177375793, 0.43131667375564575, 0.42521968483924866, 0.4187084138393402, 0.41240087151527405, 0.40571001172065735, 0.3991616666316986, 0.392437607049942, 0.3855791985988617, 0.37871843576431274, 0.37140148878097534, 0.36401185393333435, 0.3566676080226898, 0.34901654720306396, 0.3417223393917084, 0.3339642584323883, 0.3267853260040283, 0.3196223974227905, 0.3121187686920166, 0.3057488203048706, 0.299334317445755, 0.29293709993362427, 0.2865366041660309, 0.28113988041877747, 0.2753518521785736, 0.27027690410614014, 0.2656192481517792, 0.26103076338768005, 0.2567196786403656, 0.25302448868751526, 0.2498050034046173, 0.24736261367797852, 0.24413493275642395, 0.2416411191225052, 0.2391362339258194, 0.23755088448524475, 0.2362494021654129, 0.2351026087999344, 0.23360790312290192, 0.2318653017282486]}, {\"name\": \"val_loss\", \"type\": \"scatter\", \"x\": [0, 1, 2, 3, 4, 5, 6, 7, 8, 9, 10, 11, 12, 13, 14, 15, 16, 17, 18, 19, 20, 21, 22, 23, 24, 25, 26, 27, 28, 29, 30, 31, 32, 33, 34, 35, 36, 37, 38, 39, 40, 41, 42, 43, 44, 45, 46, 47, 48, 49, 50, 51, 52, 53, 54, 55, 56, 57, 58, 59, 60, 61, 62, 63, 64, 65, 66, 67, 68, 69, 70, 71, 72, 73, 74, 75, 76, 77, 78, 79, 80, 81, 82, 83, 84, 85, 86, 87, 88, 89, 90, 91, 92, 93, 94], \"y\": [0.6791535019874573, 0.6766843199729919, 0.6743469834327698, 0.671887993812561, 0.6695048809051514, 0.6670767068862915, 0.6645627021789551, 0.6619646549224854, 0.6592950224876404, 0.6565826535224915, 0.6538538932800293, 0.6510345339775085, 0.6481424570083618, 0.6451789736747742, 0.642122745513916, 0.6389775276184082, 0.6357383131980896, 0.6323964595794678, 0.6289984583854675, 0.625496506690979, 0.6218907833099365, 0.6182233691215515, 0.6144213676452637, 0.610546886920929, 0.6065993309020996, 0.6026076674461365, 0.5985237956047058, 0.5944037437438965, 0.5902180075645447, 0.5858946442604065, 0.5814982056617737, 0.5769983530044556, 0.5723464488983154, 0.5675652027130127, 0.5626992583274841, 0.557766318321228, 0.5527439117431641, 0.5477405786514282, 0.5426526069641113, 0.537438154220581, 0.5321812033653259, 0.5267438292503357, 0.521013617515564, 0.5152794122695923, 0.5093900561332703, 0.5033762454986572, 0.49718326330184937, 0.4910648465156555, 0.48501887917518616, 0.47891294956207275, 0.4727213680744171, 0.4664478003978729, 0.459952175617218, 0.4533817172050476, 0.4467471241950989, 0.4399905502796173, 0.433113694190979, 0.42606016993522644, 0.4188663065433502, 0.41156426072120667, 0.40414246916770935, 0.3965536952018738, 0.3888859450817108, 0.38112154603004456, 0.37311840057373047, 0.3649696409702301, 0.35675522685050964, 0.34838414192199707, 0.340038537979126, 0.3316687047481537, 0.3235677480697632, 0.31564080715179443, 0.30824610590934753, 0.3010402321815491, 0.29415953159332275, 0.2875749170780182, 0.2810436487197876, 0.27502626180648804, 0.2693363428115845, 0.2641950845718384, 0.2593987286090851, 0.25510895252227783, 0.2516161799430847, 0.2485394924879074, 0.24625444412231445, 0.2442040890455246, 0.24223607778549194, 0.23978082835674286, 0.23743398487567902, 0.23491954803466797, 0.23261108994483948, 0.23118236660957336, 0.2303159534931183, 0.2298814058303833, 0.2303019016981125]}],                        {\"template\": {\"data\": {\"bar\": [{\"error_x\": {\"color\": \"#2a3f5f\"}, \"error_y\": {\"color\": \"#2a3f5f\"}, \"marker\": {\"line\": {\"color\": \"#E5ECF6\", \"width\": 0.5}}, \"type\": \"bar\"}], \"barpolar\": [{\"marker\": {\"line\": {\"color\": \"#E5ECF6\", \"width\": 0.5}}, \"type\": \"barpolar\"}], \"carpet\": [{\"aaxis\": {\"endlinecolor\": \"#2a3f5f\", \"gridcolor\": \"white\", \"linecolor\": \"white\", \"minorgridcolor\": \"white\", \"startlinecolor\": \"#2a3f5f\"}, \"baxis\": {\"endlinecolor\": \"#2a3f5f\", \"gridcolor\": \"white\", \"linecolor\": \"white\", \"minorgridcolor\": \"white\", \"startlinecolor\": \"#2a3f5f\"}, \"type\": \"carpet\"}], \"choropleth\": [{\"colorbar\": {\"outlinewidth\": 0, \"ticks\": \"\"}, \"type\": \"choropleth\"}], \"contour\": [{\"colorbar\": {\"outlinewidth\": 0, \"ticks\": \"\"}, \"colorscale\": [[0.0, \"#0d0887\"], [0.1111111111111111, \"#46039f\"], [0.2222222222222222, \"#7201a8\"], [0.3333333333333333, \"#9c179e\"], [0.4444444444444444, \"#bd3786\"], [0.5555555555555556, \"#d8576b\"], [0.6666666666666666, \"#ed7953\"], [0.7777777777777778, \"#fb9f3a\"], [0.8888888888888888, \"#fdca26\"], [1.0, \"#f0f921\"]], \"type\": \"contour\"}], \"contourcarpet\": [{\"colorbar\": {\"outlinewidth\": 0, \"ticks\": \"\"}, \"type\": \"contourcarpet\"}], \"heatmap\": [{\"colorbar\": {\"outlinewidth\": 0, \"ticks\": \"\"}, \"colorscale\": [[0.0, \"#0d0887\"], [0.1111111111111111, \"#46039f\"], [0.2222222222222222, \"#7201a8\"], [0.3333333333333333, \"#9c179e\"], [0.4444444444444444, \"#bd3786\"], [0.5555555555555556, \"#d8576b\"], [0.6666666666666666, \"#ed7953\"], [0.7777777777777778, \"#fb9f3a\"], [0.8888888888888888, \"#fdca26\"], [1.0, \"#f0f921\"]], \"type\": \"heatmap\"}], \"heatmapgl\": [{\"colorbar\": {\"outlinewidth\": 0, \"ticks\": \"\"}, \"colorscale\": [[0.0, \"#0d0887\"], [0.1111111111111111, \"#46039f\"], [0.2222222222222222, \"#7201a8\"], [0.3333333333333333, \"#9c179e\"], [0.4444444444444444, \"#bd3786\"], [0.5555555555555556, \"#d8576b\"], [0.6666666666666666, \"#ed7953\"], [0.7777777777777778, \"#fb9f3a\"], [0.8888888888888888, \"#fdca26\"], [1.0, \"#f0f921\"]], \"type\": \"heatmapgl\"}], \"histogram\": [{\"marker\": {\"colorbar\": {\"outlinewidth\": 0, \"ticks\": \"\"}}, \"type\": \"histogram\"}], \"histogram2d\": [{\"colorbar\": {\"outlinewidth\": 0, \"ticks\": \"\"}, \"colorscale\": [[0.0, \"#0d0887\"], [0.1111111111111111, \"#46039f\"], [0.2222222222222222, \"#7201a8\"], [0.3333333333333333, \"#9c179e\"], [0.4444444444444444, \"#bd3786\"], [0.5555555555555556, \"#d8576b\"], [0.6666666666666666, \"#ed7953\"], [0.7777777777777778, \"#fb9f3a\"], [0.8888888888888888, \"#fdca26\"], [1.0, \"#f0f921\"]], \"type\": \"histogram2d\"}], \"histogram2dcontour\": [{\"colorbar\": {\"outlinewidth\": 0, \"ticks\": \"\"}, \"colorscale\": [[0.0, \"#0d0887\"], [0.1111111111111111, \"#46039f\"], [0.2222222222222222, \"#7201a8\"], [0.3333333333333333, \"#9c179e\"], [0.4444444444444444, \"#bd3786\"], [0.5555555555555556, \"#d8576b\"], [0.6666666666666666, \"#ed7953\"], [0.7777777777777778, \"#fb9f3a\"], [0.8888888888888888, \"#fdca26\"], [1.0, \"#f0f921\"]], \"type\": \"histogram2dcontour\"}], \"mesh3d\": [{\"colorbar\": {\"outlinewidth\": 0, \"ticks\": \"\"}, \"type\": \"mesh3d\"}], \"parcoords\": [{\"line\": {\"colorbar\": {\"outlinewidth\": 0, \"ticks\": \"\"}}, \"type\": \"parcoords\"}], \"pie\": [{\"automargin\": true, \"type\": \"pie\"}], \"scatter\": [{\"marker\": {\"colorbar\": {\"outlinewidth\": 0, \"ticks\": \"\"}}, \"type\": \"scatter\"}], \"scatter3d\": [{\"line\": {\"colorbar\": {\"outlinewidth\": 0, \"ticks\": \"\"}}, \"marker\": {\"colorbar\": {\"outlinewidth\": 0, \"ticks\": \"\"}}, \"type\": \"scatter3d\"}], \"scattercarpet\": [{\"marker\": {\"colorbar\": {\"outlinewidth\": 0, \"ticks\": \"\"}}, \"type\": \"scattercarpet\"}], \"scattergeo\": [{\"marker\": {\"colorbar\": {\"outlinewidth\": 0, \"ticks\": \"\"}}, \"type\": \"scattergeo\"}], \"scattergl\": [{\"marker\": {\"colorbar\": {\"outlinewidth\": 0, \"ticks\": \"\"}}, \"type\": \"scattergl\"}], \"scattermapbox\": [{\"marker\": {\"colorbar\": {\"outlinewidth\": 0, \"ticks\": \"\"}}, \"type\": \"scattermapbox\"}], \"scatterpolar\": [{\"marker\": {\"colorbar\": {\"outlinewidth\": 0, \"ticks\": \"\"}}, \"type\": \"scatterpolar\"}], \"scatterpolargl\": [{\"marker\": {\"colorbar\": {\"outlinewidth\": 0, \"ticks\": \"\"}}, \"type\": \"scatterpolargl\"}], \"scatterternary\": [{\"marker\": {\"colorbar\": {\"outlinewidth\": 0, \"ticks\": \"\"}}, \"type\": \"scatterternary\"}], \"surface\": [{\"colorbar\": {\"outlinewidth\": 0, \"ticks\": \"\"}, \"colorscale\": [[0.0, \"#0d0887\"], [0.1111111111111111, \"#46039f\"], [0.2222222222222222, \"#7201a8\"], [0.3333333333333333, \"#9c179e\"], [0.4444444444444444, \"#bd3786\"], [0.5555555555555556, \"#d8576b\"], [0.6666666666666666, \"#ed7953\"], [0.7777777777777778, \"#fb9f3a\"], [0.8888888888888888, \"#fdca26\"], [1.0, \"#f0f921\"]], \"type\": \"surface\"}], \"table\": [{\"cells\": {\"fill\": {\"color\": \"#EBF0F8\"}, \"line\": {\"color\": \"white\"}}, \"header\": {\"fill\": {\"color\": \"#C8D4E3\"}, \"line\": {\"color\": \"white\"}}, \"type\": \"table\"}]}, \"layout\": {\"annotationdefaults\": {\"arrowcolor\": \"#2a3f5f\", \"arrowhead\": 0, \"arrowwidth\": 1}, \"autotypenumbers\": \"strict\", \"coloraxis\": {\"colorbar\": {\"outlinewidth\": 0, \"ticks\": \"\"}}, \"colorscale\": {\"diverging\": [[0, \"#8e0152\"], [0.1, \"#c51b7d\"], [0.2, \"#de77ae\"], [0.3, \"#f1b6da\"], [0.4, \"#fde0ef\"], [0.5, \"#f7f7f7\"], [0.6, \"#e6f5d0\"], [0.7, \"#b8e186\"], [0.8, \"#7fbc41\"], [0.9, \"#4d9221\"], [1, \"#276419\"]], \"sequential\": [[0.0, \"#0d0887\"], [0.1111111111111111, \"#46039f\"], [0.2222222222222222, \"#7201a8\"], [0.3333333333333333, \"#9c179e\"], [0.4444444444444444, \"#bd3786\"], [0.5555555555555556, \"#d8576b\"], [0.6666666666666666, \"#ed7953\"], [0.7777777777777778, \"#fb9f3a\"], [0.8888888888888888, \"#fdca26\"], [1.0, \"#f0f921\"]], \"sequentialminus\": [[0.0, \"#0d0887\"], [0.1111111111111111, \"#46039f\"], [0.2222222222222222, \"#7201a8\"], [0.3333333333333333, \"#9c179e\"], [0.4444444444444444, \"#bd3786\"], [0.5555555555555556, \"#d8576b\"], [0.6666666666666666, \"#ed7953\"], [0.7777777777777778, \"#fb9f3a\"], [0.8888888888888888, \"#fdca26\"], [1.0, \"#f0f921\"]]}, \"colorway\": [\"#636efa\", \"#EF553B\", \"#00cc96\", \"#ab63fa\", \"#FFA15A\", \"#19d3f3\", \"#FF6692\", \"#B6E880\", \"#FF97FF\", \"#FECB52\"], \"font\": {\"color\": \"#2a3f5f\"}, \"geo\": {\"bgcolor\": \"white\", \"lakecolor\": \"white\", \"landcolor\": \"#E5ECF6\", \"showlakes\": true, \"showland\": true, \"subunitcolor\": \"white\"}, \"hoverlabel\": {\"align\": \"left\"}, \"hovermode\": \"closest\", \"mapbox\": {\"style\": \"light\"}, \"paper_bgcolor\": \"white\", \"plot_bgcolor\": \"#E5ECF6\", \"polar\": {\"angularaxis\": {\"gridcolor\": \"white\", \"linecolor\": \"white\", \"ticks\": \"\"}, \"bgcolor\": \"#E5ECF6\", \"radialaxis\": {\"gridcolor\": \"white\", \"linecolor\": \"white\", \"ticks\": \"\"}}, \"scene\": {\"xaxis\": {\"backgroundcolor\": \"#E5ECF6\", \"gridcolor\": \"white\", \"gridwidth\": 2, \"linecolor\": \"white\", \"showbackground\": true, \"ticks\": \"\", \"zerolinecolor\": \"white\"}, \"yaxis\": {\"backgroundcolor\": \"#E5ECF6\", \"gridcolor\": \"white\", \"gridwidth\": 2, \"linecolor\": \"white\", \"showbackground\": true, \"ticks\": \"\", \"zerolinecolor\": \"white\"}, \"zaxis\": {\"backgroundcolor\": \"#E5ECF6\", \"gridcolor\": \"white\", \"gridwidth\": 2, \"linecolor\": \"white\", \"showbackground\": true, \"ticks\": \"\", \"zerolinecolor\": \"white\"}}, \"shapedefaults\": {\"line\": {\"color\": \"#2a3f5f\"}}, \"ternary\": {\"aaxis\": {\"gridcolor\": \"white\", \"linecolor\": \"white\", \"ticks\": \"\"}, \"baxis\": {\"gridcolor\": \"white\", \"linecolor\": \"white\", \"ticks\": \"\"}, \"bgcolor\": \"#E5ECF6\", \"caxis\": {\"gridcolor\": \"white\", \"linecolor\": \"white\", \"ticks\": \"\"}}, \"title\": {\"x\": 0.05}, \"xaxis\": {\"automargin\": true, \"gridcolor\": \"white\", \"linecolor\": \"white\", \"ticks\": \"\", \"title\": {\"standoff\": 15}, \"zerolinecolor\": \"white\", \"zerolinewidth\": 2}, \"yaxis\": {\"automargin\": true, \"gridcolor\": \"white\", \"linecolor\": \"white\", \"ticks\": \"\", \"title\": {\"standoff\": 15}, \"zerolinecolor\": \"white\", \"zerolinewidth\": 2}}}, \"title\": {\"text\": \"Loss\"}},                        {\"responsive\": true}                    ).then(function(){\n",
              "                            \n",
              "var gd = document.getElementById('3c1fa6e4-4135-4eae-a137-882d3f627c6b');\n",
              "var x = new MutationObserver(function (mutations, observer) {{\n",
              "        var display = window.getComputedStyle(gd).display;\n",
              "        if (!display || display === 'none') {{\n",
              "            console.log([gd, 'removed!']);\n",
              "            Plotly.purge(gd);\n",
              "            observer.disconnect();\n",
              "        }}\n",
              "}});\n",
              "\n",
              "// Listen for the removal of the full notebook cells\n",
              "var notebookContainer = gd.closest('#notebook-container');\n",
              "if (notebookContainer) {{\n",
              "    x.observe(notebookContainer, {childList: true});\n",
              "}}\n",
              "\n",
              "// Listen for the clearing of the current output cell\n",
              "var outputEl = gd.closest('.output');\n",
              "if (outputEl) {{\n",
              "    x.observe(outputEl, {childList: true});\n",
              "}}\n",
              "\n",
              "                        })                };                });            </script>        </div>"
            ]
          },
          "metadata": {
            "tags": []
          }
        }
      ]
    },
    {
      "cell_type": "markdown",
      "metadata": {
        "id": "16cceaca"
      },
      "source": [
        "### TensorBoard"
      ],
      "id": "16cceaca"
    },
    {
      "cell_type": "code",
      "metadata": {
        "id": "9829922e"
      },
      "source": [
        ""
      ],
      "id": "9829922e",
      "execution_count": null,
      "outputs": []
    }
  ]
}