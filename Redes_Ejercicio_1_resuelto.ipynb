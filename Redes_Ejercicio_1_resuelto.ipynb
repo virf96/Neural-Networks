{
  "nbformat": 4,
  "nbformat_minor": 5,
  "metadata": {
    "kernelspec": {
      "display_name": "Python 3",
      "language": "python",
      "name": "python3"
    },
    "language_info": {
      "codemirror_mode": {
        "name": "ipython",
        "version": 3
      },
      "file_extension": ".py",
      "mimetype": "text/x-python",
      "name": "python",
      "nbconvert_exporter": "python",
      "pygments_lexer": "ipython3",
      "version": "3.8.2"
    },
    "colab": {
      "name": "Redes Ejercicio 1 resuelto.ipynb",
      "provenance": [],
      "include_colab_link": true
    }
  },
  "cells": [
    {
      "cell_type": "markdown",
      "metadata": {
        "id": "view-in-github",
        "colab_type": "text"
      },
      "source": [
        "<a href=\"https://colab.research.google.com/github/virf96/Neural-Networks/blob/main/Redes_Ejercicio_1_resuelto.ipynb\" target=\"_parent\"><img src=\"https://colab.research.google.com/assets/colab-badge.svg\" alt=\"Open In Colab\"/></a>"
      ]
    },
    {
      "cell_type": "code",
      "metadata": {
        "id": "aecb7a82"
      },
      "source": [
        "import h5py\n",
        "import numpy as np\n",
        "import plotly.graph_objects as go\n",
        "import matplotlib.pyplot as plt"
      ],
      "id": "aecb7a82",
      "execution_count": 1,
      "outputs": []
    },
    {
      "cell_type": "code",
      "metadata": {
        "colab": {
          "base_uri": "https://localhost:8080/"
        },
        "id": "zn8Sw3Ofl90j",
        "outputId": "4852f2ea-772c-4cf1-9732-cc2162c9d98e"
      },
      "source": [
        "from google.colab import drive\n",
        "drive.mount('/content/drive')"
      ],
      "id": "zn8Sw3Ofl90j",
      "execution_count": 2,
      "outputs": [
        {
          "output_type": "stream",
          "text": [
            "Mounted at /content/drive\n"
          ],
          "name": "stdout"
        }
      ]
    },
    {
      "cell_type": "code",
      "metadata": {
        "id": "783f6307"
      },
      "source": [
        "train = h5py.File(\"/content/drive/MyDrive/datasets/train_catvnoncat.h5\",\"r\")\n",
        "test= h5py.File(\"/content/drive/MyDrive/datasets/test_catvnoncat.h5\",\"r\")"
      ],
      "id": "783f6307",
      "execution_count": 22,
      "outputs": []
    },
    {
      "cell_type": "code",
      "metadata": {
        "colab": {
          "base_uri": "https://localhost:8080/"
        },
        "id": "c21335e1",
        "outputId": "540b7804-4a89-47e5-dc31-8fcc01713b1f"
      },
      "source": [
        "train.keys()"
      ],
      "id": "c21335e1",
      "execution_count": 23,
      "outputs": [
        {
          "output_type": "execute_result",
          "data": {
            "text/plain": [
              "<KeysViewHDF5 ['list_classes', 'train_set_x', 'train_set_y']>"
            ]
          },
          "metadata": {
            "tags": []
          },
          "execution_count": 23
        }
      ]
    },
    {
      "cell_type": "code",
      "metadata": {
        "id": "3b7f7368"
      },
      "source": [
        "xt = np.array(train['train_set_x'])\n",
        "yt = np.array(train['train_set_y'])\n",
        "xv = np.array(test['test_set_x'])\n",
        "yv = np.array(test['test_set_y'])"
      ],
      "id": "3b7f7368",
      "execution_count": 24,
      "outputs": []
    },
    {
      "cell_type": "code",
      "metadata": {
        "colab": {
          "base_uri": "https://localhost:8080/",
          "height": 283
        },
        "id": "e7d5ebda",
        "outputId": "96f98716-0f1c-4600-d696-336da879fba0"
      },
      "source": [
        "plt.imshow(xt[1])"
      ],
      "id": "e7d5ebda",
      "execution_count": 25,
      "outputs": [
        {
          "output_type": "execute_result",
          "data": {
            "text/plain": [
              "<matplotlib.image.AxesImage at 0x7f941b826590>"
            ]
          },
          "metadata": {
            "tags": []
          },
          "execution_count": 25
        },
        {
          "output_type": "display_data",
          "data": {
            "image/png": "[encoded data removed]",
            "text/plain": [
              "<Figure size 432x288 with 1 Axes>"
            ]
          },
          "metadata": {
            "tags": [],
            "needs_background": "light"
          }
        }
      ]
    },
    {
      "cell_type": "markdown",
      "metadata": {
        "id": "991a0e7e"
      },
      "source": [
        "### Pre-procesamiento"
      ],
      "id": "991a0e7e"
    },
    {
      "cell_type": "code",
      "metadata": {
        "scrolled": true,
        "id": "21dcc422"
      },
      "source": [
        "xt_es = xt/255\n",
        "xv_es = xv/255"
      ],
      "id": "21dcc422",
      "execution_count": 26,
      "outputs": []
    },
    {
      "cell_type": "code",
      "metadata": {
        "colab": {
          "base_uri": "https://localhost:8080/"
        },
        "id": "7e4f3b1c",
        "outputId": "f5111cb4-ac76-4592-ce67-1a6d99531bac"
      },
      "source": [
        "np.unique(yt)"
      ],
      "id": "7e4f3b1c",
      "execution_count": 27,
      "outputs": [
        {
          "output_type": "execute_result",
          "data": {
            "text/plain": [
              "array([0, 1])"
            ]
          },
          "metadata": {
            "tags": []
          },
          "execution_count": 27
        }
      ]
    },
    {
      "cell_type": "markdown",
      "metadata": {
        "id": "f45e7889"
      },
      "source": [
        "### CNN"
      ],
      "id": "f45e7889"
    },
    {
      "cell_type": "code",
      "metadata": {
        "id": "a4cec41f"
      },
      "source": [
        "from tensorflow.keras.models import Sequential\n",
        "from tensorflow.keras.layers import Conv2D,MaxPool2D, Flatten, Dense, InputLayer, Dropout\n",
        "from tensorflow.keras.optimizers import Adam\n",
        "from tensorflow.keras.losses import BinaryCrossentropy\n",
        "from tensorflow.keras.regularizers import l2"
      ],
      "id": "a4cec41f",
      "execution_count": 28,
      "outputs": []
    },
    {
      "cell_type": "code",
      "metadata": {
        "colab": {
          "base_uri": "https://localhost:8080/"
        },
        "id": "89d27039",
        "outputId": "098f6952-c0da-4048-e07c-9b5bd201c1cc"
      },
      "source": [
        "xt_es.shape"
      ],
      "id": "89d27039",
      "execution_count": 29,
      "outputs": [
        {
          "output_type": "execute_result",
          "data": {
            "text/plain": [
              "(209, 64, 64, 3)"
            ]
          },
          "metadata": {
            "tags": []
          },
          "execution_count": 29
        }
      ]
    },
    {
      "cell_type": "code",
      "metadata": {
        "id": "14a86f71"
      },
      "source": [
        "model = Sequential()\n",
        "model.add(InputLayer(input_shape=(64,64,3))) ## las dimensiones de la imagen, o las dimensiones de cada ejemplo\n",
        "model.add(Conv2D(filters= 10 , kernel_size=(4,4), padding=\"same\", activation = \"relu\" ))\n",
        "model.add(MaxPool2D(pool_size=(2,2))) ## reducimos la imagen a la mitad de su tamaño \n",
        "model.add(Conv2D(filters= 30 , kernel_size=(3,3), padding=\"same\", activation = \"relu\" ))\n",
        "model.add(MaxPool2D(pool_size=(2,2))) ## reducimos la imagen a la mitad de su tamaño \n",
        "model.add(Flatten()) ## convetimos un tensor de cualesquiera dimensiones a un vector \n",
        "model.add(Dropout(.3))\n",
        "model.add(Dense(units=128, activation =\"relu\", kernel_regularizer= l2(.0001)))\n",
        "model.add(Dropout(.3))\n",
        "model.add(Dense(1, activation=\"sigmoid\")) ## capa de salida \n",
        "\n",
        "model.compile(loss=BinaryCrossentropy(), optimizer=Adam(.001,), metrics= [\"accuracy\"])"
      ],
      "id": "14a86f71",
      "execution_count": 30,
      "outputs": []
    },
    {
      "cell_type": "markdown",
      "metadata": {
        "id": "4342f137"
      },
      "source": [
        "### Para ver la salida de la convolucion"
      ],
      "id": "4342f137"
    },
    {
      "cell_type": "code",
      "metadata": {
        "colab": {
          "base_uri": "https://localhost:8080/"
        },
        "id": "B7f_gXPB224e",
        "outputId": "803c7cae-572c-42e8-84b7-6535d2f43a87"
      },
      "source": [
        "model.layers"
      ],
      "id": "B7f_gXPB224e",
      "execution_count": 170,
      "outputs": [
        {
          "output_type": "execute_result",
          "data": {
            "text/plain": [
              "[<tensorflow.python.keras.layers.convolutional.Conv2D at 0x7f94274d1090>,\n",
              " <tensorflow.python.keras.layers.pooling.MaxPooling2D at 0x7f94209d2210>,\n",
              " <tensorflow.python.keras.layers.convolutional.Conv2D at 0x7f941b775990>,\n",
              " <tensorflow.python.keras.layers.pooling.MaxPooling2D at 0x7f941b826a10>,\n",
              " <tensorflow.python.keras.layers.core.Flatten at 0x7f941b787090>,\n",
              " <tensorflow.python.keras.layers.core.Dropout at 0x7f941b7f0410>,\n",
              " <tensorflow.python.keras.layers.core.Dense at 0x7f941b7e41d0>,\n",
              " <tensorflow.python.keras.layers.core.Dropout at 0x7f941b7d1290>,\n",
              " <tensorflow.python.keras.layers.core.Dense at 0x7f941b787a50>]"
            ]
          },
          "metadata": {
            "tags": []
          },
          "execution_count": 170
        }
      ]
    },
    {
      "cell_type": "code",
      "metadata": {
        "colab": {
          "base_uri": "https://localhost:8080/"
        },
        "id": "kYgp0HZt27na",
        "outputId": "d09f4d2d-64a9-47d1-e6bb-3ee4f52ce2fc"
      },
      "source": [
        "model.layers[0]"
      ],
      "id": "kYgp0HZt27na",
      "execution_count": 173,
      "outputs": [
        {
          "output_type": "execute_result",
          "data": {
            "text/plain": [
              "<tensorflow.python.keras.layers.convolutional.Conv2D at 0x7f94274d1090>"
            ]
          },
          "metadata": {
            "tags": []
          },
          "execution_count": 173
        }
      ]
    },
    {
      "cell_type": "code",
      "metadata": {
        "id": "ed07cb8f"
      },
      "source": [
        "conv1 = model.layers[0](xt_es[2:3])"
      ],
      "id": "ed07cb8f",
      "execution_count": 174,
      "outputs": []
    },
    {
      "cell_type": "code",
      "metadata": {
        "colab": {
          "base_uri": "https://localhost:8080/"
        },
        "id": "iYNV2j80o_94",
        "outputId": "65c4aacb-0dca-4a60-8f51-018b83bf98d8"
      },
      "source": [
        "conv1[0].shape"
      ],
      "id": "iYNV2j80o_94",
      "execution_count": 175,
      "outputs": [
        {
          "output_type": "execute_result",
          "data": {
            "text/plain": [
              "TensorShape([64, 64, 10])"
            ]
          },
          "metadata": {
            "tags": []
          },
          "execution_count": 175
        }
      ]
    },
    {
      "cell_type": "code",
      "metadata": {
        "colab": {
          "base_uri": "https://localhost:8080/",
          "height": 283
        },
        "id": "3cea8511",
        "outputId": "dcadaef8-68c4-42eb-bb89-8df369a11c60"
      },
      "source": [
        "plt.imshow(xt[2])"
      ],
      "id": "3cea8511",
      "execution_count": 176,
      "outputs": [
        {
          "output_type": "execute_result",
          "data": {
            "text/plain": [
              "<matplotlib.image.AxesImage at 0x7f941704a250>"
            ]
          },
          "metadata": {
            "tags": []
          },
          "execution_count": 176
        },
        {
          "output_type": "display_data",
          "data": {
            "image/png": "[encoded data removed]",
            "text/plain": [
              "<Figure size 432x288 with 1 Axes>"
            ]
          },
          "metadata": {
            "tags": [],
            "needs_background": "light"
          }
        }
      ]
    },
    {
      "cell_type": "code",
      "metadata": {
        "colab": {
          "base_uri": "https://localhost:8080/"
        },
        "id": "zPMwG8eordDR",
        "outputId": "a06d778b-b35e-4083-9d4d-5f274e536045"
      },
      "source": [
        "conv1[0,:,:,8:10].shape"
      ],
      "id": "zPMwG8eordDR",
      "execution_count": 177,
      "outputs": [
        {
          "output_type": "execute_result",
          "data": {
            "text/plain": [
              "TensorShape([64, 64, 2])"
            ]
          },
          "metadata": {
            "tags": []
          },
          "execution_count": 177
        }
      ]
    },
    {
      "cell_type": "code",
      "metadata": {
        "colab": {
          "base_uri": "https://localhost:8080/",
          "height": 283
        },
        "id": "44e0c3cb",
        "outputId": "46676526-947d-4ced-cefa-d5334e8c961d"
      },
      "source": [
        "plt.imshow(conv1[0,:,:,7:10]) ## tomando el filtro 7"
      ],
      "id": "44e0c3cb",
      "execution_count": 178,
      "outputs": [
        {
          "output_type": "execute_result",
          "data": {
            "text/plain": [
              "<matplotlib.image.AxesImage at 0x7f941b71d450>"
            ]
          },
          "metadata": {
            "tags": []
          },
          "execution_count": 178
        },
        {
          "output_type": "display_data",
          "data": {
            "image/png": "[encoded data removed]",
            "text/plain": [
              "<Figure size 432x288 with 1 Axes>"
            ]
          },
          "metadata": {
            "tags": [],
            "needs_background": "light"
          }
        }
      ]
    },
    {
      "cell_type": "code",
      "metadata": {
        "colab": {
          "base_uri": "https://localhost:8080/"
        },
        "id": "480497b0",
        "outputId": "a46a3dc7-8faa-471b-c2bf-1893b682c9f0"
      },
      "source": [
        "model.summary()"
      ],
      "id": "480497b0",
      "execution_count": 179,
      "outputs": [
        {
          "output_type": "stream",
          "text": [
            "Model: \"sequential_2\"\n",
            "_________________________________________________________________\n",
            "Layer (type)                 Output Shape              Param #   \n",
            "=================================================================\n",
            "conv2d_4 (Conv2D)            (None, 64, 64, 10)        490       \n",
            "_________________________________________________________________\n",
            "max_pooling2d_4 (MaxPooling2 (None, 32, 32, 10)        0         \n",
            "_________________________________________________________________\n",
            "conv2d_5 (Conv2D)            (None, 32, 32, 30)        2730      \n",
            "_________________________________________________________________\n",
            "max_pooling2d_5 (MaxPooling2 (None, 16, 16, 30)        0         \n",
            "_________________________________________________________________\n",
            "flatten_2 (Flatten)          (None, 7680)              0         \n",
            "_________________________________________________________________\n",
            "dropout_4 (Dropout)          (None, 7680)              0         \n",
            "_________________________________________________________________\n",
            "dense_4 (Dense)              (None, 128)               983168    \n",
            "_________________________________________________________________\n",
            "dropout_5 (Dropout)          (None, 128)               0         \n",
            "_________________________________________________________________\n",
            "dense_5 (Dense)              (None, 1)                 129       \n",
            "=================================================================\n",
            "Total params: 986,517\n",
            "Trainable params: 986,517\n",
            "Non-trainable params: 0\n",
            "_________________________________________________________________\n"
          ],
          "name": "stdout"
        }
      ]
    },
    {
      "cell_type": "markdown",
      "metadata": {
        "id": "da2e48c0"
      },
      "source": [
        "#### Numero de parametros por capa"
      ],
      "id": "da2e48c0"
    },
    {
      "cell_type": "markdown",
      "metadata": {
        "id": "cca34608"
      },
      "source": [
        "1.conv1(f=10, k=(4,4)) = 4x4x3x10 + 10 \\\n",
        "2. conv2(f=30, k=(3,3)) = 3x3x10x30 + 30 \\\n",
        "3. Dense(128) = 7680x128 + 128 = 983168 \\ \n",
        "\\\n",
        "4. Dense(1) = 128x1+ 1 = 129 \\\n",
        "Tamaño del vector al aplicar flatten\n",
        "Antes de aplicarlo tenemos un vector de dimensiones  (16, 16, 30)  \\\n",
        "Despues de aplicar el flatten tenemos un vector de tamaño 16x16x30 = 7680 \\ "
      ],
      "id": "cca34608"
    },
    {
      "cell_type": "code",
      "metadata": {
        "colab": {
          "base_uri": "https://localhost:8080/"
        },
        "id": "4fa131d3",
        "outputId": "1630b33f-8357-49f2-c742-ad61cb53f3fe"
      },
      "source": [
        "history = model.fit(xt_es,yt, epochs= 300, batch_size =64, validation_data=(xv_es,yv))"
      ],
      "id": "4fa131d3",
      "execution_count": 180,
      "outputs": [
        {
          "output_type": "stream",
          "text": [
            "Epoch 1/300\n",
            "4/4 [==============================] - 2s 228ms/step - loss: 0.9201 - accuracy: 0.5598 - val_loss: 0.7196 - val_accuracy: 0.4000\n",
            "Epoch 2/300\n",
            "4/4 [==============================] - 1s 169ms/step - loss: 0.6721 - accuracy: 0.6220 - val_loss: 0.9843 - val_accuracy: 0.3400\n",
            "Epoch 3/300\n",
            "4/4 [==============================] - 1s 179ms/step - loss: 0.6291 - accuracy: 0.6555 - val_loss: 0.7784 - val_accuracy: 0.3400\n",
            "Epoch 4/300\n",
            "4/4 [==============================] - 1s 172ms/step - loss: 0.5731 - accuracy: 0.6890 - val_loss: 0.9941 - val_accuracy: 0.3400\n",
            "Epoch 5/300\n",
            "4/4 [==============================] - 1s 169ms/step - loss: 0.5480 - accuracy: 0.6938 - val_loss: 0.7985 - val_accuracy: 0.6600\n",
            "Epoch 6/300\n",
            "4/4 [==============================] - 1s 171ms/step - loss: 0.5305 - accuracy: 0.7368 - val_loss: 0.8499 - val_accuracy: 0.6600\n",
            "Epoch 7/300\n",
            "4/4 [==============================] - 1s 175ms/step - loss: 0.5282 - accuracy: 0.7129 - val_loss: 0.8386 - val_accuracy: 0.6400\n",
            "Epoch 8/300\n",
            "4/4 [==============================] - 1s 173ms/step - loss: 0.4808 - accuracy: 0.7895 - val_loss: 0.7592 - val_accuracy: 0.6200\n",
            "Epoch 9/300\n",
            "4/4 [==============================] - 1s 169ms/step - loss: 0.4846 - accuracy: 0.7656 - val_loss: 0.6862 - val_accuracy: 0.6800\n",
            "Epoch 10/300\n",
            "4/4 [==============================] - 1s 173ms/step - loss: 0.5015 - accuracy: 0.7895 - val_loss: 0.5540 - val_accuracy: 0.8000\n",
            "Epoch 11/300\n",
            "4/4 [==============================] - 1s 171ms/step - loss: 0.4649 - accuracy: 0.7799 - val_loss: 1.0265 - val_accuracy: 0.3400\n",
            "Epoch 12/300\n",
            "4/4 [==============================] - 1s 170ms/step - loss: 0.4682 - accuracy: 0.7321 - val_loss: 0.6727 - val_accuracy: 0.6600\n",
            "Epoch 13/300\n",
            "4/4 [==============================] - 1s 174ms/step - loss: 0.4240 - accuracy: 0.8230 - val_loss: 0.7269 - val_accuracy: 0.6000\n",
            "Epoch 14/300\n",
            "4/4 [==============================] - 1s 170ms/step - loss: 0.3941 - accuracy: 0.8134 - val_loss: 0.7236 - val_accuracy: 0.6200\n",
            "Epoch 15/300\n",
            "4/4 [==============================] - 1s 170ms/step - loss: 0.3710 - accuracy: 0.8565 - val_loss: 0.6266 - val_accuracy: 0.6800\n",
            "Epoch 16/300\n",
            "4/4 [==============================] - 1s 175ms/step - loss: 0.3372 - accuracy: 0.8756 - val_loss: 0.8048 - val_accuracy: 0.5600\n",
            "Epoch 17/300\n",
            "4/4 [==============================] - 1s 183ms/step - loss: 0.3408 - accuracy: 0.8565 - val_loss: 0.5556 - val_accuracy: 0.7400\n",
            "Epoch 18/300\n",
            "4/4 [==============================] - 1s 174ms/step - loss: 0.3230 - accuracy: 0.8804 - val_loss: 0.5893 - val_accuracy: 0.7400\n",
            "Epoch 19/300\n",
            "4/4 [==============================] - 1s 171ms/step - loss: 0.2946 - accuracy: 0.9043 - val_loss: 0.8220 - val_accuracy: 0.6200\n",
            "Epoch 20/300\n",
            "4/4 [==============================] - 1s 175ms/step - loss: 0.2847 - accuracy: 0.8900 - val_loss: 0.4625 - val_accuracy: 0.8200\n",
            "Epoch 21/300\n",
            "4/4 [==============================] - 1s 175ms/step - loss: 0.2809 - accuracy: 0.8900 - val_loss: 0.4567 - val_accuracy: 0.8200\n",
            "Epoch 22/300\n",
            "4/4 [==============================] - 1s 173ms/step - loss: 0.3014 - accuracy: 0.8947 - val_loss: 0.9256 - val_accuracy: 0.5800\n",
            "Epoch 23/300\n",
            "4/4 [==============================] - 1s 170ms/step - loss: 0.2915 - accuracy: 0.8900 - val_loss: 0.5025 - val_accuracy: 0.8200\n",
            "Epoch 24/300\n",
            "4/4 [==============================] - 1s 173ms/step - loss: 0.2361 - accuracy: 0.9330 - val_loss: 0.7519 - val_accuracy: 0.6800\n",
            "Epoch 25/300\n",
            "4/4 [==============================] - 1s 173ms/step - loss: 0.2308 - accuracy: 0.9234 - val_loss: 0.5538 - val_accuracy: 0.8000\n",
            "Epoch 26/300\n",
            "4/4 [==============================] - 1s 172ms/step - loss: 0.2010 - accuracy: 0.9330 - val_loss: 0.5394 - val_accuracy: 0.8000\n",
            "Epoch 27/300\n",
            "4/4 [==============================] - 1s 182ms/step - loss: 0.1919 - accuracy: 0.9474 - val_loss: 0.4726 - val_accuracy: 0.8400\n",
            "Epoch 28/300\n",
            "4/4 [==============================] - 1s 173ms/step - loss: 0.1843 - accuracy: 0.9474 - val_loss: 0.7853 - val_accuracy: 0.6600\n",
            "Epoch 29/300\n",
            "4/4 [==============================] - 1s 172ms/step - loss: 0.1791 - accuracy: 0.9474 - val_loss: 0.5626 - val_accuracy: 0.7800\n",
            "Epoch 30/300\n",
            "4/4 [==============================] - 1s 177ms/step - loss: 0.1746 - accuracy: 0.9378 - val_loss: 0.5507 - val_accuracy: 0.7800\n",
            "Epoch 31/300\n",
            "4/4 [==============================] - 1s 180ms/step - loss: 0.1456 - accuracy: 0.9665 - val_loss: 0.5642 - val_accuracy: 0.7800\n",
            "Epoch 32/300\n",
            "4/4 [==============================] - 1s 169ms/step - loss: 0.1369 - accuracy: 0.9665 - val_loss: 0.5074 - val_accuracy: 0.8000\n",
            "Epoch 33/300\n",
            "4/4 [==============================] - 1s 172ms/step - loss: 0.1334 - accuracy: 0.9761 - val_loss: 0.4544 - val_accuracy: 0.8400\n",
            "Epoch 34/300\n",
            "4/4 [==============================] - 1s 177ms/step - loss: 0.1324 - accuracy: 0.9713 - val_loss: 0.4858 - val_accuracy: 0.8200\n",
            "Epoch 35/300\n",
            "4/4 [==============================] - 1s 171ms/step - loss: 0.1165 - accuracy: 0.9713 - val_loss: 0.5795 - val_accuracy: 0.7800\n",
            "Epoch 36/300\n",
            "4/4 [==============================] - 1s 171ms/step - loss: 0.1489 - accuracy: 0.9522 - val_loss: 1.0017 - val_accuracy: 0.6200\n",
            "Epoch 37/300\n",
            "4/4 [==============================] - 1s 171ms/step - loss: 0.1279 - accuracy: 0.9617 - val_loss: 0.4326 - val_accuracy: 0.8200\n",
            "Epoch 38/300\n",
            "4/4 [==============================] - 1s 176ms/step - loss: 0.1139 - accuracy: 0.9761 - val_loss: 0.5525 - val_accuracy: 0.8200\n",
            "Epoch 39/300\n",
            "4/4 [==============================] - 1s 175ms/step - loss: 0.1346 - accuracy: 0.9665 - val_loss: 0.9764 - val_accuracy: 0.6400\n",
            "Epoch 40/300\n",
            "4/4 [==============================] - 1s 175ms/step - loss: 0.1528 - accuracy: 0.9522 - val_loss: 0.5126 - val_accuracy: 0.8000\n",
            "Epoch 41/300\n",
            "4/4 [==============================] - 1s 170ms/step - loss: 0.1215 - accuracy: 0.9569 - val_loss: 0.5246 - val_accuracy: 0.8200\n",
            "Epoch 42/300\n",
            "4/4 [==============================] - 1s 169ms/step - loss: 0.1152 - accuracy: 0.9761 - val_loss: 0.6937 - val_accuracy: 0.7800\n",
            "Epoch 43/300\n",
            "4/4 [==============================] - 1s 172ms/step - loss: 0.1156 - accuracy: 0.9809 - val_loss: 0.4189 - val_accuracy: 0.8000\n",
            "Epoch 44/300\n",
            "4/4 [==============================] - 1s 172ms/step - loss: 0.1371 - accuracy: 0.9665 - val_loss: 0.8746 - val_accuracy: 0.6600\n",
            "Epoch 45/300\n",
            "4/4 [==============================] - 1s 173ms/step - loss: 0.1016 - accuracy: 0.9856 - val_loss: 0.4020 - val_accuracy: 0.8200\n",
            "Epoch 46/300\n",
            "4/4 [==============================] - 1s 172ms/step - loss: 0.0846 - accuracy: 0.9952 - val_loss: 0.7379 - val_accuracy: 0.7000\n",
            "Epoch 47/300\n",
            "4/4 [==============================] - 1s 170ms/step - loss: 0.0847 - accuracy: 0.9809 - val_loss: 0.5733 - val_accuracy: 0.7800\n",
            "Epoch 48/300\n",
            "4/4 [==============================] - 1s 172ms/step - loss: 0.0697 - accuracy: 0.9952 - val_loss: 0.5853 - val_accuracy: 0.7800\n",
            "Epoch 49/300\n",
            "4/4 [==============================] - 1s 169ms/step - loss: 0.0757 - accuracy: 0.9952 - val_loss: 0.4756 - val_accuracy: 0.8400\n",
            "Epoch 50/300\n",
            "4/4 [==============================] - 1s 173ms/step - loss: 0.0742 - accuracy: 1.0000 - val_loss: 0.9760 - val_accuracy: 0.6600\n",
            "Epoch 51/300\n",
            "4/4 [==============================] - 1s 174ms/step - loss: 0.0887 - accuracy: 0.9809 - val_loss: 0.4246 - val_accuracy: 0.8200\n",
            "Epoch 52/300\n",
            "4/4 [==============================] - 1s 174ms/step - loss: 0.0703 - accuracy: 0.9904 - val_loss: 0.8390 - val_accuracy: 0.7400\n",
            "Epoch 53/300\n",
            "4/4 [==============================] - 1s 172ms/step - loss: 0.0782 - accuracy: 0.9856 - val_loss: 0.4461 - val_accuracy: 0.8200\n",
            "Epoch 54/300\n",
            "4/4 [==============================] - 1s 172ms/step - loss: 0.0702 - accuracy: 0.9856 - val_loss: 0.9822 - val_accuracy: 0.6400\n",
            "Epoch 55/300\n",
            "4/4 [==============================] - 1s 171ms/step - loss: 0.0784 - accuracy: 0.9952 - val_loss: 0.4798 - val_accuracy: 0.8400\n",
            "Epoch 56/300\n",
            "4/4 [==============================] - 1s 175ms/step - loss: 0.0803 - accuracy: 0.9904 - val_loss: 0.7812 - val_accuracy: 0.7800\n",
            "Epoch 57/300\n",
            "4/4 [==============================] - 1s 177ms/step - loss: 0.0624 - accuracy: 1.0000 - val_loss: 0.5178 - val_accuracy: 0.8400\n",
            "Epoch 58/300\n",
            "4/4 [==============================] - 1s 171ms/step - loss: 0.0614 - accuracy: 1.0000 - val_loss: 0.5813 - val_accuracy: 0.8200\n",
            "Epoch 59/300\n",
            "4/4 [==============================] - 1s 175ms/step - loss: 0.0578 - accuracy: 0.9952 - val_loss: 0.6078 - val_accuracy: 0.8200\n",
            "Epoch 60/300\n",
            "4/4 [==============================] - 1s 171ms/step - loss: 0.0576 - accuracy: 0.9952 - val_loss: 0.6397 - val_accuracy: 0.7800\n",
            "Epoch 61/300\n",
            "4/4 [==============================] - 1s 173ms/step - loss: 0.0498 - accuracy: 0.9952 - val_loss: 0.5785 - val_accuracy: 0.8000\n",
            "Epoch 62/300\n",
            "4/4 [==============================] - 1s 172ms/step - loss: 0.0445 - accuracy: 1.0000 - val_loss: 0.5646 - val_accuracy: 0.8200\n",
            "Epoch 63/300\n",
            "4/4 [==============================] - 1s 174ms/step - loss: 0.0489 - accuracy: 0.9952 - val_loss: 0.6553 - val_accuracy: 0.8400\n",
            "Epoch 64/300\n",
            "4/4 [==============================] - 1s 180ms/step - loss: 0.0470 - accuracy: 0.9952 - val_loss: 0.5875 - val_accuracy: 0.8200\n",
            "Epoch 65/300\n",
            "4/4 [==============================] - 1s 172ms/step - loss: 0.0426 - accuracy: 1.0000 - val_loss: 0.6864 - val_accuracy: 0.8200\n",
            "Epoch 66/300\n",
            "4/4 [==============================] - 1s 178ms/step - loss: 0.0473 - accuracy: 1.0000 - val_loss: 0.5096 - val_accuracy: 0.8200\n",
            "Epoch 67/300\n",
            "4/4 [==============================] - 1s 172ms/step - loss: 0.0565 - accuracy: 0.9904 - val_loss: 0.7896 - val_accuracy: 0.8000\n",
            "Epoch 68/300\n",
            "4/4 [==============================] - 1s 176ms/step - loss: 0.0499 - accuracy: 0.9952 - val_loss: 0.5151 - val_accuracy: 0.8200\n",
            "Epoch 69/300\n",
            "4/4 [==============================] - 1s 173ms/step - loss: 0.0464 - accuracy: 1.0000 - val_loss: 0.7853 - val_accuracy: 0.8200\n",
            "Epoch 70/300\n",
            "4/4 [==============================] - 1s 175ms/step - loss: 0.0429 - accuracy: 1.0000 - val_loss: 0.6358 - val_accuracy: 0.8200\n",
            "Epoch 71/300\n",
            "4/4 [==============================] - 1s 173ms/step - loss: 0.0429 - accuracy: 1.0000 - val_loss: 0.6305 - val_accuracy: 0.8000\n",
            "Epoch 72/300\n",
            "4/4 [==============================] - 1s 171ms/step - loss: 0.0444 - accuracy: 1.0000 - val_loss: 0.5837 - val_accuracy: 0.8400\n",
            "Epoch 73/300\n",
            "4/4 [==============================] - 1s 173ms/step - loss: 0.0452 - accuracy: 0.9952 - val_loss: 0.5510 - val_accuracy: 0.8200\n",
            "Epoch 74/300\n",
            "4/4 [==============================] - 1s 177ms/step - loss: 0.0417 - accuracy: 1.0000 - val_loss: 0.6209 - val_accuracy: 0.8000\n",
            "Epoch 75/300\n",
            "4/4 [==============================] - 1s 176ms/step - loss: 0.0466 - accuracy: 1.0000 - val_loss: 0.5537 - val_accuracy: 0.8400\n",
            "Epoch 76/300\n",
            "4/4 [==============================] - 1s 174ms/step - loss: 0.0416 - accuracy: 1.0000 - val_loss: 0.6300 - val_accuracy: 0.7800\n",
            "Epoch 77/300\n",
            "4/4 [==============================] - 1s 168ms/step - loss: 0.0410 - accuracy: 1.0000 - val_loss: 0.8562 - val_accuracy: 0.8000\n",
            "Epoch 78/300\n",
            "4/4 [==============================] - 1s 175ms/step - loss: 0.0463 - accuracy: 1.0000 - val_loss: 0.5988 - val_accuracy: 0.8200\n",
            "Epoch 79/300\n",
            "4/4 [==============================] - 1s 172ms/step - loss: 0.0397 - accuracy: 1.0000 - val_loss: 0.7516 - val_accuracy: 0.8400\n",
            "Epoch 80/300\n",
            "4/4 [==============================] - 1s 169ms/step - loss: 0.0411 - accuracy: 1.0000 - val_loss: 0.4981 - val_accuracy: 0.8400\n",
            "Epoch 81/300\n",
            "4/4 [==============================] - 1s 181ms/step - loss: 0.0412 - accuracy: 0.9952 - val_loss: 0.6773 - val_accuracy: 0.8200\n",
            "Epoch 82/300\n",
            "4/4 [==============================] - 1s 178ms/step - loss: 0.0355 - accuracy: 1.0000 - val_loss: 0.5423 - val_accuracy: 0.8400\n",
            "Epoch 83/300\n",
            "4/4 [==============================] - 1s 169ms/step - loss: 0.0373 - accuracy: 1.0000 - val_loss: 0.5194 - val_accuracy: 0.8200\n",
            "Epoch 84/300\n",
            "4/4 [==============================] - 1s 172ms/step - loss: 0.0360 - accuracy: 1.0000 - val_loss: 0.6892 - val_accuracy: 0.8000\n",
            "Epoch 85/300\n",
            "4/4 [==============================] - 1s 179ms/step - loss: 0.0383 - accuracy: 1.0000 - val_loss: 0.5423 - val_accuracy: 0.8400\n",
            "Epoch 86/300\n",
            "4/4 [==============================] - 1s 175ms/step - loss: 0.0327 - accuracy: 1.0000 - val_loss: 0.5530 - val_accuracy: 0.8400\n",
            "Epoch 87/300\n",
            "4/4 [==============================] - 1s 176ms/step - loss: 0.0348 - accuracy: 1.0000 - val_loss: 0.5326 - val_accuracy: 0.8200\n",
            "Epoch 88/300\n",
            "4/4 [==============================] - 1s 181ms/step - loss: 0.0355 - accuracy: 1.0000 - val_loss: 0.6861 - val_accuracy: 0.8200\n",
            "Epoch 89/300\n",
            "4/4 [==============================] - 1s 181ms/step - loss: 0.0383 - accuracy: 1.0000 - val_loss: 0.5707 - val_accuracy: 0.8200\n",
            "Epoch 90/300\n",
            "4/4 [==============================] - 1s 173ms/step - loss: 0.0468 - accuracy: 0.9904 - val_loss: 0.5984 - val_accuracy: 0.8200\n",
            "Epoch 91/300\n",
            "4/4 [==============================] - 1s 173ms/step - loss: 0.0343 - accuracy: 1.0000 - val_loss: 0.9118 - val_accuracy: 0.8000\n",
            "Epoch 92/300\n",
            "4/4 [==============================] - 1s 179ms/step - loss: 0.0369 - accuracy: 1.0000 - val_loss: 0.5360 - val_accuracy: 0.8400\n",
            "Epoch 93/300\n",
            "4/4 [==============================] - 1s 177ms/step - loss: 0.0372 - accuracy: 1.0000 - val_loss: 0.7204 - val_accuracy: 0.8400\n",
            "Epoch 94/300\n",
            "4/4 [==============================] - 1s 170ms/step - loss: 0.0405 - accuracy: 1.0000 - val_loss: 0.5897 - val_accuracy: 0.8400\n",
            "Epoch 95/300\n",
            "4/4 [==============================] - 1s 175ms/step - loss: 0.0393 - accuracy: 0.9952 - val_loss: 0.7518 - val_accuracy: 0.8200\n",
            "Epoch 96/300\n",
            "4/4 [==============================] - 1s 174ms/step - loss: 0.0358 - accuracy: 1.0000 - val_loss: 0.6253 - val_accuracy: 0.8600\n",
            "Epoch 97/300\n",
            "4/4 [==============================] - 1s 171ms/step - loss: 0.0340 - accuracy: 1.0000 - val_loss: 0.5324 - val_accuracy: 0.8400\n",
            "Epoch 98/300\n",
            "4/4 [==============================] - 1s 172ms/step - loss: 0.0302 - accuracy: 1.0000 - val_loss: 0.6787 - val_accuracy: 0.8400\n",
            "Epoch 99/300\n",
            "4/4 [==============================] - 1s 174ms/step - loss: 0.0343 - accuracy: 1.0000 - val_loss: 0.6159 - val_accuracy: 0.8400\n",
            "Epoch 100/300\n",
            "4/4 [==============================] - 1s 174ms/step - loss: 0.0340 - accuracy: 1.0000 - val_loss: 0.5562 - val_accuracy: 0.8400\n",
            "Epoch 101/300\n",
            "4/4 [==============================] - 1s 172ms/step - loss: 0.0286 - accuracy: 1.0000 - val_loss: 0.8397 - val_accuracy: 0.8000\n",
            "Epoch 102/300\n",
            "4/4 [==============================] - 1s 176ms/step - loss: 0.0347 - accuracy: 1.0000 - val_loss: 0.5389 - val_accuracy: 0.8200\n",
            "Epoch 103/300\n",
            "4/4 [==============================] - 1s 174ms/step - loss: 0.0336 - accuracy: 1.0000 - val_loss: 0.6624 - val_accuracy: 0.8400\n",
            "Epoch 104/300\n",
            "4/4 [==============================] - 1s 174ms/step - loss: 0.0363 - accuracy: 0.9952 - val_loss: 0.5477 - val_accuracy: 0.8000\n",
            "Epoch 105/300\n",
            "4/4 [==============================] - 1s 177ms/step - loss: 0.0393 - accuracy: 0.9952 - val_loss: 0.7395 - val_accuracy: 0.8200\n",
            "Epoch 106/300\n",
            "4/4 [==============================] - 1s 174ms/step - loss: 0.0370 - accuracy: 1.0000 - val_loss: 0.6533 - val_accuracy: 0.8400\n",
            "Epoch 107/300\n",
            "4/4 [==============================] - 1s 175ms/step - loss: 0.0323 - accuracy: 1.0000 - val_loss: 0.4963 - val_accuracy: 0.8200\n",
            "Epoch 108/300\n",
            "4/4 [==============================] - 1s 176ms/step - loss: 0.0322 - accuracy: 1.0000 - val_loss: 0.6804 - val_accuracy: 0.8000\n",
            "Epoch 109/300\n",
            "4/4 [==============================] - 1s 175ms/step - loss: 0.0352 - accuracy: 1.0000 - val_loss: 0.6161 - val_accuracy: 0.8000\n",
            "Epoch 110/300\n",
            "4/4 [==============================] - 1s 179ms/step - loss: 0.0271 - accuracy: 1.0000 - val_loss: 0.5340 - val_accuracy: 0.8400\n",
            "Epoch 111/300\n",
            "4/4 [==============================] - 1s 175ms/step - loss: 0.0295 - accuracy: 1.0000 - val_loss: 0.6470 - val_accuracy: 0.8200\n",
            "Epoch 112/300\n",
            "4/4 [==============================] - 1s 173ms/step - loss: 0.0313 - accuracy: 1.0000 - val_loss: 0.5368 - val_accuracy: 0.8400\n",
            "Epoch 113/300\n",
            "4/4 [==============================] - 1s 175ms/step - loss: 0.0289 - accuracy: 1.0000 - val_loss: 0.6730 - val_accuracy: 0.8200\n",
            "Epoch 114/300\n",
            "4/4 [==============================] - 1s 176ms/step - loss: 0.0307 - accuracy: 1.0000 - val_loss: 0.5625 - val_accuracy: 0.8200\n",
            "Epoch 115/300\n",
            "4/4 [==============================] - 1s 175ms/step - loss: 0.0294 - accuracy: 1.0000 - val_loss: 0.5398 - val_accuracy: 0.8200\n",
            "Epoch 116/300\n",
            "4/4 [==============================] - 1s 180ms/step - loss: 0.0276 - accuracy: 1.0000 - val_loss: 0.7414 - val_accuracy: 0.8200\n",
            "Epoch 117/300\n",
            "4/4 [==============================] - 1s 179ms/step - loss: 0.0286 - accuracy: 1.0000 - val_loss: 0.5826 - val_accuracy: 0.8200\n",
            "Epoch 118/300\n",
            "4/4 [==============================] - 1s 172ms/step - loss: 0.0275 - accuracy: 1.0000 - val_loss: 0.5504 - val_accuracy: 0.8200\n",
            "Epoch 119/300\n",
            "4/4 [==============================] - 1s 178ms/step - loss: 0.0261 - accuracy: 1.0000 - val_loss: 0.6350 - val_accuracy: 0.8400\n",
            "Epoch 120/300\n",
            "4/4 [==============================] - 1s 176ms/step - loss: 0.0294 - accuracy: 1.0000 - val_loss: 0.6597 - val_accuracy: 0.8400\n",
            "Epoch 121/300\n",
            "4/4 [==============================] - 1s 175ms/step - loss: 0.0311 - accuracy: 1.0000 - val_loss: 0.6489 - val_accuracy: 0.8200\n",
            "Epoch 122/300\n",
            "4/4 [==============================] - 1s 176ms/step - loss: 0.0296 - accuracy: 1.0000 - val_loss: 0.7653 - val_accuracy: 0.8000\n",
            "Epoch 123/300\n",
            "4/4 [==============================] - 1s 173ms/step - loss: 0.0328 - accuracy: 0.9952 - val_loss: 0.5390 - val_accuracy: 0.8400\n",
            "Epoch 124/300\n",
            "4/4 [==============================] - 1s 176ms/step - loss: 0.0349 - accuracy: 1.0000 - val_loss: 0.8801 - val_accuracy: 0.8000\n",
            "Epoch 125/300\n",
            "4/4 [==============================] - 1s 171ms/step - loss: 0.0320 - accuracy: 1.0000 - val_loss: 0.5817 - val_accuracy: 0.8200\n",
            "Epoch 126/300\n",
            "4/4 [==============================] - 1s 178ms/step - loss: 0.0278 - accuracy: 1.0000 - val_loss: 0.5103 - val_accuracy: 0.8200\n",
            "Epoch 127/300\n",
            "4/4 [==============================] - 1s 174ms/step - loss: 0.0314 - accuracy: 1.0000 - val_loss: 0.7944 - val_accuracy: 0.8200\n",
            "Epoch 128/300\n",
            "4/4 [==============================] - 1s 174ms/step - loss: 0.0304 - accuracy: 1.0000 - val_loss: 0.5248 - val_accuracy: 0.8000\n",
            "Epoch 129/300\n",
            "4/4 [==============================] - 1s 174ms/step - loss: 0.0285 - accuracy: 1.0000 - val_loss: 0.5112 - val_accuracy: 0.8000\n",
            "Epoch 130/300\n",
            "4/4 [==============================] - 1s 174ms/step - loss: 0.0253 - accuracy: 1.0000 - val_loss: 0.7509 - val_accuracy: 0.8000\n",
            "Epoch 131/300\n",
            "4/4 [==============================] - 1s 173ms/step - loss: 0.0270 - accuracy: 1.0000 - val_loss: 0.6242 - val_accuracy: 0.8400\n",
            "Epoch 132/300\n",
            "4/4 [==============================] - 1s 174ms/step - loss: 0.0264 - accuracy: 1.0000 - val_loss: 0.6260 - val_accuracy: 0.8400\n",
            "Epoch 133/300\n",
            "4/4 [==============================] - 1s 174ms/step - loss: 0.0244 - accuracy: 1.0000 - val_loss: 0.7326 - val_accuracy: 0.8000\n",
            "Epoch 134/300\n",
            "4/4 [==============================] - 1s 170ms/step - loss: 0.0251 - accuracy: 1.0000 - val_loss: 0.6081 - val_accuracy: 0.8200\n",
            "Epoch 135/300\n",
            "4/4 [==============================] - 1s 172ms/step - loss: 0.0252 - accuracy: 1.0000 - val_loss: 0.5637 - val_accuracy: 0.8000\n",
            "Epoch 136/300\n",
            "4/4 [==============================] - 1s 178ms/step - loss: 0.0277 - accuracy: 1.0000 - val_loss: 0.7704 - val_accuracy: 0.8200\n",
            "Epoch 137/300\n",
            "4/4 [==============================] - 1s 175ms/step - loss: 0.0244 - accuracy: 1.0000 - val_loss: 0.8522 - val_accuracy: 0.8000\n",
            "Epoch 138/300\n",
            "4/4 [==============================] - 1s 173ms/step - loss: 0.0261 - accuracy: 1.0000 - val_loss: 0.5645 - val_accuracy: 0.8000\n",
            "Epoch 139/300\n",
            "4/4 [==============================] - 1s 171ms/step - loss: 0.0298 - accuracy: 0.9952 - val_loss: 1.2777 - val_accuracy: 0.6600\n",
            "Epoch 140/300\n",
            "4/4 [==============================] - 1s 178ms/step - loss: 0.0360 - accuracy: 1.0000 - val_loss: 0.5963 - val_accuracy: 0.8200\n",
            "Epoch 141/300\n",
            "4/4 [==============================] - 1s 178ms/step - loss: 0.0337 - accuracy: 0.9952 - val_loss: 0.8002 - val_accuracy: 0.7800\n",
            "Epoch 142/300\n",
            "4/4 [==============================] - 1s 176ms/step - loss: 0.0280 - accuracy: 1.0000 - val_loss: 0.7159 - val_accuracy: 0.8200\n",
            "Epoch 143/300\n",
            "4/4 [==============================] - 1s 176ms/step - loss: 0.0240 - accuracy: 1.0000 - val_loss: 0.5959 - val_accuracy: 0.8000\n",
            "Epoch 144/300\n",
            "4/4 [==============================] - 1s 173ms/step - loss: 0.0254 - accuracy: 1.0000 - val_loss: 0.7178 - val_accuracy: 0.8400\n",
            "Epoch 145/300\n",
            "4/4 [==============================] - 1s 170ms/step - loss: 0.0295 - accuracy: 1.0000 - val_loss: 0.7895 - val_accuracy: 0.8200\n",
            "Epoch 146/300\n",
            "4/4 [==============================] - 1s 175ms/step - loss: 0.0256 - accuracy: 1.0000 - val_loss: 0.6174 - val_accuracy: 0.8400\n",
            "Epoch 147/300\n",
            "4/4 [==============================] - 1s 180ms/step - loss: 0.0265 - accuracy: 1.0000 - val_loss: 0.7448 - val_accuracy: 0.8000\n",
            "Epoch 148/300\n",
            "4/4 [==============================] - 1s 181ms/step - loss: 0.0237 - accuracy: 1.0000 - val_loss: 0.7923 - val_accuracy: 0.7800\n",
            "Epoch 149/300\n",
            "4/4 [==============================] - 1s 173ms/step - loss: 0.0237 - accuracy: 1.0000 - val_loss: 0.6269 - val_accuracy: 0.8200\n",
            "Epoch 150/300\n",
            "4/4 [==============================] - 1s 171ms/step - loss: 0.0227 - accuracy: 1.0000 - val_loss: 0.6318 - val_accuracy: 0.8400\n",
            "Epoch 151/300\n",
            "4/4 [==============================] - 1s 173ms/step - loss: 0.0220 - accuracy: 1.0000 - val_loss: 0.6474 - val_accuracy: 0.8200\n",
            "Epoch 152/300\n",
            "4/4 [==============================] - 1s 173ms/step - loss: 0.0231 - accuracy: 1.0000 - val_loss: 0.6446 - val_accuracy: 0.8200\n",
            "Epoch 153/300\n",
            "4/4 [==============================] - 1s 169ms/step - loss: 0.0234 - accuracy: 1.0000 - val_loss: 0.6228 - val_accuracy: 0.8400\n",
            "Epoch 154/300\n",
            "4/4 [==============================] - 1s 177ms/step - loss: 0.0314 - accuracy: 0.9952 - val_loss: 0.4684 - val_accuracy: 0.8200\n",
            "Epoch 155/300\n",
            "4/4 [==============================] - 1s 177ms/step - loss: 0.0262 - accuracy: 1.0000 - val_loss: 0.8803 - val_accuracy: 0.7400\n",
            "Epoch 156/300\n",
            "4/4 [==============================] - 1s 173ms/step - loss: 0.0379 - accuracy: 0.9904 - val_loss: 0.6912 - val_accuracy: 0.8000\n",
            "Epoch 157/300\n",
            "4/4 [==============================] - 1s 171ms/step - loss: 0.0544 - accuracy: 0.9952 - val_loss: 0.6449 - val_accuracy: 0.8400\n",
            "Epoch 158/300\n",
            "4/4 [==============================] - 1s 178ms/step - loss: 0.0442 - accuracy: 0.9952 - val_loss: 1.4494 - val_accuracy: 0.7200\n",
            "Epoch 159/300\n",
            "4/4 [==============================] - 1s 170ms/step - loss: 0.0527 - accuracy: 0.9904 - val_loss: 0.4911 - val_accuracy: 0.8400\n",
            "Epoch 160/300\n",
            "4/4 [==============================] - 1s 177ms/step - loss: 0.0475 - accuracy: 0.9904 - val_loss: 1.6499 - val_accuracy: 0.6200\n",
            "Epoch 161/300\n",
            "4/4 [==============================] - 1s 175ms/step - loss: 0.0559 - accuracy: 0.9856 - val_loss: 0.6020 - val_accuracy: 0.8400\n",
            "Epoch 162/300\n",
            "4/4 [==============================] - 1s 177ms/step - loss: 0.0620 - accuracy: 0.9904 - val_loss: 0.4374 - val_accuracy: 0.8600\n",
            "Epoch 163/300\n",
            "4/4 [==============================] - 1s 170ms/step - loss: 0.0488 - accuracy: 1.0000 - val_loss: 0.6961 - val_accuracy: 0.8400\n",
            "Epoch 164/300\n",
            "4/4 [==============================] - 1s 176ms/step - loss: 0.0450 - accuracy: 1.0000 - val_loss: 1.1026 - val_accuracy: 0.7600\n",
            "Epoch 165/300\n",
            "4/4 [==============================] - 1s 177ms/step - loss: 0.0311 - accuracy: 1.0000 - val_loss: 0.6131 - val_accuracy: 0.8400\n",
            "Epoch 166/300\n",
            "4/4 [==============================] - 1s 173ms/step - loss: 0.0316 - accuracy: 1.0000 - val_loss: 0.6449 - val_accuracy: 0.8200\n",
            "Epoch 167/300\n",
            "4/4 [==============================] - 1s 171ms/step - loss: 0.0330 - accuracy: 1.0000 - val_loss: 0.8965 - val_accuracy: 0.8400\n",
            "Epoch 168/300\n",
            "4/4 [==============================] - 1s 178ms/step - loss: 0.0306 - accuracy: 1.0000 - val_loss: 0.7711 - val_accuracy: 0.8600\n",
            "Epoch 169/300\n",
            "4/4 [==============================] - 1s 174ms/step - loss: 0.0251 - accuracy: 1.0000 - val_loss: 0.6196 - val_accuracy: 0.8200\n",
            "Epoch 170/300\n",
            "4/4 [==============================] - 1s 175ms/step - loss: 0.0300 - accuracy: 1.0000 - val_loss: 0.6480 - val_accuracy: 0.8400\n",
            "Epoch 171/300\n",
            "4/4 [==============================] - 1s 174ms/step - loss: 0.0240 - accuracy: 1.0000 - val_loss: 0.7429 - val_accuracy: 0.8400\n",
            "Epoch 172/300\n",
            "4/4 [==============================] - 1s 176ms/step - loss: 0.0244 - accuracy: 1.0000 - val_loss: 0.5761 - val_accuracy: 0.8400\n",
            "Epoch 173/300\n",
            "4/4 [==============================] - 1s 172ms/step - loss: 0.0254 - accuracy: 1.0000 - val_loss: 0.6851 - val_accuracy: 0.8200\n",
            "Epoch 174/300\n",
            "4/4 [==============================] - 1s 173ms/step - loss: 0.0296 - accuracy: 0.9952 - val_loss: 1.0109 - val_accuracy: 0.8000\n",
            "Epoch 175/300\n",
            "4/4 [==============================] - 1s 175ms/step - loss: 0.0272 - accuracy: 1.0000 - val_loss: 0.6771 - val_accuracy: 0.8000\n",
            "Epoch 176/300\n",
            "4/4 [==============================] - 1s 172ms/step - loss: 0.0257 - accuracy: 1.0000 - val_loss: 0.6516 - val_accuracy: 0.8000\n",
            "Epoch 177/300\n",
            "4/4 [==============================] - 1s 173ms/step - loss: 0.0238 - accuracy: 1.0000 - val_loss: 0.8205 - val_accuracy: 0.8200\n",
            "Epoch 178/300\n",
            "4/4 [==============================] - 1s 176ms/step - loss: 0.0262 - accuracy: 1.0000 - val_loss: 0.8248 - val_accuracy: 0.8200\n",
            "Epoch 179/300\n",
            "4/4 [==============================] - 1s 173ms/step - loss: 0.0244 - accuracy: 1.0000 - val_loss: 0.6394 - val_accuracy: 0.8000\n",
            "Epoch 180/300\n",
            "4/4 [==============================] - 1s 173ms/step - loss: 0.0302 - accuracy: 1.0000 - val_loss: 0.8776 - val_accuracy: 0.8000\n",
            "Epoch 181/300\n",
            "4/4 [==============================] - 1s 172ms/step - loss: 0.0254 - accuracy: 1.0000 - val_loss: 1.1031 - val_accuracy: 0.8400\n",
            "Epoch 182/300\n",
            "4/4 [==============================] - 1s 176ms/step - loss: 0.0237 - accuracy: 1.0000 - val_loss: 0.6544 - val_accuracy: 0.8200\n",
            "Epoch 183/300\n",
            "4/4 [==============================] - 1s 173ms/step - loss: 0.0228 - accuracy: 1.0000 - val_loss: 0.5961 - val_accuracy: 0.8000\n",
            "Epoch 184/300\n",
            "4/4 [==============================] - 1s 175ms/step - loss: 0.0230 - accuracy: 1.0000 - val_loss: 0.8665 - val_accuracy: 0.8200\n",
            "Epoch 185/300\n",
            "4/4 [==============================] - 1s 174ms/step - loss: 0.0243 - accuracy: 1.0000 - val_loss: 0.9117 - val_accuracy: 0.8200\n",
            "Epoch 186/300\n",
            "4/4 [==============================] - 1s 170ms/step - loss: 0.0234 - accuracy: 1.0000 - val_loss: 0.6666 - val_accuracy: 0.8000\n",
            "Epoch 187/300\n",
            "4/4 [==============================] - 1s 174ms/step - loss: 0.0220 - accuracy: 1.0000 - val_loss: 0.6178 - val_accuracy: 0.8000\n",
            "Epoch 188/300\n",
            "4/4 [==============================] - 1s 173ms/step - loss: 0.0252 - accuracy: 1.0000 - val_loss: 0.7025 - val_accuracy: 0.8000\n",
            "Epoch 189/300\n",
            "4/4 [==============================] - 1s 178ms/step - loss: 0.0217 - accuracy: 1.0000 - val_loss: 0.8354 - val_accuracy: 0.7800\n",
            "Epoch 190/300\n",
            "4/4 [==============================] - 1s 177ms/step - loss: 0.0259 - accuracy: 1.0000 - val_loss: 0.7016 - val_accuracy: 0.8000\n",
            "Epoch 191/300\n",
            "4/4 [==============================] - 1s 172ms/step - loss: 0.0215 - accuracy: 1.0000 - val_loss: 0.6929 - val_accuracy: 0.8000\n",
            "Epoch 192/300\n",
            "4/4 [==============================] - 1s 174ms/step - loss: 0.0213 - accuracy: 1.0000 - val_loss: 0.6496 - val_accuracy: 0.8000\n",
            "Epoch 193/300\n",
            "4/4 [==============================] - 1s 177ms/step - loss: 0.0209 - accuracy: 1.0000 - val_loss: 0.6599 - val_accuracy: 0.8000\n",
            "Epoch 194/300\n",
            "4/4 [==============================] - 1s 175ms/step - loss: 0.0206 - accuracy: 1.0000 - val_loss: 0.7972 - val_accuracy: 0.8000\n",
            "Epoch 195/300\n",
            "4/4 [==============================] - 1s 178ms/step - loss: 0.0256 - accuracy: 0.9952 - val_loss: 0.8586 - val_accuracy: 0.8000\n",
            "Epoch 196/300\n",
            "4/4 [==============================] - 1s 175ms/step - loss: 0.0221 - accuracy: 1.0000 - val_loss: 0.7589 - val_accuracy: 0.8000\n",
            "Epoch 197/300\n",
            "4/4 [==============================] - 1s 179ms/step - loss: 0.0223 - accuracy: 1.0000 - val_loss: 0.6840 - val_accuracy: 0.8000\n",
            "Epoch 198/300\n",
            "4/4 [==============================] - 1s 175ms/step - loss: 0.0213 - accuracy: 1.0000 - val_loss: 0.6775 - val_accuracy: 0.8000\n",
            "Epoch 199/300\n",
            "4/4 [==============================] - 1s 176ms/step - loss: 0.0200 - accuracy: 1.0000 - val_loss: 0.6753 - val_accuracy: 0.8000\n",
            "Epoch 200/300\n",
            "4/4 [==============================] - 1s 180ms/step - loss: 0.0198 - accuracy: 1.0000 - val_loss: 0.7138 - val_accuracy: 0.8000\n",
            "Epoch 201/300\n",
            "4/4 [==============================] - 1s 171ms/step - loss: 0.0197 - accuracy: 1.0000 - val_loss: 0.8071 - val_accuracy: 0.8000\n",
            "Epoch 202/300\n",
            "4/4 [==============================] - 1s 179ms/step - loss: 0.0195 - accuracy: 1.0000 - val_loss: 0.8408 - val_accuracy: 0.8000\n",
            "Epoch 203/300\n",
            "4/4 [==============================] - 1s 177ms/step - loss: 0.0202 - accuracy: 1.0000 - val_loss: 0.8525 - val_accuracy: 0.8000\n",
            "Epoch 204/300\n",
            "4/4 [==============================] - 1s 176ms/step - loss: 0.0196 - accuracy: 1.0000 - val_loss: 0.7612 - val_accuracy: 0.8400\n",
            "Epoch 205/300\n",
            "4/4 [==============================] - 1s 176ms/step - loss: 0.0188 - accuracy: 1.0000 - val_loss: 0.7272 - val_accuracy: 0.8200\n",
            "Epoch 206/300\n",
            "4/4 [==============================] - 1s 182ms/step - loss: 0.0195 - accuracy: 1.0000 - val_loss: 0.7227 - val_accuracy: 0.8200\n",
            "Epoch 207/300\n",
            "4/4 [==============================] - 1s 174ms/step - loss: 0.0188 - accuracy: 1.0000 - val_loss: 0.7744 - val_accuracy: 0.8000\n",
            "Epoch 208/300\n",
            "4/4 [==============================] - 1s 176ms/step - loss: 0.0199 - accuracy: 1.0000 - val_loss: 0.7791 - val_accuracy: 0.8200\n",
            "Epoch 209/300\n",
            "4/4 [==============================] - 1s 182ms/step - loss: 0.0207 - accuracy: 1.0000 - val_loss: 0.6913 - val_accuracy: 0.8200\n",
            "Epoch 210/300\n",
            "4/4 [==============================] - 1s 178ms/step - loss: 0.0199 - accuracy: 1.0000 - val_loss: 0.7205 - val_accuracy: 0.8200\n",
            "Epoch 211/300\n",
            "4/4 [==============================] - 1s 179ms/step - loss: 0.0183 - accuracy: 1.0000 - val_loss: 0.7208 - val_accuracy: 0.8000\n",
            "Epoch 212/300\n",
            "4/4 [==============================] - 1s 177ms/step - loss: 0.0198 - accuracy: 1.0000 - val_loss: 0.7049 - val_accuracy: 0.8000\n",
            "Epoch 213/300\n",
            "4/4 [==============================] - 1s 179ms/step - loss: 0.0201 - accuracy: 1.0000 - val_loss: 0.7514 - val_accuracy: 0.8000\n",
            "Epoch 214/300\n",
            "4/4 [==============================] - 1s 174ms/step - loss: 0.0198 - accuracy: 1.0000 - val_loss: 0.7400 - val_accuracy: 0.8200\n",
            "Epoch 215/300\n",
            "4/4 [==============================] - 1s 178ms/step - loss: 0.0181 - accuracy: 1.0000 - val_loss: 0.7324 - val_accuracy: 0.8200\n",
            "Epoch 216/300\n",
            "4/4 [==============================] - 1s 172ms/step - loss: 0.0198 - accuracy: 1.0000 - val_loss: 0.7247 - val_accuracy: 0.8200\n",
            "Epoch 217/300\n",
            "4/4 [==============================] - 1s 179ms/step - loss: 0.0182 - accuracy: 1.0000 - val_loss: 0.6982 - val_accuracy: 0.8200\n",
            "Epoch 218/300\n",
            "4/4 [==============================] - 1s 185ms/step - loss: 0.0186 - accuracy: 1.0000 - val_loss: 0.7574 - val_accuracy: 0.8200\n",
            "Epoch 219/300\n",
            "4/4 [==============================] - 1s 179ms/step - loss: 0.0193 - accuracy: 1.0000 - val_loss: 0.8030 - val_accuracy: 0.8000\n",
            "Epoch 220/300\n",
            "4/4 [==============================] - 1s 179ms/step - loss: 0.0185 - accuracy: 1.0000 - val_loss: 0.7063 - val_accuracy: 0.8200\n",
            "Epoch 221/300\n",
            "4/4 [==============================] - 1s 177ms/step - loss: 0.0183 - accuracy: 1.0000 - val_loss: 0.7076 - val_accuracy: 0.8200\n",
            "Epoch 222/300\n",
            "4/4 [==============================] - 1s 175ms/step - loss: 0.0187 - accuracy: 1.0000 - val_loss: 0.8581 - val_accuracy: 0.7800\n",
            "Epoch 223/300\n",
            "4/4 [==============================] - 1s 178ms/step - loss: 0.0189 - accuracy: 1.0000 - val_loss: 0.7580 - val_accuracy: 0.8000\n",
            "Epoch 224/300\n",
            "4/4 [==============================] - 1s 181ms/step - loss: 0.0204 - accuracy: 1.0000 - val_loss: 0.7004 - val_accuracy: 0.8200\n",
            "Epoch 225/300\n",
            "4/4 [==============================] - 1s 179ms/step - loss: 0.0189 - accuracy: 1.0000 - val_loss: 0.8180 - val_accuracy: 0.8000\n",
            "Epoch 226/300\n",
            "4/4 [==============================] - 1s 173ms/step - loss: 0.0177 - accuracy: 1.0000 - val_loss: 0.8734 - val_accuracy: 0.7800\n",
            "Epoch 227/300\n",
            "4/4 [==============================] - 1s 175ms/step - loss: 0.0174 - accuracy: 1.0000 - val_loss: 0.7753 - val_accuracy: 0.8000\n",
            "Epoch 228/300\n",
            "4/4 [==============================] - 1s 184ms/step - loss: 0.0169 - accuracy: 1.0000 - val_loss: 0.7429 - val_accuracy: 0.8200\n",
            "Epoch 229/300\n",
            "4/4 [==============================] - 1s 177ms/step - loss: 0.0170 - accuracy: 1.0000 - val_loss: 0.7984 - val_accuracy: 0.8000\n",
            "Epoch 230/300\n",
            "4/4 [==============================] - 1s 176ms/step - loss: 0.0166 - accuracy: 1.0000 - val_loss: 0.8772 - val_accuracy: 0.8000\n",
            "Epoch 231/300\n",
            "4/4 [==============================] - 1s 182ms/step - loss: 0.0161 - accuracy: 1.0000 - val_loss: 0.8470 - val_accuracy: 0.8000\n",
            "Epoch 232/300\n",
            "4/4 [==============================] - 1s 185ms/step - loss: 0.0177 - accuracy: 1.0000 - val_loss: 0.7632 - val_accuracy: 0.8200\n",
            "Epoch 233/300\n",
            "4/4 [==============================] - 1s 175ms/step - loss: 0.0177 - accuracy: 1.0000 - val_loss: 0.7315 - val_accuracy: 0.8000\n",
            "Epoch 234/300\n",
            "4/4 [==============================] - 1s 185ms/step - loss: 0.0177 - accuracy: 1.0000 - val_loss: 0.7233 - val_accuracy: 0.8000\n",
            "Epoch 235/300\n",
            "4/4 [==============================] - 1s 186ms/step - loss: 0.0177 - accuracy: 1.0000 - val_loss: 0.6598 - val_accuracy: 0.8200\n",
            "Epoch 236/300\n",
            "4/4 [==============================] - 1s 175ms/step - loss: 0.0268 - accuracy: 0.9952 - val_loss: 1.1281 - val_accuracy: 0.7200\n",
            "Epoch 237/300\n",
            "4/4 [==============================] - 1s 173ms/step - loss: 0.1263 - accuracy: 0.9522 - val_loss: 2.0916 - val_accuracy: 0.6200\n",
            "Epoch 238/300\n",
            "4/4 [==============================] - 1s 176ms/step - loss: 0.7139 - accuracy: 0.8708 - val_loss: 0.8164 - val_accuracy: 0.7600\n",
            "Epoch 239/300\n",
            "4/4 [==============================] - 1s 177ms/step - loss: 0.3452 - accuracy: 0.8421 - val_loss: 1.6347 - val_accuracy: 0.4800\n",
            "Epoch 240/300\n",
            "4/4 [==============================] - 1s 175ms/step - loss: 0.3155 - accuracy: 0.8612 - val_loss: 0.5719 - val_accuracy: 0.7800\n",
            "Epoch 241/300\n",
            "4/4 [==============================] - 1s 169ms/step - loss: 0.2054 - accuracy: 0.9474 - val_loss: 0.6882 - val_accuracy: 0.7000\n",
            "Epoch 242/300\n",
            "4/4 [==============================] - 1s 176ms/step - loss: 0.1501 - accuracy: 0.9761 - val_loss: 0.7878 - val_accuracy: 0.7400\n",
            "Epoch 243/300\n",
            "4/4 [==============================] - 1s 171ms/step - loss: 0.1379 - accuracy: 0.9617 - val_loss: 0.5964 - val_accuracy: 0.7600\n",
            "Epoch 244/300\n",
            "4/4 [==============================] - 1s 173ms/step - loss: 0.1095 - accuracy: 0.9761 - val_loss: 0.8904 - val_accuracy: 0.7200\n",
            "Epoch 245/300\n",
            "4/4 [==============================] - 1s 178ms/step - loss: 0.1355 - accuracy: 0.9569 - val_loss: 0.6554 - val_accuracy: 0.7600\n",
            "Epoch 246/300\n",
            "4/4 [==============================] - 1s 177ms/step - loss: 0.0851 - accuracy: 0.9809 - val_loss: 0.5608 - val_accuracy: 0.7600\n",
            "Epoch 247/300\n",
            "4/4 [==============================] - 1s 171ms/step - loss: 0.0716 - accuracy: 1.0000 - val_loss: 0.7065 - val_accuracy: 0.8000\n",
            "Epoch 248/300\n",
            "4/4 [==============================] - 1s 169ms/step - loss: 0.0619 - accuracy: 0.9952 - val_loss: 0.7069 - val_accuracy: 0.8000\n",
            "Epoch 249/300\n",
            "4/4 [==============================] - 1s 177ms/step - loss: 0.0575 - accuracy: 1.0000 - val_loss: 0.6667 - val_accuracy: 0.8000\n",
            "Epoch 250/300\n",
            "4/4 [==============================] - 1s 172ms/step - loss: 0.0493 - accuracy: 0.9952 - val_loss: 0.7368 - val_accuracy: 0.7800\n",
            "Epoch 251/300\n",
            "4/4 [==============================] - 1s 168ms/step - loss: 0.0468 - accuracy: 0.9952 - val_loss: 0.7040 - val_accuracy: 0.8000\n",
            "Epoch 252/300\n",
            "4/4 [==============================] - 1s 181ms/step - loss: 0.0401 - accuracy: 1.0000 - val_loss: 0.7023 - val_accuracy: 0.8200\n",
            "Epoch 253/300\n",
            "4/4 [==============================] - 1s 179ms/step - loss: 0.0461 - accuracy: 0.9952 - val_loss: 0.7175 - val_accuracy: 0.8000\n",
            "Epoch 254/300\n",
            "4/4 [==============================] - 1s 174ms/step - loss: 0.0383 - accuracy: 1.0000 - val_loss: 0.8117 - val_accuracy: 0.7800\n",
            "Epoch 255/300\n",
            "4/4 [==============================] - 1s 171ms/step - loss: 0.0340 - accuracy: 1.0000 - val_loss: 0.7749 - val_accuracy: 0.8200\n",
            "Epoch 256/300\n",
            "4/4 [==============================] - 1s 175ms/step - loss: 0.0345 - accuracy: 1.0000 - val_loss: 0.7322 - val_accuracy: 0.8200\n",
            "Epoch 257/300\n",
            "4/4 [==============================] - 1s 175ms/step - loss: 0.0360 - accuracy: 1.0000 - val_loss: 0.7649 - val_accuracy: 0.8200\n",
            "Epoch 258/300\n",
            "4/4 [==============================] - 1s 170ms/step - loss: 0.0352 - accuracy: 1.0000 - val_loss: 0.9443 - val_accuracy: 0.7600\n",
            "Epoch 259/300\n",
            "4/4 [==============================] - 1s 174ms/step - loss: 0.0377 - accuracy: 1.0000 - val_loss: 0.7408 - val_accuracy: 0.8000\n",
            "Epoch 260/300\n",
            "4/4 [==============================] - 1s 178ms/step - loss: 0.0301 - accuracy: 1.0000 - val_loss: 0.6275 - val_accuracy: 0.8400\n",
            "Epoch 261/300\n",
            "4/4 [==============================] - 1s 177ms/step - loss: 0.0319 - accuracy: 1.0000 - val_loss: 0.7080 - val_accuracy: 0.8400\n",
            "Epoch 262/300\n",
            "4/4 [==============================] - 1s 176ms/step - loss: 0.0325 - accuracy: 1.0000 - val_loss: 0.8810 - val_accuracy: 0.7600\n",
            "Epoch 263/300\n",
            "4/4 [==============================] - 1s 180ms/step - loss: 0.0370 - accuracy: 1.0000 - val_loss: 0.7721 - val_accuracy: 0.7600\n",
            "Epoch 264/300\n",
            "4/4 [==============================] - 1s 179ms/step - loss: 0.0318 - accuracy: 1.0000 - val_loss: 0.7139 - val_accuracy: 0.8200\n",
            "Epoch 265/300\n",
            "4/4 [==============================] - 1s 174ms/step - loss: 0.0302 - accuracy: 1.0000 - val_loss: 0.7096 - val_accuracy: 0.8200\n",
            "Epoch 266/300\n",
            "4/4 [==============================] - 1s 181ms/step - loss: 0.0334 - accuracy: 1.0000 - val_loss: 0.6443 - val_accuracy: 0.8400\n",
            "Epoch 267/300\n",
            "4/4 [==============================] - 1s 177ms/step - loss: 0.0293 - accuracy: 1.0000 - val_loss: 0.6239 - val_accuracy: 0.8400\n",
            "Epoch 268/300\n",
            "4/4 [==============================] - 1s 172ms/step - loss: 0.0291 - accuracy: 1.0000 - val_loss: 0.6964 - val_accuracy: 0.8400\n",
            "Epoch 269/300\n",
            "4/4 [==============================] - 1s 172ms/step - loss: 0.0298 - accuracy: 1.0000 - val_loss: 0.7486 - val_accuracy: 0.8400\n",
            "Epoch 270/300\n",
            "4/4 [==============================] - 1s 177ms/step - loss: 0.0291 - accuracy: 1.0000 - val_loss: 0.7706 - val_accuracy: 0.8400\n",
            "Epoch 271/300\n",
            "4/4 [==============================] - 1s 176ms/step - loss: 0.0281 - accuracy: 1.0000 - val_loss: 0.7910 - val_accuracy: 0.8400\n",
            "Epoch 272/300\n",
            "4/4 [==============================] - 1s 175ms/step - loss: 0.0258 - accuracy: 1.0000 - val_loss: 0.7854 - val_accuracy: 0.8400\n",
            "Epoch 273/300\n",
            "4/4 [==============================] - 1s 175ms/step - loss: 0.0256 - accuracy: 1.0000 - val_loss: 0.7357 - val_accuracy: 0.8400\n",
            "Epoch 274/300\n",
            "4/4 [==============================] - 1s 176ms/step - loss: 0.0264 - accuracy: 1.0000 - val_loss: 0.7143 - val_accuracy: 0.8600\n",
            "Epoch 275/300\n",
            "4/4 [==============================] - 1s 176ms/step - loss: 0.0304 - accuracy: 0.9952 - val_loss: 0.6956 - val_accuracy: 0.8400\n",
            "Epoch 276/300\n",
            "4/4 [==============================] - 1s 176ms/step - loss: 0.0243 - accuracy: 1.0000 - val_loss: 0.7135 - val_accuracy: 0.8400\n",
            "Epoch 277/300\n",
            "4/4 [==============================] - 1s 177ms/step - loss: 0.0272 - accuracy: 1.0000 - val_loss: 0.7520 - val_accuracy: 0.8400\n",
            "Epoch 278/300\n",
            "4/4 [==============================] - 1s 175ms/step - loss: 0.0296 - accuracy: 0.9952 - val_loss: 0.7567 - val_accuracy: 0.8400\n",
            "Epoch 279/300\n",
            "4/4 [==============================] - 1s 171ms/step - loss: 0.0249 - accuracy: 1.0000 - val_loss: 0.7366 - val_accuracy: 0.8400\n",
            "Epoch 280/300\n",
            "4/4 [==============================] - 1s 179ms/step - loss: 0.0274 - accuracy: 1.0000 - val_loss: 0.7899 - val_accuracy: 0.8400\n",
            "Epoch 281/300\n",
            "4/4 [==============================] - 1s 177ms/step - loss: 0.0240 - accuracy: 1.0000 - val_loss: 0.8034 - val_accuracy: 0.8400\n",
            "Epoch 282/300\n",
            "4/4 [==============================] - 1s 176ms/step - loss: 0.0238 - accuracy: 1.0000 - val_loss: 0.7365 - val_accuracy: 0.8800\n",
            "Epoch 283/300\n",
            "4/4 [==============================] - 1s 175ms/step - loss: 0.0251 - accuracy: 1.0000 - val_loss: 0.6987 - val_accuracy: 0.8400\n",
            "Epoch 284/300\n",
            "4/4 [==============================] - 1s 177ms/step - loss: 0.0246 - accuracy: 1.0000 - val_loss: 0.7175 - val_accuracy: 0.8400\n",
            "Epoch 285/300\n",
            "4/4 [==============================] - 1s 174ms/step - loss: 0.0232 - accuracy: 1.0000 - val_loss: 0.7207 - val_accuracy: 0.8400\n",
            "Epoch 286/300\n",
            "4/4 [==============================] - 1s 174ms/step - loss: 0.0247 - accuracy: 1.0000 - val_loss: 0.7413 - val_accuracy: 0.8400\n",
            "Epoch 287/300\n",
            "4/4 [==============================] - 1s 181ms/step - loss: 0.0244 - accuracy: 1.0000 - val_loss: 0.7427 - val_accuracy: 0.8400\n",
            "Epoch 288/300\n",
            "4/4 [==============================] - 1s 184ms/step - loss: 0.0257 - accuracy: 1.0000 - val_loss: 0.6858 - val_accuracy: 0.8400\n",
            "Epoch 289/300\n",
            "4/4 [==============================] - 1s 176ms/step - loss: 0.0240 - accuracy: 1.0000 - val_loss: 0.6796 - val_accuracy: 0.8400\n",
            "Epoch 290/300\n",
            "4/4 [==============================] - 1s 176ms/step - loss: 0.0239 - accuracy: 1.0000 - val_loss: 0.7156 - val_accuracy: 0.8400\n",
            "Epoch 291/300\n",
            "4/4 [==============================] - 1s 181ms/step - loss: 0.0235 - accuracy: 1.0000 - val_loss: 0.7217 - val_accuracy: 0.8600\n",
            "Epoch 292/300\n",
            "4/4 [==============================] - 1s 176ms/step - loss: 0.0259 - accuracy: 1.0000 - val_loss: 0.7452 - val_accuracy: 0.8200\n",
            "Epoch 293/300\n",
            "4/4 [==============================] - 1s 176ms/step - loss: 0.0236 - accuracy: 1.0000 - val_loss: 0.7296 - val_accuracy: 0.8600\n",
            "Epoch 294/300\n",
            "4/4 [==============================] - 1s 176ms/step - loss: 0.0228 - accuracy: 1.0000 - val_loss: 0.7087 - val_accuracy: 0.8400\n",
            "Epoch 295/300\n",
            "4/4 [==============================] - 1s 176ms/step - loss: 0.0227 - accuracy: 1.0000 - val_loss: 0.6991 - val_accuracy: 0.8400\n",
            "Epoch 296/300\n",
            "4/4 [==============================] - 1s 173ms/step - loss: 0.0223 - accuracy: 1.0000 - val_loss: 0.7068 - val_accuracy: 0.8400\n",
            "Epoch 297/300\n",
            "4/4 [==============================] - 1s 176ms/step - loss: 0.0236 - accuracy: 1.0000 - val_loss: 0.7276 - val_accuracy: 0.8400\n",
            "Epoch 298/300\n",
            "4/4 [==============================] - 1s 177ms/step - loss: 0.0258 - accuracy: 1.0000 - val_loss: 0.7186 - val_accuracy: 0.8400\n",
            "Epoch 299/300\n",
            "4/4 [==============================] - 1s 179ms/step - loss: 0.0233 - accuracy: 1.0000 - val_loss: 0.6876 - val_accuracy: 0.8400\n",
            "Epoch 300/300\n",
            "4/4 [==============================] - 1s 175ms/step - loss: 0.0224 - accuracy: 1.0000 - val_loss: 0.7028 - val_accuracy: 0.8400\n"
          ],
          "name": "stdout"
        }
      ]
    },
    {
      "cell_type": "markdown",
      "metadata": {
        "id": "8096f869"
      },
      "source": [
        "### Funcion de perdida"
      ],
      "id": "8096f869"
    },
    {
      "cell_type": "code",
      "metadata": {
        "colab": {
          "base_uri": "https://localhost:8080/",
          "height": 542
        },
        "id": "d0cde187",
        "outputId": "c9a93e14-ccec-42f4-cb47-ab425f3ae704"
      },
      "source": [
        "fig = go.Figure()\n",
        "fig.add_trace( go.Scatter(x= np.arange(len(history.history[\"loss\"])), y=history.history[\"loss\"], mode=\"lines\"))\n",
        "fig.add_trace(go.Scatter(x= np.arange(len(history.history[\"val_loss\"])), y=history.history[\"val_loss\"], mode=\"lines\"))\n",
        "fig.show()"
      ],
      "id": "d0cde187",
      "execution_count": 181,
      "outputs": [
        {
          "output_type": "display_data",
          "data": {
            "text/html": [
              "<html>\n",
              "<head><meta charset=\"utf-8\" /></head>\n",
              "<body>\n",
              "    <div>\n",
              "            <script src=\"https://cdnjs.cloudflare.com/ajax/libs/mathjax/2.7.5/MathJax.js?config=TeX-AMS-MML_SVG\"></script><script type=\"text/javascript\">if (window.MathJax) {MathJax.Hub.Config({SVG: {font: \"STIX-Web\"}});}</script>\n",
              "                <script type=\"text/javascript\">window.PlotlyConfig = {MathJaxConfig: 'local'};</script>\n",
              "        <script src=\"https://cdn.plot.ly/plotly-latest.min.js\"></script>    \n",
              "            <div id=\"04fc8ad1-31d8-49a9-aee0-de8f73b34db8\" class=\"plotly-graph-div\" style=\"height:525px; width:100%;\"></div>\n",
              "            <script type=\"text/javascript\">\n",
              "                \n",
              "                    window.PLOTLYENV=window.PLOTLYENV || {};\n",
              "                    \n",
              "                if (document.getElementById(\"04fc8ad1-31d8-49a9-aee0-de8f73b34db8\")) {\n",
              "                    Plotly.newPlot(\n",
              "                        '04fc8ad1-31d8-49a9-aee0-de8f73b34db8',\n",
              "                        [{\"mode\": \"lines\", \"type\": \"scatter\", \"x\": [0, 1, 2, 3, 4, 5, 6, 7, 8, 9, 10, 11, 12, 13, 14, 15, 16, 17, 18, 19, 20, 21, 22, 23, 24, 25, 26, 27, 28, 29, 30, 31, 32, 33, 34, 35, 36, 37, 38, 39, 40, 41, 42, 43, 44, 45, 46, 47, 48, 49, 50, 51, 52, 53, 54, 55, 56, 57, 58, 59, 60, 61, 62, 63, 64, 65, 66, 67, 68, 69, 70, 71, 72, 73, 74, 75, 76, 77, 78, 79, 80, 81, 82, 83, 84, 85, 86, 87, 88, 89, 90, 91, 92, 93, 94, 95, 96, 97, 98, 99, 100, 101, 102, 103, 104, 105, 106, 107, 108, 109, 110, 111, 112, 113, 114, 115, 116, 117, 118, 119, 120, 121, 122, 123, 124, 125, 126, 127, 128, 129, 130, 131, 132, 133, 134, 135, 136, 137, 138, 139, 140, 141, 142, 143, 144, 145, 146, 147, 148, 149, 150, 151, 152, 153, 154, 155, 156, 157, 158, 159, 160, 161, 162, 163, 164, 165, 166, 167, 168, 169, 170, 171, 172, 173, 174, 175, 176, 177, 178, 179, 180, 181, 182, 183, 184, 185, 186, 187, 188, 189, 190, 191, 192, 193, 194, 195, 196, 197, 198, 199, 200, 201, 202, 203, 204, 205, 206, 207, 208, 209, 210, 211, 212, 213, 214, 215, 216, 217, 218, 219, 220, 221, 222, 223, 224, 225, 226, 227, 228, 229, 230, 231, 232, 233, 234, 235, 236, 237, 238, 239, 240, 241, 242, 243, 244, 245, 246, 247, 248, 249, 250, 251, 252, 253, 254, 255, 256, 257, 258, 259, 260, 261, 262, 263, 264, 265, 266, 267, 268, 269, 270, 271, 272, 273, 274, 275, 276, 277, 278, 279, 280, 281, 282, 283, 284, 285, 286, 287, 288, 289, 290, 291, 292, 293, 294, 295, 296, 297, 298, 299], \"y\": [0.9200947880744934, 0.6720989942550659, 0.6291258335113525, 0.5731128454208374, 0.5479696989059448, 0.5305308699607849, 0.5282355546951294, 0.4808124601840973, 0.48458144068717957, 0.5014522075653076, 0.46492019295692444, 0.4682448208332062, 0.42402198910713196, 0.3941275179386139, 0.3710041642189026, 0.33716416358947754, 0.3407587707042694, 0.32298538088798523, 0.29457834362983704, 0.28465160727500916, 0.28094691038131714, 0.30144137144088745, 0.29149511456489563, 0.23612743616104126, 0.23080605268478394, 0.20103003084659576, 0.19194291532039642, 0.1842532902956009, 0.17906726896762848, 0.17455284297466278, 0.1455581933259964, 0.13686373829841614, 0.13336674869060516, 0.13244307041168213, 0.11647778749465942, 0.14886096119880676, 0.12793797254562378, 0.11386243253946304, 0.13456904888153076, 0.15282484889030457, 0.12153083086013794, 0.11519382894039154, 0.1155763640999794, 0.13714388012886047, 0.10164609551429749, 0.08459282666444778, 0.08471813797950745, 0.06966181844472885, 0.07568404823541641, 0.07424294948577881, 0.08866379410028458, 0.07025573402643204, 0.07817528396844864, 0.0701940506696701, 0.07844710350036621, 0.08025295287370682, 0.062420014292001724, 0.061355993151664734, 0.057750675827264786, 0.057575106620788574, 0.04982522130012512, 0.044532597064971924, 0.048905692994594574, 0.04696153849363327, 0.04259802773594856, 0.047255225479602814, 0.056495338678359985, 0.04990703612565994, 0.04643547907471657, 0.042865362018346786, 0.04288814961910248, 0.04436589777469635, 0.04517987743020058, 0.041710495948791504, 0.04661359265446663, 0.04160488024353981, 0.04096968472003937, 0.046271052211523056, 0.03973149135708809, 0.041139595210552216, 0.04122800752520561, 0.035486701875925064, 0.03725370019674301, 0.03603265807032585, 0.03826461732387543, 0.032709814608097076, 0.03478812798857689, 0.03550516068935394, 0.03829624876379967, 0.04681606963276863, 0.03429353982210159, 0.0368504673242569, 0.037229325622320175, 0.04052235186100006, 0.03927614539861679, 0.03580756485462189, 0.03401106968522072, 0.030186545103788376, 0.03434083238244057, 0.03402598947286606, 0.028554052114486694, 0.03466999530792236, 0.03355105593800545, 0.03629458695650101, 0.03928973898291588, 0.03702683746814728, 0.03234809264540672, 0.03220561146736145, 0.03518744558095932, 0.027059227228164673, 0.02951541729271412, 0.031332384794950485, 0.028872625902295113, 0.030698655173182487, 0.02942788042128086, 0.027642300352454185, 0.028645921498537064, 0.02748652920126915, 0.026092732325196266, 0.029371757060289383, 0.031105894595384598, 0.029580267146229744, 0.032843995839357376, 0.034863803535699844, 0.03200003132224083, 0.027817577123641968, 0.031371764838695526, 0.03039652854204178, 0.02847994491457939, 0.02533491887152195, 0.0270441435277462, 0.026353148743510246, 0.024382134899497032, 0.025056492537260056, 0.025164280086755753, 0.027748622000217438, 0.024405742064118385, 0.02610136568546295, 0.029810801148414612, 0.03603962063789368, 0.033671990036964417, 0.02799764834344387, 0.0240053441375494, 0.025361856445670128, 0.029486127197742462, 0.02559521794319153, 0.0264901090413332, 0.02365766651928425, 0.023666393011808395, 0.022679809480905533, 0.02203027345240116, 0.023113463073968887, 0.023439109325408936, 0.03136672452092171, 0.0261697955429554, 0.03786300867795944, 0.05435458943247795, 0.04424677789211273, 0.05265568941831589, 0.04750516265630722, 0.05594945698976517, 0.06204613670706749, 0.04883207753300667, 0.044969167560338974, 0.03110990859568119, 0.0316147580742836, 0.0330125093460083, 0.030627379193902016, 0.025110317394137383, 0.029955841600894928, 0.0239980798214674, 0.024397991597652435, 0.025372963398694992, 0.029618553817272186, 0.027165018022060394, 0.025728825479745865, 0.023762045428156853, 0.026236217468976974, 0.024369947612285614, 0.030241064727306366, 0.025398461148142815, 0.02367527037858963, 0.02276986464858055, 0.02298296056687832, 0.024287551641464233, 0.02340054139494896, 0.021986858919262886, 0.025163277983665466, 0.021735236048698425, 0.02590024285018444, 0.021482029929757118, 0.021250203251838684, 0.02093523181974888, 0.020618537440896034, 0.02564268559217453, 0.022104069590568542, 0.022335421293973923, 0.021278835833072662, 0.019983593374490738, 0.019841015338897705, 0.01965528540313244, 0.019485533237457275, 0.02018185704946518, 0.01958778314292431, 0.018828948959708214, 0.01949107088148594, 0.018817394971847534, 0.019880585372447968, 0.020686989650130272, 0.01985229179263115, 0.018324119970202446, 0.019842488691210747, 0.020096665248274803, 0.0197660643607378, 0.018052401021122932, 0.019808081910014153, 0.018154693767428398, 0.018574470654129982, 0.01926286518573761, 0.018544042482972145, 0.01833445206284523, 0.018692636862397194, 0.018861206248402596, 0.02040468342602253, 0.018937863409519196, 0.017652494832873344, 0.017433326691389084, 0.01690058410167694, 0.017024585977196693, 0.016646623611450195, 0.016148462891578674, 0.01769109256565571, 0.017680836841464043, 0.01766560599207878, 0.017663339152932167, 0.02677052840590477, 0.1263013482093811, 0.7139096260070801, 0.345188170671463, 0.315510094165802, 0.20537462830543518, 0.15014544129371643, 0.13788989186286926, 0.10950899124145508, 0.1355132907629013, 0.08512885868549347, 0.07164006680250168, 0.061931122094392776, 0.057481780648231506, 0.04928884655237198, 0.04680297151207924, 0.04009632766246796, 0.046071577817201614, 0.0383041612803936, 0.03396309167146683, 0.034459590911865234, 0.03604390099644661, 0.03515613451600075, 0.03767385333776474, 0.03011523000895977, 0.031867653131484985, 0.032503336668014526, 0.03698213770985603, 0.031788717955350876, 0.03018246404826641, 0.03344951570034027, 0.029283009469509125, 0.029067756608128548, 0.02981739491224289, 0.029130561277270317, 0.028143903240561485, 0.02579648047685623, 0.0256110280752182, 0.026418959721922874, 0.030386973172426224, 0.02432025969028473, 0.027218148112297058, 0.029601657763123512, 0.0249019805341959, 0.027449801564216614, 0.02395835518836975, 0.02379659190773964, 0.025098426267504692, 0.024637678638100624, 0.02316395752131939, 0.024658508598804474, 0.024404030293226242, 0.025716831907629967, 0.023981427773833275, 0.023912321776151657, 0.023451058194041252, 0.02589624747633934, 0.0235540010035038, 0.022788412868976593, 0.02269669994711876, 0.022290240973234177, 0.02356983907520771, 0.02583003230392933, 0.02327227219939232, 0.02238301932811737]}, {\"mode\": \"lines\", \"type\": \"scatter\", \"x\": [0, 1, 2, 3, 4, 5, 6, 7, 8, 9, 10, 11, 12, 13, 14, 15, 16, 17, 18, 19, 20, 21, 22, 23, 24, 25, 26, 27, 28, 29, 30, 31, 32, 33, 34, 35, 36, 37, 38, 39, 40, 41, 42, 43, 44, 45, 46, 47, 48, 49, 50, 51, 52, 53, 54, 55, 56, 57, 58, 59, 60, 61, 62, 63, 64, 65, 66, 67, 68, 69, 70, 71, 72, 73, 74, 75, 76, 77, 78, 79, 80, 81, 82, 83, 84, 85, 86, 87, 88, 89, 90, 91, 92, 93, 94, 95, 96, 97, 98, 99, 100, 101, 102, 103, 104, 105, 106, 107, 108, 109, 110, 111, 112, 113, 114, 115, 116, 117, 118, 119, 120, 121, 122, 123, 124, 125, 126, 127, 128, 129, 130, 131, 132, 133, 134, 135, 136, 137, 138, 139, 140, 141, 142, 143, 144, 145, 146, 147, 148, 149, 150, 151, 152, 153, 154, 155, 156, 157, 158, 159, 160, 161, 162, 163, 164, 165, 166, 167, 168, 169, 170, 171, 172, 173, 174, 175, 176, 177, 178, 179, 180, 181, 182, 183, 184, 185, 186, 187, 188, 189, 190, 191, 192, 193, 194, 195, 196, 197, 198, 199, 200, 201, 202, 203, 204, 205, 206, 207, 208, 209, 210, 211, 212, 213, 214, 215, 216, 217, 218, 219, 220, 221, 222, 223, 224, 225, 226, 227, 228, 229, 230, 231, 232, 233, 234, 235, 236, 237, 238, 239, 240, 241, 242, 243, 244, 245, 246, 247, 248, 249, 250, 251, 252, 253, 254, 255, 256, 257, 258, 259, 260, 261, 262, 263, 264, 265, 266, 267, 268, 269, 270, 271, 272, 273, 274, 275, 276, 277, 278, 279, 280, 281, 282, 283, 284, 285, 286, 287, 288, 289, 290, 291, 292, 293, 294, 295, 296, 297, 298, 299], \"y\": [0.7196481823921204, 0.984286367893219, 0.7783605456352234, 0.9941491484642029, 0.7985215783119202, 0.8499481678009033, 0.8386261463165283, 0.7592452764511108, 0.6862417459487915, 0.5539892315864563, 1.0264769792556763, 0.6726934909820557, 0.726857602596283, 0.7235939502716064, 0.6266430616378784, 0.8047577142715454, 0.55563884973526, 0.5892768502235413, 0.8220021724700928, 0.46249309182167053, 0.4567199647426605, 0.9255692362785339, 0.5025109648704529, 0.7519494891166687, 0.5537611842155457, 0.5393792986869812, 0.47263121604919434, 0.7853149175643921, 0.5625804662704468, 0.5507249236106873, 0.5641655921936035, 0.5073707699775696, 0.4544406831264496, 0.485778272151947, 0.5794884562492371, 1.0017056465148926, 0.4326339066028595, 0.5524733662605286, 0.976421594619751, 0.5125671625137329, 0.5246201753616333, 0.6937075257301331, 0.4188939332962036, 0.8745737671852112, 0.401986300945282, 0.7378883361816406, 0.5733197331428528, 0.5852868556976318, 0.47556233406066895, 0.9760381579399109, 0.42456942796707153, 0.8390015959739685, 0.44605788588523865, 0.9821690917015076, 0.47983866930007935, 0.7811638116836548, 0.5177820324897766, 0.5812817215919495, 0.6077631115913391, 0.6397338509559631, 0.5784568190574646, 0.5645655989646912, 0.6552627086639404, 0.5875239968299866, 0.6863760352134705, 0.5096027851104736, 0.7895603775978088, 0.5150547027587891, 0.7853187322616577, 0.6357649564743042, 0.6304545998573303, 0.5837209820747375, 0.5509986281394958, 0.6208904385566711, 0.5537233948707581, 0.6300057172775269, 0.8562065362930298, 0.5987557768821716, 0.7516089081764221, 0.49809160828590393, 0.6772859692573547, 0.542334258556366, 0.5194175839424133, 0.689171552658081, 0.5422670841217041, 0.5529773235321045, 0.532630980014801, 0.6860576868057251, 0.5707290768623352, 0.5984041094779968, 0.9117739796638489, 0.5359647274017334, 0.7203552722930908, 0.5897190570831299, 0.7518153190612793, 0.6252901554107666, 0.532447338104248, 0.678661584854126, 0.6158945560455322, 0.5561882853507996, 0.839745283126831, 0.5389286875724792, 0.6623536944389343, 0.5477330088615417, 0.739522397518158, 0.6533327698707581, 0.49626800417900085, 0.6803555488586426, 0.6160507202148438, 0.5340239405632019, 0.6469999551773071, 0.5367772579193115, 0.673047661781311, 0.5625203847885132, 0.5398248434066772, 0.7413540482521057, 0.5825983285903931, 0.5504047870635986, 0.6350343227386475, 0.6596676707267761, 0.6489146947860718, 0.765278160572052, 0.5390319228172302, 0.8801283836364746, 0.5816766023635864, 0.5103423595428467, 0.79436856508255, 0.5248097777366638, 0.5112324357032776, 0.7508689761161804, 0.6241929531097412, 0.6260180473327637, 0.7325829863548279, 0.6080643534660339, 0.5636643767356873, 0.7704188823699951, 0.8522392511367798, 0.5645084381103516, 1.2776858806610107, 0.5963391065597534, 0.8002095222473145, 0.7158908247947693, 0.5959364771842957, 0.7177720069885254, 0.7895455360412598, 0.6174225211143494, 0.7448275685310364, 0.7922858595848083, 0.6268912553787231, 0.6317977905273438, 0.6474300622940063, 0.6445731520652771, 0.6228036284446716, 0.46836844086647034, 0.880267858505249, 0.6911702156066895, 0.644914984703064, 1.4493831396102905, 0.4911184310913086, 1.6499370336532593, 0.6020346283912659, 0.43743184208869934, 0.6960634589195251, 1.102550983428955, 0.6130647659301758, 0.6448671221733093, 0.8964720368385315, 0.77105313539505, 0.6196233034133911, 0.6479732990264893, 0.7428596019744873, 0.5760864615440369, 0.6850610375404358, 1.0108928680419922, 0.6770822405815125, 0.6516489386558533, 0.8204600811004639, 0.8247629404067993, 0.6394144892692566, 0.8776031732559204, 1.1030547618865967, 0.6544149518013, 0.5960578322410583, 0.8665280938148499, 0.9116626977920532, 0.6665861010551453, 0.6177762150764465, 0.7025328278541565, 0.8354008197784424, 0.7015575170516968, 0.6928737163543701, 0.6496235132217407, 0.6598924398422241, 0.797193169593811, 0.8585684299468994, 0.7589158415794373, 0.6840320825576782, 0.6774805188179016, 0.6752962470054626, 0.713789165019989, 0.8070743083953857, 0.8408138155937195, 0.8524759411811829, 0.7612497210502625, 0.7271745800971985, 0.7226955890655518, 0.7743581533432007, 0.7790766954421997, 0.6912639141082764, 0.7205463647842407, 0.7208291888237, 0.7048746347427368, 0.7513710260391235, 0.7400065064430237, 0.7323631048202515, 0.7246555089950562, 0.6982234120368958, 0.7574083209037781, 0.8030291795730591, 0.7062894701957703, 0.7075833082199097, 0.8580721020698547, 0.757951021194458, 0.7003687024116516, 0.8179956078529358, 0.8734466433525085, 0.7752900123596191, 0.7429006695747375, 0.7983700633049011, 0.8772105574607849, 0.8469549417495728, 0.7631601691246033, 0.7315139174461365, 0.7232740521430969, 0.6597511768341064, 1.128132939338684, 2.0915513038635254, 0.816426157951355, 1.6347044706344604, 0.5719360709190369, 0.6881763339042664, 0.7877826690673828, 0.5963972806930542, 0.8903663158416748, 0.6554051041603088, 0.5608189702033997, 0.7065159678459167, 0.7069002389907837, 0.6667324304580688, 0.7367995977401733, 0.7040197253227234, 0.7022750377655029, 0.7175338268280029, 0.8117473125457764, 0.7749288082122803, 0.7321820259094238, 0.764869749546051, 0.9443109631538391, 0.7408189177513123, 0.6275333166122437, 0.7080444097518921, 0.8810492157936096, 0.7720988988876343, 0.7139095067977905, 0.7095606327056885, 0.6442846059799194, 0.6238542795181274, 0.696352481842041, 0.7486076951026917, 0.7706127166748047, 0.7909554839134216, 0.7854483127593994, 0.7357410192489624, 0.7143377065658569, 0.6956274509429932, 0.713524580001831, 0.7519716620445251, 0.7567321062088013, 0.7366396188735962, 0.7898709774017334, 0.8034259676933289, 0.7364908456802368, 0.6986725330352783, 0.7174510359764099, 0.7207181453704834, 0.7413350939750671, 0.742706835269928, 0.6858161687850952, 0.6795549988746643, 0.7155652642250061, 0.7217077016830444, 0.7451592087745667, 0.7295632362365723, 0.7087106108665466, 0.6991414427757263, 0.7067818641662598, 0.7276074886322021, 0.7185913324356079, 0.6876413226127625, 0.7028385996818542]}],\n",
              "                        {\"template\": {\"data\": {\"bar\": [{\"error_x\": {\"color\": \"#2a3f5f\"}, \"error_y\": {\"color\": \"#2a3f5f\"}, \"marker\": {\"line\": {\"color\": \"#E5ECF6\", \"width\": 0.5}}, \"type\": \"bar\"}], \"barpolar\": [{\"marker\": {\"line\": {\"color\": \"#E5ECF6\", \"width\": 0.5}}, \"type\": \"barpolar\"}], \"carpet\": [{\"aaxis\": {\"endlinecolor\": \"#2a3f5f\", \"gridcolor\": \"white\", \"linecolor\": \"white\", \"minorgridcolor\": \"white\", \"startlinecolor\": \"#2a3f5f\"}, \"baxis\": {\"endlinecolor\": \"#2a3f5f\", \"gridcolor\": \"white\", \"linecolor\": \"white\", \"minorgridcolor\": \"white\", \"startlinecolor\": \"#2a3f5f\"}, \"type\": \"carpet\"}], \"choropleth\": [{\"colorbar\": {\"outlinewidth\": 0, \"ticks\": \"\"}, \"type\": \"choropleth\"}], \"contour\": [{\"colorbar\": {\"outlinewidth\": 0, \"ticks\": \"\"}, \"colorscale\": [[0.0, \"#0d0887\"], [0.1111111111111111, \"#46039f\"], [0.2222222222222222, \"#7201a8\"], [0.3333333333333333, \"#9c179e\"], [0.4444444444444444, \"#bd3786\"], [0.5555555555555556, \"#d8576b\"], [0.6666666666666666, \"#ed7953\"], [0.7777777777777778, \"#fb9f3a\"], [0.8888888888888888, \"#fdca26\"], [1.0, \"#f0f921\"]], \"type\": \"contour\"}], \"contourcarpet\": [{\"colorbar\": {\"outlinewidth\": 0, \"ticks\": \"\"}, \"type\": \"contourcarpet\"}], \"heatmap\": [{\"colorbar\": {\"outlinewidth\": 0, \"ticks\": \"\"}, \"colorscale\": [[0.0, \"#0d0887\"], [0.1111111111111111, \"#46039f\"], [0.2222222222222222, \"#7201a8\"], [0.3333333333333333, \"#9c179e\"], [0.4444444444444444, \"#bd3786\"], [0.5555555555555556, \"#d8576b\"], [0.6666666666666666, \"#ed7953\"], [0.7777777777777778, \"#fb9f3a\"], [0.8888888888888888, \"#fdca26\"], [1.0, \"#f0f921\"]], \"type\": \"heatmap\"}], \"heatmapgl\": [{\"colorbar\": {\"outlinewidth\": 0, \"ticks\": \"\"}, \"colorscale\": [[0.0, \"#0d0887\"], [0.1111111111111111, \"#46039f\"], [0.2222222222222222, \"#7201a8\"], [0.3333333333333333, \"#9c179e\"], [0.4444444444444444, \"#bd3786\"], [0.5555555555555556, \"#d8576b\"], [0.6666666666666666, \"#ed7953\"], [0.7777777777777778, \"#fb9f3a\"], [0.8888888888888888, \"#fdca26\"], [1.0, \"#f0f921\"]], \"type\": \"heatmapgl\"}], \"histogram\": [{\"marker\": {\"colorbar\": {\"outlinewidth\": 0, \"ticks\": \"\"}}, \"type\": \"histogram\"}], \"histogram2d\": [{\"colorbar\": {\"outlinewidth\": 0, \"ticks\": \"\"}, \"colorscale\": [[0.0, \"#0d0887\"], [0.1111111111111111, \"#46039f\"], [0.2222222222222222, \"#7201a8\"], [0.3333333333333333, \"#9c179e\"], [0.4444444444444444, \"#bd3786\"], [0.5555555555555556, \"#d8576b\"], [0.6666666666666666, \"#ed7953\"], [0.7777777777777778, \"#fb9f3a\"], [0.8888888888888888, \"#fdca26\"], [1.0, \"#f0f921\"]], \"type\": \"histogram2d\"}], \"histogram2dcontour\": [{\"colorbar\": {\"outlinewidth\": 0, \"ticks\": \"\"}, \"colorscale\": [[0.0, \"#0d0887\"], [0.1111111111111111, \"#46039f\"], [0.2222222222222222, \"#7201a8\"], [0.3333333333333333, \"#9c179e\"], [0.4444444444444444, \"#bd3786\"], [0.5555555555555556, \"#d8576b\"], [0.6666666666666666, \"#ed7953\"], [0.7777777777777778, \"#fb9f3a\"], [0.8888888888888888, \"#fdca26\"], [1.0, \"#f0f921\"]], \"type\": \"histogram2dcontour\"}], \"mesh3d\": [{\"colorbar\": {\"outlinewidth\": 0, \"ticks\": \"\"}, \"type\": \"mesh3d\"}], \"parcoords\": [{\"line\": {\"colorbar\": {\"outlinewidth\": 0, \"ticks\": \"\"}}, \"type\": \"parcoords\"}], \"pie\": [{\"automargin\": true, \"type\": \"pie\"}], \"scatter\": [{\"marker\": {\"colorbar\": {\"outlinewidth\": 0, \"ticks\": \"\"}}, \"type\": \"scatter\"}], \"scatter3d\": [{\"line\": {\"colorbar\": {\"outlinewidth\": 0, \"ticks\": \"\"}}, \"marker\": {\"colorbar\": {\"outlinewidth\": 0, \"ticks\": \"\"}}, \"type\": \"scatter3d\"}], \"scattercarpet\": [{\"marker\": {\"colorbar\": {\"outlinewidth\": 0, \"ticks\": \"\"}}, \"type\": \"scattercarpet\"}], \"scattergeo\": [{\"marker\": {\"colorbar\": {\"outlinewidth\": 0, \"ticks\": \"\"}}, \"type\": \"scattergeo\"}], \"scattergl\": [{\"marker\": {\"colorbar\": {\"outlinewidth\": 0, \"ticks\": \"\"}}, \"type\": \"scattergl\"}], \"scattermapbox\": [{\"marker\": {\"colorbar\": {\"outlinewidth\": 0, \"ticks\": \"\"}}, \"type\": \"scattermapbox\"}], \"scatterpolar\": [{\"marker\": {\"colorbar\": {\"outlinewidth\": 0, \"ticks\": \"\"}}, \"type\": \"scatterpolar\"}], \"scatterpolargl\": [{\"marker\": {\"colorbar\": {\"outlinewidth\": 0, \"ticks\": \"\"}}, \"type\": \"scatterpolargl\"}], \"scatterternary\": [{\"marker\": {\"colorbar\": {\"outlinewidth\": 0, \"ticks\": \"\"}}, \"type\": \"scatterternary\"}], \"surface\": [{\"colorbar\": {\"outlinewidth\": 0, \"ticks\": \"\"}, \"colorscale\": [[0.0, \"#0d0887\"], [0.1111111111111111, \"#46039f\"], [0.2222222222222222, \"#7201a8\"], [0.3333333333333333, \"#9c179e\"], [0.4444444444444444, \"#bd3786\"], [0.5555555555555556, \"#d8576b\"], [0.6666666666666666, \"#ed7953\"], [0.7777777777777778, \"#fb9f3a\"], [0.8888888888888888, \"#fdca26\"], [1.0, \"#f0f921\"]], \"type\": \"surface\"}], \"table\": [{\"cells\": {\"fill\": {\"color\": \"#EBF0F8\"}, \"line\": {\"color\": \"white\"}}, \"header\": {\"fill\": {\"color\": \"#C8D4E3\"}, \"line\": {\"color\": \"white\"}}, \"type\": \"table\"}]}, \"layout\": {\"annotationdefaults\": {\"arrowcolor\": \"#2a3f5f\", \"arrowhead\": 0, \"arrowwidth\": 1}, \"coloraxis\": {\"colorbar\": {\"outlinewidth\": 0, \"ticks\": \"\"}}, \"colorscale\": {\"diverging\": [[0, \"#8e0152\"], [0.1, \"#c51b7d\"], [0.2, \"#de77ae\"], [0.3, \"#f1b6da\"], [0.4, \"#fde0ef\"], [0.5, \"#f7f7f7\"], [0.6, \"#e6f5d0\"], [0.7, \"#b8e186\"], [0.8, \"#7fbc41\"], [0.9, \"#4d9221\"], [1, \"#276419\"]], \"sequential\": [[0.0, \"#0d0887\"], [0.1111111111111111, \"#46039f\"], [0.2222222222222222, \"#7201a8\"], [0.3333333333333333, \"#9c179e\"], [0.4444444444444444, \"#bd3786\"], [0.5555555555555556, \"#d8576b\"], [0.6666666666666666, \"#ed7953\"], [0.7777777777777778, \"#fb9f3a\"], [0.8888888888888888, \"#fdca26\"], [1.0, \"#f0f921\"]], \"sequentialminus\": [[0.0, \"#0d0887\"], [0.1111111111111111, \"#46039f\"], [0.2222222222222222, \"#7201a8\"], [0.3333333333333333, \"#9c179e\"], [0.4444444444444444, \"#bd3786\"], [0.5555555555555556, \"#d8576b\"], [0.6666666666666666, \"#ed7953\"], [0.7777777777777778, \"#fb9f3a\"], [0.8888888888888888, \"#fdca26\"], [1.0, \"#f0f921\"]]}, \"colorway\": [\"#636efa\", \"#EF553B\", \"#00cc96\", \"#ab63fa\", \"#FFA15A\", \"#19d3f3\", \"#FF6692\", \"#B6E880\", \"#FF97FF\", \"#FECB52\"], \"font\": {\"color\": \"#2a3f5f\"}, \"geo\": {\"bgcolor\": \"white\", \"lakecolor\": \"white\", \"landcolor\": \"#E5ECF6\", \"showlakes\": true, \"showland\": true, \"subunitcolor\": \"white\"}, \"hoverlabel\": {\"align\": \"left\"}, \"hovermode\": \"closest\", \"mapbox\": {\"style\": \"light\"}, \"paper_bgcolor\": \"white\", \"plot_bgcolor\": \"#E5ECF6\", \"polar\": {\"angularaxis\": {\"gridcolor\": \"white\", \"linecolor\": \"white\", \"ticks\": \"\"}, \"bgcolor\": \"#E5ECF6\", \"radialaxis\": {\"gridcolor\": \"white\", \"linecolor\": \"white\", \"ticks\": \"\"}}, \"scene\": {\"xaxis\": {\"backgroundcolor\": \"#E5ECF6\", \"gridcolor\": \"white\", \"gridwidth\": 2, \"linecolor\": \"white\", \"showbackground\": true, \"ticks\": \"\", \"zerolinecolor\": \"white\"}, \"yaxis\": {\"backgroundcolor\": \"#E5ECF6\", \"gridcolor\": \"white\", \"gridwidth\": 2, \"linecolor\": \"white\", \"showbackground\": true, \"ticks\": \"\", \"zerolinecolor\": \"white\"}, \"zaxis\": {\"backgroundcolor\": \"#E5ECF6\", \"gridcolor\": \"white\", \"gridwidth\": 2, \"linecolor\": \"white\", \"showbackground\": true, \"ticks\": \"\", \"zerolinecolor\": \"white\"}}, \"shapedefaults\": {\"line\": {\"color\": \"#2a3f5f\"}}, \"ternary\": {\"aaxis\": {\"gridcolor\": \"white\", \"linecolor\": \"white\", \"ticks\": \"\"}, \"baxis\": {\"gridcolor\": \"white\", \"linecolor\": \"white\", \"ticks\": \"\"}, \"bgcolor\": \"#E5ECF6\", \"caxis\": {\"gridcolor\": \"white\", \"linecolor\": \"white\", \"ticks\": \"\"}}, \"title\": {\"x\": 0.05}, \"xaxis\": {\"automargin\": true, \"gridcolor\": \"white\", \"linecolor\": \"white\", \"ticks\": \"\", \"title\": {\"standoff\": 15}, \"zerolinecolor\": \"white\", \"zerolinewidth\": 2}, \"yaxis\": {\"automargin\": true, \"gridcolor\": \"white\", \"linecolor\": \"white\", \"ticks\": \"\", \"title\": {\"standoff\": 15}, \"zerolinecolor\": \"white\", \"zerolinewidth\": 2}}}},\n",
              "                        {\"responsive\": true}\n",
              "                    ).then(function(){\n",
              "                            \n",
              "var gd = document.getElementById('04fc8ad1-31d8-49a9-aee0-de8f73b34db8');\n",
              "var x = new MutationObserver(function (mutations, observer) {{\n",
              "        var display = window.getComputedStyle(gd).display;\n",
              "        if (!display || display === 'none') {{\n",
              "            console.log([gd, 'removed!']);\n",
              "            Plotly.purge(gd);\n",
              "            observer.disconnect();\n",
              "        }}\n",
              "}});\n",
              "\n",
              "// Listen for the removal of the full notebook cells\n",
              "var notebookContainer = gd.closest('#notebook-container');\n",
              "if (notebookContainer) {{\n",
              "    x.observe(notebookContainer, {childList: true});\n",
              "}}\n",
              "\n",
              "// Listen for the clearing of the current output cell\n",
              "var outputEl = gd.closest('.output');\n",
              "if (outputEl) {{\n",
              "    x.observe(outputEl, {childList: true});\n",
              "}}\n",
              "\n",
              "                        })\n",
              "                };\n",
              "                \n",
              "            </script>\n",
              "        </div>\n",
              "</body>\n",
              "</html>"
            ]
          },
          "metadata": {
            "tags": []
          }
        }
      ]
    },
    {
      "cell_type": "code",
      "metadata": {
        "colab": {
          "base_uri": "https://localhost:8080/",
          "height": 542
        },
        "id": "2fad7b48",
        "outputId": "060b50e0-c151-4d04-d06c-744d1df51d5d"
      },
      "source": [
        "fig = go.Figure()\n",
        "fig.add_trace( go.Scatter(x= np.arange(len(history.history[\"accuracy\"])), y=history.history[\"accuracy\"], mode=\"lines\"))\n",
        "fig.add_trace(go.Scatter(x= np.arange(len(history.history[\"val_accuracy\"])), y=history.history[\"val_accuracy\"], mode=\"lines\"))\n",
        "fig.update_layout(dict(title=\"Accuracy\"))\n",
        "fig.show()"
      ],
      "id": "2fad7b48",
      "execution_count": 182,
      "outputs": [
        {
          "output_type": "display_data",
          "data": {
            "text/html": [
              "<html>\n",
              "<head><meta charset=\"utf-8\" /></head>\n",
              "<body>\n",
              "    <div>\n",
              "            <script src=\"https://cdnjs.cloudflare.com/ajax/libs/mathjax/2.7.5/MathJax.js?config=TeX-AMS-MML_SVG\"></script><script type=\"text/javascript\">if (window.MathJax) {MathJax.Hub.Config({SVG: {font: \"STIX-Web\"}});}</script>\n",
              "                <script type=\"text/javascript\">window.PlotlyConfig = {MathJaxConfig: 'local'};</script>\n",
              "        <script src=\"https://cdn.plot.ly/plotly-latest.min.js\"></script>    \n",
              "            <div id=\"c85e618f-5d24-44be-8d80-8737e17c6204\" class=\"plotly-graph-div\" style=\"height:525px; width:100%;\"></div>\n",
              "            <script type=\"text/javascript\">\n",
              "                \n",
              "                    window.PLOTLYENV=window.PLOTLYENV || {};\n",
              "                    \n",
              "                if (document.getElementById(\"c85e618f-5d24-44be-8d80-8737e17c6204\")) {\n",
              "                    Plotly.newPlot(\n",
              "                        'c85e618f-5d24-44be-8d80-8737e17c6204',\n",
              "                        [{\"mode\": \"lines\", \"type\": \"scatter\", \"x\": [0, 1, 2, 3, 4, 5, 6, 7, 8, 9, 10, 11, 12, 13, 14, 15, 16, 17, 18, 19, 20, 21, 22, 23, 24, 25, 26, 27, 28, 29, 30, 31, 32, 33, 34, 35, 36, 37, 38, 39, 40, 41, 42, 43, 44, 45, 46, 47, 48, 49, 50, 51, 52, 53, 54, 55, 56, 57, 58, 59, 60, 61, 62, 63, 64, 65, 66, 67, 68, 69, 70, 71, 72, 73, 74, 75, 76, 77, 78, 79, 80, 81, 82, 83, 84, 85, 86, 87, 88, 89, 90, 91, 92, 93, 94, 95, 96, 97, 98, 99, 100, 101, 102, 103, 104, 105, 106, 107, 108, 109, 110, 111, 112, 113, 114, 115, 116, 117, 118, 119, 120, 121, 122, 123, 124, 125, 126, 127, 128, 129, 130, 131, 132, 133, 134, 135, 136, 137, 138, 139, 140, 141, 142, 143, 144, 145, 146, 147, 148, 149, 150, 151, 152, 153, 154, 155, 156, 157, 158, 159, 160, 161, 162, 163, 164, 165, 166, 167, 168, 169, 170, 171, 172, 173, 174, 175, 176, 177, 178, 179, 180, 181, 182, 183, 184, 185, 186, 187, 188, 189, 190, 191, 192, 193, 194, 195, 196, 197, 198, 199, 200, 201, 202, 203, 204, 205, 206, 207, 208, 209, 210, 211, 212, 213, 214, 215, 216, 217, 218, 219, 220, 221, 222, 223, 224, 225, 226, 227, 228, 229, 230, 231, 232, 233, 234, 235, 236, 237, 238, 239, 240, 241, 242, 243, 244, 245, 246, 247, 248, 249, 250, 251, 252, 253, 254, 255, 256, 257, 258, 259, 260, 261, 262, 263, 264, 265, 266, 267, 268, 269, 270, 271, 272, 273, 274, 275, 276, 277, 278, 279, 280, 281, 282, 283, 284, 285, 286, 287, 288, 289, 290, 291, 292, 293, 294, 295, 296, 297, 298, 299], \"y\": [0.559808611869812, 0.6220095753669739, 0.6555023789405823, 0.6889952421188354, 0.6937798857688904, 0.7368420958518982, 0.7129186391830444, 0.7894737124443054, 0.7655502557754517, 0.7894737124443054, 0.779904305934906, 0.7320573925971985, 0.8229665160179138, 0.8133971095085144, 0.8564593195915222, 0.8755980730056763, 0.8564593195915222, 0.880382776260376, 0.9043062329292297, 0.8899521827697754, 0.8899521827697754, 0.8947368264198303, 0.8899521827697754, 0.9330143332481384, 0.9234449863433838, 0.9330143332481384, 0.9473684430122375, 0.9473684430122375, 0.9473684430122375, 0.9377990365028381, 0.9665071964263916, 0.9665071964263916, 0.9760765433311462, 0.9712918400764465, 0.9712918400764465, 0.9521530866622925, 0.9617224931716919, 0.9760765433311462, 0.9665071964263916, 0.9521530866622925, 0.9569377899169922, 0.9760765433311462, 0.980861246585846, 0.9665071964263916, 0.9856459498405457, 0.9952152967453003, 0.980861246585846, 0.9952152967453003, 0.9952152967453003, 1.0, 0.980861246585846, 0.9904305934906006, 0.9856459498405457, 0.9856459498405457, 0.9952152967453003, 0.9904305934906006, 1.0, 1.0, 0.9952152967453003, 0.9952152967453003, 0.9952152967453003, 1.0, 0.9952152967453003, 0.9952152967453003, 1.0, 1.0, 0.9904305934906006, 0.9952152967453003, 1.0, 1.0, 1.0, 1.0, 0.9952152967453003, 1.0, 1.0, 1.0, 1.0, 1.0, 1.0, 1.0, 0.9952152967453003, 1.0, 1.0, 1.0, 1.0, 1.0, 1.0, 1.0, 1.0, 0.9904305934906006, 1.0, 1.0, 1.0, 1.0, 0.9952152967453003, 1.0, 1.0, 1.0, 1.0, 1.0, 1.0, 1.0, 1.0, 0.9952152967453003, 0.9952152967453003, 1.0, 1.0, 1.0, 1.0, 1.0, 1.0, 1.0, 1.0, 1.0, 1.0, 1.0, 1.0, 1.0, 1.0, 1.0, 1.0, 1.0, 0.9952152967453003, 1.0, 1.0, 1.0, 1.0, 1.0, 1.0, 1.0, 1.0, 1.0, 1.0, 1.0, 1.0, 1.0, 1.0, 1.0, 0.9952152967453003, 1.0, 0.9952152967453003, 1.0, 1.0, 1.0, 1.0, 1.0, 1.0, 1.0, 1.0, 1.0, 1.0, 1.0, 1.0, 0.9952152967453003, 1.0, 0.9904305934906006, 0.9952152967453003, 0.9952152967453003, 0.9904305934906006, 0.9904305934906006, 0.9856459498405457, 0.9904305934906006, 1.0, 1.0, 1.0, 1.0, 1.0, 1.0, 1.0, 1.0, 1.0, 1.0, 1.0, 0.9952152967453003, 1.0, 1.0, 1.0, 1.0, 1.0, 1.0, 1.0, 1.0, 1.0, 1.0, 1.0, 1.0, 1.0, 1.0, 1.0, 1.0, 1.0, 1.0, 1.0, 1.0, 0.9952152967453003, 1.0, 1.0, 1.0, 1.0, 1.0, 1.0, 1.0, 1.0, 1.0, 1.0, 1.0, 1.0, 1.0, 1.0, 1.0, 1.0, 1.0, 1.0, 1.0, 1.0, 1.0, 1.0, 1.0, 1.0, 1.0, 1.0, 1.0, 1.0, 1.0, 1.0, 1.0, 1.0, 1.0, 1.0, 1.0, 1.0, 1.0, 1.0, 1.0, 1.0, 0.9952152967453003, 0.9521530866622925, 0.8708133697509766, 0.8421052694320679, 0.8612440228462219, 0.9473684430122375, 0.9760765433311462, 0.9617224931716919, 0.9760765433311462, 0.9569377899169922, 0.980861246585846, 1.0, 0.9952152967453003, 1.0, 0.9952152967453003, 0.9952152967453003, 1.0, 0.9952152967453003, 1.0, 1.0, 1.0, 1.0, 1.0, 1.0, 1.0, 1.0, 1.0, 1.0, 1.0, 1.0, 1.0, 1.0, 1.0, 1.0, 1.0, 1.0, 1.0, 1.0, 1.0, 0.9952152967453003, 1.0, 1.0, 0.9952152967453003, 1.0, 1.0, 1.0, 1.0, 1.0, 1.0, 1.0, 1.0, 1.0, 1.0, 1.0, 1.0, 1.0, 1.0, 1.0, 1.0, 1.0, 1.0, 1.0, 1.0, 1.0, 1.0]}, {\"mode\": \"lines\", \"type\": \"scatter\", \"x\": [0, 1, 2, 3, 4, 5, 6, 7, 8, 9, 10, 11, 12, 13, 14, 15, 16, 17, 18, 19, 20, 21, 22, 23, 24, 25, 26, 27, 28, 29, 30, 31, 32, 33, 34, 35, 36, 37, 38, 39, 40, 41, 42, 43, 44, 45, 46, 47, 48, 49, 50, 51, 52, 53, 54, 55, 56, 57, 58, 59, 60, 61, 62, 63, 64, 65, 66, 67, 68, 69, 70, 71, 72, 73, 74, 75, 76, 77, 78, 79, 80, 81, 82, 83, 84, 85, 86, 87, 88, 89, 90, 91, 92, 93, 94, 95, 96, 97, 98, 99, 100, 101, 102, 103, 104, 105, 106, 107, 108, 109, 110, 111, 112, 113, 114, 115, 116, 117, 118, 119, 120, 121, 122, 123, 124, 125, 126, 127, 128, 129, 130, 131, 132, 133, 134, 135, 136, 137, 138, 139, 140, 141, 142, 143, 144, 145, 146, 147, 148, 149, 150, 151, 152, 153, 154, 155, 156, 157, 158, 159, 160, 161, 162, 163, 164, 165, 166, 167, 168, 169, 170, 171, 172, 173, 174, 175, 176, 177, 178, 179, 180, 181, 182, 183, 184, 185, 186, 187, 188, 189, 190, 191, 192, 193, 194, 195, 196, 197, 198, 199, 200, 201, 202, 203, 204, 205, 206, 207, 208, 209, 210, 211, 212, 213, 214, 215, 216, 217, 218, 219, 220, 221, 222, 223, 224, 225, 226, 227, 228, 229, 230, 231, 232, 233, 234, 235, 236, 237, 238, 239, 240, 241, 242, 243, 244, 245, 246, 247, 248, 249, 250, 251, 252, 253, 254, 255, 256, 257, 258, 259, 260, 261, 262, 263, 264, 265, 266, 267, 268, 269, 270, 271, 272, 273, 274, 275, 276, 277, 278, 279, 280, 281, 282, 283, 284, 285, 286, 287, 288, 289, 290, 291, 292, 293, 294, 295, 296, 297, 298, 299], \"y\": [0.4000000059604645, 0.3400000035762787, 0.3400000035762787, 0.3400000035762787, 0.6600000262260437, 0.6600000262260437, 0.6399999856948853, 0.6200000047683716, 0.6800000071525574, 0.800000011920929, 0.3400000035762787, 0.6600000262260437, 0.6000000238418579, 0.6200000047683716, 0.6800000071525574, 0.5600000023841858, 0.7400000095367432, 0.7400000095367432, 0.6200000047683716, 0.8199999928474426, 0.8199999928474426, 0.5799999833106995, 0.8199999928474426, 0.6800000071525574, 0.800000011920929, 0.800000011920929, 0.8399999737739563, 0.6600000262260437, 0.7799999713897705, 0.7799999713897705, 0.7799999713897705, 0.800000011920929, 0.8399999737739563, 0.8199999928474426, 0.7799999713897705, 0.6200000047683716, 0.8199999928474426, 0.8199999928474426, 0.6399999856948853, 0.800000011920929, 0.8199999928474426, 0.7799999713897705, 0.800000011920929, 0.6600000262260437, 0.8199999928474426, 0.699999988079071, 0.7799999713897705, 0.7799999713897705, 0.8399999737739563, 0.6600000262260437, 0.8199999928474426, 0.7400000095367432, 0.8199999928474426, 0.6399999856948853, 0.8399999737739563, 0.7799999713897705, 0.8399999737739563, 0.8199999928474426, 0.8199999928474426, 0.7799999713897705, 0.800000011920929, 0.8199999928474426, 0.8399999737739563, 0.8199999928474426, 0.8199999928474426, 0.8199999928474426, 0.800000011920929, 0.8199999928474426, 0.8199999928474426, 0.8199999928474426, 0.800000011920929, 0.8399999737739563, 0.8199999928474426, 0.800000011920929, 0.8399999737739563, 0.7799999713897705, 0.800000011920929, 0.8199999928474426, 0.8399999737739563, 0.8399999737739563, 0.8199999928474426, 0.8399999737739563, 0.8199999928474426, 0.800000011920929, 0.8399999737739563, 0.8399999737739563, 0.8199999928474426, 0.8199999928474426, 0.8199999928474426, 0.8199999928474426, 0.800000011920929, 0.8399999737739563, 0.8399999737739563, 0.8399999737739563, 0.8199999928474426, 0.8600000143051147, 0.8399999737739563, 0.8399999737739563, 0.8399999737739563, 0.8399999737739563, 0.800000011920929, 0.8199999928474426, 0.8399999737739563, 0.800000011920929, 0.8199999928474426, 0.8399999737739563, 0.8199999928474426, 0.800000011920929, 0.800000011920929, 0.8399999737739563, 0.8199999928474426, 0.8399999737739563, 0.8199999928474426, 0.8199999928474426, 0.8199999928474426, 0.8199999928474426, 0.8199999928474426, 0.8199999928474426, 0.8399999737739563, 0.8399999737739563, 0.8199999928474426, 0.800000011920929, 0.8399999737739563, 0.800000011920929, 0.8199999928474426, 0.8199999928474426, 0.8199999928474426, 0.800000011920929, 0.800000011920929, 0.800000011920929, 0.8399999737739563, 0.8399999737739563, 0.800000011920929, 0.8199999928474426, 0.800000011920929, 0.8199999928474426, 0.800000011920929, 0.800000011920929, 0.6600000262260437, 0.8199999928474426, 0.7799999713897705, 0.8199999928474426, 0.800000011920929, 0.8399999737739563, 0.8199999928474426, 0.8399999737739563, 0.800000011920929, 0.7799999713897705, 0.8199999928474426, 0.8399999737739563, 0.8199999928474426, 0.8199999928474426, 0.8399999737739563, 0.8199999928474426, 0.7400000095367432, 0.800000011920929, 0.8399999737739563, 0.7200000286102295, 0.8399999737739563, 0.6200000047683716, 0.8399999737739563, 0.8600000143051147, 0.8399999737739563, 0.7599999904632568, 0.8399999737739563, 0.8199999928474426, 0.8399999737739563, 0.8600000143051147, 0.8199999928474426, 0.8399999737739563, 0.8399999737739563, 0.8399999737739563, 0.8199999928474426, 0.800000011920929, 0.800000011920929, 0.800000011920929, 0.8199999928474426, 0.8199999928474426, 0.800000011920929, 0.800000011920929, 0.8399999737739563, 0.8199999928474426, 0.800000011920929, 0.8199999928474426, 0.8199999928474426, 0.800000011920929, 0.800000011920929, 0.800000011920929, 0.7799999713897705, 0.800000011920929, 0.800000011920929, 0.800000011920929, 0.800000011920929, 0.800000011920929, 0.800000011920929, 0.800000011920929, 0.800000011920929, 0.800000011920929, 0.800000011920929, 0.800000011920929, 0.800000011920929, 0.800000011920929, 0.800000011920929, 0.8399999737739563, 0.8199999928474426, 0.8199999928474426, 0.800000011920929, 0.8199999928474426, 0.8199999928474426, 0.8199999928474426, 0.800000011920929, 0.800000011920929, 0.800000011920929, 0.8199999928474426, 0.8199999928474426, 0.8199999928474426, 0.8199999928474426, 0.8199999928474426, 0.800000011920929, 0.8199999928474426, 0.8199999928474426, 0.7799999713897705, 0.800000011920929, 0.8199999928474426, 0.800000011920929, 0.7799999713897705, 0.800000011920929, 0.8199999928474426, 0.800000011920929, 0.800000011920929, 0.800000011920929, 0.8199999928474426, 0.800000011920929, 0.800000011920929, 0.8199999928474426, 0.7200000286102295, 0.6200000047683716, 0.7599999904632568, 0.47999998927116394, 0.7799999713897705, 0.699999988079071, 0.7400000095367432, 0.7599999904632568, 0.7200000286102295, 0.7599999904632568, 0.7599999904632568, 0.800000011920929, 0.800000011920929, 0.800000011920929, 0.7799999713897705, 0.800000011920929, 0.8199999928474426, 0.800000011920929, 0.7799999713897705, 0.8199999928474426, 0.8199999928474426, 0.8199999928474426, 0.7599999904632568, 0.800000011920929, 0.8399999737739563, 0.8399999737739563, 0.7599999904632568, 0.7599999904632568, 0.8199999928474426, 0.8199999928474426, 0.8399999737739563, 0.8399999737739563, 0.8399999737739563, 0.8399999737739563, 0.8399999737739563, 0.8399999737739563, 0.8399999737739563, 0.8399999737739563, 0.8600000143051147, 0.8399999737739563, 0.8399999737739563, 0.8399999737739563, 0.8399999737739563, 0.8399999737739563, 0.8399999737739563, 0.8399999737739563, 0.8799999952316284, 0.8399999737739563, 0.8399999737739563, 0.8399999737739563, 0.8399999737739563, 0.8399999737739563, 0.8399999737739563, 0.8399999737739563, 0.8399999737739563, 0.8600000143051147, 0.8199999928474426, 0.8600000143051147, 0.8399999737739563, 0.8399999737739563, 0.8399999737739563, 0.8399999737739563, 0.8399999737739563, 0.8399999737739563, 0.8399999737739563]}],\n",
              "                        {\"template\": {\"data\": {\"bar\": [{\"error_x\": {\"color\": \"#2a3f5f\"}, \"error_y\": {\"color\": \"#2a3f5f\"}, \"marker\": {\"line\": {\"color\": \"#E5ECF6\", \"width\": 0.5}}, \"type\": \"bar\"}], \"barpolar\": [{\"marker\": {\"line\": {\"color\": \"#E5ECF6\", \"width\": 0.5}}, \"type\": \"barpolar\"}], \"carpet\": [{\"aaxis\": {\"endlinecolor\": \"#2a3f5f\", \"gridcolor\": \"white\", \"linecolor\": \"white\", \"minorgridcolor\": \"white\", \"startlinecolor\": \"#2a3f5f\"}, \"baxis\": {\"endlinecolor\": \"#2a3f5f\", \"gridcolor\": \"white\", \"linecolor\": \"white\", \"minorgridcolor\": \"white\", \"startlinecolor\": \"#2a3f5f\"}, \"type\": \"carpet\"}], \"choropleth\": [{\"colorbar\": {\"outlinewidth\": 0, \"ticks\": \"\"}, \"type\": \"choropleth\"}], \"contour\": [{\"colorbar\": {\"outlinewidth\": 0, \"ticks\": \"\"}, \"colorscale\": [[0.0, \"#0d0887\"], [0.1111111111111111, \"#46039f\"], [0.2222222222222222, \"#7201a8\"], [0.3333333333333333, \"#9c179e\"], [0.4444444444444444, \"#bd3786\"], [0.5555555555555556, \"#d8576b\"], [0.6666666666666666, \"#ed7953\"], [0.7777777777777778, \"#fb9f3a\"], [0.8888888888888888, \"#fdca26\"], [1.0, \"#f0f921\"]], \"type\": \"contour\"}], \"contourcarpet\": [{\"colorbar\": {\"outlinewidth\": 0, \"ticks\": \"\"}, \"type\": \"contourcarpet\"}], \"heatmap\": [{\"colorbar\": {\"outlinewidth\": 0, \"ticks\": \"\"}, \"colorscale\": [[0.0, \"#0d0887\"], [0.1111111111111111, \"#46039f\"], [0.2222222222222222, \"#7201a8\"], [0.3333333333333333, \"#9c179e\"], [0.4444444444444444, \"#bd3786\"], [0.5555555555555556, \"#d8576b\"], [0.6666666666666666, \"#ed7953\"], [0.7777777777777778, \"#fb9f3a\"], [0.8888888888888888, \"#fdca26\"], [1.0, \"#f0f921\"]], \"type\": \"heatmap\"}], \"heatmapgl\": [{\"colorbar\": {\"outlinewidth\": 0, \"ticks\": \"\"}, \"colorscale\": [[0.0, \"#0d0887\"], [0.1111111111111111, \"#46039f\"], [0.2222222222222222, \"#7201a8\"], [0.3333333333333333, \"#9c179e\"], [0.4444444444444444, \"#bd3786\"], [0.5555555555555556, \"#d8576b\"], [0.6666666666666666, \"#ed7953\"], [0.7777777777777778, \"#fb9f3a\"], [0.8888888888888888, \"#fdca26\"], [1.0, \"#f0f921\"]], \"type\": \"heatmapgl\"}], \"histogram\": [{\"marker\": {\"colorbar\": {\"outlinewidth\": 0, \"ticks\": \"\"}}, \"type\": \"histogram\"}], \"histogram2d\": [{\"colorbar\": {\"outlinewidth\": 0, \"ticks\": \"\"}, \"colorscale\": [[0.0, \"#0d0887\"], [0.1111111111111111, \"#46039f\"], [0.2222222222222222, \"#7201a8\"], [0.3333333333333333, \"#9c179e\"], [0.4444444444444444, \"#bd3786\"], [0.5555555555555556, \"#d8576b\"], [0.6666666666666666, \"#ed7953\"], [0.7777777777777778, \"#fb9f3a\"], [0.8888888888888888, \"#fdca26\"], [1.0, \"#f0f921\"]], \"type\": \"histogram2d\"}], \"histogram2dcontour\": [{\"colorbar\": {\"outlinewidth\": 0, \"ticks\": \"\"}, \"colorscale\": [[0.0, \"#0d0887\"], [0.1111111111111111, \"#46039f\"], [0.2222222222222222, \"#7201a8\"], [0.3333333333333333, \"#9c179e\"], [0.4444444444444444, \"#bd3786\"], [0.5555555555555556, \"#d8576b\"], [0.6666666666666666, \"#ed7953\"], [0.7777777777777778, \"#fb9f3a\"], [0.8888888888888888, \"#fdca26\"], [1.0, \"#f0f921\"]], \"type\": \"histogram2dcontour\"}], \"mesh3d\": [{\"colorbar\": {\"outlinewidth\": 0, \"ticks\": \"\"}, \"type\": \"mesh3d\"}], \"parcoords\": [{\"line\": {\"colorbar\": {\"outlinewidth\": 0, \"ticks\": \"\"}}, \"type\": \"parcoords\"}], \"pie\": [{\"automargin\": true, \"type\": \"pie\"}], \"scatter\": [{\"marker\": {\"colorbar\": {\"outlinewidth\": 0, \"ticks\": \"\"}}, \"type\": \"scatter\"}], \"scatter3d\": [{\"line\": {\"colorbar\": {\"outlinewidth\": 0, \"ticks\": \"\"}}, \"marker\": {\"colorbar\": {\"outlinewidth\": 0, \"ticks\": \"\"}}, \"type\": \"scatter3d\"}], \"scattercarpet\": [{\"marker\": {\"colorbar\": {\"outlinewidth\": 0, \"ticks\": \"\"}}, \"type\": \"scattercarpet\"}], \"scattergeo\": [{\"marker\": {\"colorbar\": {\"outlinewidth\": 0, \"ticks\": \"\"}}, \"type\": \"scattergeo\"}], \"scattergl\": [{\"marker\": {\"colorbar\": {\"outlinewidth\": 0, \"ticks\": \"\"}}, \"type\": \"scattergl\"}], \"scattermapbox\": [{\"marker\": {\"colorbar\": {\"outlinewidth\": 0, \"ticks\": \"\"}}, \"type\": \"scattermapbox\"}], \"scatterpolar\": [{\"marker\": {\"colorbar\": {\"outlinewidth\": 0, \"ticks\": \"\"}}, \"type\": \"scatterpolar\"}], \"scatterpolargl\": [{\"marker\": {\"colorbar\": {\"outlinewidth\": 0, \"ticks\": \"\"}}, \"type\": \"scatterpolargl\"}], \"scatterternary\": [{\"marker\": {\"colorbar\": {\"outlinewidth\": 0, \"ticks\": \"\"}}, \"type\": \"scatterternary\"}], \"surface\": [{\"colorbar\": {\"outlinewidth\": 0, \"ticks\": \"\"}, \"colorscale\": [[0.0, \"#0d0887\"], [0.1111111111111111, \"#46039f\"], [0.2222222222222222, \"#7201a8\"], [0.3333333333333333, \"#9c179e\"], [0.4444444444444444, \"#bd3786\"], [0.5555555555555556, \"#d8576b\"], [0.6666666666666666, \"#ed7953\"], [0.7777777777777778, \"#fb9f3a\"], [0.8888888888888888, \"#fdca26\"], [1.0, \"#f0f921\"]], \"type\": \"surface\"}], \"table\": [{\"cells\": {\"fill\": {\"color\": \"#EBF0F8\"}, \"line\": {\"color\": \"white\"}}, \"header\": {\"fill\": {\"color\": \"#C8D4E3\"}, \"line\": {\"color\": \"white\"}}, \"type\": \"table\"}]}, \"layout\": {\"annotationdefaults\": {\"arrowcolor\": \"#2a3f5f\", \"arrowhead\": 0, \"arrowwidth\": 1}, \"coloraxis\": {\"colorbar\": {\"outlinewidth\": 0, \"ticks\": \"\"}}, \"colorscale\": {\"diverging\": [[0, \"#8e0152\"], [0.1, \"#c51b7d\"], [0.2, \"#de77ae\"], [0.3, \"#f1b6da\"], [0.4, \"#fde0ef\"], [0.5, \"#f7f7f7\"], [0.6, \"#e6f5d0\"], [0.7, \"#b8e186\"], [0.8, \"#7fbc41\"], [0.9, \"#4d9221\"], [1, \"#276419\"]], \"sequential\": [[0.0, \"#0d0887\"], [0.1111111111111111, \"#46039f\"], [0.2222222222222222, \"#7201a8\"], [0.3333333333333333, \"#9c179e\"], [0.4444444444444444, \"#bd3786\"], [0.5555555555555556, \"#d8576b\"], [0.6666666666666666, \"#ed7953\"], [0.7777777777777778, \"#fb9f3a\"], [0.8888888888888888, \"#fdca26\"], [1.0, \"#f0f921\"]], \"sequentialminus\": [[0.0, \"#0d0887\"], [0.1111111111111111, \"#46039f\"], [0.2222222222222222, \"#7201a8\"], [0.3333333333333333, \"#9c179e\"], [0.4444444444444444, \"#bd3786\"], [0.5555555555555556, \"#d8576b\"], [0.6666666666666666, \"#ed7953\"], [0.7777777777777778, \"#fb9f3a\"], [0.8888888888888888, \"#fdca26\"], [1.0, \"#f0f921\"]]}, \"colorway\": [\"#636efa\", \"#EF553B\", \"#00cc96\", \"#ab63fa\", \"#FFA15A\", \"#19d3f3\", \"#FF6692\", \"#B6E880\", \"#FF97FF\", \"#FECB52\"], \"font\": {\"color\": \"#2a3f5f\"}, \"geo\": {\"bgcolor\": \"white\", \"lakecolor\": \"white\", \"landcolor\": \"#E5ECF6\", \"showlakes\": true, \"showland\": true, \"subunitcolor\": \"white\"}, \"hoverlabel\": {\"align\": \"left\"}, \"hovermode\": \"closest\", \"mapbox\": {\"style\": \"light\"}, \"paper_bgcolor\": \"white\", \"plot_bgcolor\": \"#E5ECF6\", \"polar\": {\"angularaxis\": {\"gridcolor\": \"white\", \"linecolor\": \"white\", \"ticks\": \"\"}, \"bgcolor\": \"#E5ECF6\", \"radialaxis\": {\"gridcolor\": \"white\", \"linecolor\": \"white\", \"ticks\": \"\"}}, \"scene\": {\"xaxis\": {\"backgroundcolor\": \"#E5ECF6\", \"gridcolor\": \"white\", \"gridwidth\": 2, \"linecolor\": \"white\", \"showbackground\": true, \"ticks\": \"\", \"zerolinecolor\": \"white\"}, \"yaxis\": {\"backgroundcolor\": \"#E5ECF6\", \"gridcolor\": \"white\", \"gridwidth\": 2, \"linecolor\": \"white\", \"showbackground\": true, \"ticks\": \"\", \"zerolinecolor\": \"white\"}, \"zaxis\": {\"backgroundcolor\": \"#E5ECF6\", \"gridcolor\": \"white\", \"gridwidth\": 2, \"linecolor\": \"white\", \"showbackground\": true, \"ticks\": \"\", \"zerolinecolor\": \"white\"}}, \"shapedefaults\": {\"line\": {\"color\": \"#2a3f5f\"}}, \"ternary\": {\"aaxis\": {\"gridcolor\": \"white\", \"linecolor\": \"white\", \"ticks\": \"\"}, \"baxis\": {\"gridcolor\": \"white\", \"linecolor\": \"white\", \"ticks\": \"\"}, \"bgcolor\": \"#E5ECF6\", \"caxis\": {\"gridcolor\": \"white\", \"linecolor\": \"white\", \"ticks\": \"\"}}, \"title\": {\"x\": 0.05}, \"xaxis\": {\"automargin\": true, \"gridcolor\": \"white\", \"linecolor\": \"white\", \"ticks\": \"\", \"title\": {\"standoff\": 15}, \"zerolinecolor\": \"white\", \"zerolinewidth\": 2}, \"yaxis\": {\"automargin\": true, \"gridcolor\": \"white\", \"linecolor\": \"white\", \"ticks\": \"\", \"title\": {\"standoff\": 15}, \"zerolinecolor\": \"white\", \"zerolinewidth\": 2}}}, \"title\": {\"text\": \"Accuracy\"}},\n",
              "                        {\"responsive\": true}\n",
              "                    ).then(function(){\n",
              "                            \n",
              "var gd = document.getElementById('c85e618f-5d24-44be-8d80-8737e17c6204');\n",
              "var x = new MutationObserver(function (mutations, observer) {{\n",
              "        var display = window.getComputedStyle(gd).display;\n",
              "        if (!display || display === 'none') {{\n",
              "            console.log([gd, 'removed!']);\n",
              "            Plotly.purge(gd);\n",
              "            observer.disconnect();\n",
              "        }}\n",
              "}});\n",
              "\n",
              "// Listen for the removal of the full notebook cells\n",
              "var notebookContainer = gd.closest('#notebook-container');\n",
              "if (notebookContainer) {{\n",
              "    x.observe(notebookContainer, {childList: true});\n",
              "}}\n",
              "\n",
              "// Listen for the clearing of the current output cell\n",
              "var outputEl = gd.closest('.output');\n",
              "if (outputEl) {{\n",
              "    x.observe(outputEl, {childList: true});\n",
              "}}\n",
              "\n",
              "                        })\n",
              "                };\n",
              "                \n",
              "            </script>\n",
              "        </div>\n",
              "</body>\n",
              "</html>"
            ]
          },
          "metadata": {
            "tags": []
          }
        }
      ]
    },
    {
      "cell_type": "code",
      "metadata": {
        "colab": {
          "base_uri": "https://localhost:8080/"
        },
        "id": "6076514e",
        "outputId": "7fd2b159-7c9b-4383-e6b1-dfed429d89ba"
      },
      "source": [
        "xv.shape"
      ],
      "id": "6076514e",
      "execution_count": 183,
      "outputs": [
        {
          "output_type": "execute_result",
          "data": {
            "text/plain": [
              "(50, 64, 64, 3)"
            ]
          },
          "metadata": {
            "tags": []
          },
          "execution_count": 183
        }
      ]
    },
    {
      "cell_type": "code",
      "metadata": {
        "colab": {
          "base_uri": "https://localhost:8080/",
          "height": 300
        },
        "id": "9505caff",
        "outputId": "cc11eb91-d6e8-4312-9a4d-3b3e76e81b2d"
      },
      "source": [
        "index = 33\n",
        "print(\"el modelo dice que es un gato\") if np.where(model.predict(xv_es[index:index+1]>=.5,1,0))==1 else print(\"No es un gato\")\n",
        "plt.imshow(xv[index])"
      ],
      "id": "9505caff",
      "execution_count": 184,
      "outputs": [
        {
          "output_type": "stream",
          "text": [
            "No es un gato\n"
          ],
          "name": "stdout"
        },
        {
          "output_type": "execute_result",
          "data": {
            "text/plain": [
              "<matplotlib.image.AxesImage at 0x7f9412469050>"
            ]
          },
          "metadata": {
            "tags": []
          },
          "execution_count": 184
        },
        {
          "output_type": "display_data",
          "data": {
            "image/png": "[encoded data removed]",
            "text/plain": [
              "<Figure size 432x288 with 1 Axes>"
            ]
          },
          "metadata": {
            "tags": [],
            "needs_background": "light"
          }
        }
      ]
    },
    {
      "cell_type": "code",
      "metadata": {
        "id": "847ea795",
        "outputId": "383b3703-0e4b-4150-81ae-385464f0e054"
      },
      "source": [
        "64*64*3"
      ],
      "id": "847ea795",
      "execution_count": null,
      "outputs": [
        {
          "output_type": "execute_result",
          "data": {
            "text/plain": [
              "12288"
            ]
          },
          "metadata": {
            "tags": []
          },
          "execution_count": 88
        }
      ]
    }
  ]
}