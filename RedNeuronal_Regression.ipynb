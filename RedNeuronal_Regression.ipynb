{
  "nbformat": 4,
  "nbformat_minor": 0,
  "metadata": {
    "colab": {
      "name": "RedNeuronal_Regression.ipynb",
      "provenance": [],
      "include_colab_link": true
    },
    "kernelspec": {
      "display_name": "Python 3",
      "language": "python",
      "name": "python3"
    },
    "language_info": {
      "codemirror_mode": {
        "name": "ipython",
        "version": 3
      },
      "file_extension": ".py",
      "mimetype": "text/x-python",
      "name": "python",
      "nbconvert_exporter": "python",
      "pygments_lexer": "ipython3",
      "version": "3.8.2"
    }
  },
  "cells": [
    {
      "cell_type": "markdown",
      "metadata": {
        "id": "view-in-github",
        "colab_type": "text"
      },
      "source": [
        "<a href=\"https://colab.research.google.com/github/virf96/Neural-Networks/blob/main/RedNeuronal_Regression.ipynb\" target=\"_parent\"><img src=\"https://colab.research.google.com/assets/colab-badge.svg\" alt=\"Open In Colab\"/></a>"
      ]
    },
    {
      "cell_type": "code",
      "metadata": {
        "ExecuteTime": {
          "end_time": "2020-10-03T07:11:26.571078Z",
          "start_time": "2020-10-03T07:11:26.565927Z"
        },
        "id": "OVVjkDKb5SKd"
      },
      "source": [
        "from sklearn.datasets import load_breast_cancer,load_boston\n",
        "from sklearn.metrics import accuracy_score\n",
        "from plotly import graph_objects as go\n",
        "import pandas as pd\n",
        "import numpy as np "
      ],
      "execution_count": null,
      "outputs": []
    },
    {
      "cell_type": "code",
      "metadata": {
        "ExecuteTime": {
          "end_time": "2020-10-03T07:11:27.048936Z",
          "start_time": "2020-10-03T07:11:26.574290Z"
        },
        "id": "0MVJnOQS5SKf"
      },
      "source": [
        "boston = load_boston()"
      ],
      "execution_count": null,
      "outputs": []
    },
    {
      "cell_type": "code",
      "metadata": {
        "ExecuteTime": {
          "end_time": "2020-10-03T07:11:27.681592Z",
          "start_time": "2020-10-03T07:11:27.054987Z"
        },
        "id": "QDllZ6wZ5SKg",
        "outputId": "ea5cd415-f407-44cb-ece7-55c0add2a277"
      },
      "source": [
        "boston.keys()"
      ],
      "execution_count": null,
      "outputs": [
        {
          "output_type": "execute_result",
          "data": {
            "text/plain": [
              "dict_keys(['data', 'target', 'feature_names', 'DESCR', 'filename'])"
            ]
          },
          "metadata": {
            "tags": []
          },
          "execution_count": 66
        }
      ]
    },
    {
      "cell_type": "code",
      "metadata": {
        "ExecuteTime": {
          "end_time": "2020-10-03T07:11:28.174916Z",
          "start_time": "2020-10-03T07:11:27.687413Z"
        },
        "id": "F0NLCffN5SKg"
      },
      "source": [
        "X,Y = boston[\"data\"],boston[\"target\"]"
      ],
      "execution_count": null,
      "outputs": []
    },
    {
      "cell_type": "markdown",
      "metadata": {
        "id": "5dNGMfrE5SKh"
      },
      "source": [
        "### Como DataFrame"
      ]
    },
    {
      "cell_type": "code",
      "metadata": {
        "ExecuteTime": {
          "end_time": "2020-10-03T07:11:28.243787Z",
          "start_time": "2020-10-03T07:11:28.179594Z"
        },
        "id": "_k_dC6sH5SKh"
      },
      "source": [
        "X_df = pd.DataFrame(X,columns=boston[\"feature_names\"])"
      ],
      "execution_count": null,
      "outputs": []
    },
    {
      "cell_type": "code",
      "metadata": {
        "ExecuteTime": {
          "end_time": "2020-10-03T07:11:28.344691Z",
          "start_time": "2020-10-03T07:11:28.248351Z"
        },
        "id": "3RXoGhu-5SKh",
        "outputId": "6132cc2d-24c7-47b1-ccd9-1cbdab404d6d"
      },
      "source": [
        "X_df.head()"
      ],
      "execution_count": null,
      "outputs": [
        {
          "output_type": "execute_result",
          "data": {
            "text/html": [
              "<div>\n",
              "<style scoped>\n",
              "    .dataframe tbody tr th:only-of-type {\n",
              "        vertical-align: middle;\n",
              "    }\n",
              "\n",
              "    .dataframe tbody tr th {\n",
              "        vertical-align: top;\n",
              "    }\n",
              "\n",
              "    .dataframe thead th {\n",
              "        text-align: right;\n",
              "    }\n",
              "</style>\n",
              "<table border=\"1\" class=\"dataframe\">\n",
              "  <thead>\n",
              "    <tr style=\"text-align: right;\">\n",
              "      <th></th>\n",
              "      <th>CRIM</th>\n",
              "      <th>ZN</th>\n",
              "      <th>INDUS</th>\n",
              "      <th>CHAS</th>\n",
              "      <th>NOX</th>\n",
              "      <th>RM</th>\n",
              "      <th>AGE</th>\n",
              "      <th>DIS</th>\n",
              "      <th>RAD</th>\n",
              "      <th>TAX</th>\n",
              "      <th>PTRATIO</th>\n",
              "      <th>B</th>\n",
              "      <th>LSTAT</th>\n",
              "    </tr>\n",
              "  </thead>\n",
              "  <tbody>\n",
              "    <tr>\n",
              "      <th>0</th>\n",
              "      <td>0.00632</td>\n",
              "      <td>18.0</td>\n",
              "      <td>2.31</td>\n",
              "      <td>0.0</td>\n",
              "      <td>0.538</td>\n",
              "      <td>6.575</td>\n",
              "      <td>65.2</td>\n",
              "      <td>4.0900</td>\n",
              "      <td>1.0</td>\n",
              "      <td>296.0</td>\n",
              "      <td>15.3</td>\n",
              "      <td>396.90</td>\n",
              "      <td>4.98</td>\n",
              "    </tr>\n",
              "    <tr>\n",
              "      <th>1</th>\n",
              "      <td>0.02731</td>\n",
              "      <td>0.0</td>\n",
              "      <td>7.07</td>\n",
              "      <td>0.0</td>\n",
              "      <td>0.469</td>\n",
              "      <td>6.421</td>\n",
              "      <td>78.9</td>\n",
              "      <td>4.9671</td>\n",
              "      <td>2.0</td>\n",
              "      <td>242.0</td>\n",
              "      <td>17.8</td>\n",
              "      <td>396.90</td>\n",
              "      <td>9.14</td>\n",
              "    </tr>\n",
              "    <tr>\n",
              "      <th>2</th>\n",
              "      <td>0.02729</td>\n",
              "      <td>0.0</td>\n",
              "      <td>7.07</td>\n",
              "      <td>0.0</td>\n",
              "      <td>0.469</td>\n",
              "      <td>7.185</td>\n",
              "      <td>61.1</td>\n",
              "      <td>4.9671</td>\n",
              "      <td>2.0</td>\n",
              "      <td>242.0</td>\n",
              "      <td>17.8</td>\n",
              "      <td>392.83</td>\n",
              "      <td>4.03</td>\n",
              "    </tr>\n",
              "    <tr>\n",
              "      <th>3</th>\n",
              "      <td>0.03237</td>\n",
              "      <td>0.0</td>\n",
              "      <td>2.18</td>\n",
              "      <td>0.0</td>\n",
              "      <td>0.458</td>\n",
              "      <td>6.998</td>\n",
              "      <td>45.8</td>\n",
              "      <td>6.0622</td>\n",
              "      <td>3.0</td>\n",
              "      <td>222.0</td>\n",
              "      <td>18.7</td>\n",
              "      <td>394.63</td>\n",
              "      <td>2.94</td>\n",
              "    </tr>\n",
              "    <tr>\n",
              "      <th>4</th>\n",
              "      <td>0.06905</td>\n",
              "      <td>0.0</td>\n",
              "      <td>2.18</td>\n",
              "      <td>0.0</td>\n",
              "      <td>0.458</td>\n",
              "      <td>7.147</td>\n",
              "      <td>54.2</td>\n",
              "      <td>6.0622</td>\n",
              "      <td>3.0</td>\n",
              "      <td>222.0</td>\n",
              "      <td>18.7</td>\n",
              "      <td>396.90</td>\n",
              "      <td>5.33</td>\n",
              "    </tr>\n",
              "  </tbody>\n",
              "</table>\n",
              "</div>"
            ],
            "text/plain": [
              "      CRIM    ZN  INDUS  CHAS    NOX     RM   AGE     DIS  RAD    TAX  \\\n",
              "0  0.00632  18.0   2.31   0.0  0.538  6.575  65.2  4.0900  1.0  296.0   \n",
              "1  0.02731   0.0   7.07   0.0  0.469  6.421  78.9  4.9671  2.0  242.0   \n",
              "2  0.02729   0.0   7.07   0.0  0.469  7.185  61.1  4.9671  2.0  242.0   \n",
              "3  0.03237   0.0   2.18   0.0  0.458  6.998  45.8  6.0622  3.0  222.0   \n",
              "4  0.06905   0.0   2.18   0.0  0.458  7.147  54.2  6.0622  3.0  222.0   \n",
              "\n",
              "   PTRATIO       B  LSTAT  \n",
              "0     15.3  396.90   4.98  \n",
              "1     17.8  396.90   9.14  \n",
              "2     17.8  392.83   4.03  \n",
              "3     18.7  394.63   2.94  \n",
              "4     18.7  396.90   5.33  "
            ]
          },
          "metadata": {
            "tags": []
          },
          "execution_count": 69
        }
      ]
    },
    {
      "cell_type": "code",
      "metadata": {
        "id": "7-hxlMip5SKh",
        "outputId": "23acfc07-9d35-474a-ba37-e891324caf22"
      },
      "source": [
        "boston[\"DESCR\"]"
      ],
      "execution_count": null,
      "outputs": [
        {
          "output_type": "execute_result",
          "data": {
            "text/plain": [
              "\".. _boston_dataset:\\n\\nBoston house prices dataset\\n---------------------------\\n\\n**Data Set Characteristics:**  \\n\\n    :Number of Instances: 506 \\n\\n    :Number of Attributes: 13 numeric/categorical predictive. Median Value (attribute 14) is usually the target.\\n\\n    :Attribute Information (in order):\\n        - CRIM     per capita crime rate by town\\n        - ZN       proportion of residential land zoned for lots over 25,000 sq.ft.\\n        - INDUS    proportion of non-retail business acres per town\\n        - CHAS     Charles River dummy variable (= 1 if tract bounds river; 0 otherwise)\\n        - NOX      nitric oxides concentration (parts per 10 million)\\n        - RM       average number of rooms per dwelling\\n        - AGE      proportion of owner-occupied units built prior to 1940\\n        - DIS      weighted distances to five Boston employment centres\\n        - RAD      index of accessibility to radial highways\\n        - TAX      full-value property-tax rate per $10,000\\n        - PTRATIO  pupil-teacher ratio by town\\n        - B        1000(Bk - 0.63)^2 where Bk is the proportion of blacks by town\\n        - LSTAT    % lower status of the population\\n        - MEDV     Median value of owner-occupied homes in $1000's\\n\\n    :Missing Attribute Values: None\\n\\n    :Creator: Harrison, D. and Rubinfeld, D.L.\\n\\nThis is a copy of UCI ML housing dataset.\\nhttps://archive.ics.uci.edu/ml/machine-learning-databases/housing/\\n\\n\\nThis dataset was taken from the StatLib library which is maintained at Carnegie Mellon University.\\n\\nThe Boston house-price data of Harrison, D. and Rubinfeld, D.L. 'Hedonic\\nprices and the demand for clean air', J. Environ. Economics & Management,\\nvol.5, 81-102, 1978.   Used in Belsley, Kuh & Welsch, 'Regression diagnostics\\n...', Wiley, 1980.   N.B. Various transformations are used in the table on\\npages 244-261 of the latter.\\n\\nThe Boston house-price data has been used in many machine learning papers that address regression\\nproblems.   \\n     \\n.. topic:: References\\n\\n   - Belsley, Kuh & Welsch, 'Regression diagnostics: Identifying Influential Data and Sources of Collinearity', Wiley, 1980. 244-261.\\n   - Quinlan,R. (1993). Combining Instance-Based and Model-Based Learning. In Proceedings on the Tenth International Conference of Machine Learning, 236-243, University of Massachusetts, Amherst. Morgan Kaufmann.\\n\""
            ]
          },
          "metadata": {
            "tags": []
          },
          "execution_count": 70
        }
      ]
    },
    {
      "cell_type": "markdown",
      "metadata": {
        "id": "IDWulhnS5SKh"
      },
      "source": [
        "Dimensiones del data frame "
      ]
    },
    {
      "cell_type": "code",
      "metadata": {
        "id": "_q1J5Ae05SKi",
        "outputId": "a3235e9e-4d08-454b-c3cf-819d46717026"
      },
      "source": [
        "X.shape"
      ],
      "execution_count": null,
      "outputs": [
        {
          "output_type": "execute_result",
          "data": {
            "text/plain": [
              "(506, 13)"
            ]
          },
          "metadata": {
            "tags": []
          },
          "execution_count": 71
        }
      ]
    },
    {
      "cell_type": "code",
      "metadata": {
        "ExecuteTime": {
          "end_time": "2020-10-03T07:11:28.400383Z",
          "start_time": "2020-10-03T07:11:28.347696Z"
        },
        "id": "jgVtWzlL5SKi"
      },
      "source": [
        "X = X_df.values"
      ],
      "execution_count": null,
      "outputs": []
    },
    {
      "cell_type": "code",
      "metadata": {
        "id": "k6ULSRvt5SKi",
        "scrolled": true,
        "outputId": "3cd31366-a99f-4436-b28e-5f2564781815"
      },
      "source": [
        "X.shape"
      ],
      "execution_count": null,
      "outputs": [
        {
          "output_type": "execute_result",
          "data": {
            "text/plain": [
              "(506, 13)"
            ]
          },
          "metadata": {
            "tags": []
          },
          "execution_count": 73
        }
      ]
    },
    {
      "cell_type": "markdown",
      "metadata": {
        "id": "B0W_-bay5SKi"
      },
      "source": [
        "### Escalamiento "
      ]
    },
    {
      "cell_type": "code",
      "metadata": {
        "id": "kvB9tY5j5SKi"
      },
      "source": [
        "from sklearn.preprocessing import MinMaxScaler"
      ],
      "execution_count": null,
      "outputs": []
    },
    {
      "cell_type": "code",
      "metadata": {
        "id": "3bW-7pa45SKj"
      },
      "source": [
        "mmx = MinMaxScaler()\n",
        "mmy = MinMaxScaler()"
      ],
      "execution_count": null,
      "outputs": []
    },
    {
      "cell_type": "code",
      "metadata": {
        "id": "AUrsJBLb5SKj"
      },
      "source": [
        "Xmm = mmx.fit_transform(X)\n"
      ],
      "execution_count": null,
      "outputs": []
    },
    {
      "cell_type": "code",
      "metadata": {
        "id": "P2CfGnDw5SKj",
        "outputId": "263457a7-e251-4a81-8e70-2471e81fc7c9"
      },
      "source": [
        "Y.shape"
      ],
      "execution_count": null,
      "outputs": [
        {
          "output_type": "execute_result",
          "data": {
            "text/plain": [
              "(506,)"
            ]
          },
          "metadata": {
            "tags": []
          },
          "execution_count": 78
        }
      ]
    },
    {
      "cell_type": "code",
      "metadata": {
        "id": "_Hf1DtFq5SKj"
      },
      "source": [
        "Ymm = mmy.fit_transform(Y.reshape(-1, 1))"
      ],
      "execution_count": null,
      "outputs": []
    },
    {
      "cell_type": "code",
      "metadata": {
        "id": "SbvXHTaO5SKj",
        "outputId": "39160585-9b4d-4181-c447-44369f9e9fca"
      },
      "source": [
        "Y.shape"
      ],
      "execution_count": null,
      "outputs": [
        {
          "output_type": "execute_result",
          "data": {
            "text/plain": [
              "(506,)"
            ]
          },
          "metadata": {
            "tags": []
          },
          "execution_count": 80
        }
      ]
    },
    {
      "cell_type": "code",
      "metadata": {
        "id": "PDLoqyPg5SKj"
      },
      "source": [
        "Xmm = Xmm.T "
      ],
      "execution_count": null,
      "outputs": []
    },
    {
      "cell_type": "code",
      "metadata": {
        "id": "NWcBgEuc5SKj"
      },
      "source": [
        "Ymm = Ymm.reshape(1,506)"
      ],
      "execution_count": null,
      "outputs": []
    },
    {
      "cell_type": "code",
      "metadata": {
        "id": "slU4ZFne5SKj",
        "outputId": "63510e97-7e41-4fa3-ca39-a73a5797bbec"
      },
      "source": [
        "Xmm.shape,Ymm.shape"
      ],
      "execution_count": null,
      "outputs": [
        {
          "output_type": "execute_result",
          "data": {
            "text/plain": [
              "((13, 506), (1, 506))"
            ]
          },
          "metadata": {
            "tags": []
          },
          "execution_count": 85
        }
      ]
    },
    {
      "cell_type": "markdown",
      "metadata": {
        "id": "lpLm_bvA5SKk"
      },
      "source": [
        "## Instrucciones "
      ]
    },
    {
      "cell_type": "markdown",
      "metadata": {
        "id": "lnQ0V0nO5SKk"
      },
      "source": [
        "1. Construir una red neuronal de una sola neurona para un problema de regresión.\n",
        "2. entrenar la red.\n",
        "3. Ajustar el learning rate, inicial .001\n",
        "4. visualizar las predicciones en un grafico junto con la target.\n",
        "5. ¿Es necesario escalar?\n"
      ]
    },
    {
      "cell_type": "markdown",
      "metadata": {
        "id": "WUiWB3Q05SKk"
      },
      "source": [
        "*Notas*"
      ]
    },
    {
      "cell_type": "markdown",
      "metadata": {
        "id": "ljCThRx45SKk"
      },
      "source": [
        "\n",
        "La función de perdida en este caso esta dada por \n",
        "$L(\\hat y, y)= (y-\\hat y)^2 $"
      ]
    },
    {
      "cell_type": "markdown",
      "metadata": {
        "id": "ESPLO1PZ5SKk"
      },
      "source": [
        "La función de activación será $a(z)=z$"
      ]
    },
    {
      "cell_type": "markdown",
      "metadata": {
        "id": "af07t5uF5SKk"
      },
      "source": [
        "*Derivadas*\n",
        "$$L'=-2(y - \\hat y) $$\n",
        "$$a'=1$$"
      ]
    },
    {
      "cell_type": "markdown",
      "metadata": {
        "id": "vxTstAF3DPbk"
      },
      "source": [
        "$\\frac{dL}{da} = 2()$\n"
      ]
    },
    {
      "cell_type": "code",
      "metadata": {
        "id": "3UtWiU7VDPbk"
      },
      "source": [
        ""
      ],
      "execution_count": null,
      "outputs": []
    },
    {
      "cell_type": "code",
      "metadata": {
        "id": "8n9TaJAw5SKk"
      },
      "source": [
        "def linear(z):\n",
        "    return z \n",
        "\n",
        "def initialize_with_zeros(dim):\n",
        "    W = np.zeros((1,dim))\n",
        "    b = 0.\n",
        "    return W,b\n",
        "\n",
        "def propagate(W,b,X,Y):\n",
        "    m = X.shape[1]\n",
        "    A=linear(np.matmul(W,X)+b)\n",
        "    cost= np.sum(np.square(Y-A))/m\n",
        "    cost = np.squeeze(cost)\n",
        "    dw = np.matmul(X,2*(A-Y).T)/m\n",
        "    db = np.sum(2*(A-Y))/m\n",
        "    \n",
        "    grads = {\"dw\":dw,\"db\":db}\n",
        "    return grads,cost\n",
        "\n",
        "def optimize(W,b,X,Y, num_iterations, learning_rate= 0.001):\n",
        "    costs=[]\n",
        "    for i in range(num_iterations):\n",
        "        grads, cost = propagate(W,b,X,Y)\n",
        "        \n",
        "        dw = grads[\"dw\"]\n",
        "        db = grads[\"db\"]\n",
        "        \n",
        "        W += -learning_rate*dw.T\n",
        "        b += -learning_rate*db\n",
        "        \n",
        "        if i %100 == 0:\n",
        "            costs.append(cost)\n",
        "            print(\"Costo despues de la iteracion %i %.6f\"%(i,cost))\n",
        "            \n",
        "    params = {\"W\":W,\n",
        "               \"b\": b}\n",
        "    \n",
        "    grads = {\"dw\":dw,\n",
        "             \"db\":db}\n",
        "    return params, grads,costs\n",
        "\n",
        "def predict(W,b, X):\n",
        "    A = linear(np.matmul(W,X)+b)\n",
        "    return A\n",
        "    \n",
        "\n",
        "def model(X,Y, num_iterations=10000, learning_rate=.0002):\n",
        "    W,b = initialize_with_zeros(X.shape[0])\n",
        "    \n",
        "    parameters, grads, costs = optimize(W,b,X,Y, num_iterations, learning_rate)\n",
        "    \n",
        "    W = parameters[\"W\"]\n",
        "    b = parameters[\"b\"]\n",
        "    \n",
        "    Y_prediction = predict(W,b,X)\n",
        "    \n",
        "    d = {\"costs\":costs,\n",
        "        \"Y_predictions\": Y_prediction,\n",
        "        \"W\":W,\n",
        "        \"b\":b,\n",
        "        }\n",
        "    return d\n",
        "    "
      ],
      "execution_count": null,
      "outputs": []
    },
    {
      "cell_type": "code",
      "metadata": {
        "id": "izH6qusw5SKl",
        "scrolled": true,
        "outputId": "8e34c45e-3cb7-435b-f9b9-ec59a72740f9"
      },
      "source": [
        "mod = model(Xmm,Ymm, num_iterations=5000, learning_rate=.1)"
      ],
      "execution_count": null,
      "outputs": [
        {
          "output_type": "stream",
          "text": [
            "Costo despues de la iteracion 0 0.193491\n",
            "Costo despues de la iteracion 100 0.016162\n",
            "Costo despues de la iteracion 200 0.013057\n",
            "Costo despues de la iteracion 300 0.012047\n",
            "Costo despues de la iteracion 400 0.011626\n",
            "Costo despues de la iteracion 500 0.011410\n",
            "Costo despues de la iteracion 600 0.011277\n",
            "Costo despues de la iteracion 700 0.011185\n",
            "Costo despues de la iteracion 800 0.011116\n",
            "Costo despues de la iteracion 900 0.011062\n",
            "Costo despues de la iteracion 1000 0.011019\n",
            "Costo despues de la iteracion 1100 0.010985\n",
            "Costo despues de la iteracion 1200 0.010956\n",
            "Costo despues de la iteracion 1300 0.010933\n",
            "Costo despues de la iteracion 1400 0.010914\n",
            "Costo despues de la iteracion 1500 0.010898\n",
            "Costo despues de la iteracion 1600 0.010885\n",
            "Costo despues de la iteracion 1700 0.010873\n",
            "Costo despues de la iteracion 1800 0.010864\n",
            "Costo despues de la iteracion 1900 0.010856\n",
            "Costo despues de la iteracion 2000 0.010850\n",
            "Costo despues de la iteracion 2100 0.010844\n",
            "Costo despues de la iteracion 2200 0.010839\n",
            "Costo despues de la iteracion 2300 0.010835\n",
            "Costo despues de la iteracion 2400 0.010832\n",
            "Costo despues de la iteracion 2500 0.010829\n",
            "Costo despues de la iteracion 2600 0.010826\n",
            "Costo despues de la iteracion 2700 0.010824\n",
            "Costo despues de la iteracion 2800 0.010823\n",
            "Costo despues de la iteracion 2900 0.010821\n",
            "Costo despues de la iteracion 3000 0.010820\n",
            "Costo despues de la iteracion 3100 0.010819\n",
            "Costo despues de la iteracion 3200 0.010818\n",
            "Costo despues de la iteracion 3300 0.010817\n",
            "Costo despues de la iteracion 3400 0.010816\n",
            "Costo despues de la iteracion 3500 0.010816\n",
            "Costo despues de la iteracion 3600 0.010815\n",
            "Costo despues de la iteracion 3700 0.010815\n",
            "Costo despues de la iteracion 3800 0.010814\n",
            "Costo despues de la iteracion 3900 0.010814\n",
            "Costo despues de la iteracion 4000 0.010814\n",
            "Costo despues de la iteracion 4100 0.010814\n",
            "Costo despues de la iteracion 4200 0.010813\n",
            "Costo despues de la iteracion 4300 0.010813\n",
            "Costo despues de la iteracion 4400 0.010813\n",
            "Costo despues de la iteracion 4500 0.010813\n",
            "Costo despues de la iteracion 4600 0.010813\n",
            "Costo despues de la iteracion 4700 0.010813\n",
            "Costo despues de la iteracion 4800 0.010813\n",
            "Costo despues de la iteracion 4900 0.010813\n"
          ],
          "name": "stdout"
        }
      ]
    },
    {
      "cell_type": "markdown",
      "metadata": {
        "id": "XbnL8_PI5SKl"
      },
      "source": [
        "### Función de coste"
      ]
    },
    {
      "cell_type": "code",
      "metadata": {
        "id": "tpofQf355SKl",
        "outputId": "cc21c86d-4f8e-47b9-9666-3baf4c7e32d2"
      },
      "source": [
        "fig = go.Figure(data=go.Scatter(x=list(range(len(mod[\"costs\"]))),y=mod[\"costs\"], mode=\"lines+markers\"))\n",
        "\n",
        "fig.show()"
      ],
      "execution_count": null,
      "outputs": [
        {
          "output_type": "display_data",
          "data": {
            "application/vnd.plotly.v1+json": {
              "config": {
                "plotlyServerURL": "https://plot.ly"
              },
              "data": [
                {
                  "mode": "lines+markers",
                  "type": "scatter",
                  "x": [
                    0,
                    1,
                    2,
                    3,
                    4,
                    5,
                    6,
                    7,
                    8,
                    9,
                    10,
                    11,
                    12,
                    13,
                    14,
                    15,
                    16,
                    17,
                    18,
                    19,
                    20,
                    21,
                    22,
                    23,
                    24,
                    25,
                    26,
                    27,
                    28,
                    29,
                    30,
                    31,
                    32,
                    33,
                    34,
                    35,
                    36,
                    37,
                    38,
                    39,
                    40,
                    41,
                    42,
                    43,
                    44,
                    45,
                    46,
                    47,
                    48,
                    49
                  ],
                  "y": [
                    0.19349079197774852,
                    0.016161765957363634,
                    0.013057137970787218,
                    0.012046535131099469,
                    0.011625994897031953,
                    0.011409795042854168,
                    0.011277007320534408,
                    0.011184724761082428,
                    0.011115717390964208,
                    0.011061971840558774,
                    0.011019135540909896,
                    0.010984507056444721,
                    0.010956242906231714,
                    0.010933007342446288,
                    0.010913796404909325,
                    0.010897837795555244,
                    0.010884527878399686,
                    0.010873389147455333,
                    0.010864040167842677,
                    0.010856173695624746,
                    0.010849540429280121,
                    0.010843936763912506,
                    0.010839195451207631,
                    0.010835178400970378,
                    0.01083177107997744,
                    0.010828878114509131,
                    0.010826419808551998,
                    0.010824329364909596,
                    0.010822550650669225,
                    0.01082103638787724,
                    0.010819746679140582,
                    0.010818647799171379,
                    0.010817711199121656,
                    0.010816912682408041,
                    0.010816231719668922,
                    0.010815650877296431,
                    0.010815155339198697,
                    0.010814732505476442,
                    0.01081437165483774,
                    0.010814063660041048,
                    0.01081380074760989,
                    0.010813576294620776,
                    0.010813384656618574,
                    0.01081322102172693,
                    0.010813081286846524,
                    0.010812961952509659,
                    0.010812860033515921,
                    0.010812772982933573,
                    0.010812698627433297,
                    0.010812635112239188
                  ]
                }
              ],
              "layout": {
                "template": {
                  "data": {
                    "bar": [
                      {
                        "error_x": {
                          "color": "#2a3f5f"
                        },
                        "error_y": {
                          "color": "#2a3f5f"
                        },
                        "marker": {
                          "line": {
                            "color": "#E5ECF6",
                            "width": 0.5
                          }
                        },
                        "type": "bar"
                      }
                    ],
                    "barpolar": [
                      {
                        "marker": {
                          "line": {
                            "color": "#E5ECF6",
                            "width": 0.5
                          }
                        },
                        "type": "barpolar"
                      }
                    ],
                    "carpet": [
                      {
                        "aaxis": {
                          "endlinecolor": "#2a3f5f",
                          "gridcolor": "white",
                          "linecolor": "white",
                          "minorgridcolor": "white",
                          "startlinecolor": "#2a3f5f"
                        },
                        "baxis": {
                          "endlinecolor": "#2a3f5f",
                          "gridcolor": "white",
                          "linecolor": "white",
                          "minorgridcolor": "white",
                          "startlinecolor": "#2a3f5f"
                        },
                        "type": "carpet"
                      }
                    ],
                    "choropleth": [
                      {
                        "colorbar": {
                          "outlinewidth": 0,
                          "ticks": ""
                        },
                        "type": "choropleth"
                      }
                    ],
                    "contour": [
                      {
                        "colorbar": {
                          "outlinewidth": 0,
                          "ticks": ""
                        },
                        "colorscale": [
                          [
                            0,
                            "#0d0887"
                          ],
                          [
                            0.1111111111111111,
                            "#46039f"
                          ],
                          [
                            0.2222222222222222,
                            "#7201a8"
                          ],
                          [
                            0.3333333333333333,
                            "#9c179e"
                          ],
                          [
                            0.4444444444444444,
                            "#bd3786"
                          ],
                          [
                            0.5555555555555556,
                            "#d8576b"
                          ],
                          [
                            0.6666666666666666,
                            "#ed7953"
                          ],
                          [
                            0.7777777777777778,
                            "#fb9f3a"
                          ],
                          [
                            0.8888888888888888,
                            "#fdca26"
                          ],
                          [
                            1,
                            "#f0f921"
                          ]
                        ],
                        "type": "contour"
                      }
                    ],
                    "contourcarpet": [
                      {
                        "colorbar": {
                          "outlinewidth": 0,
                          "ticks": ""
                        },
                        "type": "contourcarpet"
                      }
                    ],
                    "heatmap": [
                      {
                        "colorbar": {
                          "outlinewidth": 0,
                          "ticks": ""
                        },
                        "colorscale": [
                          [
                            0,
                            "#0d0887"
                          ],
                          [
                            0.1111111111111111,
                            "#46039f"
                          ],
                          [
                            0.2222222222222222,
                            "#7201a8"
                          ],
                          [
                            0.3333333333333333,
                            "#9c179e"
                          ],
                          [
                            0.4444444444444444,
                            "#bd3786"
                          ],
                          [
                            0.5555555555555556,
                            "#d8576b"
                          ],
                          [
                            0.6666666666666666,
                            "#ed7953"
                          ],
                          [
                            0.7777777777777778,
                            "#fb9f3a"
                          ],
                          [
                            0.8888888888888888,
                            "#fdca26"
                          ],
                          [
                            1,
                            "#f0f921"
                          ]
                        ],
                        "type": "heatmap"
                      }
                    ],
                    "heatmapgl": [
                      {
                        "colorbar": {
                          "outlinewidth": 0,
                          "ticks": ""
                        },
                        "colorscale": [
                          [
                            0,
                            "#0d0887"
                          ],
                          [
                            0.1111111111111111,
                            "#46039f"
                          ],
                          [
                            0.2222222222222222,
                            "#7201a8"
                          ],
                          [
                            0.3333333333333333,
                            "#9c179e"
                          ],
                          [
                            0.4444444444444444,
                            "#bd3786"
                          ],
                          [
                            0.5555555555555556,
                            "#d8576b"
                          ],
                          [
                            0.6666666666666666,
                            "#ed7953"
                          ],
                          [
                            0.7777777777777778,
                            "#fb9f3a"
                          ],
                          [
                            0.8888888888888888,
                            "#fdca26"
                          ],
                          [
                            1,
                            "#f0f921"
                          ]
                        ],
                        "type": "heatmapgl"
                      }
                    ],
                    "histogram": [
                      {
                        "marker": {
                          "colorbar": {
                            "outlinewidth": 0,
                            "ticks": ""
                          }
                        },
                        "type": "histogram"
                      }
                    ],
                    "histogram2d": [
                      {
                        "colorbar": {
                          "outlinewidth": 0,
                          "ticks": ""
                        },
                        "colorscale": [
                          [
                            0,
                            "#0d0887"
                          ],
                          [
                            0.1111111111111111,
                            "#46039f"
                          ],
                          [
                            0.2222222222222222,
                            "#7201a8"
                          ],
                          [
                            0.3333333333333333,
                            "#9c179e"
                          ],
                          [
                            0.4444444444444444,
                            "#bd3786"
                          ],
                          [
                            0.5555555555555556,
                            "#d8576b"
                          ],
                          [
                            0.6666666666666666,
                            "#ed7953"
                          ],
                          [
                            0.7777777777777778,
                            "#fb9f3a"
                          ],
                          [
                            0.8888888888888888,
                            "#fdca26"
                          ],
                          [
                            1,
                            "#f0f921"
                          ]
                        ],
                        "type": "histogram2d"
                      }
                    ],
                    "histogram2dcontour": [
                      {
                        "colorbar": {
                          "outlinewidth": 0,
                          "ticks": ""
                        },
                        "colorscale": [
                          [
                            0,
                            "#0d0887"
                          ],
                          [
                            0.1111111111111111,
                            "#46039f"
                          ],
                          [
                            0.2222222222222222,
                            "#7201a8"
                          ],
                          [
                            0.3333333333333333,
                            "#9c179e"
                          ],
                          [
                            0.4444444444444444,
                            "#bd3786"
                          ],
                          [
                            0.5555555555555556,
                            "#d8576b"
                          ],
                          [
                            0.6666666666666666,
                            "#ed7953"
                          ],
                          [
                            0.7777777777777778,
                            "#fb9f3a"
                          ],
                          [
                            0.8888888888888888,
                            "#fdca26"
                          ],
                          [
                            1,
                            "#f0f921"
                          ]
                        ],
                        "type": "histogram2dcontour"
                      }
                    ],
                    "mesh3d": [
                      {
                        "colorbar": {
                          "outlinewidth": 0,
                          "ticks": ""
                        },
                        "type": "mesh3d"
                      }
                    ],
                    "parcoords": [
                      {
                        "line": {
                          "colorbar": {
                            "outlinewidth": 0,
                            "ticks": ""
                          }
                        },
                        "type": "parcoords"
                      }
                    ],
                    "pie": [
                      {
                        "automargin": true,
                        "type": "pie"
                      }
                    ],
                    "scatter": [
                      {
                        "marker": {
                          "colorbar": {
                            "outlinewidth": 0,
                            "ticks": ""
                          }
                        },
                        "type": "scatter"
                      }
                    ],
                    "scatter3d": [
                      {
                        "line": {
                          "colorbar": {
                            "outlinewidth": 0,
                            "ticks": ""
                          }
                        },
                        "marker": {
                          "colorbar": {
                            "outlinewidth": 0,
                            "ticks": ""
                          }
                        },
                        "type": "scatter3d"
                      }
                    ],
                    "scattercarpet": [
                      {
                        "marker": {
                          "colorbar": {
                            "outlinewidth": 0,
                            "ticks": ""
                          }
                        },
                        "type": "scattercarpet"
                      }
                    ],
                    "scattergeo": [
                      {
                        "marker": {
                          "colorbar": {
                            "outlinewidth": 0,
                            "ticks": ""
                          }
                        },
                        "type": "scattergeo"
                      }
                    ],
                    "scattergl": [
                      {
                        "marker": {
                          "colorbar": {
                            "outlinewidth": 0,
                            "ticks": ""
                          }
                        },
                        "type": "scattergl"
                      }
                    ],
                    "scattermapbox": [
                      {
                        "marker": {
                          "colorbar": {
                            "outlinewidth": 0,
                            "ticks": ""
                          }
                        },
                        "type": "scattermapbox"
                      }
                    ],
                    "scatterpolar": [
                      {
                        "marker": {
                          "colorbar": {
                            "outlinewidth": 0,
                            "ticks": ""
                          }
                        },
                        "type": "scatterpolar"
                      }
                    ],
                    "scatterpolargl": [
                      {
                        "marker": {
                          "colorbar": {
                            "outlinewidth": 0,
                            "ticks": ""
                          }
                        },
                        "type": "scatterpolargl"
                      }
                    ],
                    "scatterternary": [
                      {
                        "marker": {
                          "colorbar": {
                            "outlinewidth": 0,
                            "ticks": ""
                          }
                        },
                        "type": "scatterternary"
                      }
                    ],
                    "surface": [
                      {
                        "colorbar": {
                          "outlinewidth": 0,
                          "ticks": ""
                        },
                        "colorscale": [
                          [
                            0,
                            "#0d0887"
                          ],
                          [
                            0.1111111111111111,
                            "#46039f"
                          ],
                          [
                            0.2222222222222222,
                            "#7201a8"
                          ],
                          [
                            0.3333333333333333,
                            "#9c179e"
                          ],
                          [
                            0.4444444444444444,
                            "#bd3786"
                          ],
                          [
                            0.5555555555555556,
                            "#d8576b"
                          ],
                          [
                            0.6666666666666666,
                            "#ed7953"
                          ],
                          [
                            0.7777777777777778,
                            "#fb9f3a"
                          ],
                          [
                            0.8888888888888888,
                            "#fdca26"
                          ],
                          [
                            1,
                            "#f0f921"
                          ]
                        ],
                        "type": "surface"
                      }
                    ],
                    "table": [
                      {
                        "cells": {
                          "fill": {
                            "color": "#EBF0F8"
                          },
                          "line": {
                            "color": "white"
                          }
                        },
                        "header": {
                          "fill": {
                            "color": "#C8D4E3"
                          },
                          "line": {
                            "color": "white"
                          }
                        },
                        "type": "table"
                      }
                    ]
                  },
                  "layout": {
                    "annotationdefaults": {
                      "arrowcolor": "#2a3f5f",
                      "arrowhead": 0,
                      "arrowwidth": 1
                    },
                    "coloraxis": {
                      "colorbar": {
                        "outlinewidth": 0,
                        "ticks": ""
                      }
                    },
                    "colorscale": {
                      "diverging": [
                        [
                          0,
                          "#8e0152"
                        ],
                        [
                          0.1,
                          "#c51b7d"
                        ],
                        [
                          0.2,
                          "#de77ae"
                        ],
                        [
                          0.3,
                          "#f1b6da"
                        ],
                        [
                          0.4,
                          "#fde0ef"
                        ],
                        [
                          0.5,
                          "#f7f7f7"
                        ],
                        [
                          0.6,
                          "#e6f5d0"
                        ],
                        [
                          0.7,
                          "#b8e186"
                        ],
                        [
                          0.8,
                          "#7fbc41"
                        ],
                        [
                          0.9,
                          "#4d9221"
                        ],
                        [
                          1,
                          "#276419"
                        ]
                      ],
                      "sequential": [
                        [
                          0,
                          "#0d0887"
                        ],
                        [
                          0.1111111111111111,
                          "#46039f"
                        ],
                        [
                          0.2222222222222222,
                          "#7201a8"
                        ],
                        [
                          0.3333333333333333,
                          "#9c179e"
                        ],
                        [
                          0.4444444444444444,
                          "#bd3786"
                        ],
                        [
                          0.5555555555555556,
                          "#d8576b"
                        ],
                        [
                          0.6666666666666666,
                          "#ed7953"
                        ],
                        [
                          0.7777777777777778,
                          "#fb9f3a"
                        ],
                        [
                          0.8888888888888888,
                          "#fdca26"
                        ],
                        [
                          1,
                          "#f0f921"
                        ]
                      ],
                      "sequentialminus": [
                        [
                          0,
                          "#0d0887"
                        ],
                        [
                          0.1111111111111111,
                          "#46039f"
                        ],
                        [
                          0.2222222222222222,
                          "#7201a8"
                        ],
                        [
                          0.3333333333333333,
                          "#9c179e"
                        ],
                        [
                          0.4444444444444444,
                          "#bd3786"
                        ],
                        [
                          0.5555555555555556,
                          "#d8576b"
                        ],
                        [
                          0.6666666666666666,
                          "#ed7953"
                        ],
                        [
                          0.7777777777777778,
                          "#fb9f3a"
                        ],
                        [
                          0.8888888888888888,
                          "#fdca26"
                        ],
                        [
                          1,
                          "#f0f921"
                        ]
                      ]
                    },
                    "colorway": [
                      "#636efa",
                      "#EF553B",
                      "#00cc96",
                      "#ab63fa",
                      "#FFA15A",
                      "#19d3f3",
                      "#FF6692",
                      "#B6E880",
                      "#FF97FF",
                      "#FECB52"
                    ],
                    "font": {
                      "color": "#2a3f5f"
                    },
                    "geo": {
                      "bgcolor": "white",
                      "lakecolor": "white",
                      "landcolor": "#E5ECF6",
                      "showlakes": true,
                      "showland": true,
                      "subunitcolor": "white"
                    },
                    "hoverlabel": {
                      "align": "left"
                    },
                    "hovermode": "closest",
                    "mapbox": {
                      "style": "light"
                    },
                    "paper_bgcolor": "white",
                    "plot_bgcolor": "#E5ECF6",
                    "polar": {
                      "angularaxis": {
                        "gridcolor": "white",
                        "linecolor": "white",
                        "ticks": ""
                      },
                      "bgcolor": "#E5ECF6",
                      "radialaxis": {
                        "gridcolor": "white",
                        "linecolor": "white",
                        "ticks": ""
                      }
                    },
                    "scene": {
                      "xaxis": {
                        "backgroundcolor": "#E5ECF6",
                        "gridcolor": "white",
                        "gridwidth": 2,
                        "linecolor": "white",
                        "showbackground": true,
                        "ticks": "",
                        "zerolinecolor": "white"
                      },
                      "yaxis": {
                        "backgroundcolor": "#E5ECF6",
                        "gridcolor": "white",
                        "gridwidth": 2,
                        "linecolor": "white",
                        "showbackground": true,
                        "ticks": "",
                        "zerolinecolor": "white"
                      },
                      "zaxis": {
                        "backgroundcolor": "#E5ECF6",
                        "gridcolor": "white",
                        "gridwidth": 2,
                        "linecolor": "white",
                        "showbackground": true,
                        "ticks": "",
                        "zerolinecolor": "white"
                      }
                    },
                    "shapedefaults": {
                      "line": {
                        "color": "#2a3f5f"
                      }
                    },
                    "ternary": {
                      "aaxis": {
                        "gridcolor": "white",
                        "linecolor": "white",
                        "ticks": ""
                      },
                      "baxis": {
                        "gridcolor": "white",
                        "linecolor": "white",
                        "ticks": ""
                      },
                      "bgcolor": "#E5ECF6",
                      "caxis": {
                        "gridcolor": "white",
                        "linecolor": "white",
                        "ticks": ""
                      }
                    },
                    "title": {
                      "x": 0.05
                    },
                    "xaxis": {
                      "automargin": true,
                      "gridcolor": "white",
                      "linecolor": "white",
                      "ticks": "",
                      "title": {
                        "standoff": 15
                      },
                      "zerolinecolor": "white",
                      "zerolinewidth": 2
                    },
                    "yaxis": {
                      "automargin": true,
                      "gridcolor": "white",
                      "linecolor": "white",
                      "ticks": "",
                      "title": {
                        "standoff": 15
                      },
                      "zerolinecolor": "white",
                      "zerolinewidth": 2
                    }
                  }
                }
              }
            },
            "text/html": [
              "<div>                            <div id=\"51d962c0-bd30-4de6-9936-c12ac8a5deb8\" class=\"plotly-graph-div\" style=\"height:525px; width:100%;\"></div>            <script type=\"text/javascript\">                require([\"plotly\"], function(Plotly) {                    window.PLOTLYENV=window.PLOTLYENV || {};                                    if (document.getElementById(\"51d962c0-bd30-4de6-9936-c12ac8a5deb8\")) {                    Plotly.newPlot(                        \"51d962c0-bd30-4de6-9936-c12ac8a5deb8\",                        [{\"mode\": \"lines+markers\", \"type\": \"scatter\", \"x\": [0, 1, 2, 3, 4, 5, 6, 7, 8, 9, 10, 11, 12, 13, 14, 15, 16, 17, 18, 19, 20, 21, 22, 23, 24, 25, 26, 27, 28, 29, 30, 31, 32, 33, 34, 35, 36, 37, 38, 39, 40, 41, 42, 43, 44, 45, 46, 47, 48, 49], \"y\": [0.19349079197774852, 0.016161765957363634, 0.013057137970787218, 0.012046535131099469, 0.011625994897031953, 0.011409795042854168, 0.011277007320534408, 0.011184724761082428, 0.011115717390964208, 0.011061971840558774, 0.011019135540909896, 0.010984507056444721, 0.010956242906231714, 0.010933007342446288, 0.010913796404909325, 0.010897837795555244, 0.010884527878399686, 0.010873389147455333, 0.010864040167842677, 0.010856173695624746, 0.010849540429280121, 0.010843936763912506, 0.010839195451207631, 0.010835178400970378, 0.01083177107997744, 0.010828878114509131, 0.010826419808551998, 0.010824329364909596, 0.010822550650669225, 0.01082103638787724, 0.010819746679140582, 0.010818647799171379, 0.010817711199121656, 0.010816912682408041, 0.010816231719668922, 0.010815650877296431, 0.010815155339198697, 0.010814732505476442, 0.01081437165483774, 0.010814063660041048, 0.01081380074760989, 0.010813576294620776, 0.010813384656618574, 0.01081322102172693, 0.010813081286846524, 0.010812961952509659, 0.010812860033515921, 0.010812772982933573, 0.010812698627433297, 0.010812635112239188]}],                        {\"template\": {\"data\": {\"bar\": [{\"error_x\": {\"color\": \"#2a3f5f\"}, \"error_y\": {\"color\": \"#2a3f5f\"}, \"marker\": {\"line\": {\"color\": \"#E5ECF6\", \"width\": 0.5}}, \"type\": \"bar\"}], \"barpolar\": [{\"marker\": {\"line\": {\"color\": \"#E5ECF6\", \"width\": 0.5}}, \"type\": \"barpolar\"}], \"carpet\": [{\"aaxis\": {\"endlinecolor\": \"#2a3f5f\", \"gridcolor\": \"white\", \"linecolor\": \"white\", \"minorgridcolor\": \"white\", \"startlinecolor\": \"#2a3f5f\"}, \"baxis\": {\"endlinecolor\": \"#2a3f5f\", \"gridcolor\": \"white\", \"linecolor\": \"white\", \"minorgridcolor\": \"white\", \"startlinecolor\": \"#2a3f5f\"}, \"type\": \"carpet\"}], \"choropleth\": [{\"colorbar\": {\"outlinewidth\": 0, \"ticks\": \"\"}, \"type\": \"choropleth\"}], \"contour\": [{\"colorbar\": {\"outlinewidth\": 0, \"ticks\": \"\"}, \"colorscale\": [[0.0, \"#0d0887\"], [0.1111111111111111, \"#46039f\"], [0.2222222222222222, \"#7201a8\"], [0.3333333333333333, \"#9c179e\"], [0.4444444444444444, \"#bd3786\"], [0.5555555555555556, \"#d8576b\"], [0.6666666666666666, \"#ed7953\"], [0.7777777777777778, \"#fb9f3a\"], [0.8888888888888888, \"#fdca26\"], [1.0, \"#f0f921\"]], \"type\": \"contour\"}], \"contourcarpet\": [{\"colorbar\": {\"outlinewidth\": 0, \"ticks\": \"\"}, \"type\": \"contourcarpet\"}], \"heatmap\": [{\"colorbar\": {\"outlinewidth\": 0, \"ticks\": \"\"}, \"colorscale\": [[0.0, \"#0d0887\"], [0.1111111111111111, \"#46039f\"], [0.2222222222222222, \"#7201a8\"], [0.3333333333333333, \"#9c179e\"], [0.4444444444444444, \"#bd3786\"], [0.5555555555555556, \"#d8576b\"], [0.6666666666666666, \"#ed7953\"], [0.7777777777777778, \"#fb9f3a\"], [0.8888888888888888, \"#fdca26\"], [1.0, \"#f0f921\"]], \"type\": \"heatmap\"}], \"heatmapgl\": [{\"colorbar\": {\"outlinewidth\": 0, \"ticks\": \"\"}, \"colorscale\": [[0.0, \"#0d0887\"], [0.1111111111111111, \"#46039f\"], [0.2222222222222222, \"#7201a8\"], [0.3333333333333333, \"#9c179e\"], [0.4444444444444444, \"#bd3786\"], [0.5555555555555556, \"#d8576b\"], [0.6666666666666666, \"#ed7953\"], [0.7777777777777778, \"#fb9f3a\"], [0.8888888888888888, \"#fdca26\"], [1.0, \"#f0f921\"]], \"type\": \"heatmapgl\"}], \"histogram\": [{\"marker\": {\"colorbar\": {\"outlinewidth\": 0, \"ticks\": \"\"}}, \"type\": \"histogram\"}], \"histogram2d\": [{\"colorbar\": {\"outlinewidth\": 0, \"ticks\": \"\"}, \"colorscale\": [[0.0, \"#0d0887\"], [0.1111111111111111, \"#46039f\"], [0.2222222222222222, \"#7201a8\"], [0.3333333333333333, \"#9c179e\"], [0.4444444444444444, \"#bd3786\"], [0.5555555555555556, \"#d8576b\"], [0.6666666666666666, \"#ed7953\"], [0.7777777777777778, \"#fb9f3a\"], [0.8888888888888888, \"#fdca26\"], [1.0, \"#f0f921\"]], \"type\": \"histogram2d\"}], \"histogram2dcontour\": [{\"colorbar\": {\"outlinewidth\": 0, \"ticks\": \"\"}, \"colorscale\": [[0.0, \"#0d0887\"], [0.1111111111111111, \"#46039f\"], [0.2222222222222222, \"#7201a8\"], [0.3333333333333333, \"#9c179e\"], [0.4444444444444444, \"#bd3786\"], [0.5555555555555556, \"#d8576b\"], [0.6666666666666666, \"#ed7953\"], [0.7777777777777778, \"#fb9f3a\"], [0.8888888888888888, \"#fdca26\"], [1.0, \"#f0f921\"]], \"type\": \"histogram2dcontour\"}], \"mesh3d\": [{\"colorbar\": {\"outlinewidth\": 0, \"ticks\": \"\"}, \"type\": \"mesh3d\"}], \"parcoords\": [{\"line\": {\"colorbar\": {\"outlinewidth\": 0, \"ticks\": \"\"}}, \"type\": \"parcoords\"}], \"pie\": [{\"automargin\": true, \"type\": \"pie\"}], \"scatter\": [{\"marker\": {\"colorbar\": {\"outlinewidth\": 0, \"ticks\": \"\"}}, \"type\": \"scatter\"}], \"scatter3d\": [{\"line\": {\"colorbar\": {\"outlinewidth\": 0, \"ticks\": \"\"}}, \"marker\": {\"colorbar\": {\"outlinewidth\": 0, \"ticks\": \"\"}}, \"type\": \"scatter3d\"}], \"scattercarpet\": [{\"marker\": {\"colorbar\": {\"outlinewidth\": 0, \"ticks\": \"\"}}, \"type\": \"scattercarpet\"}], \"scattergeo\": [{\"marker\": {\"colorbar\": {\"outlinewidth\": 0, \"ticks\": \"\"}}, \"type\": \"scattergeo\"}], \"scattergl\": [{\"marker\": {\"colorbar\": {\"outlinewidth\": 0, \"ticks\": \"\"}}, \"type\": \"scattergl\"}], \"scattermapbox\": [{\"marker\": {\"colorbar\": {\"outlinewidth\": 0, \"ticks\": \"\"}}, \"type\": \"scattermapbox\"}], \"scatterpolar\": [{\"marker\": {\"colorbar\": {\"outlinewidth\": 0, \"ticks\": \"\"}}, \"type\": \"scatterpolar\"}], \"scatterpolargl\": [{\"marker\": {\"colorbar\": {\"outlinewidth\": 0, \"ticks\": \"\"}}, \"type\": \"scatterpolargl\"}], \"scatterternary\": [{\"marker\": {\"colorbar\": {\"outlinewidth\": 0, \"ticks\": \"\"}}, \"type\": \"scatterternary\"}], \"surface\": [{\"colorbar\": {\"outlinewidth\": 0, \"ticks\": \"\"}, \"colorscale\": [[0.0, \"#0d0887\"], [0.1111111111111111, \"#46039f\"], [0.2222222222222222, \"#7201a8\"], [0.3333333333333333, \"#9c179e\"], [0.4444444444444444, \"#bd3786\"], [0.5555555555555556, \"#d8576b\"], [0.6666666666666666, \"#ed7953\"], [0.7777777777777778, \"#fb9f3a\"], [0.8888888888888888, \"#fdca26\"], [1.0, \"#f0f921\"]], \"type\": \"surface\"}], \"table\": [{\"cells\": {\"fill\": {\"color\": \"#EBF0F8\"}, \"line\": {\"color\": \"white\"}}, \"header\": {\"fill\": {\"color\": \"#C8D4E3\"}, \"line\": {\"color\": \"white\"}}, \"type\": \"table\"}]}, \"layout\": {\"annotationdefaults\": {\"arrowcolor\": \"#2a3f5f\", \"arrowhead\": 0, \"arrowwidth\": 1}, \"coloraxis\": {\"colorbar\": {\"outlinewidth\": 0, \"ticks\": \"\"}}, \"colorscale\": {\"diverging\": [[0, \"#8e0152\"], [0.1, \"#c51b7d\"], [0.2, \"#de77ae\"], [0.3, \"#f1b6da\"], [0.4, \"#fde0ef\"], [0.5, \"#f7f7f7\"], [0.6, \"#e6f5d0\"], [0.7, \"#b8e186\"], [0.8, \"#7fbc41\"], [0.9, \"#4d9221\"], [1, \"#276419\"]], \"sequential\": [[0.0, \"#0d0887\"], [0.1111111111111111, \"#46039f\"], [0.2222222222222222, \"#7201a8\"], [0.3333333333333333, \"#9c179e\"], [0.4444444444444444, \"#bd3786\"], [0.5555555555555556, \"#d8576b\"], [0.6666666666666666, \"#ed7953\"], [0.7777777777777778, \"#fb9f3a\"], [0.8888888888888888, \"#fdca26\"], [1.0, \"#f0f921\"]], \"sequentialminus\": [[0.0, \"#0d0887\"], [0.1111111111111111, \"#46039f\"], [0.2222222222222222, \"#7201a8\"], [0.3333333333333333, \"#9c179e\"], [0.4444444444444444, \"#bd3786\"], [0.5555555555555556, \"#d8576b\"], [0.6666666666666666, \"#ed7953\"], [0.7777777777777778, \"#fb9f3a\"], [0.8888888888888888, \"#fdca26\"], [1.0, \"#f0f921\"]]}, \"colorway\": [\"#636efa\", \"#EF553B\", \"#00cc96\", \"#ab63fa\", \"#FFA15A\", \"#19d3f3\", \"#FF6692\", \"#B6E880\", \"#FF97FF\", \"#FECB52\"], \"font\": {\"color\": \"#2a3f5f\"}, \"geo\": {\"bgcolor\": \"white\", \"lakecolor\": \"white\", \"landcolor\": \"#E5ECF6\", \"showlakes\": true, \"showland\": true, \"subunitcolor\": \"white\"}, \"hoverlabel\": {\"align\": \"left\"}, \"hovermode\": \"closest\", \"mapbox\": {\"style\": \"light\"}, \"paper_bgcolor\": \"white\", \"plot_bgcolor\": \"#E5ECF6\", \"polar\": {\"angularaxis\": {\"gridcolor\": \"white\", \"linecolor\": \"white\", \"ticks\": \"\"}, \"bgcolor\": \"#E5ECF6\", \"radialaxis\": {\"gridcolor\": \"white\", \"linecolor\": \"white\", \"ticks\": \"\"}}, \"scene\": {\"xaxis\": {\"backgroundcolor\": \"#E5ECF6\", \"gridcolor\": \"white\", \"gridwidth\": 2, \"linecolor\": \"white\", \"showbackground\": true, \"ticks\": \"\", \"zerolinecolor\": \"white\"}, \"yaxis\": {\"backgroundcolor\": \"#E5ECF6\", \"gridcolor\": \"white\", \"gridwidth\": 2, \"linecolor\": \"white\", \"showbackground\": true, \"ticks\": \"\", \"zerolinecolor\": \"white\"}, \"zaxis\": {\"backgroundcolor\": \"#E5ECF6\", \"gridcolor\": \"white\", \"gridwidth\": 2, \"linecolor\": \"white\", \"showbackground\": true, \"ticks\": \"\", \"zerolinecolor\": \"white\"}}, \"shapedefaults\": {\"line\": {\"color\": \"#2a3f5f\"}}, \"ternary\": {\"aaxis\": {\"gridcolor\": \"white\", \"linecolor\": \"white\", \"ticks\": \"\"}, \"baxis\": {\"gridcolor\": \"white\", \"linecolor\": \"white\", \"ticks\": \"\"}, \"bgcolor\": \"#E5ECF6\", \"caxis\": {\"gridcolor\": \"white\", \"linecolor\": \"white\", \"ticks\": \"\"}}, \"title\": {\"x\": 0.05}, \"xaxis\": {\"automargin\": true, \"gridcolor\": \"white\", \"linecolor\": \"white\", \"ticks\": \"\", \"title\": {\"standoff\": 15}, \"zerolinecolor\": \"white\", \"zerolinewidth\": 2}, \"yaxis\": {\"automargin\": true, \"gridcolor\": \"white\", \"linecolor\": \"white\", \"ticks\": \"\", \"title\": {\"standoff\": 15}, \"zerolinecolor\": \"white\", \"zerolinewidth\": 2}}}},                        {\"responsive\": true}                    ).then(function(){\n",
              "                            \n",
              "var gd = document.getElementById('51d962c0-bd30-4de6-9936-c12ac8a5deb8');\n",
              "var x = new MutationObserver(function (mutations, observer) {{\n",
              "        var display = window.getComputedStyle(gd).display;\n",
              "        if (!display || display === 'none') {{\n",
              "            console.log([gd, 'removed!']);\n",
              "            Plotly.purge(gd);\n",
              "            observer.disconnect();\n",
              "        }}\n",
              "}});\n",
              "\n",
              "// Listen for the removal of the full notebook cells\n",
              "var notebookContainer = gd.closest('#notebook-container');\n",
              "if (notebookContainer) {{\n",
              "    x.observe(notebookContainer, {childList: true});\n",
              "}}\n",
              "\n",
              "// Listen for the clearing of the current output cell\n",
              "var outputEl = gd.closest('.output');\n",
              "if (outputEl) {{\n",
              "    x.observe(outputEl, {childList: true});\n",
              "}}\n",
              "\n",
              "                        })                };                });            </script>        </div>"
            ]
          },
          "metadata": {
            "tags": []
          }
        }
      ]
    },
    {
      "cell_type": "markdown",
      "metadata": {
        "id": "5tZsQkMe5SKl"
      },
      "source": [
        "### Real vs predicho"
      ]
    },
    {
      "cell_type": "code",
      "metadata": {
        "id": "aPSClapx5SKl"
      },
      "source": [
        "pred = predict(mod[\"W\"],mod[\"b\"],Xmm)"
      ],
      "execution_count": null,
      "outputs": []
    },
    {
      "cell_type": "code",
      "metadata": {
        "id": "2Bo83s7w5SKl",
        "outputId": "2099efbc-28f9-4a5f-fa23-9738065083a3"
      },
      "source": [
        "pred.shape"
      ],
      "execution_count": null,
      "outputs": [
        {
          "output_type": "execute_result",
          "data": {
            "text/plain": [
              "(1, 506)"
            ]
          },
          "metadata": {
            "tags": []
          },
          "execution_count": 97
        }
      ]
    },
    {
      "cell_type": "code",
      "metadata": {
        "id": "6gcoWWHF5SKl"
      },
      "source": [
        "pred_cn_invers =  mmy.inverse_transform(pred.reshape(-1,1))\n",
        "real_con_inver = mmy.inverse_transform(Ymm.reshape(-1,1))"
      ],
      "execution_count": null,
      "outputs": []
    },
    {
      "cell_type": "code",
      "metadata": {
        "id": "HS9JX03-5SKl",
        "outputId": "8da3fe6f-1395-4c53-f873-43868473e651"
      },
      "source": [
        "fig = go.Figure(layout=dict(title=\"Real vs predicho\"))\n",
        "\n",
        "fig.add_trace(go.Scatter(x=list(range(pred.shape[1])),y =pred_cn_invers.ravel(), name=\"predicho\"))\n",
        "fig.add_trace(go.Scatter(x=list(range(pred.shape[1])),y =real_con_inver.ravel(), name=\"real\"))\n",
        "\n",
        "fig.show()"
      ],
      "execution_count": null,
      "outputs": [
        {
          "output_type": "display_data",
          "data": {
            "application/vnd.plotly.v1+json": {
              "config": {
                "plotlyServerURL": "https://plot.ly"
              },
              "data": [
                {
                  "name": "predicho",
                  "type": "scatter",
                  "x": [
                    0,
                    1,
                    2,
                    3,
                    4,
                    5,
                    6,
                    7,
                    8,
                    9,
                    10,
                    11,
                    12,
                    13,
                    14,
                    15,
                    16,
                    17,
                    18,
                    19,
                    20,
                    21,
                    22,
                    23,
                    24,
                    25,
                    26,
                    27,
                    28,
                    29,
                    30,
                    31,
                    32,
                    33,
                    34,
                    35,
                    36,
                    37,
                    38,
                    39,
                    40,
                    41,
                    42,
                    43,
                    44,
                    45,
                    46,
                    47,
                    48,
                    49,
                    50,
                    51,
                    52,
                    53,
                    54,
                    55,
                    56,
                    57,
                    58,
                    59,
                    60,
                    61,
                    62,
                    63,
                    64,
                    65,
                    66,
                    67,
                    68,
                    69,
                    70,
                    71,
                    72,
                    73,
                    74,
                    75,
                    76,
                    77,
                    78,
                    79,
                    80,
                    81,
                    82,
                    83,
                    84,
                    85,
                    86,
                    87,
                    88,
                    89,
                    90,
                    91,
                    92,
                    93,
                    94,
                    95,
                    96,
                    97,
                    98,
                    99,
                    100,
                    101,
                    102,
                    103,
                    104,
                    105,
                    106,
                    107,
                    108,
                    109,
                    110,
                    111,
                    112,
                    113,
                    114,
                    115,
                    116,
                    117,
                    118,
                    119,
                    120,
                    121,
                    122,
                    123,
                    124,
                    125,
                    126,
                    127,
                    128,
                    129,
                    130,
                    131,
                    132,
                    133,
                    134,
                    135,
                    136,
                    137,
                    138,
                    139,
                    140,
                    141,
                    142,
                    143,
                    144,
                    145,
                    146,
                    147,
                    148,
                    149,
                    150,
                    151,
                    152,
                    153,
                    154,
                    155,
                    156,
                    157,
                    158,
                    159,
                    160,
                    161,
                    162,
                    163,
                    164,
                    165,
                    166,
                    167,
                    168,
                    169,
                    170,
                    171,
                    172,
                    173,
                    174,
                    175,
                    176,
                    177,
                    178,
                    179,
                    180,
                    181,
                    182,
                    183,
                    184,
                    185,
                    186,
                    187,
                    188,
                    189,
                    190,
                    191,
                    192,
                    193,
                    194,
                    195,
                    196,
                    197,
                    198,
                    199,
                    200,
                    201,
                    202,
                    203,
                    204,
                    205,
                    206,
                    207,
                    208,
                    209,
                    210,
                    211,
                    212,
                    213,
                    214,
                    215,
                    216,
                    217,
                    218,
                    219,
                    220,
                    221,
                    222,
                    223,
                    224,
                    225,
                    226,
                    227,
                    228,
                    229,
                    230,
                    231,
                    232,
                    233,
                    234,
                    235,
                    236,
                    237,
                    238,
                    239,
                    240,
                    241,
                    242,
                    243,
                    244,
                    245,
                    246,
                    247,
                    248,
                    249,
                    250,
                    251,
                    252,
                    253,
                    254,
                    255,
                    256,
                    257,
                    258,
                    259,
                    260,
                    261,
                    262,
                    263,
                    264,
                    265,
                    266,
                    267,
                    268,
                    269,
                    270,
                    271,
                    272,
                    273,
                    274,
                    275,
                    276,
                    277,
                    278,
                    279,
                    280,
                    281,
                    282,
                    283,
                    284,
                    285,
                    286,
                    287,
                    288,
                    289,
                    290,
                    291,
                    292,
                    293,
                    294,
                    295,
                    296,
                    297,
                    298,
                    299,
                    300,
                    301,
                    302,
                    303,
                    304,
                    305,
                    306,
                    307,
                    308,
                    309,
                    310,
                    311,
                    312,
                    313,
                    314,
                    315,
                    316,
                    317,
                    318,
                    319,
                    320,
                    321,
                    322,
                    323,
                    324,
                    325,
                    326,
                    327,
                    328,
                    329,
                    330,
                    331,
                    332,
                    333,
                    334,
                    335,
                    336,
                    337,
                    338,
                    339,
                    340,
                    341,
                    342,
                    343,
                    344,
                    345,
                    346,
                    347,
                    348,
                    349,
                    350,
                    351,
                    352,
                    353,
                    354,
                    355,
                    356,
                    357,
                    358,
                    359,
                    360,
                    361,
                    362,
                    363,
                    364,
                    365,
                    366,
                    367,
                    368,
                    369,
                    370,
                    371,
                    372,
                    373,
                    374,
                    375,
                    376,
                    377,
                    378,
                    379,
                    380,
                    381,
                    382,
                    383,
                    384,
                    385,
                    386,
                    387,
                    388,
                    389,
                    390,
                    391,
                    392,
                    393,
                    394,
                    395,
                    396,
                    397,
                    398,
                    399,
                    400,
                    401,
                    402,
                    403,
                    404,
                    405,
                    406,
                    407,
                    408,
                    409,
                    410,
                    411,
                    412,
                    413,
                    414,
                    415,
                    416,
                    417,
                    418,
                    419,
                    420,
                    421,
                    422,
                    423,
                    424,
                    425,
                    426,
                    427,
                    428,
                    429,
                    430,
                    431,
                    432,
                    433,
                    434,
                    435,
                    436,
                    437,
                    438,
                    439,
                    440,
                    441,
                    442,
                    443,
                    444,
                    445,
                    446,
                    447,
                    448,
                    449,
                    450,
                    451,
                    452,
                    453,
                    454,
                    455,
                    456,
                    457,
                    458,
                    459,
                    460,
                    461,
                    462,
                    463,
                    464,
                    465,
                    466,
                    467,
                    468,
                    469,
                    470,
                    471,
                    472,
                    473,
                    474,
                    475,
                    476,
                    477,
                    478,
                    479,
                    480,
                    481,
                    482,
                    483,
                    484,
                    485,
                    486,
                    487,
                    488,
                    489,
                    490,
                    491,
                    492,
                    493,
                    494,
                    495,
                    496,
                    497,
                    498,
                    499,
                    500,
                    501,
                    502,
                    503,
                    504,
                    505
                  ],
                  "y": [
                    29.99004485321123,
                    25.03034648858436,
                    30.589085857335483,
                    28.628967883475287,
                    27.976137303407825,
                    25.26218019895301,
                    22.999100517576604,
                    19.558573732529254,
                    11.54990258430257,
                    18.940241063747052,
                    19.037362795212925,
                    21.594991358605107,
                    20.904362121183016,
                    19.558231598682916,
                    19.292851408130723,
                    19.29608754442518,
                    20.52574629033148,
                    16.924403711102762,
                    16.148158798913478,
                    18.396595982466792,
                    12.528071312320867,
                    17.678701761752937,
                    15.857870126076763,
                    13.822639127392693,
                    15.695030902337162,
                    13.382538782369844,
                    15.47529591157925,
                    14.722708601831407,
                    19.577523298333983,
                    20.90794400138371,
                    11.471780633292985,
                    18.0703125239215,
                    8.829563333591336,
                    14.283790737112382,
                    13.713997186294954,
                    23.78464198111109,
                    22.310361407281693,
                    23.08214637859654,
                    22.893981965048315,
                    31.328591331196378,
                    34.196798218928585,
                    28.033018201415445,
                    25.196284604146552,
                    24.608462480767667,
                    22.93851613232696,
                    22.073492960531727,
                    20.412071681332684,
                    18.051329950631125,
                    9.12654098315992,
                    17.2059968466939,
                    21.282951037561602,
                    23.97033688729067,
                    27.660333280007816,
                    24.04146694633578,
                    15.374043457403308,
                    31.175875745314,
                    24.868786857751296,
                    33.09853045187751,
                    21.786725520952288,
                    21.081630098351834,
                    17.874527121120934,
                    18.516180058374996,
                    24.002005231305137,
                    22.596076080123904,
                    23.43872681813917,
                    30.326747238148975,
                    25.489150815071074,
                    21.107386263461613,
                    17.415778194493196,
                    20.780643140378057,
                    25.20239708762248,
                    21.732883009404386,
                    24.54387621428322,
                    24.03876780949673,
                    25.493759904108387,
                    23.962527129865727,
                    22.939618629423247,
                    23.344811019639884,
                    21.270031258242206,
                    22.41066510172895,
                    28.404103703140773,
                    26.992884004743846,
                    26.021662732305654,
                    25.040550098658418,
                    24.782000284241757,
                    27.784903709083835,
                    22.154246991389655,
                    25.86352857992452,
                    30.673178118949423,
                    30.83268590887913,
                    27.098156416947216,
                    27.390167954599796,
                    28.92116366243033,
                    29.04883790767017,
                    27.017124069954324,
                    28.602134270629357,
                    24.70182849387571,
                    35.81078765623008,
                    35.133212872782856,
                    32.260676431247724,
                    24.587018801144243,
                    25.60040813890336,
                    19.749750286202772,
                    20.304616038475753,
                    21.422136386324944,
                    18.520219712800618,
                    17.173614242948783,
                    20.73537418929231,
                    22.647007488608935,
                    19.770096874448168,
                    20.64463518167035,
                    26.52685359959094,
                    20.753190703158538,
                    20.706838412682075,
                    25.15039683623272,
                    20.4056882131242,
                    23.36318538904795,
                    23.667419926175217,
                    20.30789296815659,
                    20.765153166770812,
                    21.909599787366748,
                    22.466751752218578,
                    20.557666881020584,
                    16.375985692275695,
                    20.556589964887408,
                    22.476093270682163,
                    14.618050102381298,
                    15.184195380378599,
                    18.968117770016192,
                    14.06578978510656,
                    20.06386068892725,
                    19.43697439570185,
                    20.086514820127654,
                    15.772784636354714,
                    13.258460003167052,
                    17.296266109689657,
                    15.893278576249442,
                    19.39046676348768,
                    13.833198143662832,
                    16.47291129235576,
                    13.606120857407635,
                    4.003946183818806,
                    14.622092640667356,
                    12.177369077045652,
                    8.739167402932381,
                    12.062802399694629,
                    15.806689506067343,
                    8.52758458357366,
                    9.734849287515209,
                    14.82146162165185,
                    20.861025755715293,
                    18.29141262719504,
                    20.099133569568277,
                    17.285153483196165,
                    22.38895598520246,
                    20.104173190152796,
                    13.587423890510212,
                    33.25154424058429,
                    28.991323978167536,
                    25.590637940274085,
                    32.675604150763974,
                    36.78323116927454,
                    40.58391478266428,
                    41.89833167229407,
                    24.76853768577394,
                    25.345300318538836,
                    37.23347219614632,
                    23.049387639782292,
                    26.382715267160346,
                    26.643560012572262,
                    22.52809326108958,
                    24.266670128219786,
                    22.925036654456125,
                    29.039696779978936,
                    26.47134102342589,
                    30.693327564694293,
                    25.58483137457053,
                    29.105011185290355,
                    31.41840976371106,
                    32.904020209014725,
                    34.738356053884324,
                    27.72291467910216,
                    33.87316704905464,
                    30.960300678755775,
                    22.669982361538572,
                    24.740166186635058,
                    35.90099729646075,
                    33.38873396518239,
                    32.37293392108045,
                    34.50209741845392,
                    30.763296145546292,
                    30.28425398087702,
                    32.92638250788126,
                    32.10006079140609,
                    31.5356790790094,
                    40.84238549624991,
                    36.12843359896059,
                    32.668000964765945,
                    34.70970256987146,
                    30.100316599856743,
                    30.65492439142157,
                    29.249126604008573,
                    37.07729425458613,
                    42.017528843980784,
                    43.17944810715561,
                    22.67224078028771,
                    23.686075171073625,
                    17.852101503283553,
                    23.495035279600256,
                    16.995103606860425,
                    22.391134607178927,
                    17.050606091465166,
                    22.726414125442673,
                    25.2144238807609,
                    11.112763253305495,
                    24.49958291877702,
                    26.583237190383052,
                    28.3558574689666,
                    24.903890606579804,
                    29.68111166158757,
                    33.17630182290894,
                    23.765772937647334,
                    32.136510416676686,
                    29.7254945945521,
                    38.39577007119791,
                    39.85703236318002,
                    37.60521806637887,
                    32.391959306460265,
                    35.46609255145974,
                    31.202560883818045,
                    24.452392315026216,
                    33.29437403418824,
                    38.08599190363313,
                    37.197251371324334,
                    31.701882456430464,
                    25.236883152520893,
                    30.097958181171094,
                    32.731592524221675,
                    28.414249750002234,
                    28.423474010308222,
                    27.309621530230835,
                    23.731784264730354,
                    24.123534133601368,
                    27.39478932386839,
                    16.331767419019588,
                    13.416983981095422,
                    20.03525920481842,
                    19.88486670986114,
                    21.314399937001305,
                    24.11260697156572,
                    24.22359473361382,
                    25.050739607354778,
                    24.968592512955986,
                    30.043612735094555,
                    23.976445907257865,
                    21.69751325627931,
                    37.503426791085694,
                    43.33383692354403,
                    36.47139872135459,
                    34.9605506581795,
                    34.802984273082565,
                    37.16360958276979,
                    41.017476141870176,
                    34.44518714708702,
                    35.8186921917117,
                    28.177486412661484,
                    31.221323969683397,
                    40.85768668072078,
                    39.303956786688445,
                    25.683792990571007,
                    22.279473264478913,
                    27.181352614930763,
                    28.495158919975033,
                    35.5082971721209,
                    36.079677809022954,
                    33.77224777845412,
                    35.61677324783289,
                    34.82748878179034,
                    30.32112055223712,
                    35.27570182215633,
                    38.80432201995514,
                    34.31714697280788,
                    40.34722255927353,
                    44.6731709050679,
                    31.605005151383544,
                    27.352990359243858,
                    20.116100998390838,
                    27.026713503870475,
                    27.203004901535163,
                    26.913688269000307,
                    33.408218079862,
                    34.38706403003601,
                    31.8005050342165,
                    25.810692764392417,
                    24.4220226923083,
                    28.47195634406832,
                    27.373893920321564,
                    19.546183915231033,
                    29.091431648833854,
                    31.914127769425217,
                    30.773688043547345,
                    28.930091850291273,
                    28.86292902988394,
                    32.790388972449406,
                    33.20031621847331,
                    30.732094185597717,
                    35.54668474139265,
                    32.67607138856847,
                    28.63830285214361,
                    23.569594638937772,
                    18.4827809724867,
                    26.850552088082164,
                    23.26284825574474,
                    25.533772774860477,
                    25.48807533432632,
                    20.524011129575918,
                    17.622705033664175,
                    18.374125816627956,
                    24.292323499643683,
                    21.328891272360508,
                    24.888170686731605,
                    24.868219993785193,
                    22.86075644103723,
                    19.437877407678528,
                    25.11939785433514,
                    24.676992016213486,
                    23.688250975093045,
                    19.353774281228585,
                    21.159492734342216,
                    24.248414479896756,
                    21.593501706465005,
                    19.97733018840413,
                    23.330259962049766,
                    22.16105188194767,
                    21.577509736604966,
                    20.628244147886114,
                    20.15764049405325,
                    19.289049179443452,
                    22.161795895779292,
                    21.24468221369626,
                    21.422761427653136,
                    30.35809170676698,
                    22.080281419351017,
                    27.706815798112377,
                    28.558668468980212,
                    16.578935787333986,
                    14.815400114770728,
                    25.287691823892686,
                    27.550891380471583,
                    22.205692014897984,
                    20.501423739594497,
                    20.596088271435146,
                    16.91285932867852,
                    25.44871438593257,
                    14.349754089152704,
                    16.623834500542554,
                    19.664439457887134,
                    22.7412728287456,
                    22.217711589934137,
                    19.215249091199247,
                    22.674763007791693,
                    18.941585326316204,
                    18.197955858620503,
                    20.22404884092282,
                    37.56621321527514,
                    14.163040152676075,
                    15.48535163470507,
                    10.710813379141744,
                    23.710091043656533,
                    32.62093618587591,
                    34.595436011382525,
                    24.915057355535133,
                    25.962165215479214,
                    6.116098183391785,
                    0.758320205817484,
                    25.356349623199154,
                    17.77553176372611,
                    20.2635661630695,
                    15.87792492509535,
                    16.859898461075833,
                    14.532780683491211,
                    18.51067870471283,
                    13.42436432316249,
                    13.057226193106578,
                    3.2518954579417496,
                    8.073350346795793,
                    6.126858892591353,
                    5.6352741790769505,
                    6.445602350610514,
                    14.193557400879593,
                    17.202510295406093,
                    17.303656924221812,
                    9.880713868435409,
                    20.225038246904077,
                    17.94476613096595,
                    20.32104598970631,
                    19.309626355420257,
                    16.329589168917696,
                    6.606699022934283,
                    10.904127980224741,
                    11.926878597622375,
                    17.838158229657196,
                    18.280563885075576,
                    12.988239018845675,
                    7.428675255938818,
                    8.30615639649052,
                    8.015889628144624,
                    19.944783837958735,
                    13.682482089291314,
                    19.854995411164072,
                    15.206078406740012,
                    16.94257817427225,
                    1.6619263884655668,
                    11.776366638839784,
                    -4.267464955050409,
                    9.597142759596668,
                    13.372786917623378,
                    6.885144102582387,
                    6.217846982294613,
                    14.618635510703347,
                    19.611409222885708,
                    18.115924132558956,
                    18.486808867982205,
                    13.135477174645814,
                    14.552940832049627,
                    9.902880120336166,
                    16.286878696999967,
                    14.082214368148643,
                    14.237894344791913,
                    13.034331565950085,
                    18.12416612290539,
                    18.684894011599223,
                    21.483264178829046,
                    17.017423960349984,
                    15.949158956301657,
                    13.381340798754048,
                    14.518012216070966,
                    8.821290512629528,
                    4.88018097803094,
                    13.074415647907008,
                    12.741301239685953,
                    17.328023467067293,
                    18.753420281765447,
                    18.092196038106298,
                    11.522227249841697,
                    11.978853572222784,
                    17.696401113649898,
                    18.14977203480166,
                    17.53883470150316,
                    17.2440697783386,
                    16.513151139187368,
                    19.439594845307624,
                    18.597933570002827,
                    22.549289052211012,
                    15.280142763412782,
                    15.808743643200874,
                    12.654205186160098,
                    12.845434440936096,
                    17.197717603200765,
                    18.524132678299196,
                    19.06505342602475,
                    20.186388480264004,
                    19.79281035505034,
                    22.446613888530713,
                    20.328372939978838,
                    17.867480821387286,
                    14.33157952686989,
                    16.935863687137303,
                    16.990375978380104,
                    18.57786976161392,
                    20.164357521471153,
                    22.961926947631273,
                    22.455194335356023,
                    25.591821195813694,
                    16.359013452856622,
                    16.106573092882286,
                    20.544610203438076,
                    11.531603130209115,
                    19.207779854374913,
                    21.861225008969082,
                    23.4574134977808,
                    27.097663380508,
                    28.57986155734384,
                    21.058475464277947,
                    19.43939322112124,
                    22.22456534020967,
                    19.657760982542516,
                    21.305039286196674,
                    11.866920549487999,
                    8.23913524143392,
                    3.677608856850383,
                    13.78935757584344,
                    15.955800911227511,
                    20.600111513973626,
                    20.59752555478555,
                    16.874838690931085,
                    14.000129868206209,
                    19.09664735488778,
                    21.28518227688093,
                    18.429921372257677,
                    20.46017522507284,
                    23.54669350147682,
                    22.368493241217763,
                    27.642332534648023,
                    26.140775750768157,
                    22.33416837178003
                  ]
                },
                {
                  "name": "real",
                  "type": "scatter",
                  "x": [
                    0,
                    1,
                    2,
                    3,
                    4,
                    5,
                    6,
                    7,
                    8,
                    9,
                    10,
                    11,
                    12,
                    13,
                    14,
                    15,
                    16,
                    17,
                    18,
                    19,
                    20,
                    21,
                    22,
                    23,
                    24,
                    25,
                    26,
                    27,
                    28,
                    29,
                    30,
                    31,
                    32,
                    33,
                    34,
                    35,
                    36,
                    37,
                    38,
                    39,
                    40,
                    41,
                    42,
                    43,
                    44,
                    45,
                    46,
                    47,
                    48,
                    49,
                    50,
                    51,
                    52,
                    53,
                    54,
                    55,
                    56,
                    57,
                    58,
                    59,
                    60,
                    61,
                    62,
                    63,
                    64,
                    65,
                    66,
                    67,
                    68,
                    69,
                    70,
                    71,
                    72,
                    73,
                    74,
                    75,
                    76,
                    77,
                    78,
                    79,
                    80,
                    81,
                    82,
                    83,
                    84,
                    85,
                    86,
                    87,
                    88,
                    89,
                    90,
                    91,
                    92,
                    93,
                    94,
                    95,
                    96,
                    97,
                    98,
                    99,
                    100,
                    101,
                    102,
                    103,
                    104,
                    105,
                    106,
                    107,
                    108,
                    109,
                    110,
                    111,
                    112,
                    113,
                    114,
                    115,
                    116,
                    117,
                    118,
                    119,
                    120,
                    121,
                    122,
                    123,
                    124,
                    125,
                    126,
                    127,
                    128,
                    129,
                    130,
                    131,
                    132,
                    133,
                    134,
                    135,
                    136,
                    137,
                    138,
                    139,
                    140,
                    141,
                    142,
                    143,
                    144,
                    145,
                    146,
                    147,
                    148,
                    149,
                    150,
                    151,
                    152,
                    153,
                    154,
                    155,
                    156,
                    157,
                    158,
                    159,
                    160,
                    161,
                    162,
                    163,
                    164,
                    165,
                    166,
                    167,
                    168,
                    169,
                    170,
                    171,
                    172,
                    173,
                    174,
                    175,
                    176,
                    177,
                    178,
                    179,
                    180,
                    181,
                    182,
                    183,
                    184,
                    185,
                    186,
                    187,
                    188,
                    189,
                    190,
                    191,
                    192,
                    193,
                    194,
                    195,
                    196,
                    197,
                    198,
                    199,
                    200,
                    201,
                    202,
                    203,
                    204,
                    205,
                    206,
                    207,
                    208,
                    209,
                    210,
                    211,
                    212,
                    213,
                    214,
                    215,
                    216,
                    217,
                    218,
                    219,
                    220,
                    221,
                    222,
                    223,
                    224,
                    225,
                    226,
                    227,
                    228,
                    229,
                    230,
                    231,
                    232,
                    233,
                    234,
                    235,
                    236,
                    237,
                    238,
                    239,
                    240,
                    241,
                    242,
                    243,
                    244,
                    245,
                    246,
                    247,
                    248,
                    249,
                    250,
                    251,
                    252,
                    253,
                    254,
                    255,
                    256,
                    257,
                    258,
                    259,
                    260,
                    261,
                    262,
                    263,
                    264,
                    265,
                    266,
                    267,
                    268,
                    269,
                    270,
                    271,
                    272,
                    273,
                    274,
                    275,
                    276,
                    277,
                    278,
                    279,
                    280,
                    281,
                    282,
                    283,
                    284,
                    285,
                    286,
                    287,
                    288,
                    289,
                    290,
                    291,
                    292,
                    293,
                    294,
                    295,
                    296,
                    297,
                    298,
                    299,
                    300,
                    301,
                    302,
                    303,
                    304,
                    305,
                    306,
                    307,
                    308,
                    309,
                    310,
                    311,
                    312,
                    313,
                    314,
                    315,
                    316,
                    317,
                    318,
                    319,
                    320,
                    321,
                    322,
                    323,
                    324,
                    325,
                    326,
                    327,
                    328,
                    329,
                    330,
                    331,
                    332,
                    333,
                    334,
                    335,
                    336,
                    337,
                    338,
                    339,
                    340,
                    341,
                    342,
                    343,
                    344,
                    345,
                    346,
                    347,
                    348,
                    349,
                    350,
                    351,
                    352,
                    353,
                    354,
                    355,
                    356,
                    357,
                    358,
                    359,
                    360,
                    361,
                    362,
                    363,
                    364,
                    365,
                    366,
                    367,
                    368,
                    369,
                    370,
                    371,
                    372,
                    373,
                    374,
                    375,
                    376,
                    377,
                    378,
                    379,
                    380,
                    381,
                    382,
                    383,
                    384,
                    385,
                    386,
                    387,
                    388,
                    389,
                    390,
                    391,
                    392,
                    393,
                    394,
                    395,
                    396,
                    397,
                    398,
                    399,
                    400,
                    401,
                    402,
                    403,
                    404,
                    405,
                    406,
                    407,
                    408,
                    409,
                    410,
                    411,
                    412,
                    413,
                    414,
                    415,
                    416,
                    417,
                    418,
                    419,
                    420,
                    421,
                    422,
                    423,
                    424,
                    425,
                    426,
                    427,
                    428,
                    429,
                    430,
                    431,
                    432,
                    433,
                    434,
                    435,
                    436,
                    437,
                    438,
                    439,
                    440,
                    441,
                    442,
                    443,
                    444,
                    445,
                    446,
                    447,
                    448,
                    449,
                    450,
                    451,
                    452,
                    453,
                    454,
                    455,
                    456,
                    457,
                    458,
                    459,
                    460,
                    461,
                    462,
                    463,
                    464,
                    465,
                    466,
                    467,
                    468,
                    469,
                    470,
                    471,
                    472,
                    473,
                    474,
                    475,
                    476,
                    477,
                    478,
                    479,
                    480,
                    481,
                    482,
                    483,
                    484,
                    485,
                    486,
                    487,
                    488,
                    489,
                    490,
                    491,
                    492,
                    493,
                    494,
                    495,
                    496,
                    497,
                    498,
                    499,
                    500,
                    501,
                    502,
                    503,
                    504,
                    505
                  ],
                  "y": [
                    24,
                    21.6,
                    34.7,
                    33.4,
                    36.2,
                    28.7,
                    22.899999999999995,
                    27.100000000000005,
                    16.5,
                    18.9,
                    15.000000000000002,
                    18.9,
                    21.7,
                    20.4,
                    18.2,
                    19.9,
                    23.1,
                    17.5,
                    20.2,
                    18.2,
                    13.6,
                    19.6,
                    15.2,
                    14.5,
                    15.6,
                    13.900000000000002,
                    16.6,
                    14.799999999999999,
                    18.4,
                    21,
                    12.7,
                    14.5,
                    13.2,
                    13.1,
                    13.499999999999998,
                    18.9,
                    20,
                    21,
                    24.7,
                    30.8,
                    34.9,
                    26.6,
                    25.3,
                    24.7,
                    21.2,
                    19.3,
                    20,
                    16.6,
                    14.4,
                    19.4,
                    19.7,
                    20.5,
                    25,
                    23.4,
                    18.9,
                    35.4,
                    24.7,
                    31.6,
                    23.3,
                    19.6,
                    18.7,
                    16,
                    22.2,
                    25,
                    33,
                    23.5,
                    19.4,
                    22,
                    17.4,
                    20.9,
                    24.2,
                    21.7,
                    22.8,
                    23.4,
                    24.099999999999998,
                    21.4,
                    20,
                    20.8,
                    21.2,
                    20.3,
                    28,
                    23.9,
                    24.799999999999997,
                    22.899999999999995,
                    23.9,
                    26.6,
                    22.5,
                    22.2,
                    23.6,
                    28.7,
                    22.6,
                    22,
                    22.899999999999995,
                    25,
                    20.6,
                    28.4,
                    21.4,
                    38.7,
                    43.8,
                    33.2,
                    27.5,
                    26.5,
                    18.6,
                    19.3,
                    20.1,
                    19.5,
                    19.5,
                    20.4,
                    19.8,
                    19.4,
                    21.7,
                    22.8,
                    18.8,
                    18.7,
                    18.5,
                    18.3,
                    21.2,
                    19.2,
                    20.4,
                    19.3,
                    22,
                    20.3,
                    20.5,
                    17.3,
                    18.8,
                    21.4,
                    15.699999999999998,
                    16.2,
                    18,
                    14.300000000000002,
                    19.2,
                    19.6,
                    23.000000000000004,
                    18.4,
                    15.6,
                    18.1,
                    17.4,
                    17.1,
                    13.3,
                    17.8,
                    14,
                    14.4,
                    13.4,
                    15.6,
                    11.8,
                    13.8,
                    15.6,
                    14.599999999999998,
                    17.8,
                    15.4,
                    21.5,
                    19.6,
                    15.3,
                    19.4,
                    17,
                    15.6,
                    13.1,
                    41.3,
                    24.3,
                    23.3,
                    26.999999999999996,
                    50,
                    50,
                    50,
                    22.7,
                    25,
                    50,
                    23.8,
                    23.8,
                    22.3,
                    17.4,
                    19.1,
                    23.1,
                    23.6,
                    22.6,
                    29.4,
                    23.2,
                    24.6,
                    29.899999999999995,
                    37.2,
                    39.8,
                    36.2,
                    37.9,
                    32.5,
                    26.4,
                    29.599999999999998,
                    50,
                    32,
                    29.8,
                    34.9,
                    37,
                    30.5,
                    36.4,
                    31.099999999999998,
                    29.1,
                    50,
                    33.3,
                    30.3,
                    34.6,
                    34.9,
                    32.9,
                    24.099999999999998,
                    42.3,
                    48.49999999999999,
                    50,
                    22.6,
                    24.399999999999995,
                    22.5,
                    24.399999999999995,
                    20,
                    21.7,
                    19.3,
                    22.4,
                    28.1,
                    23.699999999999996,
                    25,
                    23.3,
                    28.7,
                    21.5,
                    23.000000000000004,
                    26.7,
                    21.7,
                    27.5,
                    30.1,
                    44.8,
                    50,
                    37.6,
                    31.6,
                    46.7,
                    31.500000000000004,
                    24.3,
                    31.7,
                    41.7,
                    48.3,
                    29,
                    24,
                    25.1,
                    31.500000000000004,
                    23.699999999999996,
                    23.3,
                    22,
                    20.1,
                    22.2,
                    23.699999999999996,
                    17.6,
                    18.5,
                    24.3,
                    20.5,
                    24.500000000000004,
                    26.2,
                    24.399999999999995,
                    24.799999999999997,
                    29.599999999999998,
                    42.8,
                    21.9,
                    20.9,
                    44,
                    50,
                    36,
                    30.1,
                    33.8,
                    43.1,
                    48.79999999999999,
                    31,
                    36.5,
                    22.8,
                    30.700000000000003,
                    50,
                    43.5,
                    20.7,
                    21.1,
                    25.200000000000003,
                    24.399999999999995,
                    35.2,
                    32.4,
                    32,
                    33.2,
                    33.1,
                    29.1,
                    35.1,
                    45.4,
                    35.4,
                    46.00000000000001,
                    50,
                    32.2,
                    22,
                    20.1,
                    23.2,
                    22.3,
                    24.799999999999997,
                    28.499999999999996,
                    37.3,
                    27.9,
                    23.9,
                    21.7,
                    28.600000000000005,
                    27.100000000000005,
                    20.3,
                    22.5,
                    29,
                    24.799999999999997,
                    22,
                    26.4,
                    33.1,
                    36.1,
                    28.4,
                    33.4,
                    28.2,
                    22.8,
                    20.3,
                    16.1,
                    22.1,
                    19.4,
                    21.6,
                    23.8,
                    16.2,
                    17.8,
                    19.8,
                    23.1,
                    21,
                    23.8,
                    23.1,
                    20.4,
                    18.5,
                    25,
                    24.6,
                    23.000000000000004,
                    22.2,
                    19.3,
                    22.6,
                    19.8,
                    17.1,
                    19.4,
                    22.2,
                    20.7,
                    21.1,
                    19.5,
                    18.5,
                    20.6,
                    19,
                    18.7,
                    32.7,
                    16.5,
                    23.9,
                    31.2,
                    17.5,
                    17.2,
                    23.1,
                    24.500000000000004,
                    26.6,
                    22.899999999999995,
                    24.099999999999998,
                    18.6,
                    30.1,
                    18.2,
                    20.6,
                    17.8,
                    21.7,
                    22.7,
                    22.6,
                    25,
                    19.9,
                    20.8,
                    16.8,
                    21.9,
                    27.5,
                    21.9,
                    23.1,
                    50,
                    50,
                    50,
                    50,
                    50,
                    13.8,
                    13.8,
                    15.000000000000002,
                    13.900000000000002,
                    13.3,
                    13.1,
                    10.2,
                    10.4,
                    10.9,
                    11.3,
                    12.3,
                    8.8,
                    7.2,
                    10.5,
                    7.3999999999999995,
                    10.2,
                    11.500000000000002,
                    15.1,
                    23.2,
                    9.7,
                    13.8,
                    12.7,
                    13.1,
                    12.5,
                    8.5,
                    5,
                    6.300000000000001,
                    5.6,
                    7.2,
                    12.1,
                    8.3,
                    8.5,
                    5,
                    11.9,
                    27.9,
                    17.2,
                    27.5,
                    15.000000000000002,
                    17.2,
                    17.9,
                    16.3,
                    7,
                    7.2,
                    7.500000000000001,
                    10.4,
                    8.8,
                    8.4,
                    16.7,
                    14.2,
                    20.8,
                    13.4,
                    11.7,
                    8.3,
                    10.2,
                    10.9,
                    11,
                    9.5,
                    14.5,
                    14.1,
                    16.1,
                    14.300000000000002,
                    11.7,
                    13.4,
                    9.6,
                    8.7,
                    8.4,
                    12.799999999999999,
                    10.5,
                    17.1,
                    18.4,
                    15.4,
                    10.799999999999999,
                    11.8,
                    14.9,
                    12.600000000000001,
                    14.1,
                    13,
                    13.4,
                    15.2,
                    16.1,
                    17.8,
                    14.9,
                    14.1,
                    12.7,
                    13.499999999999998,
                    14.9,
                    20,
                    16.4,
                    17.7,
                    19.5,
                    20.2,
                    21.4,
                    19.9,
                    19,
                    19.1,
                    19.1,
                    20.1,
                    19.9,
                    19.6,
                    23.2,
                    29.8,
                    13.8,
                    13.3,
                    16.7,
                    12,
                    14.599999999999998,
                    21.4,
                    23.000000000000004,
                    23.699999999999996,
                    25,
                    21.8,
                    20.6,
                    21.2,
                    19.1,
                    20.6,
                    15.2,
                    7,
                    8.1,
                    13.6,
                    20.1,
                    21.8,
                    24.500000000000004,
                    23.1,
                    19.7,
                    18.3,
                    21.2,
                    17.5,
                    16.8,
                    22.4,
                    20.6,
                    23.9,
                    22,
                    11.9
                  ]
                }
              ],
              "layout": {
                "template": {
                  "data": {
                    "bar": [
                      {
                        "error_x": {
                          "color": "#2a3f5f"
                        },
                        "error_y": {
                          "color": "#2a3f5f"
                        },
                        "marker": {
                          "line": {
                            "color": "#E5ECF6",
                            "width": 0.5
                          }
                        },
                        "type": "bar"
                      }
                    ],
                    "barpolar": [
                      {
                        "marker": {
                          "line": {
                            "color": "#E5ECF6",
                            "width": 0.5
                          }
                        },
                        "type": "barpolar"
                      }
                    ],
                    "carpet": [
                      {
                        "aaxis": {
                          "endlinecolor": "#2a3f5f",
                          "gridcolor": "white",
                          "linecolor": "white",
                          "minorgridcolor": "white",
                          "startlinecolor": "#2a3f5f"
                        },
                        "baxis": {
                          "endlinecolor": "#2a3f5f",
                          "gridcolor": "white",
                          "linecolor": "white",
                          "minorgridcolor": "white",
                          "startlinecolor": "#2a3f5f"
                        },
                        "type": "carpet"
                      }
                    ],
                    "choropleth": [
                      {
                        "colorbar": {
                          "outlinewidth": 0,
                          "ticks": ""
                        },
                        "type": "choropleth"
                      }
                    ],
                    "contour": [
                      {
                        "colorbar": {
                          "outlinewidth": 0,
                          "ticks": ""
                        },
                        "colorscale": [
                          [
                            0,
                            "#0d0887"
                          ],
                          [
                            0.1111111111111111,
                            "#46039f"
                          ],
                          [
                            0.2222222222222222,
                            "#7201a8"
                          ],
                          [
                            0.3333333333333333,
                            "#9c179e"
                          ],
                          [
                            0.4444444444444444,
                            "#bd3786"
                          ],
                          [
                            0.5555555555555556,
                            "#d8576b"
                          ],
                          [
                            0.6666666666666666,
                            "#ed7953"
                          ],
                          [
                            0.7777777777777778,
                            "#fb9f3a"
                          ],
                          [
                            0.8888888888888888,
                            "#fdca26"
                          ],
                          [
                            1,
                            "#f0f921"
                          ]
                        ],
                        "type": "contour"
                      }
                    ],
                    "contourcarpet": [
                      {
                        "colorbar": {
                          "outlinewidth": 0,
                          "ticks": ""
                        },
                        "type": "contourcarpet"
                      }
                    ],
                    "heatmap": [
                      {
                        "colorbar": {
                          "outlinewidth": 0,
                          "ticks": ""
                        },
                        "colorscale": [
                          [
                            0,
                            "#0d0887"
                          ],
                          [
                            0.1111111111111111,
                            "#46039f"
                          ],
                          [
                            0.2222222222222222,
                            "#7201a8"
                          ],
                          [
                            0.3333333333333333,
                            "#9c179e"
                          ],
                          [
                            0.4444444444444444,
                            "#bd3786"
                          ],
                          [
                            0.5555555555555556,
                            "#d8576b"
                          ],
                          [
                            0.6666666666666666,
                            "#ed7953"
                          ],
                          [
                            0.7777777777777778,
                            "#fb9f3a"
                          ],
                          [
                            0.8888888888888888,
                            "#fdca26"
                          ],
                          [
                            1,
                            "#f0f921"
                          ]
                        ],
                        "type": "heatmap"
                      }
                    ],
                    "heatmapgl": [
                      {
                        "colorbar": {
                          "outlinewidth": 0,
                          "ticks": ""
                        },
                        "colorscale": [
                          [
                            0,
                            "#0d0887"
                          ],
                          [
                            0.1111111111111111,
                            "#46039f"
                          ],
                          [
                            0.2222222222222222,
                            "#7201a8"
                          ],
                          [
                            0.3333333333333333,
                            "#9c179e"
                          ],
                          [
                            0.4444444444444444,
                            "#bd3786"
                          ],
                          [
                            0.5555555555555556,
                            "#d8576b"
                          ],
                          [
                            0.6666666666666666,
                            "#ed7953"
                          ],
                          [
                            0.7777777777777778,
                            "#fb9f3a"
                          ],
                          [
                            0.8888888888888888,
                            "#fdca26"
                          ],
                          [
                            1,
                            "#f0f921"
                          ]
                        ],
                        "type": "heatmapgl"
                      }
                    ],
                    "histogram": [
                      {
                        "marker": {
                          "colorbar": {
                            "outlinewidth": 0,
                            "ticks": ""
                          }
                        },
                        "type": "histogram"
                      }
                    ],
                    "histogram2d": [
                      {
                        "colorbar": {
                          "outlinewidth": 0,
                          "ticks": ""
                        },
                        "colorscale": [
                          [
                            0,
                            "#0d0887"
                          ],
                          [
                            0.1111111111111111,
                            "#46039f"
                          ],
                          [
                            0.2222222222222222,
                            "#7201a8"
                          ],
                          [
                            0.3333333333333333,
                            "#9c179e"
                          ],
                          [
                            0.4444444444444444,
                            "#bd3786"
                          ],
                          [
                            0.5555555555555556,
                            "#d8576b"
                          ],
                          [
                            0.6666666666666666,
                            "#ed7953"
                          ],
                          [
                            0.7777777777777778,
                            "#fb9f3a"
                          ],
                          [
                            0.8888888888888888,
                            "#fdca26"
                          ],
                          [
                            1,
                            "#f0f921"
                          ]
                        ],
                        "type": "histogram2d"
                      }
                    ],
                    "histogram2dcontour": [
                      {
                        "colorbar": {
                          "outlinewidth": 0,
                          "ticks": ""
                        },
                        "colorscale": [
                          [
                            0,
                            "#0d0887"
                          ],
                          [
                            0.1111111111111111,
                            "#46039f"
                          ],
                          [
                            0.2222222222222222,
                            "#7201a8"
                          ],
                          [
                            0.3333333333333333,
                            "#9c179e"
                          ],
                          [
                            0.4444444444444444,
                            "#bd3786"
                          ],
                          [
                            0.5555555555555556,
                            "#d8576b"
                          ],
                          [
                            0.6666666666666666,
                            "#ed7953"
                          ],
                          [
                            0.7777777777777778,
                            "#fb9f3a"
                          ],
                          [
                            0.8888888888888888,
                            "#fdca26"
                          ],
                          [
                            1,
                            "#f0f921"
                          ]
                        ],
                        "type": "histogram2dcontour"
                      }
                    ],
                    "mesh3d": [
                      {
                        "colorbar": {
                          "outlinewidth": 0,
                          "ticks": ""
                        },
                        "type": "mesh3d"
                      }
                    ],
                    "parcoords": [
                      {
                        "line": {
                          "colorbar": {
                            "outlinewidth": 0,
                            "ticks": ""
                          }
                        },
                        "type": "parcoords"
                      }
                    ],
                    "pie": [
                      {
                        "automargin": true,
                        "type": "pie"
                      }
                    ],
                    "scatter": [
                      {
                        "marker": {
                          "colorbar": {
                            "outlinewidth": 0,
                            "ticks": ""
                          }
                        },
                        "type": "scatter"
                      }
                    ],
                    "scatter3d": [
                      {
                        "line": {
                          "colorbar": {
                            "outlinewidth": 0,
                            "ticks": ""
                          }
                        },
                        "marker": {
                          "colorbar": {
                            "outlinewidth": 0,
                            "ticks": ""
                          }
                        },
                        "type": "scatter3d"
                      }
                    ],
                    "scattercarpet": [
                      {
                        "marker": {
                          "colorbar": {
                            "outlinewidth": 0,
                            "ticks": ""
                          }
                        },
                        "type": "scattercarpet"
                      }
                    ],
                    "scattergeo": [
                      {
                        "marker": {
                          "colorbar": {
                            "outlinewidth": 0,
                            "ticks": ""
                          }
                        },
                        "type": "scattergeo"
                      }
                    ],
                    "scattergl": [
                      {
                        "marker": {
                          "colorbar": {
                            "outlinewidth": 0,
                            "ticks": ""
                          }
                        },
                        "type": "scattergl"
                      }
                    ],
                    "scattermapbox": [
                      {
                        "marker": {
                          "colorbar": {
                            "outlinewidth": 0,
                            "ticks": ""
                          }
                        },
                        "type": "scattermapbox"
                      }
                    ],
                    "scatterpolar": [
                      {
                        "marker": {
                          "colorbar": {
                            "outlinewidth": 0,
                            "ticks": ""
                          }
                        },
                        "type": "scatterpolar"
                      }
                    ],
                    "scatterpolargl": [
                      {
                        "marker": {
                          "colorbar": {
                            "outlinewidth": 0,
                            "ticks": ""
                          }
                        },
                        "type": "scatterpolargl"
                      }
                    ],
                    "scatterternary": [
                      {
                        "marker": {
                          "colorbar": {
                            "outlinewidth": 0,
                            "ticks": ""
                          }
                        },
                        "type": "scatterternary"
                      }
                    ],
                    "surface": [
                      {
                        "colorbar": {
                          "outlinewidth": 0,
                          "ticks": ""
                        },
                        "colorscale": [
                          [
                            0,
                            "#0d0887"
                          ],
                          [
                            0.1111111111111111,
                            "#46039f"
                          ],
                          [
                            0.2222222222222222,
                            "#7201a8"
                          ],
                          [
                            0.3333333333333333,
                            "#9c179e"
                          ],
                          [
                            0.4444444444444444,
                            "#bd3786"
                          ],
                          [
                            0.5555555555555556,
                            "#d8576b"
                          ],
                          [
                            0.6666666666666666,
                            "#ed7953"
                          ],
                          [
                            0.7777777777777778,
                            "#fb9f3a"
                          ],
                          [
                            0.8888888888888888,
                            "#fdca26"
                          ],
                          [
                            1,
                            "#f0f921"
                          ]
                        ],
                        "type": "surface"
                      }
                    ],
                    "table": [
                      {
                        "cells": {
                          "fill": {
                            "color": "#EBF0F8"
                          },
                          "line": {
                            "color": "white"
                          }
                        },
                        "header": {
                          "fill": {
                            "color": "#C8D4E3"
                          },
                          "line": {
                            "color": "white"
                          }
                        },
                        "type": "table"
                      }
                    ]
                  },
                  "layout": {
                    "annotationdefaults": {
                      "arrowcolor": "#2a3f5f",
                      "arrowhead": 0,
                      "arrowwidth": 1
                    },
                    "coloraxis": {
                      "colorbar": {
                        "outlinewidth": 0,
                        "ticks": ""
                      }
                    },
                    "colorscale": {
                      "diverging": [
                        [
                          0,
                          "#8e0152"
                        ],
                        [
                          0.1,
                          "#c51b7d"
                        ],
                        [
                          0.2,
                          "#de77ae"
                        ],
                        [
                          0.3,
                          "#f1b6da"
                        ],
                        [
                          0.4,
                          "#fde0ef"
                        ],
                        [
                          0.5,
                          "#f7f7f7"
                        ],
                        [
                          0.6,
                          "#e6f5d0"
                        ],
                        [
                          0.7,
                          "#b8e186"
                        ],
                        [
                          0.8,
                          "#7fbc41"
                        ],
                        [
                          0.9,
                          "#4d9221"
                        ],
                        [
                          1,
                          "#276419"
                        ]
                      ],
                      "sequential": [
                        [
                          0,
                          "#0d0887"
                        ],
                        [
                          0.1111111111111111,
                          "#46039f"
                        ],
                        [
                          0.2222222222222222,
                          "#7201a8"
                        ],
                        [
                          0.3333333333333333,
                          "#9c179e"
                        ],
                        [
                          0.4444444444444444,
                          "#bd3786"
                        ],
                        [
                          0.5555555555555556,
                          "#d8576b"
                        ],
                        [
                          0.6666666666666666,
                          "#ed7953"
                        ],
                        [
                          0.7777777777777778,
                          "#fb9f3a"
                        ],
                        [
                          0.8888888888888888,
                          "#fdca26"
                        ],
                        [
                          1,
                          "#f0f921"
                        ]
                      ],
                      "sequentialminus": [
                        [
                          0,
                          "#0d0887"
                        ],
                        [
                          0.1111111111111111,
                          "#46039f"
                        ],
                        [
                          0.2222222222222222,
                          "#7201a8"
                        ],
                        [
                          0.3333333333333333,
                          "#9c179e"
                        ],
                        [
                          0.4444444444444444,
                          "#bd3786"
                        ],
                        [
                          0.5555555555555556,
                          "#d8576b"
                        ],
                        [
                          0.6666666666666666,
                          "#ed7953"
                        ],
                        [
                          0.7777777777777778,
                          "#fb9f3a"
                        ],
                        [
                          0.8888888888888888,
                          "#fdca26"
                        ],
                        [
                          1,
                          "#f0f921"
                        ]
                      ]
                    },
                    "colorway": [
                      "#636efa",
                      "#EF553B",
                      "#00cc96",
                      "#ab63fa",
                      "#FFA15A",
                      "#19d3f3",
                      "#FF6692",
                      "#B6E880",
                      "#FF97FF",
                      "#FECB52"
                    ],
                    "font": {
                      "color": "#2a3f5f"
                    },
                    "geo": {
                      "bgcolor": "white",
                      "lakecolor": "white",
                      "landcolor": "#E5ECF6",
                      "showlakes": true,
                      "showland": true,
                      "subunitcolor": "white"
                    },
                    "hoverlabel": {
                      "align": "left"
                    },
                    "hovermode": "closest",
                    "mapbox": {
                      "style": "light"
                    },
                    "paper_bgcolor": "white",
                    "plot_bgcolor": "#E5ECF6",
                    "polar": {
                      "angularaxis": {
                        "gridcolor": "white",
                        "linecolor": "white",
                        "ticks": ""
                      },
                      "bgcolor": "#E5ECF6",
                      "radialaxis": {
                        "gridcolor": "white",
                        "linecolor": "white",
                        "ticks": ""
                      }
                    },
                    "scene": {
                      "xaxis": {
                        "backgroundcolor": "#E5ECF6",
                        "gridcolor": "white",
                        "gridwidth": 2,
                        "linecolor": "white",
                        "showbackground": true,
                        "ticks": "",
                        "zerolinecolor": "white"
                      },
                      "yaxis": {
                        "backgroundcolor": "#E5ECF6",
                        "gridcolor": "white",
                        "gridwidth": 2,
                        "linecolor": "white",
                        "showbackground": true,
                        "ticks": "",
                        "zerolinecolor": "white"
                      },
                      "zaxis": {
                        "backgroundcolor": "#E5ECF6",
                        "gridcolor": "white",
                        "gridwidth": 2,
                        "linecolor": "white",
                        "showbackground": true,
                        "ticks": "",
                        "zerolinecolor": "white"
                      }
                    },
                    "shapedefaults": {
                      "line": {
                        "color": "#2a3f5f"
                      }
                    },
                    "ternary": {
                      "aaxis": {
                        "gridcolor": "white",
                        "linecolor": "white",
                        "ticks": ""
                      },
                      "baxis": {
                        "gridcolor": "white",
                        "linecolor": "white",
                        "ticks": ""
                      },
                      "bgcolor": "#E5ECF6",
                      "caxis": {
                        "gridcolor": "white",
                        "linecolor": "white",
                        "ticks": ""
                      }
                    },
                    "title": {
                      "x": 0.05
                    },
                    "xaxis": {
                      "automargin": true,
                      "gridcolor": "white",
                      "linecolor": "white",
                      "ticks": "",
                      "title": {
                        "standoff": 15
                      },
                      "zerolinecolor": "white",
                      "zerolinewidth": 2
                    },
                    "yaxis": {
                      "automargin": true,
                      "gridcolor": "white",
                      "linecolor": "white",
                      "ticks": "",
                      "title": {
                        "standoff": 15
                      },
                      "zerolinecolor": "white",
                      "zerolinewidth": 2
                    }
                  }
                },
                "title": {
                  "text": "Real vs predicho"
                }
              }
            },
            "text/html": [
              "<div>                            <div id=\"6e21230a-c8ae-493a-94ab-5bfd1e09c029\" class=\"plotly-graph-div\" style=\"height:525px; width:100%;\"></div>            <script type=\"text/javascript\">                require([\"plotly\"], function(Plotly) {                    window.PLOTLYENV=window.PLOTLYENV || {};                                    if (document.getElementById(\"6e21230a-c8ae-493a-94ab-5bfd1e09c029\")) {                    Plotly.newPlot(                        \"6e21230a-c8ae-493a-94ab-5bfd1e09c029\",                        [{\"name\": \"predicho\", \"type\": \"scatter\", \"x\": [0, 1, 2, 3, 4, 5, 6, 7, 8, 9, 10, 11, 12, 13, 14, 15, 16, 17, 18, 19, 20, 21, 22, 23, 24, 25, 26, 27, 28, 29, 30, 31, 32, 33, 34, 35, 36, 37, 38, 39, 40, 41, 42, 43, 44, 45, 46, 47, 48, 49, 50, 51, 52, 53, 54, 55, 56, 57, 58, 59, 60, 61, 62, 63, 64, 65, 66, 67, 68, 69, 70, 71, 72, 73, 74, 75, 76, 77, 78, 79, 80, 81, 82, 83, 84, 85, 86, 87, 88, 89, 90, 91, 92, 93, 94, 95, 96, 97, 98, 99, 100, 101, 102, 103, 104, 105, 106, 107, 108, 109, 110, 111, 112, 113, 114, 115, 116, 117, 118, 119, 120, 121, 122, 123, 124, 125, 126, 127, 128, 129, 130, 131, 132, 133, 134, 135, 136, 137, 138, 139, 140, 141, 142, 143, 144, 145, 146, 147, 148, 149, 150, 151, 152, 153, 154, 155, 156, 157, 158, 159, 160, 161, 162, 163, 164, 165, 166, 167, 168, 169, 170, 171, 172, 173, 174, 175, 176, 177, 178, 179, 180, 181, 182, 183, 184, 185, 186, 187, 188, 189, 190, 191, 192, 193, 194, 195, 196, 197, 198, 199, 200, 201, 202, 203, 204, 205, 206, 207, 208, 209, 210, 211, 212, 213, 214, 215, 216, 217, 218, 219, 220, 221, 222, 223, 224, 225, 226, 227, 228, 229, 230, 231, 232, 233, 234, 235, 236, 237, 238, 239, 240, 241, 242, 243, 244, 245, 246, 247, 248, 249, 250, 251, 252, 253, 254, 255, 256, 257, 258, 259, 260, 261, 262, 263, 264, 265, 266, 267, 268, 269, 270, 271, 272, 273, 274, 275, 276, 277, 278, 279, 280, 281, 282, 283, 284, 285, 286, 287, 288, 289, 290, 291, 292, 293, 294, 295, 296, 297, 298, 299, 300, 301, 302, 303, 304, 305, 306, 307, 308, 309, 310, 311, 312, 313, 314, 315, 316, 317, 318, 319, 320, 321, 322, 323, 324, 325, 326, 327, 328, 329, 330, 331, 332, 333, 334, 335, 336, 337, 338, 339, 340, 341, 342, 343, 344, 345, 346, 347, 348, 349, 350, 351, 352, 353, 354, 355, 356, 357, 358, 359, 360, 361, 362, 363, 364, 365, 366, 367, 368, 369, 370, 371, 372, 373, 374, 375, 376, 377, 378, 379, 380, 381, 382, 383, 384, 385, 386, 387, 388, 389, 390, 391, 392, 393, 394, 395, 396, 397, 398, 399, 400, 401, 402, 403, 404, 405, 406, 407, 408, 409, 410, 411, 412, 413, 414, 415, 416, 417, 418, 419, 420, 421, 422, 423, 424, 425, 426, 427, 428, 429, 430, 431, 432, 433, 434, 435, 436, 437, 438, 439, 440, 441, 442, 443, 444, 445, 446, 447, 448, 449, 450, 451, 452, 453, 454, 455, 456, 457, 458, 459, 460, 461, 462, 463, 464, 465, 466, 467, 468, 469, 470, 471, 472, 473, 474, 475, 476, 477, 478, 479, 480, 481, 482, 483, 484, 485, 486, 487, 488, 489, 490, 491, 492, 493, 494, 495, 496, 497, 498, 499, 500, 501, 502, 503, 504, 505], \"y\": [29.99004485321123, 25.03034648858436, 30.589085857335483, 28.628967883475287, 27.976137303407825, 25.26218019895301, 22.999100517576604, 19.558573732529254, 11.54990258430257, 18.940241063747052, 19.037362795212925, 21.594991358605107, 20.904362121183016, 19.558231598682916, 19.292851408130723, 19.29608754442518, 20.52574629033148, 16.924403711102762, 16.148158798913478, 18.396595982466792, 12.528071312320867, 17.678701761752937, 15.857870126076763, 13.822639127392693, 15.695030902337162, 13.382538782369844, 15.47529591157925, 14.722708601831407, 19.577523298333983, 20.90794400138371, 11.471780633292985, 18.0703125239215, 8.829563333591336, 14.283790737112382, 13.713997186294954, 23.78464198111109, 22.310361407281693, 23.08214637859654, 22.893981965048315, 31.328591331196378, 34.196798218928585, 28.033018201415445, 25.196284604146552, 24.608462480767667, 22.93851613232696, 22.073492960531727, 20.412071681332684, 18.051329950631125, 9.12654098315992, 17.2059968466939, 21.282951037561602, 23.97033688729067, 27.660333280007816, 24.04146694633578, 15.374043457403308, 31.175875745314, 24.868786857751296, 33.09853045187751, 21.786725520952288, 21.081630098351834, 17.874527121120934, 18.516180058374996, 24.002005231305137, 22.596076080123904, 23.43872681813917, 30.326747238148975, 25.489150815071074, 21.107386263461613, 17.415778194493196, 20.780643140378057, 25.20239708762248, 21.732883009404386, 24.54387621428322, 24.03876780949673, 25.493759904108387, 23.962527129865727, 22.939618629423247, 23.344811019639884, 21.270031258242206, 22.41066510172895, 28.404103703140773, 26.992884004743846, 26.021662732305654, 25.040550098658418, 24.782000284241757, 27.784903709083835, 22.154246991389655, 25.86352857992452, 30.673178118949423, 30.83268590887913, 27.098156416947216, 27.390167954599796, 28.92116366243033, 29.04883790767017, 27.017124069954324, 28.602134270629357, 24.70182849387571, 35.81078765623008, 35.133212872782856, 32.260676431247724, 24.587018801144243, 25.60040813890336, 19.749750286202772, 20.304616038475753, 21.422136386324944, 18.520219712800618, 17.173614242948783, 20.73537418929231, 22.647007488608935, 19.770096874448168, 20.64463518167035, 26.52685359959094, 20.753190703158538, 20.706838412682075, 25.15039683623272, 20.4056882131242, 23.36318538904795, 23.667419926175217, 20.30789296815659, 20.765153166770812, 21.909599787366748, 22.466751752218578, 20.557666881020584, 16.375985692275695, 20.556589964887408, 22.476093270682163, 14.618050102381298, 15.184195380378599, 18.968117770016192, 14.06578978510656, 20.06386068892725, 19.43697439570185, 20.086514820127654, 15.772784636354714, 13.258460003167052, 17.296266109689657, 15.893278576249442, 19.39046676348768, 13.833198143662832, 16.47291129235576, 13.606120857407635, 4.003946183818806, 14.622092640667356, 12.177369077045652, 8.739167402932381, 12.062802399694629, 15.806689506067343, 8.52758458357366, 9.734849287515209, 14.82146162165185, 20.861025755715293, 18.29141262719504, 20.099133569568277, 17.285153483196165, 22.38895598520246, 20.104173190152796, 13.587423890510212, 33.25154424058429, 28.991323978167536, 25.590637940274085, 32.675604150763974, 36.78323116927454, 40.58391478266428, 41.89833167229407, 24.76853768577394, 25.345300318538836, 37.23347219614632, 23.049387639782292, 26.382715267160346, 26.643560012572262, 22.52809326108958, 24.266670128219786, 22.925036654456125, 29.039696779978936, 26.47134102342589, 30.693327564694293, 25.58483137457053, 29.105011185290355, 31.41840976371106, 32.904020209014725, 34.738356053884324, 27.72291467910216, 33.87316704905464, 30.960300678755775, 22.669982361538572, 24.740166186635058, 35.90099729646075, 33.38873396518239, 32.37293392108045, 34.50209741845392, 30.763296145546292, 30.28425398087702, 32.92638250788126, 32.10006079140609, 31.5356790790094, 40.84238549624991, 36.12843359896059, 32.668000964765945, 34.70970256987146, 30.100316599856743, 30.65492439142157, 29.249126604008573, 37.07729425458613, 42.017528843980784, 43.17944810715561, 22.67224078028771, 23.686075171073625, 17.852101503283553, 23.495035279600256, 16.995103606860425, 22.391134607178927, 17.050606091465166, 22.726414125442673, 25.2144238807609, 11.112763253305495, 24.49958291877702, 26.583237190383052, 28.3558574689666, 24.903890606579804, 29.68111166158757, 33.17630182290894, 23.765772937647334, 32.136510416676686, 29.7254945945521, 38.39577007119791, 39.85703236318002, 37.60521806637887, 32.391959306460265, 35.46609255145974, 31.202560883818045, 24.452392315026216, 33.29437403418824, 38.08599190363313, 37.197251371324334, 31.701882456430464, 25.236883152520893, 30.097958181171094, 32.731592524221675, 28.414249750002234, 28.423474010308222, 27.309621530230835, 23.731784264730354, 24.123534133601368, 27.39478932386839, 16.331767419019588, 13.416983981095422, 20.03525920481842, 19.88486670986114, 21.314399937001305, 24.11260697156572, 24.22359473361382, 25.050739607354778, 24.968592512955986, 30.043612735094555, 23.976445907257865, 21.69751325627931, 37.503426791085694, 43.33383692354403, 36.47139872135459, 34.9605506581795, 34.802984273082565, 37.16360958276979, 41.017476141870176, 34.44518714708702, 35.8186921917117, 28.177486412661484, 31.221323969683397, 40.85768668072078, 39.303956786688445, 25.683792990571007, 22.279473264478913, 27.181352614930763, 28.495158919975033, 35.5082971721209, 36.079677809022954, 33.77224777845412, 35.61677324783289, 34.82748878179034, 30.32112055223712, 35.27570182215633, 38.80432201995514, 34.31714697280788, 40.34722255927353, 44.6731709050679, 31.605005151383544, 27.352990359243858, 20.116100998390838, 27.026713503870475, 27.203004901535163, 26.913688269000307, 33.408218079862, 34.38706403003601, 31.8005050342165, 25.810692764392417, 24.4220226923083, 28.47195634406832, 27.373893920321564, 19.546183915231033, 29.091431648833854, 31.914127769425217, 30.773688043547345, 28.930091850291273, 28.86292902988394, 32.790388972449406, 33.20031621847331, 30.732094185597717, 35.54668474139265, 32.67607138856847, 28.63830285214361, 23.569594638937772, 18.4827809724867, 26.850552088082164, 23.26284825574474, 25.533772774860477, 25.48807533432632, 20.524011129575918, 17.622705033664175, 18.374125816627956, 24.292323499643683, 21.328891272360508, 24.888170686731605, 24.868219993785193, 22.86075644103723, 19.437877407678528, 25.11939785433514, 24.676992016213486, 23.688250975093045, 19.353774281228585, 21.159492734342216, 24.248414479896756, 21.593501706465005, 19.97733018840413, 23.330259962049766, 22.16105188194767, 21.577509736604966, 20.628244147886114, 20.15764049405325, 19.289049179443452, 22.161795895779292, 21.24468221369626, 21.422761427653136, 30.35809170676698, 22.080281419351017, 27.706815798112377, 28.558668468980212, 16.578935787333986, 14.815400114770728, 25.287691823892686, 27.550891380471583, 22.205692014897984, 20.501423739594497, 20.596088271435146, 16.91285932867852, 25.44871438593257, 14.349754089152704, 16.623834500542554, 19.664439457887134, 22.7412728287456, 22.217711589934137, 19.215249091199247, 22.674763007791693, 18.941585326316204, 18.197955858620503, 20.22404884092282, 37.56621321527514, 14.163040152676075, 15.48535163470507, 10.710813379141744, 23.710091043656533, 32.62093618587591, 34.595436011382525, 24.915057355535133, 25.962165215479214, 6.116098183391785, 0.758320205817484, 25.356349623199154, 17.77553176372611, 20.2635661630695, 15.87792492509535, 16.859898461075833, 14.532780683491211, 18.51067870471283, 13.42436432316249, 13.057226193106578, 3.2518954579417496, 8.073350346795793, 6.126858892591353, 5.6352741790769505, 6.445602350610514, 14.193557400879593, 17.202510295406093, 17.303656924221812, 9.880713868435409, 20.225038246904077, 17.94476613096595, 20.32104598970631, 19.309626355420257, 16.329589168917696, 6.606699022934283, 10.904127980224741, 11.926878597622375, 17.838158229657196, 18.280563885075576, 12.988239018845675, 7.428675255938818, 8.30615639649052, 8.015889628144624, 19.944783837958735, 13.682482089291314, 19.854995411164072, 15.206078406740012, 16.94257817427225, 1.6619263884655668, 11.776366638839784, -4.267464955050409, 9.597142759596668, 13.372786917623378, 6.885144102582387, 6.217846982294613, 14.618635510703347, 19.611409222885708, 18.115924132558956, 18.486808867982205, 13.135477174645814, 14.552940832049627, 9.902880120336166, 16.286878696999967, 14.082214368148643, 14.237894344791913, 13.034331565950085, 18.12416612290539, 18.684894011599223, 21.483264178829046, 17.017423960349984, 15.949158956301657, 13.381340798754048, 14.518012216070966, 8.821290512629528, 4.88018097803094, 13.074415647907008, 12.741301239685953, 17.328023467067293, 18.753420281765447, 18.092196038106298, 11.522227249841697, 11.978853572222784, 17.696401113649898, 18.14977203480166, 17.53883470150316, 17.2440697783386, 16.513151139187368, 19.439594845307624, 18.597933570002827, 22.549289052211012, 15.280142763412782, 15.808743643200874, 12.654205186160098, 12.845434440936096, 17.197717603200765, 18.524132678299196, 19.06505342602475, 20.186388480264004, 19.79281035505034, 22.446613888530713, 20.328372939978838, 17.867480821387286, 14.33157952686989, 16.935863687137303, 16.990375978380104, 18.57786976161392, 20.164357521471153, 22.961926947631273, 22.455194335356023, 25.591821195813694, 16.359013452856622, 16.106573092882286, 20.544610203438076, 11.531603130209115, 19.207779854374913, 21.861225008969082, 23.4574134977808, 27.097663380508, 28.57986155734384, 21.058475464277947, 19.43939322112124, 22.22456534020967, 19.657760982542516, 21.305039286196674, 11.866920549487999, 8.23913524143392, 3.677608856850383, 13.78935757584344, 15.955800911227511, 20.600111513973626, 20.59752555478555, 16.874838690931085, 14.000129868206209, 19.09664735488778, 21.28518227688093, 18.429921372257677, 20.46017522507284, 23.54669350147682, 22.368493241217763, 27.642332534648023, 26.140775750768157, 22.33416837178003]}, {\"name\": \"real\", \"type\": \"scatter\", \"x\": [0, 1, 2, 3, 4, 5, 6, 7, 8, 9, 10, 11, 12, 13, 14, 15, 16, 17, 18, 19, 20, 21, 22, 23, 24, 25, 26, 27, 28, 29, 30, 31, 32, 33, 34, 35, 36, 37, 38, 39, 40, 41, 42, 43, 44, 45, 46, 47, 48, 49, 50, 51, 52, 53, 54, 55, 56, 57, 58, 59, 60, 61, 62, 63, 64, 65, 66, 67, 68, 69, 70, 71, 72, 73, 74, 75, 76, 77, 78, 79, 80, 81, 82, 83, 84, 85, 86, 87, 88, 89, 90, 91, 92, 93, 94, 95, 96, 97, 98, 99, 100, 101, 102, 103, 104, 105, 106, 107, 108, 109, 110, 111, 112, 113, 114, 115, 116, 117, 118, 119, 120, 121, 122, 123, 124, 125, 126, 127, 128, 129, 130, 131, 132, 133, 134, 135, 136, 137, 138, 139, 140, 141, 142, 143, 144, 145, 146, 147, 148, 149, 150, 151, 152, 153, 154, 155, 156, 157, 158, 159, 160, 161, 162, 163, 164, 165, 166, 167, 168, 169, 170, 171, 172, 173, 174, 175, 176, 177, 178, 179, 180, 181, 182, 183, 184, 185, 186, 187, 188, 189, 190, 191, 192, 193, 194, 195, 196, 197, 198, 199, 200, 201, 202, 203, 204, 205, 206, 207, 208, 209, 210, 211, 212, 213, 214, 215, 216, 217, 218, 219, 220, 221, 222, 223, 224, 225, 226, 227, 228, 229, 230, 231, 232, 233, 234, 235, 236, 237, 238, 239, 240, 241, 242, 243, 244, 245, 246, 247, 248, 249, 250, 251, 252, 253, 254, 255, 256, 257, 258, 259, 260, 261, 262, 263, 264, 265, 266, 267, 268, 269, 270, 271, 272, 273, 274, 275, 276, 277, 278, 279, 280, 281, 282, 283, 284, 285, 286, 287, 288, 289, 290, 291, 292, 293, 294, 295, 296, 297, 298, 299, 300, 301, 302, 303, 304, 305, 306, 307, 308, 309, 310, 311, 312, 313, 314, 315, 316, 317, 318, 319, 320, 321, 322, 323, 324, 325, 326, 327, 328, 329, 330, 331, 332, 333, 334, 335, 336, 337, 338, 339, 340, 341, 342, 343, 344, 345, 346, 347, 348, 349, 350, 351, 352, 353, 354, 355, 356, 357, 358, 359, 360, 361, 362, 363, 364, 365, 366, 367, 368, 369, 370, 371, 372, 373, 374, 375, 376, 377, 378, 379, 380, 381, 382, 383, 384, 385, 386, 387, 388, 389, 390, 391, 392, 393, 394, 395, 396, 397, 398, 399, 400, 401, 402, 403, 404, 405, 406, 407, 408, 409, 410, 411, 412, 413, 414, 415, 416, 417, 418, 419, 420, 421, 422, 423, 424, 425, 426, 427, 428, 429, 430, 431, 432, 433, 434, 435, 436, 437, 438, 439, 440, 441, 442, 443, 444, 445, 446, 447, 448, 449, 450, 451, 452, 453, 454, 455, 456, 457, 458, 459, 460, 461, 462, 463, 464, 465, 466, 467, 468, 469, 470, 471, 472, 473, 474, 475, 476, 477, 478, 479, 480, 481, 482, 483, 484, 485, 486, 487, 488, 489, 490, 491, 492, 493, 494, 495, 496, 497, 498, 499, 500, 501, 502, 503, 504, 505], \"y\": [24.0, 21.6, 34.7, 33.4, 36.2, 28.7, 22.899999999999995, 27.100000000000005, 16.5, 18.9, 15.000000000000002, 18.9, 21.7, 20.4, 18.2, 19.9, 23.1, 17.5, 20.2, 18.2, 13.6, 19.6, 15.2, 14.5, 15.6, 13.900000000000002, 16.6, 14.799999999999999, 18.4, 21.0, 12.7, 14.5, 13.2, 13.1, 13.499999999999998, 18.9, 20.0, 21.0, 24.7, 30.8, 34.9, 26.6, 25.3, 24.7, 21.2, 19.3, 20.0, 16.6, 14.4, 19.4, 19.7, 20.5, 25.0, 23.4, 18.9, 35.4, 24.7, 31.6, 23.3, 19.6, 18.7, 16.0, 22.2, 25.0, 33.0, 23.5, 19.4, 22.0, 17.4, 20.9, 24.2, 21.7, 22.8, 23.4, 24.099999999999998, 21.4, 20.0, 20.8, 21.2, 20.3, 28.0, 23.9, 24.799999999999997, 22.899999999999995, 23.9, 26.6, 22.5, 22.2, 23.6, 28.7, 22.6, 22.0, 22.899999999999995, 25.0, 20.6, 28.4, 21.4, 38.7, 43.8, 33.2, 27.5, 26.5, 18.6, 19.3, 20.1, 19.5, 19.5, 20.4, 19.8, 19.4, 21.7, 22.8, 18.8, 18.7, 18.5, 18.3, 21.2, 19.2, 20.4, 19.3, 22.0, 20.3, 20.5, 17.3, 18.8, 21.4, 15.699999999999998, 16.2, 18.0, 14.300000000000002, 19.2, 19.6, 23.000000000000004, 18.4, 15.6, 18.1, 17.4, 17.1, 13.3, 17.8, 14.0, 14.4, 13.4, 15.6, 11.8, 13.8, 15.6, 14.599999999999998, 17.8, 15.4, 21.5, 19.6, 15.3, 19.4, 17.0, 15.6, 13.1, 41.3, 24.3, 23.3, 26.999999999999996, 50.0, 50.0, 50.0, 22.7, 25.0, 50.0, 23.8, 23.8, 22.3, 17.4, 19.1, 23.1, 23.6, 22.6, 29.4, 23.2, 24.6, 29.899999999999995, 37.2, 39.8, 36.2, 37.9, 32.5, 26.4, 29.599999999999998, 50.0, 32.0, 29.8, 34.9, 37.0, 30.5, 36.4, 31.099999999999998, 29.1, 50.0, 33.3, 30.3, 34.6, 34.9, 32.9, 24.099999999999998, 42.3, 48.49999999999999, 50.0, 22.6, 24.399999999999995, 22.5, 24.399999999999995, 20.0, 21.7, 19.3, 22.4, 28.1, 23.699999999999996, 25.0, 23.3, 28.7, 21.5, 23.000000000000004, 26.7, 21.7, 27.5, 30.1, 44.8, 50.0, 37.6, 31.6, 46.7, 31.500000000000004, 24.3, 31.7, 41.7, 48.3, 29.0, 24.0, 25.1, 31.500000000000004, 23.699999999999996, 23.3, 22.0, 20.1, 22.2, 23.699999999999996, 17.6, 18.5, 24.3, 20.5, 24.500000000000004, 26.2, 24.399999999999995, 24.799999999999997, 29.599999999999998, 42.8, 21.9, 20.9, 44.0, 50.0, 36.0, 30.1, 33.8, 43.1, 48.79999999999999, 31.0, 36.5, 22.8, 30.700000000000003, 50.0, 43.5, 20.7, 21.1, 25.200000000000003, 24.399999999999995, 35.2, 32.4, 32.0, 33.2, 33.1, 29.1, 35.1, 45.4, 35.4, 46.00000000000001, 50.0, 32.2, 22.0, 20.1, 23.2, 22.3, 24.799999999999997, 28.499999999999996, 37.3, 27.9, 23.9, 21.7, 28.600000000000005, 27.100000000000005, 20.3, 22.5, 29.0, 24.799999999999997, 22.0, 26.4, 33.1, 36.1, 28.4, 33.4, 28.2, 22.8, 20.3, 16.1, 22.1, 19.4, 21.6, 23.8, 16.2, 17.8, 19.8, 23.1, 21.0, 23.8, 23.1, 20.4, 18.5, 25.0, 24.6, 23.000000000000004, 22.2, 19.3, 22.6, 19.8, 17.1, 19.4, 22.2, 20.7, 21.1, 19.5, 18.5, 20.6, 19.0, 18.7, 32.7, 16.5, 23.9, 31.2, 17.5, 17.2, 23.1, 24.500000000000004, 26.6, 22.899999999999995, 24.099999999999998, 18.6, 30.1, 18.2, 20.6, 17.8, 21.7, 22.7, 22.6, 25.0, 19.9, 20.8, 16.8, 21.9, 27.5, 21.9, 23.1, 50.0, 50.0, 50.0, 50.0, 50.0, 13.8, 13.8, 15.000000000000002, 13.900000000000002, 13.3, 13.1, 10.2, 10.4, 10.9, 11.3, 12.3, 8.8, 7.2, 10.5, 7.3999999999999995, 10.2, 11.500000000000002, 15.1, 23.2, 9.7, 13.8, 12.7, 13.1, 12.5, 8.5, 5.0, 6.300000000000001, 5.6, 7.2, 12.1, 8.3, 8.5, 5.0, 11.9, 27.9, 17.2, 27.5, 15.000000000000002, 17.2, 17.9, 16.3, 7.0, 7.2, 7.500000000000001, 10.4, 8.8, 8.4, 16.7, 14.2, 20.8, 13.4, 11.7, 8.3, 10.2, 10.9, 11.0, 9.5, 14.5, 14.1, 16.1, 14.300000000000002, 11.7, 13.4, 9.6, 8.7, 8.4, 12.799999999999999, 10.5, 17.1, 18.4, 15.4, 10.799999999999999, 11.8, 14.9, 12.600000000000001, 14.1, 13.0, 13.4, 15.2, 16.1, 17.8, 14.9, 14.1, 12.7, 13.499999999999998, 14.9, 20.0, 16.4, 17.7, 19.5, 20.2, 21.4, 19.9, 19.0, 19.1, 19.1, 20.1, 19.9, 19.6, 23.2, 29.8, 13.8, 13.3, 16.7, 12.0, 14.599999999999998, 21.4, 23.000000000000004, 23.699999999999996, 25.0, 21.8, 20.6, 21.2, 19.1, 20.6, 15.2, 7.0, 8.1, 13.6, 20.1, 21.8, 24.500000000000004, 23.1, 19.7, 18.3, 21.2, 17.5, 16.8, 22.4, 20.6, 23.9, 22.0, 11.9]}],                        {\"template\": {\"data\": {\"bar\": [{\"error_x\": {\"color\": \"#2a3f5f\"}, \"error_y\": {\"color\": \"#2a3f5f\"}, \"marker\": {\"line\": {\"color\": \"#E5ECF6\", \"width\": 0.5}}, \"type\": \"bar\"}], \"barpolar\": [{\"marker\": {\"line\": {\"color\": \"#E5ECF6\", \"width\": 0.5}}, \"type\": \"barpolar\"}], \"carpet\": [{\"aaxis\": {\"endlinecolor\": \"#2a3f5f\", \"gridcolor\": \"white\", \"linecolor\": \"white\", \"minorgridcolor\": \"white\", \"startlinecolor\": \"#2a3f5f\"}, \"baxis\": {\"endlinecolor\": \"#2a3f5f\", \"gridcolor\": \"white\", \"linecolor\": \"white\", \"minorgridcolor\": \"white\", \"startlinecolor\": \"#2a3f5f\"}, \"type\": \"carpet\"}], \"choropleth\": [{\"colorbar\": {\"outlinewidth\": 0, \"ticks\": \"\"}, \"type\": \"choropleth\"}], \"contour\": [{\"colorbar\": {\"outlinewidth\": 0, \"ticks\": \"\"}, \"colorscale\": [[0.0, \"#0d0887\"], [0.1111111111111111, \"#46039f\"], [0.2222222222222222, \"#7201a8\"], [0.3333333333333333, \"#9c179e\"], [0.4444444444444444, \"#bd3786\"], [0.5555555555555556, \"#d8576b\"], [0.6666666666666666, \"#ed7953\"], [0.7777777777777778, \"#fb9f3a\"], [0.8888888888888888, \"#fdca26\"], [1.0, \"#f0f921\"]], \"type\": \"contour\"}], \"contourcarpet\": [{\"colorbar\": {\"outlinewidth\": 0, \"ticks\": \"\"}, \"type\": \"contourcarpet\"}], \"heatmap\": [{\"colorbar\": {\"outlinewidth\": 0, \"ticks\": \"\"}, \"colorscale\": [[0.0, \"#0d0887\"], [0.1111111111111111, \"#46039f\"], [0.2222222222222222, \"#7201a8\"], [0.3333333333333333, \"#9c179e\"], [0.4444444444444444, \"#bd3786\"], [0.5555555555555556, \"#d8576b\"], [0.6666666666666666, \"#ed7953\"], [0.7777777777777778, \"#fb9f3a\"], [0.8888888888888888, \"#fdca26\"], [1.0, \"#f0f921\"]], \"type\": \"heatmap\"}], \"heatmapgl\": [{\"colorbar\": {\"outlinewidth\": 0, \"ticks\": \"\"}, \"colorscale\": [[0.0, \"#0d0887\"], [0.1111111111111111, \"#46039f\"], [0.2222222222222222, \"#7201a8\"], [0.3333333333333333, \"#9c179e\"], [0.4444444444444444, \"#bd3786\"], [0.5555555555555556, \"#d8576b\"], [0.6666666666666666, \"#ed7953\"], [0.7777777777777778, \"#fb9f3a\"], [0.8888888888888888, \"#fdca26\"], [1.0, \"#f0f921\"]], \"type\": \"heatmapgl\"}], \"histogram\": [{\"marker\": {\"colorbar\": {\"outlinewidth\": 0, \"ticks\": \"\"}}, \"type\": \"histogram\"}], \"histogram2d\": [{\"colorbar\": {\"outlinewidth\": 0, \"ticks\": \"\"}, \"colorscale\": [[0.0, \"#0d0887\"], [0.1111111111111111, \"#46039f\"], [0.2222222222222222, \"#7201a8\"], [0.3333333333333333, \"#9c179e\"], [0.4444444444444444, \"#bd3786\"], [0.5555555555555556, \"#d8576b\"], [0.6666666666666666, \"#ed7953\"], [0.7777777777777778, \"#fb9f3a\"], [0.8888888888888888, \"#fdca26\"], [1.0, \"#f0f921\"]], \"type\": \"histogram2d\"}], \"histogram2dcontour\": [{\"colorbar\": {\"outlinewidth\": 0, \"ticks\": \"\"}, \"colorscale\": [[0.0, \"#0d0887\"], [0.1111111111111111, \"#46039f\"], [0.2222222222222222, \"#7201a8\"], [0.3333333333333333, \"#9c179e\"], [0.4444444444444444, \"#bd3786\"], [0.5555555555555556, \"#d8576b\"], [0.6666666666666666, \"#ed7953\"], [0.7777777777777778, \"#fb9f3a\"], [0.8888888888888888, \"#fdca26\"], [1.0, \"#f0f921\"]], \"type\": \"histogram2dcontour\"}], \"mesh3d\": [{\"colorbar\": {\"outlinewidth\": 0, \"ticks\": \"\"}, \"type\": \"mesh3d\"}], \"parcoords\": [{\"line\": {\"colorbar\": {\"outlinewidth\": 0, \"ticks\": \"\"}}, \"type\": \"parcoords\"}], \"pie\": [{\"automargin\": true, \"type\": \"pie\"}], \"scatter\": [{\"marker\": {\"colorbar\": {\"outlinewidth\": 0, \"ticks\": \"\"}}, \"type\": \"scatter\"}], \"scatter3d\": [{\"line\": {\"colorbar\": {\"outlinewidth\": 0, \"ticks\": \"\"}}, \"marker\": {\"colorbar\": {\"outlinewidth\": 0, \"ticks\": \"\"}}, \"type\": \"scatter3d\"}], \"scattercarpet\": [{\"marker\": {\"colorbar\": {\"outlinewidth\": 0, \"ticks\": \"\"}}, \"type\": \"scattercarpet\"}], \"scattergeo\": [{\"marker\": {\"colorbar\": {\"outlinewidth\": 0, \"ticks\": \"\"}}, \"type\": \"scattergeo\"}], \"scattergl\": [{\"marker\": {\"colorbar\": {\"outlinewidth\": 0, \"ticks\": \"\"}}, \"type\": \"scattergl\"}], \"scattermapbox\": [{\"marker\": {\"colorbar\": {\"outlinewidth\": 0, \"ticks\": \"\"}}, \"type\": \"scattermapbox\"}], \"scatterpolar\": [{\"marker\": {\"colorbar\": {\"outlinewidth\": 0, \"ticks\": \"\"}}, \"type\": \"scatterpolar\"}], \"scatterpolargl\": [{\"marker\": {\"colorbar\": {\"outlinewidth\": 0, \"ticks\": \"\"}}, \"type\": \"scatterpolargl\"}], \"scatterternary\": [{\"marker\": {\"colorbar\": {\"outlinewidth\": 0, \"ticks\": \"\"}}, \"type\": \"scatterternary\"}], \"surface\": [{\"colorbar\": {\"outlinewidth\": 0, \"ticks\": \"\"}, \"colorscale\": [[0.0, \"#0d0887\"], [0.1111111111111111, \"#46039f\"], [0.2222222222222222, \"#7201a8\"], [0.3333333333333333, \"#9c179e\"], [0.4444444444444444, \"#bd3786\"], [0.5555555555555556, \"#d8576b\"], [0.6666666666666666, \"#ed7953\"], [0.7777777777777778, \"#fb9f3a\"], [0.8888888888888888, \"#fdca26\"], [1.0, \"#f0f921\"]], \"type\": \"surface\"}], \"table\": [{\"cells\": {\"fill\": {\"color\": \"#EBF0F8\"}, \"line\": {\"color\": \"white\"}}, \"header\": {\"fill\": {\"color\": \"#C8D4E3\"}, \"line\": {\"color\": \"white\"}}, \"type\": \"table\"}]}, \"layout\": {\"annotationdefaults\": {\"arrowcolor\": \"#2a3f5f\", \"arrowhead\": 0, \"arrowwidth\": 1}, \"coloraxis\": {\"colorbar\": {\"outlinewidth\": 0, \"ticks\": \"\"}}, \"colorscale\": {\"diverging\": [[0, \"#8e0152\"], [0.1, \"#c51b7d\"], [0.2, \"#de77ae\"], [0.3, \"#f1b6da\"], [0.4, \"#fde0ef\"], [0.5, \"#f7f7f7\"], [0.6, \"#e6f5d0\"], [0.7, \"#b8e186\"], [0.8, \"#7fbc41\"], [0.9, \"#4d9221\"], [1, \"#276419\"]], \"sequential\": [[0.0, \"#0d0887\"], [0.1111111111111111, \"#46039f\"], [0.2222222222222222, \"#7201a8\"], [0.3333333333333333, \"#9c179e\"], [0.4444444444444444, \"#bd3786\"], [0.5555555555555556, \"#d8576b\"], [0.6666666666666666, \"#ed7953\"], [0.7777777777777778, \"#fb9f3a\"], [0.8888888888888888, \"#fdca26\"], [1.0, \"#f0f921\"]], \"sequentialminus\": [[0.0, \"#0d0887\"], [0.1111111111111111, \"#46039f\"], [0.2222222222222222, \"#7201a8\"], [0.3333333333333333, \"#9c179e\"], [0.4444444444444444, \"#bd3786\"], [0.5555555555555556, \"#d8576b\"], [0.6666666666666666, \"#ed7953\"], [0.7777777777777778, \"#fb9f3a\"], [0.8888888888888888, \"#fdca26\"], [1.0, \"#f0f921\"]]}, \"colorway\": [\"#636efa\", \"#EF553B\", \"#00cc96\", \"#ab63fa\", \"#FFA15A\", \"#19d3f3\", \"#FF6692\", \"#B6E880\", \"#FF97FF\", \"#FECB52\"], \"font\": {\"color\": \"#2a3f5f\"}, \"geo\": {\"bgcolor\": \"white\", \"lakecolor\": \"white\", \"landcolor\": \"#E5ECF6\", \"showlakes\": true, \"showland\": true, \"subunitcolor\": \"white\"}, \"hoverlabel\": {\"align\": \"left\"}, \"hovermode\": \"closest\", \"mapbox\": {\"style\": \"light\"}, \"paper_bgcolor\": \"white\", \"plot_bgcolor\": \"#E5ECF6\", \"polar\": {\"angularaxis\": {\"gridcolor\": \"white\", \"linecolor\": \"white\", \"ticks\": \"\"}, \"bgcolor\": \"#E5ECF6\", \"radialaxis\": {\"gridcolor\": \"white\", \"linecolor\": \"white\", \"ticks\": \"\"}}, \"scene\": {\"xaxis\": {\"backgroundcolor\": \"#E5ECF6\", \"gridcolor\": \"white\", \"gridwidth\": 2, \"linecolor\": \"white\", \"showbackground\": true, \"ticks\": \"\", \"zerolinecolor\": \"white\"}, \"yaxis\": {\"backgroundcolor\": \"#E5ECF6\", \"gridcolor\": \"white\", \"gridwidth\": 2, \"linecolor\": \"white\", \"showbackground\": true, \"ticks\": \"\", \"zerolinecolor\": \"white\"}, \"zaxis\": {\"backgroundcolor\": \"#E5ECF6\", \"gridcolor\": \"white\", \"gridwidth\": 2, \"linecolor\": \"white\", \"showbackground\": true, \"ticks\": \"\", \"zerolinecolor\": \"white\"}}, \"shapedefaults\": {\"line\": {\"color\": \"#2a3f5f\"}}, \"ternary\": {\"aaxis\": {\"gridcolor\": \"white\", \"linecolor\": \"white\", \"ticks\": \"\"}, \"baxis\": {\"gridcolor\": \"white\", \"linecolor\": \"white\", \"ticks\": \"\"}, \"bgcolor\": \"#E5ECF6\", \"caxis\": {\"gridcolor\": \"white\", \"linecolor\": \"white\", \"ticks\": \"\"}}, \"title\": {\"x\": 0.05}, \"xaxis\": {\"automargin\": true, \"gridcolor\": \"white\", \"linecolor\": \"white\", \"ticks\": \"\", \"title\": {\"standoff\": 15}, \"zerolinecolor\": \"white\", \"zerolinewidth\": 2}, \"yaxis\": {\"automargin\": true, \"gridcolor\": \"white\", \"linecolor\": \"white\", \"ticks\": \"\", \"title\": {\"standoff\": 15}, \"zerolinecolor\": \"white\", \"zerolinewidth\": 2}}}, \"title\": {\"text\": \"Real vs predicho\"}},                        {\"responsive\": true}                    ).then(function(){\n",
              "                            \n",
              "var gd = document.getElementById('6e21230a-c8ae-493a-94ab-5bfd1e09c029');\n",
              "var x = new MutationObserver(function (mutations, observer) {{\n",
              "        var display = window.getComputedStyle(gd).display;\n",
              "        if (!display || display === 'none') {{\n",
              "            console.log([gd, 'removed!']);\n",
              "            Plotly.purge(gd);\n",
              "            observer.disconnect();\n",
              "        }}\n",
              "}});\n",
              "\n",
              "// Listen for the removal of the full notebook cells\n",
              "var notebookContainer = gd.closest('#notebook-container');\n",
              "if (notebookContainer) {{\n",
              "    x.observe(notebookContainer, {childList: true});\n",
              "}}\n",
              "\n",
              "// Listen for the clearing of the current output cell\n",
              "var outputEl = gd.closest('.output');\n",
              "if (outputEl) {{\n",
              "    x.observe(outputEl, {childList: true});\n",
              "}}\n",
              "\n",
              "                        })                };                });            </script>        </div>"
            ]
          },
          "metadata": {
            "tags": []
          }
        }
      ]
    },
    {
      "cell_type": "code",
      "metadata": {
        "id": "5PoKDtBt5SKm"
      },
      "source": [
        ""
      ],
      "execution_count": null,
      "outputs": []
    }
  ]
}